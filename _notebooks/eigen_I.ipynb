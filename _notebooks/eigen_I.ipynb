{
 "cells": [
  {
   "cell_type": "markdown",
   "id": "67d56cb5",
   "metadata": {},
   "source": [
    "\n",
    "<a id='eigen'></a>"
   ]
  },
  {
   "cell_type": "markdown",
   "id": "7929b4ad",
   "metadata": {},
   "source": [
    "# Eigenvalues and Eigenvectors\n",
    "\n",
    "\n",
    "<a id='index-0'></a>"
   ]
  },
  {
   "cell_type": "markdown",
   "id": "bcd6be00",
   "metadata": {},
   "source": [
    "## Overview\n",
    "\n",
    "Eigenvalues and eigenvectors are a relatively advanced topic in linear algebra.\n",
    "\n",
    "At the same time, these concepts are extremely useful for\n",
    "\n",
    "- economic modeling (especially dynamics!)  \n",
    "- statistics  \n",
    "- some parts of applied mathematics  \n",
    "- machine learning  \n",
    "- and many other fields of science.  \n",
    "\n",
    "\n",
    "In this lecture we explain the basics of eigenvalues and eigenvectors and introduce the Neumann Series Lemma.\n",
    "\n",
    "We assume in this lecture that students are familiar with matrices\n",
    "and understand [the basics of matrix algebra](https://intro.quantecon.org/linear_equations.html).\n",
    "\n",
    "We will use the following imports:"
   ]
  },
  {
   "cell_type": "code",
   "execution_count": null,
   "id": "d3ccbcb6",
   "metadata": {
    "hide-output": false
   },
   "outputs": [],
   "source": [
    "import matplotlib.pyplot as plt\n",
    "import numpy as np\n",
    "from numpy.linalg import matrix_power\n",
    "from matplotlib.lines import Line2D\n",
    "from matplotlib.patches import FancyArrowPatch\n",
    "from mpl_toolkits.mplot3d import proj3d"
   ]
  },
  {
   "cell_type": "markdown",
   "id": "fbfbf2ba",
   "metadata": {},
   "source": [
    "\n",
    "<a id='matrices-as-transformation'></a>"
   ]
  },
  {
   "cell_type": "markdown",
   "id": "594ea119",
   "metadata": {},
   "source": [
    "## Matrices as transformations\n",
    "\n",
    "Let’s start by discussing an important concept concerning matrices."
   ]
  },
  {
   "cell_type": "markdown",
   "id": "1f301e8c",
   "metadata": {},
   "source": [
    "### Mapping vectors to vectors\n",
    "\n",
    "One way to think about a matrix is as a rectangular collection of\n",
    "numbers.\n",
    "\n",
    "Another way to think about a matrix is as a *map* (i.e., as a function) that\n",
    "transforms vectors to new vectors.\n",
    "\n",
    "To understand the second point of view, suppose we multiply an $ n \\times m $\n",
    "matrix $ A $ with an $ m \\times 1 $ column vector $ x $ to obtain an $ n \\times 1 $\n",
    "column vector $ y $:\n",
    "\n",
    "$$\n",
    "Ax = y\n",
    "$$\n",
    "\n",
    "If we fix $ A $ and consider different choices of $ x $, we can understand $ A $ as\n",
    "a map transforming $ x $ to $ Ax $.\n",
    "\n",
    "Because $ A $ is $ n \\times m $, it transforms $ m $-vectors to $ n $-vectors.\n",
    "\n",
    "We can write this formally as $ A \\colon \\mathbb{R}^m \\rightarrow \\mathbb{R}^n $.\n",
    "\n",
    "You might argue that if $ A $ is a function then we should write\n",
    "$ A(x) = y $ rather than $ Ax = y $ but the second notation is more conventional."
   ]
  },
  {
   "cell_type": "markdown",
   "id": "749a31c3",
   "metadata": {},
   "source": [
    "### Square matrices\n",
    "\n",
    "Let’s restrict our discussion to square matrices.\n",
    "\n",
    "In the above discussion, this means that $ m=n $ and $ A $ maps $ \\mathbb R^n $ to\n",
    "itself.\n",
    "\n",
    "This means $ A $ is an $ n \\times n $ matrix that maps (or “transforms”) a vector\n",
    "$ x $ in $ \\mathbb{R}^n $ to a new vector $ y=Ax $ also in $ \\mathbb{R}^n $.\n",
    "\n",
    "Here’s one example:\n",
    "\n",
    "$$\n",
    "\\begin{bmatrix}\n",
    "        2 & 1 \\\\\n",
    "        -1 & 1\n",
    "    \\end{bmatrix}\n",
    "    \\begin{bmatrix}\n",
    "        1 \\\\\n",
    "        3\n",
    "    \\end{bmatrix}\n",
    "    =\n",
    "    \\begin{bmatrix}\n",
    "        5 \\\\\n",
    "        2\n",
    "    \\end{bmatrix}\n",
    "$$\n",
    "\n",
    "Here, the matrix\n",
    "\n",
    "$$\n",
    "A = \\begin{bmatrix} 2 & 1 \\\\ \n",
    "                        -1 & 1 \n",
    "        \\end{bmatrix}\n",
    "$$\n",
    "\n",
    "transforms the vector $ x = \\begin{bmatrix} 1 \\\\ 3 \\end{bmatrix} $ to the vector\n",
    "$ y = \\begin{bmatrix} 5 \\\\ 2 \\end{bmatrix} $.\n",
    "\n",
    "Let’s visualize this using Python:"
   ]
  },
  {
   "cell_type": "code",
   "execution_count": null,
   "id": "3877fde2",
   "metadata": {
    "hide-output": false
   },
   "outputs": [],
   "source": [
    "A = np.array([[2,  1],\n",
    "              [-1, 1]])"
   ]
  },
  {
   "cell_type": "code",
   "execution_count": null,
   "id": "be8cdc86",
   "metadata": {
    "hide-output": false
   },
   "outputs": [],
   "source": [
    "from math import sqrt\n",
    "\n",
    "fig, ax = plt.subplots()\n",
    "# Set the axes through the origin\n",
    "\n",
    "for spine in ['left', 'bottom']:\n",
    "    ax.spines[spine].set_position('zero')\n",
    "for spine in ['right', 'top']:\n",
    "    ax.spines[spine].set_color('none')\n",
    "\n",
    "ax.set(xlim=(-2, 6), ylim=(-2, 4), aspect=1)\n",
    "\n",
    "vecs = ((1, 3), (5, 2))\n",
    "c = ['r', 'black']\n",
    "for i, v in enumerate(vecs):\n",
    "    ax.annotate('', xy=v, xytext=(0, 0),\n",
    "                arrowprops=dict(color=c[i],\n",
    "                shrink=0,\n",
    "                alpha=0.7,\n",
    "                width=0.5))\n",
    "\n",
    "ax.text(0.2 + 1, 0.2 + 3, 'x=$(1,3)$')\n",
    "ax.text(0.2 + 5, 0.2 + 2, 'Ax=$(5,2)$')\n",
    "\n",
    "ax.annotate('', xy=(sqrt(10/29) * 5, sqrt(10/29) * 2), xytext=(0, 0),\n",
    "            arrowprops=dict(color='purple',\n",
    "                            shrink=0,\n",
    "                            alpha=0.7,\n",
    "                            width=0.5))\n",
    "\n",
    "ax.annotate('', xy=(1, 2/5), xytext=(1/3, 1),\n",
    "            arrowprops={'arrowstyle': '->',\n",
    "                        'connectionstyle': 'arc3,rad=-0.3'},\n",
    "            horizontalalignment='center')\n",
    "ax.text(0.8, 0.8, f'θ', fontsize=14)\n",
    "\n",
    "plt.show()"
   ]
  },
  {
   "cell_type": "markdown",
   "id": "386a83bb",
   "metadata": {},
   "source": [
    "One way to understand this transformation is that $ A $\n",
    "\n",
    "- first rotates $ x $ by some angle $ \\theta $ and  \n",
    "- then scales it by some scalar $ \\gamma $ to obtain the image $ y $ of $ x $.  "
   ]
  },
  {
   "cell_type": "markdown",
   "id": "bff569d4",
   "metadata": {},
   "source": [
    "## Types of transformations\n",
    "\n",
    "Let’s examine some standard transformations we can perform with matrices.\n",
    "\n",
    "Below we visualize transformations by thinking of vectors as points\n",
    "instead of arrows.\n",
    "\n",
    "We consider how a given matrix transforms\n",
    "\n",
    "- a grid of points and  \n",
    "- a set of points located on the unit circle in $ \\mathbb{R}^2 $.  \n",
    "\n",
    "\n",
    "To build the transformations we will use two functions, called `grid_transform` and `circle_transform`.\n",
    "\n",
    "Each of these functions visualizes the actions of a given $ 2 \\times 2 $ matrix $ A $."
   ]
  },
  {
   "cell_type": "code",
   "execution_count": null,
   "id": "4e1c3e34",
   "metadata": {
    "hide-output": false
   },
   "outputs": [],
   "source": [
    "def colorizer(x, y):\n",
    "    r = min(1, 1-y/3)\n",
    "    g = min(1, 1+y/3)\n",
    "    b = 1/4 + x/16\n",
    "    return (r, g, b)\n",
    "\n",
    "\n",
    "def grid_transform(A=np.array([[1, -1], [1, 1]])):\n",
    "    xvals = np.linspace(-4, 4, 9)\n",
    "    yvals = np.linspace(-3, 3, 7)\n",
    "    xygrid = np.column_stack([[x, y] for x in xvals for y in yvals])\n",
    "    uvgrid = A @ xygrid\n",
    "\n",
    "    colors = list(map(colorizer, xygrid[0], xygrid[1]))\n",
    "\n",
    "    fig, ax = plt.subplots(1, 2, figsize=(10, 5))\n",
    "\n",
    "    for axes in ax:\n",
    "        axes.set(xlim=(-11, 11), ylim=(-11, 11))\n",
    "        axes.set_xticks([])\n",
    "        axes.set_yticks([])\n",
    "        for spine in ['left', 'bottom']:\n",
    "            axes.spines[spine].set_position('zero')\n",
    "        for spine in ['right', 'top']:\n",
    "            axes.spines[spine].set_color('none')\n",
    "\n",
    "    # Plot x-y grid points\n",
    "    ax[0].scatter(xygrid[0], xygrid[1], s=36, c=colors, edgecolor=\"none\")\n",
    "    # ax[0].grid(True)\n",
    "    # ax[0].axis(\"equal\")\n",
    "    ax[0].set_title(\"points $x_1, x_2, \\cdots, x_k$\")\n",
    "\n",
    "    # Plot transformed grid points\n",
    "    ax[1].scatter(uvgrid[0], uvgrid[1], s=36, c=colors, edgecolor=\"none\")\n",
    "    # ax[1].grid(True)\n",
    "    # ax[1].axis(\"equal\")\n",
    "    ax[1].set_title(\"points $Ax_1, Ax_2, \\cdots, Ax_k$\")\n",
    "\n",
    "    plt.show()\n",
    "\n",
    "\n",
    "def circle_transform(A=np.array([[-1, 2], [0, 1]])):\n",
    "\n",
    "    fig, ax = plt.subplots(1, 2, figsize=(10, 5))\n",
    "\n",
    "    for axes in ax:\n",
    "        axes.set(xlim=(-4, 4), ylim=(-4, 4))\n",
    "        axes.set_xticks([])\n",
    "        axes.set_yticks([])\n",
    "        for spine in ['left', 'bottom']:\n",
    "            axes.spines[spine].set_position('zero')\n",
    "        for spine in ['right', 'top']:\n",
    "            axes.spines[spine].set_color('none')\n",
    "\n",
    "    θ = np.linspace(0, 2 * np.pi, 150)\n",
    "    r = 1\n",
    "\n",
    "    θ_1 = np.empty(12)\n",
    "    for i in range(12):\n",
    "        θ_1[i] = 2 * np.pi * (i/12)\n",
    "\n",
    "    x = r * np.cos(θ)\n",
    "    y = r * np.sin(θ)\n",
    "    a = r * np.cos(θ_1)\n",
    "    b = r * np.sin(θ_1)\n",
    "    a_1 = a.reshape(1, -1)\n",
    "    b_1 = b.reshape(1, -1)\n",
    "    colors = list(map(colorizer, a, b))\n",
    "    ax[0].plot(x, y, color='black', zorder=1)\n",
    "    ax[0].scatter(a_1, b_1, c=colors, alpha=1, s=60,\n",
    "                  edgecolors='black', zorder=2)\n",
    "    ax[0].set_title(\"unit circle in $\\mathbb{R}^2$\")\n",
    "\n",
    "    x1 = x.reshape(1, -1)\n",
    "    y1 = y.reshape(1, -1)\n",
    "    ab = np.concatenate((a_1, b_1), axis=0)\n",
    "    transformed_ab = A @ ab\n",
    "    transformed_circle_input = np.concatenate((x1, y1), axis=0)\n",
    "    transformed_circle = A @ transformed_circle_input\n",
    "    ax[1].plot(transformed_circle[0, :],\n",
    "               transformed_circle[1, :], color='black', zorder=1)\n",
    "    ax[1].scatter(transformed_ab[0, :], transformed_ab[1:,],\n",
    "                  color=colors, alpha=1, s=60, edgecolors='black', zorder=2)\n",
    "    ax[1].set_title(\"transformed circle\")\n",
    "\n",
    "    plt.show()"
   ]
  },
  {
   "cell_type": "markdown",
   "id": "5c445a7a",
   "metadata": {},
   "source": [
    "### Scaling\n",
    "\n",
    "A matrix of the form\n",
    "\n",
    "$$\n",
    "\\begin{bmatrix} \n",
    "        \\alpha & 0 \n",
    "        \\\\ 0 & \\beta \n",
    "    \\end{bmatrix}\n",
    "$$\n",
    "\n",
    "scales vectors across the x-axis by a factor $ \\alpha $ and along the y-axis by\n",
    "a factor $ \\beta $.\n",
    "\n",
    "Here we illustrate a simple example where $ \\alpha = \\beta = 3 $."
   ]
  },
  {
   "cell_type": "code",
   "execution_count": null,
   "id": "5b3a9f24",
   "metadata": {
    "hide-output": false
   },
   "outputs": [],
   "source": [
    "A = np.array([[3, 0],  # scaling by 3 in both directions\n",
    "              [0, 3]])\n",
    "grid_transform(A)\n",
    "circle_transform(A)"
   ]
  },
  {
   "cell_type": "markdown",
   "id": "63d2cb90",
   "metadata": {},
   "source": [
    "### Shearing\n",
    "\n",
    "A “shear” matrix of the form\n",
    "\n",
    "$$\n",
    "\\begin{bmatrix} \n",
    "        1 & \\lambda \\\\ \n",
    "        0 & 1 \n",
    "    \\end{bmatrix}\n",
    "$$\n",
    "\n",
    "stretches vectors along the x-axis by an amount proportional to the\n",
    "y-coordinate of a point."
   ]
  },
  {
   "cell_type": "code",
   "execution_count": null,
   "id": "cb11850a",
   "metadata": {
    "hide-output": false
   },
   "outputs": [],
   "source": [
    "A = np.array([[1, 2],     # shear along x-axis\n",
    "              [0, 1]])\n",
    "grid_transform(A)\n",
    "circle_transform(A)"
   ]
  },
  {
   "cell_type": "markdown",
   "id": "1468ad3e",
   "metadata": {},
   "source": [
    "### Rotation\n",
    "\n",
    "A matrix of the form\n",
    "\n",
    "$$\n",
    "\\begin{bmatrix} \n",
    "        \\cos \\theta & \\sin \\theta \n",
    "        \\\\ - \\sin \\theta & \\cos \\theta \n",
    "    \\end{bmatrix}\n",
    "$$\n",
    "\n",
    "is called a *rotation matrix*.\n",
    "\n",
    "This matrix rotates vectors clockwise by an angle $ \\theta $."
   ]
  },
  {
   "cell_type": "code",
   "execution_count": null,
   "id": "d317517c",
   "metadata": {
    "hide-output": false
   },
   "outputs": [],
   "source": [
    "θ = np.pi/4  # 45 degree clockwise rotation\n",
    "A = np.array([[np.cos(θ), np.sin(θ)],\n",
    "              [-np.sin(θ), np.cos(θ)]])\n",
    "grid_transform(A)"
   ]
  },
  {
   "cell_type": "markdown",
   "id": "24aeff57",
   "metadata": {},
   "source": [
    "### Permutation\n",
    "\n",
    "The permutation matrix\n",
    "\n",
    "$$\n",
    "\\begin{bmatrix} \n",
    "        0 & 1 \\\\ \n",
    "        1 & 0 \n",
    "    \\end{bmatrix}\n",
    "$$\n",
    "\n",
    "interchanges the coordinates of a vector."
   ]
  },
  {
   "cell_type": "code",
   "execution_count": null,
   "id": "83ba3473",
   "metadata": {
    "hide-output": false
   },
   "outputs": [],
   "source": [
    "A = np.column_stack([[0, 1], [1, 0]])\n",
    "grid_transform(A)"
   ]
  },
  {
   "cell_type": "markdown",
   "id": "c93786e5",
   "metadata": {},
   "source": [
    "More examples of common transition matrices can be found [here](https://en.wikipedia.org/wiki/Transformation_matrix#Examples_in_2_dimensions)."
   ]
  },
  {
   "cell_type": "markdown",
   "id": "1739ee6a",
   "metadata": {},
   "source": [
    "## Matrix multiplication as composition\n",
    "\n",
    "Since matrices act as functions that transform one vector to another, we can\n",
    "apply the concept of function composition to matrices as well."
   ]
  },
  {
   "cell_type": "markdown",
   "id": "6b4c36c2",
   "metadata": {},
   "source": [
    "### Linear compositions\n",
    "\n",
    "Consider the two matrices\n",
    "\n",
    "$$\n",
    "A = \n",
    "        \\begin{bmatrix} \n",
    "            0 & 1 \\\\ \n",
    "            -1 & 0 \n",
    "        \\end{bmatrix}\n",
    "        \\quad \\text{and} \\quad\n",
    "    B = \n",
    "        \\begin{bmatrix} \n",
    "            1 & 2 \\\\ \n",
    "            0 & 1 \n",
    "        \\end{bmatrix}\n",
    "$$\n",
    "\n",
    "What will the output be when we try to obtain $ ABx $ for some $ 2 \\times 1 $\n",
    "vector $ x $?\n",
    "\n",
    "$$\n",
    "\\color{red}{\\underbrace{\n",
    " \\color{black}{\\begin{bmatrix}\n",
    "  0 & 1 \\\\\n",
    " -1 & 0\n",
    " \\end{bmatrix}}\n",
    "}_{\\textstyle A} }\n",
    "\\color{red}{\\underbrace{\n",
    " \\color{black}{\\begin{bmatrix}\n",
    "  1 & 2 \\\\\n",
    "  0 & 1\n",
    " \\end{bmatrix}}\n",
    "}_{\\textstyle B}}\n",
    "\\color{red}{\\overbrace{\n",
    " \\color{black}{\\begin{bmatrix}\n",
    "  1 \\\\\n",
    "  3\n",
    " \\end{bmatrix}}\n",
    "}^{\\textstyle x}}\n",
    "\\rightarrow\n",
    "\\color{red}{\\underbrace{\n",
    " \\color{black}{\\begin{bmatrix}\n",
    "  0 & 1 \\\\\n",
    "  -1 & -2\n",
    " \\end{bmatrix}}\n",
    "}_{\\textstyle AB}}\n",
    "\\color{red}{\\overbrace{\n",
    " \\color{black}{\\begin{bmatrix}\n",
    "  1 \\\\\n",
    "  3\n",
    " \\end{bmatrix}}\n",
    "}^{\\textstyle x}}\n",
    "\\rightarrow\n",
    "\\color{red}{\\overbrace{\n",
    " \\color{black}{\\begin{bmatrix}\n",
    "  3 \\\\\n",
    "  -7\n",
    " \\end{bmatrix}}\n",
    "}^{\\textstyle y}}\n",
    "$$\n",
    "\n",
    "$$\n",
    "\\color{red}{\\underbrace{\n",
    " \\color{black}{\\begin{bmatrix}\n",
    "  0 & 1 \\\\\n",
    " -1 & 0\n",
    " \\end{bmatrix}}\n",
    "}_{\\textstyle A} }\n",
    "\\color{red}{\\underbrace{\n",
    " \\color{black}{\\begin{bmatrix}\n",
    "  1 & 2 \\\\\n",
    "  0 & 1\n",
    " \\end{bmatrix}}\n",
    "}_{\\textstyle B}}\n",
    "\\color{red}{\\overbrace{\n",
    " \\color{black}{\\begin{bmatrix}\n",
    "  1 \\\\\n",
    "  3\n",
    " \\end{bmatrix}}\n",
    "}^{\\textstyle x}}\n",
    "\\rightarrow\n",
    "\\color{red}{\\underbrace{\n",
    " \\color{black}{\\begin{bmatrix}\n",
    "  0 & 1 \\\\\n",
    "  -1 & 0\n",
    " \\end{bmatrix}}\n",
    "}_{\\textstyle A}}\n",
    "\\color{red}{\\overbrace{\n",
    " \\color{black}{\\begin{bmatrix}\n",
    "  7 \\\\\n",
    "  3\n",
    " \\end{bmatrix}}\n",
    "}^{\\textstyle Bx}}\n",
    "\\rightarrow\n",
    "\\color{red}{\\overbrace{\n",
    " \\color{black}{\\begin{bmatrix}\n",
    "  3 \\\\\n",
    "  -7\n",
    " \\end{bmatrix}}\n",
    "}^{\\textstyle y}}\n",
    "$$\n",
    "\n",
    "We can observe that applying the transformation $ AB $ on the vector $ x $ is the\n",
    "same as first applying $ B $ on $ x $ and then applying $ A $ on the vector $ Bx $.\n",
    "\n",
    "Thus the matrix product $ AB $ is the\n",
    "[composition](https://en.wikipedia.org/wiki/Function_composition) of the\n",
    "matrix transformations $ A $ and $ B $\n",
    "\n",
    "This means first apply transformation $ B $ and then\n",
    "transformation $ A $.\n",
    "\n",
    "When we matrix multiply an $ n \\times m $ matrix $ A $ with an $ m \\times k $ matrix\n",
    "$ B $ the obtained matrix product is an $ n \\times k $ matrix $ AB $.\n",
    "\n",
    "Thus, if $ A $ and $ B $ are transformations such that $ A \\colon \\mathbb{R}^m \\to\n",
    "\\mathbb{R}^n $ and $ B \\colon \\mathbb{R}^k \\to \\mathbb{R}^m $, then $ AB $\n",
    "transforms $ \\mathbb{R}^k $ to $ \\mathbb{R}^n $.\n",
    "\n",
    "Viewing matrix multiplication as composition of maps helps us\n",
    "understand why, under matrix multiplication, $ AB $ is generally not equal to $ BA $.\n",
    "\n",
    "(After all, when we compose functions, the order usually matters.)"
   ]
  },
  {
   "cell_type": "markdown",
   "id": "d4c65ccf",
   "metadata": {},
   "source": [
    "### Examples\n",
    "\n",
    "Let $ A $ be the $ 90^{\\circ} $ clockwise rotation matrix given by\n",
    "$ \\begin{bmatrix} 0 & 1 \\\\ -1 & 0 \\end{bmatrix} $ and let $ B $ be a shear matrix\n",
    "along the x-axis given by $ \\begin{bmatrix} 1 & 2 \\\\ 0 & 1 \\end{bmatrix} $.\n",
    "\n",
    "We will visualize how a grid of points changes when we apply the\n",
    "transformation $ AB $ and then compare it with the transformation $ BA $."
   ]
  },
  {
   "cell_type": "code",
   "execution_count": null,
   "id": "827e7422",
   "metadata": {
    "hide-output": false
   },
   "outputs": [],
   "source": [
    "def grid_composition_transform(A=np.array([[1, -1], [1, 1]]),\n",
    "                               B=np.array([[1, -1], [1, 1]])):\n",
    "    xvals = np.linspace(-4, 4, 9)\n",
    "    yvals = np.linspace(-3, 3, 7)\n",
    "    xygrid = np.column_stack([[x, y] for x in xvals for y in yvals])\n",
    "    uvgrid = B @ xygrid\n",
    "    abgrid = A @ uvgrid\n",
    "\n",
    "    colors = list(map(colorizer, xygrid[0], xygrid[1]))\n",
    "\n",
    "    fig, ax = plt.subplots(1, 3, figsize=(15, 5))\n",
    "\n",
    "    for axes in ax:\n",
    "        axes.set(xlim=(-12, 12), ylim=(-12, 12))\n",
    "        axes.set_xticks([])\n",
    "        axes.set_yticks([])\n",
    "        for spine in ['left', 'bottom']:\n",
    "            axes.spines[spine].set_position('zero')\n",
    "        for spine in ['right', 'top']:\n",
    "            axes.spines[spine].set_color('none')\n",
    "\n",
    "    # Plot grid points\n",
    "    ax[0].scatter(xygrid[0], xygrid[1], s=36, c=colors, edgecolor=\"none\")\n",
    "    ax[0].set_title(\"points $x_1, x_2, \\cdots, x_k$\")\n",
    "\n",
    "    # Plot intermediate grid points\n",
    "    ax[1].scatter(uvgrid[0], uvgrid[1], s=36, c=colors, edgecolor=\"none\")\n",
    "    ax[1].set_title(\"points $Bx_1, Bx_2, \\cdots, Bx_k$\")\n",
    "\n",
    "    # Plot transformed grid points\n",
    "    ax[2].scatter(abgrid[0], abgrid[1], s=36, c=colors, edgecolor=\"none\")\n",
    "    ax[2].set_title(\"points $ABx_1, ABx_2, \\cdots, ABx_k$\")\n",
    "\n",
    "    plt.show()"
   ]
  },
  {
   "cell_type": "code",
   "execution_count": null,
   "id": "6d6f065d",
   "metadata": {
    "hide-output": false
   },
   "outputs": [],
   "source": [
    "A = np.array([[0, 1],     # 90 degree clockwise rotation\n",
    "              [-1, 0]])\n",
    "B = np.array([[1, 2],     # shear along x-axis\n",
    "              [0, 1]])"
   ]
  },
  {
   "cell_type": "markdown",
   "id": "f1e38025",
   "metadata": {},
   "source": [
    "#### Shear then rotate"
   ]
  },
  {
   "cell_type": "code",
   "execution_count": null,
   "id": "99c6121d",
   "metadata": {
    "hide-output": false
   },
   "outputs": [],
   "source": [
    "grid_composition_transform(A, B)  # transformation AB"
   ]
  },
  {
   "cell_type": "markdown",
   "id": "dcdf7570",
   "metadata": {},
   "source": [
    "#### Rotate then shear"
   ]
  },
  {
   "cell_type": "code",
   "execution_count": null,
   "id": "5805a02d",
   "metadata": {
    "hide-output": false
   },
   "outputs": [],
   "source": [
    "grid_composition_transform(B,A)         # transformation BA"
   ]
  },
  {
   "cell_type": "markdown",
   "id": "2cf4033e",
   "metadata": {},
   "source": [
    "It is evident that the transformation $ AB $ is not the same as the transformation $ BA $."
   ]
  },
  {
   "cell_type": "markdown",
   "id": "bdad62a6",
   "metadata": {},
   "source": [
    "## Iterating on a fixed map\n",
    "\n",
    "In economics (and especially in dynamic modeling), we are often interested in\n",
    "analyzing behavior where we repeatedly apply a fixed matrix.\n",
    "\n",
    "For example, given a vector $ v $ and a matrix $ A $, we are interested in\n",
    "studying the sequence\n",
    "\n",
    "$$\n",
    "v, \\quad\n",
    "    Av, \\quad\n",
    "    AAv = A^2v, \\quad \\ldots\n",
    "$$\n",
    "\n",
    "Let’s first see examples of a sequence of iterates $ (A^k v)_{k \\geq 0} $ under\n",
    "different maps $ A $.\n",
    "\n",
    "\n",
    "<a id='plot-series'></a>"
   ]
  },
  {
   "cell_type": "code",
   "execution_count": null,
   "id": "f5c1aaf9",
   "metadata": {
    "hide-output": false
   },
   "outputs": [],
   "source": [
    "def plot_series(A, v, n):\n",
    "\n",
    "    B = np.array([[1, -1],\n",
    "                  [1, 0]])\n",
    "\n",
    "    fig, ax = plt.subplots()\n",
    "\n",
    "    ax.set(xlim=(-4, 4), ylim=(-4, 4))\n",
    "    ax.set_xticks([])\n",
    "    ax.set_yticks([])\n",
    "    for spine in ['left', 'bottom']:\n",
    "        ax.spines[spine].set_position('zero')\n",
    "    for spine in ['right', 'top']:\n",
    "        ax.spines[spine].set_color('none')\n",
    "\n",
    "    θ = np.linspace(0, 2 * np.pi, 150)\n",
    "    r = 2.5\n",
    "    x = r * np.cos(θ)\n",
    "    y = r * np.sin(θ)\n",
    "    x1 = x.reshape(1, -1)\n",
    "    y1 = y.reshape(1, -1)\n",
    "    xy = np.concatenate((x1, y1), axis=0)\n",
    "\n",
    "    ellipse = B @ xy\n",
    "    ax.plot(ellipse[0, :], ellipse[1, :], color='black',\n",
    "            linestyle=(0, (5, 10)), linewidth=0.5)\n",
    "\n",
    "    # Initialize holder for trajectories\n",
    "    colors = plt.cm.rainbow(np.linspace(0, 1, 20))\n",
    "\n",
    "    for i in range(n):\n",
    "        iteration = matrix_power(A, i) @ v\n",
    "        v1 = iteration[0]\n",
    "        v2 = iteration[1]\n",
    "        ax.scatter(v1, v2, color=colors[i])\n",
    "        if i == 0:\n",
    "            ax.text(v1+0.25, v2, f'$v$')\n",
    "        elif i == 1:\n",
    "            ax.text(v1+0.25, v2, f'$Av$')\n",
    "        elif 1 < i < 4:\n",
    "            ax.text(v1+0.25, v2, f'$A^{i}v$')\n",
    "    plt.show()"
   ]
  },
  {
   "cell_type": "code",
   "execution_count": null,
   "id": "782cc391",
   "metadata": {
    "hide-output": false
   },
   "outputs": [],
   "source": [
    "A = np.array([[sqrt(3) + 1, -2],\n",
    "              [1, sqrt(3) - 1]])\n",
    "A = (1/(2*sqrt(2))) * A\n",
    "v = (-3, -3)\n",
    "n = 12\n",
    "\n",
    "plot_series(A, v, n)"
   ]
  },
  {
   "cell_type": "markdown",
   "id": "1682a2b9",
   "metadata": {},
   "source": [
    "Here with each iteration the vectors get shorter, i.e., move closer to the origin.\n",
    "\n",
    "In this case, repeatedly multiplying a vector by $ A $ makes the vector “spiral in”."
   ]
  },
  {
   "cell_type": "code",
   "execution_count": null,
   "id": "b0d2ec07",
   "metadata": {
    "hide-output": false
   },
   "outputs": [],
   "source": [
    "B = np.array([[sqrt(3) + 1, -2],\n",
    "              [1, sqrt(3) - 1]])\n",
    "B = (1/2) * B\n",
    "v = (2.5, 0)\n",
    "n = 12\n",
    "\n",
    "plot_series(B, v, n)"
   ]
  },
  {
   "cell_type": "markdown",
   "id": "7e630774",
   "metadata": {},
   "source": [
    "Here with each iteration vectors do not tend to get longer or shorter.\n",
    "\n",
    "In this case, repeatedly multiplying a vector by $ A $ simply “rotates it around\n",
    "an ellipse”."
   ]
  },
  {
   "cell_type": "code",
   "execution_count": null,
   "id": "60c8b4c9",
   "metadata": {
    "hide-output": false
   },
   "outputs": [],
   "source": [
    "B = np.array([[sqrt(3) + 1, -2],\n",
    "              [1, sqrt(3) - 1]])\n",
    "B = (1/sqrt(2)) * B\n",
    "v = (-1, -0.25)\n",
    "n = 6\n",
    "\n",
    "plot_series(B, v, n)"
   ]
  },
  {
   "cell_type": "markdown",
   "id": "d72a1a97",
   "metadata": {},
   "source": [
    "Here with each iteration vectors tend to get longer, i.e., farther from the\n",
    "origin.\n",
    "\n",
    "In this case, repeatedly multiplying a vector by $ A $ makes the vector “spiral out”.\n",
    "\n",
    "We thus observe that the sequence $ (A^kv)_{k \\geq 0} $ behaves differently depending on the map $ A $ itself.\n",
    "\n",
    "We now discuss the property of A that determines this behavior.\n",
    "\n",
    "\n",
    "<a id='la-eigenvalues'></a>"
   ]
  },
  {
   "cell_type": "markdown",
   "id": "16e5faf0",
   "metadata": {},
   "source": [
    "## Eigenvalues\n",
    "\n",
    "\n",
    "<a id='index-1'></a>\n",
    "In this section we introduce the notions of eigenvalues and eigenvectors."
   ]
  },
  {
   "cell_type": "markdown",
   "id": "b37211b5",
   "metadata": {},
   "source": [
    "### Definitions\n",
    "\n",
    "Let $ A $ be an $ n \\times n $ square matrix.\n",
    "\n",
    "If $ \\lambda $ is scalar and $ v $ is a non-zero $ n $-vector such that\n",
    "\n",
    "$$\n",
    "A v = \\lambda v.\n",
    "$$\n",
    "\n",
    "Then we say that $ \\lambda $ is an *eigenvalue* of $ A $, and $ v $ is the corresponding *eigenvector*.\n",
    "\n",
    "Thus, an eigenvector of $ A $ is a nonzero vector $ v $ such that when the map $ A $ is\n",
    "applied, $ v $ is merely scaled.\n",
    "\n",
    "The next figure shows two eigenvectors (blue arrows) and their images under\n",
    "$ A $ (red arrows).\n",
    "\n",
    "As expected, the image $ Av $ of each $ v $ is just a scaled version of the original"
   ]
  },
  {
   "cell_type": "code",
   "execution_count": null,
   "id": "24b16ac0",
   "metadata": {
    "hide-output": false
   },
   "outputs": [],
   "source": [
    "from numpy.linalg import eig\n",
    "\n",
    "A = [[1, 2],\n",
    "     [2, 1]]\n",
    "A = np.array(A)\n",
    "evals, evecs = eig(A)\n",
    "evecs = evecs[:, 0], evecs[:, 1]\n",
    "\n",
    "fig, ax = plt.subplots(figsize=(10, 8))\n",
    "# Set the axes through the origin\n",
    "for spine in ['left', 'bottom']:\n",
    "    ax.spines[spine].set_position('zero')\n",
    "for spine in ['right', 'top']:\n",
    "    ax.spines[spine].set_color('none')\n",
    "# ax.grid(alpha=0.4)\n",
    "\n",
    "xmin, xmax = -3, 3\n",
    "ymin, ymax = -3, 3\n",
    "ax.set(xlim=(xmin, xmax), ylim=(ymin, ymax))\n",
    "\n",
    "# Plot each eigenvector\n",
    "for v in evecs:\n",
    "    ax.annotate('', xy=v, xytext=(0, 0),\n",
    "                arrowprops=dict(facecolor='blue',\n",
    "                shrink=0,\n",
    "                alpha=0.6,\n",
    "                width=0.5))\n",
    "\n",
    "# Plot the image of each eigenvector\n",
    "for v in evecs:\n",
    "    v = A @ v\n",
    "    ax.annotate('', xy=v, xytext=(0, 0),\n",
    "                arrowprops=dict(facecolor='red',\n",
    "                shrink=0,\n",
    "                alpha=0.6,\n",
    "                width=0.5))\n",
    "\n",
    "# Plot the lines they run through\n",
    "x = np.linspace(xmin, xmax, 3)\n",
    "for v in evecs:\n",
    "    a = v[1] / v[0]\n",
    "    ax.plot(x, a * x, 'b-', lw=0.4)\n",
    "\n",
    "plt.show()"
   ]
  },
  {
   "cell_type": "markdown",
   "id": "a5afa2d8",
   "metadata": {},
   "source": [
    "### Complex values\n",
    "\n",
    "So far our definition of eigenvalues and eigenvectors seems straightforward.\n",
    "\n",
    "There is one complication we haven’t mentioned yet:\n",
    "\n",
    "When solving $ Av = \\lambda v $,\n",
    "\n",
    "- $ \\lambda $ is allowed to be a complex number and  \n",
    "- $ v $ is allowed to be an $ n $-vector of complex numbers.  \n",
    "\n",
    "\n",
    "We will see some examples below."
   ]
  },
  {
   "cell_type": "markdown",
   "id": "c6563c2a",
   "metadata": {},
   "source": [
    "### Some mathematical details\n",
    "\n",
    "We note some mathematical details for more advanced readers.\n",
    "\n",
    "(Other readers can skip to the next section.)\n",
    "\n",
    "The eigenvalue equation is equivalent to $ (A - \\lambda I) v = 0 $.\n",
    "\n",
    "This equation has a nonzero solution $ v $ only when the columns of $ A - \\lambda I $ are linearly dependent.\n",
    "\n",
    "This in turn is equivalent to stating the determinant is zero.\n",
    "\n",
    "Hence, to find all eigenvalues, we can look for $ \\lambda $ such that the\n",
    "determinant of $ A - \\lambda I $ is zero.\n",
    "\n",
    "This problem can be expressed as one of solving for the roots of a polynomial\n",
    "in $ \\lambda $ of degree $ n $.\n",
    "\n",
    "This in turn implies the existence of $ n $ solutions in the complex\n",
    "plane, although some might be repeated."
   ]
  },
  {
   "cell_type": "markdown",
   "id": "7615ca6d",
   "metadata": {},
   "source": [
    "### Facts\n",
    "\n",
    "Some nice facts about the eigenvalues of a square matrix $ A $ are as follows:\n",
    "\n",
    "1. the determinant of $ A $ equals the product of the eigenvalues  \n",
    "1. the trace of $ A $ (the sum of the elements on the principal diagonal) equals the sum of the eigenvalues  \n",
    "1. if $ A $ is symmetric, then all of its eigenvalues are real  \n",
    "1. if $ A $ is invertible and $ \\lambda_1, \\ldots, \\lambda_n $ are its eigenvalues, then the eigenvalues of $ A^{-1} $ are $ 1/\\lambda_1, \\ldots, 1/\\lambda_n $.  \n",
    "\n",
    "\n",
    "A corollary of the last statement is that a matrix is invertible if and only if all its eigenvalues are nonzero."
   ]
  },
  {
   "cell_type": "markdown",
   "id": "848d3719",
   "metadata": {},
   "source": [
    "### Computation\n",
    "\n",
    "Using NumPy, we can solve for the eigenvalues and eigenvectors of a matrix as follows"
   ]
  },
  {
   "cell_type": "code",
   "execution_count": null,
   "id": "90e8544f",
   "metadata": {
    "hide-output": false
   },
   "outputs": [],
   "source": [
    "from numpy.linalg import eig\n",
    "\n",
    "A = ((1, 2),\n",
    "     (2, 1))\n",
    "\n",
    "A = np.array(A)\n",
    "evals, evecs = eig(A)\n",
    "evals  # eigenvalues"
   ]
  },
  {
   "cell_type": "code",
   "execution_count": null,
   "id": "052c8219",
   "metadata": {
    "hide-output": false
   },
   "outputs": [],
   "source": [
    "evecs  # eigenvectors"
   ]
  },
  {
   "cell_type": "markdown",
   "id": "65278e5e",
   "metadata": {},
   "source": [
    "Note that the *columns* of `evecs` are the eigenvectors.\n",
    "\n",
    "Since any scalar multiple of an eigenvector is an eigenvector with the same\n",
    "eigenvalue (which can be verified), the `eig` routine normalizes the length of each eigenvector\n",
    "to one.\n",
    "\n",
    "The eigenvectors and eigenvalues of a map $ A $ determine how a vector $ v $ is transformed when we repeatedly multiply by $ A $.\n",
    "\n",
    "This is discussed further later.\n",
    "\n",
    "\n",
    "<a id='la-neumann'></a>"
   ]
  },
  {
   "cell_type": "markdown",
   "id": "5bdc6633",
   "metadata": {},
   "source": [
    "## The Neumann Series Lemma\n",
    "\n",
    "\n",
    "<a id='index-2'></a>\n",
    "In this section we present a famous result about series of matrices that has\n",
    "many applications in economics."
   ]
  },
  {
   "cell_type": "markdown",
   "id": "192560e1",
   "metadata": {},
   "source": [
    "### Scalar series\n",
    "\n",
    "Here’s a fundamental result about series:\n",
    "\n",
    "If $ a $ is a number and $ |a| < 1 $, then\n",
    "\n",
    "\n",
    "<a id='equation-gp-sum'></a>\n",
    "$$\n",
    "\\sum_{k=0}^{\\infty} a^k =\\frac{1}{1-a} = (1 - a)^{-1} \\tag{6.1}\n",
    "$$\n",
    "\n",
    "For a one-dimensional linear equation $ x = ax + b $ where x is unknown we can thus conclude that the solution $ x^{*} $ is given by:\n",
    "\n",
    "$$\n",
    "x^{*} = \\frac{b}{1-a} = \\sum_{k=0}^{\\infty} a^k b\n",
    "$$"
   ]
  },
  {
   "cell_type": "markdown",
   "id": "046464cc",
   "metadata": {},
   "source": [
    "### Matrix series\n",
    "\n",
    "A generalization of this idea exists in the matrix setting.\n",
    "\n",
    "Consider the system of equations $ x = Ax + b $ where $ A $ is an $ n \\times n $\n",
    "square matrix and $ x $ and $ b $ are both column vectors in $ \\mathbb{R}^n $.\n",
    "\n",
    "Using matrix algebra we can conclude that the solution to this system of equations will be given by:\n",
    "\n",
    "\n",
    "<a id='equation-neumann-eqn'></a>\n",
    "$$\n",
    "x^{*} = (I-A)^{-1}b \\tag{6.2}\n",
    "$$\n",
    "\n",
    "What guarantees the existence of a unique vector $ x^{*} $ that satisfies\n",
    "[(6.2)](#equation-neumann-eqn)?\n",
    "\n",
    "The following is a fundamental result in functional analysis that generalizes\n",
    "[(6.1)](#equation-gp-sum) to a multivariate case.\n",
    "\n",
    "\n",
    "<a id='neumann-series-lemma'></a>"
   ]
  },
  {
   "cell_type": "markdown",
   "id": "8723473e",
   "metadata": {},
   "source": [
    "###  (Neumann Series Lemma)\n",
    "\n",
    "Let $ A $ be a square matrix and let $ A^k $ be the $ k $-th power of $ A $.\n",
    "\n",
    "Let $ r(A) $ be the **spectral radius** of $ A $, defined as $ \\max_i |\\lambda_i| $, where\n",
    "\n",
    "- $ \\{\\lambda_i\\}_i $ is the set of eigenvalues of $ A $ and  \n",
    "- $ |\\lambda_i| $ is the modulus of the complex number $ \\lambda_i $  \n",
    "\n",
    "\n",
    "Neumann’s Theorem states the following: If $ r(A) < 1 $, then $ I - A $ is invertible, and\n",
    "\n",
    "$$\n",
    "(I - A)^{-1} = \\sum_{k=0}^{\\infty} A^k\n",
    "$$\n",
    "\n",
    "We can see the Neumann Series Lemma in action in the following example."
   ]
  },
  {
   "cell_type": "code",
   "execution_count": null,
   "id": "e21227bb",
   "metadata": {
    "hide-output": false
   },
   "outputs": [],
   "source": [
    "A = np.array([[0.4, 0.1],\n",
    "              [0.7, 0.2]])\n",
    "\n",
    "evals, evecs = eig(A)   # finding eigenvalues and eigenvectors\n",
    "\n",
    "r = max(abs(λ) for λ in evals)    # compute spectral radius\n",
    "print(r)"
   ]
  },
  {
   "cell_type": "markdown",
   "id": "d0b549f3",
   "metadata": {},
   "source": [
    "The spectral radius $ r(A) $ obtained is less than 1.\n",
    "\n",
    "Thus, we can apply the Neumann Series Lemma to find $ (I-A)^{-1} $."
   ]
  },
  {
   "cell_type": "code",
   "execution_count": null,
   "id": "d6d2a945",
   "metadata": {
    "hide-output": false
   },
   "outputs": [],
   "source": [
    "I = np.identity(2)  # 2 x 2 identity matrix\n",
    "B = I - A"
   ]
  },
  {
   "cell_type": "code",
   "execution_count": null,
   "id": "1af8c3f2",
   "metadata": {
    "hide-output": false
   },
   "outputs": [],
   "source": [
    "B_inverse = np.linalg.inv(B)  # direct inverse method"
   ]
  },
  {
   "cell_type": "code",
   "execution_count": null,
   "id": "b319d557",
   "metadata": {
    "hide-output": false
   },
   "outputs": [],
   "source": [
    "A_sum = np.zeros((2, 2))  # power series sum of A\n",
    "A_power = I\n",
    "for i in range(50):\n",
    "    A_sum += A_power\n",
    "    A_power = A_power @ A"
   ]
  },
  {
   "cell_type": "markdown",
   "id": "e82941a1",
   "metadata": {},
   "source": [
    "Let’s check equality between the sum and the inverse methods."
   ]
  },
  {
   "cell_type": "code",
   "execution_count": null,
   "id": "6d01b683",
   "metadata": {
    "hide-output": false
   },
   "outputs": [],
   "source": [
    "np.allclose(A_sum, B_inverse)"
   ]
  },
  {
   "cell_type": "markdown",
   "id": "ae769f34",
   "metadata": {},
   "source": [
    "Although we truncate the infinite sum at $ k = 50 $, both methods give us the same\n",
    "result which illustrates the result of the Neumann Series Lemma."
   ]
  },
  {
   "cell_type": "markdown",
   "id": "9787947b",
   "metadata": {},
   "source": [
    "## Exercises"
   ]
  },
  {
   "cell_type": "markdown",
   "id": "3ceffc26",
   "metadata": {},
   "source": [
    "## Exercise 6.1\n",
    "\n",
    "Power iteration is a method for finding the greatest absolute eigenvalue of a diagonalizable matrix.\n",
    "\n",
    "The method starts with a random vector $ b_0 $ and repeatedly applies the matrix $ A $ to it\n",
    "\n",
    "$$\n",
    "b_{k+1}=\\frac{A b_k}{\\left\\|A b_k\\right\\|}\n",
    "$$\n",
    "\n",
    "A thorough discussion of the method can be found [here](https://pythonnumericalmethods.berkeley.edu/notebooks/chapter15.02-The-Power-Method.html).\n",
    "\n",
    "In this exercise, first implement the power iteration method and use it to find the greatest absolute eigenvalue and its corresponding eigenvector.\n",
    "\n",
    "Then visualize the convergence."
   ]
  },
  {
   "cell_type": "markdown",
   "id": "d608aab4",
   "metadata": {},
   "source": [
    "## Solution to[ Exercise 6.1](https://intro.quantecon.org/#eig1_ex1)\n",
    "\n",
    "Here is one solution.\n",
    "\n",
    "We start by looking into the distance between the eigenvector approximation and the true eigenvector."
   ]
  },
  {
   "cell_type": "code",
   "execution_count": null,
   "id": "87bb17dd",
   "metadata": {
    "hide-output": false
   },
   "outputs": [],
   "source": [
    "# Define a matrix A\n",
    "A = np.array([[1, 0, 3],\n",
    "              [0, 2, 0],\n",
    "              [3, 0, 1]])\n",
    "\n",
    "num_iters = 20\n",
    "\n",
    "# Define a random starting vector b\n",
    "b = np.random.rand(A.shape[1])\n",
    "\n",
    "# Get the leading eigenvector of matrix A\n",
    "eigenvector = np.linalg.eig(A)[1][:, 0]\n",
    "\n",
    "errors = []\n",
    "res = []\n",
    "\n",
    "# Power iteration loop\n",
    "for i in range(num_iters):\n",
    "    # Multiply b by A\n",
    "    b = A @ b\n",
    "    # Normalize b\n",
    "    b = b / np.linalg.norm(b)\n",
    "    # Append b to the list of eigenvector approximations\n",
    "    res.append(b)\n",
    "    err = np.linalg.norm(np.array(b)\n",
    "                         - eigenvector)\n",
    "    errors.append(err)\n",
    "\n",
    "greatest_eigenvalue = np.dot(A @ b, b) / np.dot(b, b)\n",
    "print(f'The approximated greatest absolute eigenvalue is \\\n",
    "        {greatest_eigenvalue:.2f}')\n",
    "print('The real eigenvalue is', np.linalg.eig(A)[0])\n",
    "\n",
    "# Plot the eigenvector approximations for each iteration\n",
    "plt.figure(figsize=(10, 6))\n",
    "plt.xlabel('iterations')\n",
    "plt.ylabel('error')\n",
    "_ = plt.plot(errors)"
   ]
  },
  {
   "cell_type": "markdown",
   "id": "98bcf7b7",
   "metadata": {},
   "source": [
    "Then we can look at the trajectory of the eigenvector approximation."
   ]
  },
  {
   "cell_type": "code",
   "execution_count": null,
   "id": "e4b49975",
   "metadata": {
    "hide-output": false
   },
   "outputs": [],
   "source": [
    "# Set up the figure and axis for 3D plot\n",
    "fig = plt.figure()\n",
    "ax = fig.add_subplot(111, projection='3d')\n",
    "\n",
    "# Plot the eigenvectors\n",
    "ax.scatter(eigenvector[0],\n",
    "           eigenvector[1],\n",
    "           eigenvector[2],\n",
    "           color='r', s=80)\n",
    "\n",
    "for i, vec in enumerate(res):\n",
    "    ax.scatter(vec[0], vec[1], vec[2],\n",
    "               color='b',\n",
    "               alpha=(i+1)/(num_iters+1),\n",
    "               s=80)\n",
    "\n",
    "ax.set_xlabel('x')\n",
    "ax.set_ylabel('y')\n",
    "ax.set_zlabel('z')\n",
    "ax.tick_params(axis='both', which='major', labelsize=7)\n",
    "\n",
    "points = [plt.Line2D([0], [0], linestyle='none',\n",
    "                     c=i, marker='o') for i in ['r', 'b']]\n",
    "ax.legend(points, ['actual eigenvector',\n",
    "                   r'approximated eigenvector ($b_k$)'])\n",
    "ax.set_box_aspect(aspect=None, zoom=0.8)\n",
    "\n",
    "plt.show()"
   ]
  },
  {
   "cell_type": "markdown",
   "id": "ff0475a2",
   "metadata": {},
   "source": [
    "## Exercise 6.2\n",
    "\n",
    "We have discussed the trajectory of the vector $ v $ after being transformed by $ A $.\n",
    "\n",
    "Consider the matrix $ A = \\begin{bmatrix} 1 & 2 \\\\ 1 & 1 \\end{bmatrix} $ and the vector $ v = \\begin{bmatrix} 2 \\\\ -2 \\end{bmatrix} $.\n",
    "\n",
    "Try to compute the trajectory of $ v $ after being transformed by $ A $ for $ n=4 $ iterations and plot the result."
   ]
  },
  {
   "cell_type": "markdown",
   "id": "49411633",
   "metadata": {},
   "source": [
    "## Solution to[ Exercise 6.2](https://intro.quantecon.org/#eig1_ex2)"
   ]
  },
  {
   "cell_type": "code",
   "execution_count": null,
   "id": "eabc16d8",
   "metadata": {
    "hide-output": false
   },
   "outputs": [],
   "source": [
    "A = np.array([[1, 2],\n",
    "              [1, 1]])\n",
    "v = (0.4, -0.4)\n",
    "n = 11\n",
    "\n",
    "# Compute eigenvectors and eigenvalues\n",
    "eigenvalues, eigenvectors = np.linalg.eig(A)\n",
    "\n",
    "print(f'eigenvalues:\\n {eigenvalues}')\n",
    "print(f'eigenvectors:\\n {eigenvectors}')\n",
    "\n",
    "plot_series(A, v, n)"
   ]
  },
  {
   "cell_type": "markdown",
   "id": "66208502",
   "metadata": {},
   "source": [
    "The result seems to converge to the eigenvector of $ A $ with the largest eigenvalue.\n",
    "\n",
    "Let’s use a [vector field](https://en.wikipedia.org/wiki/Vector_field) to visualize the transformation brought by A.\n",
    "\n",
    "(This is a more advanced topic in linear algebra, please step ahead if you are comfortable with the math.)"
   ]
  },
  {
   "cell_type": "code",
   "execution_count": null,
   "id": "a026a478",
   "metadata": {
    "hide-output": false
   },
   "outputs": [],
   "source": [
    "# Create a grid of points\n",
    "x, y = np.meshgrid(np.linspace(-5, 5, 15),\n",
    "                   np.linspace(-5, 5, 20))\n",
    "\n",
    "# Apply the matrix A to each point in the vector field\n",
    "vec_field = np.stack([x, y])\n",
    "u, v = np.tensordot(A, vec_field, axes=1)\n",
    "\n",
    "# Plot the transformed vector field\n",
    "c = plt.streamplot(x, y, u - x, v - y,\n",
    "                   density=1, linewidth=None, color='#A23BEC')\n",
    "c.lines.set_alpha(0.5)\n",
    "c.arrows.set_alpha(0.5)\n",
    "\n",
    "# Draw eigenvectors\n",
    "origin = np.zeros((2, len(eigenvectors)))\n",
    "parameters = {'color': ['b', 'g'], 'angles': 'xy',\n",
    "              'scale_units': 'xy', 'scale': 0.1, 'width': 0.01}\n",
    "plt.quiver(*origin, eigenvectors[0],\n",
    "           eigenvectors[1], **parameters)\n",
    "plt.quiver(*origin, - eigenvectors[0],\n",
    "           - eigenvectors[1], **parameters)\n",
    "\n",
    "colors = ['b', 'g']\n",
    "lines = [Line2D([0], [0], color=c, linewidth=3) for c in colors]\n",
    "labels = [\"2.4 eigenspace\", \"0.4 eigenspace\"]\n",
    "plt.legend(lines, labels, loc='center left',\n",
    "           bbox_to_anchor=(1, 0.5))\n",
    "\n",
    "plt.xlabel(\"x\")\n",
    "plt.ylabel(\"y\")\n",
    "plt.grid()\n",
    "plt.gca().set_aspect('equal', adjustable='box')\n",
    "plt.show()"
   ]
  },
  {
   "cell_type": "markdown",
   "id": "d955ebbb",
   "metadata": {},
   "source": [
    "Note that the vector field converges to the eigenvector of $ A $ with the largest eigenvalue and diverges from the eigenvector of $ A $ with the smallest eigenvalue.\n",
    "\n",
    "In fact, the eigenvectors are also the directions in which the matrix $ A $ stretches or shrinks the space.\n",
    "\n",
    "Specifically, the eigenvector with the largest eigenvalue is the direction in which the matrix $ A $ stretches the space the most.\n",
    "\n",
    "We will see more intriguing examples in the following exercise."
   ]
  },
  {
   "cell_type": "markdown",
   "id": "a8fb4429",
   "metadata": {},
   "source": [
    "## Exercise 6.3\n",
    "\n",
    "[Previously](#plot-series), we demonstrated the trajectory of the vector $ v $ after being transformed by $ A $ for three different matrices.\n",
    "\n",
    "Use the visualization in the previous exercise to explain the trajectory of the vector $ v $ after being transformed by $ A $ for the three different matrices."
   ]
  },
  {
   "cell_type": "markdown",
   "id": "2a3c3a7c",
   "metadata": {},
   "source": [
    "## Solution to[ Exercise 6.3](https://intro.quantecon.org/#eig1_ex3)\n",
    "\n",
    "Here is one solution"
   ]
  },
  {
   "cell_type": "code",
   "execution_count": null,
   "id": "f110801f",
   "metadata": {
    "hide-output": false
   },
   "outputs": [],
   "source": [
    "figure, ax = plt.subplots(1, 3, figsize=(15, 5))\n",
    "A = np.array([[sqrt(3) + 1, -2],\n",
    "              [1, sqrt(3) - 1]])\n",
    "A = (1/(2*sqrt(2))) * A\n",
    "\n",
    "B = np.array([[sqrt(3) + 1, -2],\n",
    "              [1, sqrt(3) - 1]])\n",
    "B = (1/2) * B\n",
    "\n",
    "C = np.array([[sqrt(3) + 1, -2],\n",
    "              [1, sqrt(3) - 1]])\n",
    "C = (1/sqrt(2)) * C\n",
    "\n",
    "examples = [A, B, C]\n",
    "\n",
    "for i, example in enumerate(examples):\n",
    "    M = example\n",
    "\n",
    "    # Compute right eigenvectors and eigenvalues\n",
    "    eigenvalues, eigenvectors = np.linalg.eig(M)\n",
    "    print(f'Example {i+1}:\\n')\n",
    "    print(f'eigenvalues:\\n {eigenvalues}')\n",
    "    print(f'eigenvectors:\\n {eigenvectors}\\n')\n",
    "\n",
    "    eigenvalues_real = eigenvalues.real\n",
    "    eigenvectors_real = eigenvectors.real\n",
    "\n",
    "    # Create a grid of points\n",
    "    x, y = np.meshgrid(np.linspace(-20, 20, 15),\n",
    "                       np.linspace(-20, 20, 20))\n",
    "\n",
    "    # Apply the matrix A to each point in the vector field\n",
    "    vec_field = np.stack([x, y])\n",
    "    u, v = np.tensordot(M, vec_field, axes=1)\n",
    "\n",
    "    # Plot the transformed vector field\n",
    "    c = ax[i].streamplot(x, y, u - x, v - y, density=1,\n",
    "                         linewidth=None, color='#A23BEC')\n",
    "    c.lines.set_alpha(0.5)\n",
    "    c.arrows.set_alpha(0.5)\n",
    "\n",
    "    # Draw eigenvectors\n",
    "    parameters = {'color': ['b', 'g'], 'angles': 'xy',\n",
    "                  'scale_units': 'xy', 'scale': 1,\n",
    "                  'width': 0.01, 'alpha': 0.5}\n",
    "    origin = np.zeros((2, len(eigenvectors)))\n",
    "    ax[i].quiver(*origin, eigenvectors_real[0],\n",
    "                 eigenvectors_real[1], **parameters)\n",
    "    ax[i].quiver(*origin,\n",
    "                 - eigenvectors_real[0],\n",
    "                 - eigenvectors_real[1],\n",
    "                 **parameters)\n",
    "\n",
    "    ax[i].set_xlabel(\"x-axis\")\n",
    "    ax[i].set_ylabel(\"y-axis\")\n",
    "    ax[i].grid()\n",
    "    ax[i].set_aspect('equal', adjustable='box')\n",
    "\n",
    "plt.show()"
   ]
  },
  {
   "cell_type": "markdown",
   "id": "5c668035",
   "metadata": {},
   "source": [
    "The vector fields explain why we observed the trajectories of the vector $ v $ multiplied by $ A $ iteratively before.\n",
    "\n",
    "The pattern demonstrated here is because we have complex eigenvalues and eigenvectors.\n",
    "\n",
    "We can plot the complex plane for one of the matrices using `Arrow3D` class retrieved from [stackoverflow](https://stackoverflow.com/questions/22867620/putting-arrowheads-on-vectors-in-a-3d-plot)."
   ]
  },
  {
   "cell_type": "code",
   "execution_count": null,
   "id": "07125505",
   "metadata": {
    "hide-output": false
   },
   "outputs": [],
   "source": [
    "class Arrow3D(FancyArrowPatch):\n",
    "    def __init__(self, xs, ys, zs, *args, **kwargs):\n",
    "        super().__init__((0, 0), (0, 0), *args, **kwargs)\n",
    "        self._verts3d = xs, ys, zs\n",
    "\n",
    "    def do_3d_projection(self):\n",
    "        xs3d, ys3d, zs3d = self._verts3d\n",
    "        xs, ys, zs = proj3d.proj_transform(xs3d, ys3d, zs3d,\n",
    "                                           self.axes.M)\n",
    "        self.set_positions((0.1*xs[0], 0.1*ys[0]),\n",
    "                           (0.1*xs[1], 0.1*ys[1]))\n",
    "\n",
    "        return np.min(zs)\n",
    "\n",
    "\n",
    "eigenvalues, eigenvectors = np.linalg.eig(A)\n",
    "\n",
    "# Create meshgrid for vector field\n",
    "x, y = np.meshgrid(np.linspace(-2, 2, 15),\n",
    "                   np.linspace(-2, 2, 15))\n",
    "\n",
    "# Calculate vector field (real and imaginary parts)\n",
    "u_real = A[0][0] * x + A[0][1] * y\n",
    "v_real = A[1][0] * x + A[1][1] * y\n",
    "u_imag = np.zeros_like(x)\n",
    "v_imag = np.zeros_like(y)\n",
    "\n",
    "# Create 3D figure\n",
    "fig = plt.figure()\n",
    "ax = fig.add_subplot(111, projection='3d')\n",
    "vlength = np.linalg.norm(eigenvectors)\n",
    "ax.quiver(x, y, u_imag, u_real-x, v_real-y, v_imag-u_imag,\n",
    "          colors='b', alpha=0.3, length=.2,\n",
    "          arrow_length_ratio=0.01)\n",
    "\n",
    "arrow_prop_dict = dict(mutation_scale=5,\n",
    "                       arrowstyle='-|>', shrinkA=0, shrinkB=0)\n",
    "\n",
    "# Plot 3D eigenvectors\n",
    "for c, i in zip(['b', 'g'], [0, 1]):\n",
    "    a = Arrow3D([0, eigenvectors[0][i].real],\n",
    "                [0, eigenvectors[1][i].real],\n",
    "                [0, eigenvectors[1][i].imag],\n",
    "                color=c, **arrow_prop_dict)\n",
    "    ax.add_artist(a)\n",
    "\n",
    "# Set axis labels and title\n",
    "ax.set_xlabel('x')\n",
    "ax.set_ylabel('y')\n",
    "ax.set_zlabel('Im')\n",
    "ax.set_box_aspect(aspect=None, zoom=0.8)\n",
    "\n",
    "plt.draw()\n",
    "plt.show()"
   ]
  }
 ],
 "metadata": {
  "date": 1701563598.1438494,
  "filename": "eigen_I.md",
  "kernelspec": {
   "display_name": "Python",
   "language": "python3",
   "name": "python3"
  },
  "title": "Eigenvalues and Eigenvectors"
 },
 "nbformat": 4,
 "nbformat_minor": 5
}