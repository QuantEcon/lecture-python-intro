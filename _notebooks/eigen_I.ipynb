{
 "cells": [
  {
   "cell_type": "markdown",
   "id": "a25aa153",
   "metadata": {},
   "source": [
    "\n",
    "<a id='eigen'></a>"
   ]
  },
  {
   "cell_type": "markdown",
   "id": "1a188faa",
   "metadata": {},
   "source": [
    "# Eigenvalues and Eigenvectors\n",
    "\n",
    "\n",
    "<a id='index-0'></a>"
   ]
  },
  {
   "cell_type": "markdown",
   "id": "4c0ef9c5",
   "metadata": {},
   "source": [
    "## Contents\n",
    "\n",
    "- [Eigenvalues and Eigenvectors](#Eigenvalues-and-Eigenvectors)  \n",
    "  - [Overview](#Overview)  \n",
    "  - [Matrices as Transformations](#Matrices-as-Transformations)  \n",
    "  - [Types of Transformations](#Types-of-Transformations)  \n",
    "  - [Matrix Multiplication as Composition](#Matrix-Multiplication-as-Composition)  \n",
    "  - [Iterating on a Fixed Map](#Iterating-on-a-Fixed-Map)  \n",
    "  - [Eigenvalues](#Eigenvalues)  \n",
    "  - [Exercises](#Exercises)  "
   ]
  },
  {
   "cell_type": "markdown",
   "id": "3f567424",
   "metadata": {},
   "source": [
    "## Overview\n",
    "\n",
    "Eigenvalues and eigenvectors are a somewhat advanced topic in linear and\n",
    "matrix algebra.\n",
    "\n",
    "At the same time, these concepts are extremely useful for\n",
    "\n",
    "- economic modeling (especially dynamics!)  \n",
    "- statistics  \n",
    "- some parts of applied mathematics  \n",
    "- machine learning  \n",
    "- and many other fields of science.  \n",
    "\n",
    "\n",
    "In this lecture we explain the basics of eigenvalues and eigenvectors, and\n",
    "state two very important results from linear algebra.\n",
    "\n",
    "The first is called the Neumann series theorem and the second is called the\n",
    "Perron-Frobenius theorem.\n",
    "\n",
    "We will explain what these theorems tell us and how we can use them to\n",
    "understand the predictions of economic models.\n",
    "\n",
    "We assume in this lecture that students are familiar with matrices and\n",
    "understand the basics of matrix algebra.\n",
    "\n",
    "We will use the following imports:"
   ]
  },
  {
   "cell_type": "markdown",
   "id": "99eadb0b",
   "metadata": {
    "hide-output": false
   },
   "source": [
    "```ipython3\n",
    "import matplotlib.pyplot as plt\n",
    "import numpy as np\n",
    "from numpy.linalg import matrix_power\n",
    "from matplotlib import cm\n",
    "from matplotlib.lines import Line2D\n",
    "from mpl_toolkits.mplot3d import Axes3D\n",
    "from matplotlib.patches import FancyArrowPatch\n",
    "from mpl_toolkits.mplot3d import proj3d\n",
    "```\n"
   ]
  },
  {
   "cell_type": "markdown",
   "id": "42486284",
   "metadata": {},
   "source": [
    "\n",
    "<a id='matrices-as-transformation'></a>"
   ]
  },
  {
   "cell_type": "markdown",
   "id": "c229512a",
   "metadata": {},
   "source": [
    "## Matrices as Transformations\n",
    "\n",
    "Let’s start by discussing an important concept concerning matrices."
   ]
  },
  {
   "cell_type": "markdown",
   "id": "5f782dc5",
   "metadata": {},
   "source": [
    "### Mapping Vectors into Vectors\n",
    "\n",
    "One way to think about a given matrix is as a rectangular collection of\n",
    "numbers.\n",
    "\n",
    "Another way to think about a matrix is as a **map** (i.e., as a function) that\n",
    "transforms vectors into new vectors.\n",
    "\n",
    "To understand the second point of view, suppose we multiply an $ n \\times m $\n",
    "matrix $ A $ with an $ m \\times 1 $ column vector $ x $ to obtain an $ n \\times 1 $\n",
    "column vector $ y $:\n",
    "\n",
    "$$\n",
    "Ax = y\n",
    "$$\n",
    "\n",
    "If we fix $ A $ and consider different choices of $ x $, we can understand $ A $ as\n",
    "a map transforming $ x $ into $ Ax $.\n",
    "\n",
    "Because $ A $ is $ n \\times m $, it transforms $ m $-vectors into $ n $-vectors.\n",
    "\n",
    "We can write this formally as $ A \\colon \\mathbb{R}^m \\rightarrow \\mathbb{R}^n $\n",
    "\n",
    "(You might argue that if $ A $ is a function then we should write\n",
    "$ A(x) = y $ rather than $ Ax = y $ but the second notation is more conventional.)"
   ]
  },
  {
   "cell_type": "markdown",
   "id": "5ee2403e",
   "metadata": {},
   "source": [
    "### Square Matrices\n",
    "\n",
    "Let’s restrict our discussion to square matrices.\n",
    "\n",
    "In the above discussion, this means that $ m=n $ and $ A $ maps $ \\mathbb R^n $ into\n",
    "itself.\n",
    "\n",
    "To repeat, $ A $ is an $ n \\times n $ matrix that maps (or “transforms”) a vector\n",
    "$ x $ in $ \\mathbb{R}^n $ into a new vector $ y=Ax $ also in $ \\mathbb{R}^n $.\n",
    "\n",
    "Here’s one example:\n",
    "\n",
    "$$\n",
    "\\begin{bmatrix}\n",
    "        2 & 1 \\\\\n",
    "        -1 & 1\n",
    "    \\end{bmatrix}\n",
    "    \\begin{bmatrix}\n",
    "        1 \\\\\n",
    "        3\n",
    "    \\end{bmatrix}\n",
    "    =\n",
    "    \\begin{bmatrix}\n",
    "        5 \\\\\n",
    "        2\n",
    "    \\end{bmatrix}\n",
    "$$\n",
    "\n",
    "Here, the matrix\n",
    "\n",
    "$$\n",
    "A = \\begin{bmatrix} 2 & 1 \\\\ \n",
    "                        -1 & 1 \n",
    "        \\end{bmatrix}\n",
    "$$\n",
    "\n",
    "transforms the vector $ x = \\begin{bmatrix} 1 \\\\ 3 \\end{bmatrix} $ into the vector\n",
    "$ y = \\begin{bmatrix} 5 \\\\ 2 \\end{bmatrix} $.\n",
    "\n",
    "Let’s visualize this using Python:"
   ]
  },
  {
   "cell_type": "markdown",
   "id": "6daa057f",
   "metadata": {
    "hide-output": false
   },
   "source": [
    "```ipython3\n",
    "A = np.array([[2,  1], \n",
    "              [-1, 1]])\n",
    "```\n"
   ]
  },
  {
   "cell_type": "markdown",
   "id": "83dceda9",
   "metadata": {
    "hide-output": false
   },
   "source": [
    "```ipython3\n",
    "from math import sqrt\n",
    "\n",
    "fig, ax = plt.subplots()\n",
    "# Set the axes through the origin\n",
    "\n",
    "for spine in ['left', 'bottom']:\n",
    "    ax.spines[spine].set_position('zero')\n",
    "for spine in ['right', 'top']:\n",
    "    ax.spines[spine].set_color('none')\n",
    "\n",
    "ax.set(xlim=(-2, 6), ylim=(-2, 4), aspect=1)\n",
    "\n",
    "vecs = ((1, 3),(5, 2))\n",
    "c = ['r','black']\n",
    "for i, v in enumerate(vecs):\n",
    "    ax.annotate('', xy=v, xytext=(0, 0),\n",
    "                arrowprops=dict(color=c[i],\n",
    "                shrink=0,\n",
    "                alpha=0.7,\n",
    "                width=0.5))\n",
    "    \n",
    "ax.text(0.2 + 1 , 0.2 + 3, 'x=$(1,3)$')\n",
    "ax.text(0.2 + 5 , 0.2 + 2, 'Ax=$(5,2)$')\n",
    "    \n",
    "ax.annotate('', xy=(sqrt(10/29)* 5, sqrt(10/29) *2), xytext=(0, 0),\n",
    "                arrowprops=dict(color='purple',\n",
    "                shrink=0,\n",
    "                alpha=0.7,\n",
    "                width=0.5))\n",
    "\n",
    "ax.annotate('',xy=(1,2/5),xytext=(1/3, 1),\n",
    "             arrowprops={'arrowstyle':'->', 'connectionstyle':'arc3,rad=-0.3'}\n",
    "             ,horizontalalignment='center')\n",
    "ax.text(0.8,0.8, f'θ',fontsize =14)\n",
    "\n",
    "plt.show()\n",
    "```\n"
   ]
  },
  {
   "cell_type": "markdown",
   "id": "bd6c3d7e",
   "metadata": {},
   "source": [
    "One way to understand this transformation is that $ A $\n",
    "\n",
    "- first rotates $ x $ by some angle $ \\theta $  \n",
    "- and then scales it by some scalar $ \\gamma $ to obtain the image $ y $ of $ x $.  "
   ]
  },
  {
   "cell_type": "markdown",
   "id": "2e79854d",
   "metadata": {},
   "source": [
    "## Types of Transformations\n",
    "\n",
    "Let’s examine some standard transformations we can perform with matrices.\n",
    "\n",
    "Below we visualize transformations by thinking of vectors as points\n",
    "instead of arrows.\n",
    "\n",
    "We consider how a given matrix transforms\n",
    "\n",
    "- a grid of points and  \n",
    "- a set of points located on the unit circle in $ \\mathbb{R}^2 $  \n",
    "\n",
    "\n",
    "To build the transformations we will use two functions, called `grid_transform` and `circle_transform`.\n",
    "\n",
    "Each of these functions visualizes the action of a given $ 2 \\times 2 $ matrix $ A $."
   ]
  },
  {
   "cell_type": "markdown",
   "id": "54978ded",
   "metadata": {
    "hide-output": false
   },
   "source": [
    "```ipython3\n",
    "def colorizer(x, y):\n",
    "    r = min(1, 1-y/3)\n",
    "    g = min(1, 1+y/3)\n",
    "    b = 1/4 + x/16\n",
    "    return (r, g, b)\n",
    "\n",
    "def grid_transform(A = np.array([[1, -1], [1, 1]])):\n",
    "    xvals = np.linspace(-4, 4, 9)\n",
    "    yvals = np.linspace(-3, 3, 7)\n",
    "    xygrid = np.column_stack([[x, y] for x in xvals for y in yvals])\n",
    "    uvgrid = A @ xygrid\n",
    "    \n",
    "    colors = list(map(colorizer, xygrid[0], xygrid[1]))\n",
    "    \n",
    "    figure, ax = plt.subplots(1,2, figsize = (10,5))\n",
    "    \n",
    "    for axes in ax:\n",
    "        axes.set(xlim=(-11, 11), ylim=(-11, 11))\n",
    "        axes.set_xticks([])\n",
    "        axes.set_yticks([])\n",
    "        for spine in ['left', 'bottom']:\n",
    "            axes.spines[spine].set_position('zero')\n",
    "        for spine in ['right', 'top']:\n",
    "            axes.spines[spine].set_color('none')\n",
    "    \n",
    "    # Plot x-y grid points\n",
    "    ax[0].scatter(xygrid[0], xygrid[1], s=36, c=colors, edgecolor=\"none\")\n",
    "    #ax[0].grid(True)\n",
    "    #ax[0].axis(\"equal\")\n",
    "    ax[0].set_title(\"points $x_1, x_2, \\cdots, x_k$\")\n",
    "    \n",
    "    # Plot transformed grid points\n",
    "    ax[1].scatter(uvgrid[0], uvgrid[1], s=36, c=colors, edgecolor=\"none\")\n",
    "    #ax[1].grid(True)\n",
    "    #ax[1].axis(\"equal\")\n",
    "    ax[1].set_title(\"points $Ax_1, Ax_2, \\cdots, Ax_k$\")\n",
    "    \n",
    "    plt.show()\n",
    "\n",
    "def circle_transform(A = np.array([[-1, 2], [0, 1]])):\n",
    "    \n",
    "    figure, ax = plt.subplots(1,2, figsize = (10,5))\n",
    "    \n",
    "    for axes in ax:\n",
    "        axes.set(xlim=(-4, 4), ylim=(-4, 4))\n",
    "        axes.set_xticks([])\n",
    "        axes.set_yticks([])\n",
    "        for spine in ['left', 'bottom']:\n",
    "            axes.spines[spine].set_position('zero')\n",
    "        for spine in ['right', 'top']:\n",
    "            axes.spines[spine].set_color('none')\n",
    "    \n",
    "    θ = np.linspace( 0 , 2 * np.pi , 150) \n",
    "    r = 1\n",
    "    \n",
    "    θ_1 = np.empty(12)\n",
    "    for i in range(12):\n",
    "        θ_1[i] = 2 * np.pi * (i/12)\n",
    "    \n",
    "    x = r * np.cos(θ) \n",
    "    y = r * np.sin(θ)\n",
    "    a = r * np.cos(θ_1)\n",
    "    b = r * np.sin(θ_1)\n",
    "    a_1 = a.reshape(1,-1)\n",
    "    b_1 = b.reshape(1,-1)\n",
    "    colors = list(map(colorizer, a, b))\n",
    "    ax[0].plot(x, y, color = 'black', zorder=1)\n",
    "    ax[0].scatter(a_1,b_1, c = colors, alpha = 1, s = 60, edgecolors = 'black', zorder =2)\n",
    "    ax[0].set_title(\"unit circle in $\\mathbb{R}^2$\")\n",
    "    \n",
    "    x1= x.reshape(1,-1)\n",
    "    y1 = y.reshape(1, -1)\n",
    "    ab = np.concatenate((a_1,b_1), axis=0)\n",
    "    transformed_ab = A @ ab\n",
    "    transformed_circle_input = np.concatenate((x1,y1), axis=0)\n",
    "    transformed_circle = A @ transformed_circle_input\n",
    "    ax[1].plot(transformed_circle[0,:], transformed_circle[1,:], color = 'black', zorder= 1) \n",
    "    ax[1].scatter(transformed_ab[0,:],transformed_ab[1:,], color = colors, alpha = 1, s = 60, edgecolors = 'black', zorder =2)\n",
    "    ax[1].set_title(\"transformed circle\")\n",
    "   \n",
    "    plt.show()\n",
    "```\n"
   ]
  },
  {
   "cell_type": "markdown",
   "id": "a2c64dd4",
   "metadata": {},
   "source": [
    "### Scaling\n",
    "\n",
    "A matrix of the form\n",
    "\n",
    "$$\n",
    "\\begin{bmatrix} \n",
    "        \\alpha & 0 \n",
    "        \\\\ 0 & \\beta \n",
    "    \\end{bmatrix}\n",
    "$$\n",
    "\n",
    "scales vectors across the x-axis by a factor $ \\alpha $ and along the y-axis by\n",
    "a factor $ \\beta $.\n",
    "\n",
    "Here we illustrate a simple example where $ \\alpha = \\beta = 3 $."
   ]
  },
  {
   "cell_type": "markdown",
   "id": "38ba9211",
   "metadata": {
    "hide-output": false
   },
   "source": [
    "```ipython3\n",
    "A = np.array([[3 ,0],    #scaling by 3 in both directions\n",
    "              [0, 3]])\n",
    "grid_transform(A)\n",
    "circle_transform(A)\n",
    "```\n"
   ]
  },
  {
   "cell_type": "markdown",
   "id": "e46e8dc5",
   "metadata": {},
   "source": [
    "### Shearing\n",
    "\n",
    "A “shear” matrix of the form\n",
    "\n",
    "$$\n",
    "\\begin{bmatrix} \n",
    "        1 & \\lambda \\\\ \n",
    "        0 & 1 \n",
    "    \\end{bmatrix}\n",
    "$$\n",
    "\n",
    "stretches vectors along the x-axis by an amount proportional to the\n",
    "y-coordinate of a point."
   ]
  },
  {
   "cell_type": "markdown",
   "id": "4cab0f21",
   "metadata": {
    "hide-output": false
   },
   "source": [
    "```ipython3\n",
    "A = np.array([[1, 2],     # shear along x-axis\n",
    "              [0, 1]])\n",
    "grid_transform(A)\n",
    "circle_transform(A)\n",
    "```\n"
   ]
  },
  {
   "cell_type": "markdown",
   "id": "de90454f",
   "metadata": {},
   "source": [
    "### Rotation\n",
    "\n",
    "A matrix of the form\n",
    "\n",
    "$$\n",
    "\\begin{bmatrix} \n",
    "        \\cos \\theta & \\sin \\theta \n",
    "        \\\\ - \\sin \\theta & \\cos \\theta \n",
    "    \\end{bmatrix}\n",
    "$$\n",
    "\n",
    "is called a *rotation matrix*.\n",
    "\n",
    "This matrix rotates vectors clockwise by an angle $ \\theta $."
   ]
  },
  {
   "cell_type": "markdown",
   "id": "34f1420e",
   "metadata": {
    "hide-output": false
   },
   "source": [
    "```ipython3\n",
    "θ = np.pi/4      #45 degree clockwise rotation\n",
    "A = np.array([[np.cos(θ), np.sin(θ)],\n",
    "              [-np.sin(θ), np.cos(θ)]])\n",
    "grid_transform(A)\n",
    "```\n"
   ]
  },
  {
   "cell_type": "markdown",
   "id": "35d2e74b",
   "metadata": {},
   "source": [
    "### Permutation\n",
    "\n",
    "The permutation matrix\n",
    "\n",
    "$$\n",
    "\\begin{bmatrix} \n",
    "        0 & 1 \\\\ \n",
    "        1 & 0 \n",
    "    \\end{bmatrix}\n",
    "$$\n",
    "\n",
    "interchanges the coordinates of a vector."
   ]
  },
  {
   "cell_type": "markdown",
   "id": "4dc04eb5",
   "metadata": {
    "hide-output": false
   },
   "source": [
    "```ipython3\n",
    "A = np.column_stack([[0, 1], [1, 0]])\n",
    "grid_transform(A)\n",
    "```\n"
   ]
  },
  {
   "cell_type": "markdown",
   "id": "a8f1d190",
   "metadata": {},
   "source": [
    "More examples of common transition matrices can be found [here](https://en.wikipedia.org/wiki/Transformation_matrix#Examples_in_2_dimensions)."
   ]
  },
  {
   "cell_type": "markdown",
   "id": "8ac66212",
   "metadata": {},
   "source": [
    "## Matrix Multiplication as Composition\n",
    "\n",
    "Since matrices act as functions that transform one vector to another, we can\n",
    "apply the concept of function composition to matrices as well."
   ]
  },
  {
   "cell_type": "markdown",
   "id": "fa5c6474",
   "metadata": {},
   "source": [
    "### Linear Compositions\n",
    "\n",
    "Consider the two matrices\n",
    "\n",
    "$$\n",
    "A = \n",
    "        \\begin{bmatrix} \n",
    "            0 & 1 \\\\ \n",
    "            -1 & 0 \n",
    "        \\end{bmatrix}\n",
    "        \\quad \\text{and} \\quad\n",
    "    B = \n",
    "        \\begin{bmatrix} \n",
    "            1 & 2 \\\\ \n",
    "            0 & 1 \n",
    "        \\end{bmatrix}\n",
    "$$\n",
    "\n",
    "What will the output be when we try to obtain $ ABx $ for some $ 2 \\times 1 $\n",
    "vector $ x $?\n",
    "\n",
    "$$\n",
    "\\color{red}{\\underbrace{\n",
    " \\color{black}{\\begin{bmatrix}\n",
    "  0 & 1 \\\\\n",
    " -1 & 0\n",
    " \\end{bmatrix}}\n",
    "}_{\\textstyle A} }\n",
    "\\color{red}{\\underbrace{\n",
    " \\color{black}{\\begin{bmatrix}\n",
    "  1 & 2 \\\\\n",
    "  0 & 1\n",
    " \\end{bmatrix}}\n",
    "}_{\\textstyle B}}\n",
    "\\color{red}{\\overbrace{\n",
    " \\color{black}{\\begin{bmatrix}\n",
    "  1 \\\\\n",
    "  3\n",
    " \\end{bmatrix}}\n",
    "}^{\\textstyle x}}\n",
    "\\rightarrow\n",
    "\\color{red}{\\underbrace{\n",
    " \\color{black}{\\begin{bmatrix}\n",
    "  0 & 1 \\\\\n",
    "  -1 & -2\n",
    " \\end{bmatrix}}\n",
    "}_{\\textstyle AB}}\n",
    "\\color{red}{\\overbrace{\n",
    " \\color{black}{\\begin{bmatrix}\n",
    "  1 \\\\\n",
    "  3\n",
    " \\end{bmatrix}}\n",
    "}^{\\textstyle x}}\n",
    "\\rightarrow\n",
    "\\color{red}{\\overbrace{\n",
    " \\color{black}{\\begin{bmatrix}\n",
    "  3 \\\\\n",
    "  -7\n",
    " \\end{bmatrix}}\n",
    "}^{\\textstyle y}}\n",
    "$$\n",
    "\n",
    "$$\n",
    "\\color{red}{\\underbrace{\n",
    " \\color{black}{\\begin{bmatrix}\n",
    "  0 & 1 \\\\\n",
    " -1 & 0\n",
    " \\end{bmatrix}}\n",
    "}_{\\textstyle A} }\n",
    "\\color{red}{\\underbrace{\n",
    " \\color{black}{\\begin{bmatrix}\n",
    "  1 & 2 \\\\\n",
    "  0 & 1\n",
    " \\end{bmatrix}}\n",
    "}_{\\textstyle B}}\n",
    "\\color{red}{\\overbrace{\n",
    " \\color{black}{\\begin{bmatrix}\n",
    "  1 \\\\\n",
    "  3\n",
    " \\end{bmatrix}}\n",
    "}^{\\textstyle x}}\n",
    "\\rightarrow\n",
    "\\color{red}{\\underbrace{\n",
    " \\color{black}{\\begin{bmatrix}\n",
    "  0 & 1 \\\\\n",
    "  -1 & 0\n",
    " \\end{bmatrix}}\n",
    "}_{\\textstyle A}}\n",
    "\\color{red}{\\overbrace{\n",
    " \\color{black}{\\begin{bmatrix}\n",
    "  7 \\\\\n",
    "  3\n",
    " \\end{bmatrix}}\n",
    "}^{\\textstyle Bx}}\n",
    "\\rightarrow\n",
    "\\color{red}{\\overbrace{\n",
    " \\color{black}{\\begin{bmatrix}\n",
    "  3 \\\\\n",
    "  -7\n",
    " \\end{bmatrix}}\n",
    "}^{\\textstyle y}}\n",
    "$$\n",
    "\n",
    "We can observe that applying the transformation $ AB $ on the vector $ x $ is the\n",
    "same as first applying $ B $ on $ x $ and then applying $ A $ on the vector $ Bx $.\n",
    "\n",
    "Thus the matrix product $ AB $ is the\n",
    "[composition](https://en.wikipedia.org/wiki/Function_composition) of the\n",
    "matrix transformations $ A $ and $ B $.\n",
    "\n",
    "(To compose the transformations, first apply transformation $ B $ and then\n",
    "transformation $ A $.)\n",
    "\n",
    "When we matrix multiply an $ n \\times m $ matrix $ A $ with an $ m \\times k $ matrix\n",
    "$ B $ the obtained matrix product is an $ n \\times k $ matrix $ AB $.\n",
    "\n",
    "Thus, if $ A $ and $ B $ are transformations such that $ A \\colon \\mathbb{R}^m \\to\n",
    "\\mathbb{R}^n $ and $ B \\colon \\mathbb{R}^k \\to \\mathbb{R}^m $, then $ AB $\n",
    "transforms $ \\mathbb{R}^k $ to $ \\mathbb{R}^n $.\n",
    "\n",
    "Viewing matrix multiplication as composition of maps helps us\n",
    "understand why, under matrix multiplication, $ AB $ is not generally equal to $ BA $.\n",
    "\n",
    "(After all, when we compose functions, the order usually matters.)"
   ]
  },
  {
   "cell_type": "markdown",
   "id": "a12f606b",
   "metadata": {},
   "source": [
    "### Examples\n",
    "\n",
    "Let $ A $ be the $ 90^{\\circ} $ clockwise rotation matrix given by\n",
    "$ \\begin{bmatrix} 0 & 1 \\\\ -1 & 0 \\end{bmatrix} $ and let $ B $ be a shear matrix\n",
    "along the x-axis given by $ \\begin{bmatrix} 1 & 2 \\\\ 0 & 1 \\end{bmatrix} $.\n",
    "\n",
    "We will visualize how a grid of points changes when we apply the\n",
    "transformation $ AB $ and then compare it with the transformation $ BA $."
   ]
  },
  {
   "cell_type": "markdown",
   "id": "dc13df1c",
   "metadata": {
    "hide-output": false
   },
   "source": [
    "```ipython3\n",
    "def grid_composition_transform(A = np.array([[1, -1], [1, 1]]), B = np.array([[1, -1], [1, 1]])):\n",
    "    xvals = np.linspace(-4, 4, 9)\n",
    "    yvals = np.linspace(-3, 3, 7)\n",
    "    xygrid = np.column_stack([[x, y] for x in xvals for y in yvals])\n",
    "    uvgrid = B @ xygrid\n",
    "    abgrid = A @ uvgrid\n",
    "    \n",
    "    colors = list(map(colorizer, xygrid[0], xygrid[1]))\n",
    "    \n",
    "    figure, ax = plt.subplots(1,3, figsize = (15,5))\n",
    "    \n",
    "    for axes in ax:\n",
    "        axes.set(xlim=(-12, 12), ylim=(-12, 12))\n",
    "        axes.set_xticks([])\n",
    "        axes.set_yticks([])\n",
    "        for spine in ['left', 'bottom']:\n",
    "            axes.spines[spine].set_position('zero')\n",
    "        for spine in ['right', 'top']:\n",
    "            axes.spines[spine].set_color('none')\n",
    "            \n",
    "    # Plot grid points\n",
    "    ax[0].scatter(xygrid[0], xygrid[1], s=36, c=colors, edgecolor=\"none\")\n",
    "    ax[0].set_title(\"points $x_1, x_2, \\cdots, x_k$\")\n",
    "    \n",
    "    # Plot intermediate grid points\n",
    "    ax[1].scatter(uvgrid[0], uvgrid[1], s=36, c=colors, edgecolor=\"none\")\n",
    "    ax[1].set_title(\"points $Bx_1, Bx_2, \\cdots, Bx_k$\")\n",
    "    \n",
    "    #Plot transformed grid points\n",
    "    ax[2].scatter(abgrid[0], abgrid[1], s=36, c=colors, edgecolor=\"none\")\n",
    "    ax[2].set_title(\"points $ABx_1, ABx_2, \\cdots, ABx_k$\")\n",
    "\n",
    "    plt.show()\n",
    "```\n"
   ]
  },
  {
   "cell_type": "markdown",
   "id": "344e3ead",
   "metadata": {
    "hide-output": false
   },
   "source": [
    "```ipython3\n",
    "θ = np.pi/2 \n",
    "#B = np.array([[np.cos(θ), np.sin(θ)],\n",
    "#              [-np.sin(θ), np.cos(θ)]])\n",
    "A = np.array([[0, 1],     # 90 degree clockwise rotation\n",
    "              [-1, 0]])\n",
    "B = np.array([[1, 2],     # shear along x-axis\n",
    "              [0, 1]])\n",
    "```\n"
   ]
  },
  {
   "cell_type": "markdown",
   "id": "b47f66b6",
   "metadata": {},
   "source": [
    "#### Shear then Rotate"
   ]
  },
  {
   "cell_type": "markdown",
   "id": "d7d23346",
   "metadata": {
    "hide-output": false
   },
   "source": [
    "```ipython3\n",
    "grid_composition_transform(A,B)        #transformation AB\n",
    "```\n"
   ]
  },
  {
   "cell_type": "markdown",
   "id": "69551784",
   "metadata": {},
   "source": [
    "#### Rotate then Shear"
   ]
  },
  {
   "cell_type": "markdown",
   "id": "1c714ae8",
   "metadata": {
    "hide-output": false
   },
   "source": [
    "```ipython3\n",
    "grid_composition_transform(B,A)         #transformation BA\n",
    "```\n"
   ]
  },
  {
   "cell_type": "markdown",
   "id": "de029532",
   "metadata": {},
   "source": [
    "It is quite evident that the transformation $ AB $ is not the same as the transformation $ BA $."
   ]
  },
  {
   "cell_type": "markdown",
   "id": "3b317218",
   "metadata": {},
   "source": [
    "## Iterating on a Fixed Map\n",
    "\n",
    "In economics (and especially in dynamic modeling), we often are interested in\n",
    "analyzing behavior where we repeatedly apply a fixed matrix.\n",
    "\n",
    "For example, given a vector $ v $ and a matrix $ A $, we are interested in\n",
    "studying the sequence\n",
    "\n",
    "$$\n",
    "v, \\quad\n",
    "    Av, \\quad\n",
    "    AAv = A^2v, \\ldots\n",
    "$$\n",
    "\n",
    "Let’s first see examples of a sequence of iterates $ (A^k v)_{k \\geq 0} $ under\n",
    "different maps $ A $.\n",
    "\n",
    "\n",
    "<a id='plot-series'></a>"
   ]
  },
  {
   "cell_type": "markdown",
   "id": "b7de86bd",
   "metadata": {
    "hide-output": false
   },
   "source": [
    "```ipython3\n",
    "def plot_series(B, v, n):\n",
    "    \n",
    "    A = np.array([[1, -1],\n",
    "                  [1, 0]])\n",
    "    \n",
    "    figure, ax = plt.subplots()\n",
    "    \n",
    "    ax.set(xlim=(-4, 4), ylim=(-4, 4))\n",
    "    ax.set_xticks([])\n",
    "    ax.set_yticks([])\n",
    "    for spine in ['left', 'bottom']:\n",
    "        ax.spines[spine].set_position('zero')\n",
    "    for spine in ['right', 'top']:\n",
    "        ax.spines[spine].set_color('none')\n",
    "        \n",
    "    θ = np.linspace( 0 , 2 * np.pi , 150) \n",
    "    r = 2.5\n",
    "    x = r * np.cos(θ) \n",
    "    y = r * np.sin(θ)\n",
    "    x1 = x.reshape(1,-1)\n",
    "    y1 = y.reshape(1, -1)\n",
    "    xy = np.concatenate((x1,y1), axis=0)\n",
    "    \n",
    "    ellipse = A @ xy\n",
    "    ax.plot(ellipse[0,:], ellipse[1,:], color = 'black', linestyle = (0, (5,10)), linewidth = 0.5)\n",
    "    \n",
    "    colors = plt.cm.rainbow(np.linspace(0,1,20))# Initialize holder for trajectories\n",
    "    \n",
    "    for i in range(n):\n",
    "        iteration = matrix_power(B, i) @ v\n",
    "        v1 = iteration[0]\n",
    "        v2 = iteration[1]\n",
    "        ax.scatter(v1, v2, color=colors[i])\n",
    "        if i == 0:\n",
    "            ax.text(v1+0.25, v2, f'$v$')\n",
    "        if i == 1:\n",
    "            ax.text(v1+0.25, v2, f'$Av$')\n",
    "        if 1< i < 4:\n",
    "            ax.text(v1+0.25, v2, f'$A^{i}v$')\n",
    "            \n",
    "    plt.show()\n",
    "```\n"
   ]
  },
  {
   "cell_type": "markdown",
   "id": "b279a319",
   "metadata": {
    "hide-output": false
   },
   "source": [
    "```ipython3\n",
    "B = np.array([[sqrt(3) + 1, -2],\n",
    "              [1, sqrt(3) - 1]])\n",
    "B = (1/(2*sqrt(2))) * B\n",
    "v = (-3, -3)\n",
    "n = 12\n",
    "\n",
    "plot_series(B, v, n)\n",
    "```\n"
   ]
  },
  {
   "cell_type": "markdown",
   "id": "e6ed64a2",
   "metadata": {},
   "source": [
    "Here with each iteration the vectors get shorter, i.e., move closer to the origin.\n",
    "\n",
    "In this case, repeatedly multiplying a vector by $ A $ makes the vector “spiral in”."
   ]
  },
  {
   "cell_type": "markdown",
   "id": "96a26872",
   "metadata": {
    "hide-output": false
   },
   "source": [
    "```ipython3\n",
    "B = np.array([[sqrt(3) + 1, -2],\n",
    "              [1, sqrt(3) - 1]])\n",
    "B = (1/2) * B\n",
    "v = (2.5, 0)\n",
    "n = 12\n",
    "\n",
    "plot_series(B, v, n)\n",
    "```\n"
   ]
  },
  {
   "cell_type": "markdown",
   "id": "ec53de6a",
   "metadata": {},
   "source": [
    "Here with each iteration vectors do not tend to get longer or shorter.\n",
    "\n",
    "In this case, repeatedly multiplying a vector by $ A $ simply “rotates it around\n",
    "an ellipse”."
   ]
  },
  {
   "cell_type": "markdown",
   "id": "8c8f06aa",
   "metadata": {
    "hide-output": false
   },
   "source": [
    "```ipython3\n",
    "B = np.array([[sqrt(3) + 1, -2],\n",
    "              [1, sqrt(3) - 1]])\n",
    "B = (1/sqrt(2)) * B\n",
    "v = (-1, -0.25)\n",
    "n = 6\n",
    "\n",
    "plot_series(B, v, n)\n",
    "```\n"
   ]
  },
  {
   "cell_type": "markdown",
   "id": "e8c69881",
   "metadata": {},
   "source": [
    "Here with each iteration vectors tend to get longer, i.e., farther from the\n",
    "origin.\n",
    "\n",
    "In this case, repeatedly multiplying a vector by $ A $ makes the vector “spiral out”.\n",
    "\n",
    "We thus observe that the sequence $ (A^kv)_{k \\geq 0} $ behaves differently depending on the map $ A $ itself.\n",
    "\n",
    "We now discuss the property of A that determines this behavior.\n",
    "\n",
    "\n",
    "<a id='la-eigenvalues'></a>"
   ]
  },
  {
   "cell_type": "markdown",
   "id": "26252ef1",
   "metadata": {},
   "source": [
    "## Eigenvalues\n",
    "\n",
    "\n",
    "<a id='index-1'></a>\n",
    "In this section we introduce the notions of eigenvalues and eigenvectors."
   ]
  },
  {
   "cell_type": "markdown",
   "id": "b7eb19b7",
   "metadata": {},
   "source": [
    "### Definitions\n",
    "\n",
    "Let $ A $ be an $ n \\times n $ square matrix.\n",
    "\n",
    "If $ \\lambda $ is scalar and $ v $ is a non-zero $ n $-vector  such that\n",
    "\n",
    "$$\n",
    "A v = \\lambda v\n",
    "$$\n",
    "\n",
    "then we say that $ \\lambda $ is an *eigenvalue* of $ A $, and $ v $ is an *eigenvector*.\n",
    "\n",
    "Thus, an eigenvector of $ A $ is a nonzero vector $ v $ such that when the map $ A $ is\n",
    "applied, $ v $ is merely scaled.\n",
    "\n",
    "The next figure shows two eigenvectors (blue arrows) and their images under\n",
    "$ A $ (red arrows).\n",
    "\n",
    "As expected, the image $ Av $ of each $ v $ is just a scaled version of the original"
   ]
  },
  {
   "cell_type": "markdown",
   "id": "f4f6f806",
   "metadata": {
    "hide-output": false
   },
   "source": [
    "```ipython3\n",
    "from numpy.linalg import eig\n",
    "\n",
    "A = ((1, 2),\n",
    "     (2, 1))\n",
    "A = np.array(A)\n",
    "evals, evecs = eig(A)\n",
    "evecs = evecs[:, 0], evecs[:, 1]\n",
    "\n",
    "fig, ax = plt.subplots(figsize=(10, 8))\n",
    "# Set the axes through the origin\n",
    "for spine in ['left', 'bottom']:\n",
    "    ax.spines[spine].set_position('zero')\n",
    "for spine in ['right', 'top']:\n",
    "    ax.spines[spine].set_color('none')\n",
    "#ax.grid(alpha=0.4)\n",
    "\n",
    "xmin, xmax = -3, 3\n",
    "ymin, ymax = -3, 3\n",
    "ax.set(xlim=(xmin, xmax), ylim=(ymin, ymax))\n",
    "\n",
    "# Plot each eigenvector\n",
    "for v in evecs:\n",
    "    ax.annotate('', xy=v, xytext=(0, 0),\n",
    "                arrowprops=dict(facecolor='blue',\n",
    "                shrink=0,\n",
    "                alpha=0.6,\n",
    "                width=0.5))\n",
    "\n",
    "# Plot the image of each eigenvector\n",
    "for v in evecs:\n",
    "    v = A @ v\n",
    "    ax.annotate('', xy=v, xytext=(0, 0),\n",
    "                arrowprops=dict(facecolor='red',\n",
    "                shrink=0,\n",
    "                alpha=0.6,\n",
    "                width=0.5))\n",
    "\n",
    "# Plot the lines they run through\n",
    "x = np.linspace(xmin, xmax, 3)\n",
    "for v in evecs:\n",
    "    a = v[1] / v[0]\n",
    "    ax.plot(x, a * x, 'b-', lw=0.4)\n",
    "\n",
    "plt.show()\n",
    "```\n"
   ]
  },
  {
   "cell_type": "markdown",
   "id": "8bb625c5",
   "metadata": {},
   "source": [
    "### Complex Values\n",
    "\n",
    "So far our definition of eigenvalues and eigenvectors seems straightforward.\n",
    "\n",
    "There is, however, one complication we haven’t mentioned yet:\n",
    "\n",
    "When solving $ Av = \\lambda v $,\n",
    "\n",
    "- $ \\lambda $ is allowed to be a complex number and  \n",
    "- $ v $ is allowed to be an $ n $-vector of complex numbers.  \n",
    "\n",
    "\n",
    "We will see some examples below."
   ]
  },
  {
   "cell_type": "markdown",
   "id": "f2201648",
   "metadata": {},
   "source": [
    "### Some Mathematical Details\n",
    "\n",
    "We note some mathematical details for more advanced readers.\n",
    "\n",
    "(Other readers can skip to the next section.)\n",
    "\n",
    "The eigenvalue equation is equivalent to $ (A - \\lambda I) v = 0 $.\n",
    "\n",
    "This equation has a nonzero solution $ v $ only when the columns of $ A - \\lambda I $ are linearly dependent.\n",
    "\n",
    "This in turn is equivalent to stating that the determinant is zero.\n",
    "\n",
    "Hence, to find all eigenvalues, we can look for $ \\lambda $ such that the\n",
    "determinant of $ A - \\lambda I $ is zero.\n",
    "\n",
    "This problem can be expressed as one of solving for the roots of a polynomial\n",
    "in $ \\lambda $ of degree $ n $.\n",
    "\n",
    "This in turn implies the existence of $ n $ solutions in the complex\n",
    "plane, although some might be repeated."
   ]
  },
  {
   "cell_type": "markdown",
   "id": "0d69a066",
   "metadata": {},
   "source": [
    "### Facts\n",
    "\n",
    "Some nice facts about the eigenvalues of a square matrix $ A $ are as follows:\n",
    "\n",
    "1. The determinant of $ A $ equals  the product of the eigenvalues.  \n",
    "1. The trace of $ A $ (the sum of the elements on the principal diagonal) equals the sum of the eigenvalues.  \n",
    "1. If $ A $ is symmetric, then all of its eigenvalues are real.  \n",
    "1. If $ A $ is invertible and $ \\lambda_1, \\ldots, \\lambda_n $ are its eigenvalues, then the eigenvalues of $ A^{-1} $ are $ 1/\\lambda_1, \\ldots, 1/\\lambda_n $.  \n",
    "\n",
    "\n",
    "A corollary of the first statement is that a matrix is invertible if and only if all its eigenvalues are nonzero."
   ]
  },
  {
   "cell_type": "markdown",
   "id": "2d6d5e85",
   "metadata": {},
   "source": [
    "### Computation\n",
    "\n",
    "Using NumPy, we can solve for the eigenvalues and eigenvectors of a matrix as follows"
   ]
  },
  {
   "cell_type": "markdown",
   "id": "5468f3fb",
   "metadata": {
    "hide-output": false
   },
   "source": [
    "```ipython3\n",
    "from numpy.linalg import eig\n",
    "\n",
    "A = ((1, 2),\n",
    "     (2, 1))\n",
    "\n",
    "A = np.array(A)\n",
    "evals, evecs = eig(A)\n",
    "evals   #eigenvalues\n",
    "```\n"
   ]
  },
  {
   "cell_type": "markdown",
   "id": "7cbce19c",
   "metadata": {
    "hide-output": false
   },
   "source": [
    "```ipython3\n",
    "evecs   #eigenvectors\n",
    "```\n"
   ]
  },
  {
   "cell_type": "markdown",
   "id": "f17a68c6",
   "metadata": {},
   "source": [
    "Note that the *columns* of `evecs` are the eigenvectors.\n",
    "\n",
    "Since any scalar multiple of an eigenvector is an eigenvector with the same\n",
    "eigenvalue (check it), the eig routine normalizes the length of each eigenvector\n",
    "to one.\n",
    "\n",
    "The eigenvectors and eigenvalues of a map $ A $ determine how a vector $ v $ is transformed when we repeatedly multiply by $ A $.\n",
    "\n",
    "This is discussed further later."
   ]
  },
  {
   "cell_type": "markdown",
   "id": "6f9ab347",
   "metadata": {},
   "source": [
    "## Exercises"
   ]
  },
  {
   "cell_type": "markdown",
   "id": "d02cd49d",
   "metadata": {},
   "source": [
    "## Exercise 13.1\n",
    "\n",
    "Power iteration is a method for finding the largest absolute eigenvalue of a diagonalizable matrix.\n",
    "\n",
    "The method starts with a random vector $ b_0 $ and repeatedly applies the matrix $ A $ to it\n",
    "\n",
    "$$\n",
    "b_{k+1}=\\frac{A b_k}{\\left\\|A b_k\\right\\|}\n",
    "$$\n",
    "\n",
    "A thorough discussion of the method can be found [here](https://pythonnumericalmethods.berkeley.edu/notebooks/chapter15.02-The-Power-Method.html).\n",
    "\n",
    "In this exercise, implement the power iteration method and use it to find the largest eigenvalue of the matrix.\n",
    "\n",
    "Visualize your results by plotting the eigenvalue as a function of the number of iterations."
   ]
  },
  {
   "cell_type": "markdown",
   "id": "d54bae7b",
   "metadata": {},
   "source": [
    "## Solution to[ Exercise 13.1](#eig1_ex1)\n",
    "\n",
    "Here is one solution.\n",
    "\n",
    "We start by looking into the distance between the eigenvector approximation and the true eigenvector."
   ]
  },
  {
   "cell_type": "markdown",
   "id": "69e24ed1",
   "metadata": {
    "hide-output": false
   },
   "source": [
    "```ipython3\n",
    "# Define a matrix A\n",
    "A = np.array([[1, 0, 3], \n",
    "              [0, 2, 0], \n",
    "              [3, 0, 1]])\n",
    "\n",
    "# Define a number of iterations\n",
    "num_iters = 20\n",
    "\n",
    "# Define a random starting vector b\n",
    "b = np.random.rand(A.shape[1])\n",
    "\n",
    "# Initialize a list to store the eigenvector approximations\n",
    "norm_ls = []\n",
    "res = []\n",
    "\n",
    "# Power iteration loop\n",
    "for i in range(num_iters):\n",
    "    # Multiply b by A\n",
    "    b = A @ b\n",
    "    # Normalize b\n",
    "    b = b / np.linalg.norm(b)\n",
    "    # Append b to the list of eigenvector approximations\n",
    "    res.append(b)\n",
    "    norm = np.linalg.norm(np.array(b) - np.linalg.eig(A)[1][:, 0])\n",
    "    norm_ls.append(norm)\n",
    "    \n",
    "# Plot the eigenvector approximations for each iteration\n",
    "plt.figure(figsize=(10, 6))\n",
    "plt.xlabel('Iterations')\n",
    "plt.ylabel('L2 Norm')\n",
    "plt.title('Distance between the Approximation and the True Eigenvector')\n",
    "_ = plt.plot(norm_ls)\n",
    "```\n"
   ]
  },
  {
   "cell_type": "markdown",
   "id": "de307efb",
   "metadata": {},
   "source": [
    "Then we can look at the trajectory of the eigenvector approximation"
   ]
  },
  {
   "cell_type": "markdown",
   "id": "e406b1d7",
   "metadata": {
    "hide-output": false
   },
   "source": [
    "```ipython3\n",
    "# Get the eigenvectors of matrix A\n",
    "eigenvector = np.linalg.eig(A)[1][:, 0]\n",
    "\n",
    "# Set up the figure and axis for 3D plot\n",
    "fig = plt.figure()\n",
    "ax = fig.add_subplot(111, projection='3d')\n",
    "\n",
    "# Plot the eigenvectors\n",
    "ax.scatter(eigenvector[0], eigenvector[1], eigenvector[2], color='r', s = 80)\n",
    "\n",
    "# Plot the approximated eigenvectors (b) at each iteration\n",
    "for i, vec in enumerate(res):\n",
    "    ax.scatter(vec[0], vec[1], vec[2], color='b', alpha=(i + 1) / (num_iters+1), s = 80)\n",
    "\n",
    "ax.set_xlabel('X')\n",
    "ax.set_ylabel('Y')\n",
    "ax.set_zlabel('Z')\n",
    "ax.set_title('Power Iteration and Eigenvector Approximations')\n",
    "points = [plt.Line2D([0], [0], linestyle='none', c=i, marker='o') for i in ['r', 'b']]\n",
    "ax.legend(points, ['Actual eigenvectors', 'Approximated eigenvectors (b)'], numpoints=1)\n",
    "ax.set_box_aspect(aspect=None, zoom=0.8)\n",
    "\n",
    "# Show the plot\n",
    "plt.show()\n",
    "```\n"
   ]
  },
  {
   "cell_type": "markdown",
   "id": "402c5824",
   "metadata": {},
   "source": [
    "## Exercise 13.2\n",
    "\n",
    "We have discussed the trajectory of the vector $ v $ after being transformed by $ A $.\n",
    "\n",
    "Consider the matrix $ A = \\begin{bmatrix} 1 & 2 \\\\ 1 & 1 \\end{bmatrix} $ and the vector $ v = \\begin{bmatrix} 2 \\\\ -2 \\end{bmatrix} $.\n",
    "\n",
    "Try to compute the trajectory of $ v $ after being transformed by $ A $ for $ n=6 $ iterations and plot the result."
   ]
  },
  {
   "cell_type": "markdown",
   "id": "ce9a3521",
   "metadata": {},
   "source": [
    "## Solution to[ Exercise 13.2](#eig1_ex2)"
   ]
  },
  {
   "cell_type": "markdown",
   "id": "e579d2ab",
   "metadata": {
    "hide-output": false
   },
   "source": [
    "```ipython3\n",
    "A = np.array([[1, 2], \n",
    "              [1, 1]])\n",
    "v = (0.4, -0.4)\n",
    "n = 11\n",
    "\n",
    "# Compute right eigenvectors and eigenvalues\n",
    "eigenvalues, eigenvectors = np.linalg.eig(A)\n",
    "\n",
    "print(f\"eigenvalues:\\n {eigenvalues}\")\n",
    "print(f\"eigenvectors:\\n {eigenvectors}\")\n",
    "\n",
    "plot_series(A, v, n)\n",
    "```\n"
   ]
  },
  {
   "cell_type": "markdown",
   "id": "4d5dfce3",
   "metadata": {},
   "source": [
    "We find the trajectory of the vector $ v $ after being transformed by $ A $ for $ n=6 $ iterations and plot the result seems to converge to the eigenvector of $ A $ with the largest eigenvalue.\n",
    "\n",
    "Let’s use a vector field to visualize the transformation brought by A."
   ]
  },
  {
   "cell_type": "markdown",
   "id": "da368789",
   "metadata": {
    "hide-output": false
   },
   "source": [
    "```ipython3\n",
    "# Create a grid of points (vector field)\n",
    "x, y = np.meshgrid(np.linspace(-5, 5, 15), np.linspace(-5, 5, 20))\n",
    "\n",
    "# Apply the matrix A to each point in the vector field\n",
    "vec_field = np.stack([x, y])\n",
    "u, v = np.tensordot(A, vec_field, axes=1)\n",
    "\n",
    "\n",
    "# Plot the transformed vector field\n",
    "c = plt.streamplot(x, y, u - x, v - y, density=1, linewidth=None, color='#A23BEC')\n",
    "c.lines.set_alpha(0.5)\n",
    "c.arrows.set_alpha(0.5)\n",
    "\n",
    "# Plot the eigenvectors as long blue and green arrows\n",
    "origin = np.zeros((2, len(eigenvectors)))\n",
    "parameters = {'color':['b', 'g'], 'angles':'xy', \n",
    "                'scale_units':'xy', 'scale':0.1, 'width':0.01}\n",
    "plt.quiver(*origin, eigenvectors[0], eigenvectors[1], **parameters)\n",
    "plt.quiver(*origin, - eigenvectors[0], - eigenvectors[1], **parameters)\n",
    "\n",
    "colors = ['b', 'g']\n",
    "lines = [Line2D([0], [0], color=c, linewidth=3) for c in colors]\n",
    "labels = [\"2.4 eigenspace\", \"0.4 eigenspace\"]\n",
    "plt.legend(lines, labels,loc='center left', bbox_to_anchor=(1, 0.5))\n",
    "\n",
    "plt.title(\"Convergence/Divergence towards Eigenvectors\")\n",
    "plt.xlabel(\"x-axis\")\n",
    "plt.ylabel(\"y-axis\")\n",
    "plt.grid()\n",
    "plt.gca().set_aspect('equal', adjustable='box')\n",
    "plt.show()\n",
    "```\n"
   ]
  },
  {
   "cell_type": "markdown",
   "id": "371ad667",
   "metadata": {},
   "source": [
    "Note that the vector field converges to the eigenvector of $ A $ with the largest eigenvalue and diverges from the eigenvector of $ A $ with the smallest eigenvalue.\n",
    "\n",
    "In fact, the eigenvectors are also the directions in which the matrix $ A $ stretches or shrinks the space.\n",
    "\n",
    "Specifically, the eigenvector with the largest eigenvalue is the direction in which the matrix $ A $ stretches the space the most.\n",
    "\n",
    "We will see more intriguing examples of eigenvectors in the following exercise."
   ]
  },
  {
   "cell_type": "markdown",
   "id": "20b5bca0",
   "metadata": {},
   "source": [
    "## Exercise 13.3\n",
    "\n",
    "[Previously](#plot-series), we demonstrated the trajectory of the vector $ v $ after being transformed by $ A $ for three different matrices.\n",
    "\n",
    "Use the visualization in the previous exercise to explain why the trajectory of the vector $ v $ after being transformed by $ A $ for the three different matrices."
   ]
  },
  {
   "cell_type": "markdown",
   "id": "472e1a48",
   "metadata": {},
   "source": [
    "## Solution to[ Exercise 13.3](#eig1_ex3)\n",
    "\n",
    "Here is one solution"
   ]
  },
  {
   "cell_type": "markdown",
   "id": "f21566cd",
   "metadata": {
    "hide-output": false
   },
   "source": [
    "```ipython3\n",
    "figure, ax = plt.subplots(1,3, figsize = (15,5))\n",
    "A = np.array([[sqrt(3) + 1, -2],\n",
    "              [1, sqrt(3) - 1]])\n",
    "A = (1/(2*sqrt(2))) * A\n",
    "\n",
    "B = np.array([[sqrt(3) + 1, -2],\n",
    "              [1, sqrt(3) - 1]])\n",
    "B = (1/2) * B\n",
    "\n",
    "C = np.array([[sqrt(3) + 1, -2],\n",
    "              [1, sqrt(3) - 1]])\n",
    "C = (1/sqrt(2)) * C\n",
    "\n",
    "examples = [A, B, C]\n",
    "\n",
    "for i, example in enumerate(examples):\n",
    "    M = example\n",
    "\n",
    "    # Compute right eigenvectors and eigenvalues\n",
    "    eigenvalues, eigenvectors = np.linalg.eig(M)\n",
    "    print(f'Example {i+1}:\\n')\n",
    "    print(f'eigenvalues:\\n {eigenvalues}')\n",
    "    print(f'eigenvectors:\\n {eigenvectors}\\n')\n",
    "\n",
    "    eigenvalues_real = eigenvalues.real\n",
    "    eigenvectors_real = eigenvectors.real\n",
    "\n",
    "    # Create a grid of points (vector field)\n",
    "    x, y = np.meshgrid(np.linspace(-20, 20, 15), np.linspace(-20, 20, 20))\n",
    "\n",
    "    # Apply the matrix A to each point in the vector field\n",
    "    vec_field = np.stack([x, y])\n",
    "    u, v = np.tensordot(M, vec_field, axes=1)\n",
    "\n",
    "    # Plot the transformed vector field\n",
    "    c = ax[i].streamplot(x, y, u - x, v - y, density=1, linewidth=None, color='#A23BEC')\n",
    "    c.lines.set_alpha(0.5)\n",
    "    c.arrows.set_alpha(0.5)\n",
    "\n",
    "    # Plot the eigenvectors as long blue and green arrows\n",
    "    parameters = {'color':['b', 'g'], 'angles':'xy', \n",
    "                'scale_units':'xy', 'scale':1, 'width':0.01, 'alpha':0.5}\n",
    "    origin = np.zeros((2, len(eigenvectors)))\n",
    "    ax[i].quiver(*origin, eigenvectors_real[0], eigenvectors_real[1], **parameters)\n",
    "    ax[i].quiver(*origin, - eigenvectors_real[0], - eigenvectors_real[1], **parameters)\n",
    "\n",
    "    ax[i].set_xlabel(\"x-axis\")\n",
    "    ax[i].set_ylabel(\"y-axis\")\n",
    "    ax[i].grid()\n",
    "    ax[i].set_aspect('equal', adjustable='box')\n",
    "\n",
    "plt.show()\n",
    "```\n"
   ]
  },
  {
   "cell_type": "markdown",
   "id": "e31ced9b",
   "metadata": {},
   "source": [
    "The vector fields explain why we observed the trajectories of the vector $ v $ multiplied by $ A $ iteratively before.\n",
    "\n",
    "The pattern demonstrated here is because we have complex eigenvalues and eigenvectors.\n",
    "\n",
    "It is important to acknowledge that there is a complex plane.\n",
    "\n",
    "If we add the complex axis to the plot, the plot will be more complicated.\n",
    "\n",
    "Here we used the real part of the eigenvalues and eigenvectors.\n",
    "\n",
    "We can try to plot the complex plane for one of the matrices using `Arrow3D` class retrieved from [stackoverflow](https://stackoverflow.com/questions/22867620/putting-arrowheads-on-vectors-in-matplotlibs-3d-plot)."
   ]
  },
  {
   "cell_type": "markdown",
   "id": "5a104c2a",
   "metadata": {
    "hide-output": false
   },
   "source": [
    "```ipython3\n",
    "class Arrow3D(FancyArrowPatch):\n",
    "    def __init__(self, xs, ys, zs, *args, **kwargs):\n",
    "        super().__init__((0,0), (0,0), *args, **kwargs)\n",
    "        self._verts3d = xs, ys, zs\n",
    "\n",
    "    def do_3d_projection(self, renderer=None):\n",
    "        xs3d, ys3d, zs3d = self._verts3d\n",
    "        xs, ys, zs = proj3d.proj_transform(xs3d, ys3d, zs3d, self.axes.M)\n",
    "        self.set_positions((0.1*xs[0],0.1*ys[0]),(0.1*xs[1],0.1*ys[1]))\n",
    "\n",
    "        return np.min(zs)\n",
    "\n",
    "eigenvalues, eigenvectors = np.linalg.eig(A)\n",
    "\n",
    "# Create meshgrid for vector field\n",
    "x, y = np.meshgrid(np.linspace(-2, 2, 15), np.linspace(-2, 2, 15))\n",
    "\n",
    "# Calculate vector field (real and imaginary parts)\n",
    "u_real = A[0][0] * x + A[0][1] * y\n",
    "v_real = A[1][0] * x + A[1][1] * y\n",
    "u_imag = np.zeros_like(x)\n",
    "v_imag = np.zeros_like(y)\n",
    "\n",
    "# Create 3D figure\n",
    "fig = plt.figure()\n",
    "ax = fig.add_subplot(111, projection='3d')\n",
    "vlength = np.linalg.norm(eigenvectors)\n",
    "ax.quiver(x, y, u_imag, u_real-x, v_real-y, v_imag-u_imag, colors = 'b', alpha=0.3, length = .2, arrow_length_ratio = 0.01)\n",
    "\n",
    "arrow_prop_dict = dict(mutation_scale=5, arrowstyle='-|>', shrinkA=0, shrinkB=0)\n",
    "\n",
    "# Plot 3D eigenvectors\n",
    "for c, i in zip(['b', 'g'], [0, 1]):\n",
    "    a = Arrow3D([0, eigenvectors[0][i].real], [0, eigenvectors[1][i].real], \n",
    "            [0, eigenvectors[1][i].imag], color=c, **arrow_prop_dict)\n",
    "    ax.add_artist(a)\n",
    "\n",
    "# Set axis labels and title\n",
    "ax.set_xlabel('X')\n",
    "ax.set_ylabel('Y')\n",
    "ax.set_zlabel('Im')\n",
    "ax.set_box_aspect(aspect=None, zoom=0.8)\n",
    "\n",
    "plt.draw()\n",
    "plt.show()\n",
    "```\n"
   ]
  }
 ],
 "metadata": {
  "date": 1681898274.4237506,
  "filename": "eigen_I.md",
  "kernelspec": {
   "display_name": "Python",
   "language": "python3",
   "name": "python3"
  },
  "title": "Eigenvalues and Eigenvectors"
 },
 "nbformat": 4,
 "nbformat_minor": 5
}