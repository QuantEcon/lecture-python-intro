{
 "cells": [
  {
   "cell_type": "markdown",
   "id": "55f77183",
   "metadata": {},
   "source": [
    "# The Overlapping Generations Model\n",
    "\n",
    "In this lecture we study the overlapping generations (OLG) model.\n",
    "\n",
    "The dynamics of this model are quite similar to Solow-Swan growth model.\n",
    "\n",
    "At the same time, the OLG model adds an important new feature: the choice of\n",
    "how much to save is endogenous.\n",
    "\n",
    "To see why this is important, suppose, for example, that we are interested in\n",
    "predicting the effect of a new tax on long-run growth.\n",
    "\n",
    "We could add a tax to the Solow-Swan model and look at the change in the\n",
    "steady state.\n",
    "\n",
    "But this ignores something important: households will change their behavior\n",
    "when they face the new tax rate.\n",
    "\n",
    "Some might decide to save less, and some might decide to save more.\n",
    "\n",
    "Such changes can substantially alter the predictions of the model.\n",
    "\n",
    "Hence, if we care about accurate predictions, we should model the decision\n",
    "problems of the agents.\n",
    "\n",
    "In particular, households in the model should decide how much to save and how\n",
    "much to consume, given the environment that they face (technology, taxes,\n",
    "prices, etc.)\n",
    "\n",
    "The OLG model takes up this challenge.\n",
    "\n",
    "We will present a simple version of the OLG model that clarifies the decision\n",
    "problem of households and studies the implications for long run growth.\n",
    "\n",
    "Let’s start with some imports."
   ]
  },
  {
   "cell_type": "markdown",
   "id": "43740ae8",
   "metadata": {
    "hide-output": false
   },
   "source": [
    "```ipython3\n",
    "import numpy as np\n",
    "from scipy import optimize\n",
    "from collections import namedtuple\n",
    "from functools import partial\n",
    "import matplotlib.pyplot as plt\n",
    "plt.rcParams[\"figure.figsize\"] = (11, 5)  #set default figure size\n",
    "```\n"
   ]
  },
  {
   "cell_type": "markdown",
   "id": "88e1f01c",
   "metadata": {},
   "source": [
    "## Environment\n",
    "\n",
    "TODO add timing and basic ideas of OLG\n",
    "\n",
    "We assume that\n",
    "\n",
    "- time is discrete, so that $ t=0, 1, \\ldots $,  \n",
    "- individuals born at time $ t $ live for two periods: $ t $ and $ t + 1 $,  \n",
    "- capital depreciates fully after one period (TODO to be checked)  \n",
    "\n",
    "\n",
    "First let’s consider the household side."
   ]
  },
  {
   "cell_type": "markdown",
   "id": "08b9d7ca",
   "metadata": {},
   "source": [
    "## Supply of capital"
   ]
  },
  {
   "cell_type": "markdown",
   "id": "5fdc8db5",
   "metadata": {},
   "source": [
    "### Consumer’s problem\n",
    "\n",
    "Suppose that utility for individuals born at time $ t $ take the form\n",
    "\n",
    "\n",
    "<a id='equation-eq-crra'></a>\n",
    "$$\n",
    "U_t = u(c^1_t) + \\beta u(c^2_{t+1}) \\tag{20.1}\n",
    "$$\n",
    "\n",
    "Here\n",
    "\n",
    "- $ u: \\mathbb R_+ \\to \\mathbb R $ is the flow utility function satisfying some properties  \n",
    "- $ \\beta \\in (0, 1) $ is the discount factor  \n",
    "- $ c^1_t $ is time $ t $ consumption of the individual born at time $ t $  \n",
    "- $ c^2_{t+1} $ is time $ t+1 $ consumption of the same individual (born at time $ t $)  \n",
    "\n",
    "\n",
    "Savings by an individual of generation $ t $, $ s_t $, is determined as a\n",
    "solution to:\n",
    "\n",
    "\n",
    "<a id='equation-max-sav-olg'></a>\n",
    "$$\n",
    "\\begin{aligned}\n",
    "    \\max_{c^1_t, c^2_{t+1}, s_t} \\ & \\left \\{ u(c^1_t) + \\beta u(c^2_{t+1}) \\right \\} \\\\\n",
    "    \\mbox{subject to } \\ & c^1_t + s_t \\le w_t \\\\\n",
    "                         & c^2_{t+1} \\le R_{t+1}s_t\\\\\n",
    "    \\end{aligned} \\tag{20.2}\n",
    "$$\n",
    "\n",
    "where\n",
    "\n",
    "- $ w_t $ is the wage rate at time  \n",
    "- $ R_{t+1} $ is time $ t+1 $ rental rate of capital.  \n",
    "\n",
    "\n",
    "The second constraint incorporates the notion that individuals only spend\n",
    "money on their own end of life consumption. Also, Since $ u $ is strictly increasing, both constraints will hold as equalities.\n",
    "\n",
    "Substituting $ s_t $ from the first constraint into the second we get $ c^2_{t+1} $ in terms of $ c^1_t $, i.e.,\n",
    "\n",
    "\n",
    "<a id='equation-c-2-olg'></a>\n",
    "$$\n",
    "c^2_{t+1} = R_{t+1}(w_t - c^1_t) \\tag{20.3}\n",
    "$$\n",
    "\n",
    "Thus first-order condition for a maximum can be written in the\n",
    "familiar form of the consumption Euler equation by plugging $ c^2_{t+1} $ into the objective function and taking derivative with respect to $ c^1_t $\n",
    "\n",
    "\n",
    "<a id='equation-euler-1-olg'></a>\n",
    "$$\n",
    "u'(c^1_t) = \\beta R_{t+1}  u'( R_{t+1} (w_t - c^1_t)) \\tag{20.4}\n",
    "$$\n",
    "\n",
    "From the first constraint we get\n",
    "\n",
    "\n",
    "<a id='equation-c-1-olg'></a>\n",
    "$$\n",
    "c^1_{t} = w_t - s_t \\tag{20.5}\n",
    "$$\n",
    "\n",
    "With it the Euler equation (4) becomes\n",
    "\n",
    "\n",
    "<a id='equation-euler-2-olg'></a>\n",
    "$$\n",
    "u'(w_t - s_t) = \\beta R_{t+1}  u'( R_{t+1} s_t) \\tag{20.6}\n",
    "$$\n",
    "\n",
    "From this we can solve for savings analytically or, if necessary, numerically\n",
    "\n",
    "\n",
    "<a id='equation-saving-1-olg'></a>\n",
    "$$\n",
    "s_t = s(w_t, R_{t+1}) \\tag{20.7}\n",
    "$$\n",
    "\n",
    "Let $ L_t $ be the time $ t $ labor.\n",
    "\n",
    "Furthermore let’s assume a constant population size, i.e., $ L_{t+1}=L_t=L $ for all $ t $.\n",
    "\n",
    "Total savings in the economy will be equal to\n",
    "\n",
    "\n",
    "<a id='equation-total-savings-1-olg'></a>\n",
    "$$\n",
    "S_t = s_t L \\tag{20.8}\n",
    "$$\n",
    "\n",
    "In our closed economy, net saving this period will be equal to supply next period, i.e.,\n",
    "\n",
    "\n",
    "<a id='equation-aggregate-supply-capital-1-olg'></a>\n",
    "$$\n",
    "K_{t+1} = K^S(w_t, R_{t+1}) =  S_t = L s_t = L s(w_t, R_{t+1}) \\tag{20.9}\n",
    "$$\n",
    "\n",
    "Here $ K^S $ is a time-invariant function mapping wage $ w_t $ and capital return rate $ R_{t+1} $ to aggregate capital supply $ K_{t+1} $."
   ]
  },
  {
   "cell_type": "markdown",
   "id": "d7fc6283",
   "metadata": {},
   "source": [
    "### Special case: log preference\n",
    "\n",
    "Assume $ u(c) = \\log c $.\n",
    "\n",
    "The Euler equation simplifies to\n",
    "\n",
    "\n",
    "<a id='equation-saving-log-1-olg'></a>\n",
    "$$\n",
    "s_t= \\beta (w_t - s_t) \\tag{20.10}\n",
    "$$\n",
    "\n",
    "Solving for saving,\n",
    "\n",
    "\n",
    "<a id='equation-saving-log-2-olg'></a>\n",
    "$$\n",
    "s_t = s(w_t, R_{t+1}) = \\frac{\\beta}{1+\\beta} w_t \\tag{20.11}\n",
    "$$\n",
    "\n",
    "And hence\n",
    "\n",
    "\n",
    "<a id='equation-aggregate-supply-capital-log-olg'></a>\n",
    "$$\n",
    "K_{t+1} = K^s(R_{t+1}) = Ls_t = L \\frac{\\beta}{1+\\beta} w_t \\tag{20.12}\n",
    "$$"
   ]
  },
  {
   "cell_type": "markdown",
   "id": "667692dc",
   "metadata": {},
   "source": [
    "## Demand for capital"
   ]
  },
  {
   "cell_type": "markdown",
   "id": "25886482",
   "metadata": {},
   "source": [
    "### Firm’s problem\n",
    "\n",
    "For each integer $ t \\geq 0 $, output $ Y_t $ in period $ t $ is given by\n",
    "\n",
    "\n",
    "<a id='equation-cobb-douglas'></a>\n",
    "$$\n",
    "Y_t = K_t^{\\alpha} L_t^{1-\\alpha} \\tag{20.13}\n",
    "$$\n",
    "\n",
    "Here $ K_t $ is capital, $ L_t $ is labor, and  $ \\alpha $ is the output elasticity of capital in the **Cobb-Douglas production function**.\n",
    "\n",
    "Demand for labor $ L $ and capital $ K_t $ is determined by the profit maximization problem\n",
    "\n",
    "\n",
    "<a id='equation-opt-profit-olg'></a>\n",
    "$$\n",
    "\\max_{K_t, L} \\{ K^{\\alpha}_t L^{1-\\alpha} - R_t K_t - L w_t   \\} \\tag{20.14}\n",
    "$$"
   ]
  },
  {
   "cell_type": "markdown",
   "id": "24bc6d7f",
   "metadata": {},
   "source": [
    "### Demand for capital\n",
    "\n",
    "The first-order conditions for a maximum can be obtained by taking the derivative of the objective function with respect to capital and labor respectively and setting it to zero:\n",
    "\n",
    "\n",
    "<a id='equation-wage'></a>\n",
    "$$\n",
    "(1-\\alpha)(K_t / L)^{\\alpha} = w_t \\tag{20.15}\n",
    "$$\n",
    "\n",
    "and\n",
    "\n",
    "\n",
    "<a id='equation-interest-rate'></a>\n",
    "$$\n",
    "\\alpha (K_t / L)^{\\alpha - 1} = R_t \\tag{20.16}\n",
    "$$\n",
    "\n",
    "Rearranging [(20.16)](#equation-interest-rate) gives the aggregate demand for capital\n",
    "\n",
    "\n",
    "<a id='equation-aggregate-demand-capital-olg'></a>\n",
    "$$\n",
    "K_{t+1} = K^d (R_{t+1}) = L \\left (\\frac{R_{t+1}}{\\alpha} \\right )^{1/(\\alpha - 1)} \\tag{20.17}\n",
    "$$"
   ]
  },
  {
   "cell_type": "markdown",
   "id": "4b85314a",
   "metadata": {},
   "source": [
    "## Equilibrium\n",
    "\n",
    "The equality of aggregate demand [(20.17)](#equation-aggregate-demand-capital-olg) and aggregate supply [(20.12)](#equation-aggregate-supply-capital-log-olg) for capital yields the equalibrium.\n",
    "\n",
    "Specifically we have\n",
    "\n",
    "\n",
    "<a id='equation-equilibrium-1'></a>\n",
    "$$\n",
    "K^s(R_{t+1}) = K^d(R_{t+1}) \\tag{20.18}\n",
    "$$\n",
    "\n",
    "or, equivalently,\n",
    "\n",
    "\n",
    "<a id='equation-equilibrium-2'></a>\n",
    "$$\n",
    "L\\frac{\\beta}{1+\\beta} (1-\\alpha)(K_t / L)^{\\alpha} = L\\left (\\frac{R_{t+1}}{\\alpha} \\right )^{1/(\\alpha - 1)} \\tag{20.19}\n",
    "$$\n",
    "\n",
    "Then we can solve for the equilibrium price\n",
    "\n",
    "\n",
    "<a id='equation-equilibrium-price'></a>\n",
    "$$\n",
    "R^*_{t+1} = \\alpha \\left ( \\frac{\\beta (1-\\alpha)(K_t / L)^{\\alpha}}{1+\\beta} \\right )^{\\alpha - 1} \\tag{20.20}\n",
    "$$\n",
    "\n",
    "Plugging it into either the demand or the supply function gives the equilibrium quantity\n",
    "\n",
    "\n",
    "<a id='equation-equilibrium-quantity'></a>\n",
    "$$\n",
    "K^*_{t+1} = \\frac{\\beta }{1+\\beta} (1-\\alpha)(K_t / L)^{\\alpha} L \\tag{20.21}\n",
    "$$"
   ]
  },
  {
   "cell_type": "markdown",
   "id": "f56e4840",
   "metadata": {
    "hide-output": false
   },
   "source": [
    "```ipython3\n",
    "Model = namedtuple('Model', ['α',        # output elasticity of capital in the Cobb-Douglas production function\n",
    "                             'β',        # discount factor\n",
    "                             'u',        # parameter which defines the flow utility\n",
    "                             'L',        # population size\n",
    "                             'u_params'] # other params used to define u\n",
    "                   )\n",
    "```\n"
   ]
  },
  {
   "cell_type": "markdown",
   "id": "f553fa1f",
   "metadata": {
    "hide-output": false
   },
   "source": [
    "```ipython3\n",
    "def u(c):\n",
    "    return np.log(c)\n",
    "```\n"
   ]
  },
  {
   "cell_type": "markdown",
   "id": "ba7bc55f",
   "metadata": {
    "hide-output": false
   },
   "source": [
    "```ipython3\n",
    "def create_olg_model(α=0.3, β=0.9, u=u, L=10.0, u_params=dict()):\n",
    "    return Model(α=α, β=β, u=u, L=L, u_params=u_params)\n",
    "```\n"
   ]
  },
  {
   "cell_type": "markdown",
   "id": "63986bfb",
   "metadata": {
    "hide-output": false
   },
   "source": [
    "```ipython3\n",
    "def equilibrium(model, K_prev):\n",
    "    α, β, L = model.α, model.β, model.L\n",
    "    R = α * ( β * (1-α) * (K_prev / L)**α / (1+β))**(α-1)\n",
    "    K = β / (1+β) * (1-α) * (K_prev / L)**α * L\n",
    "    return R, K\n",
    "```\n"
   ]
  },
  {
   "cell_type": "markdown",
   "id": "82caa53f",
   "metadata": {
    "hide-output": false
   },
   "source": [
    "```ipython3\n",
    "def aggregate_capital_demand(R, model, K_prev):\n",
    "    α, L = model.α, model.L\n",
    "    return (R/α)**(1/(α-1)) * L\n",
    "```\n"
   ]
  },
  {
   "cell_type": "markdown",
   "id": "a22dbc04",
   "metadata": {
    "hide-output": false
   },
   "source": [
    "```ipython3\n",
    "def aggregate_capital_supply(R, model, K_prev):\n",
    "    α, β, L = model.α, model.β, model.L\n",
    "    λ = np.ones_like(R)\n",
    "    return λ * β / (1+β) * (1-α) * (K_prev / L)**α * L\n",
    "```\n"
   ]
  },
  {
   "cell_type": "markdown",
   "id": "653fd6da",
   "metadata": {
    "hide-output": false
   },
   "source": [
    "```ipython3\n",
    "def plot_ad_as(demand, supply, m, K_prev, E_star=None):\n",
    "\n",
    "    R_vals = np.linspace(0.3, 1)\n",
    "\n",
    "    fig, ax = plt.subplots()\n",
    "\n",
    "    ax.plot(R_vals, demand(R_vals, m, K_prev), label=\"aggregate demand\")\n",
    "    ax.plot(R_vals, supply(R_vals, m, K_prev), label=\"aggregate supply\")\n",
    "\n",
    "    if E_star:\n",
    "        R_star, K_star = E_star\n",
    "\n",
    "        ax.plot(R_star, K_star, 'go', ms=10, alpha=0.6)\n",
    "\n",
    "        ax.annotate(r'Equilibrium',\n",
    "                 xy=(R_star, K_star),\n",
    "                 xycoords='data',\n",
    "                 xytext=(0, -60),\n",
    "                 textcoords='offset points',\n",
    "                 fontsize=14,\n",
    "                 arrowprops=dict(arrowstyle=\"->\"))\n",
    "\n",
    "    ax.set_xlabel(\"$R_{t+1}$\")\n",
    "    ax.set_ylabel(\"$K_{t+1}$\")\n",
    "    ax.legend()\n",
    "    plt.show()\n",
    "```\n"
   ]
  },
  {
   "cell_type": "markdown",
   "id": "c6019010",
   "metadata": {
    "hide-output": false
   },
   "source": [
    "```ipython3\n",
    "m = create_olg_model()\n",
    "K_prev = 50\n",
    "```\n"
   ]
  },
  {
   "cell_type": "markdown",
   "id": "aba776e6",
   "metadata": {
    "hide-output": false
   },
   "source": [
    "```ipython3\n",
    "E_star = equilibrium(m, K_prev)\n",
    "```\n"
   ]
  },
  {
   "cell_type": "markdown",
   "id": "7edb91d0",
   "metadata": {
    "hide-output": false
   },
   "source": [
    "```ipython3\n",
    "R_star, K_star = E_star\n",
    "```\n"
   ]
  },
  {
   "cell_type": "markdown",
   "id": "5156d4c6",
   "metadata": {
    "hide-output": false
   },
   "source": [
    "```ipython3\n",
    "plot_ad_as(aggregate_capital_demand, aggregate_capital_supply, m, K_prev=50, E_star=E_star)\n",
    "```\n"
   ]
  },
  {
   "cell_type": "markdown",
   "id": "f422a6e3",
   "metadata": {},
   "source": [
    "Let’s observe the dynamics of the equilibrium price $ R^*_{t+1} $."
   ]
  },
  {
   "cell_type": "markdown",
   "id": "d9c7c10d",
   "metadata": {
    "hide-output": false
   },
   "source": [
    "```ipython3\n",
    "K_t_vals = np.linspace(10, 500, 10_000)\n",
    "R_t1_vals = m.α * (m.β * (1-m.α) * (K_t_vals / m.L)**m.α / (1+m.β))**(m.α-1)\n",
    "```\n"
   ]
  },
  {
   "cell_type": "markdown",
   "id": "1666c085",
   "metadata": {
    "hide-output": false
   },
   "source": [
    "```ipython3\n",
    "fig, ax = plt.subplots()\n",
    "ax.plot(K_t_vals, R_t1_vals)\n",
    "ax.set_ylabel(\"$R^*_{t+1}$\")\n",
    "ax.set_xlabel(\"$K_{t}$\")\n",
    "plt.show()\n",
    "```\n"
   ]
  },
  {
   "cell_type": "markdown",
   "id": "86cc77c2",
   "metadata": {},
   "source": [
    "## Dynamics and steady state\n",
    "\n",
    "Let $ k_t := K_t / L $.\n",
    "\n",
    "Aggregate supply of capital [(20.12)](#equation-aggregate-supply-capital-log-olg) becomes\n",
    "\n",
    "\n",
    "<a id='equation-supply-capital-log-olg'></a>\n",
    "$$\n",
    "k_{t+1} = k^s(R_{t+1}) = \\frac{\\beta}{1+\\beta} w_t \\tag{20.22}\n",
    "$$\n",
    "\n",
    "[(20.15)](#equation-wage) becomes\n",
    "\n",
    "\n",
    "<a id='equation-wage-2'></a>\n",
    "$$\n",
    "(1-\\alpha)(k_t)^{\\alpha} = w_t \\tag{20.23}\n",
    "$$\n",
    "\n",
    "Combining [(20.22)](#equation-supply-capital-log-olg) and [(20.23)](#equation-wage-2) yields the law of motion for capital\n",
    "\n",
    "\n",
    "<a id='equation-law-of-motion-capital'></a>\n",
    "$$\n",
    "k_{t+1} = \\frac{\\beta}{1+\\beta} (1-\\alpha)(k_t)^{\\alpha} \\tag{20.24}\n",
    "$$\n",
    "\n",
    "A steady state can be solved analytically in this case.\n",
    "\n",
    "That is, $ k_{t+1} = k_t = k^* $, where\n",
    "\n",
    "\n",
    "<a id='equation-steady-state-1'></a>\n",
    "$$\n",
    "k^* = \\frac{\\beta (1-\\alpha) (k^*)^{\\alpha}}{(1+\\beta)} \\tag{20.25}\n",
    "$$\n",
    "\n",
    "We can solve this equation to obtain\n",
    "\n",
    "\n",
    "<a id='equation-steady-state-2'></a>\n",
    "$$\n",
    "k^* = \\left (\\frac{\\beta (1-\\alpha)}{1+\\beta} \\right )^{1/(1-\\alpha)} \\tag{20.26}\n",
    "$$"
   ]
  },
  {
   "cell_type": "markdown",
   "id": "b126678c",
   "metadata": {
    "hide-output": false
   },
   "source": [
    "```ipython3\n",
    "def k_update(k, model):\n",
    "    α, β = model.α, model.β\n",
    "    return β * (1 - α) * k**α /  (1 + β)\n",
    "```\n"
   ]
  },
  {
   "cell_type": "markdown",
   "id": "e39c28fb",
   "metadata": {
    "hide-output": false
   },
   "source": [
    "```ipython3\n",
    "def plot_45(m, k_update, kstar=None):\n",
    "    kmin, kmax = 0, 0.6\n",
    "    x = 1000\n",
    "    k_grid = np.linspace(kmin, kmax, x)\n",
    "    k_grid_next = np.empty_like(k_grid)\n",
    "\n",
    "    for i in range(x):\n",
    "        k_grid_next[i] = k_update(k_grid[i], m)\n",
    "\n",
    "    fig, ax = plt.subplots(figsize=(6, 6))\n",
    "\n",
    "    ymin, ymax = np.min(k_grid_next), np.max(k_grid_next)\n",
    "\n",
    "    ax.plot(k_grid, k_grid_next,  lw=2, alpha=0.6, label='$g$')\n",
    "    ax.plot(k_grid, k_grid, 'k-', lw=1, alpha=0.7, label='$45^{\\circ}$')\n",
    "\n",
    "    if kstar:\n",
    "        fps = (kstar,)\n",
    "\n",
    "        ax.plot(fps, fps, 'go', ms=10, alpha=0.6)\n",
    "\n",
    "        ax.annotate(r'$k^*$',\n",
    "                 xy=(kstar, kstar),\n",
    "                 xycoords='data',\n",
    "                 xytext=(0, -60),\n",
    "                 textcoords='offset points',\n",
    "                 fontsize=14,\n",
    "                 arrowprops=dict(arrowstyle=\"->\"))\n",
    "\n",
    "    ax.legend(loc='upper left', frameon=False, fontsize=12)\n",
    "    ax.set_xlabel('$k_t$', fontsize=12)\n",
    "    ax.set_ylabel('$k_{t+1}$', fontsize=12)\n",
    "\n",
    "    plt.show()\n",
    "```\n"
   ]
  },
  {
   "cell_type": "markdown",
   "id": "c58e0634",
   "metadata": {
    "hide-output": false
   },
   "source": [
    "```ipython3\n",
    "plot_45(m, k_update, kstar=None)\n",
    "```\n"
   ]
  },
  {
   "cell_type": "markdown",
   "id": "cd5ae0d8",
   "metadata": {
    "hide-output": false
   },
   "source": [
    "```ipython3\n",
    "def k_star(model):\n",
    "    α, β = model.α, model.β\n",
    "    return (β * (1-α) / (1+β)  )**(1/(1-α))\n",
    "```\n"
   ]
  },
  {
   "cell_type": "markdown",
   "id": "88843318",
   "metadata": {
    "hide-output": false
   },
   "source": [
    "```ipython3\n",
    "plot_45(m, k_update, kstar=k_star(m))\n",
    "```\n"
   ]
  },
  {
   "cell_type": "markdown",
   "id": "48597f34",
   "metadata": {},
   "source": [
    "## Another special case: CRRA preference\n",
    "\n",
    "Let’s now assume that the model is the same except that $ u(c) = \\frac{ c^{1- \\gamma}-1}{1-\\gamma} $, where $ \\gamma >0, \\gamma\\neq 1 $."
   ]
  },
  {
   "cell_type": "markdown",
   "id": "896f7352",
   "metadata": {
    "hide-output": false
   },
   "source": [
    "```ipython3\n",
    "def crra(c, γ=0.5):\n",
    "    return c**(1 - γ) / (1 - γ)\n",
    "```\n"
   ]
  },
  {
   "cell_type": "markdown",
   "id": "53a7442c",
   "metadata": {
    "hide-output": false
   },
   "source": [
    "```ipython3\n",
    "m_crra = create_olg_model(u=crra, u_params={'γ': 0.5})\n",
    "```\n"
   ]
  },
  {
   "cell_type": "markdown",
   "id": "cccd6445",
   "metadata": {},
   "source": [
    "### New aggregate supply\n",
    "\n",
    "For households, the Euler equation becomes\n",
    "\n",
    "\n",
    "<a id='equation-euler-crra'></a>\n",
    "$$\n",
    "(w_t - s_t)^{-\\gamma} = \\beta R^{1-\\gamma}_{t+1}  (s_t)^{-\\gamma} \\tag{20.27}\n",
    "$$\n",
    "\n",
    "Solving for savings, we have\n",
    "\n",
    "\n",
    "<a id='equation-saving-crra'></a>\n",
    "$$\n",
    "s_t = s(w_t, R_{t+1}) = w_t \\left [ 1 + \\beta^{-1/\\gamma} R_{t+1}^{(\\gamma-1)/\\gamma} \\right ]^{-1} \\tag{20.28}\n",
    "$$\n",
    "\n",
    "With the CRRA utility, the aggregate supply of capital [(20.9)](#equation-aggregate-supply-capital-1-olg) becomes\n",
    "\n",
    "\n",
    "<a id='equation-aggregate-supply-capital-crra-olg'></a>\n",
    "$$\n",
    "K_{t+1} = K^S(w_t, R_{t+1}) =  S_t = L s_t = L s(w_t, R_{t+1}) = L w_t \\left [ 1 + \\beta^{-1/\\gamma} R_{t+1}^{(\\gamma-1)/\\gamma} \\right ]^{-1} \\tag{20.29}\n",
    "$$"
   ]
  },
  {
   "cell_type": "markdown",
   "id": "8df020eb",
   "metadata": {},
   "source": [
    "### Equilibrium\n",
    "\n",
    "The equality of aggregate demand [(20.17)](#equation-aggregate-demand-capital-olg) and new aggregate supply [(20.29)](#equation-aggregate-supply-capital-crra-olg) for capital yields the equalibrium.\n",
    "\n",
    "Specifically we have\n",
    "\n",
    "\n",
    "<a id='equation-equilibrium-crra-1'></a>\n",
    "$$\n",
    "K^S(R_{t+1}) = K^d(R_{t+1}) \\tag{20.30}\n",
    "$$\n",
    "\n",
    "or equivalently\n",
    "\n",
    "\n",
    "<a id='equation-equilibrium-crra-2'></a>\n",
    "$$\n",
    "L w_t \\left [ 1 + \\beta^{-1/\\gamma} R_{t+1}^{(\\gamma-1)/\\gamma} \\right ]^{-1} = L\\left (\\frac{R_{t+1}}{\\alpha} \\right )^{1/(\\alpha - 1)} \\tag{20.31}\n",
    "$$\n",
    "\n",
    "Combining with [(20.15)](#equation-wage) yields\n",
    "\n",
    "\n",
    "<a id='equation-equilibrium-crra'></a>\n",
    "$$\n",
    "L (1-\\alpha)(K_t / L)^{\\alpha} \\left [ 1 + \\beta^{-1/\\gamma} R_{t+1}^{(\\gamma-1)/\\gamma} \\right ]^{-1} = L\\left (\\frac{R_{t+1}}{\\alpha} \\right )^{1/(\\alpha - 1)} \\tag{20.32}\n",
    "$$\n",
    "\n",
    "Here we cannot solve for the equilibrium price and quantity analytically.\n",
    "\n",
    "Exercise 1 asks you to solve [(20.32)](#equation-equilibrium-crra) to obtain the equilibrium quantity $ R_{t+1} $ and the equilibrium price numerically, and verify it using the plot below.\n",
    "\n",
    "Below we just show a plot of the equilibrium."
   ]
  },
  {
   "cell_type": "markdown",
   "id": "24da7054",
   "metadata": {
    "hide-output": false
   },
   "source": [
    "```ipython3\n",
    "def aggregate_supply_capital_crra(R, model, K_prev):\n",
    "    α, β, γ, L = model.α, model.β, model.u_params['γ'], model.L\n",
    "    return L**(1-α) * (1-α) * K_prev**α / ( 1 + β**(-1/γ) * R**((γ-1)/γ) )\n",
    "```\n"
   ]
  },
  {
   "cell_type": "markdown",
   "id": "b94c1b7f",
   "metadata": {
    "hide-output": false
   },
   "source": [
    "```ipython3\n",
    "plot_ad_as(aggregate_capital_demand, aggregate_supply_capital_crra, m_crra, K_prev=50, E_star=None)  # John this is to be fixed.\n",
    "```\n"
   ]
  },
  {
   "cell_type": "markdown",
   "id": "fdbfec8b",
   "metadata": {},
   "source": [
    "Let’s plot the aggregate supply with different values of utility parameter $ \\gamma $ and observe it’s behaviour."
   ]
  },
  {
   "cell_type": "markdown",
   "id": "558efdc1",
   "metadata": {
    "hide-output": false
   },
   "source": [
    "```ipython3\n",
    "γ_vals = [0.1, 0.5, 1.5, 2.0]\n",
    "K_prev = 50\n",
    "\n",
    "\n",
    "fig, ax = plt.subplots()\n",
    "R_vals = np.linspace(0.3, 1)\n",
    "\n",
    "for γ in γ_vals:\n",
    "    m = create_olg_model(u=partial(crra, γ=γ), u_params={'γ': γ})\n",
    "    ax.plot(R_vals, aggregate_supply_capital_crra(R_vals, m, K_prev),\n",
    "            label=r\"$\\gamma=$\" + str(γ))\n",
    "\n",
    "ax.set_xlabel(\"$R_{t+1}$\")\n",
    "ax.set_title(\"Aggregate Supply\")\n",
    "ax.legend()\n",
    "plt.show()\n",
    "```\n"
   ]
  },
  {
   "cell_type": "markdown",
   "id": "38906dd1",
   "metadata": {},
   "source": [
    "When $ \\gamma <1 $ the supply curve is downward sloping. When $ \\gamma > 1 $ the supply curve is upward sloping.\n",
    "\n",
    "TODO: Do we need to add some explanation?"
   ]
  },
  {
   "cell_type": "markdown",
   "id": "1fafc978",
   "metadata": {},
   "source": [
    "### Dynamics and steady state\n",
    "\n",
    "Setting $ k_t := K_t / L $ and using [(20.28)](#equation-saving-crra).\n",
    "\n",
    "Aggregate supply of capital [(20.9)](#equation-aggregate-supply-capital-1-olg) becomes\n",
    "\n",
    "\n",
    "<a id='equation-supply-capital-crra-olg'></a>\n",
    "$$\n",
    "k_{t+1} = k^s(R_{t+1}) = \\left [ 1 + \\beta^{-1/\\gamma} R_{t+1}^{(\\gamma-1)/\\gamma} \\right ]^{-1} w_t \\tag{20.33}\n",
    "$$\n",
    "\n",
    "[(20.16)](#equation-interest-rate) becomes\n",
    "\n",
    "\n",
    "<a id='equation-interest-rate-2'></a>\n",
    "$$\n",
    "\\alpha k^{\\alpha - 1}_t = R_t \\tag{20.34}\n",
    "$$\n",
    "\n",
    "Combing with [(20.23)](#equation-wage-2) and [(20.33)](#equation-supply-capital-crra-olg) gives\n",
    "\n",
    "\n",
    "<a id='equation-law-of-motion-capital-crra'></a>\n",
    "$$\n",
    "k_{t+1} = \\left [ 1 + \\beta^{-1/\\gamma} (\\alpha k^{\\alpha - 1}_{t+1})^{(\\gamma-1)/\\gamma} \\right ]^{-1} (1-\\alpha)(k_t)^{\\alpha} \\tag{20.35}\n",
    "$$\n",
    "\n",
    "Note that with this equation and $ k_t $ as given we cannot solve for $ k_{t+1} $ by pencil and paper.\n",
    "\n",
    "That is we don’t have an analytical solution for the sample path $ \\{k_{t+1}\\} $ now.\n",
    "\n",
    "To solve for $ k_{t+1} $ we need to turn to newton’s method.\n",
    "\n",
    "Suppose,\n",
    "\n",
    "\n",
    "<a id='equation-crra-newton-1'></a>\n",
    "$$\n",
    "f(k_{t+1}; k_t)=k_{t+1} \\left [ 1 + \\beta^{-1/\\gamma} \\left ( \\alpha k^{\\alpha-1}_{t+1} \\right )^{(\\gamma-1)/\\gamma} \\right ] - (1-\\alpha) k^{\\alpha}_t =0 \\tag{20.36}\n",
    "$$\n",
    "\n",
    "If $ k_t $ is given then $ f(\\cdot) $ is a function of unknown $ k_{t+1} $.\n",
    "\n",
    "Then we can use [scipy.optimize.newton](https://docs.scipy.org/doc/scipy/reference/generated/scipy.optimize.newton.html#scipy.optimize.newton) to solve the Equation $ f(k_{t+1})=0 $ for $ k_{t+1} $.\n",
    "\n",
    "First let define $ f(\\cdot) $."
   ]
  },
  {
   "cell_type": "markdown",
   "id": "c1a23c42",
   "metadata": {
    "hide-output": false
   },
   "source": [
    "```ipython3\n",
    "def f(k_prime, k, model):\n",
    "    α, β, γ = model.α, model.β, model.u_params['γ']\n",
    "    z = (1 - α) * k**α\n",
    "    R1 = α ** (1-1/γ)\n",
    "    R2 = k_prime**((α * γ - α + 1) / γ)\n",
    "    p = k_prime + k_prime * β**(-1/γ) * R1 * R2\n",
    "    return p - z\n",
    "```\n"
   ]
  },
  {
   "cell_type": "markdown",
   "id": "9e108174",
   "metadata": {},
   "source": [
    "Let’s define a function `k_next` that finds the value of $ k_{t+1} $."
   ]
  },
  {
   "cell_type": "markdown",
   "id": "d55a72da",
   "metadata": {
    "hide-output": false
   },
   "source": [
    "```ipython3\n",
    "def k_next(k_prime, model):\n",
    "    return optimize.newton(f, k_prime, args=(k_prime, model))\n",
    "```\n"
   ]
  },
  {
   "cell_type": "markdown",
   "id": "5020badc",
   "metadata": {
    "hide-output": false
   },
   "source": [
    "```ipython3\n",
    "plot_45(m_crra, k_next, kstar=None)\n",
    "```\n"
   ]
  },
  {
   "cell_type": "markdown",
   "id": "7a64ab5d",
   "metadata": {},
   "source": [
    "Unlike the log preference case now a steady state cannot be solved analytically.\n",
    "\n",
    "To see this recall that, a steady state can be obtained by setting [(20.35)](#equation-law-of-motion-capital-crra) to $ k_{t+1} = k_t = k^* $, i.e.,\n",
    "\n",
    "\n",
    "<a id='equation-steady-state-crra'></a>\n",
    "$$\n",
    "k^* = \\frac{(1-\\alpha)(k^*)^{\\alpha}}{  1 + \\beta^{-1/\\gamma} (\\alpha (k^*)^{\\alpha-1})^{(\\gamma-1)/\\gamma}} \\tag{20.37}\n",
    "$$\n",
    "\n",
    "Similarly we can solve for $ k^* $ using newton’s method.\n",
    "\n",
    "Suppose that\n",
    "\n",
    "\n",
    "<a id='equation-crra-newton-2'></a>\n",
    "$$\n",
    "g(k^*) = k^*  \\left [ 1 + \\beta^{-1/\\gamma} (\\alpha (k^*)^{\\alpha-1})^{(\\gamma-1)/\\gamma} \\right ] - (1-\\alpha)(k^*)^{\\alpha} \\tag{20.38}\n",
    "$$"
   ]
  },
  {
   "cell_type": "markdown",
   "id": "9206e896",
   "metadata": {
    "hide-output": false
   },
   "source": [
    "```ipython3\n",
    "def g(k_star, model):\n",
    "    α, β, γ = model.α, model.β, model.u_params['γ']\n",
    "    z = (1 - α) * k_star**α\n",
    "    R1 = α ** (1-1/γ)\n",
    "    R2 = k_star**((α * γ - α + 1) / γ)\n",
    "    p = k_star + k_star * β**(-1/γ) * R1 * R2\n",
    "    return p - z\n",
    "```\n"
   ]
  },
  {
   "cell_type": "markdown",
   "id": "13c35d3c",
   "metadata": {
    "hide-output": false
   },
   "source": [
    "```ipython3\n",
    "k_star = optimize.newton(g, 0.2, args=(m_crra,))\n",
    "print(f\"k_star = {k_star}\")\n",
    "```\n"
   ]
  },
  {
   "cell_type": "markdown",
   "id": "cb13b562",
   "metadata": {
    "hide-output": false
   },
   "source": [
    "```ipython3\n",
    "plot_45(m_crra, k_next, k_star)\n",
    "```\n"
   ]
  },
  {
   "cell_type": "markdown",
   "id": "d9c8c786",
   "metadata": {},
   "source": [
    "The next figure shows three time paths for capital, from\n",
    "three distinct initial conditions, under the parameterization listed above.\n",
    "\n",
    "At this parameterization, $ k^* \\approx 0.314 $.\n",
    "\n",
    "Let’s define the constants and three distinct intital conditions"
   ]
  },
  {
   "cell_type": "markdown",
   "id": "5d529f1c",
   "metadata": {
    "hide-output": false
   },
   "source": [
    "```ipython3\n",
    "ts_length = 10\n",
    "x0 = np.array([0.001, 1.2, 2.6])\n",
    "```\n"
   ]
  },
  {
   "cell_type": "markdown",
   "id": "420db641",
   "metadata": {
    "hide-output": false
   },
   "source": [
    "```ipython3\n",
    "def simulate_ts(m, x0_values, ts_length):\n",
    "\n",
    "    k_star = optimize.newton(g, 0.2, args=(m,))\n",
    "    fig, ax = plt.subplots(figsize=(10, 5))\n",
    "\n",
    "    ts = np.zeros(ts_length)\n",
    "\n",
    "    # simulate and plot time series\n",
    "    for x_init in x0_values:\n",
    "        ts[0] = x_init\n",
    "        for t in range(1, ts_length):\n",
    "            ts[t] = k_next(ts[t-1], m)\n",
    "        ax.plot(np.arange(ts_length), ts, '-o', ms=4, alpha=0.6,\n",
    "                label=r'$k_0=%g$' %x_init)\n",
    "    ax.plot(np.arange(ts_length), np.full(ts_length, k_star),\n",
    "            alpha=0.6, color='red', label=r'$k^*$')\n",
    "    ax.legend(fontsize=10)\n",
    "\n",
    "    ax.set_xlabel(r'$t$', fontsize=14)\n",
    "    ax.set_ylabel(r'$k_t$', fontsize=14)\n",
    "\n",
    "    plt.show()\n",
    "```\n"
   ]
  },
  {
   "cell_type": "markdown",
   "id": "5f233f1a",
   "metadata": {
    "hide-output": false
   },
   "source": [
    "```ipython3\n",
    "simulate_ts(m_crra, x0, ts_length)\n",
    "```\n"
   ]
  },
  {
   "cell_type": "markdown",
   "id": "f1f58a6f",
   "metadata": {},
   "source": [
    "## Exercises"
   ]
  },
  {
   "cell_type": "markdown",
   "id": "286ad5f6",
   "metadata": {},
   "source": [
    "## Exercise 20.1\n",
    "\n",
    "Solve the equilibrium of the CRRA case numerically using [(20.32)](#equation-equilibrium-crra).\n",
    "\n",
    "Plot the equilibrium quantity and equilibrium price in the equilibrium plot with the CRRA utility (TODO label and refer the plot generated by the code)."
   ]
  },
  {
   "cell_type": "markdown",
   "id": "974c0b93",
   "metadata": {},
   "source": [
    "## Solution to[ Exercise 20.1](#olg_ex1)\n",
    "\n",
    "To solve the equation we need to turn to Newton’s method.\n",
    "\n",
    "The function `find_Rstar` is used to find $ R^*_{t+1} $ by finding\n",
    "the zero of equation [(20.32)](#equation-equilibrium-crra) using the helper\n",
    "function `find_Rstar_newton` for a given value of $ K_t $.\n",
    "\n",
    "Similary, `find_Kstar` finds the equilibrium quantity $ K^*_{t+1} $ using the value of $ R^*_{t+1} $."
   ]
  },
  {
   "cell_type": "markdown",
   "id": "b751567b",
   "metadata": {
    "hide-output": false
   },
   "source": [
    "```ipython3\n",
    "def find_Rstar_newton(x, K_prev, model):\n",
    "    α, β, γ, L = model.α, model.β, model.u_params['γ'], model.L\n",
    "    lhs = L * (1-α) * (K_prev / L)**α\n",
    "    lhs /= (1 + β**(-1/γ) * x**((γ-1)/γ))\n",
    "    rhs = L * (x / α)**(1/(α-1))\n",
    "    return lhs - rhs\n",
    "```\n"
   ]
  },
  {
   "cell_type": "markdown",
   "id": "83d3233d",
   "metadata": {
    "hide-output": false
   },
   "source": [
    "```ipython3\n",
    "def find_Rstar(K_prev, model):\n",
    "    return optimize.newton(find_Rstar_newton, 0.5, args=(K_prev, model))\n",
    "\n",
    "def find_Kstar(R_star, model):\n",
    "    return model.L * (R_star / model.α)**(1/(model.α-1))\n",
    "```\n"
   ]
  },
  {
   "cell_type": "markdown",
   "id": "8e47eb8d",
   "metadata": {},
   "source": [
    "The following function plots the equilibrium quantity and equilibrium price."
   ]
  },
  {
   "cell_type": "markdown",
   "id": "374eb1fe",
   "metadata": {
    "hide-output": false
   },
   "source": [
    "```ipython3\n",
    "def plot_ks_rs(K_t_vals, model):\n",
    "    n = len(K_t_vals)\n",
    "    R_star = np.empty(n)\n",
    "    K_star = np.empty(n)\n",
    "\n",
    "    for i in range(n):\n",
    "        R_star[i] = find_Rstar(K_t_vals[i], model)\n",
    "        K_star[i] = find_Kstar(R_star[i], model)\n",
    "\n",
    "    fig, ax = plt.subplots()\n",
    "\n",
    "    ax.plot(K_t_vals, R_star, label=\"equilibrium price\")\n",
    "    ax.plot(K_t_vals, K_star, label=\"equilibrium quantity\")\n",
    "\n",
    "    ax.set_xlabel(\"$K_{t}$\")\n",
    "    ax.legend()\n",
    "    plt.show()\n",
    "```\n"
   ]
  },
  {
   "cell_type": "markdown",
   "id": "cfd07531",
   "metadata": {
    "hide-output": false
   },
   "source": [
    "```ipython3\n",
    "K_t_vals = np.linspace(0.1, 50, 50)\n",
    "m_crra = create_olg_model(u=crra, u_params={'γ': 0.5})\n",
    "plot_ks_rs(K_t_vals, m_crra)\n",
    "```\n"
   ]
  },
  {
   "cell_type": "markdown",
   "id": "be3d8ea7",
   "metadata": {},
   "source": [
    "## Exercise 20.2\n",
    "\n",
    "Let’s keep the model the same except for replacing the utility function $ u(c) $ in [(20.1)](#equation-eq-crra)  with a nonlinear form $ u(c)=c + c^{\\theta} $.\n",
    "\n",
    "Like what we did in the CRRA case we don’t have an analytical solution.\n",
    "\n",
    "Try to compute the time path capital $ \\{k_t\\} $ in this case."
   ]
  },
  {
   "cell_type": "markdown",
   "id": "918f6e9f",
   "metadata": {},
   "source": [
    "## Solution to[ Exercise 20.2](#olg_ex2)\n",
    "\n",
    "To get the time path capital $ \\{k_t\\} $ first we need to solve the household’s utility maximization problem for the optimal consumption and optimal saving.\n",
    "\n",
    "With the quasilinear preference the Euler equation [(20.6)](#equation-euler-2-olg) becomes\n",
    "\n",
    "\n",
    "<a id='equation-euler-quasilinear'></a>\n",
    "$$\n",
    "1 + \\theta (w_t - s_t)^{\\theta-1} = \\beta R_{t+1} + \\beta R^{\\theta}_{t+1} \\theta s_t^{\\theta - 1} \\tag{20.39}\n",
    "$$\n",
    "\n",
    "Let $ k_t := K_t / L $.\n",
    "\n",
    "Since [(20.12)](#equation-aggregate-supply-capital-log-olg), [(20.23)](#equation-wage-2) and [(20.34)](#equation-interest-rate-2) the Euler equation becomes\n",
    "\n",
    "\n",
    "<a id='equation-euler-quasilinear1'></a>\n",
    "$$\n",
    "1 + \\theta ((1-\\alpha)k^{\\alpha}_t - k_{t+1})^{\\theta-1} = \\beta \\alpha k^{\\alpha - 1}_{t+1} + \\beta \\theta \\alpha^{\\theta} k^{\\alpha \\theta - 1}_{t+1} \\tag{20.40}\n",
    "$$\n",
    "\n",
    "Obviously $ k_{t+1} $ cannot be solved by pencil and paper.\n",
    "\n",
    "To solve for $ k_{t+1} $ we need to turn to the newton’s method.\n",
    "\n",
    "Let’s start by defining the utility function."
   ]
  },
  {
   "cell_type": "markdown",
   "id": "feccb67a",
   "metadata": {
    "hide-output": false
   },
   "source": [
    "```ipython3\n",
    "def u_quasilinear(c, θ=3):\n",
    "    return c + c**θ\n",
    "```\n"
   ]
  },
  {
   "cell_type": "markdown",
   "id": "853f4671",
   "metadata": {},
   "source": [
    "The function `find_k_next` is used to find $ k_{t+1} $ by finding\n",
    "the root of equation [(20.40)](#equation-euler-quasilinear1) using the helper\n",
    "function `solve_for_k_next` for a given value of $ k_t $."
   ]
  },
  {
   "cell_type": "markdown",
   "id": "aaac023d",
   "metadata": {
    "hide-output": false
   },
   "source": [
    "```ipython3\n",
    "def solve_for_k_next(x, k_t, model):\n",
    "    α, β, L, θ = model.α, model.β, model.L, model.u_params['θ']\n",
    "    l = 1 + θ * ((1 - α) * k_t**α - x)**(θ - 1)\n",
    "    r = β * α * x**(α - 1)\n",
    "    r += β * θ * α**θ * x**(α * θ - 1)\n",
    "    return l - r\n",
    "```\n"
   ]
  },
  {
   "cell_type": "markdown",
   "id": "88fab2e2",
   "metadata": {
    "hide-output": false
   },
   "source": [
    "```ipython3\n",
    "def find_k_next(k_t, model):\n",
    "    x_vals = np.linspace(0.1, k_t, 200_000)\n",
    "    k_vals = solve_for_k_next(x_vals, k_t, model)\n",
    "    return x_vals[np.argmin(np.abs(k_vals-0))]\n",
    "    # return optimize.newton(solve_for_k_next, k_t, args=(k_t, model))\n",
    "```\n"
   ]
  },
  {
   "cell_type": "markdown",
   "id": "f40252aa",
   "metadata": {
    "hide-output": false
   },
   "source": [
    "```ipython3\n",
    "def solve_for_k_star_q(x, model):\n",
    "    α, β, L, θ = model.α, model.β, model.L, model.u_params['θ']\n",
    "    l = 1 + θ * ((1 - α) * x**α - x)**(θ - 1)\n",
    "    r = β * α * x**(α - 1)\n",
    "    r += β * θ * α**θ * x**(α * θ - 1)\n",
    "    return l - r\n",
    "\n",
    "def find_k_star_q(model):\n",
    "    x_vals = np.linspace(0.1, 3, 200_000)\n",
    "    k_vals = solve_for_k_next(x_vals, x_vals, model)\n",
    "    return x_vals[np.argmin(np.abs(k_vals-0))]\n",
    "    # return optimize.newton(solve_for_k_star_q, 0.2, args=(model,))\n",
    "```\n"
   ]
  },
  {
   "cell_type": "markdown",
   "id": "5a3ca66b",
   "metadata": {},
   "source": [
    "Let’s simulate and plot the time path capital $ \\{k_t\\} $."
   ]
  },
  {
   "cell_type": "markdown",
   "id": "00429c52",
   "metadata": {
    "hide-output": false
   },
   "source": [
    "```ipython3\n",
    "def simulate_ts(k0_values, model, ts_length=6):\n",
    "    k_star = find_k_star_q(model)\n",
    "\n",
    "    print(\"k_star:\", k_star)\n",
    "    fig, ax = plt.subplots(figsize=(10, 5))\n",
    "\n",
    "    ts = np.zeros(ts_length)\n",
    "\n",
    "    # simulate and plot time series\n",
    "    for x_init in k0_values:\n",
    "        ts[0] = x_init\n",
    "        for t in range(1, ts_length):\n",
    "            ts[t] = find_k_next(ts[t-1], model)\n",
    "        ax.plot(np.arange(ts_length), ts, '-o', ms=4, alpha=0.6,\n",
    "                label=r'$k_0=%g$' %x_init)\n",
    "    ax.plot(np.arange(ts_length), np.full(ts_length, k_star),\n",
    "            alpha=0.6, linestyle='dashed', color='black', label=r'$k^*$')\n",
    "    ax.legend(fontsize=10)\n",
    "\n",
    "    ax.set_xlabel(r'$t$', fontsize=14)\n",
    "    ax.set_ylabel(r'$k_t$', fontsize=14)\n",
    "\n",
    "    plt.show()\n",
    "```\n"
   ]
  },
  {
   "cell_type": "markdown",
   "id": "a34fb6d5",
   "metadata": {
    "hide-output": false
   },
   "source": [
    "```ipython3\n",
    "k0_values = [0.02, 10, 50, 100]\n",
    "m_quasilinear = create_olg_model(u=u_quasilinear, u_params={'θ': 3})\n",
    "simulate_ts(k0_values, m_quasilinear)\n",
    "```\n"
   ]
  },
  {
   "cell_type": "markdown",
   "id": "f6662298",
   "metadata": {
    "hide-output": false
   },
   "source": [
    "```ipython3\n",
    "plot_45(m_quasilinear, find_k_next, kstar=None)\n",
    "```\n"
   ]
  }
 ],
 "metadata": {
  "date": 1681898275.9915257,
  "filename": "olg.md",
  "kernelspec": {
   "display_name": "Python",
   "language": "python3",
   "name": "python3"
  },
  "title": "The Overlapping Generations Model"
 },
 "nbformat": 4,
 "nbformat_minor": 5
}