{
 "cells": [
  {
   "cell_type": "markdown",
   "id": "71a4e315",
   "metadata": {},
   "source": [
    "# Dynamics in One Dimension"
   ]
  },
  {
   "cell_type": "markdown",
   "id": "8f78a265",
   "metadata": {},
   "source": [
    "## Contents\n",
    "\n",
    "- [Dynamics in One Dimension](#Dynamics-in-One-Dimension)  \n",
    "  - [Overview](#Overview)  \n",
    "  - [Some Definitions](#Some-Definitions)  \n",
    "  - [Stability](#Stability)  \n",
    "  - [Graphical Analysis](#Graphical-Analysis)  \n",
    "  - [Exercises](#Exercises)  "
   ]
  },
  {
   "cell_type": "markdown",
   "id": "af9e59cb",
   "metadata": {},
   "source": [
    "## Overview\n",
    "\n",
    "In this lecture we give a quick introduction to discrete time dynamics in one dimension.\n",
    "\n",
    "- In one-dimensional models, the state of the system is described by a single variable.  \n",
    "- The variable is a number (that is, a point in $ \\mathbb R $).  \n",
    "\n",
    "\n",
    "While most quantitative models have two or more state variables, the\n",
    "one-dimensional setting is a good place to learn the foundations of dynamics\n",
    "and understand key concepts.\n",
    "\n",
    "Let’s start with some standard imports:"
   ]
  },
  {
   "cell_type": "markdown",
   "id": "8b56c442",
   "metadata": {
    "hide-output": false
   },
   "source": [
    "```ipython3\n",
    "%matplotlib inline\n",
    "import matplotlib.pyplot as plt\n",
    "import numpy as np\n",
    "```\n"
   ]
  },
  {
   "cell_type": "markdown",
   "id": "6eca5a7a",
   "metadata": {},
   "source": [
    "## Some Definitions\n",
    "\n",
    "This section sets out the objects of interest and the kinds of properties we study."
   ]
  },
  {
   "cell_type": "markdown",
   "id": "904e75ca",
   "metadata": {},
   "source": [
    "### Composition of Functions\n",
    "\n",
    "For this lecture you should know the following.\n",
    "\n",
    "If\n",
    "\n",
    "- $ g $ is a function from $ A $ to $ B $ and  \n",
    "- $ f $ is a function from $ B $ to $ C $,  \n",
    "\n",
    "\n",
    "then the **composition** $ f \\circ g $ of $ f $ and $ g $ is defined by\n",
    "\n",
    "$$\n",
    "(f \\circ g)(x) = f(g(x))\n",
    "$$\n",
    "\n",
    "For example, if\n",
    "\n",
    "- $ A=B=C=\\mathbb R $, the set of real numbers,  \n",
    "- $ g(x)=x^2 $ and $ f(x)=\\sqrt{x} $, then $ (f \\circ g)(x) = \\sqrt{x^2} = |x| $.  \n",
    "\n",
    "\n",
    "If $ f $ is a function from $ A $ to itself, then $ f^2 $ is the composition of $ f $\n",
    "with itself.\n",
    "\n",
    "For example, if $ A = (0, \\infty) $, the set of positive numbers, and $ f(x) =\n",
    "\\sqrt{x} $, then\n",
    "\n",
    "$$\n",
    "f^2(x) = \\sqrt{\\sqrt{x}} = x^{1/4}\n",
    "$$\n",
    "\n",
    "Similarly, if $ n $ is an integer, then $ f^n $ is $ n $ compositions of $ f $ with\n",
    "itself.\n",
    "\n",
    "In the example above, $ f^n(x) = x^{1/(2^n)} $."
   ]
  },
  {
   "cell_type": "markdown",
   "id": "2c24086d",
   "metadata": {},
   "source": [
    "### Dynamic Systems\n",
    "\n",
    "A **(discrete time) dynamic system** is a set $ S $ and a function $ g $ that sends\n",
    "set $ S $ back into to itself.\n",
    "\n",
    "Examples of dynamic systems include\n",
    "\n",
    "- $ S = (0, 1) $ and $ g(x) = \\sqrt{x} $  \n",
    "- $ S = (0, 1) $ and $ g(x) = x^2 $  \n",
    "- $ S = \\mathbb Z $ (the integers) and $ g(x) = 2 x $  \n",
    "\n",
    "\n",
    "On the other hand, if  $ S = (-1, 1) $ and $ g(x) = x+1 $, then $ S $ and $ g $ do not\n",
    "form a dynamic system, since $ g(1) = 2 $.\n",
    "\n",
    "- $ g $ does not always send points in $ S $ back into $ S $.  "
   ]
  },
  {
   "cell_type": "markdown",
   "id": "1faf6570",
   "metadata": {},
   "source": [
    "### Dynamic Systems\n",
    "\n",
    "We care about dynamic systems because we can use them to study dynamics!\n",
    "\n",
    "Given a dynamic system consisting of set $ S $ and function $ g $, we can create\n",
    "a sequence $ \\{x_t\\} $ of points in $ S $ by setting\n",
    "\n",
    "\n",
    "<a id='equation-sdsod'></a>\n",
    "$$\n",
    "x_{t+1} = g(x_t)\n",
    "    \\quad \\text{ with } \n",
    "    x_0 \\text{ given}. \\tag{20.1}\n",
    "$$\n",
    "\n",
    "This means that we choose some number $ x_0 $ in $ S $ and then take\n",
    "\n",
    "\n",
    "<a id='equation-sdstraj'></a>\n",
    "$$\n",
    "x_0, \\quad\n",
    "    x_1 = g(x_0), \\quad\n",
    "    x_2 = g(x_1) = g(g(x_0)), \\quad \\text{etc.} \\tag{20.2}\n",
    "$$\n",
    "\n",
    "This sequence $ \\{x_t\\} $ is called the **trajectory** of $ x_0 $ under $ g $.\n",
    "\n",
    "In this setting, $ S $ is called the **state space** and $ x_t $ is called the\n",
    "**state variable**.\n",
    "\n",
    "Recalling that $ g^n $ is the $ n $ compositions of $ g $ with itself,\n",
    "we can write the trajectory more simply as\n",
    "\n",
    "$$\n",
    "x_t = g^t(x_0) \\quad \\text{ for } t \\geq 0.\n",
    "$$\n",
    "\n",
    "In all of what follows, we are going to assume that $ S $ is a subset of\n",
    "$ \\mathbb R $, the real numbers.\n",
    "\n",
    "Equation [(20.1)](#equation-sdsod) is sometimes called a **first order difference equation**\n",
    "\n",
    "- first order means dependence on only one lag (i.e., earlier states such as $ x_{t-1} $ do not enter into [(20.1)](#equation-sdsod)).  "
   ]
  },
  {
   "cell_type": "markdown",
   "id": "22a8423f",
   "metadata": {},
   "source": [
    "### Example: A Linear Model\n",
    "\n",
    "One simple example of a dynamic system is when $ S=\\mathbb R $ and $ g(x)=ax +\n",
    "b $, where $ a, b $ are fixed constants.\n",
    "\n",
    "This leads to the **linear difference equation**\n",
    "\n",
    "$$\n",
    "x_{t+1} = a x_t + b \n",
    "    \\quad \\text{ with } \n",
    "    x_0 \\text{ given}.\n",
    "$$\n",
    "\n",
    "The trajectory of $ x_0 $ is\n",
    "\n",
    "\n",
    "<a id='equation-sdslinmodpath'></a>\n",
    "$$\n",
    "x_0, \\quad\n",
    "a x_0 + b, \\quad\n",
    "a^2 x_0 + a b + b, \\quad \\text{etc.} \\tag{20.3}\n",
    "$$\n",
    "\n",
    "Continuing in this way, and using our knowledge of [geometric series](geom_series.ipynb), we find that, for any $ t \\geq 0 $,\n",
    "\n",
    "\n",
    "<a id='equation-sdslinmod'></a>\n",
    "$$\n",
    "x_t = a^t x_0 + b \\frac{1 - a^t}{1 - a} \\tag{20.4}\n",
    "$$\n",
    "\n",
    "We have an exact expression for $ x_t $ for all $ t $ and hence a full\n",
    "understanding of the dynamics.\n",
    "\n",
    "Notice in particular that $ |a| < 1 $, then, by [(20.4)](#equation-sdslinmod), we have\n",
    "\n",
    "\n",
    "<a id='equation-sdslinmodc'></a>\n",
    "$$\n",
    "x_t \\to  \\frac{b}{1 - a} \\text{ as } t \\to \\infty \\tag{20.5}\n",
    "$$\n",
    "\n",
    "regardless of $ x_0 $\n",
    "\n",
    "This is an example of what is called global stability, a topic we return to\n",
    "below."
   ]
  },
  {
   "cell_type": "markdown",
   "id": "5e443bfe",
   "metadata": {},
   "source": [
    "### Example: A Nonlinear Model\n",
    "\n",
    "In the linear example above, we obtained an exact analytical expression for\n",
    "$ x_t $ in terms of arbitrary $ t $ and $ x_0 $.\n",
    "\n",
    "This made analysis of dynamics very easy.\n",
    "\n",
    "When models are nonlinear, however, the situation can be quite different.\n",
    "\n",
    "For example, recall how we [previously studied](https://python-programming.quantecon.org/python_oop.html#example-the-solow-growth-model) the law of motion for the Solow growth model, a simplified version of which is\n",
    "\n",
    "\n",
    "<a id='equation-solow-lom2'></a>\n",
    "$$\n",
    "k_{t+1} = s z k_t^{\\alpha} + (1 - \\delta) k_t \\tag{20.6}\n",
    "$$\n",
    "\n",
    "Here $ k $ is capital stock and $ s, z, \\alpha, \\delta $ are positive\n",
    "parameters with $ 0 < \\alpha, \\delta < 1 $.\n",
    "\n",
    "If you try to iterate like we did in [(20.3)](#equation-sdslinmodpath), you will find that\n",
    "the algebra gets messy quickly.\n",
    "\n",
    "Analyzing the dynamics of this model requires a different method (see below)."
   ]
  },
  {
   "cell_type": "markdown",
   "id": "5e957754",
   "metadata": {},
   "source": [
    "## Stability\n",
    "\n",
    "Consider a fixed dynamic system consisting of set $ S \\subset \\mathbb R $ and\n",
    "$ g $ mapping $ S $ to $ S $."
   ]
  },
  {
   "cell_type": "markdown",
   "id": "b3d26e90",
   "metadata": {},
   "source": [
    "### Steady States\n",
    "\n",
    "A **steady state** of this system is a\n",
    "point $ x^* $ in $ S $ such that $ x^* = g(x^*) $.\n",
    "\n",
    "In other words, $ x^* $ is a **fixed point** of the function $ g $ in\n",
    "$ S $.\n",
    "\n",
    "For example, for the linear model $ x_{t+1} = a x_t + b $, you can use the\n",
    "definition to check that\n",
    "\n",
    "- $ x^* := b/(1-a) $ is a steady state whenever $ a \\not= 1 $.  \n",
    "- if $ a = 1 $ and $ b=0 $, then every $ x \\in \\mathbb R $ is a\n",
    "  steady state.  \n",
    "- if $ a = 1 $ and $ b \\not= 0 $, then the linear model has no steady\n",
    "  state in $ \\mathbb R $.  "
   ]
  },
  {
   "cell_type": "markdown",
   "id": "9e6cbfa0",
   "metadata": {},
   "source": [
    "### Global Stability\n",
    "\n",
    "A steady state $ x^* $ of the dynamic system is called\n",
    "**globally stable** if, for all $ x_0 \\in S $,\n",
    "\n",
    "$$\n",
    "x_t = g^t(x_0) \\to x^* \\text{ as } t \\to \\infty\n",
    "$$\n",
    "\n",
    "For example, in the linear model $ x_{t+1} = a x_t + b $ with $ a\n",
    "\\not= 1 $, the steady state $ x^* $\n",
    "\n",
    "- is globally stable if $ |a| < 1 $ and  \n",
    "- fails to be globally stable otherwise.  \n",
    "\n",
    "\n",
    "This follows directly from [(20.4)](#equation-sdslinmod)."
   ]
  },
  {
   "cell_type": "markdown",
   "id": "c9a6f028",
   "metadata": {},
   "source": [
    "### Local Stability\n",
    "\n",
    "A steady state $ x^* $ of the dynamic system is called\n",
    "**locally stable** if there exists an $ \\epsilon > 0 $ such that\n",
    "\n",
    "$$\n",
    "| x_0 - x^* | < \\epsilon\n",
    "\\; \\implies \\;\n",
    "x_t = g^t(x_0) \\to x^* \\text{ as } t \\to \\infty\n",
    "$$\n",
    "\n",
    "Obviously every globally stable steady state is also locally stable.\n",
    "\n",
    "We will see examples below where the converse is not true."
   ]
  },
  {
   "cell_type": "markdown",
   "id": "d6b173ee",
   "metadata": {},
   "source": [
    "## Graphical Analysis\n",
    "\n",
    "As we saw above, analyzing the dynamics for nonlinear models is nontrivial.\n",
    "\n",
    "There is no single way to tackle all nonlinear models.\n",
    "\n",
    "However, there is one technique for one-dimensional models that provides a\n",
    "great deal of intuition.\n",
    "\n",
    "This is a graphical approach based on **45 degree diagrams**.\n",
    "\n",
    "Let’s look at an example: the Solow model with dynamics given in [(20.6)](#equation-solow-lom2).\n",
    "\n",
    "We begin with some plotting code that you can ignore at first reading.\n",
    "\n",
    "The function of the code is to produce 45 degree diagrams and time series\n",
    "plots."
   ]
  },
  {
   "cell_type": "markdown",
   "id": "7eccfa39",
   "metadata": {
    "hide-output": false
   },
   "source": [
    "```ipython3\n",
    "def subplots():\n",
    "    \"Custom subplots with axes throught the origin\"\n",
    "    fig, ax = plt.subplots()\n",
    "\n",
    "    # Set the axes through the origin\n",
    "    for spine in ['left', 'bottom']:\n",
    "        ax.spines[spine].set_position('zero')\n",
    "        ax.spines[spine].set_color('green')\n",
    "    for spine in ['right', 'top']:\n",
    "        ax.spines[spine].set_color('none')\n",
    "\n",
    "    return fig, ax\n",
    "\n",
    "\n",
    "def plot45(g, xmin, xmax, x0, num_arrows=6, var='x'):\n",
    "\n",
    "    xgrid = np.linspace(xmin, xmax, 200)\n",
    "\n",
    "    fig, ax = subplots()\n",
    "    ax.set_xlim(xmin, xmax)\n",
    "    ax.set_ylim(xmin, xmax)\n",
    "\n",
    "    hw = (xmax - xmin) * 0.01\n",
    "    hl = 2 * hw\n",
    "    arrow_args = dict(fc=\"k\", ec=\"k\", head_width=hw,\n",
    "            length_includes_head=True, lw=1,\n",
    "            alpha=0.6, head_length=hl)\n",
    "\n",
    "    ax.plot(xgrid, g(xgrid), 'b-', lw=2, alpha=0.6, label='g')\n",
    "    ax.plot(xgrid, xgrid, 'k-', lw=1, alpha=0.7, label='45')\n",
    "\n",
    "    x = x0\n",
    "    xticks = [xmin]\n",
    "    xtick_labels = [xmin]\n",
    "\n",
    "    for i in range(num_arrows):\n",
    "        if i == 0:\n",
    "            ax.arrow(x, 0.0, 0.0, g(x), **arrow_args) # x, y, dx, dy\n",
    "        else:\n",
    "            ax.arrow(x, x, 0.0, g(x) - x, **arrow_args)\n",
    "            ax.plot((x, x), (0, x), 'k', ls='dotted')\n",
    "\n",
    "        ax.arrow(x, g(x), g(x) - x, 0, **arrow_args)\n",
    "        xticks.append(x)\n",
    "        xtick_labels.append(r'${}_{}$'.format(var, str(i)))\n",
    "\n",
    "        x = g(x)\n",
    "        xticks.append(x)\n",
    "        xtick_labels.append(r'${}_{}$'.format(var, str(i+1)))\n",
    "        ax.plot((x, x), (0, x), 'k-', ls='dotted')\n",
    "\n",
    "    xticks.append(xmax)\n",
    "    xtick_labels.append(xmax)\n",
    "    ax.set_xticks(xticks)\n",
    "    ax.set_yticks(xticks)\n",
    "    ax.set_xticklabels(xtick_labels)\n",
    "    ax.set_yticklabels(xtick_labels)\n",
    "\n",
    "    bbox = (0., 1.04, 1., .104)\n",
    "    legend_args = {'bbox_to_anchor': bbox, 'loc': 'upper right'}\n",
    "\n",
    "    ax.legend(ncol=2, frameon=False, **legend_args, fontsize=14)\n",
    "    plt.show()\n",
    "\n",
    "def ts_plot(g, xmin, xmax, x0, ts_length=6, var='x'):\n",
    "    fig, ax = subplots()\n",
    "    ax.set_ylim(xmin, xmax)\n",
    "    ax.set_xlabel(r'$t$', fontsize=14)\n",
    "    ax.set_ylabel(r'${}_t$'.format(var), fontsize=14)\n",
    "    x = np.empty(ts_length)\n",
    "    x[0] = x0\n",
    "    for t in range(ts_length-1):\n",
    "        x[t+1] = g(x[t])\n",
    "    ax.plot(range(ts_length),\n",
    "            x,\n",
    "            'bo-',\n",
    "            alpha=0.6,\n",
    "            lw=2,\n",
    "            label=r'${}_t$'.format(var))\n",
    "    ax.legend(loc='best', fontsize=14)\n",
    "    ax.set_xticks(range(ts_length))\n",
    "    plt.show()\n",
    "```\n"
   ]
  },
  {
   "cell_type": "markdown",
   "id": "87bb7703",
   "metadata": {},
   "source": [
    "Let’s create a 45 degree diagram for the Solow model with a fixed set of\n",
    "parameters"
   ]
  },
  {
   "cell_type": "markdown",
   "id": "ba237d1d",
   "metadata": {
    "hide-output": false
   },
   "source": [
    "```ipython3\n",
    "A, s, alpha, delta = 2, 0.3, 0.3, 0.4\n",
    "```\n"
   ]
  },
  {
   "cell_type": "markdown",
   "id": "7354c432",
   "metadata": {},
   "source": [
    "Here’s the update function corresponding to the model."
   ]
  },
  {
   "cell_type": "markdown",
   "id": "832a988c",
   "metadata": {
    "hide-output": false
   },
   "source": [
    "```ipython3\n",
    "def g(k):\n",
    "    return A * s * k**alpha + (1 - delta) * k\n",
    "```\n"
   ]
  },
  {
   "cell_type": "markdown",
   "id": "e9b27a51",
   "metadata": {},
   "source": [
    "Here is the 45 degree plot."
   ]
  },
  {
   "cell_type": "markdown",
   "id": "b650f5ea",
   "metadata": {
    "hide-output": false
   },
   "source": [
    "```ipython3\n",
    "xmin, xmax = 0, 4  # Suitable plotting region.\n",
    "\n",
    "plot45(g, xmin, xmax, 0, num_arrows=0)\n",
    "```\n"
   ]
  },
  {
   "cell_type": "markdown",
   "id": "adbf1bcd",
   "metadata": {},
   "source": [
    "The plot shows the function $ g $ and the 45 degree line.\n",
    "\n",
    "Think of $ k_t $ as a value on the horizontal axis.\n",
    "\n",
    "To calculate $ k_{t+1} $, we can use the graph of $ g $ to see its\n",
    "value on the vertical axis.\n",
    "\n",
    "Clearly,\n",
    "\n",
    "- If $ g $ lies above the 45 degree line at this point, then we have $ k_{t+1} > k_t $.  \n",
    "- If $ g $ lies below the 45 degree line at this point, then we have $ k_{t+1} < k_t $.  \n",
    "- If $ g $ hits the 45 degree line at this point, then we have $ k_{t+1} = k_t $, so $ k_t $ is a steady state.  \n",
    "\n",
    "\n",
    "For the Solow model, there are two steady states when $ S = \\mathbb R_+ =\n",
    "[0, \\infty) $.\n",
    "\n",
    "- the origin $ k=0 $  \n",
    "- the unique positive number such that $ k = s z k^{\\alpha} + (1 - \\delta) k $.  \n",
    "\n",
    "\n",
    "By using some algebra, we can show that in the second case, the steady state is\n",
    "\n",
    "$$\n",
    "k^* = \\left( \\frac{sz}{\\delta} \\right)^{1/(1-\\alpha)}\n",
    "$$"
   ]
  },
  {
   "cell_type": "markdown",
   "id": "04ab07d9",
   "metadata": {},
   "source": [
    "### Trajectories\n",
    "\n",
    "By the preceding discussion, in regions where $ g $ lies above the 45 degree line, we know that the trajectory is increasing.\n",
    "\n",
    "The next figure traces out a trajectory in such a region so we can see this more clearly.\n",
    "\n",
    "The initial condition is $ k_0 = 0.25 $."
   ]
  },
  {
   "cell_type": "markdown",
   "id": "a1e491ed",
   "metadata": {
    "hide-output": false
   },
   "source": [
    "```ipython3\n",
    "k0 = 0.25\n",
    "\n",
    "plot45(g, xmin, xmax, k0, num_arrows=5, var='k')\n",
    "```\n"
   ]
  },
  {
   "cell_type": "markdown",
   "id": "92bbafd7",
   "metadata": {},
   "source": [
    "We can plot the time series of capital corresponding to the figure above as\n",
    "follows:"
   ]
  },
  {
   "cell_type": "markdown",
   "id": "f47c2786",
   "metadata": {
    "hide-output": false
   },
   "source": [
    "```ipython3\n",
    "ts_plot(g, xmin, xmax, k0, var='k')\n",
    "```\n"
   ]
  },
  {
   "cell_type": "markdown",
   "id": "e2a5297c",
   "metadata": {},
   "source": [
    "Here’s a somewhat longer view:"
   ]
  },
  {
   "cell_type": "markdown",
   "id": "518cd424",
   "metadata": {
    "hide-output": false
   },
   "source": [
    "```ipython3\n",
    "ts_plot(g, xmin, xmax, k0, ts_length=20, var='k')\n",
    "```\n"
   ]
  },
  {
   "cell_type": "markdown",
   "id": "99a90086",
   "metadata": {},
   "source": [
    "When capital stock is higher than the unique positive steady state, we see that\n",
    "it declines:"
   ]
  },
  {
   "cell_type": "markdown",
   "id": "dd7dd204",
   "metadata": {
    "hide-output": false
   },
   "source": [
    "```ipython3\n",
    "k0 = 2.95\n",
    "\n",
    "plot45(g, xmin, xmax, k0, num_arrows=5, var='k')\n",
    "```\n"
   ]
  },
  {
   "cell_type": "markdown",
   "id": "ffba914e",
   "metadata": {},
   "source": [
    "Here is the time series:"
   ]
  },
  {
   "cell_type": "markdown",
   "id": "4c815dbe",
   "metadata": {
    "hide-output": false
   },
   "source": [
    "```ipython3\n",
    "ts_plot(g, xmin, xmax, k0, var='k')\n",
    "```\n"
   ]
  },
  {
   "cell_type": "markdown",
   "id": "99158669",
   "metadata": {},
   "source": [
    "### Complex Dynamics\n",
    "\n",
    "The Solow model is nonlinear but still generates very regular dynamics.\n",
    "\n",
    "One model that generates irregular dynamics is the **quadratic map**\n",
    "\n",
    "$$\n",
    "g(x) = 4 x (1 - x),\n",
    "\\qquad x \\in [0, 1]\n",
    "$$\n",
    "\n",
    "Let’s have a look at the 45 degree diagram."
   ]
  },
  {
   "cell_type": "markdown",
   "id": "4d952fbd",
   "metadata": {
    "hide-output": false
   },
   "source": [
    "```ipython3\n",
    "xmin, xmax = 0, 1\n",
    "g = lambda x: 4 * x * (1 - x)\n",
    "\n",
    "x0 = 0.3\n",
    "plot45(g, xmin, xmax, x0, num_arrows=0)\n",
    "```\n"
   ]
  },
  {
   "cell_type": "markdown",
   "id": "7aafd24a",
   "metadata": {},
   "source": [
    "Now let’s look at a typical trajectory."
   ]
  },
  {
   "cell_type": "markdown",
   "id": "fb214c67",
   "metadata": {
    "hide-output": false
   },
   "source": [
    "```ipython3\n",
    "plot45(g, xmin, xmax, x0, num_arrows=6)\n",
    "```\n"
   ]
  },
  {
   "cell_type": "markdown",
   "id": "9de67513",
   "metadata": {},
   "source": [
    "Notice how irregular it is.\n",
    "\n",
    "Here is the corresponding time series plot."
   ]
  },
  {
   "cell_type": "markdown",
   "id": "3213b189",
   "metadata": {
    "hide-output": false
   },
   "source": [
    "```ipython3\n",
    "ts_plot(g, xmin, xmax, x0, ts_length=6)\n",
    "```\n"
   ]
  },
  {
   "cell_type": "markdown",
   "id": "a2083187",
   "metadata": {},
   "source": [
    "The irregularity is even clearer over a longer time horizon:"
   ]
  },
  {
   "cell_type": "markdown",
   "id": "316dbbb7",
   "metadata": {
    "hide-output": false
   },
   "source": [
    "```ipython3\n",
    "ts_plot(g, xmin, xmax, x0, ts_length=20)\n",
    "```\n"
   ]
  },
  {
   "cell_type": "markdown",
   "id": "12525500",
   "metadata": {},
   "source": [
    "## Exercises"
   ]
  },
  {
   "cell_type": "markdown",
   "id": "536a48ea",
   "metadata": {},
   "source": [
    "## Exercise 20.1\n",
    "\n",
    "Consider again the linear model $ x_{t+1} = a x_t + b $ with $ a\n",
    "\\not=1 $.\n",
    "\n",
    "The unique steady state is $ b / (1 - a) $.\n",
    "\n",
    "The steady state is globally stable if $ |a| < 1 $.\n",
    "\n",
    "Try to illustrate this graphically by looking at a range of initial conditions.\n",
    "\n",
    "What differences do you notice in the cases $ a \\in (-1, 0) $ and $ a\n",
    "\\in (0, 1) $?\n",
    "\n",
    "Use $ a=0.5 $ and then $ a=-0.5 $ and study the trajectories\n",
    "\n",
    "Set $ b=1 $ throughout."
   ]
  },
  {
   "cell_type": "markdown",
   "id": "9f1d6ce6",
   "metadata": {},
   "source": [
    "## Solution to[ Exercise 20.1](#sd_ex1)\n",
    "\n",
    "We will start with the case $ a=0.5 $.\n",
    "\n",
    "Let’s set up the model and plotting region:"
   ]
  },
  {
   "cell_type": "markdown",
   "id": "5a34c643",
   "metadata": {
    "hide-output": false
   },
   "source": [
    "```ipython3\n",
    "a, b = 0.5, 1\n",
    "xmin, xmax = -1, 3\n",
    "g = lambda x: a * x + b\n",
    "```\n"
   ]
  },
  {
   "cell_type": "markdown",
   "id": "70829003",
   "metadata": {},
   "source": [
    "Now let’s plot a trajectory:"
   ]
  },
  {
   "cell_type": "markdown",
   "id": "2c63da6e",
   "metadata": {
    "hide-output": false
   },
   "source": [
    "```ipython3\n",
    "x0 = -0.5\n",
    "plot45(g, xmin, xmax, x0, num_arrows=5)\n",
    "```\n"
   ]
  },
  {
   "cell_type": "markdown",
   "id": "44004a38",
   "metadata": {},
   "source": [
    "Here is the corresponding time series, which converges towards the steady\n",
    "state."
   ]
  },
  {
   "cell_type": "markdown",
   "id": "433048bf",
   "metadata": {
    "hide-output": false
   },
   "source": [
    "```ipython3\n",
    "ts_plot(g, xmin, xmax, x0, ts_length=10)\n",
    "```\n"
   ]
  },
  {
   "cell_type": "markdown",
   "id": "2e3c11db",
   "metadata": {},
   "source": [
    "Now let’s try $ a=-0.5 $ and see what differences we observe.\n",
    "\n",
    "Let’s set up the model and plotting region:"
   ]
  },
  {
   "cell_type": "markdown",
   "id": "d84ba970",
   "metadata": {
    "hide-output": false
   },
   "source": [
    "```ipython3\n",
    "a, b = -0.5, 1\n",
    "xmin, xmax = -1, 3\n",
    "g = lambda x: a * x + b\n",
    "```\n"
   ]
  },
  {
   "cell_type": "markdown",
   "id": "ba60fd3b",
   "metadata": {},
   "source": [
    "Now let’s plot a trajectory:"
   ]
  },
  {
   "cell_type": "markdown",
   "id": "6f1edac2",
   "metadata": {
    "hide-output": false
   },
   "source": [
    "```ipython3\n",
    "x0 = -0.5\n",
    "plot45(g, xmin, xmax, x0, num_arrows=5)\n",
    "```\n"
   ]
  },
  {
   "cell_type": "markdown",
   "id": "71b5de48",
   "metadata": {},
   "source": [
    "Here is the corresponding time series, which converges towards the steady\n",
    "state."
   ]
  },
  {
   "cell_type": "markdown",
   "id": "5308d5d8",
   "metadata": {
    "hide-output": false
   },
   "source": [
    "```ipython3\n",
    "ts_plot(g, xmin, xmax, x0, ts_length=10)\n",
    "```\n"
   ]
  },
  {
   "cell_type": "markdown",
   "id": "c8146b11",
   "metadata": {},
   "source": [
    "Once again, we have convergence to the steady state but the nature of\n",
    "convergence differs.\n",
    "\n",
    "In particular, the time series jumps from above the steady state to below it\n",
    "and back again.\n",
    "\n",
    "In the current context, the series is said to exhibit **damped oscillations**."
   ]
  }
 ],
 "metadata": {
  "date": 1686302819.7798276,
  "filename": "scalar_dynam.md",
  "kernelspec": {
   "display_name": "Python",
   "language": "python3",
   "name": "python3"
  },
  "title": "Dynamics in One Dimension"
 },
 "nbformat": 4,
 "nbformat_minor": 5
}