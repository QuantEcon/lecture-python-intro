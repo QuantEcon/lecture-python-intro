{
 "cells": [
  {
   "cell_type": "markdown",
   "id": "4d2d3bda",
   "metadata": {},
   "source": [
    "\n",
    "<a id='scalar-dynam'></a>"
   ]
  },
  {
   "cell_type": "markdown",
   "id": "b870dd20",
   "metadata": {},
   "source": [
    "# Dynamics in One Dimension"
   ]
  },
  {
   "cell_type": "markdown",
   "id": "bfa4ad71",
   "metadata": {},
   "source": [
    "## Overview\n",
    "\n",
    "In economics many variables depend on their past values\n",
    "\n",
    "For example, it seems reasonable to believe that inflation last year with affects inflation this year.\n",
    "\n",
    "(Perhaps high inflation last year will lead people to demand higher wages to\n",
    "compensate, which will feed into higher prices this year.)\n",
    "\n",
    "Letting $ \\pi_t $ be inflation this year and $ \\pi_{t-1} $ be inflation last year, we\n",
    "can write this relationship in a general form as\n",
    "\n",
    "$$\n",
    "\\pi_t = f(\\pi_{t-1})\n",
    "$$\n",
    "\n",
    "where $ f $ is some function describing the relationship between the variables.\n",
    "\n",
    "This equation is an example of one-dimensional discrete time dynamic system.\n",
    "\n",
    "In this lecture we cover the foundations of one-dimensional discrete time\n",
    "dynamics.\n",
    "\n",
    "(While most quantitative models have two or more state variables, the\n",
    "one-dimensional setting is a good place to learn foundations\n",
    "and understand key concepts.)\n",
    "\n",
    "Let’s start with some standard imports:"
   ]
  },
  {
   "cell_type": "code",
   "execution_count": null,
   "id": "2ab542bb",
   "metadata": {
    "hide-output": false
   },
   "outputs": [],
   "source": [
    "import matplotlib.pyplot as plt\n",
    "import numpy as np"
   ]
  },
  {
   "cell_type": "markdown",
   "id": "d8dcdff8",
   "metadata": {},
   "source": [
    "## Some definitions\n",
    "\n",
    "This section sets out the objects of interest and the kinds of properties we study."
   ]
  },
  {
   "cell_type": "markdown",
   "id": "ab5976c7",
   "metadata": {},
   "source": [
    "### Composition of functions\n",
    "\n",
    "For this lecture you should know the following.\n",
    "\n",
    "If\n",
    "\n",
    "- $ g $ is a function from $ A $ to $ B $ and  \n",
    "- $ f $ is a function from $ B $ to $ C $,  \n",
    "\n",
    "\n",
    "then the **composition** $ f \\circ g $ of $ f $ and $ g $ is defined by\n",
    "\n",
    "$$\n",
    "(f \\circ g)(x) = f(g(x))\n",
    "$$\n",
    "\n",
    "For example, if\n",
    "\n",
    "- $ A=B=C=\\mathbb R $, the set of real numbers,  \n",
    "- $ g(x)=x^2 $ and $ f(x)=\\sqrt{x} $, then $ (f \\circ g)(x) = \\sqrt{x^2} = |x| $.  \n",
    "\n",
    "\n",
    "If $ f $ is a function from $ A $ to itself, then $ f^2 $ is the composition of $ f $\n",
    "with itself.\n",
    "\n",
    "For example, if $ A = (0, \\infty) $, the set of positive numbers, and $ f(x) =\n",
    "\\sqrt{x} $, then\n",
    "\n",
    "$$\n",
    "f^2(x) = \\sqrt{\\sqrt{x}} = x^{1/4}\n",
    "$$\n",
    "\n",
    "Similarly, if $ n $ is a positive integer, then $ f^n $ is $ n $ compositions of $ f $ with\n",
    "itself.\n",
    "\n",
    "In the example above, $ f^n(x) = x^{1/(2^n)} $."
   ]
  },
  {
   "cell_type": "markdown",
   "id": "cfbbae46",
   "metadata": {},
   "source": [
    "### Dynamic systems\n",
    "\n",
    "A **(discrete time) dynamic system** is a set $ S $ and a function $ g $ that sends\n",
    "set $ S $ back into to itself.\n",
    "\n",
    "Examples of dynamic systems include\n",
    "\n",
    "- $ S = (0, 1) $ and $ g(x) = \\sqrt{x} $  \n",
    "- $ S = (0, 1) $ and $ g(x) = x^2 $  \n",
    "- $ S = \\mathbb Z $ (the integers) and $ g(x) = 2 x $  \n",
    "\n",
    "\n",
    "On the other hand, if  $ S = (-1, 1) $ and $ g(x) = x+1 $, then $ S $ and $ g $ do not\n",
    "form a dynamic system, since $ g(1) = 2 $.\n",
    "\n",
    "- $ g $ does not always send points in $ S $ back into $ S $.  \n",
    "\n",
    "\n",
    "We care about dynamic systems because we can use them to study dynamics!\n",
    "\n",
    "Given a dynamic system consisting of set $ S $ and function $ g $, we can create\n",
    "a sequence $ \\{x_t\\} $ of points in $ S $ by setting\n",
    "\n",
    "\n",
    "<a id='equation-sdsod'></a>\n",
    "$$\n",
    "x_{t+1} = g(x_t)\n",
    "    \\quad \\text{ with } \n",
    "    x_0 \\text{ given}. \\tag{23.1}\n",
    "$$\n",
    "\n",
    "This means that we choose some number $ x_0 $ in $ S $ and then take\n",
    "\n",
    "\n",
    "<a id='equation-sdstraj'></a>\n",
    "$$\n",
    "x_0, \\quad\n",
    "    x_1 = g(x_0), \\quad\n",
    "    x_2 = g(x_1) = g(g(x_0)), \\quad \\text{etc.} \\tag{23.2}\n",
    "$$\n",
    "\n",
    "This sequence $ \\{x_t\\} $ is called the **trajectory** of $ x_0 $ under $ g $.\n",
    "\n",
    "In this setting, $ S $ is called the **state space** and $ x_t $ is called the\n",
    "**state variable**.\n",
    "\n",
    "Recalling that $ g^n $ is the $ n $ compositions of $ g $ with itself,\n",
    "we can write the trajectory more simply as\n",
    "\n",
    "$$\n",
    "x_t = g^t(x_0) \\quad \\text{ for } t = 0, 1, 2, \\ldots\n",
    "$$\n",
    "\n",
    "In all of what follows, we are going to assume that $ S $ is a subset of\n",
    "$ \\mathbb R $, the real numbers.\n",
    "\n",
    "Equation [(23.1)](#equation-sdsod) is sometimes called a **first order difference equation**\n",
    "\n",
    "- first order means dependence on only one lag (i.e., earlier states such as $ x_{t-1} $ do not enter into [(23.1)](#equation-sdsod)).  "
   ]
  },
  {
   "cell_type": "markdown",
   "id": "de5a9ebc",
   "metadata": {},
   "source": [
    "### Example: a linear model\n",
    "\n",
    "One simple example of a dynamic system is when $ S=\\mathbb R $ and $ g(x)=ax +\n",
    "b $, where $ a, b $ are constants (sometimes called ``parameters’’).\n",
    "\n",
    "This leads to the **linear difference equation**\n",
    "\n",
    "$$\n",
    "x_{t+1} = a x_t + b \n",
    "    \\quad \\text{ with } \n",
    "    x_0 \\text{ given}.\n",
    "$$\n",
    "\n",
    "The trajectory of $ x_0 $ is\n",
    "\n",
    "\n",
    "<a id='equation-sdslinmodpath'></a>\n",
    "$$\n",
    "x_0, \\quad\n",
    "a x_0 + b, \\quad\n",
    "a^2 x_0 + a b + b, \\quad \\text{etc.} \\tag{23.3}\n",
    "$$\n",
    "\n",
    "Continuing in this way, and using our knowledge of [geometric series](https://intro.quantecon.org/geom_series.html), we find that, for any $ t = 0, 1, 2, \\ldots $,\n",
    "\n",
    "\n",
    "<a id='equation-sdslinmod'></a>\n",
    "$$\n",
    "x_t = a^t x_0 + b \\frac{1 - a^t}{1 - a} \\tag{23.4}\n",
    "$$\n",
    "\n",
    "We have an exact expression for $ x_t $ for all non-negative integer $ t $ and hence a full\n",
    "understanding of the dynamics.\n",
    "\n",
    "Notice in particular that $ |a| < 1 $, then, by [(23.4)](#equation-sdslinmod), we have\n",
    "\n",
    "\n",
    "<a id='equation-sdslinmodc'></a>\n",
    "$$\n",
    "x_t \\to  \\frac{b}{1 - a} \\text{ as } t \\to \\infty \\tag{23.5}\n",
    "$$\n",
    "\n",
    "regardless of $ x_0 $.\n",
    "\n",
    "This is an example of what is called global stability, a topic we return to\n",
    "below."
   ]
  },
  {
   "cell_type": "markdown",
   "id": "00b5bf86",
   "metadata": {},
   "source": [
    "### Example: a nonlinear model\n",
    "\n",
    "In the linear example above, we obtained an exact analytical expression for\n",
    "$ x_t $ in terms of arbitrary non-negative integer $ t $ and $ x_0 $.\n",
    "\n",
    "This made analysis of dynamics very easy.\n",
    "\n",
    "When models are nonlinear, however, the situation can be quite different.\n",
    "\n",
    "For example, in a later lecture [The Solow-Swan Growth Model](https://intro.quantecon.org/solow.html), we will study the Solow-Swan growth model, which has dynamics\n",
    "\n",
    "\n",
    "<a id='equation-solow-lom2'></a>\n",
    "$$\n",
    "k_{t+1} = s A k_t^{\\alpha} + (1 - \\delta) k_t \\tag{23.6}\n",
    "$$\n",
    "\n",
    "Here $ k=K/L $ is the per capita capital stock, $ s $ is the saving rate, $ A $ is the total factor productivity, $ \\alpha $ is the capital share, and $ \\delta $ is the depreciation rate.\n",
    "\n",
    "All these parameter are positive and $ 0 < \\alpha, \\delta < 1 $.\n",
    "\n",
    "If you try to iterate like we did in [(23.3)](#equation-sdslinmodpath), you will find that\n",
    "the algebra gets messy quickly.\n",
    "\n",
    "Analyzing the dynamics of this model requires a different method (see below)."
   ]
  },
  {
   "cell_type": "markdown",
   "id": "e944099e",
   "metadata": {},
   "source": [
    "## Stability\n",
    "\n",
    "Consider a dynamic system consisting of set $ S \\subset \\mathbb R $ and\n",
    "$ g $ mapping $ S $ to $ S $.\n",
    "\n",
    "\n",
    "<a id='scalar-dynam-steady-state'></a>"
   ]
  },
  {
   "cell_type": "markdown",
   "id": "c52cad89",
   "metadata": {},
   "source": [
    "### Steady states\n",
    "\n",
    "A **steady state** of this system is a\n",
    "point $ x^* $ in $ S $ such that $ x^* = g(x^*) $.\n",
    "\n",
    "In other words, $ x^* $ is a **fixed point** of the function $ g $ in\n",
    "$ S $.\n",
    "\n",
    "For example, for the linear model $ x_{t+1} = a x_t + b $, you can use the\n",
    "definition to check that\n",
    "\n",
    "- $ x^* := b/(1-a) $ is a steady state whenever $ a \\not= 1 $,  \n",
    "- if $ a = 1 $ and $ b=0 $, then every $ x \\in \\mathbb R $ is a\n",
    "  steady state,  \n",
    "- if $ a = 1 $ and $ b \\not= 0 $, then the linear model has no steady\n",
    "  state in $ \\mathbb R $.  \n",
    "\n",
    "\n",
    "\n",
    "<a id='scalar-dynam-global-stability'></a>"
   ]
  },
  {
   "cell_type": "markdown",
   "id": "159a1685",
   "metadata": {},
   "source": [
    "### Global stability\n",
    "\n",
    "A steady state $ x^* $ of the dynamic system is called\n",
    "**globally stable** if, for all $ x_0 \\in S $,\n",
    "\n",
    "$$\n",
    "x_t = g^t(x_0) \\to x^* \\text{ as } t \\to \\infty\n",
    "$$\n",
    "\n",
    "For example, in the linear model $ x_{t+1} = a x_t + b $ with $ a\n",
    "\\not= 1 $, the steady state $ x^* $\n",
    "\n",
    "- is globally stable if $ |a| < 1 $ and  \n",
    "- fails to be globally stable otherwise.  \n",
    "\n",
    "\n",
    "This follows directly from [(23.4)](#equation-sdslinmod)."
   ]
  },
  {
   "cell_type": "markdown",
   "id": "08e0296b",
   "metadata": {},
   "source": [
    "### Local stability\n",
    "\n",
    "A steady state $ x^* $ of the dynamic system is called\n",
    "**locally stable** if there exists an $ \\epsilon > 0 $ such that\n",
    "\n",
    "$$\n",
    "| x_0 - x^* | < \\epsilon\n",
    "\\; \\implies \\;\n",
    "x_t = g^t(x_0) \\to x^* \\text{ as } t \\to \\infty\n",
    "$$\n",
    "\n",
    "Obviously every globally stable steady state is also locally stable.\n",
    "\n",
    "Here is an example where the converse is not true."
   ]
  },
  {
   "cell_type": "markdown",
   "id": "1114e0b8",
   "metadata": {},
   "source": [
    "### \n",
    "\n",
    "Consider the self-map $ g $ on $ \\mathbb{R} $ defined by $ g(x)=x^2 $. The fixed point $ 1 $ is not stable.\n",
    "\n",
    "For example, $ g^t (x)\\to\\infty $ for any $ x>1 $.\n",
    "\n",
    "However, $ 0 $ is locally stable, because $ -1<x<1 $ implies that $ g^t (x)\\to 0 $ as $ t\\to\\infty $.\n",
    "\n",
    "Since we have more than one fixed point, $ 0 $ is not globally stable."
   ]
  },
  {
   "cell_type": "markdown",
   "id": "c5a9ac6f",
   "metadata": {},
   "source": [
    "## Graphical analysis\n",
    "\n",
    "As we saw above, analyzing the dynamics for nonlinear models is nontrivial.\n",
    "\n",
    "There is no single way to tackle all nonlinear models.\n",
    "\n",
    "However, there is one technique for one-dimensional models that provides a\n",
    "great deal of intuition.\n",
    "\n",
    "This is a graphical approach based on **45-degree diagrams**.\n",
    "\n",
    "Let’s look at an example: the Solow-Swan model with dynamics given in [(23.6)](#equation-solow-lom2).\n",
    "\n",
    "We begin with some plotting code that you can ignore at first reading.\n",
    "\n",
    "The function of the code is to produce 45-degree diagrams and time series\n",
    "plots."
   ]
  },
  {
   "cell_type": "code",
   "execution_count": null,
   "id": "cb310d8c",
   "metadata": {
    "hide-output": false
   },
   "outputs": [],
   "source": [
    "def subplots():\n",
    "    \"Custom subplots with axes throught the origin\"\n",
    "    fig, ax = plt.subplots()\n",
    "\n",
    "    # Set the axes through the origin\n",
    "    for spine in ['left', 'bottom']:\n",
    "        ax.spines[spine].set_position('zero')\n",
    "        ax.spines[spine].set_color('green')\n",
    "    for spine in ['right', 'top']:\n",
    "        ax.spines[spine].set_color('none')\n",
    "\n",
    "    return fig, ax\n",
    "\n",
    "\n",
    "def plot45(g, xmin, xmax, x0, num_arrows=6, var='x'):\n",
    "\n",
    "    xgrid = np.linspace(xmin, xmax, 200)\n",
    "\n",
    "    fig, ax = subplots()\n",
    "    ax.set_xlim(xmin, xmax)\n",
    "    ax.set_ylim(xmin, xmax)\n",
    "    ax.set_xlabel(r'${}_t$'.format(var), fontsize=14)\n",
    "    ax.set_ylabel(r'${}_{}$'.format(var, str('{t+1}')), fontsize=14)\n",
    "\n",
    "    hw = (xmax - xmin) * 0.01\n",
    "    hl = 2 * hw\n",
    "    arrow_args = dict(fc=\"k\", ec=\"k\", head_width=hw,\n",
    "            length_includes_head=True, lw=1,\n",
    "            alpha=0.6, head_length=hl)\n",
    "\n",
    "    ax.plot(xgrid, g(xgrid), 'b-', lw=2, alpha=0.6, label='g')\n",
    "    ax.plot(xgrid, xgrid, 'k-', lw=1, alpha=0.7, label='45')\n",
    "\n",
    "    x = x0\n",
    "    xticks = [xmin]\n",
    "    xtick_labels = [xmin]\n",
    "\n",
    "    for i in range(num_arrows):\n",
    "        if i == 0:\n",
    "            ax.arrow(x, 0.0, 0.0, g(x), **arrow_args) # x, y, dx, dy\n",
    "        else:\n",
    "            ax.arrow(x, x, 0.0, g(x) - x, **arrow_args)\n",
    "            ax.plot((x, x), (0, x), 'k', ls='dotted')\n",
    "\n",
    "        ax.arrow(x, g(x), g(x) - x, 0, **arrow_args)\n",
    "        xticks.append(x)\n",
    "        xtick_labels.append(r'${}_{}$'.format(var, str(i)))\n",
    "\n",
    "        x = g(x)\n",
    "        xticks.append(x)\n",
    "        xtick_labels.append(r'${}_{}$'.format(var, str(i+1)))\n",
    "        ax.plot((x, x), (0, x), 'k', ls='dotted')\n",
    "\n",
    "    xticks.append(xmax)\n",
    "    xtick_labels.append(xmax)\n",
    "    ax.set_xticks(xticks)\n",
    "    ax.set_yticks(xticks)\n",
    "    ax.set_xticklabels(xtick_labels)\n",
    "    ax.set_yticklabels(xtick_labels)\n",
    "\n",
    "    bbox = (0., 1.04, 1., .104)\n",
    "    legend_args = {'bbox_to_anchor': bbox, 'loc': 'upper right'}\n",
    "\n",
    "    ax.legend(ncol=2, frameon=False, **legend_args, fontsize=14)\n",
    "    plt.show()\n",
    "\n",
    "def ts_plot(g, xmin, xmax, x0, ts_length=6, var='x'):\n",
    "    fig, ax = subplots()\n",
    "    ax.set_ylim(xmin, xmax)\n",
    "    ax.set_xlabel(r'$t$', fontsize=14)\n",
    "    ax.set_ylabel(r'${}_t$'.format(var), fontsize=14)\n",
    "    x = np.empty(ts_length)\n",
    "    x[0] = x0\n",
    "    for t in range(ts_length-1):\n",
    "        x[t+1] = g(x[t])\n",
    "    ax.plot(range(ts_length),\n",
    "            x,\n",
    "            'bo-',\n",
    "            alpha=0.6,\n",
    "            lw=2,\n",
    "            label=r'${}_t$'.format(var))\n",
    "    ax.legend(loc='best', fontsize=14)\n",
    "    ax.set_xticks(range(ts_length))\n",
    "    plt.show()"
   ]
  },
  {
   "cell_type": "markdown",
   "id": "bb3e2bad",
   "metadata": {},
   "source": [
    "Let’s create a 45-degree diagram for the Solow-Swan model with a fixed set of\n",
    "parameters. Here’s the update function corresponding to the model."
   ]
  },
  {
   "cell_type": "code",
   "execution_count": null,
   "id": "f1809d4d",
   "metadata": {
    "hide-output": false
   },
   "outputs": [],
   "source": [
    "def g(k, A = 2, s = 0.3, alpha = 0.3, delta = 0.4):\n",
    "    return A * s * k**alpha + (1 - delta) * k"
   ]
  },
  {
   "cell_type": "markdown",
   "id": "c65566b6",
   "metadata": {},
   "source": [
    "Here is the 45-degree plot."
   ]
  },
  {
   "cell_type": "code",
   "execution_count": null,
   "id": "c8406a99",
   "metadata": {
    "hide-output": false
   },
   "outputs": [],
   "source": [
    "xmin, xmax = 0, 4  # Suitable plotting region.\n",
    "\n",
    "plot45(g, xmin, xmax, 0, num_arrows=0)"
   ]
  },
  {
   "cell_type": "markdown",
   "id": "0dbe2fbb",
   "metadata": {},
   "source": [
    "The plot shows the function $ g $ and the 45-degree line.\n",
    "\n",
    "Think of $ k_t $ as a value on the horizontal axis.\n",
    "\n",
    "To calculate $ k_{t+1} $, we can use the graph of $ g $ to see its\n",
    "value on the vertical axis.\n",
    "\n",
    "Clearly,\n",
    "\n",
    "- If $ g $ lies above the 45-degree line at this point, then we have $ k_{t+1} > k_t $.  \n",
    "- If $ g $ lies below the 45-degree line at this point, then we have $ k_{t+1} < k_t $.  \n",
    "- If $ g $ hits the 45-degree line at this point, then we have $ k_{t+1} = k_t $, so $ k_t $ is a steady state.  \n",
    "\n",
    "\n",
    "For the Solow-Swan model, there are two steady states when $ S = \\mathbb R_+ =\n",
    "[0, \\infty) $.\n",
    "\n",
    "- the origin $ k=0 $  \n",
    "- the unique positive number such that $ k = s z k^{\\alpha} + (1 - \\delta) k $.  \n",
    "\n",
    "\n",
    "By using some algebra, we can show that in the second case, the steady state is\n",
    "\n",
    "$$\n",
    "k^* = \\left( \\frac{sz}{\\delta} \\right)^{1/(1-\\alpha)}\n",
    "$$"
   ]
  },
  {
   "cell_type": "markdown",
   "id": "f82fe6d8",
   "metadata": {},
   "source": [
    "### Trajectories\n",
    "\n",
    "By the preceding discussion, in regions where $ g $ lies above the 45-degree line, we know that the trajectory is increasing.\n",
    "\n",
    "The next figure traces out a trajectory in such a region so we can see this more clearly.\n",
    "\n",
    "The initial condition is $ k_0 = 0.25 $."
   ]
  },
  {
   "cell_type": "code",
   "execution_count": null,
   "id": "d0a7c3c8",
   "metadata": {
    "hide-output": false
   },
   "outputs": [],
   "source": [
    "k0 = 0.25\n",
    "\n",
    "plot45(g, xmin, xmax, k0, num_arrows=5, var='k')"
   ]
  },
  {
   "cell_type": "markdown",
   "id": "fc88c9e7",
   "metadata": {},
   "source": [
    "We can plot the time series of per capita capital corresponding to the figure above as\n",
    "follows:"
   ]
  },
  {
   "cell_type": "code",
   "execution_count": null,
   "id": "89d16b65",
   "metadata": {
    "hide-output": false
   },
   "outputs": [],
   "source": [
    "ts_plot(g, xmin, xmax, k0, var='k')"
   ]
  },
  {
   "cell_type": "markdown",
   "id": "dcfa26c3",
   "metadata": {},
   "source": [
    "Here’s a somewhat longer view:"
   ]
  },
  {
   "cell_type": "code",
   "execution_count": null,
   "id": "eabdbb4b",
   "metadata": {
    "hide-output": false
   },
   "outputs": [],
   "source": [
    "ts_plot(g, xmin, xmax, k0, ts_length=20, var='k')"
   ]
  },
  {
   "cell_type": "markdown",
   "id": "c5506585",
   "metadata": {},
   "source": [
    "When per capita capital stock is higher than the unique positive steady state, we see that\n",
    "it declines:"
   ]
  },
  {
   "cell_type": "code",
   "execution_count": null,
   "id": "a75d1d76",
   "metadata": {
    "hide-output": false
   },
   "outputs": [],
   "source": [
    "k0 = 2.95\n",
    "\n",
    "plot45(g, xmin, xmax, k0, num_arrows=5, var='k')"
   ]
  },
  {
   "cell_type": "markdown",
   "id": "6d13aa81",
   "metadata": {},
   "source": [
    "Here is the time series:"
   ]
  },
  {
   "cell_type": "code",
   "execution_count": null,
   "id": "85895c13",
   "metadata": {
    "hide-output": false
   },
   "outputs": [],
   "source": [
    "ts_plot(g, xmin, xmax, k0, var='k')"
   ]
  },
  {
   "cell_type": "markdown",
   "id": "1bc56b7f",
   "metadata": {},
   "source": [
    "### Complex dynamics\n",
    "\n",
    "The Solow-Swan model is nonlinear but still generates very regular dynamics.\n",
    "\n",
    "One model that generates irregular dynamics is the **quadratic map**\n",
    "\n",
    "$$\n",
    "g(x) = 4 x (1 - x),\n",
    "\\qquad x \\in [0, 1]\n",
    "$$\n",
    "\n",
    "Let’s have a look at the 45-degree diagram."
   ]
  },
  {
   "cell_type": "code",
   "execution_count": null,
   "id": "7da5fd0f",
   "metadata": {
    "hide-output": false
   },
   "outputs": [],
   "source": [
    "xmin, xmax = 0, 1\n",
    "g = lambda x: 4 * x * (1 - x)\n",
    "\n",
    "x0 = 0.3\n",
    "plot45(g, xmin, xmax, x0, num_arrows=0)"
   ]
  },
  {
   "cell_type": "markdown",
   "id": "8137069d",
   "metadata": {},
   "source": [
    "Now let’s look at a typical trajectory."
   ]
  },
  {
   "cell_type": "code",
   "execution_count": null,
   "id": "1ac84a6a",
   "metadata": {
    "hide-output": false
   },
   "outputs": [],
   "source": [
    "plot45(g, xmin, xmax, x0, num_arrows=6)"
   ]
  },
  {
   "cell_type": "markdown",
   "id": "30fe143b",
   "metadata": {},
   "source": [
    "Notice how irregular it is.\n",
    "\n",
    "Here is the corresponding time series plot."
   ]
  },
  {
   "cell_type": "code",
   "execution_count": null,
   "id": "e20875ca",
   "metadata": {
    "hide-output": false
   },
   "outputs": [],
   "source": [
    "ts_plot(g, xmin, xmax, x0, ts_length=6)"
   ]
  },
  {
   "cell_type": "markdown",
   "id": "c707202e",
   "metadata": {},
   "source": [
    "The irregularity is even clearer over a longer time horizon:"
   ]
  },
  {
   "cell_type": "code",
   "execution_count": null,
   "id": "9d404dd3",
   "metadata": {
    "hide-output": false
   },
   "outputs": [],
   "source": [
    "ts_plot(g, xmin, xmax, x0, ts_length=20)"
   ]
  },
  {
   "cell_type": "markdown",
   "id": "e9f782a5",
   "metadata": {},
   "source": [
    "## Exercises"
   ]
  },
  {
   "cell_type": "markdown",
   "id": "dac744f7",
   "metadata": {},
   "source": [
    "## Exercise 23.1\n",
    "\n",
    "Consider again the linear model $ x_{t+1} = a x_t + b $ with $ a\n",
    "\\not=1 $.\n",
    "\n",
    "The unique steady state is $ b / (1 - a) $.\n",
    "\n",
    "The steady state is globally stable if $ |a| < 1 $.\n",
    "\n",
    "Try to illustrate this graphically by looking at a range of initial conditions.\n",
    "\n",
    "What differences do you notice in the cases $ a \\in (-1, 0) $ and $ a\n",
    "\\in (0, 1) $?\n",
    "\n",
    "Use $ a=0.5 $ and then $ a=-0.5 $ and study the trajectories.\n",
    "\n",
    "Set $ b=1 $ throughout."
   ]
  },
  {
   "cell_type": "markdown",
   "id": "eaff1efe",
   "metadata": {},
   "source": [
    "## Solution to[ Exercise 23.1](https://intro.quantecon.org/#sd_ex1)\n",
    "\n",
    "We will start with the case $ a=0.5 $.\n",
    "\n",
    "Let’s set up the model and plotting region:"
   ]
  },
  {
   "cell_type": "code",
   "execution_count": null,
   "id": "aa00ddc6",
   "metadata": {
    "hide-output": false
   },
   "outputs": [],
   "source": [
    "a, b = 0.5, 1\n",
    "xmin, xmax = -1, 3\n",
    "g = lambda x: a * x + b"
   ]
  },
  {
   "cell_type": "markdown",
   "id": "4f6e1b3d",
   "metadata": {},
   "source": [
    "Now let’s plot a trajectory:"
   ]
  },
  {
   "cell_type": "code",
   "execution_count": null,
   "id": "7a697f05",
   "metadata": {
    "hide-output": false
   },
   "outputs": [],
   "source": [
    "x0 = -0.5\n",
    "plot45(g, xmin, xmax, x0, num_arrows=5)"
   ]
  },
  {
   "cell_type": "markdown",
   "id": "256d1cfc",
   "metadata": {},
   "source": [
    "Here is the corresponding time series, which converges towards the steady\n",
    "state."
   ]
  },
  {
   "cell_type": "code",
   "execution_count": null,
   "id": "dcece061",
   "metadata": {
    "hide-output": false
   },
   "outputs": [],
   "source": [
    "ts_plot(g, xmin, xmax, x0, ts_length=10)"
   ]
  },
  {
   "cell_type": "markdown",
   "id": "929c293f",
   "metadata": {},
   "source": [
    "Now let’s try $ a=-0.5 $ and see what differences we observe.\n",
    "\n",
    "Let’s set up the model and plotting region:"
   ]
  },
  {
   "cell_type": "code",
   "execution_count": null,
   "id": "f9f56d7f",
   "metadata": {
    "hide-output": false
   },
   "outputs": [],
   "source": [
    "a, b = -0.5, 1\n",
    "xmin, xmax = -1, 3\n",
    "g = lambda x: a * x + b"
   ]
  },
  {
   "cell_type": "markdown",
   "id": "54d49023",
   "metadata": {},
   "source": [
    "Now let’s plot a trajectory:"
   ]
  },
  {
   "cell_type": "code",
   "execution_count": null,
   "id": "736cab76",
   "metadata": {
    "hide-output": false
   },
   "outputs": [],
   "source": [
    "x0 = -0.5\n",
    "plot45(g, xmin, xmax, x0, num_arrows=5)"
   ]
  },
  {
   "cell_type": "markdown",
   "id": "26ab8aa5",
   "metadata": {},
   "source": [
    "Here is the corresponding time series, which converges towards the steady\n",
    "state."
   ]
  },
  {
   "cell_type": "code",
   "execution_count": null,
   "id": "3f4025c6",
   "metadata": {
    "hide-output": false
   },
   "outputs": [],
   "source": [
    "ts_plot(g, xmin, xmax, x0, ts_length=10)"
   ]
  },
  {
   "cell_type": "markdown",
   "id": "a64c144c",
   "metadata": {},
   "source": [
    "Once again, we have convergence to the steady state but the nature of\n",
    "convergence differs.\n",
    "\n",
    "In particular, the time series jumps from above the steady state to below it\n",
    "and back again.\n",
    "\n",
    "In the current context, the series is said to exhibit **damped oscillations**."
   ]
  }
 ],
 "metadata": {
  "date": 1723441251.4750571,
  "filename": "scalar_dynam.md",
  "kernelspec": {
   "display_name": "Python",
   "language": "python3",
   "name": "python3"
  },
  "title": "Dynamics in One Dimension"
 },
 "nbformat": 4,
 "nbformat_minor": 5
}