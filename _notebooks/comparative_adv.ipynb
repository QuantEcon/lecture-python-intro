{
 "cells": [
  {
   "cell_type": "markdown",
   "id": "a8d1cb49",
   "metadata": {},
   "source": [
    "# Comparative Advantage\n",
    "\n",
    "To be completed."
   ]
  }
 ],
 "metadata": {
  "date": 1681793182.1637554,
  "filename": "comparative_adv.md",
  "kernelspec": {
   "display_name": "Python",
   "language": "python3",
   "name": "python3"
  },
  "title": "Comparative Advantage"
 },
 "nbformat": 4,
 "nbformat_minor": 5
}