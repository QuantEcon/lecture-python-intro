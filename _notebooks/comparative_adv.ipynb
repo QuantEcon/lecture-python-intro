{
 "cells": [
  {
   "cell_type": "markdown",
   "id": "5202570a",
   "metadata": {},
   "source": [
    "# Comparative Advantage\n",
    "\n",
    "To be completed."
   ]
  }
 ],
 "metadata": {
  "date": 1684109700.4839168,
  "filename": "comparative_adv.md",
  "kernelspec": {
   "display_name": "Python",
   "language": "python3",
   "name": "python3"
  },
  "title": "Comparative Advantage"
 },
 "nbformat": 4,
 "nbformat_minor": 5
}