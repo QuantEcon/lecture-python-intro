{
 "cells": [
  {
   "cell_type": "markdown",
   "id": "2c09fb24",
   "metadata": {},
   "source": [
    "# Comparative Advantage\n",
    "\n",
    "To be completed."
   ]
  }
 ],
 "metadata": {
  "date": 1682924613.958792,
  "filename": "comparative_adv.md",
  "kernelspec": {
   "display_name": "Python",
   "language": "python3",
   "name": "python3"
  },
  "title": "Comparative Advantage"
 },
 "nbformat": 4,
 "nbformat_minor": 5
}