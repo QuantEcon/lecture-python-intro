{
 "cells": [
  {
   "cell_type": "markdown",
   "id": "b8eb222a",
   "metadata": {},
   "source": [
    "# Multiplier Accelerator Model\n",
    "\n",
    "To be completed."
   ]
  }
 ],
 "metadata": {
  "date": 1681898276.0008261,
  "filename": "samuelson.md",
  "kernelspec": {
   "display_name": "Python",
   "language": "python3",
   "name": "python3"
  },
  "title": "Multiplier Accelerator Model"
 },
 "nbformat": 4,
 "nbformat_minor": 5
}