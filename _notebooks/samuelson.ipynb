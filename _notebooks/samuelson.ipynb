{
 "cells": [
  {
   "cell_type": "markdown",
   "id": "13373f47",
   "metadata": {},
   "source": [
    "# Multiplier Accelerator Model\n",
    "\n",
    "To be completed."
   ]
  }
 ],
 "metadata": {
  "date": 1681793183.6555026,
  "filename": "samuelson.md",
  "kernelspec": {
   "display_name": "Python",
   "language": "python3",
   "name": "python3"
  },
  "title": "Multiplier Accelerator Model"
 },
 "nbformat": 4,
 "nbformat_minor": 5
}