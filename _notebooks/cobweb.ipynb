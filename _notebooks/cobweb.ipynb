{
 "cells": [
  {
   "cell_type": "markdown",
   "id": "23546254",
   "metadata": {},
   "source": [
    "\n",
    "<a id='cobweb'></a>"
   ]
  },
  {
   "cell_type": "markdown",
   "id": "4df084f6",
   "metadata": {},
   "source": [
    "# The Cobweb Model\n",
    "\n",
    "The cobweb model is a model of prices and quantities in a given market, and how they evolve over time."
   ]
  },
  {
   "cell_type": "markdown",
   "id": "522d5715",
   "metadata": {},
   "source": [
    "## Overview\n",
    "\n",
    "The cobweb model dates back to the 1930s and, while simple, it remains significant\n",
    "because it shows the fundamental importance of *expectations*.\n",
    "\n",
    "To give some idea of how the model operates, and why expectations matter, imagine the following scenario.\n",
    "\n",
    "There is a market for soybeans, say, where prices and traded quantities\n",
    "depend on the choices of buyers and sellers.\n",
    "\n",
    "The buyers are represented by a demand curve — they buy more at low prices\n",
    "and less at high prices.\n",
    "\n",
    "The sellers have a supply curve — they wish to sell more at high prices and\n",
    "less at low prices.\n",
    "\n",
    "However, the sellers (who are farmers) need time to grow their crops.\n",
    "\n",
    "Suppose now that the price is currently high.\n",
    "\n",
    "Seeing this high price, and perhaps expecting that the high price will remain\n",
    "for some time, the farmers plant many fields with soybeans.\n",
    "\n",
    "Next period the resulting high supply floods the market, causing the price to drop.\n",
    "\n",
    "Seeing this low price, the farmers now shift out of soybeans, restricting\n",
    "supply and causing the price to climb again.\n",
    "\n",
    "You can imagine how these dynamics could cause cycles in prices and quantities\n",
    "that persist over time.\n",
    "\n",
    "The cobweb model puts these ideas into equations so we can try to quantify\n",
    "them, and to study conditions under which cycles persist (or disappear).\n",
    "\n",
    "In this lecture, we investigate and simulate the basic model under different\n",
    "assumptions regarding the way that producers form expectations.\n",
    "\n",
    "Our discussion and simulations draw on [high quality lectures](https://comp-econ.org/CEF_2013/downloads/Complex%20Econ%20Systems%20Lecture%20II.pdf) by [Cars Hommes](https://www.uva.nl/en/profile/h/o/c.h.hommes/c.h.hommes.html).\n",
    "\n",
    "We will use the following imports."
   ]
  },
  {
   "cell_type": "code",
   "execution_count": null,
   "id": "673ac849",
   "metadata": {
    "hide-output": false
   },
   "outputs": [],
   "source": [
    "import numpy as np\n",
    "import matplotlib.pyplot as plt"
   ]
  },
  {
   "cell_type": "markdown",
   "id": "17fe1083",
   "metadata": {},
   "source": [
    "## History\n",
    "\n",
    "Early papers on the cobweb cycle include [[Waugh, 1964](https://intro.quantecon.org/zreferences.html#id279)] and [[Harlow, 1960](https://intro.quantecon.org/zreferences.html#id280)].\n",
    "\n",
    "The paper [[Harlow, 1960](https://intro.quantecon.org/zreferences.html#id280)] uses the cobweb theorem to explain the prices of hog in the US over 1920–1950.\n",
    "\n",
    "The next plot replicates part of Figure 2 from that paper, which plots the price of hogs at yearly frequency.\n",
    "\n",
    "Notice the cyclical price dynamics, which match the kind of cyclical soybean price dynamics discussed above."
   ]
  },
  {
   "cell_type": "code",
   "execution_count": null,
   "id": "6ec649ec",
   "metadata": {
    "hide-output": false
   },
   "outputs": [],
   "source": [
    "hog_prices = [55, 57, 80, 70, 60, 65, 72, 65, 51, 49, 45, 80, 85,\n",
    "              78, 80, 68, 52, 65, 83, 78, 60, 62, 80, 87, 81, 70,\n",
    "              69, 65, 62, 85, 87, 65, 63, 75, 80, 62]\n",
    "years = np.arange(1924, 1960)\n",
    "fig, ax = plt.subplots()\n",
    "ax.plot(years, hog_prices, '-o', ms=4, label='hog price')\n",
    "ax.set_xlabel('year')\n",
    "ax.set_ylabel('dollars')\n",
    "ax.legend()\n",
    "ax.grid()\n",
    "plt.show()"
   ]
  },
  {
   "cell_type": "markdown",
   "id": "d62d0858",
   "metadata": {},
   "source": [
    "## The model\n",
    "\n",
    "Let’s return to our discussion of a hypothetical soybean market, where price is determined by supply and demand.\n",
    "\n",
    "We suppose that demand for soybeans is given by\n",
    "\n",
    "$$\n",
    "D(p_t) = a - b p_t\n",
    "$$\n",
    "\n",
    "where $ a, b $ are nonnegative constants and $ p_t $ is the spot (i.e, current market) price at time $ t $.\n",
    "\n",
    "($ D(p_t) $ is the quantity demanded in some fixed unit, such as thousands of tons.)\n",
    "\n",
    "Because the crop of soybeans for time $ t $ is planted at $ t-1 $, supply of soybeans at time $ t $ depends on *expected* prices at time $ t $, which we denote $ p^e_t $.\n",
    "\n",
    "We suppose that supply is nonlinear in expected prices, and takes the form\n",
    "\n",
    "$$\n",
    "S(p^e_t) = \\tanh(\\lambda(p^e_t - c)) + d\n",
    "$$\n",
    "\n",
    "where $ \\lambda $ is a positive constant, $ c, d $ are nonnegative constants and $ \\tanh $ is a type of [hyperbolic function](https://en.wikipedia.org/wiki/Hyperbolic_functions).\n",
    "\n",
    "Let’s make a plot of supply and demand for particular choices of the parameter values.\n",
    "\n",
    "First we store the parameters in a class and define the functions above as methods."
   ]
  },
  {
   "cell_type": "code",
   "execution_count": null,
   "id": "23f7d99a",
   "metadata": {
    "hide-output": false
   },
   "outputs": [],
   "source": [
    "class Market:\n",
    "\n",
    "    def __init__(self,\n",
    "                 a=8,      # demand parameter\n",
    "                 b=1,      # demand parameter\n",
    "                 c=6,      # supply parameter\n",
    "                 d=1,      # supply parameter\n",
    "                 λ=2.0):   # supply parameter\n",
    "        self.a, self.b, self.c, self.d = a, b, c, d\n",
    "        self.λ = λ\n",
    "\n",
    "    def demand(self, p):\n",
    "        a, b = self.a, self.b\n",
    "        return a - b * p\n",
    "\n",
    "    def supply(self, p):\n",
    "        c, d, λ = self.c, self.d, self.λ\n",
    "        return np.tanh(λ * (p - c)) + d"
   ]
  },
  {
   "cell_type": "markdown",
   "id": "d76a4a7e",
   "metadata": {},
   "source": [
    "Now let’s plot."
   ]
  },
  {
   "cell_type": "code",
   "execution_count": null,
   "id": "9fd807a3",
   "metadata": {
    "hide-output": false
   },
   "outputs": [],
   "source": [
    "p_grid = np.linspace(5, 8, 200)\n",
    "m = Market()\n",
    "fig, ax = plt.subplots()\n",
    "\n",
    "ax.plot(p_grid, m.demand(p_grid), label=\"$D$\")\n",
    "ax.plot(p_grid, m.supply(p_grid), label=\"$S$\")\n",
    "ax.set_xlabel(\"price\")\n",
    "ax.set_ylabel(\"quantity\")\n",
    "ax.legend()\n",
    "\n",
    "plt.show()"
   ]
  },
  {
   "cell_type": "markdown",
   "id": "fc3c235b",
   "metadata": {},
   "source": [
    "Market equilibrium requires that supply equals demand, or\n",
    "\n",
    "$$\n",
    "a - b p_t = S(p^e_t)\n",
    "$$\n",
    "\n",
    "Rewriting in terms of $ p_t $ gives\n",
    "\n",
    "$$\n",
    "p_t = - \\frac{1}{b} [S(p^e_t) - a]\n",
    "$$\n",
    "\n",
    "Finally, to complete the model, we need to describe how price expectations are formed.\n",
    "\n",
    "We will assume that expected prices at time $ t $ depend on past prices.\n",
    "\n",
    "In particular, we suppose that\n",
    "\n",
    "\n",
    "<a id='equation-p-et'></a>\n",
    "$$\n",
    "p^e_t = f(p_{t-1}, p_{t-2}) \\tag{25.1}\n",
    "$$\n",
    "\n",
    "where $ f $ is some function.\n",
    "\n",
    "Thus, we are assuming that producers expect the time-$ t $ price to be some function of lagged prices, up to $ 2 $ lags.\n",
    "\n",
    "(We could of course add additional lags and readers are encouraged to experiment with such cases.)\n",
    "\n",
    "Combining the last two equations gives the dynamics for prices:\n",
    "\n",
    "\n",
    "<a id='equation-price-t'></a>\n",
    "$$\n",
    "p_t = - \\frac{1}{b} [ S(f(p_{t-1}, p_{t-2})) - a] \\tag{25.2}\n",
    "$$\n",
    "\n",
    "The price dynamics depend on the parameter values and also on the function $ f $ that determines how producers form expectations."
   ]
  },
  {
   "cell_type": "markdown",
   "id": "ec907f00",
   "metadata": {},
   "source": [
    "## Naive expectations\n",
    "\n",
    "To go further in our analysis we need to specify the function $ f $; that is, how expectations are formed.\n",
    "\n",
    "Let’s start with naive expectations, which refers to the case where producers expect the next period spot price to be whatever the price is in the current period.\n",
    "\n",
    "In other words,\n",
    "\n",
    "$$\n",
    "p_t^e = p_{t-1}\n",
    "$$\n",
    "\n",
    "Using [(25.2)](#equation-price-t), we then have\n",
    "\n",
    "$$\n",
    "p_t = - \\frac{1}{b} [ S(p_{t-1}) - a]\n",
    "$$\n",
    "\n",
    "We can write this as\n",
    "\n",
    "$$\n",
    "p_t = g(p_{t-1})\n",
    "$$\n",
    "\n",
    "where $ g $ is the function defined by\n",
    "\n",
    "\n",
    "<a id='equation-def-g'></a>\n",
    "$$\n",
    "g(p) = - \\frac{1}{b} [ S(p) - a] \\tag{25.3}\n",
    "$$\n",
    "\n",
    "Here we represent the function $ g $"
   ]
  },
  {
   "cell_type": "code",
   "execution_count": null,
   "id": "00d56beb",
   "metadata": {
    "hide-output": false
   },
   "outputs": [],
   "source": [
    "def g(model, current_price):\n",
    "    \"\"\"\n",
    "    Function to find the next price given the current price\n",
    "    and Market model\n",
    "    \"\"\"\n",
    "    a, b = model.a, model.b\n",
    "    next_price = - (model.supply(current_price) - a) / b\n",
    "    return next_price"
   ]
  },
  {
   "cell_type": "markdown",
   "id": "5b9f6dbb",
   "metadata": {},
   "source": [
    "Let’s try to understand how prices will evolve using a 45-degree diagram, which is a tool for studying one-dimensional dynamics.\n",
    "\n",
    "The function `plot45` defined below helps us draw the 45-degree diagram."
   ]
  },
  {
   "cell_type": "code",
   "execution_count": null,
   "id": "1de8e565",
   "metadata": {
    "hide-output": false
   },
   "outputs": [],
   "source": [
    "def plot45(model, pmin, pmax, p0, num_arrows=5):\n",
    "    \"\"\"\n",
    "    Function to plot a 45 degree plot\n",
    "\n",
    "    Parameters\n",
    "    ==========\n",
    "\n",
    "    model: Market model\n",
    "\n",
    "    pmin: Lower price limit\n",
    "\n",
    "    pmax: Upper price limit\n",
    "\n",
    "    p0: Initial value of price (needed to simulate prices)\n",
    "\n",
    "    num_arrows: Number of simulations to plot\n",
    "    \"\"\"\n",
    "    pgrid = np.linspace(pmin, pmax, 200)\n",
    "\n",
    "    fig, ax = plt.subplots()\n",
    "    ax.set_xlim(pmin, pmax)\n",
    "    ax.set_ylim(pmin, pmax)\n",
    "\n",
    "    hw = (pmax - pmin) * 0.01\n",
    "    hl = 2 * hw\n",
    "    arrow_args = dict(fc=\"k\", ec=\"k\", head_width=hw,\n",
    "            length_includes_head=True, lw=1,\n",
    "            alpha=0.6, head_length=hl)\n",
    "\n",
    "    ax.plot(pgrid, g(model, pgrid), 'b-',\n",
    "            lw=2, alpha=0.6, label='g')\n",
    "    ax.plot(pgrid, pgrid, lw=1, alpha=0.7, label='$45\\degree$')\n",
    "\n",
    "    x = p0\n",
    "    xticks = [pmin]\n",
    "    xtick_labels = [pmin]\n",
    "\n",
    "    for i in range(num_arrows):\n",
    "        if i == 0:\n",
    "            ax.arrow(x, 0.0, 0.0, g(model, x),\n",
    "                     **arrow_args)\n",
    "        else:\n",
    "            ax.arrow(x, x, 0.0, g(model, x) - x,\n",
    "                     **arrow_args)\n",
    "            ax.plot((x, x), (0, x), ls='dotted')\n",
    "\n",
    "        ax.arrow(x, g(model, x),\n",
    "                 g(model, x) - x, 0, **arrow_args)\n",
    "        xticks.append(x)\n",
    "        xtick_labels.append(r'$p_{}$'.format(str(i)))\n",
    "\n",
    "        x = g(model, x)\n",
    "        xticks.append(x)\n",
    "        xtick_labels.append(r'$p_{}$'.format(str(i+1)))\n",
    "        ax.plot((x, x), (0, x), '->', alpha=0.5, color='orange')\n",
    "\n",
    "    xticks.append(pmax)\n",
    "    xtick_labels.append(pmax)\n",
    "    ax.set_ylabel(r'$p_{t+1}$')\n",
    "    ax.set_xlabel(r'$p_t$')\n",
    "    ax.set_xticks(xticks)\n",
    "    ax.set_yticks(xticks)\n",
    "    ax.set_xticklabels(xtick_labels)\n",
    "    ax.set_yticklabels(xtick_labels)\n",
    "\n",
    "    bbox = (0., 1.04, 1., .104)\n",
    "    legend_args = {'bbox_to_anchor': bbox, 'loc': 'upper right'}\n",
    "\n",
    "    ax.legend(ncol=2, frameon=False, **legend_args, fontsize=14)\n",
    "    plt.show()"
   ]
  },
  {
   "cell_type": "markdown",
   "id": "e7b7024d",
   "metadata": {},
   "source": [
    "Now we can set up a market and plot the 45-degree diagram."
   ]
  },
  {
   "cell_type": "code",
   "execution_count": null,
   "id": "4eb03b78",
   "metadata": {
    "hide-output": false
   },
   "outputs": [],
   "source": [
    "m = Market()"
   ]
  },
  {
   "cell_type": "code",
   "execution_count": null,
   "id": "dab4d0ed",
   "metadata": {
    "hide-output": false
   },
   "outputs": [],
   "source": [
    "plot45(m, 0, 9, 2, num_arrows=3)"
   ]
  },
  {
   "cell_type": "markdown",
   "id": "c578b1c5",
   "metadata": {},
   "source": [
    "The plot shows the function $ g $ defined in [(25.3)](#equation-def-g) and the 45-degree line.\n",
    "\n",
    "Think of $ p_t $ as a value on the horizontal axis.\n",
    "\n",
    "Since $ p_{t+1} = g(p_t) $, we use the graph of $ g $ to see $ p_{t+1} $ on the vertical axis.\n",
    "\n",
    "Clearly,\n",
    "\n",
    "- If $ g $ lies above the 45-degree line at $ p_t $, then we have $ p_{t+1} > p_t $.  \n",
    "- If $ g $ lies below the 45-degree line at $ p_t $, then we have $ p_{t+1} < p_t $.  \n",
    "- If $ g $ hits the 45-degree line at $ p_t $, then we have $ p_{t+1} = p_t $, so $ p_t $ is a steady state.  \n",
    "\n",
    "\n",
    "Consider the sequence of prices starting at $ p_0 $, as shown in the figure.\n",
    "\n",
    "We find $ p_1 $ on the vertical axis and then shift it to the horizontal axis using the 45-degree line (where values on the two axes are equal).\n",
    "\n",
    "Then from $ p_1 $ we obtain $ p_2 $ and continue.\n",
    "\n",
    "We can see the start of a cycle.\n",
    "\n",
    "To confirm this, let’s plot a time series."
   ]
  },
  {
   "cell_type": "code",
   "execution_count": null,
   "id": "df8a199c",
   "metadata": {
    "hide-output": false
   },
   "outputs": [],
   "source": [
    "def ts_plot_price(model,             # Market model\n",
    "                  p0,                # Initial price\n",
    "                  y_a=3, y_b= 12,    # Controls y-axis\n",
    "                  ts_length=10):     # Length of time series\n",
    "    \"\"\"\n",
    "    Function to simulate and plot the time series of price.\n",
    "\n",
    "    \"\"\"\n",
    "    fig, ax = plt.subplots()\n",
    "    ax.set_xlabel(r'$t$', fontsize=12)\n",
    "    ax.set_ylabel(r'$p_t$', fontsize=12)\n",
    "    p = np.empty(ts_length)\n",
    "    p[0] = p0\n",
    "    for t in range(1, ts_length):\n",
    "        p[t] = g(model, p[t-1])\n",
    "    ax.plot(np.arange(ts_length),\n",
    "            p,\n",
    "            'bo-',\n",
    "            alpha=0.6,\n",
    "            lw=2,\n",
    "            label=r'$p_t$')\n",
    "    ax.legend(loc='best', fontsize=10)\n",
    "    ax.set_ylim(y_a, y_b)\n",
    "    ax.set_xticks(np.arange(ts_length))\n",
    "    plt.show()"
   ]
  },
  {
   "cell_type": "code",
   "execution_count": null,
   "id": "d664cdc1",
   "metadata": {
    "hide-output": false
   },
   "outputs": [],
   "source": [
    "ts_plot_price(m, 4, ts_length=15)"
   ]
  },
  {
   "cell_type": "markdown",
   "id": "b59aa89d",
   "metadata": {},
   "source": [
    "We see that a cycle has formed and the cycle is persistent.\n",
    "\n",
    "(You can confirm this by plotting over a longer time horizon.)\n",
    "\n",
    "The cycle is “stable”, in the sense that prices converge to it from most starting conditions.\n",
    "\n",
    "For example,"
   ]
  },
  {
   "cell_type": "code",
   "execution_count": null,
   "id": "659076b4",
   "metadata": {
    "hide-output": false
   },
   "outputs": [],
   "source": [
    "ts_plot_price(m, 10, ts_length=15)"
   ]
  },
  {
   "cell_type": "markdown",
   "id": "6ab8659c",
   "metadata": {},
   "source": [
    "## Adaptive expectations\n",
    "\n",
    "Naive expectations are quite simple and also important in driving the cycle that we found.\n",
    "\n",
    "What if expectations are formed in a different way?\n",
    "\n",
    "Next we consider adaptive expectations.\n",
    "\n",
    "This refers to the case where producers form expectations for\n",
    "the next period price as a weighted average of their last guess and the\n",
    "current spot price.\n",
    "\n",
    "That is,\n",
    "\n",
    "\n",
    "<a id='equation-pe-adaptive'></a>\n",
    "$$\n",
    "p_t^e = \\alpha p_{t-1} + (1-\\alpha) p^e_{t-1}\n",
    "\\qquad (0 \\leq \\alpha \\leq 1) \\tag{25.4}\n",
    "$$\n",
    "\n",
    "Another way to write this is\n",
    "\n",
    "\n",
    "<a id='equation-pe-adaptive-2'></a>\n",
    "$$\n",
    "p_t^e = p^e_{t-1} + \\alpha (p_{t-1} - p_{t-1}^e) \\tag{25.5}\n",
    "$$\n",
    "\n",
    "This equation helps to show that expectations shift\n",
    "\n",
    "1. up when prices last period were above expectations  \n",
    "1. down when prices last period were below expectations  \n",
    "\n",
    "\n",
    "Using [(25.4)](#equation-pe-adaptive), we obtain the dynamics\n",
    "\n",
    "$$\n",
    "p_t = - \\frac{1}{b} [ S(\\alpha p_{t-1} + (1-\\alpha) p^e_{t-1}) - a]\n",
    "$$\n",
    "\n",
    "Let’s try to simulate the price and observe the dynamics using different values of $ \\alpha $."
   ]
  },
  {
   "cell_type": "code",
   "execution_count": null,
   "id": "3d71cc95",
   "metadata": {
    "hide-output": false
   },
   "outputs": [],
   "source": [
    "def find_next_price_adaptive(model, curr_price_exp):\n",
    "    \"\"\"\n",
    "    Function to find the next price given the current price expectation\n",
    "    and Market model\n",
    "    \"\"\"\n",
    "    return - (model.supply(curr_price_exp) - model.a) / model.b"
   ]
  },
  {
   "cell_type": "markdown",
   "id": "cc5e8272",
   "metadata": {},
   "source": [
    "The function below plots price dynamics under adaptive expectations for different values of $ \\alpha $."
   ]
  },
  {
   "cell_type": "code",
   "execution_count": null,
   "id": "112b95ed",
   "metadata": {
    "hide-output": false
   },
   "outputs": [],
   "source": [
    "def ts_price_plot_adaptive(model, p0, ts_length=10, α=[1.0, 0.9, 0.75]):\n",
    "    fig, axs = plt.subplots(1, len(α), figsize=(12, 5))\n",
    "    for i_plot, a in enumerate(α):\n",
    "        pe_last = p0\n",
    "        p_values = np.empty(ts_length)\n",
    "        p_values[0] = p0\n",
    "        for i in range(1, ts_length):\n",
    "            p_values[i] = find_next_price_adaptive(model, pe_last)\n",
    "            pe_last = a*p_values[i] + (1 - a)*pe_last\n",
    "\n",
    "        axs[i_plot].plot(np.arange(ts_length), p_values)\n",
    "        axs[i_plot].set_title(r'$\\alpha={}$'.format(a))\n",
    "        axs[i_plot].set_xlabel('t')\n",
    "        axs[i_plot].set_ylabel('price')\n",
    "    plt.show()"
   ]
  },
  {
   "cell_type": "markdown",
   "id": "06a00b93",
   "metadata": {},
   "source": [
    "Let’s call the function with prices starting at $ p_0 = 5 $."
   ]
  },
  {
   "cell_type": "code",
   "execution_count": null,
   "id": "a01da4dd",
   "metadata": {
    "hide-output": false
   },
   "outputs": [],
   "source": [
    "ts_price_plot_adaptive(m, 5, ts_length=30)"
   ]
  },
  {
   "cell_type": "markdown",
   "id": "8ca6aa7b",
   "metadata": {},
   "source": [
    "Note that if $ \\alpha=1 $, then adaptive expectations are just naive expectation.\n",
    "\n",
    "Decreasing the value of $ \\alpha $ shifts more weight to the previous\n",
    "expectations, which stabilizes expected prices.\n",
    "\n",
    "This increased stability can be seen in the figures."
   ]
  },
  {
   "cell_type": "markdown",
   "id": "da0c8d81",
   "metadata": {},
   "source": [
    "## Exercises"
   ]
  },
  {
   "cell_type": "markdown",
   "id": "89128724",
   "metadata": {},
   "source": [
    "## Exercise 25.1\n",
    "\n",
    "Using the default `Market` class and naive expectations, plot a time series simulation of supply (rather than the price).\n",
    "\n",
    "Show, in particular, that supply also cycles."
   ]
  },
  {
   "cell_type": "markdown",
   "id": "1ef393f6",
   "metadata": {},
   "source": [
    "## Solution to[ Exercise 25.1](https://intro.quantecon.org/#cobweb_ex1)"
   ]
  },
  {
   "cell_type": "code",
   "execution_count": null,
   "id": "3ba08aff",
   "metadata": {
    "hide-output": false
   },
   "outputs": [],
   "source": [
    "def ts_plot_supply(model, p0, ts_length=10):\n",
    "    \"\"\"\n",
    "    Function to simulate and plot the supply function\n",
    "    given the initial price.\n",
    "    \"\"\"\n",
    "    pe_last = p0\n",
    "    s_values = np.empty(ts_length)\n",
    "    for i in range(ts_length):\n",
    "        # store quantity\n",
    "        s_values[i] = model.supply(pe_last)\n",
    "        # update price\n",
    "        pe_last = - (s_values[i] - model.a) / model.b\n",
    "\n",
    "\n",
    "    fig, ax = plt.subplots()\n",
    "    ax.plot(np.arange(ts_length),\n",
    "            s_values,\n",
    "            'bo-',\n",
    "            alpha=0.6,\n",
    "            lw=2,\n",
    "            label=r'supply')\n",
    "\n",
    "    ax.legend(loc='best', fontsize=10)\n",
    "    ax.set_xticks(np.arange(ts_length))\n",
    "    ax.set_xlabel(\"time\")\n",
    "    ax.set_ylabel(\"quantity\")\n",
    "    plt.show()"
   ]
  },
  {
   "cell_type": "code",
   "execution_count": null,
   "id": "eb42b8ad",
   "metadata": {
    "hide-output": false
   },
   "outputs": [],
   "source": [
    "m = Market()\n",
    "ts_plot_supply(m, 5, 15)"
   ]
  },
  {
   "cell_type": "markdown",
   "id": "f2805e49",
   "metadata": {},
   "source": [
    "## Exercise 25.2\n",
    "\n",
    "**Backward looking average expectations**\n",
    "\n",
    "Backward looking average expectations refers to the case where producers form\n",
    "expectations for the next period price as a linear combination of their last\n",
    "guess and the second last guess.\n",
    "\n",
    "That is,\n",
    "\n",
    "\n",
    "<a id='equation-pe-blae'></a>\n",
    "$$\n",
    "p_t^e = \\alpha p_{t-1} + (1-\\alpha) p_{t-2} \\tag{25.6}\n",
    "$$\n",
    "\n",
    "Simulate and plot the price dynamics for $ \\alpha \\in \\{0.1, 0.3, 0.5, 0.8\\} $ where $ p_0=1 $ and $ p_1=2.5 $."
   ]
  },
  {
   "cell_type": "markdown",
   "id": "a7c56aac",
   "metadata": {},
   "source": [
    "## Solution to[ Exercise 25.2](https://intro.quantecon.org/#cobweb_ex2)"
   ]
  },
  {
   "cell_type": "code",
   "execution_count": null,
   "id": "4b7141d6",
   "metadata": {
    "hide-output": false
   },
   "outputs": [],
   "source": [
    "def find_next_price_blae(model, curr_price_exp):\n",
    "    \"\"\"\n",
    "    Function to find the next price given the current price expectation\n",
    "    and Market model\n",
    "    \"\"\"\n",
    "    return - (model.supply(curr_price_exp) - model.a) / model.b"
   ]
  },
  {
   "cell_type": "code",
   "execution_count": null,
   "id": "1e5b0e3c",
   "metadata": {
    "hide-output": false
   },
   "outputs": [],
   "source": [
    "def ts_plot_price_blae(model, p0, p1, alphas, ts_length=15):\n",
    "    \"\"\"\n",
    "    Function to simulate and plot the time series of price\n",
    "    using backward looking average expectations.\n",
    "    \"\"\"\n",
    "    fig, axes = plt.subplots(len(alphas), 1, figsize=(8, 16))\n",
    "\n",
    "    for ax, a in zip(axes.flatten(), alphas):\n",
    "        p = np.empty(ts_length)\n",
    "        p[0] = p0\n",
    "        p[1] = p1\n",
    "        for t in range(2, ts_length):\n",
    "            pe = a*p[t-1] + (1 - a)*p[t-2]\n",
    "            p[t] = -(model.supply(pe) - model.a) / model.b\n",
    "        ax.plot(np.arange(ts_length),\n",
    "                p,\n",
    "                'o-',\n",
    "                alpha=0.6,\n",
    "                label=r'$\\alpha={}$'.format(a))\n",
    "        ax.legend(loc='best', fontsize=10)\n",
    "        ax.set_xlabel(r'$t$', fontsize=12)\n",
    "        ax.set_ylabel(r'$p_t$', fontsize=12)\n",
    "    plt.show()"
   ]
  },
  {
   "cell_type": "code",
   "execution_count": null,
   "id": "386d2c1a",
   "metadata": {
    "hide-output": false
   },
   "outputs": [],
   "source": [
    "m = Market()\n",
    "ts_plot_price_blae(m, \n",
    "                   p0=5, \n",
    "                   p1=6, \n",
    "                   alphas=[0.1, 0.3, 0.5, 0.8], \n",
    "                   ts_length=20)"
   ]
  }
 ],
 "metadata": {
  "date": 1723931274.1007879,
  "filename": "cobweb.md",
  "kernelspec": {
   "display_name": "Python",
   "language": "python3",
   "name": "python3"
  },
  "title": "The Cobweb Model"
 },
 "nbformat": 4,
 "nbformat_minor": 5
}