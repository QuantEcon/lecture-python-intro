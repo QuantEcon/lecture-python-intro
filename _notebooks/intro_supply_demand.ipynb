{
 "cells": [
  {
   "cell_type": "markdown",
   "id": "762bdde4",
   "metadata": {},
   "source": [
    "# Introduction to Supply and Demand"
   ]
  },
  {
   "cell_type": "markdown",
   "id": "91d08603",
   "metadata": {},
   "source": [
    "## Outline\n",
    "\n",
    "This lecture is about some models of equilibrium prices and quantities, one of\n",
    "the main topics of elementary microeconomics.\n",
    "\n",
    "Throughout the lecture, we focus on models with one good and one price.\n",
    "\n",
    "([Later](supply_demand_multiple_goods.ipynb) we will investigate settings with\n",
    "many goods.)\n",
    "\n",
    "We shall describe two classic welfare theorems:\n",
    "\n",
    "- **first welfare theorem:** for a  given a distribution of wealth among consumers,  a competitive  equilibrium  allocation of goods solves a  social planning problem.  \n",
    "- **second welfare theorem:** An allocation of goods to consumers that solves a social planning problem can be supported by a competitive equilibrium with an appropriate initial distribution of  wealth.  \n",
    "\n",
    "\n",
    "Key infrastructure concepts that we’ll encounter in this lecture are\n",
    "\n",
    "- inverse demand curves  \n",
    "- marginal utilities of wealth  \n",
    "- inverse supply curves  \n",
    "- consumer surplus  \n",
    "- producer surplus  \n",
    "- social welfare as a sum of consumer and producer surpluses  \n",
    "- competitive equilibrium  \n",
    "\n",
    "\n",
    "We will use the following imports."
   ]
  },
  {
   "cell_type": "markdown",
   "id": "bd06ea8e",
   "metadata": {
    "hide-output": false
   },
   "source": [
    "```ipython3\n",
    "import numpy as np\n",
    "import matplotlib.pyplot as plt\n",
    "```\n"
   ]
  },
  {
   "cell_type": "markdown",
   "id": "c007a637",
   "metadata": {},
   "source": [
    "## Supply and Demand\n",
    "\n",
    "We study a market for a single good in which buyers and sellers exchange a  quantity $ q $ for a price $ p $.\n",
    "\n",
    "Quantity $ q $ and price  $ p $ are  both scalars.\n",
    "\n",
    "We assume that inverse demand and supply curves for the good are:\n",
    "\n",
    "$$\n",
    "p = d_0 - d_1 q, \\quad d_0, d_1 > 0\n",
    "$$\n",
    "\n",
    "$$\n",
    "p = s_0 + s_1 q , \\quad s_0, s_1 > 0\n",
    "$$\n",
    "\n",
    "We call them inverse demand and supply curves because price is on the left side of the equation rather than on the right side as it would be in a direct demand or supply function."
   ]
  },
  {
   "cell_type": "markdown",
   "id": "d5cd4e7a",
   "metadata": {},
   "source": [
    "### Surpluses and Welfare\n",
    "\n",
    "We define **consumer surplus** as the  area under an inverse demand curve minus $ p q $:\n",
    "\n",
    "$$\n",
    "\\int_0^q (d_0 - d_1 x) dx - pq = d_0 q -.5 d_1 q^2 - pq\n",
    "$$\n",
    "\n",
    "We define **producer surplus** as $ p q $ minus   the area under an inverse supply curve:\n",
    "\n",
    "$$\n",
    "p q - \\int_0^q (s_0 + s_1 x) dx = pq - s_0 q - .5 s_1 q^2\n",
    "$$\n",
    "\n",
    "Sometimes economists measure social welfare by a **welfare criterion** that equals  consumer surplus plus producer surplus\n",
    "\n",
    "$$\n",
    "\\int_0^q (d_0 - d_1 x) dx - \\int_0^q (s_0 + s_1 x) dx  \\equiv \\textrm{Welf}\n",
    "$$\n",
    "\n",
    "or\n",
    "\n",
    "$$\n",
    "\\textrm{Welf} = (d_0 - s_0) q - .5 (d_1 + s_1) q^2\n",
    "$$\n",
    "\n",
    "To compute a quantity that  maximizes  welfare criterion $ \\textrm{Welf} $, we differentiate $ \\textrm{Welf} $ with respect to   $ q $ and then set the derivative to zero.\n",
    "\n",
    "We get\n",
    "\n",
    "$$\n",
    "\\frac{d \\textrm{Welf}}{d q} = d_0 - s_0 - (d_1 + s_1) q  = 0\n",
    "$$\n",
    "\n",
    "which implies\n",
    "\n",
    "\n",
    "<a id='equation-eq-old1'></a>\n",
    "$$\n",
    "q = \\frac{ d_0 - s_0}{s_1 + d_1} \\tag{2.1}\n",
    "$$\n",
    "\n",
    "Let’s remember the quantity $ q $ given by equation [(2.1)](#equation-eq-old1) that a social planner would choose to maximize consumer plus producer surplus.\n",
    "\n",
    "We’ll compare it to the quantity that emerges in a competitive  equilibrium\n",
    "equilibrium that equates supply to demand."
   ]
  },
  {
   "cell_type": "markdown",
   "id": "347d06bd",
   "metadata": {},
   "source": [
    "### Competitive Equilibrium\n",
    "\n",
    "Instead of equating quantities supplied and demanded, we’ll can accomplish the same thing by equating demand price to supply price:\n",
    "\n",
    "$$\n",
    "p =  d_0 - d_1 q = s_0 + s_1 q ,\n",
    "$$\n",
    "\n",
    "It we solve the equation defined by the second equality in the above line for $ q $, we obtain the\n",
    "competitive equilibrium quantity; it equals the same $ q $ given by equation  [(2.1)](#equation-eq-old1).\n",
    "\n",
    "The outcome that the quantity determined by equation [(2.1)](#equation-eq-old1) equates\n",
    "supply to demand brings us a **key finding:**\n",
    "\n",
    "- a competitive equilibrium quantity maximizes our  welfare criterion  \n",
    "\n",
    "\n",
    "It also brings  a useful  **competitive equilibrium computation strategy:**\n",
    "\n",
    "- after solving the welfare problem for an optimal  quantity, we can read a competitive equilibrium price from  either supply price or demand price at the  competitive equilibrium quantity  "
   ]
  },
  {
   "cell_type": "markdown",
   "id": "f3e302be",
   "metadata": {},
   "source": [
    "### Generalizations\n",
    "\n",
    "In later lectures,  we’ll derive generalizations of the above demand and\n",
    "supply curves from other objects.\n",
    "\n",
    "Our generalizations will extend the preceding analysis of a market for a\n",
    "single good to the analysis of $ n $ simultaneous markets in $ n $ goods.\n",
    "\n",
    "In addition\n",
    "\n",
    "- we’ll derive  **demand curves** from a consumer problem that maximizes a **utility function** subject to a **budget constraint**.  \n",
    "- we’ll derive  **supply curves** from the problem of a producer who is price taker and maximizes his profits minus total costs that are described by a  **cost function**.  "
   ]
  },
  {
   "cell_type": "markdown",
   "id": "ac374519",
   "metadata": {},
   "source": [
    "## Code"
   ]
  },
  {
   "cell_type": "markdown",
   "id": "4c7d3fd6",
   "metadata": {
    "hide-output": false
   },
   "source": [
    "```ipython3\n",
    "class SingleGoodMarket:\n",
    "\n",
    "    def __init__(self, \n",
    "        d_0=1.0,      # demand intercept\n",
    "        d_1=0.5,      # demand slope\n",
    "        s_0=0.1,      # supply intercept\n",
    "        s_1=0.4):     # supply slope\n",
    "\n",
    "        self.d_0, self.d_1 = d_0, d_1\n",
    "        self.s_0, self.s_1 = s_0, s_1\n",
    "\n",
    "    def inverse_demand(self, q):\n",
    "        return self.d_0 - self.d_1 * q\n",
    "\n",
    "    def inverse_supply(self, q):\n",
    "        return self.s_0 + self.s_1 * q\n",
    "\n",
    "    def equilibrium_quantity(self):\n",
    "        return (self.d_0 - self.s_0) / (self.d_1 + self.s_1)\n",
    "\n",
    "    def equilibrium_price(self):\n",
    "        q = self.equilibrium_quantity()\n",
    "        return self.s_0 + self.s_1 * q\n",
    "```\n"
   ]
  },
  {
   "cell_type": "markdown",
   "id": "8aef5b0b",
   "metadata": {
    "hide-output": false
   },
   "source": [
    "```ipython3\n",
    "def plot_supply_demand(market):\n",
    "\n",
    "    # Unpack\n",
    "    d_0, d_1 = market.d_0, market.d_1\n",
    "    s_0, s_1 = market.s_0, market.s_1\n",
    "    q = market.equilibrium_quantity()\n",
    "    p = market.equilibrium_price()\n",
    "    grid_size = 200\n",
    "    x_grid = np.linspace(0, 2 * q, grid_size)\n",
    "    ps = np.ones_like(x_grid) * p\n",
    "    supply_curve = market.inverse_supply(x_grid)\n",
    "    demand_curve = market.inverse_demand(x_grid)\n",
    "\n",
    "    fig, ax = plt.subplots()\n",
    "\n",
    "    ax.plot(x_grid, supply_curve, label='Supply', color='#020060')\n",
    "    ax.plot(x_grid, demand_curve, label='Demand', color='#600001')\n",
    "\n",
    "    ax.fill_between(x_grid[x_grid <= q], \n",
    "        demand_curve[x_grid<=q], \n",
    "        ps[x_grid <= q], \n",
    "        label='Consumer surplus', \n",
    "        color='#EED1CF')\n",
    "    ax.fill_between(x_grid[x_grid <= q], \n",
    "        supply_curve[x_grid <= q], \n",
    "        ps[x_grid <= q], \n",
    "        label='Producer surplus', \n",
    "        color='#E6E6F5')\n",
    "\n",
    "    ax.vlines(q, 0, p, linestyle=\"dashed\", color='black', alpha=0.7)\n",
    "    ax.hlines(p, 0, q, linestyle=\"dashed\", color='black', alpha=0.7)\n",
    "\n",
    "    ax.legend(loc='upper center', frameon=False)\n",
    "    ax.margins(x=0, y=0)\n",
    "    ax.set_ylim(0)\n",
    "    ax.set_xlabel('Quantity')\n",
    "    ax.set_ylabel('Price')\n",
    "\n",
    "    plt.show()\n",
    "```\n"
   ]
  },
  {
   "cell_type": "markdown",
   "id": "b87597f8",
   "metadata": {
    "hide-output": false
   },
   "source": [
    "```ipython3\n",
    "market = SingleGoodMarket()\n",
    "```\n"
   ]
  },
  {
   "cell_type": "markdown",
   "id": "b40a3053",
   "metadata": {
    "hide-output": false
   },
   "source": [
    "```ipython3\n",
    "plot_supply_demand(market)\n",
    "```\n"
   ]
  }
 ],
 "metadata": {
  "date": 1681898274.6332953,
  "filename": "intro_supply_demand.md",
  "kernelspec": {
   "display_name": "Python",
   "language": "python3",
   "name": "python3"
  },
  "title": "Introduction to Supply and Demand"
 },
 "nbformat": 4,
 "nbformat_minor": 5
}