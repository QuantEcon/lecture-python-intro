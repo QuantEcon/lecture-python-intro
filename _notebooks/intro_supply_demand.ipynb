{
 "cells": [
  {
   "cell_type": "markdown",
   "id": "b05c4897",
   "metadata": {},
   "source": [
    "# Introduction to Supply and Demand"
   ]
  },
  {
   "cell_type": "markdown",
   "id": "3aa68915",
   "metadata": {},
   "source": [
    "## Outline\n",
    "\n",
    "This lecture is about some models of equilibrium prices and quantities, one of\n",
    "the main topics of elementary microeconomics.\n",
    "\n",
    "Throughout the lecture, we focus on models with one good and one price.\n",
    "\n",
    "([Later](https://intro.quantecon.org/supply_demand_multiple_goods.html) we will investigate settings with\n",
    "many goods.)\n",
    "\n",
    "Key infrastructure concepts that we’ll encounter in this lecture are\n",
    "\n",
    "- inverse demand curves  \n",
    "- marginal utilities of wealth  \n",
    "- inverse supply curves  \n",
    "- consumer surplus  \n",
    "- producer surplus  \n",
    "- social welfare as a sum of consumer and producer surpluses  \n",
    "- competitive equilibrium  \n",
    "\n",
    "\n",
    "We will provide a version of the [first fundamental welfare theorem](https://en.wikipedia.org/wiki/Fundamental_theorems_of_welfare_economics), which was formulated by\n",
    "\n",
    "- [Leon Walras](https://en.wikipedia.org/wiki/L%C3%A9on_Walras)  \n",
    "- [Francis Ysidro Edgeworth](https://en.wikipedia.org/wiki/Francis_Ysidro_Edgeworth)  \n",
    "- [Vilfredo Pareto](https://en.wikipedia.org/wiki/Vilfredo_Pareto)  \n",
    "\n",
    "\n",
    "Important extensions to the key ideas were obtained by\n",
    "\n",
    "- [Abba Lerner](https://en.wikipedia.org/wiki/Abba_P._Lerner)  \n",
    "- [Harold Hotelling](https://en.wikipedia.org/wiki/Harold_Hotelling)  \n",
    "- [Paul Samuelson](https://en.wikipedia.org/wiki/Paul_Samuelson)  \n",
    "- [Kenneth Arrow](https://en.wikipedia.org/wiki/Kenneth_Arrow)  \n",
    "- [Gerard Debreu](https://en.wikipedia.org/wiki/G%C3%A9rard_Debreu)  \n",
    "\n",
    "\n",
    "In our exposition we will use the following imports."
   ]
  },
  {
   "cell_type": "code",
   "execution_count": null,
   "id": "08c63693",
   "metadata": {
    "hide-output": false
   },
   "outputs": [],
   "source": [
    "import numpy as np\n",
    "import matplotlib.pyplot as plt"
   ]
  },
  {
   "cell_type": "markdown",
   "id": "04b81b69",
   "metadata": {},
   "source": [
    "## Supply and demand\n",
    "\n",
    "We study a market for a single good in which buyers and sellers exchange a quantity $ q $ for a price $ p $.\n",
    "\n",
    "Quantity $ q $ and price $ p $ are  both scalars.\n",
    "\n",
    "We assume that inverse demand and supply curves for the good are:\n",
    "\n",
    "$$\n",
    "p = d_0 - d_1 q, \\quad d_0, d_1 > 0\n",
    "$$\n",
    "\n",
    "$$\n",
    "p = s_0 + s_1 q , \\quad s_0, s_1 > 0\n",
    "$$\n",
    "\n",
    "We call them inverse demand and supply curves because price is on the left side of the equation rather than on the right side as it would be in a direct demand or supply function.\n",
    "\n",
    "Here is a class that stores parameters for our single good market, as well as\n",
    "implementing the inverse demand and supply curves."
   ]
  },
  {
   "cell_type": "code",
   "execution_count": null,
   "id": "bdba6e56",
   "metadata": {
    "hide-output": false
   },
   "outputs": [],
   "source": [
    "class Market:\n",
    "\n",
    "    def __init__(self, \n",
    "        d_0=1.0,      # demand intercept\n",
    "        d_1=0.6,      # demand slope\n",
    "        s_0=0.1,      # supply intercept\n",
    "        s_1=0.4):     # supply slope\n",
    "\n",
    "        self.d_0, self.d_1 = d_0, d_1\n",
    "        self.s_0, self.s_1 = s_0, s_1\n",
    "\n",
    "    def inverse_demand(self, q):\n",
    "        return self.d_0 - self.d_1 * q\n",
    "\n",
    "    def inverse_supply(self, q):\n",
    "        return self.s_0 + self.s_1 * q"
   ]
  },
  {
   "cell_type": "markdown",
   "id": "4362c9b7",
   "metadata": {},
   "source": [
    "Let’s create an instance."
   ]
  },
  {
   "cell_type": "code",
   "execution_count": null,
   "id": "67182a97",
   "metadata": {
    "hide-output": false
   },
   "outputs": [],
   "source": [
    "market = Market()"
   ]
  },
  {
   "cell_type": "markdown",
   "id": "11cc35c7",
   "metadata": {},
   "source": [
    "Here is a plot of these two functions using `market`."
   ]
  },
  {
   "cell_type": "code",
   "execution_count": null,
   "id": "29139245",
   "metadata": {
    "hide-output": false
   },
   "outputs": [],
   "source": [
    "market = Market()\n",
    "\n",
    "grid_min, grid_max, grid_size = 0, 1.5, 200\n",
    "q_grid = np.linspace(grid_min, grid_max, grid_size)\n",
    "supply_curve = market.inverse_supply(q_grid)\n",
    "demand_curve = market.inverse_demand(q_grid)\n",
    "\n",
    "fig, ax = plt.subplots()\n",
    "ax.plot(q_grid, supply_curve, label='supply')\n",
    "ax.plot(q_grid, demand_curve, label='demand')\n",
    "ax.legend(loc='upper center', frameon=False)\n",
    "ax.set_ylim(0, 1.2)\n",
    "ax.set_xticks((0, 1))\n",
    "ax.set_yticks((0, 1))\n",
    "ax.set_xlabel('quantity')\n",
    "ax.set_ylabel('price')\n",
    "plt.show()"
   ]
  },
  {
   "cell_type": "markdown",
   "id": "1fb10189",
   "metadata": {},
   "source": [
    "### Consumer surplus\n",
    "\n",
    "Let a quantity $ q $ be given and let $ p := d_0 - d_1 q $ be the\n",
    "corresponding price on the inverse demand curve.\n",
    "\n",
    "We define **consumer surplus** $ S_c(q) $ as the area under an inverse demand\n",
    "curve minus $ p q $:\n",
    "\n",
    "$$\n",
    "S_c(q) := \n",
    "    \\int_0^{q} (d_0 - d_1 x) dx - p q\n",
    "$$\n",
    "\n",
    "The next figure illustrates"
   ]
  },
  {
   "cell_type": "code",
   "execution_count": null,
   "id": "f05ceccc",
   "metadata": {
    "hide-output": false
   },
   "outputs": [],
   "source": [
    "q = 1.25\n",
    "p = market.inverse_demand(q)\n",
    "ps = np.ones_like(q_grid) * p\n",
    "\n",
    "fig, ax = plt.subplots()\n",
    "ax.plot(q_grid, demand_curve, label='demand')\n",
    "ax.fill_between(q_grid[q_grid <= q], \n",
    "    demand_curve[q_grid<=q], \n",
    "    ps[q_grid <= q], \n",
    "    label='consumer surplus', \n",
    "    color='#EED1CF')\n",
    "ax.vlines(q, 0, p, linestyle=\"dashed\", color='black', alpha=0.7)\n",
    "ax.hlines(p, 0, q, linestyle=\"dashed\", color='black', alpha=0.7)\n",
    "\n",
    "ax.legend(loc='upper center', frameon=False)\n",
    "ax.set_ylim(0, 1.2)\n",
    "ax.set_xticks((q,))\n",
    "ax.set_xticklabels((\"$q$\",))\n",
    "ax.set_yticks((p,))\n",
    "ax.set_yticklabels((\"$p$\",))\n",
    "ax.set_xlabel('quantity')\n",
    "ax.set_ylabel('price')\n",
    "plt.show()"
   ]
  },
  {
   "cell_type": "markdown",
   "id": "ea682c46",
   "metadata": {},
   "source": [
    "Consumer surplus gives a measure of total consumer welfare at quantity $ q $.\n",
    "\n",
    "The idea is that the inverse demand curve $ d_0 - d_1 q $ shows willingness to\n",
    "pay at a given quantity $ q $.\n",
    "\n",
    "The difference between willingness to pay and the actual price is the surplus.\n",
    "\n",
    "The value $ S_c(q) $ is the “sum” (i.e., integral) of these surpluses when the total\n",
    "quantity purchased is $ q $ and the purchase price is $ p $.\n",
    "\n",
    "Evaluating the integral in the definition of consumer surplus gives\n",
    "\n",
    "$$\n",
    "S_c(q) \n",
    "    = d_0 q - \\frac{1}{2} d_1 q^2 - p q\n",
    "$$"
   ]
  },
  {
   "cell_type": "markdown",
   "id": "b10c9cac",
   "metadata": {},
   "source": [
    "### Producer surplus\n",
    "\n",
    "Let a quantity $ q $ be given and let $ p := s_0 + s_1 q $ be the\n",
    "corresponding price on the inverse supply curve.\n",
    "\n",
    "We define **producer surplus** as $ p q $ minus the area under an inverse supply curve\n",
    "\n",
    "$$\n",
    "S_p(q) \n",
    "    := p q - \\int_0^q (s_0 + s_1 x) dx\n",
    "$$\n",
    "\n",
    "The next figure illustrates"
   ]
  },
  {
   "cell_type": "code",
   "execution_count": null,
   "id": "be945502",
   "metadata": {
    "hide-output": false
   },
   "outputs": [],
   "source": [
    "q = 0.75\n",
    "p = market.inverse_supply(q)\n",
    "ps = np.ones_like(q_grid) * p\n",
    "\n",
    "fig, ax = plt.subplots()\n",
    "ax.plot(q_grid, supply_curve, label='supply')\n",
    "ax.fill_between(q_grid[q_grid <= q], \n",
    "    supply_curve[q_grid<=q], \n",
    "    ps[q_grid <= q], \n",
    "    label='producer surplus', \n",
    "    color='#E6E6F5')\n",
    "ax.vlines(q, 0, p, linestyle=\"dashed\", color='black', alpha=0.7)\n",
    "ax.hlines(p, 0, q, linestyle=\"dashed\", color='black', alpha=0.7)\n",
    "\n",
    "ax.legend(loc='upper center', frameon=False)\n",
    "ax.set_ylim(0, 1.2)\n",
    "ax.set_xticks((q,))\n",
    "ax.set_xticklabels((\"$q$\",))\n",
    "ax.set_yticks((p,))\n",
    "ax.set_yticklabels((\"$p$\",))\n",
    "ax.set_xlabel('quantity')\n",
    "ax.set_ylabel('price')\n",
    "plt.show()"
   ]
  },
  {
   "cell_type": "markdown",
   "id": "1c417f78",
   "metadata": {},
   "source": [
    "Producer surplus measures total producer welfare at quantity $ q $\n",
    "\n",
    "The idea is similar to that of consumer surplus.\n",
    "\n",
    "The inverse supply curve $ s_0 + s_1 q $ shows the price at which producers are\n",
    "prepared to sell, given quantity $ q $.\n",
    "\n",
    "The difference between willingness to sell and the actual price is the surplus.\n",
    "\n",
    "The value $ S_p(q) $ is the integral of these surpluses.\n",
    "\n",
    "Evaluating the integral in the definition of consumer surplus gives\n",
    "\n",
    "$$\n",
    "S_p(q) = pq - s_0 q -  \\frac{1}{2} s_1 q^2\n",
    "$$"
   ]
  },
  {
   "cell_type": "markdown",
   "id": "b9faf772",
   "metadata": {},
   "source": [
    "### Social welfare\n",
    "\n",
    "Sometimes economists measure social welfare by a **welfare criterion** that\n",
    "equals consumer surplus plus producer surplus, assuming that consumers and\n",
    "producers pay the same price:\n",
    "\n",
    "$$\n",
    "W(q)\n",
    "    = \\int_0^q (d_0 - d_1 x) dx - \\int_0^q (s_0 + s_1 x) dx\n",
    "$$\n",
    "\n",
    "Evaluating the integrals gives\n",
    "\n",
    "$$\n",
    "W(q) = (d_0 - s_0) q -  \\frac{1}{2} (d_1 + s_1) q^2\n",
    "$$\n",
    "\n",
    "Here is a Python function that evaluates this social welfare at a given\n",
    "quantity $ q $ and a fixed set of parameters."
   ]
  },
  {
   "cell_type": "code",
   "execution_count": null,
   "id": "a1fd302e",
   "metadata": {
    "hide-output": false
   },
   "outputs": [],
   "source": [
    "def W(q, market):\n",
    "    # Unpack\n",
    "    d_0, d_1, s_0, s_1 = market.d_0, market.d_1, market.s_0, market.s_1\n",
    "    # Compute and return welfare\n",
    "    return (d_0 - s_0) * q -  0.5 * (d_1 + s_1) * q**2"
   ]
  },
  {
   "cell_type": "markdown",
   "id": "1742f4f3",
   "metadata": {},
   "source": [
    "The next figure plots welfare as a function of $ q $."
   ]
  },
  {
   "cell_type": "code",
   "execution_count": null,
   "id": "afb0f46b",
   "metadata": {
    "hide-output": false
   },
   "outputs": [],
   "source": [
    "q_vals = np.linspace(0, 1.78, 200)\n",
    "fig, ax = plt.subplots()\n",
    "ax.plot(q_vals, W(q_vals, market), label='welfare')\n",
    "ax.legend(frameon=False)\n",
    "ax.set_xlabel('quantity')\n",
    "plt.show()"
   ]
  },
  {
   "cell_type": "markdown",
   "id": "35c62a2d",
   "metadata": {},
   "source": [
    "Let’s now give a social planner the task of maximizing social welfare.\n",
    "\n",
    "To compute a quantity that  maximizes the welfare criterion, we differentiate\n",
    "$ W $ with respect to $ q $ and then set the derivative to zero.\n",
    "\n",
    "$$\n",
    "\\frac{d W(q)}{d q} = d_0 - s_0 - (d_1 + s_1) q  = 0\n",
    "$$\n",
    "\n",
    "Solving for $ q $ yields\n",
    "\n",
    "\n",
    "<a id='equation-eq-old1'></a>\n",
    "$$\n",
    "q = \\frac{ d_0 - s_0}{s_1 + d_1} \\tag{7.1}\n",
    "$$\n",
    "\n",
    "Let’s remember the quantity $ q $ given by equation [(7.1)](#equation-eq-old1) that a social planner would choose to maximize consumer surplus plus producer surplus.\n",
    "\n",
    "We’ll compare it to the quantity that emerges in a competitive equilibrium that equates supply to demand."
   ]
  },
  {
   "cell_type": "markdown",
   "id": "d115f39f",
   "metadata": {},
   "source": [
    "### Competitive equilibrium\n",
    "\n",
    "Instead of equating quantities supplied and demanded, we can accomplish the\n",
    "same thing by equating demand price to supply price:\n",
    "\n",
    "$$\n",
    "p =  d_0 - d_1 q = s_0 + s_1 q\n",
    "$$\n",
    "\n",
    "If we solve the equation defined by the second equality in the above line for\n",
    "$ q $, we obtain\n",
    "\n",
    "\n",
    "<a id='equation-eq-equilib-q'></a>\n",
    "$$\n",
    "q = \\frac{ d_0 - s_0}{s_1 + d_1} \\tag{7.2}\n",
    "$$\n",
    "\n",
    "This is the competitive equilibrium quantity.\n",
    "\n",
    "Observe that the equilibrium quantity equals the same $ q $ given by equation  [(7.1)](#equation-eq-old1).\n",
    "\n",
    "The outcome that the quantity determined by equation [(7.1)](#equation-eq-old1) equates\n",
    "supply to demand brings us a **key finding:**\n",
    "\n",
    "- a competitive equilibrium quantity maximizes our welfare criterion  \n",
    "\n",
    "\n",
    "This is a version of the [first fundamental welfare theorem](https://en.wikipedia.org/wiki/Fundamental_theorems_of_welfare_economics),\n",
    "\n",
    "It also brings a useful **competitive equilibrium computation strategy:**\n",
    "\n",
    "- after solving the welfare problem for an optimal quantity, we can read a competitive equilibrium price from either supply price or demand price at the competitive equilibrium quantity  "
   ]
  },
  {
   "cell_type": "markdown",
   "id": "515067ed",
   "metadata": {},
   "source": [
    "## Generalizations\n",
    "\n",
    "In a [later lecture](https://intro.quantecon.org/supply_demand_multiple_goods.html), we’ll derive\n",
    "generalizations of the above demand and supply curves from other objects.\n",
    "\n",
    "Our generalizations will extend the preceding analysis of a market for a single good to the analysis of $ n $ simultaneous markets in $ n $ goods.\n",
    "\n",
    "In addition\n",
    "\n",
    "- we’ll derive  **demand curves** from a consumer problem that maximizes a\n",
    "  **utility function** subject to a **budget constraint**.  \n",
    "- we’ll derive  **supply curves** from the problem of a producer who is price\n",
    "  taker and maximizes his profits minus total costs that are described by a **cost function**.  "
   ]
  },
  {
   "cell_type": "markdown",
   "id": "a0fca535",
   "metadata": {},
   "source": [
    "## Exercises\n",
    "\n",
    "Suppose now that the inverse demand and supply curves are modified to take the\n",
    "form\n",
    "\n",
    "$$\n",
    "p = i_d(q) := d_0 - d_1 q^{0.6}\n",
    "$$\n",
    "\n",
    "$$\n",
    "p = i_s(q) := s_0 + s_1 q^{1.8}\n",
    "$$\n",
    "\n",
    "All parameters are positive, as before."
   ]
  },
  {
   "cell_type": "markdown",
   "id": "89a87943",
   "metadata": {},
   "source": [
    "## Exercise 7.1\n",
    "\n",
    "Define a new `Market` class that holds the same parameter values as before by\n",
    "changing the `inverse_demand` and `inverse_supply` methods to\n",
    "match these new definitions.\n",
    "\n",
    "Using the class, plot the inverse demand and supply curves $ i_d $ and $ i_s $"
   ]
  },
  {
   "cell_type": "markdown",
   "id": "77b223ca",
   "metadata": {},
   "source": [
    "## Solution to[ Exercise 7.1](https://intro.quantecon.org/#isd_ex1)"
   ]
  },
  {
   "cell_type": "code",
   "execution_count": null,
   "id": "436ee09d",
   "metadata": {
    "hide-output": false
   },
   "outputs": [],
   "source": [
    "class Market:\n",
    "\n",
    "    def __init__(self, \n",
    "        d_0=1.0,      # demand intercept\n",
    "        d_1=0.6,      # demand slope\n",
    "        s_0=0.1,      # supply intercept\n",
    "        s_1=0.4):     # supply slope\n",
    "\n",
    "        self.d_0, self.d_1 = d_0, d_1\n",
    "        self.s_0, self.s_1 = s_0, s_1\n",
    "\n",
    "    def inverse_demand(self, q):\n",
    "        return self.d_0 - self.d_1 * q**0.6\n",
    "\n",
    "    def inverse_supply(self, q):\n",
    "        return self.s_0 + self.s_1 * q**1.8"
   ]
  },
  {
   "cell_type": "markdown",
   "id": "d9cac7b0",
   "metadata": {},
   "source": [
    "Let’s create an instance."
   ]
  },
  {
   "cell_type": "code",
   "execution_count": null,
   "id": "66f47a2f",
   "metadata": {
    "hide-output": false
   },
   "outputs": [],
   "source": [
    "market = Market()"
   ]
  },
  {
   "cell_type": "markdown",
   "id": "f7a19d0e",
   "metadata": {},
   "source": [
    "Here is a plot of inverse supply and demand."
   ]
  },
  {
   "cell_type": "code",
   "execution_count": null,
   "id": "eb6cb3b1",
   "metadata": {
    "hide-output": false
   },
   "outputs": [],
   "source": [
    "grid_min, grid_max, grid_size = 0, 1.5, 200\n",
    "q_grid = np.linspace(grid_min, grid_max, grid_size)\n",
    "supply_curve = market.inverse_supply(q_grid)\n",
    "demand_curve = market.inverse_demand(q_grid)\n",
    "\n",
    "fig, ax = plt.subplots()\n",
    "ax.plot(q_grid, supply_curve, label='supply')\n",
    "ax.plot(q_grid, demand_curve, label='demand')\n",
    "ax.legend(loc='upper center', frameon=False)\n",
    "ax.set_ylim(0, 1.2)\n",
    "ax.set_xticks((0, 1))\n",
    "ax.set_yticks((0, 1))\n",
    "ax.set_xlabel('quantity')\n",
    "ax.set_ylabel('price')\n",
    "plt.show()"
   ]
  },
  {
   "cell_type": "markdown",
   "id": "ed5b42d5",
   "metadata": {},
   "source": [
    "## Exercise 7.2\n",
    "\n",
    "As before, consumer surplus at $ q $ is the area under the demand curve minus\n",
    "price times quantity:\n",
    "\n",
    "$$\n",
    "S_c(q) = \\int_0^{q} i_d(x) dx - p q\n",
    "$$\n",
    "\n",
    "Here $ p $ is set to $ i_d(q) $\n",
    "\n",
    "Producer surplus is price times quantity minus the area under the inverse\n",
    "supply curve:\n",
    "\n",
    "$$\n",
    "S_p(q) \n",
    "    = p q - \\int_0^q i_s(x) dx\n",
    "$$\n",
    "\n",
    "Here $ p $ is set to $ i_s(q) $.\n",
    "\n",
    "Social welfare is the sum of consumer and producer surplus under the\n",
    "assumption that the price is the same for buyers and sellers:\n",
    "\n",
    "$$\n",
    "W(q)\n",
    "    = \\int_0^q i_d(x) dx - \\int_0^q i_s(x) dx\n",
    "$$\n",
    "\n",
    "Solve the integrals and write a function to compute this quantity numerically\n",
    "at given $ q $.\n",
    "\n",
    "Plot welfare as a function of $ q $."
   ]
  },
  {
   "cell_type": "markdown",
   "id": "bb0f74d1",
   "metadata": {},
   "source": [
    "## Solution to[ Exercise 7.2](https://intro.quantecon.org/#isd_ex2)\n",
    "\n",
    "Solving the integrals gives\n",
    "\n",
    "$$\n",
    "W(q) \n",
    "    = d_0 q - \\frac{d_1 q^{1.6}}{1.6}\n",
    "        - \\left( s_0 q + \\frac{s_1 q^{2.8}}{2.8} \\right)\n",
    "$$\n",
    "\n",
    "Here’s a Python function that computes this value:"
   ]
  },
  {
   "cell_type": "code",
   "execution_count": null,
   "id": "7b17ca0f",
   "metadata": {
    "hide-output": false
   },
   "outputs": [],
   "source": [
    "def W(q, market):\n",
    "    # Unpack\n",
    "    d_0, d_1, s_0, s_1 = market.d_0, market.d_1, market.s_0, market.s_1\n",
    "    # Compute and return welfare\n",
    "    S_c = d_0 * q - d_1 * q**1.6 / 1.6\n",
    "    S_p = s_0 * q + s_1 * q**2.8 / 2.8\n",
    "    return S_c - S_p"
   ]
  },
  {
   "cell_type": "markdown",
   "id": "5878800f",
   "metadata": {},
   "source": [
    "The next figure plots welfare as a function of $ q $."
   ]
  },
  {
   "cell_type": "code",
   "execution_count": null,
   "id": "8160549c",
   "metadata": {
    "hide-output": false
   },
   "outputs": [],
   "source": [
    "fig, ax = plt.subplots()\n",
    "ax.plot(q_vals, W(q_vals, market), label='welfare')\n",
    "ax.legend(frameon=False)\n",
    "ax.set_xlabel('quantity')\n",
    "plt.show()"
   ]
  },
  {
   "cell_type": "markdown",
   "id": "56785417",
   "metadata": {},
   "source": [
    "## Exercise 7.3\n",
    "\n",
    "Due to nonlinearities, the new welfare function is not easy to maximize with\n",
    "pencil and paper.\n",
    "\n",
    "Maximize it using `scipy.optimize.minimize_scalar` instead."
   ]
  },
  {
   "cell_type": "markdown",
   "id": "840e7d94",
   "metadata": {},
   "source": [
    "## Solution to[ Exercise 7.3](https://intro.quantecon.org/#isd_ex3)"
   ]
  },
  {
   "cell_type": "code",
   "execution_count": null,
   "id": "1443db56",
   "metadata": {
    "hide-output": false
   },
   "outputs": [],
   "source": [
    "from scipy.optimize import minimize_scalar\n",
    "\n",
    "def objective(q):\n",
    "    return -W(q, market)\n",
    "\n",
    "result = minimize_scalar(objective, bounds=(0, 10))\n",
    "print(result.message)"
   ]
  },
  {
   "cell_type": "code",
   "execution_count": null,
   "id": "96e0cd1c",
   "metadata": {
    "hide-output": false
   },
   "outputs": [],
   "source": [
    "maximizing_q = result.x\n",
    "print(f\"{maximizing_q: .5f}\")"
   ]
  },
  {
   "cell_type": "markdown",
   "id": "8cd9c2a6",
   "metadata": {},
   "source": [
    "## Exercise 7.4\n",
    "\n",
    "Now compute the equilibrium quantity by finding the price that equates supply\n",
    "and demand.\n",
    "\n",
    "You can do this numerically by finding the root of the excess demand function\n",
    "\n",
    "$$\n",
    "e_d(q) := i_d(q) - i_s(q)\n",
    "$$\n",
    "\n",
    "You can use `scipy.optimize.newton` to compute the root.\n",
    "\n",
    "Initialize `newton` with a starting guess somewhere close to 1.0.\n",
    "\n",
    "(Similar initial conditions will give the same result.)\n",
    "\n",
    "You should find that the equilibrium price agrees with the welfare maximizing\n",
    "price, in line with the first fundamental welfare theorem."
   ]
  },
  {
   "cell_type": "markdown",
   "id": "273f7202",
   "metadata": {},
   "source": [
    "## Solution to[ Exercise 7.3](https://intro.quantecon.org/#isd_ex3)"
   ]
  },
  {
   "cell_type": "code",
   "execution_count": null,
   "id": "14ed7978",
   "metadata": {
    "hide-output": false
   },
   "outputs": [],
   "source": [
    "from scipy.optimize import newton\n",
    "\n",
    "def excess_demand(q):\n",
    "    return market.inverse_demand(q) - market.inverse_supply(q)\n",
    "\n",
    "equilibrium_q = newton(excess_demand, 0.99)\n",
    "print(f\"{equilibrium_q: .5f}\")"
   ]
  }
 ],
 "metadata": {
  "date": 1688204543.8073428,
  "filename": "intro_supply_demand.md",
  "kernelspec": {
   "display_name": "Python",
   "language": "python3",
   "name": "python3"
  },
  "title": "Introduction to Supply and Demand"
 },
 "nbformat": 4,
 "nbformat_minor": 5
}