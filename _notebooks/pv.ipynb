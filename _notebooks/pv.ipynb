{
 "cells": [
  {
   "cell_type": "markdown",
   "id": "3a1cf081",
   "metadata": {},
   "source": [
    "# Present Values"
   ]
  },
  {
   "cell_type": "markdown",
   "id": "840f24bd",
   "metadata": {},
   "source": [
    "## Overview\n",
    "\n",
    "This lecture describes the  **present value model** that is a starting point\n",
    "of much asset pricing theory.\n",
    "\n",
    "We’ll use the calculations described here in several subsequent lectures.\n",
    "\n",
    "Our only tool is some elementary linear algebra operations, namely, matrix multiplication and matrix inversion.\n",
    "\n",
    "Let’s dive in.\n",
    "\n",
    "Let\n",
    "\n",
    "- $ \\{d_t\\}_{t=0}^T $ be a sequence of dividends or “payouts”  \n",
    "- $ \\{p_t\\}_{t=0}^T $ be a sequence of prices of a claim on the continuation of\n",
    "  the asset stream from date $ t $ on, namely, $ \\{d_s\\}_{s=t}^T $  \n",
    "- $ \\delta  \\in (0,1) $ be a one-period “discount factor”  \n",
    "- $ p_{T+1}^* $ be a terminal price of the asset at time $ T+1 $  \n",
    "\n",
    "\n",
    "We  assume that the dividend stream $ \\{d_t\\}_{t=0}^T $ and the terminal price\n",
    "$ p_{T+1}^* $ are both exogenous.\n",
    "\n",
    "Assume the sequence of asset pricing equations\n",
    "\n",
    "\n",
    "<a id='equation-eq-euler1'></a>\n",
    "$$\n",
    "p_t = d_t + \\delta p_{t+1}, \\quad t = 0, 1, \\ldots , T \\tag{8.1}\n",
    "$$\n",
    "\n",
    "This is a “cost equals benefits” formula.\n",
    "\n",
    "It says that the cost of buying the asset today equals the reward for holding it\n",
    "for one period (which is the dividend $ d_t $) and then selling it, at $ t+1 $.\n",
    "\n",
    "The future value $ p_{t+1} $ is discounted using $ \\delta $ to shift it to a present value, so it is comparable with $ d_t $ and $ p_t $.\n",
    "\n",
    "We want to solve for the asset price sequence  $ \\{p_t\\}_{t=0}^T $ as a function\n",
    "of $ \\{d_t\\}_{t=0}^T $ and $ p_{T+1}^* $.\n",
    "\n",
    "In this lecture we show how this can be done using matrix algebra.\n",
    "\n",
    "We will use the following imports"
   ]
  },
  {
   "cell_type": "code",
   "execution_count": null,
   "id": "4e6e64ad",
   "metadata": {
    "hide-output": false
   },
   "outputs": [],
   "source": [
    "import numpy as np\n",
    "import matplotlib.pyplot as plt"
   ]
  },
  {
   "cell_type": "markdown",
   "id": "79d9db3e",
   "metadata": {},
   "source": [
    "## Present value calculations\n",
    "\n",
    "The equations in [(8.1)](#equation-eq-euler1) can be stacked, as in\n",
    "\n",
    "\n",
    "<a id='equation-eq-euler-stack'></a>\n",
    "$$\n",
    "\\begin{aligned}\n",
    "    p_0 & = d_0 + \\delta p_1 \\\\\n",
    "    p_1 & = d_1 + \\delta p_2 \\\\\n",
    "    \\vdots \\\\\n",
    "    p_{T-1} & = d_{T-1} + \\delta p_T \\\\\n",
    "    p_T & = d_T + \\delta p^*_{T+1}\n",
    "\\end{aligned} \\tag{8.2}\n",
    "$$\n",
    "\n",
    "Write the system [(8.2)](#equation-eq-euler-stack) of $ T+1 $ asset pricing  equations as the single matrix equation\n",
    "\n",
    "\n",
    "<a id='equation-eq-pvpieq'></a>\n",
    "$$\n",
    "\\begin{bmatrix} 1 & -\\delta & 0 & 0 & \\cdots & 0 & 0 \\cr\n",
    "                    0 & 1 & -\\delta & 0 & \\cdots & 0 & 0 \\cr\n",
    "                    0 & 0 & 1 & -\\delta & \\cdots & 0 & 0 \\cr\n",
    "                    \\vdots & \\vdots & \\vdots & \\vdots & \\vdots & 0 & 0 \\cr\n",
    "                    0 & 0 & 0 & 0 & \\cdots & 1 & -\\delta \\cr\n",
    "                    0 & 0 & 0 & 0 & \\cdots & 0 & 1 \\end{bmatrix}\n",
    "    \\begin{bmatrix} p_0 \\cr p_1 \\cr p_2 \\cr \\vdots \\cr p_{T-1} \\cr p_T \n",
    "    \\end{bmatrix} \n",
    "    =  \\begin{bmatrix}  \n",
    "    d_0 \\cr d_1 \\cr d_2 \\cr \\vdots \\cr d_{T-1} \\cr d_T\n",
    "    \\end{bmatrix}\n",
    "    + \\begin{bmatrix} \n",
    "    0 \\cr 0 \\cr 0 \\cr \\vdots \\cr 0 \\cr \\delta p_{T+1}^*\n",
    "    \\end{bmatrix} \\tag{8.3}\n",
    "$$"
   ]
  },
  {
   "cell_type": "markdown",
   "id": "75114c17",
   "metadata": {},
   "source": [
    "## Exercise 8.1\n",
    "\n",
    "Carry out the matrix multiplication in [(8.3)](#equation-eq-pvpieq) by hand and confirm that you\n",
    "recover the equations in [(8.2)](#equation-eq-euler-stack).\n",
    "\n",
    "In vector-matrix notation, we can write the system [(8.3)](#equation-eq-pvpieq) as\n",
    "\n",
    "\n",
    "<a id='equation-eq-apdb'></a>\n",
    "$$\n",
    "A p = d + b \\tag{8.4}\n",
    "$$\n",
    "\n",
    "Here $ A $ is the matrix on the left side of equation [(8.3)](#equation-eq-pvpieq), while\n",
    "\n",
    "$$\n",
    "p = \n",
    "    \\begin{bmatrix}\n",
    "        p_0 \\\\\n",
    "        p_1 \\\\\n",
    "        \\vdots \\\\\n",
    "        p_T\n",
    "    \\end{bmatrix},\n",
    "    \\quad\n",
    "    d = \n",
    "    \\begin{bmatrix}\n",
    "        d_0 \\\\\n",
    "        d_1 \\\\\n",
    "        \\vdots \\\\\n",
    "        d_T\n",
    "    \\end{bmatrix},\n",
    "    \\quad \\text{and} \\quad\n",
    "    b = \n",
    "    \\begin{bmatrix}\n",
    "        0 \\\\\n",
    "        0 \\\\\n",
    "        \\vdots \\\\\n",
    "        p^*_{T+1}\n",
    "    \\end{bmatrix}\n",
    "$$\n",
    "\n",
    "The solution for prices is given by\n",
    "\n",
    "\n",
    "<a id='equation-eq-apdb-sol'></a>\n",
    "$$\n",
    "p = A^{-1}(d + b) \\tag{8.5}\n",
    "$$\n",
    "\n",
    "Here is a small example, where the dividend stream is given by\n",
    "\n",
    "$$\n",
    "d_{t+1} = 1.05 d_t, \\quad t = 0, 1, \\ldots , T-1.\n",
    "$$"
   ]
  },
  {
   "cell_type": "code",
   "execution_count": null,
   "id": "503b1230",
   "metadata": {
    "hide-output": false
   },
   "outputs": [],
   "source": [
    "T = 6\n",
    "current_d = 1.0\n",
    "d = []\n",
    "for t in range(T+1):\n",
    "    d.append(current_d)\n",
    "    current_d = current_d * 1.05 \n",
    "\n",
    "fig, ax = plt.subplots()\n",
    "ax.plot(d, 'o', label='dividends')\n",
    "ax.legend()\n",
    "ax.set_xlabel('time')\n",
    "plt.show()"
   ]
  },
  {
   "cell_type": "markdown",
   "id": "e055a40c",
   "metadata": {},
   "source": [
    "We set $ \\delta $ and $ p_{T+1}^* $ to"
   ]
  },
  {
   "cell_type": "code",
   "execution_count": null,
   "id": "eb318aba",
   "metadata": {
    "hide-output": false
   },
   "outputs": [],
   "source": [
    "δ = 0.99\n",
    "p_star = 10.0"
   ]
  },
  {
   "cell_type": "markdown",
   "id": "ebaeac74",
   "metadata": {},
   "source": [
    "Let’s build the matrix $ A $"
   ]
  },
  {
   "cell_type": "code",
   "execution_count": null,
   "id": "64328dcd",
   "metadata": {
    "hide-output": false
   },
   "outputs": [],
   "source": [
    "A = np.zeros((T+1, T+1))\n",
    "for i in range(T+1):\n",
    "    for j in range(T+1):\n",
    "        if i == j:\n",
    "            A[i, j] = 1\n",
    "            if j < T:\n",
    "                A[i, j+1] = -δ"
   ]
  },
  {
   "cell_type": "markdown",
   "id": "632ed845",
   "metadata": {},
   "source": [
    "Let’s inspect $ A $"
   ]
  },
  {
   "cell_type": "code",
   "execution_count": null,
   "id": "2ab28f7b",
   "metadata": {
    "hide-output": false
   },
   "outputs": [],
   "source": [
    "A"
   ]
  },
  {
   "cell_type": "markdown",
   "id": "7c6a1347",
   "metadata": {},
   "source": [
    "Now let’s solve for prices using [(8.5)](#equation-eq-apdb-sol)."
   ]
  },
  {
   "cell_type": "code",
   "execution_count": null,
   "id": "88959f4c",
   "metadata": {
    "hide-output": false
   },
   "outputs": [],
   "source": [
    "b = np.zeros(T+1)\n",
    "b[-1] = δ * p_star\n",
    "p = np.linalg.solve(A, d + b)\n",
    "fig, ax = plt.subplots()\n",
    "ax.plot(p, 'o', label='asset price')\n",
    "ax.legend()\n",
    "ax.set_xlabel('time')\n",
    "plt.show()"
   ]
  },
  {
   "cell_type": "markdown",
   "id": "be3257e2",
   "metadata": {},
   "source": [
    "We can also consider a cyclically growing dividend sequence, such as\n",
    "\n",
    "$$\n",
    "d_{t+1} = 1.01 d_t + 0.1 \\sin t, \\quad t = 0, 1, \\ldots , T-1.\n",
    "$$"
   ]
  },
  {
   "cell_type": "code",
   "execution_count": null,
   "id": "6eee76b3",
   "metadata": {
    "hide-output": false
   },
   "outputs": [],
   "source": [
    "T = 100\n",
    "current_d = 1.0\n",
    "d = []\n",
    "for t in range(T+1):\n",
    "    d.append(current_d)\n",
    "    current_d = current_d * 1.01 + 0.1 * np.sin(t)\n",
    "\n",
    "fig, ax = plt.subplots()\n",
    "ax.plot(d, 'o-', ms=4, alpha=0.8, label='dividends')\n",
    "ax.legend()\n",
    "ax.set_xlabel('time')\n",
    "plt.show()"
   ]
  },
  {
   "cell_type": "markdown",
   "id": "cac1da7d",
   "metadata": {},
   "source": [
    "## Exercise 8.2\n",
    "\n",
    "Compute the corresponding asset price sequence when $ p^*_{T+1} = 0 $ and $ \\delta\n",
    "= 0.98 $."
   ]
  },
  {
   "cell_type": "markdown",
   "id": "0d9830c8",
   "metadata": {},
   "source": [
    "## Solution to[ Exercise 8.2](https://intro.quantecon.org/#pv_ex_cyc)\n",
    "\n",
    "We proceed as above after modifying parameters and $ A $."
   ]
  },
  {
   "cell_type": "code",
   "execution_count": null,
   "id": "de60df5a",
   "metadata": {
    "hide-output": false
   },
   "outputs": [],
   "source": [
    "δ = 0.98\n",
    "p_star = 0.0\n",
    "A = np.zeros((T+1, T+1))\n",
    "for i in range(T+1):\n",
    "    for j in range(T+1):\n",
    "        if i == j:\n",
    "            A[i, j] = 1\n",
    "            if j < T:\n",
    "                A[i, j+1] = -δ\n",
    "\n",
    "b = np.zeros(T+1)\n",
    "b[-1] = δ * p_star\n",
    "p = np.linalg.solve(A, d + b)\n",
    "fig, ax = plt.subplots()\n",
    "ax.plot(p, 'o-', ms=4, alpha=0.8, label='asset price')\n",
    "ax.legend()\n",
    "ax.set_xlabel('time')\n",
    "plt.show()"
   ]
  },
  {
   "cell_type": "markdown",
   "id": "e509def0",
   "metadata": {},
   "source": [
    "The weighted averaging associated with the present value calculation largely\n",
    "eliminates the cycles."
   ]
  },
  {
   "cell_type": "markdown",
   "id": "a27b6b1a",
   "metadata": {},
   "source": [
    "## Analytical expressions\n",
    "\n",
    "It can be verified that the  inverse of the matrix $ A $ in [(8.3)](#equation-eq-pvpieq) is\n",
    "\n",
    "\n",
    "<a id='equation-eq-ainv'></a>\n",
    "$$\n",
    "A^{-1} = \n",
    "    \\begin{bmatrix}\n",
    "        1 & \\delta & \\delta^2 & \\cdots & \\delta^{T-1} & \\delta^T \\cr\n",
    "        0 & 1 & \\delta & \\cdots & \\delta^{T-2} & \\delta^{T-1} \\cr\n",
    "        \\vdots & \\vdots & \\vdots & \\cdots & \\vdots & \\vdots \\cr\n",
    "        0 & 0 & 0 & \\cdots & 1  & \\delta \\cr\n",
    "        0 & 0 & 0 & \\cdots & 0 & 1 \\cr\n",
    "    \\end{bmatrix} \\tag{8.6}\n",
    "$$"
   ]
  },
  {
   "cell_type": "markdown",
   "id": "e08fbd6b",
   "metadata": {},
   "source": [
    "## Exercise 8.3\n",
    "\n",
    "Check this by showing that $ A A^{-1} $ is equal to the identity matrix.\n",
    "\n",
    "(By the [inverse matrix theorem](https://en.wikipedia.org/wiki/Invertible_matrix), a matrix $ B $ is the inverse of $ A $ whenever $ A B $ is the identity.)\n",
    "\n",
    "If we use the expression [(8.6)](#equation-eq-ainv) in [(8.5)](#equation-eq-apdb-sol) and perform the indicated matrix multiplication, we shall find  that\n",
    "\n",
    "\n",
    "<a id='equation-eq-ptpveq'></a>\n",
    "$$\n",
    "p_t =  \\sum_{s=t}^T \\delta^{s-t} d_s +  \\delta^{T+1-t} p_{T+1}^* \\tag{8.7}\n",
    "$$\n",
    "\n",
    "Pricing formula [(8.7)](#equation-eq-ptpveq) asserts that  two components sum to the asset price\n",
    "$ p_t $:\n",
    "\n",
    "- a **fundamental component** $ \\sum_{s=t}^T \\delta^{s-t} d_s $ that equals the discounted present value of prospective dividends  \n",
    "- a **bubble component** $ \\delta^{T+1-t} p_{T+1}^* $  \n",
    "\n",
    "\n",
    "The fundamental component is pinned down by the discount factor $ \\delta $ and the\n",
    "“fundamentals” of the asset (in this case, the dividends).\n",
    "\n",
    "The bubble component is the part of the price that is not pinned down by\n",
    "fundamentals.\n",
    "\n",
    "It is sometimes convenient to rewrite the bubble component as\n",
    "\n",
    "$$\n",
    "c \\delta^{-t}\n",
    "$$\n",
    "\n",
    "where\n",
    "\n",
    "$$\n",
    "c \\equiv \\delta^{T+1}p_{T+1}^*\n",
    "$$"
   ]
  },
  {
   "cell_type": "markdown",
   "id": "b074b102",
   "metadata": {},
   "source": [
    "## More about bubbles\n",
    "\n",
    "For a few moments, let’s focus on  the special case of an asset that  will never pay dividends, in which case\n",
    "\n",
    "$$\n",
    "\\begin{bmatrix}  \n",
    "d_0 \\cr d_1 \\cr d_2 \\cr \\vdots \\cr d_{T-1} \\cr d_T\n",
    "\\end{bmatrix} = \n",
    "\\begin{bmatrix}  \n",
    "0 \\cr 0 \\cr 0 \\cr \\vdots \\cr 0 \\cr 0\n",
    "\\end{bmatrix}\n",
    "$$\n",
    "\n",
    "In this case  system [(8.1)](#equation-eq-euler1) of our $ T+1 $ asset pricing  equations takes the\n",
    "form of the single matrix equation\n",
    "\n",
    "\n",
    "<a id='equation-eq-pieq2'></a>\n",
    "$$\n",
    "\\begin{bmatrix} 1 & -\\delta & 0 & 0 & \\cdots & 0 & 0 \\cr\n",
    "                0 & 1 & -\\delta & 0 & \\cdots & 0 & 0 \\cr\n",
    "                0 & 0 & 1 & -\\delta & \\cdots & 0 & 0 \\cr\n",
    "                \\vdots & \\vdots & \\vdots & \\vdots & \\vdots & 0 & 0 \\cr\n",
    "                0 & 0 & 0 & 0 & \\cdots & 1 & -\\delta \\cr\n",
    "                0 & 0 & 0 & 0 & \\cdots & 0 & 1 \\end{bmatrix}\n",
    "\\begin{bmatrix} p_0 \\cr p_1 \\cr p_2 \\cr \\vdots \\cr p_{T-1} \\cr p_T \n",
    "\\end{bmatrix}  =\n",
    "\\begin{bmatrix} \n",
    "0 \\cr 0 \\cr 0 \\cr \\vdots \\cr 0 \\cr \\delta p_{T+1}^*\n",
    "\\end{bmatrix} \\tag{8.8}\n",
    "$$\n",
    "\n",
    "Evidently, if $ p_{T+1}^* = 0 $, a price vector $ p $ of all entries zero\n",
    "solves this equation and the only the **fundamental** component of our pricing\n",
    "formula [(8.7)](#equation-eq-ptpveq) is present.\n",
    "\n",
    "But let’s activate the **bubble**  component by setting\n",
    "\n",
    "\n",
    "<a id='equation-eq-eqbubbleterm'></a>\n",
    "$$\n",
    "p_{T+1}^* = c \\delta^{-(T+1)} \\tag{8.9}\n",
    "$$\n",
    "\n",
    "for some positive constant $ c $.\n",
    "\n",
    "In this case, it can be verified that when we multiply both sides of [(8.8)](#equation-eq-pieq2) by\n",
    "the matrix $ A^{-1} $ presented in equation [(8.6)](#equation-eq-ainv), we shall find that\n",
    "\n",
    "\n",
    "<a id='equation-eq-bubble'></a>\n",
    "$$\n",
    "p_t = c \\delta^{-t} \\tag{8.10}\n",
    "$$"
   ]
  },
  {
   "cell_type": "markdown",
   "id": "a93e8152",
   "metadata": {},
   "source": [
    "## Gross rate of return\n",
    "\n",
    "Define the gross rate of return on holding the asset from period $ t $ to period $ t+1 $\n",
    "as\n",
    "\n",
    "\n",
    "<a id='equation-eq-rateofreturn'></a>\n",
    "$$\n",
    "R_t = \\frac{p_{t+1}}{p_t} \\tag{8.11}\n",
    "$$\n",
    "\n",
    "Equation [(8.10)](#equation-eq-bubble) confirms that an asset whose  sole source of value is a bubble\n",
    "that earns a  gross rate of return\n",
    "\n",
    "$$\n",
    "R_t = \\delta^{-1} > 1 .\n",
    "$$"
   ]
  },
  {
   "cell_type": "markdown",
   "id": "0cd5d3e3",
   "metadata": {},
   "source": [
    "## Exercises"
   ]
  },
  {
   "cell_type": "markdown",
   "id": "7a1e089e",
   "metadata": {},
   "source": [
    "## Exercise 8.4\n",
    "\n",
    "Give analytical expressions for the asset price $ p_t $ under the\n",
    "following settings for $ d $ and $ p_{T+1}^* $:\n",
    "\n",
    "1. $ p_{T+1}^* = 0, d_t = g^t d_0 $ (a modified version of the Gordon growth formula)  \n",
    "1. $ p_{T+1}^* = g^{T+1} d_0,  d_t = g^t d_0 $ (the plain vanilla  Gordon growth formula)  \n",
    "1. $ p_{T+1}^* = 0, d_t = 0 $ (price of a worthless stock)  \n",
    "1. $ p_{T+1}^* = c \\delta^{-(T+1)}, d_t = 0 $ (price of a pure bubble stock)  "
   ]
  }
 ],
 "metadata": {
  "date": 1695180535.544816,
  "filename": "pv.md",
  "kernelspec": {
   "display_name": "Python",
   "language": "python3",
   "name": "python3"
  },
  "title": "Present Values"
 },
 "nbformat": 4,
 "nbformat_minor": 5
}