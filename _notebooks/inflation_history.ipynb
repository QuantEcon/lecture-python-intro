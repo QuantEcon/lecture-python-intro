{
 "cells": [
  {
   "cell_type": "markdown",
   "id": "8210b729",
   "metadata": {},
   "source": [
    "# Price Level Histories\n",
    "\n",
    "This lecture offers some scraps of historical evidence about fluctuations in  levels of aggregate price indexes.\n",
    "\n",
    "The rate of growth of the price level is called **inflation** in the popular press and in discussions among central bankers and treasury officials.\n",
    "\n",
    "The price level is measured in units of domestic currency per units of a representative bundle of consumption goods.\n",
    "\n",
    "Thus, in the US, the price level at  $ t $  is measured in dollars in month $ t $ or year $ t $  per unit of the consumption bundle.\n",
    "\n",
    "Until the early 20th century, throughout much of the west, although price levels fluctuated from year to  year,\n",
    "they didn’t have much of a trend.\n",
    "\n",
    "Thus, they tended to end a century at close to a level at which they started it.\n",
    "\n",
    "Things were different in the 20th century, as we shall see in this lecture.\n",
    "\n",
    "This lecture will set the stage for some subsequent lecture about a particular theory that  economists use to\n",
    "think about determinants of the price level."
   ]
  },
  {
   "cell_type": "markdown",
   "id": "41d4ec2c",
   "metadata": {},
   "source": [
    "## Four Centuries of Price Levels\n",
    "\n",
    "We begin by displaying  some  data  that originally appeared on page 35 of [[SV02](https://intro.quantecon.org/zreferences.html#id4)].\n",
    "\n",
    "The data  price levels for four “hard currency” countries from 1600 to 1914.\n",
    "\n",
    "The four countries are\n",
    "\n",
    "- France  \n",
    "- Spain (Castile)  \n",
    "- United Kingdom  \n",
    "- United States  \n",
    "\n",
    "\n",
    "In the present context, the  phrase hard currency means that the countries were on a commodity-money standard:  money consisted of gold and silver coins that circulated at values largely determined by the weights of their gold and silver contents.\n",
    "\n",
    "(Under a gold or silver standard, some money also consisted of “warehouse certificates” that represented paper claims on gold or silver coins. Bank notes issued by the government or private banks can be viewed as examples of such “warehouse certificate”.)\n",
    "\n",
    "The data we want to study data  originally appeared in a graph on page 35 of [[SV02](https://intro.quantecon.org/zreferences.html#id4)].\n",
    "\n",
    "As usual, we’ll start by importing some Python modules."
   ]
  },
  {
   "cell_type": "code",
   "execution_count": null,
   "id": "7885b605",
   "metadata": {
    "hide-output": false
   },
   "outputs": [],
   "source": [
    "import numpy as np\n",
    "import pandas as pd\n",
    "import matplotlib.pyplot as plt\n",
    "import matplotlib.dates as mdates\n",
    "import datetime"
   ]
  },
  {
   "cell_type": "code",
   "execution_count": null,
   "id": "bb6f0113",
   "metadata": {
    "hide-output": false
   },
   "outputs": [],
   "source": [
    "!pip install xlrd "
   ]
  },
  {
   "cell_type": "markdown",
   "id": "c22d61a8",
   "metadata": {},
   "source": [
    "We’ll start by bringing these data into Pandas from a spreadsheet."
   ]
  },
  {
   "cell_type": "code",
   "execution_count": null,
   "id": "2812e193",
   "metadata": {
    "hide-output": false
   },
   "outputs": [],
   "source": [
    "# import data\n",
    "df_fig5 = pd.read_excel('datasets/longprices.xls', sheet_name='all', header=2, index_col=0).iloc[1:]\n",
    "df_fig5.index = df_fig5.index.astype(int) \n",
    "\n",
    "df_fig5.head(5)"
   ]
  },
  {
   "cell_type": "markdown",
   "id": "6135c3fb",
   "metadata": {},
   "source": [
    "We first plot price levels over the period 1600-1914.\n",
    "\n",
    "During most years in this time interval, the countries were on a gold or silver standard."
   ]
  },
  {
   "cell_type": "code",
   "execution_count": null,
   "id": "f65d971c",
   "metadata": {
    "hide-output": false
   },
   "outputs": [],
   "source": [
    "df_fig5_bef1914 = df_fig5[df_fig5.index <= 1915]\n",
    "\n",
    "# create plot\n",
    "cols = ['UK', 'US', 'France', 'Castile']\n",
    "\n",
    "fig, ax = plt.subplots(1, 1, figsize=[8, 5], dpi=200)\n",
    "\n",
    "for col in cols:\n",
    "    ax.plot(df_fig5_bef1914.index, df_fig5_bef1914[col], label=col)\n",
    "\n",
    "ax.spines[['right', 'top']].set_visible(False)\n",
    "ax.legend()\n",
    "ax.set_ylabel('Index  1913 = 100')\n",
    "ax.set_xlim(xmin=1600)\n",
    "plt.tight_layout()\n",
    "fig.text(.5, .0001, \"Price Levels\", ha='center')\n",
    "plt.show()"
   ]
  },
  {
   "cell_type": "markdown",
   "id": "6d9d57e0",
   "metadata": {},
   "source": [
    "We say “most years” because there were temporary lapses from the gold or silver standard.\n",
    "\n",
    "By staring at the graph carefully, you might be able to guess when these temporary lapses occurred, because they were also times during which price levels rose markedly from what had been  average values during more typical years.\n",
    "\n",
    "- 1791-1797 in France (the French revolution)  \n",
    "- 1776-1793 in the US (the US War for Independence from Great Britain)  \n",
    "- 1861-1865 in the US (the US Civil War)  \n",
    "\n",
    "\n",
    "During each of these episodes, the gold/silver standard was temporarily abandoned as a government printed paper money to help it finance war expenditures.\n",
    "\n",
    "Despite these temporary lapses, a striking thing about the figure is that price levels hovered around roughly constant long-term levels for over three centuries.\n",
    "\n",
    "Two other features of the figure attracted the attention of leading economists such as Irving Fisher of Yale University and John Maynard Keynes of Cambridge University in the early century.\n",
    "\n",
    "- There was considerable year-to-year instability of the price levels despite their long begin anchored to the same average level in the long term  \n",
    "- While using valuable gold and silver as coins was a time-tested way to anchor  the price level by limiting the supply of money, it cost real resources.  \n",
    "  - that is, society paid a high “opportunity cost” for using gold and silver as coins; gold and silver could instead be used as valuable jewelry and also as an industrial input  \n",
    "\n",
    "\n",
    "Keynes and Fisher proposed what they suggested would be  a socially more  efficient way to achieve a price level that  would be at least as firmly  anchored, and would also exhibit less  year-to-year short-term fluctuations.\n",
    "\n",
    "In particular, they argued that a well-managed central bank could achieve price level stability by\n",
    "\n",
    "- issuing a **limited supply** of paper currency  \n",
    "- guaranteeing that it would  not  print money to finance government expenditures  \n",
    "\n",
    "\n",
    "Thus, the waste from using gold and silver as coins  prompted John Maynard Keynes to call a commodity standard a “barbarous relic.”\n",
    "\n",
    "A paper fiat money system disposes of all reserves behind a currency.\n",
    "\n",
    "But notice that in doing so, it also eliminates an automatic supply mechanism constraining the price level.\n",
    "\n",
    "A low-inflation paper fiat money system replaces that automatic mechanism with an enlightened government that commits itself to limit the quantity of a pure token, no-cost currency.\n",
    "\n",
    "Now let’s see what happened to the price level in our four countries when after 1914 one after another of them\n",
    "left the gold/silver standard.\n",
    "\n",
    "We’ll show a version of the complete  graph that originally appeared on page 35 of [[SV02](https://intro.quantecon.org/zreferences.html#id4)].\n",
    "\n",
    "The graph shows logarithms of price levels our  four “hard currency” countries from 1600 to 2000.\n",
    "\n",
    "Allthough we didn’t have  to use   logarithms in our earlier graphs that  had stopped in 1914 – we use logarithms now because we want also  to fit observations after 1914 in the same graph as the earlier observations.\n",
    "\n",
    "All four of the countries eventually permanently left the gold standard by modifying their monetary and fiscal policies in several ways, starting the outbreak of the Great War in 1914."
   ]
  },
  {
   "cell_type": "code",
   "execution_count": null,
   "id": "4ff3bb26",
   "metadata": {
    "hide-output": false
   },
   "outputs": [],
   "source": [
    "# create plot\n",
    "cols = ['UK', 'US', 'France', 'Castile']\n",
    "\n",
    "fig, ax = plt.subplots(1, 1, figsize=[8, 5], dpi=200)\n",
    "\n",
    "for col in cols:\n",
    "    ax.plot(df_fig5.index, df_fig5[col])\n",
    "    ax.text(x=df_fig5.index[-1]+2, y=df_fig5[col].iloc[-1], s=col)\n",
    "\n",
    "ax.spines[['right', 'top']].set_visible(False)\n",
    "ax.set_yscale('log')\n",
    "ax.set_ylabel('Index  1913 = 100')\n",
    "ax.set_xlim(xmin=1600)\n",
    "ax.set_ylim([10, 1e6])\n",
    "plt.tight_layout()\n",
    "fig.text(.5, .0001, \"Logs of Price Levels\", ha='center')\n",
    "plt.show()"
   ]
  },
  {
   "cell_type": "markdown",
   "id": "d0f6bf95",
   "metadata": {},
   "source": [
    "The graph shows that achieving a price level system with a well-managed paper money system proved to be more challenging  than Irving Fisher and Keynes perhaps imagined.\n",
    "\n",
    "Actually, earlier economists and statesmen knew about the possibility of fiat money systems long before\n",
    "Keynes and Fisher advocated them in the early 20th century.\n",
    "\n",
    "It was because earlier  proponents of a commodity money system did not trust governments properly to manage a fiat money system that they were willing to pay the resource costs associated with setting up and maintaining a commodity money system.\n",
    "\n",
    "In light of the high inflation episodes that many countries experienced in the twentieth century after they abandoned commodity monies,  it is difficult to criticize them for their preference to stay on the pre-1914 gold/silver standard.\n",
    "\n",
    "The breadth and length of the inflationary experiences of the twentieth century, the century of paper money, are  historically unprecedented."
   ]
  },
  {
   "cell_type": "markdown",
   "id": "e6839e64",
   "metadata": {},
   "source": [
    "## Ends of Four Big Inflations\n",
    "\n",
    "In the wake of World War I, which ended in November 1918, monetary and fiscal authorities struggled to achieve   price level stability without being on a gold or silver standard.\n",
    "\n",
    "We present  four  graphs from “The Ends of Four Big Inflations” from chapter 3 of [[Sar13](https://intro.quantecon.org/zreferences.html#id5)].\n",
    "\n",
    "The graphs depict logarithms of price levels during the early post World War I years for four countries:\n",
    "\n",
    "- Figure 3.1, Retail prices Austria, 1921-1924 (page 42)  \n",
    "- Figure 3.2, Wholesale prices Hungary, 1921-1924 (page 43)  \n",
    "- Figure 3.3, Wholesale prices, Poland, 1921-1924 (page 44)  \n",
    "- Figure 3.4, Wholesale prices, Germany, 1919-1924 (page 45)  \n",
    "\n",
    "\n",
    "We have added logarithms of the exchange rates vis a vis the US dollar to each of the four graphs\n",
    "from chapter 3 of [[Sar13](https://intro.quantecon.org/zreferences.html#id5)].\n",
    "\n",
    "Data underlying our graphs appear in tables in an appendix to chapter 3 of [[Sar13](https://intro.quantecon.org/zreferences.html#id5)].\n",
    "We have transcribed all of these data  into a spreadsheet `chapter_3.xls` that we  read into Pandas."
   ]
  },
  {
   "cell_type": "code",
   "execution_count": null,
   "id": "6bec7937",
   "metadata": {
    "hide-output": false
   },
   "outputs": [],
   "source": [
    "def process_entry(entry):\n",
    "    \"Clean each entry of a dataframe.\"\n",
    "    \n",
    "    if type(entry) == str:\n",
    "        # remove leading and trailing whitespace\n",
    "        entry = entry.strip()\n",
    "        # remove comma\n",
    "        entry = entry.replace(',', '')\n",
    "    \n",
    "        # remove HTML markers\n",
    "        item_to_remove = ['<s>a</s>', '<s>c</s>', '<s>d</s>', '<s>e</s>']\n",
    "\n",
    "        # <s>b</s> represents a billion\n",
    "        if '<s>b</s>' in entry:\n",
    "            entry = entry.replace('<s>b</s>', '')\n",
    "            entry = float(entry) * 1e9\n",
    "        else:\n",
    "            for item in item_to_remove:\n",
    "                if item in entry:\n",
    "                    entry = entry.replace(item, '')\n",
    "    return entry\n",
    "\n",
    "def process_df(df):\n",
    "    \"Clean and reorganize the entire dataframe.\"\n",
    "    \n",
    "    # remove HTML markers from column names\n",
    "    for item in ['<s>a</s>', '<s>c</s>', '<s>d</s>', '<s>e</s>']:\n",
    "        df.columns = df.columns.str.replace(item, '')\n",
    "    \n",
    "    df['Year'] = df['Year'].apply(lambda x: int(x))\n",
    "    \n",
    "    # set index to date time\n",
    "    df = df.set_index(\n",
    "            pd.to_datetime((df['Year'].astype(str) + df['Month'].astype(str)), format='%Y%B'))\n",
    "    df = df.drop(['Year', 'Month'], axis=1)\n",
    "    \n",
    "    # handle duplicates by keeping the first\n",
    "    df = df[~df.index.duplicated(keep='first')]\n",
    "    \n",
    "    # convert to numeric\n",
    "    df = df.applymap(lambda x: float(x) if x != '—' else np.nan)\n",
    "    \n",
    "    # finally, we only focus on data between 1919 and 1925\n",
    "    mask = (df.index >= '1919-01-01') & (df.index < '1925-01-01')\n",
    "    df = df.loc[mask]\n",
    "\n",
    "    return df\n",
    "\n",
    "def create_plot(p_seq, e_seq, index, labs, ax):\n",
    "    \n",
    "    p_lab, e_lab = labs\n",
    "    \n",
    "    # price and exchange rates\n",
    "    ax.plot(index, p_seq, label=p_lab, color='tab:blue')\n",
    "    ax1 = ax.twinx()\n",
    "    ax1.plot([None], [None], label=p_lab, color='tab:blue')\n",
    "    ax1.plot(index, e_seq, label=e_lab, color='tab:orange')\n",
    "    ax.set_yscale('log')\n",
    "    ax1.set_yscale('log')\n",
    "    \n",
    "    ax.xaxis.set_major_locator(mdates.MonthLocator(interval=5))\n",
    "    ax.xaxis.set_major_formatter(mdates.DateFormatter('%b %Y'))\n",
    "    for label in ax.get_xticklabels():\n",
    "        label.set_rotation(45)\n",
    "    \n",
    "    ax.text(-0.08, 1.03, 'Price Level', transform=ax.transAxes)\n",
    "    ax.text(0.92, 1.03, 'Exchange Rate', transform=ax.transAxes)\n",
    "    \n",
    "    ax1.legend(loc='upper left')\n",
    "\n",
    "    return ax1"
   ]
  },
  {
   "cell_type": "code",
   "execution_count": null,
   "id": "82ec3e9d",
   "metadata": {
    "hide-output": false
   },
   "outputs": [],
   "source": [
    "# import data\n",
    "xls = pd.ExcelFile('datasets/chapter_3.xlsx')\n",
    "\n",
    "# unpack and combine all series\n",
    "sheet_index = [(2, 3, 4), (9, 10), (14, 15, 16), (21, 18, 19)]\n",
    "remove_row = [(-2, -2, -2), (-7, -10), (-6, -4, -3), (-19, -3, -6)]\n",
    "\n",
    "df_list = []\n",
    "\n",
    "for i in range(4):\n",
    "    \n",
    "    indices, rows = sheet_index[i], remove_row[i]\n",
    "    sheet_list = [pd.read_excel(xls, 'Table3.' + str(ind), header=1).iloc[:row].applymap(process_entry)\n",
    "                  for ind, row in zip(indices, rows)]\n",
    "    \n",
    "    sheet_list = [process_df(df) for df in sheet_list]\n",
    "    df_list.append(pd.concat(sheet_list, axis=1))\n",
    "\n",
    "df_Aus, df_Hung, df_Pol, df_Germ = df_list"
   ]
  },
  {
   "cell_type": "markdown",
   "id": "69074a4d",
   "metadata": {},
   "source": [
    "Let’s dive in and construct graphs for our four countries."
   ]
  },
  {
   "cell_type": "markdown",
   "id": "d109ed9c",
   "metadata": {},
   "source": [
    "### Austria\n",
    "\n",
    "The sources of our data are:\n",
    "\n",
    "- Table 3.3, $ \\exp p $  \n",
    "- Table 3.4, exchange rate with US  "
   ]
  },
  {
   "cell_type": "code",
   "execution_count": null,
   "id": "b911bb7c",
   "metadata": {
    "hide-output": false
   },
   "outputs": [],
   "source": [
    "df_Aus.head(5)"
   ]
  },
  {
   "cell_type": "code",
   "execution_count": null,
   "id": "fbea9a8f",
   "metadata": {
    "hide-output": false
   },
   "outputs": [],
   "source": [
    "p_seq = df_Aus['Retail price index, 52 commodities']\n",
    "e_seq = df_Aus['Exchange Rate']\n",
    "\n",
    "lab = ['Retail Price Index', 'Exchange Rate']\n",
    "\n",
    "# create plot\n",
    "fig, ax = plt.subplots(figsize=[10,7], dpi=200)\n",
    "_ = create_plot(p_seq, e_seq, df_Aus.index, lab, ax)\n",
    "\n",
    "# connect disjunct parts\n",
    "plt.figtext(0.5, -0.02, 'Austria', horizontalalignment='center', fontsize=12)\n",
    "plt.show()"
   ]
  },
  {
   "cell_type": "markdown",
   "id": "59e7fb8c",
   "metadata": {},
   "source": [
    "### Hungary\n",
    "\n",
    "The source of our data for Hungary is:\n",
    "\n",
    "- Table 3.10, price level $ \\exp p $ and exchange rate  "
   ]
  },
  {
   "cell_type": "code",
   "execution_count": null,
   "id": "5a8300d5",
   "metadata": {
    "hide-output": false
   },
   "outputs": [],
   "source": [
    "df_Hung.head(5)"
   ]
  },
  {
   "cell_type": "code",
   "execution_count": null,
   "id": "4da3bf32",
   "metadata": {
    "hide-output": false
   },
   "outputs": [],
   "source": [
    "m_seq = df_Hung['Notes in circulation']\n",
    "p_seq = df_Hung['Hungarian index of prices']\n",
    "e_seq = 1/df_Hung['Cents per crown in New York']\n",
    "rb_seq = np.log(m_seq) - np.log(p_seq)\n",
    "\n",
    "lab = ['Hungarian Index of Prices', '1/Cents per Crown in New York']\n",
    "\n",
    "# create plot\n",
    "fig, ax = plt.subplots(figsize=[10,7], dpi=200)\n",
    "_ = create_plot(p_seq, e_seq, df_Hung.index, lab, ax)\n",
    "\n",
    "plt.figtext(0.5, -0.02, 'Hungary', horizontalalignment='center', fontsize=12)\n",
    "plt.show()"
   ]
  },
  {
   "cell_type": "markdown",
   "id": "772824e9",
   "metadata": {},
   "source": [
    "### Poland\n",
    "\n",
    "The sources of our data for Poland are:\n",
    "\n",
    "- Table 3.15, price level $ \\exp p $  \n",
    "- Table 3.15, exchange rate  \n",
    "\n",
    "\n",
    ">**Note**\n",
    ">\n",
    ">To construct the price level series from the data in the spreadsheet, we instructed  Pandas to follow the same procedures implemented in chapter 3 of [[Sar13](https://intro.quantecon.org/zreferences.html#id5)]. We spliced together  three series - Wholesale price index, Wholesale Price Index: On paper currency basis, and Wholesale Price Index: On zloty basis. We  adjusted the sequence based on the price level ratio at the last period of the available previous series and glued them  to construct a single series.\n",
    "We dropped the exchange rate after June 1924, when the  zloty was adopted. We did this  because we don’t have the price measured in zloty. We used the  old currency in June to compute the exchange rate adjustment."
   ]
  },
  {
   "cell_type": "code",
   "execution_count": null,
   "id": "b1cb354f",
   "metadata": {
    "hide-output": false
   },
   "outputs": [],
   "source": [
    "df_Pol.head(5)"
   ]
  },
  {
   "cell_type": "code",
   "execution_count": null,
   "id": "02304b64",
   "metadata": {
    "hide-output": false
   },
   "outputs": [],
   "source": [
    "# splice three price series in different units\n",
    "p_seq1 = df_Pol['Wholesale price index'].copy()\n",
    "p_seq2 = df_Pol['Wholesale Price Index: On paper currency basis'].copy()\n",
    "p_seq3 = df_Pol['Wholesale Price Index: On zloty basis'].copy()\n",
    "\n",
    "# non-nan part\n",
    "ch_index_1 = p_seq1[~p_seq1.isna()].index[-1]\n",
    "ch_index_2 = p_seq2[~p_seq2.isna()].index[-2]\n",
    "\n",
    "adj_ratio12 = p_seq1[ch_index_1]/p_seq2[ch_index_1]\n",
    "adj_ratio23 = p_seq2[ch_index_2]/p_seq3[ch_index_2]\n",
    "\n",
    "# glue three series\n",
    "p_seq = pd.concat([p_seq1[:ch_index_1], \n",
    "                   adj_ratio12 * p_seq2[ch_index_1:ch_index_2], \n",
    "                   adj_ratio23 * p_seq3[ch_index_2:]])\n",
    "p_seq = p_seq[~p_seq.index.duplicated(keep='first')]\n",
    "\n",
    "# exchange rate\n",
    "e_seq = 1/df_Pol['Cents per Polish mark (zloty after May 1924)']\n",
    "e_seq[e_seq.index > '05-01-1924'] = np.nan"
   ]
  },
  {
   "cell_type": "code",
   "execution_count": null,
   "id": "59192d2d",
   "metadata": {
    "hide-output": false
   },
   "outputs": [],
   "source": [
    "lab = ['Wholesale Price Index', '1/Cents per Polish Mark']\n",
    "\n",
    "# create plot\n",
    "fig, ax = plt.subplots(figsize=[10,7], dpi=200)\n",
    "ax1 = create_plot(p_seq, e_seq, df_Pol.index, lab, ax)\n",
    "\n",
    "plt.figtext(0.5, -0.02, 'Poland', horizontalalignment='center', fontsize=12)\n",
    "plt.show()"
   ]
  },
  {
   "cell_type": "markdown",
   "id": "d96305c3",
   "metadata": {},
   "source": [
    "### Germany\n",
    "\n",
    "The sources of our data for Germany are the following tables from chapter 3 of [[Sar13](https://intro.quantecon.org/zreferences.html#id5)]:\n",
    "\n",
    "- Table 3.18, wholesale price level $ \\exp p $  \n",
    "- Table 3.19, exchange rate  "
   ]
  },
  {
   "cell_type": "code",
   "execution_count": null,
   "id": "ffa04ef0",
   "metadata": {
    "hide-output": false
   },
   "outputs": [],
   "source": [
    "df_Germ.head(5)"
   ]
  },
  {
   "cell_type": "code",
   "execution_count": null,
   "id": "d85f864f",
   "metadata": {
    "hide-output": false
   },
   "outputs": [],
   "source": [
    "p_seq = df_Germ['Price index (on basis of marks before July 1924,  reichsmarks after)'].copy()\n",
    "e_seq = 1/df_Germ['Cents per mark']\n",
    "\n",
    "lab = ['Price Index', '1/Cents per Mark']\n",
    "\n",
    "# create plot\n",
    "fig, ax = plt.subplots(figsize=[9,5], dpi=200)\n",
    "ax1 = create_plot(p_seq, e_seq, df_Germ.index, lab, ax)\n",
    "\n",
    "plt.figtext(0.5, -0.06, 'Germany', horizontalalignment='center', fontsize=12)\n",
    "plt.show()"
   ]
  },
  {
   "cell_type": "code",
   "execution_count": null,
   "id": "3332e459",
   "metadata": {
    "hide-output": false
   },
   "outputs": [],
   "source": [
    "p_seq = df_Germ['Price index (on basis of marks before July 1924,  reichsmarks after)'].copy()\n",
    "e_seq = 1/df_Germ['Cents per mark'].copy()\n",
    "\n",
    "# adjust the price level/exchange rate after the currency reform\n",
    "p_seq[p_seq.index > '06-01-1924'] = p_seq[p_seq.index > '06-01-1924'] * 1e12\n",
    "e_seq[e_seq.index > '12-01-1923'] = e_seq[e_seq.index > '12-01-1923'] * 1e12\n",
    "\n",
    "lab = ['Price Index (Marks or converted to Marks)', '1/Cents per Mark (or Reichsmark converted to Mark)']\n",
    "\n",
    "# create plot\n",
    "fig, ax = plt.subplots(figsize=[10,7], dpi=200)\n",
    "ax1 = create_plot(p_seq, e_seq, df_Germ.index, lab, ax)\n",
    "\n",
    "plt.figtext(0.5, -0.02, 'Germany', horizontalalignment='center', fontsize=12)\n",
    "plt.show()"
   ]
  },
  {
   "cell_type": "markdown",
   "id": "20d2044f",
   "metadata": {},
   "source": [
    "## Starting and Stopping Big Inflations\n",
    "\n",
    "A striking thing about our four graphs is how **quickly** the (log) price levels in Austria, Hungary, Poland,\n",
    "and Germany leveled off after having been rising so quickly.\n",
    "\n",
    "Each of these big inflations seemed to have “stopped on a dime”.\n",
    "\n",
    "Chapter 3 of [[SV02](https://intro.quantecon.org/zreferences.html#id4)] attempts to offer an explanation for this remarkable pattern.\n",
    "\n",
    "In a nutshell, here is his story.\n",
    "\n",
    "After World War I, the United States was on the gold standard. The US government stood ready to convert a dollar into a specified amount of gold on demand. To understate things, immediately after the war, Hungary, Austria, Poland, and Germany were not on the gold standard.\n",
    "\n",
    "In practice, their currencies were largely “fiat,” or unbacked. The governments of these countries resorted to the printing of new unbacked money to finance government deficits. (The notes were “backed” mainly by treasury bills that, in those times, could not be expected to be paid off by levying taxes, but only by printing more notes or treasury bills.) This was done on such a scale that it led to a depreciation of the currencies of spectacular proportions. In the end, the German mark stabilized at 1 trillion ($ 10^{12} $) paper marks to the prewar gold mark, the Polish mark at 1.8 million paper marks to the gold zloty, the Austrian crown at 14,400 paper crowns to the prewar Austro-Hungarian crown, and the Hungarian krone at 14,500 paper crowns to the prewar Austro-Hungarian crown.\n",
    "\n",
    "Chapter 3 of [[SV02](https://intro.quantecon.org/zreferences.html#id4)]  focuses on the deliberate changes in policy that Hungary, Austria, Poland, and Germany made to end their hyperinflations.\n",
    "The hyperinflations were each ended by restoring or virtually restoring convertibility to the dollar or equivalently to gold."
   ]
  }
 ],
 "metadata": {
  "date": 1688085910.4654436,
  "filename": "inflation_history.md",
  "kernelspec": {
   "display_name": "Python",
   "language": "python3",
   "name": "python3"
  },
  "title": "Price Level Histories"
 },
 "nbformat": 4,
 "nbformat_minor": 5
}