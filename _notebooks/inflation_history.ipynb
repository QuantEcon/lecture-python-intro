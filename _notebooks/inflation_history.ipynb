{
 "cells": [
  {
   "cell_type": "markdown",
   "id": "78988acf",
   "metadata": {},
   "source": [
    "# Price Level Histories\n",
    "\n",
    "This lecture offers some historical evidence about fluctuations in levels of aggregate price indexes.\n",
    "\n",
    "Let’s start by installing the necessary Python packages.\n",
    "\n",
    "The `xlrd` package is used by `pandas` to perform operations on Excel files."
   ]
  },
  {
   "cell_type": "code",
   "execution_count": null,
   "id": "684b8411",
   "metadata": {
    "hide-output": false
   },
   "outputs": [],
   "source": [
    "!pip install xlrd"
   ]
  },
  {
   "cell_type": "code",
   "execution_count": null,
   "id": "ea9aa1a0",
   "metadata": {
    "hide-output": false
   },
   "outputs": [],
   "source": [
    "from importlib.metadata import version\n",
    "from packaging.version import Version\n",
    "\n",
    "if Version(version(\"pandas\")) < Version('2.1.4'):\n",
    "    !pip install \"pandas>=2.1.4\""
   ]
  },
  {
   "cell_type": "markdown",
   "id": "c5bd5d12",
   "metadata": {},
   "source": [
    "We can then import the Python modules we will use."
   ]
  },
  {
   "cell_type": "code",
   "execution_count": null,
   "id": "ee82aeef",
   "metadata": {
    "hide-output": false
   },
   "outputs": [],
   "source": [
    "import numpy as np\n",
    "import pandas as pd\n",
    "import matplotlib.pyplot as plt\n",
    "import matplotlib.dates as mdates"
   ]
  },
  {
   "cell_type": "markdown",
   "id": "5e62325b",
   "metadata": {},
   "source": [
    "The rate of growth of the price level is called **inflation** in the popular press and in discussions among central bankers and treasury officials.\n",
    "\n",
    "The price level is measured in units of domestic currency per units of a representative bundle of consumption goods.\n",
    "\n",
    "Thus, in the US, the price level at $ t $ is measured in dollars (month $ t $ or year $ t $) per unit of the consumption bundle.\n",
    "\n",
    "Until the early 20th century, in many western economies, price levels fluctuated from year to year but didn’t have much of a trend.\n",
    "\n",
    "Often the price levels ended a century near where they started.\n",
    "\n",
    "Things were different in the 20th century, as we shall see in this lecture.\n",
    "\n",
    "A widely believed explanation of this big difference is that countries’ abandoning gold and silver standards in the early twentieth century.\n",
    "\n",
    "This lecture sets the stage for some subsequent lectures about a theory that macro economists use to think about determinants of the price level, namely, [A Monetarist Theory of Price Levels](https://intro.quantecon.org/cagan_ree.html) and [Monetarist Theory of Price Levels with Adaptive Expectations](https://intro.quantecon.org/cagan_adaptive.html)"
   ]
  },
  {
   "cell_type": "markdown",
   "id": "f0ec66bb",
   "metadata": {},
   "source": [
    "## Four centuries of price levels\n",
    "\n",
    "We begin by displaying data that originally appeared on page 35 of [[Sargent and Velde, 2002](https://intro.quantecon.org/zreferences.html#id10)] that show price levels for four “hard currency” countries from 1600 to 1914.\n",
    "\n",
    "- France  \n",
    "- Spain (Castile)  \n",
    "- United Kingdom  \n",
    "- United States  \n",
    "\n",
    "\n",
    "In the present context, the  phrase “hard currency” means that the countries were on a commodity-money standard:  money consisted of gold and silver coins that circulated at values largely determined by the weights of their gold and silver contents.\n",
    "\n",
    ">**Note**\n",
    ">\n",
    ">Under a gold or silver standard, some money also consisted of “warehouse certificates” that represented paper claims on gold or silver coins. Bank notes issued by the government or private banks can be viewed as examples of such “warehouse certificates”.\n",
    "\n",
    "Let us bring the data into pandas from a spreadsheet that is [hosted on github](https://github.com/QuantEcon/lecture-python-intro/tree/main/lectures/datasets)."
   ]
  },
  {
   "cell_type": "code",
   "execution_count": null,
   "id": "b16f4fda",
   "metadata": {
    "hide-output": false
   },
   "outputs": [],
   "source": [
    "# Import data and clean up the index\n",
    "data_url = \"https://github.com/QuantEcon/lecture-python-intro/raw/main/lectures/datasets/longprices.xls\"\n",
    "df_fig5 = pd.read_excel(data_url, \n",
    "                        sheet_name='all', \n",
    "                        header=2, \n",
    "                        index_col=0).iloc[1:]\n",
    "df_fig5.index = df_fig5.index.astype(int)"
   ]
  },
  {
   "cell_type": "markdown",
   "id": "5b377afe",
   "metadata": {},
   "source": [
    "We first plot price levels over the period 1600-1914.\n",
    "\n",
    "During most years in this time interval, the countries were on a gold or silver standard."
   ]
  },
  {
   "cell_type": "code",
   "execution_count": null,
   "id": "49e9a214",
   "metadata": {
    "hide-output": false
   },
   "outputs": [],
   "source": [
    "df_fig5_befe1914 = df_fig5[df_fig5.index <= 1914]\n",
    "\n",
    "# Create plot\n",
    "cols = ['UK', 'US', 'France', 'Castile']\n",
    "\n",
    "fig, ax = plt.subplots(figsize=(10,6))\n",
    "\n",
    "for col in cols:\n",
    "    ax.plot(df_fig5_befe1914.index, \n",
    "            df_fig5_befe1914[col], label=col, lw=2)\n",
    "\n",
    "ax.legend()\n",
    "ax.set_ylabel('Index  1913 = 100')\n",
    "ax.set_xlabel('Year')\n",
    "ax.set_xlim(xmin=1600)\n",
    "plt.tight_layout()\n",
    "plt.show()"
   ]
  },
  {
   "cell_type": "markdown",
   "id": "632d534a",
   "metadata": {},
   "source": [
    "We say “most years” because there were temporary lapses from the gold or silver standard.\n",
    "\n",
    "By staring at Fig. 4.1 carefully, you might be able to guess when these temporary lapses occurred, because they were also times during which price levels temporarily rose markedly:\n",
    "\n",
    "- 1791-1797 in France (French Revolution)  \n",
    "- 1776-1790 in the US (War for Independence from Great Britain)  \n",
    "- 1861-1865 in the US (Civil War)  \n",
    "\n",
    "\n",
    "During these episodes, the gold/silver standard was temporarily abandoned when a government printed paper money to pay for war expenditures.\n",
    "\n",
    "Despite these temporary lapses, a striking thing about the figure is that price levels were roughly constant over three centuries.\n",
    "\n",
    "In the early century, two other features of this data attracted the attention of [Irving Fisher](https://en.wikipedia.org/wiki/Irving_Fisher) of Yale University and [John Maynard Keynes](https://en.wikipedia.org/wiki/John_Maynard_Keynes) of Cambridge University.\n",
    "\n",
    "- Despite being anchored to the same average level over long time spans, there were considerable year-to-year variations in price levels  \n",
    "- While using valuable gold and silver as coins succeeded in anchoring the price level by limiting the supply of money, it cost real resources.  \n",
    "- a country paid a high “opportunity cost” for using gold and silver coins as money – that gold and silver could instead have been made into valuable jewelry and other durable goods.  \n",
    "\n",
    "\n",
    "Keynes and Fisher proposed what they claimed would be a more efficient way to achieve a price level that\n",
    "\n",
    "- would be at least as firmly anchored as achieved under a gold or silver standard, and  \n",
    "- would also exhibit less year-to-year short-term fluctuations.  \n",
    "\n",
    "\n",
    "They said that central bank could achieve price level stability by\n",
    "\n",
    "- issuing  **limited supplies** of paper currency  \n",
    "- refusing to print money to finance government expenditures  \n",
    "\n",
    "\n",
    "This logic prompted John Maynard Keynes to call a commodity standard a “barbarous relic.”\n",
    "\n",
    "A paper currency or “fiat money” system disposes of all reserves behind a currency.\n",
    "\n",
    "But adhering to a gold or silver standard had provided an automatic mechanism for limiting the supply of money, thereby anchoring the price level.\n",
    "\n",
    "To anchor the price level, a pure paper or fiat money system replaces that automatic mechanism with a central bank with the authority and determination to limit the supply of money (and to deter counterfeiters!)\n",
    "\n",
    "Now let’s see what happened to the price level in the four countries after 1914, when one after another of them left the gold/silver standard by showing the complete graph that originally appeared on page 35 of [[Sargent and Velde, 2002](https://intro.quantecon.org/zreferences.html#id10)].\n",
    "\n",
    "Fig. 4.2 shows the logarithm of price levels over four “hard currency” countries from 1600 to 2000.\n",
    "\n",
    ">**Note**\n",
    ">\n",
    ">Although we didn’t have to use logarithms in our earlier graphs that had stopped in 1914, we now choose to use logarithms because we want to fit observations after 1914 in the same graph as the earlier observations.\n",
    "\n",
    "After the outbreak of the Great War in 1914, the four countries left the gold standard and in so doing acquired the ability to print money to finance government expenditures."
   ]
  },
  {
   "cell_type": "code",
   "execution_count": null,
   "id": "52e0e6ed",
   "metadata": {
    "hide-output": false
   },
   "outputs": [],
   "source": [
    "fig, ax = plt.subplots(dpi=200)\n",
    "\n",
    "for col in cols:\n",
    "    ax.plot(df_fig5.index, df_fig5[col], lw=2)\n",
    "    ax.text(x=df_fig5.index[-1]+2, \n",
    "            y=df_fig5[col].iloc[-1], s=col)\n",
    "\n",
    "ax.set_yscale('log')\n",
    "ax.set_ylabel('Logs of price levels (Index  1913 = 100)')\n",
    "ax.set_ylim([10, 1e6])\n",
    "ax.set_xlabel('year')\n",
    "ax.set_xlim(xmin=1600)\n",
    "plt.tight_layout()\n",
    "plt.show()"
   ]
  },
  {
   "cell_type": "markdown",
   "id": "9ee0d33c",
   "metadata": {},
   "source": [
    "Fig. 4.2 shows that paper-money-printing central banks didn’t do as well as the gold and standard silver standard in anchoring price levels.\n",
    "\n",
    "That would probably have surprised or disappointed Irving Fisher and John Maynard Keynes.\n",
    "\n",
    "Actually, earlier economists and statesmen knew about the possibility of fiat money systems long before Keynes and Fisher advocated them in the early 20th century.\n",
    "\n",
    "Proponents of a commodity money system did not trust governments and central banks properly to manage a fiat money system.\n",
    "\n",
    "They were willing to pay the resource costs associated with setting up and maintaining a commodity money system.\n",
    "\n",
    "In light of the high and persistent inflation that many countries experienced after they abandoned commodity monies in the twentieth century, we hesitate to criticize advocates of a gold or silver standard for their preference to stay on the pre-1914 gold/silver standard.\n",
    "\n",
    "The breadth and lengths of the inflationary experiences of the twentieth century under paper money fiat standards are historically unprecedented."
   ]
  },
  {
   "cell_type": "markdown",
   "id": "a2ad341a",
   "metadata": {},
   "source": [
    "## Four big inflations\n",
    "\n",
    "In the wake of World War I, which ended in November 1918, monetary and fiscal authorities struggled to achieve price level stability without being on a gold or silver standard.\n",
    "\n",
    "We present four graphs from “The Ends of Four Big Inflations” from chapter 3 of [[Sargent, 2013](https://intro.quantecon.org/zreferences.html#id11)].\n",
    "\n",
    "The graphs depict logarithms of price levels during the early post World War I years for four countries:\n",
    "\n",
    "- Figure 3.1, Retail prices Austria, 1921-1924 (page 42)  \n",
    "- Figure 3.2, Wholesale prices Hungary, 1921-1924 (page 43)  \n",
    "- Figure 3.3, Wholesale prices, Poland, 1921-1924 (page 44)  \n",
    "- Figure 3.4, Wholesale prices, Germany, 1919-1924 (page 45)  \n",
    "\n",
    "\n",
    "We have added logarithms of the exchange rates vis-à-vis the US dollar to each of the four graphs\n",
    "from chapter 3 of [[Sargent, 2013](https://intro.quantecon.org/zreferences.html#id11)].\n",
    "\n",
    "Data underlying our graphs appear in tables in an appendix to chapter 3 of [[Sargent, 2013](https://intro.quantecon.org/zreferences.html#id11)].\n",
    "We have transcribed all of these data into a spreadsheet <a href=https://github.com/QuantEcon/lecture-python-intro/raw/main/lectures/datasets/chapter_3.xlsx download>chapter_3.xlsx</a> that we read into pandas.\n",
    "\n",
    "In the code cell below we clean the data and build a `pandas.dataframe`."
   ]
  },
  {
   "cell_type": "code",
   "execution_count": null,
   "id": "589ec814",
   "metadata": {
    "hide-output": false
   },
   "outputs": [],
   "source": [
    "def process_entry(entry):\n",
    "    \"Clean each entry of a dataframe.\"\n",
    "    \n",
    "    if type(entry) == str:\n",
    "        # Remove leading and trailing whitespace\n",
    "        entry = entry.strip()\n",
    "        # Remove comma\n",
    "        entry = entry.replace(',', '')\n",
    "    \n",
    "        # Remove HTML markers\n",
    "        item_to_remove = ['<s>a</s>', '<s>c</s>', \n",
    "                          '<s>d</s>', '<s>e</s>']\n",
    "\n",
    "        # <s>b</s> represents a billion\n",
    "        if '<s>b</s>' in entry:\n",
    "            entry = entry.replace('<s>b</s>', '')\n",
    "            entry = float(entry) * 1e9\n",
    "        else:\n",
    "            for item in item_to_remove:\n",
    "                if item in entry:\n",
    "                    entry = entry.replace(item, '')\n",
    "    return entry\n",
    "\n",
    "def process_df(df):\n",
    "    \"Clean and reorganize the entire dataframe.\"\n",
    "    \n",
    "    # Remove HTML markers from column names\n",
    "    for item in ['<s>a</s>', '<s>c</s>', '<s>d</s>', '<s>e</s>']:\n",
    "        df.columns = df.columns.str.replace(item, '')\n",
    "        \n",
    "    # Convert years to int\n",
    "    df['Year'] = df['Year'].apply(lambda x: int(x))\n",
    "    \n",
    "    # Set index to datetime with year and month\n",
    "    df = df.set_index(\n",
    "            pd.to_datetime(\n",
    "                (df['Year'].astype(str) + \\\n",
    "                 df['Month'].astype(str)), \n",
    "                format='%Y%B'))\n",
    "    df = df.drop(['Year', 'Month'], axis=1)\n",
    "    \n",
    "    # Handle duplicates by keeping the first\n",
    "    df = df[~df.index.duplicated(keep='first')]\n",
    "    \n",
    "    # Convert attribute values to numeric\n",
    "    df = df.map(lambda x: float(x) \\\n",
    "                if x != '—' else np.nan)\n",
    "    \n",
    "    # Finally, we only focus on data between 1919 and 1925\n",
    "    mask = (df.index >= '1919-01-01') & \\\n",
    "           (df.index < '1925-01-01')\n",
    "    df = df.loc[mask]\n",
    "\n",
    "    return df"
   ]
  },
  {
   "cell_type": "markdown",
   "id": "0af697ff",
   "metadata": {},
   "source": [
    "Now we write plotting functions `pe_plot` and `pr_plot` that will build figures that show the price level, exchange rates,\n",
    "and inflation rates, for each country of interest."
   ]
  },
  {
   "cell_type": "code",
   "execution_count": null,
   "id": "a7133d22",
   "metadata": {
    "hide-output": false
   },
   "outputs": [],
   "source": [
    "def pe_plot(p_seq, e_seq, index, labs, ax):\n",
    "    \"Generate plots for price and exchange rates.\"\n",
    "\n",
    "    p_lab, e_lab = labs\n",
    "    \n",
    "    # Plot price and exchange rates\n",
    "    ax.plot(index, p_seq, label=p_lab, color='tab:blue', lw=2)\n",
    "    \n",
    "    # Add a new axis\n",
    "    ax1 = ax.twinx()\n",
    "    ax1.plot([None], [None], label=p_lab, color='tab:blue', lw=2)\n",
    "    ax1.plot(index, e_seq, label=e_lab, color='tab:orange', lw=2)\n",
    "    \n",
    "    # Set log axes\n",
    "    ax.set_yscale('log')\n",
    "    ax1.set_yscale('log')\n",
    "    \n",
    "    # Define the axis label format\n",
    "    ax.xaxis.set_major_locator(\n",
    "        mdates.MonthLocator(interval=5))\n",
    "    ax.xaxis.set_major_formatter(\n",
    "        mdates.DateFormatter('%b %Y'))\n",
    "    for label in ax.get_xticklabels():\n",
    "        label.set_rotation(45)\n",
    "    \n",
    "    # Set labels\n",
    "    ax.set_ylabel('Price level')\n",
    "    ax1.set_ylabel('Exchange rate')\n",
    "  \n",
    "    ax1.legend(loc='upper left')\n",
    "    \n",
    "    return ax1\n",
    "\n",
    "def pr_plot(p_seq, index, ax):\n",
    "    \"Generate plots for inflation rates.\"\n",
    "\n",
    "    #  Calculate the difference of log p_seq\n",
    "    log_diff_p = np.diff(np.log(p_seq))\n",
    "    \n",
    "    # Calculate and plot moving average\n",
    "    diff_smooth = pd.DataFrame(log_diff_p).rolling(3, center=True).mean()\n",
    "    ax.plot(index[1:], diff_smooth, label='Moving average (3 period)', alpha=0.5, lw=2)\n",
    "    ax.set_ylabel('Inflation rate')\n",
    "    \n",
    "    ax.xaxis.set_major_locator(\n",
    "        mdates.MonthLocator(interval=5))\n",
    "    ax.xaxis.set_major_formatter(\n",
    "        mdates.DateFormatter('%b %Y'))\n",
    "    \n",
    "    for label in ax.get_xticklabels():\n",
    "        label.set_rotation(45)\n",
    "    \n",
    "    ax.legend()\n",
    "    \n",
    "    return ax"
   ]
  },
  {
   "cell_type": "markdown",
   "id": "6df8202e",
   "metadata": {},
   "source": [
    "We prepare the data for each country"
   ]
  },
  {
   "cell_type": "code",
   "execution_count": null,
   "id": "57ef70ba",
   "metadata": {
    "hide-output": false
   },
   "outputs": [],
   "source": [
    "# Import data\n",
    "data_url = \"https://github.com/QuantEcon/lecture-python-intro/raw/main/lectures/datasets/chapter_3.xlsx\"\n",
    "xls = pd.ExcelFile(data_url)\n",
    "\n",
    "# Select relevant sheets\n",
    "sheet_index = [(2, 3, 4), \n",
    "               (9, 10), \n",
    "               (14, 15, 16), \n",
    "               (21, 18, 19)]\n",
    "\n",
    "# Remove redundant rows\n",
    "remove_row = [(-2, -2, -2), \n",
    "              (-7, -10), \n",
    "              (-6, -4, -3), \n",
    "              (-19, -3, -6)]\n",
    "\n",
    "# Unpack and combine series for each country\n",
    "df_list = []\n",
    "\n",
    "for i in range(4):\n",
    "    \n",
    "    indices, rows = sheet_index[i], remove_row[i]\n",
    "    \n",
    "    # Apply process_entry on the selected sheet\n",
    "    sheet_list = [\n",
    "        pd.read_excel(xls, 'Table3.' + str(ind), \n",
    "            header=1).iloc[:row].map(process_entry)\n",
    "        for ind, row in zip(indices, rows)]\n",
    "    \n",
    "    sheet_list = [process_df(df) for df in sheet_list]\n",
    "    df_list.append(pd.concat(sheet_list, axis=1))\n",
    "\n",
    "df_aus, df_hun, df_pol, df_deu = df_list"
   ]
  },
  {
   "cell_type": "markdown",
   "id": "b4999697",
   "metadata": {},
   "source": [
    "Now let’s construct graphs for our four countries.\n",
    "\n",
    "For each country, we’ll plot two graphs.\n",
    "\n",
    "The first graph plots logarithms of\n",
    "\n",
    "- price levels  \n",
    "- exchange rates vis-à-vis US dollars  \n",
    "\n",
    "\n",
    "For each country, the scale on the right side of a graph will pertain to the price level while the scale on the left side of a graph will pertain to the exchange rate.\n",
    "\n",
    "For each country, the second graph plots a centered three-month moving average of the inflation rate defined as $ \\frac{p_{t-1} + p_t + p_{t+1}}{3} $."
   ]
  },
  {
   "cell_type": "markdown",
   "id": "a474ba9b",
   "metadata": {},
   "source": [
    "### Austria\n",
    "\n",
    "The sources of our data are:\n",
    "\n",
    "- Table 3.3, retail price level $ \\exp p $  \n",
    "- Table 3.4, exchange rate with US  "
   ]
  },
  {
   "cell_type": "code",
   "execution_count": null,
   "id": "e90dea6c",
   "metadata": {
    "hide-output": false
   },
   "outputs": [],
   "source": [
    "p_seq = df_aus['Retail price index, 52 commodities']\n",
    "e_seq = df_aus['Exchange Rate']\n",
    "\n",
    "lab = ['Retail price index', \n",
    "       'Austrian Krones (Crowns) per US cent']\n",
    "\n",
    "# Create plot\n",
    "fig, ax = plt.subplots(dpi=200)\n",
    "_ = pe_plot(p_seq, e_seq, df_aus.index, lab, ax)\n",
    "\n",
    "plt.show()"
   ]
  },
  {
   "cell_type": "code",
   "execution_count": null,
   "id": "59bf41e9",
   "metadata": {
    "hide-output": false
   },
   "outputs": [],
   "source": [
    "# Plot moving average\n",
    "fig, ax = plt.subplots(dpi=200)\n",
    "_ = pr_plot(p_seq, df_aus.index, ax)\n",
    "\n",
    "plt.show()"
   ]
  },
  {
   "cell_type": "markdown",
   "id": "2a356da5",
   "metadata": {},
   "source": [
    "Staring at Fig. 4.3 and Fig. 4.4 conveys the following impressions to the authors of this lecture at QuantEcon.\n",
    "\n",
    "- an episode of “hyperinflation” with rapidly rising log price level and very high monthly inflation rates  \n",
    "- a sudden stop of the hyperinflation as indicated by the abrupt flattening of the log price level and a marked permanent drop in the three-month average of inflation  \n",
    "- a US dollar exchange rate that shadows the price level.  \n",
    "\n",
    "\n",
    "We’ll see similar patterns in the next three episodes that we’ll study now."
   ]
  },
  {
   "cell_type": "markdown",
   "id": "fda8833b",
   "metadata": {},
   "source": [
    "### Hungary\n",
    "\n",
    "The source of our data for Hungary is:\n",
    "\n",
    "- Table 3.10, price level $ \\exp p $ and exchange rate  "
   ]
  },
  {
   "cell_type": "code",
   "execution_count": null,
   "id": "a67ccc14",
   "metadata": {
    "hide-output": false
   },
   "outputs": [],
   "source": [
    "p_seq = df_hun['Hungarian index of prices']\n",
    "e_seq = 1 / df_hun['Cents per crown in New York']\n",
    "\n",
    "lab = ['Hungarian index of prices', \n",
    "       'Hungarian Koronas (Crowns) per US cent']\n",
    "\n",
    "# Create plot\n",
    "fig, ax = plt.subplots(dpi=200)\n",
    "_ = pe_plot(p_seq, e_seq, df_hun.index, lab, ax)\n",
    "\n",
    "plt.show()"
   ]
  },
  {
   "cell_type": "code",
   "execution_count": null,
   "id": "788a569d",
   "metadata": {
    "hide-output": false
   },
   "outputs": [],
   "source": [
    "# Plot moving average\n",
    "fig, ax = plt.subplots(dpi=200)\n",
    "_ = pr_plot(p_seq, df_hun.index, ax)\n",
    "\n",
    "plt.show()"
   ]
  },
  {
   "cell_type": "markdown",
   "id": "daf361b8",
   "metadata": {},
   "source": [
    "### Poland\n",
    "\n",
    "The sources of our data for Poland are:\n",
    "\n",
    "- Table 3.15, price level $ \\exp p $  \n",
    "- Table 3.15, exchange rate  \n",
    "\n",
    "\n",
    ">**Note**\n",
    ">\n",
    ">To construct the price level series from the data in the spreadsheet, we instructed Pandas to follow the same procedures implemented in chapter 3 of [[Sargent, 2013](https://intro.quantecon.org/zreferences.html#id11)]. We spliced together three series - Wholesale price index, Wholesale Price Index: On paper currency basis, and Wholesale Price Index: On zloty basis. We adjusted the sequence based on the price level ratio at the last period of the available previous series and glued them  to construct a single series.\n",
    "We dropped the exchange rate after June 1924, when the zloty was adopted. We did this because we don’t have the price measured in zloty. We used the old currency in June to compute the exchange rate adjustment."
   ]
  },
  {
   "cell_type": "code",
   "execution_count": null,
   "id": "457d1ed9",
   "metadata": {
    "hide-output": false
   },
   "outputs": [],
   "source": [
    "# Splice three price series in different units\n",
    "p_seq1 = df_pol['Wholesale price index'].copy()\n",
    "p_seq2 = df_pol['Wholesale Price Index: '\n",
    "                'On paper currency basis'].copy()\n",
    "p_seq3 = df_pol['Wholesale Price Index: ' \n",
    "                'On zloty basis'].copy()\n",
    "\n",
    "# Non-nan part\n",
    "mask_1 = p_seq1[~p_seq1.isna()].index[-1]\n",
    "mask_2 = p_seq2[~p_seq2.isna()].index[-2]\n",
    "\n",
    "adj_ratio12 = (p_seq1[mask_1] / p_seq2[mask_1])\n",
    "adj_ratio23 = (p_seq2[mask_2] / p_seq3[mask_2])\n",
    "\n",
    "# Glue three series\n",
    "p_seq = pd.concat([p_seq1[:mask_1], \n",
    "                   adj_ratio12 * p_seq2[mask_1:mask_2], \n",
    "                   adj_ratio23 * p_seq3[mask_2:]])\n",
    "p_seq = p_seq[~p_seq.index.duplicated(keep='first')]\n",
    "\n",
    "# Exchange rate\n",
    "e_seq = 1/df_pol['Cents per Polish mark (zloty after May 1924)']\n",
    "e_seq[e_seq.index > '05-01-1924'] = np.nan"
   ]
  },
  {
   "cell_type": "code",
   "execution_count": null,
   "id": "20c29dbb",
   "metadata": {
    "hide-output": false
   },
   "outputs": [],
   "source": [
    "lab = ['Wholesale price index', \n",
    "       'Polish marks per US cent']\n",
    "\n",
    "# Create plot\n",
    "fig, ax = plt.subplots(dpi=200)\n",
    "ax1 = pe_plot(p_seq, e_seq, df_pol.index, lab, ax)\n",
    "\n",
    "plt.show()"
   ]
  },
  {
   "cell_type": "code",
   "execution_count": null,
   "id": "b33627e3",
   "metadata": {
    "hide-output": false
   },
   "outputs": [],
   "source": [
    "# Plot moving average\n",
    "fig, ax = plt.subplots(dpi=200)\n",
    "_ = pr_plot(p_seq, df_pol.index, ax)\n",
    "\n",
    "plt.show()"
   ]
  },
  {
   "cell_type": "markdown",
   "id": "748b8ac1",
   "metadata": {},
   "source": [
    "### Germany\n",
    "\n",
    "The sources of our data for Germany are the following tables from chapter 3 of [[Sargent, 2013](https://intro.quantecon.org/zreferences.html#id11)]:\n",
    "\n",
    "- Table 3.18, wholesale price level $ \\exp p $  \n",
    "- Table 3.19, exchange rate  "
   ]
  },
  {
   "cell_type": "code",
   "execution_count": null,
   "id": "e98d626b",
   "metadata": {
    "hide-output": false
   },
   "outputs": [],
   "source": [
    "p_seq = df_deu['Price index (on basis of marks before July 1924,'\n",
    "                '  reichsmarks after)'].copy()\n",
    "e_seq = 1/df_deu['Cents per mark']\n",
    "\n",
    "lab = ['Price index', \n",
    "       'Marks per US cent']\n",
    "\n",
    "# Create plot\n",
    "fig, ax = plt.subplots(dpi=200)\n",
    "ax1 = pe_plot(p_seq, e_seq, df_deu.index, lab, ax)\n",
    "\n",
    "plt.show()"
   ]
  },
  {
   "cell_type": "code",
   "execution_count": null,
   "id": "247e4a42",
   "metadata": {
    "hide-output": false
   },
   "outputs": [],
   "source": [
    "p_seq = df_deu['Price index (on basis of marks before July 1924,'\n",
    "                '  reichsmarks after)'].copy()\n",
    "e_seq = 1/df_deu['Cents per mark'].copy()\n",
    "\n",
    "# Adjust the price level/exchange rate after the currency reform\n",
    "p_seq[p_seq.index > '06-01-1924'] = p_seq[p_seq.index \n",
    "                                          > '06-01-1924'] * 1e12\n",
    "e_seq[e_seq.index > '12-01-1923'] = e_seq[e_seq.index \n",
    "                                          > '12-01-1923'] * 1e12\n",
    "\n",
    "lab = ['Price index (marks or converted to marks)', \n",
    "       'Marks per US cent(or reichsmark converted to mark)']\n",
    "\n",
    "# Create plot\n",
    "fig, ax = plt.subplots(dpi=200)\n",
    "ax1 = pe_plot(p_seq, e_seq, df_deu.index, lab, ax)\n",
    "\n",
    "plt.show()"
   ]
  },
  {
   "cell_type": "code",
   "execution_count": null,
   "id": "0afad1fd",
   "metadata": {
    "hide-output": false
   },
   "outputs": [],
   "source": [
    "# Plot moving average\n",
    "fig, ax = plt.subplots(dpi=200)\n",
    "_ = pr_plot(p_seq, df_deu.index, ax)\n",
    "\n",
    "plt.show()"
   ]
  },
  {
   "cell_type": "markdown",
   "id": "310aa486",
   "metadata": {},
   "source": [
    "## Starting and stopping big inflations\n",
    "\n",
    "It is striking how *quickly* (log) price levels in Austria, Hungary, Poland, and Germany leveled off after rising so quickly.\n",
    "\n",
    "These “sudden stops” are also revealed by the permanent drops in three-month moving averages of inflation for the four countries plotted above.\n",
    "\n",
    "In addition, the US dollar exchange rates for each of the four countries shadowed their price levels.\n",
    "\n",
    ">**Note**\n",
    ">\n",
    ">This pattern is an instance of a force featured in the [purchasing power parity](https://en.wikipedia.org/wiki/Purchasing_power_parity) theory of exchange rates.\n",
    "\n",
    "Each of these big inflations seemed to have “stopped on a dime”.\n",
    "\n",
    "Chapter 3 of [[Sargent and Velde, 2002](https://intro.quantecon.org/zreferences.html#id10)] offers an explanation for this remarkable pattern.\n",
    "\n",
    "In a nutshell, here is the explanation offered there.\n",
    "\n",
    "After World War I, the United States was on a gold standard.\n",
    "\n",
    "The US government stood ready to convert a dollar into a specified amount of gold on demand.\n",
    "\n",
    "Immediately after World War I, Hungary, Austria, Poland, and Germany were not on the gold standard.\n",
    "\n",
    "Their currencies were “fiat” or “unbacked”, meaning that they were not backed by credible government promises to convert them into gold or silver coins on demand.\n",
    "\n",
    "The governments printed new paper notes to pay for goods and services.\n",
    "\n",
    ">**Note**\n",
    ">\n",
    ">Technically the notes were “backed” mainly by treasury bills. But people could not expect that those treasury bills would be paid off by levying taxes, but instead by printing more notes or treasury bills.\n",
    "\n",
    "This was done on such a scale that it led to a depreciation of the currencies of spectacular proportions.\n",
    "\n",
    "In the end, the German mark stabilized at 1 trillion ($ 10^{12} $) paper marks to the prewar gold mark, the Polish mark at 1.8 million paper marks to the gold zloty, the Austrian crown at 14,400 paper crowns to the prewar Austro-Hungarian crown, and the Hungarian krone at 14,500 paper crowns to the prewar Austro-Hungarian crown.\n",
    "\n",
    "Chapter 3 of [[Sargent and Velde, 2002](https://intro.quantecon.org/zreferences.html#id10)]  described deliberate changes in policy that Hungary, Austria, Poland, and Germany made to end their hyperinflations.\n",
    "\n",
    "Each government stopped printing money to pay for goods and services once again and made its currency convertible to the US dollar or the UK pound.\n",
    "\n",
    "The story told in [[Sargent and Velde, 2002](https://intro.quantecon.org/zreferences.html#id10)] is grounded in a “monetarist theory of the price level” described in [A Monetarist Theory of Price Levels](https://intro.quantecon.org/cagan_ree.html) and [Monetarist Theory of Price Levels with Adaptive Expectations](https://intro.quantecon.org/cagan_adaptive.html).\n",
    "\n",
    "Those lectures discuss theories about what owners of those rapidly depreciating currencies were thinking and how their beliefs shaped responses of inflation to government monetary and fiscal policies."
   ]
  }
 ],
 "metadata": {
  "date": 1723441249.9857943,
  "filename": "inflation_history.md",
  "kernelspec": {
   "display_name": "Python",
   "language": "python3",
   "name": "python3"
  },
  "title": "Price Level Histories"
 },
 "nbformat": 4,
 "nbformat_minor": 5
}