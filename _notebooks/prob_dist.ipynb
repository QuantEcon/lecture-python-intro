{
 "cells": [
  {
   "cell_type": "markdown",
   "id": "0c90f7bb",
   "metadata": {},
   "source": [
    "# Distributions and Probabilities\n",
    "\n",
    "\n",
    "<a id='index-0'></a>"
   ]
  },
  {
   "cell_type": "markdown",
   "id": "6446f420",
   "metadata": {},
   "source": [
    "## Contents\n",
    "\n",
    "- [Distributions and Probabilities](#Distributions-and-Probabilities)  \n",
    "  - [Outline](#Outline)  \n",
    "  - [Common distributions](#Common-distributions)  \n",
    "  - [Observed distributions](#Observed-distributions)  "
   ]
  },
  {
   "cell_type": "markdown",
   "id": "735f5514",
   "metadata": {},
   "source": [
    "## Outline\n",
    "\n",
    "In this lecture we give a quick introduction to data and probability distributions using Python"
   ]
  },
  {
   "cell_type": "markdown",
   "id": "6535c04b",
   "metadata": {
    "hide-output": false
   },
   "source": [
    "```ipython3\n",
    "!pip install --upgrade yfinance  \n",
    "```\n"
   ]
  },
  {
   "cell_type": "markdown",
   "id": "2626a025",
   "metadata": {
    "hide-output": false
   },
   "source": [
    "```ipython3\n",
    "import matplotlib.pyplot as plt\n",
    "import pandas as pd\n",
    "import numpy as np\n",
    "import yfinance as yf\n",
    "import scipy.stats\n",
    "import seaborn as sns\n",
    "```\n"
   ]
  },
  {
   "cell_type": "markdown",
   "id": "26b4c165",
   "metadata": {},
   "source": [
    "## Common distributions\n",
    "\n",
    "In this section we recall the definitions of some well-known distributions and show how to manipulate them with SciPy."
   ]
  },
  {
   "cell_type": "markdown",
   "id": "a4cbc514",
   "metadata": {},
   "source": [
    "### Discrete distributions\n",
    "\n",
    "Let’s start with discrete distributions.\n",
    "\n",
    "A discrete distribution is defined by a set of numbers $ S = \\{x_1, \\ldots, x_n\\} $ and a **probability mass function** (PMF) on $ S $, which is a function $ p $ from $ S $ to $ [0,1] $ with the property\n",
    "\n",
    "$$\n",
    "\\sum_{i=1}^n p(x_i) = 1\n",
    "$$\n",
    "\n",
    "We say that a random variable $ X $ **has distribution** $ p $ if $ X $ takes value $ x_i $ with probability $ p(x_i) $.\n",
    "\n",
    "That is,\n",
    "\n",
    "$$\n",
    "\\mathbb P\\{X = x_i\\} = p(x_i) \\quad \\text{for } i= 1, \\ldots, n\n",
    "$$\n",
    "\n",
    "The **mean** or **expected value** of a random variable $ X $ with distribution $ p $ is\n",
    "\n",
    "$$\n",
    "\\mathbb E X = \\sum_{i=1}^n x_i p(x_i)\n",
    "$$\n",
    "\n",
    "Expectation is also called the *first moment* of the distribution.\n",
    "\n",
    "We also refer to this number as the mean of the distribution (represented by) $ p $.\n",
    "\n",
    "The **variance** of $ X $ is defined as\n",
    "\n",
    "$$\n",
    "\\mathbb V X = \\sum_{i=1}^n (x_i - \\mathbb E X)^2 p(x_i)\n",
    "$$\n",
    "\n",
    "Variance is also called the *second central moment* of the distribution.\n",
    "\n",
    "The **cumulative distribution function** (CDF) of $ X $ is defined by\n",
    "\n",
    "$$\n",
    "F(x) = \\mathbb P\\{X \\leq x\\}\n",
    "         = \\sum_{i=1}^n \\mathbb 1\\{x_i \\leq x\\} p(x_i)\n",
    "$$\n",
    "\n",
    "Here $ \\mathbb 1\\{ \\textrm{statement} \\} = 1 $ if “statement” is true and zero otherwise.\n",
    "\n",
    "Hence the second term takes all $ x_i \\leq x $ and sums their probabilities."
   ]
  },
  {
   "cell_type": "markdown",
   "id": "58836152",
   "metadata": {},
   "source": [
    "#### Uniform distribution\n",
    "\n",
    "One simple example is the **uniform distribution**, where $ p(x_i) = 1/n $ for all $ n $.\n",
    "\n",
    "We can import the uniform distribution on $ S = \\{1, \\ldots, n\\} $  from SciPy like so:"
   ]
  },
  {
   "cell_type": "markdown",
   "id": "e8498ca6",
   "metadata": {
    "hide-output": false
   },
   "source": [
    "```ipython3\n",
    "n = 10\n",
    "u = scipy.stats.randint(1, n+1)\n",
    "```\n"
   ]
  },
  {
   "cell_type": "markdown",
   "id": "2ec6526f",
   "metadata": {},
   "source": [
    "Here’s the mean and variance"
   ]
  },
  {
   "cell_type": "markdown",
   "id": "db8bc123",
   "metadata": {
    "hide-output": false
   },
   "source": [
    "```ipython3\n",
    "u.mean(), u.var()\n",
    "```\n"
   ]
  },
  {
   "cell_type": "markdown",
   "id": "6b45add0",
   "metadata": {},
   "source": [
    "The formula for the mean is $ (n+1)/2 $, and the formula for the variance is $ (n^2 - 1)/12 $.\n",
    "\n",
    "Now let’s evaluate the PMF"
   ]
  },
  {
   "cell_type": "markdown",
   "id": "8d54679e",
   "metadata": {
    "hide-output": false
   },
   "source": [
    "```ipython3\n",
    "u.pmf(1)\n",
    "```\n"
   ]
  },
  {
   "cell_type": "markdown",
   "id": "03b2e10d",
   "metadata": {
    "hide-output": false
   },
   "source": [
    "```ipython3\n",
    "u.pmf(2)\n",
    "```\n"
   ]
  },
  {
   "cell_type": "markdown",
   "id": "ed536cef",
   "metadata": {},
   "source": [
    "Here’s a plot of the probability mass function:"
   ]
  },
  {
   "cell_type": "markdown",
   "id": "ea3833fe",
   "metadata": {
    "hide-output": false
   },
   "source": [
    "```ipython3\n",
    "fig, ax = plt.subplots()\n",
    "S = np.arange(1, n+1)\n",
    "ax.plot(S, u.pmf(S), linestyle='', marker='o', alpha=0.8, ms=4)\n",
    "ax.vlines(S, 0, u.pmf(S), lw=0.2)\n",
    "ax.set_xticks(S)\n",
    "plt.show()\n",
    "```\n"
   ]
  },
  {
   "cell_type": "markdown",
   "id": "2cb2aa08",
   "metadata": {},
   "source": [
    "Here’s a plot of the CDF:"
   ]
  },
  {
   "cell_type": "markdown",
   "id": "09e02750",
   "metadata": {
    "hide-output": false
   },
   "source": [
    "```ipython3\n",
    "fig, ax = plt.subplots()\n",
    "S = np.arange(1, n+1)\n",
    "ax.step(S, u.cdf(S))\n",
    "ax.vlines(S, 0, u.cdf(S), lw=0.2)\n",
    "ax.set_xticks(S)\n",
    "plt.show()\n",
    "```\n"
   ]
  },
  {
   "cell_type": "markdown",
   "id": "8ec999c9",
   "metadata": {},
   "source": [
    "The CDF jumps up by $ p(x_i) $ and $ x_i $."
   ]
  },
  {
   "cell_type": "markdown",
   "id": "9b95fba5",
   "metadata": {},
   "source": [
    "#### Exercise 13.1\n",
    "\n",
    "Calculate the mean and variance directly from the PMF, using the expressions given above.\n",
    "\n",
    "Check that your answers agree with `u.mean()` and `u.var()`."
   ]
  },
  {
   "cell_type": "markdown",
   "id": "436090cf",
   "metadata": {},
   "source": [
    "#### Binomial distribution\n",
    "\n",
    "Another useful (and more interesting) distribution is the **binomial distribution** on $ S=\\{0, \\ldots, n\\} $, which has PMF\n",
    "\n",
    "$$\n",
    "p(i) = \\binom{n}{i} \\theta^i (1-\\theta)^{n-i}\n",
    "$$\n",
    "\n",
    "Here $ \\theta \\in [0,1] $ is a parameter.\n",
    "\n",
    "The interpretation of $ p(i) $ is: the number of successes in $ n $ independent trials with success probability $ \\theta $.\n",
    "\n",
    "(If $ \\theta=0.5 $, this is “how many heads in $ n $ flips of a fair coin”)\n",
    "\n",
    "The mean and variance are"
   ]
  },
  {
   "cell_type": "markdown",
   "id": "883bf61e",
   "metadata": {
    "hide-output": false
   },
   "source": [
    "```ipython3\n",
    "n = 10\n",
    "θ = 0.5\n",
    "u = scipy.stats.binom(n, θ)\n",
    "```\n"
   ]
  },
  {
   "cell_type": "markdown",
   "id": "2a1115ca",
   "metadata": {
    "hide-output": false
   },
   "source": [
    "```ipython3\n",
    "u.mean(), u.var()\n",
    "```\n"
   ]
  },
  {
   "cell_type": "markdown",
   "id": "9bec4051",
   "metadata": {},
   "source": [
    "The formula for the mean is $ n \\theta $ and the formula for the variance is $ n \\theta (1-\\theta) $.\n",
    "\n",
    "Here’s the PDF"
   ]
  },
  {
   "cell_type": "markdown",
   "id": "9817ea28",
   "metadata": {
    "hide-output": false
   },
   "source": [
    "```ipython3\n",
    "u.pmf(1)\n",
    "```\n"
   ]
  },
  {
   "cell_type": "markdown",
   "id": "c866ac9a",
   "metadata": {
    "hide-output": false
   },
   "source": [
    "```ipython3\n",
    "fig, ax = plt.subplots()\n",
    "S = np.arange(1, n+1)\n",
    "ax.plot(S, u.pmf(S), linestyle='', marker='o', alpha=0.8, ms=4)\n",
    "ax.vlines(S, 0, u.pmf(S), lw=0.2)\n",
    "ax.set_xticks(S)\n",
    "plt.show()\n",
    "```\n"
   ]
  },
  {
   "cell_type": "markdown",
   "id": "1c611e9d",
   "metadata": {},
   "source": [
    "Here’s the CDF"
   ]
  },
  {
   "cell_type": "markdown",
   "id": "e1464d9c",
   "metadata": {
    "hide-output": false
   },
   "source": [
    "```ipython3\n",
    "fig, ax = plt.subplots()\n",
    "S = np.arange(1, n+1)\n",
    "ax.step(S, u.cdf(S))\n",
    "ax.vlines(S, 0, u.cdf(S), lw=0.2)\n",
    "ax.set_xticks(S)\n",
    "plt.show()\n",
    "```\n"
   ]
  },
  {
   "cell_type": "markdown",
   "id": "823016c7",
   "metadata": {},
   "source": [
    "#### Exercise 13.2\n",
    "\n",
    "Using `u.pmf`, check that our definition of the CDF given above calculates the same function as `u.cdf`."
   ]
  },
  {
   "cell_type": "markdown",
   "id": "6d6b0adc",
   "metadata": {},
   "source": [
    "#### Solution to[ Exercise 13.2](#prob_ex2)\n",
    "\n",
    "Here is one solution"
   ]
  },
  {
   "cell_type": "markdown",
   "id": "6015b3be",
   "metadata": {
    "hide-output": false
   },
   "source": [
    "```ipython3\n",
    "fig, ax = plt.subplots()\n",
    "S = np.arange(1, n+1)\n",
    "u_sum = np.cumsum(u.pmf(S))\n",
    "ax.step(S, u_sum)\n",
    "ax.vlines(S, 0, u_sum, lw=0.2)\n",
    "ax.set_xticks(S)\n",
    "plt.show()\n",
    "```\n"
   ]
  },
  {
   "cell_type": "markdown",
   "id": "2fe6464a",
   "metadata": {},
   "source": [
    "We can see that the output graph is the same as the one above."
   ]
  },
  {
   "cell_type": "markdown",
   "id": "5599d8b4",
   "metadata": {},
   "source": [
    "#### Poisson distribution\n",
    "\n",
    "Poisson distribution on $ S = \\{0, 1, \\ldots\\} $ with parameter $ \\lambda > 0 $ has PMF\n",
    "\n",
    "$$\n",
    "p(i) = \\frac{\\lambda^i}{i!} e^{-\\lambda}\n",
    "$$\n",
    "\n",
    "The interpretation of $ p(i) $ is: the number of events in a fixed time interval, where the events occur at a constant rate $ \\lambda $ and independently of each other.\n",
    "\n",
    "The mean and variance are"
   ]
  },
  {
   "cell_type": "markdown",
   "id": "b679b84b",
   "metadata": {
    "hide-output": false
   },
   "source": [
    "```ipython3\n",
    "λ = 2\n",
    "u = scipy.stats.poisson(λ)\n",
    "```\n"
   ]
  },
  {
   "cell_type": "markdown",
   "id": "22520e32",
   "metadata": {
    "hide-output": false
   },
   "source": [
    "```ipython3\n",
    "u.mean(), u.var()\n",
    "```\n"
   ]
  },
  {
   "cell_type": "markdown",
   "id": "92d5d9a9",
   "metadata": {},
   "source": [
    "The the expectation of Poisson distribution is $ \\lambda $ and the variance is also $ \\lambda $.\n",
    "\n",
    "Here’s the PMF"
   ]
  },
  {
   "cell_type": "markdown",
   "id": "231c198a",
   "metadata": {
    "hide-output": false
   },
   "source": [
    "```ipython3\n",
    "λ = 2\n",
    "u = scipy.stats.poisson(λ)\n",
    "```\n"
   ]
  },
  {
   "cell_type": "markdown",
   "id": "d5635eb5",
   "metadata": {
    "hide-output": false
   },
   "source": [
    "```ipython3\n",
    "u.pmf(1)\n",
    "```\n"
   ]
  },
  {
   "cell_type": "markdown",
   "id": "bda63d8d",
   "metadata": {
    "hide-output": false
   },
   "source": [
    "```ipython3\n",
    "fig, ax = plt.subplots()\n",
    "S = np.arange(1, n+1)\n",
    "ax.plot(S, u.pmf(S), linestyle='', marker='o', alpha=0.8, ms=4)\n",
    "ax.vlines(S, 0, u.pmf(S), lw=0.2)\n",
    "ax.set_xticks(S)\n",
    "plt.show()\n",
    "```\n"
   ]
  },
  {
   "cell_type": "markdown",
   "id": "a2afa32a",
   "metadata": {},
   "source": [
    "### Continuous distributions\n",
    "\n",
    "Continuous distributions are represented by a **density function**, which is a function $ p $ over $ \\mathbb R $ (the set of all numbers) such that $ p(x) \\geq 0 $ for all $ x $ and\n",
    "\n",
    "$$\n",
    "\\int_{-\\infty}^\\infty p(x) dx = 1\n",
    "$$\n",
    "\n",
    "We say that random variable $ X $ has distribution $ p $ if\n",
    "\n",
    "$$\n",
    "\\mathbb P\\{a < X < b\\} = \\int_a^b p(x) dx\n",
    "$$\n",
    "\n",
    "for all $ a \\leq b $.\n",
    "\n",
    "The definition of the mean and variance of a random variable $ X $ with distribution $ p $ are the same as the discrete case, after replacing the sum with an integral.\n",
    "\n",
    "For example, the mean of $ X $ is\n",
    "\n",
    "$$\n",
    "\\mathbb E X = \\int_{-\\infty}^\\infty x p(x) dx\n",
    "$$\n",
    "\n",
    "The **cumulative distribution function** (CDF) of $ X $ is defined by\n",
    "\n",
    "$$\n",
    "F(x) = \\mathbb P\\{X \\leq x\\}\n",
    "         = \\int_{-\\infty}^x p(x) dx\n",
    "$$"
   ]
  },
  {
   "cell_type": "markdown",
   "id": "611c2e5a",
   "metadata": {},
   "source": [
    "#### Normal distribution\n",
    "\n",
    "Perhaps the most famous distribution is the **normal distribution**, which has density\n",
    "\n",
    "$$\n",
    "p(x) = \\frac{1}{\\sqrt{2\\pi}\\sigma}\n",
    "              \\exp\\left(-\\frac{(x-\\mu)^2}{2\\sigma^2}\\right)\n",
    "$$\n",
    "\n",
    "This distribution has two parameters, $ \\mu $ and $ \\sigma $.\n",
    "\n",
    "It can be shown that, for this distribution, the mean is $ \\mu $ and the variance is $ \\sigma^2 $.\n",
    "\n",
    "We can obtain the moments, PDF, and CDF of the normal density as follows:"
   ]
  },
  {
   "cell_type": "markdown",
   "id": "c72d8485",
   "metadata": {
    "hide-output": false
   },
   "source": [
    "```ipython3\n",
    "μ, σ = 0.0, 1.0\n",
    "u = scipy.stats.norm(μ, σ)\n",
    "```\n"
   ]
  },
  {
   "cell_type": "markdown",
   "id": "ba3cebf2",
   "metadata": {
    "hide-output": false
   },
   "source": [
    "```ipython3\n",
    "u.mean(), u.var()\n",
    "```\n"
   ]
  },
  {
   "cell_type": "markdown",
   "id": "2f3fd9f4",
   "metadata": {},
   "source": [
    "Here’s a plot of the density — the famous “bell-shaped curve”:"
   ]
  },
  {
   "cell_type": "markdown",
   "id": "6bbf3f37",
   "metadata": {
    "hide-output": false
   },
   "source": [
    "```ipython3\n",
    "μ_vals = [-1, 0, 1]\n",
    "σ_vals = [0.4, 1, 1.6]\n",
    "fig, ax = plt.subplots()\n",
    "x_grid = np.linspace(-4, 4, 200)\n",
    "\n",
    "for μ, σ in zip(μ_vals, σ_vals):\n",
    "    u = scipy.stats.norm(μ, σ)\n",
    "    ax.plot(x_grid, u.pdf(x_grid),\n",
    "    alpha=0.5, lw=2,\n",
    "    label=f'$\\mu={μ}, \\sigma={σ}$')\n",
    "\n",
    "plt.legend()\n",
    "plt.show()\n",
    "```\n"
   ]
  },
  {
   "cell_type": "markdown",
   "id": "edb28bd4",
   "metadata": {},
   "source": [
    "Here’s a plot of the CDF:"
   ]
  },
  {
   "cell_type": "markdown",
   "id": "be3c82b8",
   "metadata": {
    "hide-output": false
   },
   "source": [
    "```ipython3\n",
    "fig, ax = plt.subplots()\n",
    "for μ, σ in zip(μ_vals, σ_vals):\n",
    "    u = scipy.stats.norm(μ, σ)\n",
    "    ax.plot(x_grid, u.cdf(x_grid),\n",
    "    alpha=0.5, lw=2,\n",
    "    label=f'$\\mu={μ}, \\sigma={σ}$')\n",
    "    ax.set_ylim(0, 1)\n",
    "plt.legend()\n",
    "plt.show()\n",
    "```\n"
   ]
  },
  {
   "cell_type": "markdown",
   "id": "06df67f0",
   "metadata": {},
   "source": [
    "#### Lognormal distribution\n",
    "\n",
    "The **lognormal distribution** is a distribution on $ \\left(0, \\infty\\right) $ with density\n",
    "\n",
    "$$\n",
    "p(x) = \\frac{1}{\\sigma x \\sqrt{2\\pi}}\n",
    "        \\exp \\left(- \\frac{\\left(\\log x - \\mu\\right)^2}{2 \\sigma^2} \\right)\n",
    "$$\n",
    "\n",
    "This distribution has two parameters, $ \\mu $ and $ \\sigma $.\n",
    "\n",
    "It can be shown that, for this distribution, the mean is $ \\exp\\left(\\mu + \\sigma^2/2\\right) $ and the variance is $ \\left[\\exp\\left(\\sigma^2\\right) - 1\\right] \\exp\\left(2\\mu + \\sigma^2\\right) $.\n",
    "\n",
    "It has a nice interpretation: if $ X $ is lognormally distributed, then $ \\log X $ is normally distributed.\n",
    "\n",
    "It is often used to model variables that are “multiplicative” in nature, such as income or asset prices.\n",
    "\n",
    "We can obtain the moments, PDF, and CDF of the normal density as follows:"
   ]
  },
  {
   "cell_type": "markdown",
   "id": "236ee279",
   "metadata": {
    "hide-output": false
   },
   "source": [
    "```ipython3\n",
    "μ, σ = 0.0, 1.0\n",
    "u = scipy.stats.lognorm(s=σ, scale=np.exp(μ))\n",
    "```\n"
   ]
  },
  {
   "cell_type": "markdown",
   "id": "56268b4e",
   "metadata": {
    "hide-output": false
   },
   "source": [
    "```ipython3\n",
    "u.mean(), u.var()\n",
    "```\n"
   ]
  },
  {
   "cell_type": "markdown",
   "id": "5b57eca1",
   "metadata": {
    "hide-output": false
   },
   "source": [
    "```ipython3\n",
    "μ_vals = [-1, 0, 1]\n",
    "σ_vals = [0.25, 0.5, 1]\n",
    "x_grid = np.linspace(0, 3, 200)\n",
    "\n",
    "fig, ax = plt.subplots()\n",
    "for μ, σ in zip(μ_vals, σ_vals):\n",
    "    u = scipy.stats.lognorm(σ, scale=np.exp(μ))\n",
    "    ax.plot(x_grid, u.pdf(x_grid),\n",
    "    alpha=0.5, lw=2,\n",
    "    label=f'$\\mu={μ}, \\sigma={σ}$')\n",
    "\n",
    "plt.legend()\n",
    "plt.show()\n",
    "```\n"
   ]
  },
  {
   "cell_type": "markdown",
   "id": "18d340f0",
   "metadata": {
    "hide-output": false
   },
   "source": [
    "```ipython3\n",
    "fig, ax = plt.subplots()\n",
    "μ = 1\n",
    "for σ in σ_vals:\n",
    "    u = scipy.stats.norm(μ, σ)\n",
    "    ax.plot(x_grid, u.cdf(x_grid),\n",
    "    alpha=0.5, lw=2,\n",
    "    label=f'$\\mu={μ}, \\sigma={σ}$')\n",
    "    ax.set_ylim(0, 1)\n",
    "    ax.set_xlim(0, 3)\n",
    "plt.legend()\n",
    "plt.show()\n",
    "```\n"
   ]
  },
  {
   "cell_type": "markdown",
   "id": "ceb5fd3e",
   "metadata": {},
   "source": [
    "#### Exponential distribution\n",
    "\n",
    "The **exponential distribution** is a distribution on $ \\left(0, \\infty\\right) $ with density\n",
    "\n",
    "$$\n",
    "p(x) = \\lambda \\exp \\left( - \\lambda x \\right)\n",
    "$$\n",
    "\n",
    "This distribution has one parameter, $ \\lambda $.\n",
    "\n",
    "It is related to the Poisson distribution as it describes the distribution of the length of the time interval between two consecutive events in a Poisson process.\n",
    "\n",
    "It can be shown that, for this distribution, the mean is $ 1/\\lambda $ and the variance is $ 1/\\lambda^2 $.\n",
    "\n",
    "We can obtain the moments, PDF, and CDF of the normal density as follows:"
   ]
  },
  {
   "cell_type": "markdown",
   "id": "03880b81",
   "metadata": {
    "hide-output": false
   },
   "source": [
    "```ipython3\n",
    "λ = 1.0\n",
    "u = scipy.stats.expon(scale=1/λ)\n",
    "```\n"
   ]
  },
  {
   "cell_type": "markdown",
   "id": "a7116ff8",
   "metadata": {
    "hide-output": false
   },
   "source": [
    "```ipython3\n",
    "u.mean(), u.var()\n",
    "```\n"
   ]
  },
  {
   "cell_type": "markdown",
   "id": "64764f1d",
   "metadata": {
    "hide-output": false
   },
   "source": [
    "```ipython3\n",
    "fig, ax = plt.subplots()\n",
    "λ_vals = [0.5, 1, 2]\n",
    "x_grid = np.linspace(0, 6, 200)\n",
    "\n",
    "for λ in λ_vals:\n",
    "    u = scipy.stats.expon(scale=1/λ)\n",
    "    ax.plot(x_grid, u.pdf(x_grid),\n",
    "    alpha=0.5, lw=2,\n",
    "    label=f'$\\lambda={λ}$')\n",
    "plt.legend()\n",
    "plt.show()\n",
    "```\n"
   ]
  },
  {
   "cell_type": "markdown",
   "id": "74d138fe",
   "metadata": {
    "hide-output": false
   },
   "source": [
    "```ipython3\n",
    "fig, ax = plt.subplots()\n",
    "for λ in λ_vals:\n",
    "    u = scipy.stats.expon(scale=1/λ)\n",
    "    ax.plot(x_grid, u.cdf(x_grid),\n",
    "    alpha=0.5, lw=2,\n",
    "    label=f'$\\lambda={λ}$')\n",
    "    ax.set_ylim(0, 1)\n",
    "plt.legend()\n",
    "plt.show()\n",
    "```\n"
   ]
  },
  {
   "cell_type": "markdown",
   "id": "d9ff5274",
   "metadata": {},
   "source": [
    "#### Beta distribution\n",
    "\n",
    "The **beta distribution** is a distribution on $ \\left(0, 1\\right) $ with density\n",
    "\n",
    "$$\n",
    "p(x) = \\frac{\\Gamma(\\alpha + \\beta)}{\\Gamma(\\alpha) \\Gamma(\\beta)}\n",
    "        x^{\\alpha - 1} (1 - x)^{\\beta - 1}\n",
    "$$\n",
    "\n",
    "where $ \\Gamma $ is the gamma function ($ \\Gamma(n) = (n - 1)! $ for $ n \\in \\mathbb{N} $).\n",
    "\n",
    "This distribution has two parameters, $ \\alpha $ and $ \\beta $.\n",
    "\n",
    "It has a nice interpretation: if $ X $ is beta distributed, then $ X $ is the probability of success in a Bernoulli trial with a number of successes $ \\alpha $ and a number of failures $ \\beta $.\n",
    "\n",
    "For example, if $ \\alpha = \\beta = 1 $, then the beta distribution is uniform on $ \\left(0, 1\\right) $ as the number of successes and failures are both 1.\n",
    "\n",
    "While, if $ \\alpha = 3 $ and $ \\beta = 2 $, then the beta distribution is located more towards 1 as there are more successes than failures.\n",
    "\n",
    "It can be shown that, for this distribution, the mean is $ \\alpha / (\\alpha + \\beta) $ and\n",
    "the variance is $ \\alpha \\beta / (\\alpha + \\beta)^2 (\\alpha + \\beta + 1) $.\n",
    "\n",
    "We can obtain the moments, PDF, and CDF of the normal density as follows:"
   ]
  },
  {
   "cell_type": "markdown",
   "id": "b48eac04",
   "metadata": {
    "hide-output": false
   },
   "source": [
    "```ipython3\n",
    "α, β = 3.0, 1.0\n",
    "u = scipy.stats.beta(α, β)\n",
    "```\n"
   ]
  },
  {
   "cell_type": "markdown",
   "id": "0eb2ea45",
   "metadata": {
    "hide-output": false
   },
   "source": [
    "```ipython3\n",
    "u.mean(), u.var()\n",
    "```\n"
   ]
  },
  {
   "cell_type": "markdown",
   "id": "0195b74a",
   "metadata": {
    "hide-output": false
   },
   "source": [
    "```ipython3\n",
    "α_vals = [0.5, 1, 5, 25, 3]\n",
    "β_vals = [3, 1, 10, 20, 0.5]\n",
    "x_grid = np.linspace(0, 1, 200)\n",
    "\n",
    "fig, ax = plt.subplots()\n",
    "for α, β in zip(α_vals, β_vals):\n",
    "    u = scipy.stats.beta(α, β)\n",
    "    ax.plot(x_grid, u.pdf(x_grid),\n",
    "    alpha=0.5, lw=2,\n",
    "    label=fr'$\\alpha={α}, \\beta={β}$')\n",
    "plt.legend()\n",
    "plt.show()\n",
    "```\n"
   ]
  },
  {
   "cell_type": "markdown",
   "id": "3b038d3f",
   "metadata": {
    "hide-output": false
   },
   "source": [
    "```ipython3\n",
    "fig, ax = plt.subplots()\n",
    "for α, β in zip(α_vals, β_vals):\n",
    "    u = scipy.stats.beta(α, β)\n",
    "    ax.plot(x_grid, u.cdf(x_grid),\n",
    "    alpha=0.5, lw=2,\n",
    "    label=fr'$\\alpha={α}, \\beta={β}$')\n",
    "    ax.set_ylim(0, 1)\n",
    "plt.legend()\n",
    "plt.show()\n",
    "```\n"
   ]
  },
  {
   "cell_type": "markdown",
   "id": "23563b7c",
   "metadata": {},
   "source": [
    "#### Gamma distribution\n",
    "\n",
    "The **gamma distribution** is a distribution on $ \\left(0, \\infty\\right) $ with density\n",
    "\n",
    "$$\n",
    "p(x) = \\frac{\\beta^\\alpha}{\\Gamma(\\alpha)}\n",
    "        x^{\\alpha - 1} \\exp(-\\beta x)\n",
    "$$\n",
    "\n",
    "This distribution has two parameters, $ \\alpha $ and $ \\beta $.\n",
    "\n",
    "It can be shown that, for this distribution, the mean is $ \\alpha / \\beta $ and the variance is $ \\alpha / \\beta^2 $.\n",
    "\n",
    "One interpretation is that if $ X $ is gamma distributed, then $ X $ is the sum of $ \\alpha $ independent exponentially distributed random variables with mean $ 1/\\beta $.\n",
    "\n",
    "We can obtain the moments, PDF, and CDF of the normal density as follows:"
   ]
  },
  {
   "cell_type": "markdown",
   "id": "a64a4a0b",
   "metadata": {
    "hide-output": false
   },
   "source": [
    "```ipython3\n",
    "α, β = 3.0, 2.0\n",
    "u = scipy.stats.gamma(α, scale=1/β)\n",
    "```\n"
   ]
  },
  {
   "cell_type": "markdown",
   "id": "bae4df46",
   "metadata": {
    "hide-output": false
   },
   "source": [
    "```ipython3\n",
    "u.mean(), u.var()\n",
    "```\n"
   ]
  },
  {
   "cell_type": "markdown",
   "id": "297c4ad5",
   "metadata": {
    "hide-output": false
   },
   "source": [
    "```ipython3\n",
    "α_vals = [1, 3, 5, 10]\n",
    "β_vals = [3, 5, 3, 3]\n",
    "x_grid = np.linspace(0, 7, 200)\n",
    "\n",
    "fig, ax = plt.subplots()\n",
    "for α, β in zip(α_vals, β_vals):\n",
    "    u = scipy.stats.gamma(α, scale=1/β)\n",
    "    ax.plot(x_grid, u.pdf(x_grid),\n",
    "    alpha=0.5, lw=2,\n",
    "    label=fr'$\\alpha={α}, \\beta={β}$')\n",
    "plt.legend()\n",
    "plt.show()\n",
    "```\n"
   ]
  },
  {
   "cell_type": "markdown",
   "id": "fcebc23f",
   "metadata": {
    "hide-output": false
   },
   "source": [
    "```ipython3\n",
    "fig, ax = plt.subplots()\n",
    "for α, β in zip(α_vals, β_vals):\n",
    "    u = scipy.stats.gamma(α, scale=1/β)\n",
    "    ax.plot(x_grid, u.cdf(x_grid),\n",
    "    alpha=0.5, lw=2,\n",
    "    label=fr'$\\alpha={α}, \\beta={β}$')\n",
    "    ax.set_ylim(0, 1)\n",
    "plt.legend()\n",
    "plt.show()\n",
    "```\n"
   ]
  },
  {
   "cell_type": "markdown",
   "id": "2da461c1",
   "metadata": {},
   "source": [
    "## Observed distributions\n",
    "\n",
    "Sometimes we refer to observed data or measurements as “distributions”.\n",
    "\n",
    "For example, let’s say we observe the income of 10 people over a year:"
   ]
  },
  {
   "cell_type": "markdown",
   "id": "c05c67e9",
   "metadata": {
    "hide-output": false
   },
   "source": [
    "```ipython3\n",
    "data = [['Hiroshi', 1200], \n",
    "        ['Ako', 1210], \n",
    "        ['Emi', 1400],\n",
    "        ['Daiki', 990],\n",
    "        ['Chiyo', 1530],\n",
    "        ['Taka', 1210],\n",
    "        ['Katsuhiko', 1240],\n",
    "        ['Daisuke', 1124],\n",
    "        ['Yoshi', 1330],\n",
    "        ['Rie', 1340]]\n",
    "\n",
    "df = pd.DataFrame(data, columns=['name', 'income'])\n",
    "df\n",
    "```\n"
   ]
  },
  {
   "cell_type": "markdown",
   "id": "f596c803",
   "metadata": {},
   "source": [
    "In this situation, we might refer to the set of their incomes as the “income distribution.”\n",
    "\n",
    "The terminology is confusing because this is not the same thing as a probability distribution — it’s just a collection of numbers.\n",
    "\n",
    "Below we explore some observed distributions.\n",
    "\n",
    "We will see that there are connections between observed distributions—like the income distribution above—and probability distributions, as we’ll see below."
   ]
  },
  {
   "cell_type": "markdown",
   "id": "644453ca",
   "metadata": {},
   "source": [
    "### Summary statistics\n",
    "\n",
    "Suppose we have an observed distribution with values $ \\{x_1, \\ldots, x_n\\} $\n",
    "\n",
    "The **sample mean** of this distribution is defined as\n",
    "\n",
    "$$\n",
    "\\bar x = \\frac{1}{n} \\sum_{i=1}^n x_i\n",
    "$$\n",
    "\n",
    "The **sample variance** is defined as\n",
    "\n",
    "$$\n",
    "\\frac{1}{n} \\sum_{i=1}^n (x_i - \\bar x)^2\n",
    "$$\n",
    "\n",
    "For the income distribution given above, we can calculate these numbers via"
   ]
  },
  {
   "cell_type": "markdown",
   "id": "226271a7",
   "metadata": {
    "hide-output": false
   },
   "source": [
    "```ipython3\n",
    "x = np.asarray(df['income'])\n",
    "```\n"
   ]
  },
  {
   "cell_type": "markdown",
   "id": "852ce364",
   "metadata": {
    "hide-output": false
   },
   "source": [
    "```ipython3\n",
    "x.mean(), x.var()\n",
    "```\n"
   ]
  },
  {
   "cell_type": "markdown",
   "id": "f4f0d9e8",
   "metadata": {},
   "source": [
    "### Exercise 13.3\n",
    "\n",
    "Check that the formulas given above produce the same numbers."
   ]
  },
  {
   "cell_type": "markdown",
   "id": "ede40613",
   "metadata": {},
   "source": [
    "### Visualization\n",
    "\n",
    "Let’s look at different ways that we can visualize one or more observed distributions.\n",
    "\n",
    "We will cover\n",
    "\n",
    "- histograms  \n",
    "- kernel density estimates and  \n",
    "- violin plots  "
   ]
  },
  {
   "cell_type": "markdown",
   "id": "accce12c",
   "metadata": {},
   "source": [
    "#### Histograms\n",
    "\n",
    "We can histogram the income distribution we just constructed as follows"
   ]
  },
  {
   "cell_type": "markdown",
   "id": "4c8d4f92",
   "metadata": {
    "hide-output": false
   },
   "source": [
    "```ipython3\n",
    "x = df['income']\n",
    "fig, ax = plt.subplots()\n",
    "ax.hist(x, bins=5, density=True, histtype='bar')\n",
    "plt.show()\n",
    "```\n"
   ]
  },
  {
   "cell_type": "markdown",
   "id": "8c5031a5",
   "metadata": {},
   "source": [
    "Let’s look at a distribution from real data.\n",
    "\n",
    "In particular, we will look at the monthly return on Amazon shares between 2000/1/1 and 2023/1/1.\n",
    "\n",
    "The monthly return is calculated as the percent change in the share price over each month.\n",
    "\n",
    "So we will have one observation for each month."
   ]
  },
  {
   "cell_type": "markdown",
   "id": "a27d9bb1",
   "metadata": {
    "hide-output": false
   },
   "source": [
    "```ipython3\n",
    "df = yf.download('AMZN', '2000-1-1', '2023-1-1', interval='1mo' )\n",
    "prices = df['Adj Close']\n",
    "data = prices.pct_change()[1:] * 100\n",
    "data.head()\n",
    "```\n"
   ]
  },
  {
   "cell_type": "markdown",
   "id": "d4cf8ee5",
   "metadata": {},
   "source": [
    "The first observation is the monthly return (percent change) over January 2000, which was"
   ]
  },
  {
   "cell_type": "markdown",
   "id": "6f366ea0",
   "metadata": {
    "hide-output": false
   },
   "source": [
    "```ipython3\n",
    "data[0] \n",
    "```\n"
   ]
  },
  {
   "cell_type": "markdown",
   "id": "193991e8",
   "metadata": {},
   "source": [
    "Let’s turn the return observations into an array and histogram it."
   ]
  },
  {
   "cell_type": "markdown",
   "id": "3ce83784",
   "metadata": {
    "hide-output": false
   },
   "source": [
    "```ipython3\n",
    "x_amazon = np.asarray(data)\n",
    "```\n"
   ]
  },
  {
   "cell_type": "markdown",
   "id": "79178004",
   "metadata": {
    "hide-output": false
   },
   "source": [
    "```ipython3\n",
    "fig, ax = plt.subplots()\n",
    "ax.hist(x_amazon, bins=20)\n",
    "plt.show()\n",
    "```\n"
   ]
  },
  {
   "cell_type": "markdown",
   "id": "92b6be51",
   "metadata": {},
   "source": [
    "#### Kernel density estimates\n",
    "\n",
    "Kernel density estimate (KDE) is a non-parametric way to estimate and visualize the PDF of a distribution.\n",
    "\n",
    "KDE will generate a smooth curve that approximates the PDF."
   ]
  },
  {
   "cell_type": "markdown",
   "id": "0da5bace",
   "metadata": {
    "hide-output": false
   },
   "source": [
    "```ipython3\n",
    "fig, ax = plt.subplots()\n",
    "sns.kdeplot(x_amazon, ax=ax)\n",
    "plt.show()\n",
    "```\n"
   ]
  },
  {
   "cell_type": "markdown",
   "id": "c3397a4b",
   "metadata": {},
   "source": [
    "The smoothness of the KDE is dependent on how we choose the bandwidth."
   ]
  },
  {
   "cell_type": "markdown",
   "id": "46c91ded",
   "metadata": {
    "hide-output": false
   },
   "source": [
    "```ipython3\n",
    "fig, ax = plt.subplots()\n",
    "sns.kdeplot(x_amazon, ax=ax, bw_adjust=0.1, alpha=0.5, label=\"bw=0.1\")\n",
    "sns.kdeplot(x_amazon, ax=ax, bw_adjust=0.5, alpha=0.5, label=\"bw=0.5\")\n",
    "sns.kdeplot(x_amazon, ax=ax, bw_adjust=1, alpha=0.5, label=\"bw=1\")\n",
    "plt.legend()\n",
    "plt.show()\n",
    "```\n"
   ]
  },
  {
   "cell_type": "markdown",
   "id": "6d1eb98d",
   "metadata": {},
   "source": [
    "When we use a larger bandwidth, the KDE is smoother.\n",
    "\n",
    "A suitable bandwidth is not too smooth (underfitting) or too wiggly (overfitting)."
   ]
  },
  {
   "cell_type": "markdown",
   "id": "c370d11f",
   "metadata": {},
   "source": [
    "#### Violin plots\n",
    "\n",
    "Yet another way to display an observed distribution is via a violin plot."
   ]
  },
  {
   "cell_type": "markdown",
   "id": "724a524e",
   "metadata": {
    "hide-output": false
   },
   "source": [
    "```ipython3\n",
    "fig, ax = plt.subplots()\n",
    "ax.violinplot(x_amazon)\n",
    "plt.show()\n",
    "```\n"
   ]
  },
  {
   "cell_type": "markdown",
   "id": "1259c370",
   "metadata": {},
   "source": [
    "Violin plots are particularly useful when we want to compare different distributions.\n",
    "\n",
    "For example, let’s compare the monthly returns on Amazon shares with the monthly return on Apple shares."
   ]
  },
  {
   "cell_type": "markdown",
   "id": "acf20dfc",
   "metadata": {
    "hide-output": false
   },
   "source": [
    "```ipython3\n",
    "df = yf.download('AAPL', '2000-1-1', '2023-1-1', interval='1mo' )\n",
    "prices = df['Adj Close']\n",
    "data = prices.pct_change()[1:] * 100\n",
    "x_apple = np.asarray(data)\n",
    "```\n"
   ]
  },
  {
   "cell_type": "markdown",
   "id": "28b79fb6",
   "metadata": {
    "hide-output": false
   },
   "source": [
    "```ipython3\n",
    "fig, ax = plt.subplots()\n",
    "ax.violinplot([x_amazon, x_apple])\n",
    "plt.show()\n",
    "```\n"
   ]
  },
  {
   "cell_type": "markdown",
   "id": "076a8b74",
   "metadata": {},
   "source": [
    "### Connection to probability distributions\n",
    "\n",
    "Let’s discuss the connection between observed distributions and probability distributions.\n",
    "\n",
    "Sometimes it’s helpful to imagine that an observed distribution is generated by a particular probability distribution.\n",
    "\n",
    "For example, we might look at the returns from Amazon above and imagine that they were generated by a normal distribution.\n",
    "\n",
    "Even though this is not true, it might be a helpful way to think about the data.\n",
    "\n",
    "Here we match a normal distribution to the Amazon monthly returns by setting the sample mean to the mean of the normal distribution and the sample variance equal to the variance.\n",
    "\n",
    "Then we plot the density and the histogram."
   ]
  },
  {
   "cell_type": "markdown",
   "id": "55f8f5ab",
   "metadata": {
    "hide-output": false
   },
   "source": [
    "```ipython3\n",
    "μ = x_amazon.mean()\n",
    "σ_squared = x_amazon.var()\n",
    "σ = np.sqrt(σ_squared)\n",
    "u = scipy.stats.norm(μ, σ)\n",
    "```\n"
   ]
  },
  {
   "cell_type": "markdown",
   "id": "283e6e4d",
   "metadata": {
    "hide-output": false
   },
   "source": [
    "```ipython3\n",
    "x_grid = np.linspace(-50, 65, 200)\n",
    "fig, ax = plt.subplots()\n",
    "ax.plot(x_grid, u.pdf(x_grid))\n",
    "ax.hist(x_amazon, density=True, bins=40)\n",
    "plt.show()\n",
    "```\n"
   ]
  },
  {
   "cell_type": "markdown",
   "id": "8e83dcc3",
   "metadata": {},
   "source": [
    "The match between the histogram and the density is not very bad but also not very good.\n",
    "\n",
    "One reason is that the normal distribution is not really a good fit for this observed data — we will discuss this point again when we talk about [heavy tailed distributions](heavy_tails.ipynb#heavy-tail).\n",
    "\n",
    "Of course, if the data really *is* generated by the normal distribution, then the fit will be better.\n",
    "\n",
    "Let’s see this in action\n",
    "\n",
    "- first we generate random draws from the normal distribution  \n",
    "- then we histogram them and compare with the density.  "
   ]
  },
  {
   "cell_type": "markdown",
   "id": "e8f5286e",
   "metadata": {
    "hide-output": false
   },
   "source": [
    "```ipython3\n",
    "μ, σ = 0, 1\n",
    "u = scipy.stats.norm(μ, σ)\n",
    "N = 2000  # Number of observations\n",
    "x_draws = u.rvs(N)\n",
    "x_grid = np.linspace(-4, 4, 200)\n",
    "fig, ax = plt.subplots()\n",
    "ax.plot(x_grid, u.pdf(x_grid))\n",
    "ax.hist(x_draws, density=True, bins=40)\n",
    "plt.show()\n",
    "```\n"
   ]
  },
  {
   "cell_type": "markdown",
   "id": "3c0507a9",
   "metadata": {},
   "source": [
    "Note that if you keep increasing $ N $, which is the number of observations, the fit will get better and better.\n",
    "\n",
    "This convergence is a version of the “law of large numbers”, which we will discuss [later](lln_clt.ipynb#lln-mr)."
   ]
  }
 ],
 "metadata": {
  "date": 1686030531.0092661,
  "filename": "prob_dist.md",
  "kernelspec": {
   "display_name": "Python",
   "language": "python3",
   "name": "python3"
  },
  "title": "Distributions and Probabilities"
 },
 "nbformat": 4,
 "nbformat_minor": 5
}