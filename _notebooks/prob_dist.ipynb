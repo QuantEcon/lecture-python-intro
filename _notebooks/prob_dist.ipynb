{
 "cells": [
  {
   "cell_type": "markdown",
   "id": "ee171697",
   "metadata": {},
   "source": [
    "# Distributions and Probabilities\n",
    "\n",
    "\n",
    "<a id='index-0'></a>"
   ]
  },
  {
   "cell_type": "markdown",
   "id": "e0356ed9",
   "metadata": {},
   "source": [
    "## Outline\n",
    "\n",
    "In this lecture we give a quick introduction to data and probability distributions using Python."
   ]
  },
  {
   "cell_type": "code",
   "execution_count": null,
   "id": "e27bdff0",
   "metadata": {
    "hide-output": false
   },
   "outputs": [],
   "source": [
    "!pip install --upgrade yfinance  "
   ]
  },
  {
   "cell_type": "code",
   "execution_count": null,
   "id": "98f2d156",
   "metadata": {
    "hide-output": false
   },
   "outputs": [],
   "source": [
    "import matplotlib.pyplot as plt\n",
    "import pandas as pd\n",
    "import numpy as np\n",
    "import yfinance as yf\n",
    "import scipy.stats\n",
    "import seaborn as sns"
   ]
  },
  {
   "cell_type": "markdown",
   "id": "61e4c952",
   "metadata": {},
   "source": [
    "## Common distributions\n",
    "\n",
    "In this section we recall the definitions of some well-known distributions and explore how to manipulate them with SciPy."
   ]
  },
  {
   "cell_type": "markdown",
   "id": "f756e90e",
   "metadata": {},
   "source": [
    "### Discrete distributions\n",
    "\n",
    "Let’s start with discrete distributions.\n",
    "\n",
    "A discrete distribution is defined by a set of numbers $ S = \\{x_1, \\ldots, x_n\\} $ and a **probability mass function** (PMF) on $ S $, which is a function $ p $ from $ S $ to $ [0,1] $ with the property\n",
    "\n",
    "$$\n",
    "\\sum_{i=1}^n p(x_i) = 1\n",
    "$$\n",
    "\n",
    "We say that a random variable $ X $ **has distribution** $ p $ if $ X $ takes value $ x_i $ with probability $ p(x_i) $.\n",
    "\n",
    "That is,\n",
    "\n",
    "$$\n",
    "\\mathbb P\\{X = x_i\\} = p(x_i) \\quad \\text{for } i= 1, \\ldots, n\n",
    "$$\n",
    "\n",
    "The **mean** or **expected value** of a random variable $ X $ with distribution $ p $ is\n",
    "\n",
    "$$\n",
    "\\mathbb{E}[X] = \\sum_{i=1}^n x_i p(x_i)\n",
    "$$\n",
    "\n",
    "Expectation is also called the *first moment* of the distribution.\n",
    "\n",
    "We also refer to this number as the mean of the distribution (represented by) $ p $.\n",
    "\n",
    "The **variance** of $ X $ is defined as\n",
    "\n",
    "$$\n",
    "\\mathbb{V}[X] = \\sum_{i=1}^n (x_i - \\mathbb{E}[X])^2 p(x_i)\n",
    "$$\n",
    "\n",
    "Variance is also called the *second central moment* of the distribution.\n",
    "\n",
    "The **cumulative distribution function** (CDF) of $ X $ is defined by\n",
    "\n",
    "$$\n",
    "F(x) = \\mathbb{P}\\{X \\leq x\\}\n",
    "         = \\sum_{i=1}^n \\mathbb 1\\{x_i \\leq x\\} p(x_i)\n",
    "$$\n",
    "\n",
    "Here $ \\mathbb 1\\{ \\textrm{statement} \\} = 1 $ if “statement” is true and zero otherwise.\n",
    "\n",
    "Hence the second term takes all $ x_i \\leq x $ and sums their probabilities."
   ]
  },
  {
   "cell_type": "markdown",
   "id": "27b9bc16",
   "metadata": {},
   "source": [
    "#### Uniform distribution\n",
    "\n",
    "One simple example is the **uniform distribution**, where $ p(x_i) = 1/n $ for all $ i $.\n",
    "\n",
    "We can import the uniform distribution on $ S = \\{1, \\ldots, n\\} $  from SciPy like so:"
   ]
  },
  {
   "cell_type": "code",
   "execution_count": null,
   "id": "e698f0fb",
   "metadata": {
    "hide-output": false
   },
   "outputs": [],
   "source": [
    "n = 10\n",
    "u = scipy.stats.randint(1, n+1)"
   ]
  },
  {
   "cell_type": "markdown",
   "id": "f7e9ed0e",
   "metadata": {},
   "source": [
    "Here’s the mean and variance:"
   ]
  },
  {
   "cell_type": "code",
   "execution_count": null,
   "id": "ecf1e445",
   "metadata": {
    "hide-output": false
   },
   "outputs": [],
   "source": [
    "u.mean(), u.var()"
   ]
  },
  {
   "cell_type": "markdown",
   "id": "4fa80e4f",
   "metadata": {},
   "source": [
    "The formula for the mean is $ (n+1)/2 $, and the formula for the variance is $ (n^2 - 1)/12 $.\n",
    "\n",
    "Now let’s evaluate the PMF:"
   ]
  },
  {
   "cell_type": "code",
   "execution_count": null,
   "id": "1604ba78",
   "metadata": {
    "hide-output": false
   },
   "outputs": [],
   "source": [
    "u.pmf(1)"
   ]
  },
  {
   "cell_type": "code",
   "execution_count": null,
   "id": "e56a913d",
   "metadata": {
    "hide-output": false
   },
   "outputs": [],
   "source": [
    "u.pmf(2)"
   ]
  },
  {
   "cell_type": "markdown",
   "id": "fc03fa93",
   "metadata": {},
   "source": [
    "Here’s a plot of the probability mass function:"
   ]
  },
  {
   "cell_type": "code",
   "execution_count": null,
   "id": "1d5b458f",
   "metadata": {
    "hide-output": false
   },
   "outputs": [],
   "source": [
    "fig, ax = plt.subplots()\n",
    "S = np.arange(1, n+1)\n",
    "ax.plot(S, u.pmf(S), linestyle='', marker='o', alpha=0.8, ms=4)\n",
    "ax.vlines(S, 0, u.pmf(S), lw=0.2)\n",
    "ax.set_xticks(S)\n",
    "plt.show()"
   ]
  },
  {
   "cell_type": "markdown",
   "id": "a3342e83",
   "metadata": {},
   "source": [
    "Here’s a plot of the CDF:"
   ]
  },
  {
   "cell_type": "code",
   "execution_count": null,
   "id": "51099332",
   "metadata": {
    "hide-output": false
   },
   "outputs": [],
   "source": [
    "fig, ax = plt.subplots()\n",
    "S = np.arange(1, n+1)\n",
    "ax.step(S, u.cdf(S))\n",
    "ax.vlines(S, 0, u.cdf(S), lw=0.2)\n",
    "ax.set_xticks(S)\n",
    "plt.show()"
   ]
  },
  {
   "cell_type": "markdown",
   "id": "42dd1cfd",
   "metadata": {},
   "source": [
    "The CDF jumps up by $ p(x_i) $ at $ x_i $."
   ]
  },
  {
   "cell_type": "markdown",
   "id": "71c60d27",
   "metadata": {},
   "source": [
    "#### Exercise 17.1\n",
    "\n",
    "Calculate the mean and variance for this parameterization (i.e., $ n=10 $)\n",
    "directly from the PMF, using the expressions given above.\n",
    "\n",
    "Check that your answers agree with `u.mean()` and `u.var()`."
   ]
  },
  {
   "cell_type": "markdown",
   "id": "b6225cdb",
   "metadata": {},
   "source": [
    "#### Bernoulli distribution\n",
    "\n",
    "Another useful distribution is the Bernoulli distribution on $ S = \\{0,1\\} $, which has PMF:\n",
    "\n",
    "$$\n",
    "p(x_i)=\n",
    "\\begin{cases}\n",
    "p & \\text{if \\$x_i = 1\\$}\\\\\n",
    "1-p & \\text{if \\$x_i = 0\\$}\n",
    "\\end{cases}\n",
    "$$\n",
    "\n",
    "Here $ x_i \\in S $ is the outcome of the random variable.\n",
    "\n",
    "We can import the Bernoulli distribution on $ S = \\{0,1\\} $ from SciPy like so:"
   ]
  },
  {
   "cell_type": "code",
   "execution_count": null,
   "id": "431c827e",
   "metadata": {
    "hide-output": false
   },
   "outputs": [],
   "source": [
    "p = 0.4 \n",
    "u = scipy.stats.bernoulli(p)"
   ]
  },
  {
   "cell_type": "markdown",
   "id": "bfa1238f",
   "metadata": {},
   "source": [
    "Here’s the mean and variance:"
   ]
  },
  {
   "cell_type": "code",
   "execution_count": null,
   "id": "2d4aac35",
   "metadata": {
    "hide-output": false
   },
   "outputs": [],
   "source": [
    "u.mean(), u.var()"
   ]
  },
  {
   "cell_type": "markdown",
   "id": "cf39631b",
   "metadata": {},
   "source": [
    "The formula for the mean is $ p $, and the formula for the variance is $ p(1-p) $.\n",
    "\n",
    "Now let’s evaluate the PMF:"
   ]
  },
  {
   "cell_type": "code",
   "execution_count": null,
   "id": "fcc06b7a",
   "metadata": {
    "hide-output": false
   },
   "outputs": [],
   "source": [
    "u.pmf(0)\n",
    "u.pmf(1)"
   ]
  },
  {
   "cell_type": "markdown",
   "id": "c6cb8a33",
   "metadata": {},
   "source": [
    "#### Binomial distribution\n",
    "\n",
    "Another useful (and more interesting) distribution is the **binomial distribution** on $ S=\\{0, \\ldots, n\\} $, which has PMF:\n",
    "\n",
    "$$\n",
    "p(i) = \\binom{n}{i} \\theta^i (1-\\theta)^{n-i}\n",
    "$$\n",
    "\n",
    "Here $ \\theta \\in [0,1] $ is a parameter.\n",
    "\n",
    "The interpretation of $ p(i) $ is: the probability of $ i $ successes in $ n $ independent trials with success probability $ \\theta $.\n",
    "\n",
    "For example, if $ \\theta=0.5 $, then $ p(i) $ is the probability of $ i $ heads in $ n $ flips of a fair coin.\n",
    "\n",
    "The mean and variance are:"
   ]
  },
  {
   "cell_type": "code",
   "execution_count": null,
   "id": "75cfa193",
   "metadata": {
    "hide-output": false
   },
   "outputs": [],
   "source": [
    "n = 10\n",
    "θ = 0.5\n",
    "u = scipy.stats.binom(n, θ)"
   ]
  },
  {
   "cell_type": "code",
   "execution_count": null,
   "id": "6aa3e040",
   "metadata": {
    "hide-output": false
   },
   "outputs": [],
   "source": [
    "u.mean(), u.var()"
   ]
  },
  {
   "cell_type": "markdown",
   "id": "3db7d50a",
   "metadata": {},
   "source": [
    "The formula for the mean is $ n \\theta $ and the formula for the variance is $ n \\theta (1-\\theta) $.\n",
    "\n",
    "Here’s the PMF:"
   ]
  },
  {
   "cell_type": "code",
   "execution_count": null,
   "id": "acdfb06f",
   "metadata": {
    "hide-output": false
   },
   "outputs": [],
   "source": [
    "u.pmf(1)"
   ]
  },
  {
   "cell_type": "code",
   "execution_count": null,
   "id": "3045715b",
   "metadata": {
    "hide-output": false
   },
   "outputs": [],
   "source": [
    "fig, ax = plt.subplots()\n",
    "S = np.arange(1, n+1)\n",
    "ax.plot(S, u.pmf(S), linestyle='', marker='o', alpha=0.8, ms=4)\n",
    "ax.vlines(S, 0, u.pmf(S), lw=0.2)\n",
    "ax.set_xticks(S)\n",
    "plt.show()"
   ]
  },
  {
   "cell_type": "markdown",
   "id": "57c4628f",
   "metadata": {},
   "source": [
    "Here’s the CDF:"
   ]
  },
  {
   "cell_type": "code",
   "execution_count": null,
   "id": "a58fad0a",
   "metadata": {
    "hide-output": false
   },
   "outputs": [],
   "source": [
    "fig, ax = plt.subplots()\n",
    "S = np.arange(1, n+1)\n",
    "ax.step(S, u.cdf(S))\n",
    "ax.vlines(S, 0, u.cdf(S), lw=0.2)\n",
    "ax.set_xticks(S)\n",
    "plt.show()"
   ]
  },
  {
   "cell_type": "markdown",
   "id": "1556ef23",
   "metadata": {},
   "source": [
    "#### Exercise 17.2\n",
    "\n",
    "Using `u.pmf`, check that our definition of the CDF given above calculates the same function as `u.cdf`."
   ]
  },
  {
   "cell_type": "markdown",
   "id": "23dc5388",
   "metadata": {},
   "source": [
    "#### Solution to[ Exercise 17.2](https://intro.quantecon.org/#prob_ex3)\n",
    "\n",
    "Here is one solution:"
   ]
  },
  {
   "cell_type": "code",
   "execution_count": null,
   "id": "be8c47e2",
   "metadata": {
    "hide-output": false
   },
   "outputs": [],
   "source": [
    "fig, ax = plt.subplots()\n",
    "S = np.arange(1, n+1)\n",
    "u_sum = np.cumsum(u.pmf(S))\n",
    "ax.step(S, u_sum)\n",
    "ax.vlines(S, 0, u_sum, lw=0.2)\n",
    "ax.set_xticks(S)\n",
    "plt.show()"
   ]
  },
  {
   "cell_type": "markdown",
   "id": "0eff61cf",
   "metadata": {},
   "source": [
    "We can see that the output graph is the same as the one above."
   ]
  },
  {
   "cell_type": "markdown",
   "id": "c36650c2",
   "metadata": {},
   "source": [
    "#### Poisson distribution\n",
    "\n",
    "Poisson distribution on $ S = \\{0, 1, \\ldots\\} $ with parameter $ \\lambda > 0 $ has PMF\n",
    "\n",
    "$$\n",
    "p(i) = \\frac{\\lambda^i}{i!} e^{-\\lambda}\n",
    "$$\n",
    "\n",
    "The interpretation of $ p(i) $ is: the probability of $ i $ events in a fixed time interval, where the events occur at a constant rate $ \\lambda $ and independently of each other.\n",
    "\n",
    "The mean and variance are:"
   ]
  },
  {
   "cell_type": "code",
   "execution_count": null,
   "id": "dd7b8982",
   "metadata": {
    "hide-output": false
   },
   "outputs": [],
   "source": [
    "λ = 2\n",
    "u = scipy.stats.poisson(λ)"
   ]
  },
  {
   "cell_type": "code",
   "execution_count": null,
   "id": "a2fbb02d",
   "metadata": {
    "hide-output": false
   },
   "outputs": [],
   "source": [
    "u.mean(), u.var()"
   ]
  },
  {
   "cell_type": "markdown",
   "id": "1fdb4e04",
   "metadata": {},
   "source": [
    "The the expectation of Poisson distribution is $ \\lambda $ and the variance is also $ \\lambda $.\n",
    "\n",
    "Here’s the PMF:"
   ]
  },
  {
   "cell_type": "code",
   "execution_count": null,
   "id": "d068038f",
   "metadata": {
    "hide-output": false
   },
   "outputs": [],
   "source": [
    "λ = 2\n",
    "u = scipy.stats.poisson(λ)"
   ]
  },
  {
   "cell_type": "code",
   "execution_count": null,
   "id": "7b2bb654",
   "metadata": {
    "hide-output": false
   },
   "outputs": [],
   "source": [
    "u.pmf(1)"
   ]
  },
  {
   "cell_type": "code",
   "execution_count": null,
   "id": "80c2051e",
   "metadata": {
    "hide-output": false
   },
   "outputs": [],
   "source": [
    "fig, ax = plt.subplots()\n",
    "S = np.arange(1, n+1)\n",
    "ax.plot(S, u.pmf(S), linestyle='', marker='o', alpha=0.8, ms=4)\n",
    "ax.vlines(S, 0, u.pmf(S), lw=0.2)\n",
    "ax.set_xticks(S)\n",
    "plt.show()"
   ]
  },
  {
   "cell_type": "markdown",
   "id": "110cd9cb",
   "metadata": {},
   "source": [
    "### Continuous distributions\n",
    "\n",
    "Continuous distributions are represented by a **probability density function**, which is a function $ p $ over $ \\mathbb R $ (the set of all real numbers) such that $ p(x) \\geq 0 $ for all $ x $ and\n",
    "\n",
    "$$\n",
    "\\int_{-\\infty}^\\infty p(x) dx = 1\n",
    "$$\n",
    "\n",
    "We say that random variable $ X $ has distribution $ p $ if\n",
    "\n",
    "$$\n",
    "\\mathbb P\\{a < X < b\\} = \\int_a^b p(x) dx\n",
    "$$\n",
    "\n",
    "for all $ a \\leq b $.\n",
    "\n",
    "The definition of the mean and variance of a random variable $ X $ with distribution $ p $ are the same as the discrete case, after replacing the sum with an integral.\n",
    "\n",
    "For example, the mean of $ X $ is\n",
    "\n",
    "$$\n",
    "\\mathbb{E}[X] = \\int_{-\\infty}^\\infty x p(x) dx\n",
    "$$\n",
    "\n",
    "The **cumulative distribution function** (CDF) of $ X $ is defined by\n",
    "\n",
    "$$\n",
    "F(x) = \\mathbb P\\{X \\leq x\\}\n",
    "         = \\int_{-\\infty}^x p(x) dx\n",
    "$$"
   ]
  },
  {
   "cell_type": "markdown",
   "id": "4bdd7e03",
   "metadata": {},
   "source": [
    "#### Normal distribution\n",
    "\n",
    "Perhaps the most famous distribution is the **normal distribution**, which has density\n",
    "\n",
    "$$\n",
    "p(x) = \\frac{1}{\\sqrt{2\\pi}\\sigma}\n",
    "              \\exp\\left(-\\frac{(x-\\mu)^2}{2\\sigma^2}\\right)\n",
    "$$\n",
    "\n",
    "This distribution has two parameters, $ \\mu $ and $ \\sigma $.\n",
    "\n",
    "It can be shown that, for this distribution, the mean is $ \\mu $ and the variance is $ \\sigma^2 $.\n",
    "\n",
    "We can obtain the moments, PDF and CDF of the normal density as follows:"
   ]
  },
  {
   "cell_type": "code",
   "execution_count": null,
   "id": "2d6ca286",
   "metadata": {
    "hide-output": false
   },
   "outputs": [],
   "source": [
    "μ, σ = 0.0, 1.0\n",
    "u = scipy.stats.norm(μ, σ)"
   ]
  },
  {
   "cell_type": "code",
   "execution_count": null,
   "id": "3a3b85a9",
   "metadata": {
    "hide-output": false
   },
   "outputs": [],
   "source": [
    "u.mean(), u.var()"
   ]
  },
  {
   "cell_type": "markdown",
   "id": "ee90cf11",
   "metadata": {},
   "source": [
    "Here’s a plot of the density — the famous “bell-shaped curve”:"
   ]
  },
  {
   "cell_type": "code",
   "execution_count": null,
   "id": "dd4f3224",
   "metadata": {
    "hide-output": false
   },
   "outputs": [],
   "source": [
    "μ_vals = [-1, 0, 1]\n",
    "σ_vals = [0.4, 1, 1.6]\n",
    "fig, ax = plt.subplots()\n",
    "x_grid = np.linspace(-4, 4, 200)\n",
    "\n",
    "for μ, σ in zip(μ_vals, σ_vals):\n",
    "    u = scipy.stats.norm(μ, σ)\n",
    "    ax.plot(x_grid, u.pdf(x_grid),\n",
    "    alpha=0.5, lw=2,\n",
    "    label=f'$\\mu={μ}, \\sigma={σ}$')\n",
    "\n",
    "plt.legend()\n",
    "plt.show()"
   ]
  },
  {
   "cell_type": "markdown",
   "id": "8993b1e4",
   "metadata": {},
   "source": [
    "Here’s a plot of the CDF:"
   ]
  },
  {
   "cell_type": "code",
   "execution_count": null,
   "id": "fdaa9c3c",
   "metadata": {
    "hide-output": false
   },
   "outputs": [],
   "source": [
    "fig, ax = plt.subplots()\n",
    "for μ, σ in zip(μ_vals, σ_vals):\n",
    "    u = scipy.stats.norm(μ, σ)\n",
    "    ax.plot(x_grid, u.cdf(x_grid),\n",
    "    alpha=0.5, lw=2,\n",
    "    label=f'$\\mu={μ}, \\sigma={σ}$')\n",
    "    ax.set_ylim(0, 1)\n",
    "plt.legend()\n",
    "plt.show()"
   ]
  },
  {
   "cell_type": "markdown",
   "id": "06e84a7a",
   "metadata": {},
   "source": [
    "#### Lognormal distribution\n",
    "\n",
    "The **lognormal distribution** is a distribution on $ \\left(0, \\infty\\right) $ with density\n",
    "\n",
    "$$\n",
    "p(x) = \\frac{1}{\\sigma x \\sqrt{2\\pi}}\n",
    "        \\exp \\left(- \\frac{\\left(\\log x - \\mu\\right)^2}{2 \\sigma^2} \\right)\n",
    "$$\n",
    "\n",
    "This distribution has two parameters, $ \\mu $ and $ \\sigma $.\n",
    "\n",
    "It can be shown that, for this distribution, the mean is $ \\exp\\left(\\mu + \\sigma^2/2\\right) $ and the variance is $ \\left[\\exp\\left(\\sigma^2\\right) - 1\\right] \\exp\\left(2\\mu + \\sigma^2\\right) $.\n",
    "\n",
    "It has a nice interpretation: if $ X $ is lognormally distributed, then $ \\log X $ is normally distributed.\n",
    "\n",
    "It is often used to model variables that are “multiplicative” in nature, such as income or asset prices.\n",
    "\n",
    "We can obtain the moments, PDF, and CDF of the lognormal density as follows:"
   ]
  },
  {
   "cell_type": "code",
   "execution_count": null,
   "id": "6f587b9b",
   "metadata": {
    "hide-output": false
   },
   "outputs": [],
   "source": [
    "μ, σ = 0.0, 1.0\n",
    "u = scipy.stats.lognorm(s=σ, scale=np.exp(μ))"
   ]
  },
  {
   "cell_type": "code",
   "execution_count": null,
   "id": "316295cd",
   "metadata": {
    "hide-output": false
   },
   "outputs": [],
   "source": [
    "u.mean(), u.var()"
   ]
  },
  {
   "cell_type": "code",
   "execution_count": null,
   "id": "29e2bfe7",
   "metadata": {
    "hide-output": false
   },
   "outputs": [],
   "source": [
    "μ_vals = [-1, 0, 1]\n",
    "σ_vals = [0.25, 0.5, 1]\n",
    "x_grid = np.linspace(0, 3, 200)\n",
    "\n",
    "fig, ax = plt.subplots()\n",
    "for μ, σ in zip(μ_vals, σ_vals):\n",
    "    u = scipy.stats.lognorm(σ, scale=np.exp(μ))\n",
    "    ax.plot(x_grid, u.pdf(x_grid),\n",
    "    alpha=0.5, lw=2,\n",
    "    label=f'$\\mu={μ}, \\sigma={σ}$')\n",
    "\n",
    "plt.legend()\n",
    "plt.show()"
   ]
  },
  {
   "cell_type": "code",
   "execution_count": null,
   "id": "5126ac54",
   "metadata": {
    "hide-output": false
   },
   "outputs": [],
   "source": [
    "fig, ax = plt.subplots()\n",
    "μ = 1\n",
    "for σ in σ_vals:\n",
    "    u = scipy.stats.norm(μ, σ)\n",
    "    ax.plot(x_grid, u.cdf(x_grid),\n",
    "    alpha=0.5, lw=2,\n",
    "    label=f'$\\mu={μ}, \\sigma={σ}$')\n",
    "    ax.set_ylim(0, 1)\n",
    "    ax.set_xlim(0, 3)\n",
    "plt.legend()\n",
    "plt.show()"
   ]
  },
  {
   "cell_type": "markdown",
   "id": "8062aae8",
   "metadata": {},
   "source": [
    "#### Exponential distribution\n",
    "\n",
    "The **exponential distribution** is a distribution on $ \\left(0, \\infty\\right) $ with density\n",
    "\n",
    "$$\n",
    "p(x) = \\lambda \\exp \\left( - \\lambda x \\right)\n",
    "$$\n",
    "\n",
    "This distribution has one parameter, $ \\lambda $.\n",
    "\n",
    "It is related to the Poisson distribution as it describes the distribution of the length of the time interval between two consecutive events in a Poisson process.\n",
    "\n",
    "It can be shown that, for this distribution, the mean is $ 1/\\lambda $ and the variance is $ 1/\\lambda^2 $.\n",
    "\n",
    "We can obtain the moments, PDF, and CDF of the exponential density as follows:"
   ]
  },
  {
   "cell_type": "code",
   "execution_count": null,
   "id": "057e025f",
   "metadata": {
    "hide-output": false
   },
   "outputs": [],
   "source": [
    "λ = 1.0\n",
    "u = scipy.stats.expon(scale=1/λ)"
   ]
  },
  {
   "cell_type": "code",
   "execution_count": null,
   "id": "4f5fdb2a",
   "metadata": {
    "hide-output": false
   },
   "outputs": [],
   "source": [
    "u.mean(), u.var()"
   ]
  },
  {
   "cell_type": "code",
   "execution_count": null,
   "id": "656a4fa0",
   "metadata": {
    "hide-output": false
   },
   "outputs": [],
   "source": [
    "fig, ax = plt.subplots()\n",
    "λ_vals = [0.5, 1, 2]\n",
    "x_grid = np.linspace(0, 6, 200)\n",
    "\n",
    "for λ in λ_vals:\n",
    "    u = scipy.stats.expon(scale=1/λ)\n",
    "    ax.plot(x_grid, u.pdf(x_grid),\n",
    "    alpha=0.5, lw=2,\n",
    "    label=f'$\\lambda={λ}$')\n",
    "plt.legend()\n",
    "plt.show()"
   ]
  },
  {
   "cell_type": "code",
   "execution_count": null,
   "id": "5e0d032e",
   "metadata": {
    "hide-output": false
   },
   "outputs": [],
   "source": [
    "fig, ax = plt.subplots()\n",
    "for λ in λ_vals:\n",
    "    u = scipy.stats.expon(scale=1/λ)\n",
    "    ax.plot(x_grid, u.cdf(x_grid),\n",
    "    alpha=0.5, lw=2,\n",
    "    label=f'$\\lambda={λ}$')\n",
    "    ax.set_ylim(0, 1)\n",
    "plt.legend()\n",
    "plt.show()"
   ]
  },
  {
   "cell_type": "markdown",
   "id": "62de0d7e",
   "metadata": {},
   "source": [
    "#### Beta distribution\n",
    "\n",
    "The **beta distribution** is a distribution on $ (0, 1) $ with density\n",
    "\n",
    "$$\n",
    "p(x) = \\frac{\\Gamma(\\alpha + \\beta)}{\\Gamma(\\alpha) \\Gamma(\\beta)}\n",
    "        x^{\\alpha - 1} (1 - x)^{\\beta - 1}\n",
    "$$\n",
    "\n",
    "where $ \\Gamma $ is the [gamma function](https://en.wikipedia.org/wiki/Gamma_function).\n",
    "\n",
    "(The role of the gamma function is just to normalize the density, so that it\n",
    "integrates to one.)\n",
    "\n",
    "This distribution has two parameters, $ \\alpha > 0 $ and $ \\beta > 0 $.\n",
    "\n",
    "It can be shown that, for this distribution, the mean is $ \\alpha / (\\alpha + \\beta) $ and\n",
    "the variance is $ \\alpha \\beta / (\\alpha + \\beta)^2 (\\alpha + \\beta + 1) $.\n",
    "\n",
    "We can obtain the moments, PDF, and CDF of the Beta density as follows:"
   ]
  },
  {
   "cell_type": "code",
   "execution_count": null,
   "id": "7e3ddf3c",
   "metadata": {
    "hide-output": false
   },
   "outputs": [],
   "source": [
    "α, β = 3.0, 1.0\n",
    "u = scipy.stats.beta(α, β)"
   ]
  },
  {
   "cell_type": "code",
   "execution_count": null,
   "id": "e2095c40",
   "metadata": {
    "hide-output": false
   },
   "outputs": [],
   "source": [
    "u.mean(), u.var()"
   ]
  },
  {
   "cell_type": "code",
   "execution_count": null,
   "id": "7974f525",
   "metadata": {
    "hide-output": false
   },
   "outputs": [],
   "source": [
    "α_vals = [0.5, 1, 5, 25, 3]\n",
    "β_vals = [3, 1, 10, 20, 0.5]\n",
    "x_grid = np.linspace(0, 1, 200)\n",
    "\n",
    "fig, ax = plt.subplots()\n",
    "for α, β in zip(α_vals, β_vals):\n",
    "    u = scipy.stats.beta(α, β)\n",
    "    ax.plot(x_grid, u.pdf(x_grid),\n",
    "    alpha=0.5, lw=2,\n",
    "    label=fr'$\\alpha={α}, \\beta={β}$')\n",
    "plt.legend()\n",
    "plt.show()"
   ]
  },
  {
   "cell_type": "code",
   "execution_count": null,
   "id": "c1e5f74f",
   "metadata": {
    "hide-output": false
   },
   "outputs": [],
   "source": [
    "fig, ax = plt.subplots()\n",
    "for α, β in zip(α_vals, β_vals):\n",
    "    u = scipy.stats.beta(α, β)\n",
    "    ax.plot(x_grid, u.cdf(x_grid),\n",
    "    alpha=0.5, lw=2,\n",
    "    label=fr'$\\alpha={α}, \\beta={β}$')\n",
    "    ax.set_ylim(0, 1)\n",
    "plt.legend()\n",
    "plt.show()"
   ]
  },
  {
   "cell_type": "markdown",
   "id": "2ba7a272",
   "metadata": {},
   "source": [
    "#### Gamma distribution\n",
    "\n",
    "The **gamma distribution** is a distribution on $ \\left(0, \\infty\\right) $ with density\n",
    "\n",
    "$$\n",
    "p(x) = \\frac{\\beta^\\alpha}{\\Gamma(\\alpha)}\n",
    "        x^{\\alpha - 1} \\exp(-\\beta x)\n",
    "$$\n",
    "\n",
    "This distribution has two parameters, $ \\alpha > 0 $ and $ \\beta > 0 $.\n",
    "\n",
    "It can be shown that, for this distribution, the mean is $ \\alpha / \\beta $ and\n",
    "the variance is $ \\alpha / \\beta^2 $.\n",
    "\n",
    "One interpretation is that if $ X $ is gamma distributed and $ \\alpha $ is an\n",
    "integer, then $ X $ is the sum of $ \\alpha $ independent exponentially distributed\n",
    "random variables with mean $ 1/\\beta $.\n",
    "\n",
    "We can obtain the moments, PDF, and CDF of the Gamma density as follows:"
   ]
  },
  {
   "cell_type": "code",
   "execution_count": null,
   "id": "3cab9b14",
   "metadata": {
    "hide-output": false
   },
   "outputs": [],
   "source": [
    "α, β = 3.0, 2.0\n",
    "u = scipy.stats.gamma(α, scale=1/β)"
   ]
  },
  {
   "cell_type": "code",
   "execution_count": null,
   "id": "4ce420c2",
   "metadata": {
    "hide-output": false
   },
   "outputs": [],
   "source": [
    "u.mean(), u.var()"
   ]
  },
  {
   "cell_type": "code",
   "execution_count": null,
   "id": "44bdc047",
   "metadata": {
    "hide-output": false
   },
   "outputs": [],
   "source": [
    "α_vals = [1, 3, 5, 10]\n",
    "β_vals = [3, 5, 3, 3]\n",
    "x_grid = np.linspace(0, 7, 200)\n",
    "\n",
    "fig, ax = plt.subplots()\n",
    "for α, β in zip(α_vals, β_vals):\n",
    "    u = scipy.stats.gamma(α, scale=1/β)\n",
    "    ax.plot(x_grid, u.pdf(x_grid),\n",
    "    alpha=0.5, lw=2,\n",
    "    label=fr'$\\alpha={α}, \\beta={β}$')\n",
    "plt.legend()\n",
    "plt.show()"
   ]
  },
  {
   "cell_type": "code",
   "execution_count": null,
   "id": "0908e6ad",
   "metadata": {
    "hide-output": false
   },
   "outputs": [],
   "source": [
    "fig, ax = plt.subplots()\n",
    "for α, β in zip(α_vals, β_vals):\n",
    "    u = scipy.stats.gamma(α, scale=1/β)\n",
    "    ax.plot(x_grid, u.cdf(x_grid),\n",
    "    alpha=0.5, lw=2,\n",
    "    label=fr'$\\alpha={α}, \\beta={β}$')\n",
    "    ax.set_ylim(0, 1)\n",
    "plt.legend()\n",
    "plt.show()"
   ]
  },
  {
   "cell_type": "markdown",
   "id": "2af2d322",
   "metadata": {},
   "source": [
    "## Observed distributions\n",
    "\n",
    "Sometimes we refer to observed data or measurements as “distributions”.\n",
    "\n",
    "For example, let’s say we observe the income of 10 people over a year:"
   ]
  },
  {
   "cell_type": "code",
   "execution_count": null,
   "id": "426ef7c2",
   "metadata": {
    "hide-output": false
   },
   "outputs": [],
   "source": [
    "data = [['Hiroshi', 1200], \n",
    "        ['Ako', 1210], \n",
    "        ['Emi', 1400],\n",
    "        ['Daiki', 990],\n",
    "        ['Chiyo', 1530],\n",
    "        ['Taka', 1210],\n",
    "        ['Katsuhiko', 1240],\n",
    "        ['Daisuke', 1124],\n",
    "        ['Yoshi', 1330],\n",
    "        ['Rie', 1340]]\n",
    "\n",
    "df = pd.DataFrame(data, columns=['name', 'income'])\n",
    "df"
   ]
  },
  {
   "cell_type": "markdown",
   "id": "d2f76019",
   "metadata": {},
   "source": [
    "In this situation, we might refer to the set of their incomes as the “income distribution.”\n",
    "\n",
    "The terminology is confusing because this set is not a probability distribution\n",
    "— it’s just a collection of numbers.\n",
    "\n",
    "However, as we will see, there are connections between observed distributions (i.e., sets of\n",
    "numbers like the income distribution above) and probability distributions.\n",
    "\n",
    "Below we explore some observed distributions."
   ]
  },
  {
   "cell_type": "markdown",
   "id": "0f0233e4",
   "metadata": {},
   "source": [
    "### Summary statistics\n",
    "\n",
    "Suppose we have an observed distribution with values $ \\{x_1, \\ldots, x_n\\} $\n",
    "\n",
    "The **sample mean** of this distribution is defined as\n",
    "\n",
    "$$\n",
    "\\bar x = \\frac{1}{n} \\sum_{i=1}^n x_i\n",
    "$$\n",
    "\n",
    "The **sample variance** is defined as\n",
    "\n",
    "$$\n",
    "\\frac{1}{n} \\sum_{i=1}^n (x_i - \\bar x)^2\n",
    "$$\n",
    "\n",
    "For the income distribution given above, we can calculate these numbers via"
   ]
  },
  {
   "cell_type": "code",
   "execution_count": null,
   "id": "19a8e86b",
   "metadata": {
    "hide-output": false
   },
   "outputs": [],
   "source": [
    "x = np.asarray(df['income'])"
   ]
  },
  {
   "cell_type": "code",
   "execution_count": null,
   "id": "56af8225",
   "metadata": {
    "hide-output": false
   },
   "outputs": [],
   "source": [
    "x.mean(), x.var()"
   ]
  },
  {
   "cell_type": "markdown",
   "id": "bd3028ba",
   "metadata": {},
   "source": [
    "### Exercise 17.3\n",
    "\n",
    "Check that the formulas given above produce the same numbers."
   ]
  },
  {
   "cell_type": "markdown",
   "id": "fb884596",
   "metadata": {},
   "source": [
    "### Visualization\n",
    "\n",
    "Let’s look at different ways that we can visualize one or more observed distributions.\n",
    "\n",
    "We will cover\n",
    "\n",
    "- histograms  \n",
    "- kernel density estimates and  \n",
    "- violin plots  "
   ]
  },
  {
   "cell_type": "markdown",
   "id": "7617eff8",
   "metadata": {},
   "source": [
    "#### Histograms\n",
    "\n",
    "We can histogram the income distribution we just constructed as follows"
   ]
  },
  {
   "cell_type": "code",
   "execution_count": null,
   "id": "3cba80d6",
   "metadata": {
    "hide-output": false
   },
   "outputs": [],
   "source": [
    "x = df['income']\n",
    "fig, ax = plt.subplots()\n",
    "ax.hist(x, bins=5, density=True, histtype='bar')\n",
    "plt.show()"
   ]
  },
  {
   "cell_type": "markdown",
   "id": "a54f5a7e",
   "metadata": {},
   "source": [
    "Let’s look at a distribution from real data.\n",
    "\n",
    "In particular, we will look at the monthly return on Amazon shares between 2000/1/1 and 2023/1/1.\n",
    "\n",
    "The monthly return is calculated as the percent change in the share price over each month.\n",
    "\n",
    "So we will have one observation for each month."
   ]
  },
  {
   "cell_type": "code",
   "execution_count": null,
   "id": "f24103e0",
   "metadata": {
    "hide-output": false
   },
   "outputs": [],
   "source": [
    "df = yf.download('AMZN', '2000-1-1', '2023-1-1', interval='1mo' )\n",
    "prices = df['Adj Close']\n",
    "data = prices.pct_change()[1:] * 100\n",
    "data.head()"
   ]
  },
  {
   "cell_type": "markdown",
   "id": "2637a60a",
   "metadata": {},
   "source": [
    "The first observation is the monthly return (percent change) over January 2000, which was"
   ]
  },
  {
   "cell_type": "code",
   "execution_count": null,
   "id": "69c0a448",
   "metadata": {
    "hide-output": false
   },
   "outputs": [],
   "source": [
    "data[0] "
   ]
  },
  {
   "cell_type": "markdown",
   "id": "9c7aa448",
   "metadata": {},
   "source": [
    "Let’s turn the return observations into an array and histogram it."
   ]
  },
  {
   "cell_type": "code",
   "execution_count": null,
   "id": "9d3e6bcd",
   "metadata": {
    "hide-output": false
   },
   "outputs": [],
   "source": [
    "x_amazon = np.asarray(data)"
   ]
  },
  {
   "cell_type": "code",
   "execution_count": null,
   "id": "76720552",
   "metadata": {
    "hide-output": false
   },
   "outputs": [],
   "source": [
    "fig, ax = plt.subplots()\n",
    "ax.hist(x_amazon, bins=20)\n",
    "plt.show()"
   ]
  },
  {
   "cell_type": "markdown",
   "id": "81a9e83b",
   "metadata": {},
   "source": [
    "#### Kernel density estimates\n",
    "\n",
    "Kernel density estimate (KDE) is a non-parametric way to estimate and visualize the PDF of a distribution.\n",
    "\n",
    "KDE will generate a smooth curve that approximates the PDF."
   ]
  },
  {
   "cell_type": "code",
   "execution_count": null,
   "id": "bc9d4f0e",
   "metadata": {
    "hide-output": false
   },
   "outputs": [],
   "source": [
    "fig, ax = plt.subplots()\n",
    "sns.kdeplot(x_amazon, ax=ax)\n",
    "plt.show()"
   ]
  },
  {
   "cell_type": "markdown",
   "id": "00489ec7",
   "metadata": {},
   "source": [
    "The smoothness of the KDE is dependent on how we choose the bandwidth."
   ]
  },
  {
   "cell_type": "code",
   "execution_count": null,
   "id": "f44cf949",
   "metadata": {
    "hide-output": false
   },
   "outputs": [],
   "source": [
    "fig, ax = plt.subplots()\n",
    "sns.kdeplot(x_amazon, ax=ax, bw_adjust=0.1, alpha=0.5, label=\"bw=0.1\")\n",
    "sns.kdeplot(x_amazon, ax=ax, bw_adjust=0.5, alpha=0.5, label=\"bw=0.5\")\n",
    "sns.kdeplot(x_amazon, ax=ax, bw_adjust=1, alpha=0.5, label=\"bw=1\")\n",
    "plt.legend()\n",
    "plt.show()"
   ]
  },
  {
   "cell_type": "markdown",
   "id": "7de590cf",
   "metadata": {},
   "source": [
    "When we use a larger bandwidth, the KDE is smoother.\n",
    "\n",
    "A suitable bandwidth is not too smooth (underfitting) or too wiggly (overfitting)."
   ]
  },
  {
   "cell_type": "markdown",
   "id": "83dedfea",
   "metadata": {},
   "source": [
    "#### Violin plots\n",
    "\n",
    "Yet another way to display an observed distribution is via a violin plot."
   ]
  },
  {
   "cell_type": "code",
   "execution_count": null,
   "id": "e3e399b2",
   "metadata": {
    "hide-output": false
   },
   "outputs": [],
   "source": [
    "fig, ax = plt.subplots()\n",
    "ax.violinplot(x_amazon)\n",
    "plt.show()"
   ]
  },
  {
   "cell_type": "markdown",
   "id": "e0c5a965",
   "metadata": {},
   "source": [
    "Violin plots are particularly useful when we want to compare different distributions.\n",
    "\n",
    "For example, let’s compare the monthly returns on Amazon shares with the monthly return on Apple shares."
   ]
  },
  {
   "cell_type": "code",
   "execution_count": null,
   "id": "f3ff0756",
   "metadata": {
    "hide-output": false
   },
   "outputs": [],
   "source": [
    "df = yf.download('AAPL', '2000-1-1', '2023-1-1', interval='1mo' )\n",
    "prices = df['Adj Close']\n",
    "data = prices.pct_change()[1:] * 100\n",
    "x_apple = np.asarray(data)"
   ]
  },
  {
   "cell_type": "code",
   "execution_count": null,
   "id": "d0fffc95",
   "metadata": {
    "hide-output": false
   },
   "outputs": [],
   "source": [
    "fig, ax = plt.subplots()\n",
    "ax.violinplot([x_amazon, x_apple])\n",
    "plt.show()"
   ]
  },
  {
   "cell_type": "markdown",
   "id": "5044a5a9",
   "metadata": {},
   "source": [
    "### Connection to probability distributions\n",
    "\n",
    "Let’s discuss the connection between observed distributions and probability distributions.\n",
    "\n",
    "Sometimes it’s helpful to imagine that an observed distribution is generated by a particular probability distribution.\n",
    "\n",
    "For example, we might look at the returns from Amazon above and imagine that they were generated by a normal distribution.\n",
    "\n",
    "Even though this is not true, it might be a helpful way to think about the data.\n",
    "\n",
    "Here we match a normal distribution to the Amazon monthly returns by setting the sample mean to the mean of the normal distribution and the sample variance equal to the variance.\n",
    "\n",
    "Then we plot the density and the histogram."
   ]
  },
  {
   "cell_type": "code",
   "execution_count": null,
   "id": "64957d37",
   "metadata": {
    "hide-output": false
   },
   "outputs": [],
   "source": [
    "μ = x_amazon.mean()\n",
    "σ_squared = x_amazon.var()\n",
    "σ = np.sqrt(σ_squared)\n",
    "u = scipy.stats.norm(μ, σ)"
   ]
  },
  {
   "cell_type": "code",
   "execution_count": null,
   "id": "4169cfd2",
   "metadata": {
    "hide-output": false
   },
   "outputs": [],
   "source": [
    "x_grid = np.linspace(-50, 65, 200)\n",
    "fig, ax = plt.subplots()\n",
    "ax.plot(x_grid, u.pdf(x_grid))\n",
    "ax.hist(x_amazon, density=True, bins=40)\n",
    "plt.show()"
   ]
  },
  {
   "cell_type": "markdown",
   "id": "c6d1bd88",
   "metadata": {},
   "source": [
    "The match between the histogram and the density is not very bad but also not very good.\n",
    "\n",
    "One reason is that the normal distribution is not really a good fit for this observed data — we will discuss this point again when we talk about [heavy tailed distributions](https://intro.quantecon.org/heavy_tails.html#heavy-tail).\n",
    "\n",
    "Of course, if the data really *is* generated by the normal distribution, then the fit will be better.\n",
    "\n",
    "Let’s see this in action\n",
    "\n",
    "- first we generate random draws from the normal distribution  \n",
    "- then we histogram them and compare with the density.  "
   ]
  },
  {
   "cell_type": "code",
   "execution_count": null,
   "id": "c62e9496",
   "metadata": {
    "hide-output": false
   },
   "outputs": [],
   "source": [
    "μ, σ = 0, 1\n",
    "u = scipy.stats.norm(μ, σ)\n",
    "N = 2000  # Number of observations\n",
    "x_draws = u.rvs(N)\n",
    "x_grid = np.linspace(-4, 4, 200)\n",
    "fig, ax = plt.subplots()\n",
    "ax.plot(x_grid, u.pdf(x_grid))\n",
    "ax.hist(x_draws, density=True, bins=40)\n",
    "plt.show()"
   ]
  },
  {
   "cell_type": "markdown",
   "id": "83d59553",
   "metadata": {},
   "source": [
    "Note that if you keep increasing $ N $, which is the number of observations, the fit will get better and better.\n",
    "\n",
    "This convergence is a version of the “law of large numbers”, which we will discuss [later](https://intro.quantecon.org/lln_clt.html#lln-mr)."
   ]
  }
 ],
 "metadata": {
  "date": 1718937396.1007392,
  "filename": "prob_dist.md",
  "kernelspec": {
   "display_name": "Python",
   "language": "python3",
   "name": "python3"
  },
  "title": "Distributions and Probabilities"
 },
 "nbformat": 4,
 "nbformat_minor": 5
}