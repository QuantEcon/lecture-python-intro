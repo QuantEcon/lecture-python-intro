{
 "cells": [
  {
   "cell_type": "markdown",
   "id": "d7e5ae9f",
   "metadata": {},
   "source": [
    "# Distributions and Probabilities\n",
    "\n",
    "\n",
    "<a id='index-0'></a>"
   ]
  },
  {
   "cell_type": "markdown",
   "id": "12951c9f",
   "metadata": {},
   "source": [
    "## Outline\n",
    "\n",
    "In this lecture we give a quick introduction to data and probability distributions using Python."
   ]
  },
  {
   "cell_type": "code",
   "execution_count": null,
   "id": "fd27cb3b",
   "metadata": {
    "hide-output": false
   },
   "outputs": [],
   "source": [
    "!pip install --upgrade yfinance  "
   ]
  },
  {
   "cell_type": "code",
   "execution_count": null,
   "id": "99be59a3",
   "metadata": {
    "hide-output": false
   },
   "outputs": [],
   "source": [
    "import matplotlib.pyplot as plt\n",
    "import pandas as pd\n",
    "import numpy as np\n",
    "import yfinance as yf\n",
    "import scipy.stats\n",
    "import seaborn as sns"
   ]
  },
  {
   "cell_type": "markdown",
   "id": "7906d2ed",
   "metadata": {},
   "source": [
    "## Common distributions\n",
    "\n",
    "In this section we recall the definitions of some well-known distributions and explore how to manipulate them with SciPy."
   ]
  },
  {
   "cell_type": "markdown",
   "id": "741db404",
   "metadata": {},
   "source": [
    "### Discrete distributions\n",
    "\n",
    "Let’s start with discrete distributions.\n",
    "\n",
    "A discrete distribution is defined by a set of numbers $ S = \\{x_1, \\ldots, x_n\\} $ and a **probability mass function** (PMF) on $ S $, which is a function $ p $ from $ S $ to $ [0,1] $ with the property\n",
    "\n",
    "$$\n",
    "\\sum_{i=1}^n p(x_i) = 1\n",
    "$$\n",
    "\n",
    "We say that a random variable $ X $ **has distribution** $ p $ if $ X $ takes value $ x_i $ with probability $ p(x_i) $.\n",
    "\n",
    "That is,\n",
    "\n",
    "$$\n",
    "\\mathbb P\\{X = x_i\\} = p(x_i) \\quad \\text{for } i= 1, \\ldots, n\n",
    "$$\n",
    "\n",
    "The **mean** or **expected value** of a random variable $ X $ with distribution $ p $ is\n",
    "\n",
    "$$\n",
    "\\mathbb{E}[X] = \\sum_{i=1}^n x_i p(x_i)\n",
    "$$\n",
    "\n",
    "Expectation is also called the *first moment* of the distribution.\n",
    "\n",
    "We also refer to this number as the mean of the distribution (represented by) $ p $.\n",
    "\n",
    "The **variance** of $ X $ is defined as\n",
    "\n",
    "$$\n",
    "\\mathbb{V}[X] = \\sum_{i=1}^n (x_i - \\mathbb{E}[X])^2 p(x_i)\n",
    "$$\n",
    "\n",
    "Variance is also called the *second central moment* of the distribution.\n",
    "\n",
    "The **cumulative distribution function** (CDF) of $ X $ is defined by\n",
    "\n",
    "$$\n",
    "F(x) = \\mathbb{P}\\{X \\leq x\\}\n",
    "         = \\sum_{i=1}^n \\mathbb 1\\{x_i \\leq x\\} p(x_i)\n",
    "$$\n",
    "\n",
    "Here $ \\mathbb 1\\{ \\textrm{statement} \\} = 1 $ if “statement” is true and zero otherwise.\n",
    "\n",
    "Hence the second term takes all $ x_i \\leq x $ and sums their probabilities."
   ]
  },
  {
   "cell_type": "markdown",
   "id": "08745332",
   "metadata": {},
   "source": [
    "#### Uniform distribution\n",
    "\n",
    "One simple example is the **uniform distribution**, where $ p(x_i) = 1/n $ for all $ i $.\n",
    "\n",
    "We can import the uniform distribution on $ S = \\{1, \\ldots, n\\} $  from SciPy like so:"
   ]
  },
  {
   "cell_type": "code",
   "execution_count": null,
   "id": "81590872",
   "metadata": {
    "hide-output": false
   },
   "outputs": [],
   "source": [
    "n = 10\n",
    "u = scipy.stats.randint(1, n+1)"
   ]
  },
  {
   "cell_type": "markdown",
   "id": "af9c8050",
   "metadata": {},
   "source": [
    "Here’s the mean and variance:"
   ]
  },
  {
   "cell_type": "code",
   "execution_count": null,
   "id": "52a87544",
   "metadata": {
    "hide-output": false
   },
   "outputs": [],
   "source": [
    "u.mean(), u.var()"
   ]
  },
  {
   "cell_type": "markdown",
   "id": "4164c5fd",
   "metadata": {},
   "source": [
    "The formula for the mean is $ (n+1)/2 $, and the formula for the variance is $ (n^2 - 1)/12 $.\n",
    "\n",
    "Now let’s evaluate the PMF:"
   ]
  },
  {
   "cell_type": "code",
   "execution_count": null,
   "id": "a759328b",
   "metadata": {
    "hide-output": false
   },
   "outputs": [],
   "source": [
    "u.pmf(1)"
   ]
  },
  {
   "cell_type": "code",
   "execution_count": null,
   "id": "1eaf9388",
   "metadata": {
    "hide-output": false
   },
   "outputs": [],
   "source": [
    "u.pmf(2)"
   ]
  },
  {
   "cell_type": "markdown",
   "id": "c5234a81",
   "metadata": {},
   "source": [
    "Here’s a plot of the probability mass function:"
   ]
  },
  {
   "cell_type": "code",
   "execution_count": null,
   "id": "19bf9353",
   "metadata": {
    "hide-output": false
   },
   "outputs": [],
   "source": [
    "fig, ax = plt.subplots()\n",
    "S = np.arange(1, n+1)\n",
    "ax.plot(S, u.pmf(S), linestyle='', marker='o', alpha=0.8, ms=4)\n",
    "ax.vlines(S, 0, u.pmf(S), lw=0.2)\n",
    "ax.set_xticks(S)\n",
    "plt.show()"
   ]
  },
  {
   "cell_type": "markdown",
   "id": "53feac94",
   "metadata": {},
   "source": [
    "Here’s a plot of the CDF:"
   ]
  },
  {
   "cell_type": "code",
   "execution_count": null,
   "id": "f529b654",
   "metadata": {
    "hide-output": false
   },
   "outputs": [],
   "source": [
    "fig, ax = plt.subplots()\n",
    "S = np.arange(1, n+1)\n",
    "ax.step(S, u.cdf(S))\n",
    "ax.vlines(S, 0, u.cdf(S), lw=0.2)\n",
    "ax.set_xticks(S)\n",
    "plt.show()"
   ]
  },
  {
   "cell_type": "markdown",
   "id": "b9bca7e5",
   "metadata": {},
   "source": [
    "The CDF jumps up by $ p(x_i) $ at $ x_i $."
   ]
  },
  {
   "cell_type": "markdown",
   "id": "7b280b05",
   "metadata": {},
   "source": [
    "#### Exercise 18.1\n",
    "\n",
    "Calculate the mean and variance for this parameterization (i.e., $ n=10 $)\n",
    "directly from the PMF, using the expressions given above.\n",
    "\n",
    "Check that your answers agree with `u.mean()` and `u.var()`."
   ]
  },
  {
   "cell_type": "markdown",
   "id": "fdb2f8c3",
   "metadata": {},
   "source": [
    "#### Bernoulli distribution\n",
    "\n",
    "Another useful distribution is the Bernoulli distribution on $ S = \\{0,1\\} $, which has PMF:\n",
    "\n",
    "$$\n",
    "p(x_i)=\n",
    "\\begin{cases}\n",
    "p & \\text{if \\$x_i = 1\\$}\\\\\n",
    "1-p & \\text{if \\$x_i = 0\\$}\n",
    "\\end{cases}\n",
    "$$\n",
    "\n",
    "Here $ x_i \\in S $ is the outcome of the random variable.\n",
    "\n",
    "We can import the Bernoulli distribution on $ S = \\{0,1\\} $ from SciPy like so:"
   ]
  },
  {
   "cell_type": "code",
   "execution_count": null,
   "id": "fe970164",
   "metadata": {
    "hide-output": false
   },
   "outputs": [],
   "source": [
    "p = 0.4 \n",
    "u = scipy.stats.bernoulli(p)"
   ]
  },
  {
   "cell_type": "markdown",
   "id": "ef479547",
   "metadata": {},
   "source": [
    "Here’s the mean and variance:"
   ]
  },
  {
   "cell_type": "code",
   "execution_count": null,
   "id": "dce924a6",
   "metadata": {
    "hide-output": false
   },
   "outputs": [],
   "source": [
    "u.mean(), u.var()"
   ]
  },
  {
   "cell_type": "markdown",
   "id": "50639d99",
   "metadata": {},
   "source": [
    "The formula for the mean is $ p $, and the formula for the variance is $ p(1-p) $.\n",
    "\n",
    "Now let’s evaluate the PMF:"
   ]
  },
  {
   "cell_type": "code",
   "execution_count": null,
   "id": "6e7defbc",
   "metadata": {
    "hide-output": false
   },
   "outputs": [],
   "source": [
    "u.pmf(0)\n",
    "u.pmf(1)"
   ]
  },
  {
   "cell_type": "markdown",
   "id": "30a927b1",
   "metadata": {},
   "source": [
    "#### Binomial distribution\n",
    "\n",
    "Another useful (and more interesting) distribution is the **binomial distribution** on $ S=\\{0, \\ldots, n\\} $, which has PMF:\n",
    "\n",
    "$$\n",
    "p(i) = \\binom{n}{i} \\theta^i (1-\\theta)^{n-i}\n",
    "$$\n",
    "\n",
    "Here $ \\theta \\in [0,1] $ is a parameter.\n",
    "\n",
    "The interpretation of $ p(i) $ is: the probability of $ i $ successes in $ n $ independent trials with success probability $ \\theta $.\n",
    "\n",
    "For example, if $ \\theta=0.5 $, then $ p(i) $ is the probability of $ i $ heads in $ n $ flips of a fair coin.\n",
    "\n",
    "The mean and variance are:"
   ]
  },
  {
   "cell_type": "code",
   "execution_count": null,
   "id": "c53cfa7d",
   "metadata": {
    "hide-output": false
   },
   "outputs": [],
   "source": [
    "n = 10\n",
    "θ = 0.5\n",
    "u = scipy.stats.binom(n, θ)"
   ]
  },
  {
   "cell_type": "code",
   "execution_count": null,
   "id": "9c85de09",
   "metadata": {
    "hide-output": false
   },
   "outputs": [],
   "source": [
    "u.mean(), u.var()"
   ]
  },
  {
   "cell_type": "markdown",
   "id": "e2220ce9",
   "metadata": {},
   "source": [
    "The formula for the mean is $ n \\theta $ and the formula for the variance is $ n \\theta (1-\\theta) $.\n",
    "\n",
    "Here’s the PMF:"
   ]
  },
  {
   "cell_type": "code",
   "execution_count": null,
   "id": "db6feb15",
   "metadata": {
    "hide-output": false
   },
   "outputs": [],
   "source": [
    "u.pmf(1)"
   ]
  },
  {
   "cell_type": "code",
   "execution_count": null,
   "id": "8ea21ca5",
   "metadata": {
    "hide-output": false
   },
   "outputs": [],
   "source": [
    "fig, ax = plt.subplots()\n",
    "S = np.arange(1, n+1)\n",
    "ax.plot(S, u.pmf(S), linestyle='', marker='o', alpha=0.8, ms=4)\n",
    "ax.vlines(S, 0, u.pmf(S), lw=0.2)\n",
    "ax.set_xticks(S)\n",
    "plt.show()"
   ]
  },
  {
   "cell_type": "markdown",
   "id": "738f139c",
   "metadata": {},
   "source": [
    "Here’s the CDF:"
   ]
  },
  {
   "cell_type": "code",
   "execution_count": null,
   "id": "f566cba0",
   "metadata": {
    "hide-output": false
   },
   "outputs": [],
   "source": [
    "fig, ax = plt.subplots()\n",
    "S = np.arange(1, n+1)\n",
    "ax.step(S, u.cdf(S))\n",
    "ax.vlines(S, 0, u.cdf(S), lw=0.2)\n",
    "ax.set_xticks(S)\n",
    "plt.show()"
   ]
  },
  {
   "cell_type": "markdown",
   "id": "7964c888",
   "metadata": {},
   "source": [
    "#### Exercise 18.2\n",
    "\n",
    "Using `u.pmf`, check that our definition of the CDF given above calculates the same function as `u.cdf`."
   ]
  },
  {
   "cell_type": "markdown",
   "id": "fe3349aa",
   "metadata": {},
   "source": [
    "#### Solution to[ Exercise 18.2](https://intro.quantecon.org/#prob_ex3)\n",
    "\n",
    "Here is one solution:"
   ]
  },
  {
   "cell_type": "code",
   "execution_count": null,
   "id": "886049e6",
   "metadata": {
    "hide-output": false
   },
   "outputs": [],
   "source": [
    "fig, ax = plt.subplots()\n",
    "S = np.arange(1, n+1)\n",
    "u_sum = np.cumsum(u.pmf(S))\n",
    "ax.step(S, u_sum)\n",
    "ax.vlines(S, 0, u_sum, lw=0.2)\n",
    "ax.set_xticks(S)\n",
    "plt.show()"
   ]
  },
  {
   "cell_type": "markdown",
   "id": "c0599d96",
   "metadata": {},
   "source": [
    "We can see that the output graph is the same as the one above."
   ]
  },
  {
   "cell_type": "markdown",
   "id": "6260c518",
   "metadata": {},
   "source": [
    "#### Poisson distribution\n",
    "\n",
    "Poisson distribution on $ S = \\{0, 1, \\ldots\\} $ with parameter $ \\lambda > 0 $ has PMF\n",
    "\n",
    "$$\n",
    "p(i) = \\frac{\\lambda^i}{i!} e^{-\\lambda}\n",
    "$$\n",
    "\n",
    "The interpretation of $ p(i) $ is: the probability of $ i $ events in a fixed time interval, where the events occur at a constant rate $ \\lambda $ and independently of each other.\n",
    "\n",
    "The mean and variance are:"
   ]
  },
  {
   "cell_type": "code",
   "execution_count": null,
   "id": "914025e2",
   "metadata": {
    "hide-output": false
   },
   "outputs": [],
   "source": [
    "λ = 2\n",
    "u = scipy.stats.poisson(λ)"
   ]
  },
  {
   "cell_type": "code",
   "execution_count": null,
   "id": "9c6936d5",
   "metadata": {
    "hide-output": false
   },
   "outputs": [],
   "source": [
    "u.mean(), u.var()"
   ]
  },
  {
   "cell_type": "markdown",
   "id": "0f7efb65",
   "metadata": {},
   "source": [
    "The the expectation of Poisson distribution is $ \\lambda $ and the variance is also $ \\lambda $.\n",
    "\n",
    "Here’s the PMF:"
   ]
  },
  {
   "cell_type": "code",
   "execution_count": null,
   "id": "161fc78e",
   "metadata": {
    "hide-output": false
   },
   "outputs": [],
   "source": [
    "λ = 2\n",
    "u = scipy.stats.poisson(λ)"
   ]
  },
  {
   "cell_type": "code",
   "execution_count": null,
   "id": "95db8b40",
   "metadata": {
    "hide-output": false
   },
   "outputs": [],
   "source": [
    "u.pmf(1)"
   ]
  },
  {
   "cell_type": "code",
   "execution_count": null,
   "id": "81af7c03",
   "metadata": {
    "hide-output": false
   },
   "outputs": [],
   "source": [
    "fig, ax = plt.subplots()\n",
    "S = np.arange(1, n+1)\n",
    "ax.plot(S, u.pmf(S), linestyle='', marker='o', alpha=0.8, ms=4)\n",
    "ax.vlines(S, 0, u.pmf(S), lw=0.2)\n",
    "ax.set_xticks(S)\n",
    "plt.show()"
   ]
  },
  {
   "cell_type": "markdown",
   "id": "047938fe",
   "metadata": {},
   "source": [
    "### Continuous distributions\n",
    "\n",
    "Continuous distributions are represented by a **probability density function**, which is a function $ p $ over $ \\mathbb R $ (the set of all real numbers) such that $ p(x) \\geq 0 $ for all $ x $ and\n",
    "\n",
    "$$\n",
    "\\int_{-\\infty}^\\infty p(x) dx = 1\n",
    "$$\n",
    "\n",
    "We say that random variable $ X $ has distribution $ p $ if\n",
    "\n",
    "$$\n",
    "\\mathbb P\\{a < X < b\\} = \\int_a^b p(x) dx\n",
    "$$\n",
    "\n",
    "for all $ a \\leq b $.\n",
    "\n",
    "The definition of the mean and variance of a random variable $ X $ with distribution $ p $ are the same as the discrete case, after replacing the sum with an integral.\n",
    "\n",
    "For example, the mean of $ X $ is\n",
    "\n",
    "$$\n",
    "\\mathbb{E}[X] = \\int_{-\\infty}^\\infty x p(x) dx\n",
    "$$\n",
    "\n",
    "The **cumulative distribution function** (CDF) of $ X $ is defined by\n",
    "\n",
    "$$\n",
    "F(x) = \\mathbb P\\{X \\leq x\\}\n",
    "         = \\int_{-\\infty}^x p(x) dx\n",
    "$$"
   ]
  },
  {
   "cell_type": "markdown",
   "id": "6427f41b",
   "metadata": {},
   "source": [
    "#### Normal distribution\n",
    "\n",
    "Perhaps the most famous distribution is the **normal distribution**, which has density\n",
    "\n",
    "$$\n",
    "p(x) = \\frac{1}{\\sqrt{2\\pi}\\sigma}\n",
    "              \\exp\\left(-\\frac{(x-\\mu)^2}{2\\sigma^2}\\right)\n",
    "$$\n",
    "\n",
    "This distribution has two parameters, $ \\mu $ and $ \\sigma $.\n",
    "\n",
    "It can be shown that, for this distribution, the mean is $ \\mu $ and the variance is $ \\sigma^2 $.\n",
    "\n",
    "We can obtain the moments, PDF and CDF of the normal density as follows:"
   ]
  },
  {
   "cell_type": "code",
   "execution_count": null,
   "id": "a901b81d",
   "metadata": {
    "hide-output": false
   },
   "outputs": [],
   "source": [
    "μ, σ = 0.0, 1.0\n",
    "u = scipy.stats.norm(μ, σ)"
   ]
  },
  {
   "cell_type": "code",
   "execution_count": null,
   "id": "abb4ff85",
   "metadata": {
    "hide-output": false
   },
   "outputs": [],
   "source": [
    "u.mean(), u.var()"
   ]
  },
  {
   "cell_type": "markdown",
   "id": "2d6dce69",
   "metadata": {},
   "source": [
    "Here’s a plot of the density — the famous “bell-shaped curve”:"
   ]
  },
  {
   "cell_type": "code",
   "execution_count": null,
   "id": "0b3a7103",
   "metadata": {
    "hide-output": false
   },
   "outputs": [],
   "source": [
    "μ_vals = [-1, 0, 1]\n",
    "σ_vals = [0.4, 1, 1.6]\n",
    "fig, ax = plt.subplots()\n",
    "x_grid = np.linspace(-4, 4, 200)\n",
    "\n",
    "for μ, σ in zip(μ_vals, σ_vals):\n",
    "    u = scipy.stats.norm(μ, σ)\n",
    "    ax.plot(x_grid, u.pdf(x_grid),\n",
    "    alpha=0.5, lw=2,\n",
    "    label=f'$\\mu={μ}, \\sigma={σ}$')\n",
    "\n",
    "plt.legend()\n",
    "plt.show()"
   ]
  },
  {
   "cell_type": "markdown",
   "id": "8cb247fa",
   "metadata": {},
   "source": [
    "Here’s a plot of the CDF:"
   ]
  },
  {
   "cell_type": "code",
   "execution_count": null,
   "id": "74197e81",
   "metadata": {
    "hide-output": false
   },
   "outputs": [],
   "source": [
    "fig, ax = plt.subplots()\n",
    "for μ, σ in zip(μ_vals, σ_vals):\n",
    "    u = scipy.stats.norm(μ, σ)\n",
    "    ax.plot(x_grid, u.cdf(x_grid),\n",
    "    alpha=0.5, lw=2,\n",
    "    label=f'$\\mu={μ}, \\sigma={σ}$')\n",
    "    ax.set_ylim(0, 1)\n",
    "plt.legend()\n",
    "plt.show()"
   ]
  },
  {
   "cell_type": "markdown",
   "id": "a5f32925",
   "metadata": {},
   "source": [
    "#### Lognormal distribution\n",
    "\n",
    "The **lognormal distribution** is a distribution on $ \\left(0, \\infty\\right) $ with density\n",
    "\n",
    "$$\n",
    "p(x) = \\frac{1}{\\sigma x \\sqrt{2\\pi}}\n",
    "        \\exp \\left(- \\frac{\\left(\\log x - \\mu\\right)^2}{2 \\sigma^2} \\right)\n",
    "$$\n",
    "\n",
    "This distribution has two parameters, $ \\mu $ and $ \\sigma $.\n",
    "\n",
    "It can be shown that, for this distribution, the mean is $ \\exp\\left(\\mu + \\sigma^2/2\\right) $ and the variance is $ \\left[\\exp\\left(\\sigma^2\\right) - 1\\right] \\exp\\left(2\\mu + \\sigma^2\\right) $.\n",
    "\n",
    "It has a nice interpretation: if $ X $ is lognormally distributed, then $ \\log X $ is normally distributed.\n",
    "\n",
    "It is often used to model variables that are “multiplicative” in nature, such as income or asset prices.\n",
    "\n",
    "We can obtain the moments, PDF, and CDF of the lognormal density as follows:"
   ]
  },
  {
   "cell_type": "code",
   "execution_count": null,
   "id": "99071094",
   "metadata": {
    "hide-output": false
   },
   "outputs": [],
   "source": [
    "μ, σ = 0.0, 1.0\n",
    "u = scipy.stats.lognorm(s=σ, scale=np.exp(μ))"
   ]
  },
  {
   "cell_type": "code",
   "execution_count": null,
   "id": "96e2fb0b",
   "metadata": {
    "hide-output": false
   },
   "outputs": [],
   "source": [
    "u.mean(), u.var()"
   ]
  },
  {
   "cell_type": "code",
   "execution_count": null,
   "id": "762edc73",
   "metadata": {
    "hide-output": false
   },
   "outputs": [],
   "source": [
    "μ_vals = [-1, 0, 1]\n",
    "σ_vals = [0.25, 0.5, 1]\n",
    "x_grid = np.linspace(0, 3, 200)\n",
    "\n",
    "fig, ax = plt.subplots()\n",
    "for μ, σ in zip(μ_vals, σ_vals):\n",
    "    u = scipy.stats.lognorm(σ, scale=np.exp(μ))\n",
    "    ax.plot(x_grid, u.pdf(x_grid),\n",
    "    alpha=0.5, lw=2,\n",
    "    label=f'$\\mu={μ}, \\sigma={σ}$')\n",
    "\n",
    "plt.legend()\n",
    "plt.show()"
   ]
  },
  {
   "cell_type": "code",
   "execution_count": null,
   "id": "8775710f",
   "metadata": {
    "hide-output": false
   },
   "outputs": [],
   "source": [
    "fig, ax = plt.subplots()\n",
    "μ = 1\n",
    "for σ in σ_vals:\n",
    "    u = scipy.stats.norm(μ, σ)\n",
    "    ax.plot(x_grid, u.cdf(x_grid),\n",
    "    alpha=0.5, lw=2,\n",
    "    label=f'$\\mu={μ}, \\sigma={σ}$')\n",
    "    ax.set_ylim(0, 1)\n",
    "    ax.set_xlim(0, 3)\n",
    "plt.legend()\n",
    "plt.show()"
   ]
  },
  {
   "cell_type": "markdown",
   "id": "08ffa753",
   "metadata": {},
   "source": [
    "#### Exponential distribution\n",
    "\n",
    "The **exponential distribution** is a distribution on $ \\left(0, \\infty\\right) $ with density\n",
    "\n",
    "$$\n",
    "p(x) = \\lambda \\exp \\left( - \\lambda x \\right)\n",
    "$$\n",
    "\n",
    "This distribution has one parameter, $ \\lambda $.\n",
    "\n",
    "It is related to the Poisson distribution as it describes the distribution of the length of the time interval between two consecutive events in a Poisson process.\n",
    "\n",
    "It can be shown that, for this distribution, the mean is $ 1/\\lambda $ and the variance is $ 1/\\lambda^2 $.\n",
    "\n",
    "We can obtain the moments, PDF, and CDF of the exponential density as follows:"
   ]
  },
  {
   "cell_type": "code",
   "execution_count": null,
   "id": "2fcf7dbf",
   "metadata": {
    "hide-output": false
   },
   "outputs": [],
   "source": [
    "λ = 1.0\n",
    "u = scipy.stats.expon(scale=1/λ)"
   ]
  },
  {
   "cell_type": "code",
   "execution_count": null,
   "id": "d4b703d8",
   "metadata": {
    "hide-output": false
   },
   "outputs": [],
   "source": [
    "u.mean(), u.var()"
   ]
  },
  {
   "cell_type": "code",
   "execution_count": null,
   "id": "8372e48b",
   "metadata": {
    "hide-output": false
   },
   "outputs": [],
   "source": [
    "fig, ax = plt.subplots()\n",
    "λ_vals = [0.5, 1, 2]\n",
    "x_grid = np.linspace(0, 6, 200)\n",
    "\n",
    "for λ in λ_vals:\n",
    "    u = scipy.stats.expon(scale=1/λ)\n",
    "    ax.plot(x_grid, u.pdf(x_grid),\n",
    "    alpha=0.5, lw=2,\n",
    "    label=f'$\\lambda={λ}$')\n",
    "plt.legend()\n",
    "plt.show()"
   ]
  },
  {
   "cell_type": "code",
   "execution_count": null,
   "id": "aa137af6",
   "metadata": {
    "hide-output": false
   },
   "outputs": [],
   "source": [
    "fig, ax = plt.subplots()\n",
    "for λ in λ_vals:\n",
    "    u = scipy.stats.expon(scale=1/λ)\n",
    "    ax.plot(x_grid, u.cdf(x_grid),\n",
    "    alpha=0.5, lw=2,\n",
    "    label=f'$\\lambda={λ}$')\n",
    "    ax.set_ylim(0, 1)\n",
    "plt.legend()\n",
    "plt.show()"
   ]
  },
  {
   "cell_type": "markdown",
   "id": "96985fdb",
   "metadata": {},
   "source": [
    "#### Beta distribution\n",
    "\n",
    "The **beta distribution** is a distribution on $ (0, 1) $ with density\n",
    "\n",
    "$$\n",
    "p(x) = \\frac{\\Gamma(\\alpha + \\beta)}{\\Gamma(\\alpha) \\Gamma(\\beta)}\n",
    "        x^{\\alpha - 1} (1 - x)^{\\beta - 1}\n",
    "$$\n",
    "\n",
    "where $ \\Gamma $ is the [gamma function](https://en.wikipedia.org/wiki/Gamma_function).\n",
    "\n",
    "(The role of the gamma function is just to normalize the density, so that it\n",
    "integrates to one.)\n",
    "\n",
    "This distribution has two parameters, $ \\alpha > 0 $ and $ \\beta > 0 $.\n",
    "\n",
    "It can be shown that, for this distribution, the mean is $ \\alpha / (\\alpha + \\beta) $ and\n",
    "the variance is $ \\alpha \\beta / (\\alpha + \\beta)^2 (\\alpha + \\beta + 1) $.\n",
    "\n",
    "We can obtain the moments, PDF, and CDF of the Beta density as follows:"
   ]
  },
  {
   "cell_type": "code",
   "execution_count": null,
   "id": "e2be1191",
   "metadata": {
    "hide-output": false
   },
   "outputs": [],
   "source": [
    "α, β = 3.0, 1.0\n",
    "u = scipy.stats.beta(α, β)"
   ]
  },
  {
   "cell_type": "code",
   "execution_count": null,
   "id": "92f284d0",
   "metadata": {
    "hide-output": false
   },
   "outputs": [],
   "source": [
    "u.mean(), u.var()"
   ]
  },
  {
   "cell_type": "code",
   "execution_count": null,
   "id": "46feb4d1",
   "metadata": {
    "hide-output": false
   },
   "outputs": [],
   "source": [
    "α_vals = [0.5, 1, 5, 25, 3]\n",
    "β_vals = [3, 1, 10, 20, 0.5]\n",
    "x_grid = np.linspace(0, 1, 200)\n",
    "\n",
    "fig, ax = plt.subplots()\n",
    "for α, β in zip(α_vals, β_vals):\n",
    "    u = scipy.stats.beta(α, β)\n",
    "    ax.plot(x_grid, u.pdf(x_grid),\n",
    "    alpha=0.5, lw=2,\n",
    "    label=fr'$\\alpha={α}, \\beta={β}$')\n",
    "plt.legend()\n",
    "plt.show()"
   ]
  },
  {
   "cell_type": "code",
   "execution_count": null,
   "id": "6f804eb0",
   "metadata": {
    "hide-output": false
   },
   "outputs": [],
   "source": [
    "fig, ax = plt.subplots()\n",
    "for α, β in zip(α_vals, β_vals):\n",
    "    u = scipy.stats.beta(α, β)\n",
    "    ax.plot(x_grid, u.cdf(x_grid),\n",
    "    alpha=0.5, lw=2,\n",
    "    label=fr'$\\alpha={α}, \\beta={β}$')\n",
    "    ax.set_ylim(0, 1)\n",
    "plt.legend()\n",
    "plt.show()"
   ]
  },
  {
   "cell_type": "markdown",
   "id": "85f19e45",
   "metadata": {},
   "source": [
    "#### Gamma distribution\n",
    "\n",
    "The **gamma distribution** is a distribution on $ \\left(0, \\infty\\right) $ with density\n",
    "\n",
    "$$\n",
    "p(x) = \\frac{\\beta^\\alpha}{\\Gamma(\\alpha)}\n",
    "        x^{\\alpha - 1} \\exp(-\\beta x)\n",
    "$$\n",
    "\n",
    "This distribution has two parameters, $ \\alpha > 0 $ and $ \\beta > 0 $.\n",
    "\n",
    "It can be shown that, for this distribution, the mean is $ \\alpha / \\beta $ and\n",
    "the variance is $ \\alpha / \\beta^2 $.\n",
    "\n",
    "One interpretation is that if $ X $ is gamma distributed and $ \\alpha $ is an\n",
    "integer, then $ X $ is the sum of $ \\alpha $ independent exponentially distributed\n",
    "random variables with mean $ 1/\\beta $.\n",
    "\n",
    "We can obtain the moments, PDF, and CDF of the Gamma density as follows:"
   ]
  },
  {
   "cell_type": "code",
   "execution_count": null,
   "id": "a0f4b8d2",
   "metadata": {
    "hide-output": false
   },
   "outputs": [],
   "source": [
    "α, β = 3.0, 2.0\n",
    "u = scipy.stats.gamma(α, scale=1/β)"
   ]
  },
  {
   "cell_type": "code",
   "execution_count": null,
   "id": "5c086fe5",
   "metadata": {
    "hide-output": false
   },
   "outputs": [],
   "source": [
    "u.mean(), u.var()"
   ]
  },
  {
   "cell_type": "code",
   "execution_count": null,
   "id": "c9c74bc4",
   "metadata": {
    "hide-output": false
   },
   "outputs": [],
   "source": [
    "α_vals = [1, 3, 5, 10]\n",
    "β_vals = [3, 5, 3, 3]\n",
    "x_grid = np.linspace(0, 7, 200)\n",
    "\n",
    "fig, ax = plt.subplots()\n",
    "for α, β in zip(α_vals, β_vals):\n",
    "    u = scipy.stats.gamma(α, scale=1/β)\n",
    "    ax.plot(x_grid, u.pdf(x_grid),\n",
    "    alpha=0.5, lw=2,\n",
    "    label=fr'$\\alpha={α}, \\beta={β}$')\n",
    "plt.legend()\n",
    "plt.show()"
   ]
  },
  {
   "cell_type": "code",
   "execution_count": null,
   "id": "add6090a",
   "metadata": {
    "hide-output": false
   },
   "outputs": [],
   "source": [
    "fig, ax = plt.subplots()\n",
    "for α, β in zip(α_vals, β_vals):\n",
    "    u = scipy.stats.gamma(α, scale=1/β)\n",
    "    ax.plot(x_grid, u.cdf(x_grid),\n",
    "    alpha=0.5, lw=2,\n",
    "    label=fr'$\\alpha={α}, \\beta={β}$')\n",
    "    ax.set_ylim(0, 1)\n",
    "plt.legend()\n",
    "plt.show()"
   ]
  },
  {
   "cell_type": "markdown",
   "id": "d0e29d3c",
   "metadata": {},
   "source": [
    "## Observed distributions\n",
    "\n",
    "Sometimes we refer to observed data or measurements as “distributions”.\n",
    "\n",
    "For example, let’s say we observe the income of 10 people over a year:"
   ]
  },
  {
   "cell_type": "code",
   "execution_count": null,
   "id": "d7f5255f",
   "metadata": {
    "hide-output": false
   },
   "outputs": [],
   "source": [
    "data = [['Hiroshi', 1200], \n",
    "        ['Ako', 1210], \n",
    "        ['Emi', 1400],\n",
    "        ['Daiki', 990],\n",
    "        ['Chiyo', 1530],\n",
    "        ['Taka', 1210],\n",
    "        ['Katsuhiko', 1240],\n",
    "        ['Daisuke', 1124],\n",
    "        ['Yoshi', 1330],\n",
    "        ['Rie', 1340]]\n",
    "\n",
    "df = pd.DataFrame(data, columns=['name', 'income'])\n",
    "df"
   ]
  },
  {
   "cell_type": "markdown",
   "id": "aade22cc",
   "metadata": {},
   "source": [
    "In this situation, we might refer to the set of their incomes as the “income distribution.”\n",
    "\n",
    "The terminology is confusing because this set is not a probability distribution\n",
    "— it’s just a collection of numbers.\n",
    "\n",
    "However, as we will see, there are connections between observed distributions (i.e., sets of\n",
    "numbers like the income distribution above) and probability distributions.\n",
    "\n",
    "Below we explore some observed distributions."
   ]
  },
  {
   "cell_type": "markdown",
   "id": "915bc8ee",
   "metadata": {},
   "source": [
    "### Summary statistics\n",
    "\n",
    "Suppose we have an observed distribution with values $ \\{x_1, \\ldots, x_n\\} $\n",
    "\n",
    "The **sample mean** of this distribution is defined as\n",
    "\n",
    "$$\n",
    "\\bar x = \\frac{1}{n} \\sum_{i=1}^n x_i\n",
    "$$\n",
    "\n",
    "The **sample variance** is defined as\n",
    "\n",
    "$$\n",
    "\\frac{1}{n} \\sum_{i=1}^n (x_i - \\bar x)^2\n",
    "$$\n",
    "\n",
    "For the income distribution given above, we can calculate these numbers via"
   ]
  },
  {
   "cell_type": "code",
   "execution_count": null,
   "id": "be7c8362",
   "metadata": {
    "hide-output": false
   },
   "outputs": [],
   "source": [
    "x = np.asarray(df['income'])"
   ]
  },
  {
   "cell_type": "code",
   "execution_count": null,
   "id": "203eb69b",
   "metadata": {
    "hide-output": false
   },
   "outputs": [],
   "source": [
    "x.mean(), x.var()"
   ]
  },
  {
   "cell_type": "markdown",
   "id": "78261532",
   "metadata": {},
   "source": [
    "### Exercise 18.3\n",
    "\n",
    "Check that the formulas given above produce the same numbers."
   ]
  },
  {
   "cell_type": "markdown",
   "id": "32ab8b80",
   "metadata": {},
   "source": [
    "### Visualization\n",
    "\n",
    "Let’s look at different ways that we can visualize one or more observed distributions.\n",
    "\n",
    "We will cover\n",
    "\n",
    "- histograms  \n",
    "- kernel density estimates and  \n",
    "- violin plots  "
   ]
  },
  {
   "cell_type": "markdown",
   "id": "0ec23fbd",
   "metadata": {},
   "source": [
    "#### Histograms\n",
    "\n",
    "We can histogram the income distribution we just constructed as follows"
   ]
  },
  {
   "cell_type": "code",
   "execution_count": null,
   "id": "e3a2408c",
   "metadata": {
    "hide-output": false
   },
   "outputs": [],
   "source": [
    "x = df['income']\n",
    "fig, ax = plt.subplots()\n",
    "ax.hist(x, bins=5, density=True, histtype='bar')\n",
    "plt.show()"
   ]
  },
  {
   "cell_type": "markdown",
   "id": "73afcec0",
   "metadata": {},
   "source": [
    "Let’s look at a distribution from real data.\n",
    "\n",
    "In particular, we will look at the monthly return on Amazon shares between 2000/1/1 and 2023/1/1.\n",
    "\n",
    "The monthly return is calculated as the percent change in the share price over each month.\n",
    "\n",
    "So we will have one observation for each month."
   ]
  },
  {
   "cell_type": "code",
   "execution_count": null,
   "id": "8dbf88df",
   "metadata": {
    "hide-output": false
   },
   "outputs": [],
   "source": [
    "df = yf.download('AMZN', '2000-1-1', '2023-1-1', interval='1mo' )\n",
    "prices = df['Adj Close']\n",
    "data = prices.pct_change()[1:] * 100\n",
    "data.head()"
   ]
  },
  {
   "cell_type": "markdown",
   "id": "bc7755f6",
   "metadata": {},
   "source": [
    "The first observation is the monthly return (percent change) over January 2000, which was"
   ]
  },
  {
   "cell_type": "code",
   "execution_count": null,
   "id": "d3b6e0d6",
   "metadata": {
    "hide-output": false
   },
   "outputs": [],
   "source": [
    "data[0] "
   ]
  },
  {
   "cell_type": "markdown",
   "id": "473382e0",
   "metadata": {},
   "source": [
    "Let’s turn the return observations into an array and histogram it."
   ]
  },
  {
   "cell_type": "code",
   "execution_count": null,
   "id": "cab8dc87",
   "metadata": {
    "hide-output": false
   },
   "outputs": [],
   "source": [
    "x_amazon = np.asarray(data)"
   ]
  },
  {
   "cell_type": "code",
   "execution_count": null,
   "id": "44a03ec7",
   "metadata": {
    "hide-output": false
   },
   "outputs": [],
   "source": [
    "fig, ax = plt.subplots()\n",
    "ax.hist(x_amazon, bins=20)\n",
    "plt.show()"
   ]
  },
  {
   "cell_type": "markdown",
   "id": "02289aae",
   "metadata": {},
   "source": [
    "#### Kernel density estimates\n",
    "\n",
    "Kernel density estimate (KDE) is a non-parametric way to estimate and visualize the PDF of a distribution.\n",
    "\n",
    "KDE will generate a smooth curve that approximates the PDF."
   ]
  },
  {
   "cell_type": "code",
   "execution_count": null,
   "id": "ed489c21",
   "metadata": {
    "hide-output": false
   },
   "outputs": [],
   "source": [
    "fig, ax = plt.subplots()\n",
    "sns.kdeplot(x_amazon, ax=ax)\n",
    "plt.show()"
   ]
  },
  {
   "cell_type": "markdown",
   "id": "243d1ab1",
   "metadata": {},
   "source": [
    "The smoothness of the KDE is dependent on how we choose the bandwidth."
   ]
  },
  {
   "cell_type": "code",
   "execution_count": null,
   "id": "ecc8f840",
   "metadata": {
    "hide-output": false
   },
   "outputs": [],
   "source": [
    "fig, ax = plt.subplots()\n",
    "sns.kdeplot(x_amazon, ax=ax, bw_adjust=0.1, alpha=0.5, label=\"bw=0.1\")\n",
    "sns.kdeplot(x_amazon, ax=ax, bw_adjust=0.5, alpha=0.5, label=\"bw=0.5\")\n",
    "sns.kdeplot(x_amazon, ax=ax, bw_adjust=1, alpha=0.5, label=\"bw=1\")\n",
    "plt.legend()\n",
    "plt.show()"
   ]
  },
  {
   "cell_type": "markdown",
   "id": "19f301d8",
   "metadata": {},
   "source": [
    "When we use a larger bandwidth, the KDE is smoother.\n",
    "\n",
    "A suitable bandwidth is not too smooth (underfitting) or too wiggly (overfitting)."
   ]
  },
  {
   "cell_type": "markdown",
   "id": "2d8fba41",
   "metadata": {},
   "source": [
    "#### Violin plots\n",
    "\n",
    "Yet another way to display an observed distribution is via a violin plot."
   ]
  },
  {
   "cell_type": "code",
   "execution_count": null,
   "id": "b767b903",
   "metadata": {
    "hide-output": false
   },
   "outputs": [],
   "source": [
    "fig, ax = plt.subplots()\n",
    "ax.violinplot(x_amazon)\n",
    "plt.show()"
   ]
  },
  {
   "cell_type": "markdown",
   "id": "33f686ab",
   "metadata": {},
   "source": [
    "Violin plots are particularly useful when we want to compare different distributions.\n",
    "\n",
    "For example, let’s compare the monthly returns on Amazon shares with the monthly return on Apple shares."
   ]
  },
  {
   "cell_type": "code",
   "execution_count": null,
   "id": "55b1c743",
   "metadata": {
    "hide-output": false
   },
   "outputs": [],
   "source": [
    "df = yf.download('AAPL', '2000-1-1', '2023-1-1', interval='1mo' )\n",
    "prices = df['Adj Close']\n",
    "data = prices.pct_change()[1:] * 100\n",
    "x_apple = np.asarray(data)"
   ]
  },
  {
   "cell_type": "code",
   "execution_count": null,
   "id": "90ce93e9",
   "metadata": {
    "hide-output": false
   },
   "outputs": [],
   "source": [
    "fig, ax = plt.subplots()\n",
    "ax.violinplot([x_amazon, x_apple])\n",
    "plt.show()"
   ]
  },
  {
   "cell_type": "markdown",
   "id": "12ab340b",
   "metadata": {},
   "source": [
    "### Connection to probability distributions\n",
    "\n",
    "Let’s discuss the connection between observed distributions and probability distributions.\n",
    "\n",
    "Sometimes it’s helpful to imagine that an observed distribution is generated by a particular probability distribution.\n",
    "\n",
    "For example, we might look at the returns from Amazon above and imagine that they were generated by a normal distribution.\n",
    "\n",
    "Even though this is not true, it might be a helpful way to think about the data.\n",
    "\n",
    "Here we match a normal distribution to the Amazon monthly returns by setting the sample mean to the mean of the normal distribution and the sample variance equal to the variance.\n",
    "\n",
    "Then we plot the density and the histogram."
   ]
  },
  {
   "cell_type": "code",
   "execution_count": null,
   "id": "7fc9230b",
   "metadata": {
    "hide-output": false
   },
   "outputs": [],
   "source": [
    "μ = x_amazon.mean()\n",
    "σ_squared = x_amazon.var()\n",
    "σ = np.sqrt(σ_squared)\n",
    "u = scipy.stats.norm(μ, σ)"
   ]
  },
  {
   "cell_type": "code",
   "execution_count": null,
   "id": "70e665de",
   "metadata": {
    "hide-output": false
   },
   "outputs": [],
   "source": [
    "x_grid = np.linspace(-50, 65, 200)\n",
    "fig, ax = plt.subplots()\n",
    "ax.plot(x_grid, u.pdf(x_grid))\n",
    "ax.hist(x_amazon, density=True, bins=40)\n",
    "plt.show()"
   ]
  },
  {
   "cell_type": "markdown",
   "id": "dd84563c",
   "metadata": {},
   "source": [
    "The match between the histogram and the density is not very bad but also not very good.\n",
    "\n",
    "One reason is that the normal distribution is not really a good fit for this observed data — we will discuss this point again when we talk about [heavy tailed distributions](https://intro.quantecon.org/heavy_tails.html#heavy-tail).\n",
    "\n",
    "Of course, if the data really *is* generated by the normal distribution, then the fit will be better.\n",
    "\n",
    "Let’s see this in action\n",
    "\n",
    "- first we generate random draws from the normal distribution  \n",
    "- then we histogram them and compare with the density.  "
   ]
  },
  {
   "cell_type": "code",
   "execution_count": null,
   "id": "c1e496c3",
   "metadata": {
    "hide-output": false
   },
   "outputs": [],
   "source": [
    "μ, σ = 0, 1\n",
    "u = scipy.stats.norm(μ, σ)\n",
    "N = 2000  # Number of observations\n",
    "x_draws = u.rvs(N)\n",
    "x_grid = np.linspace(-4, 4, 200)\n",
    "fig, ax = plt.subplots()\n",
    "ax.plot(x_grid, u.pdf(x_grid))\n",
    "ax.hist(x_draws, density=True, bins=40)\n",
    "plt.show()"
   ]
  },
  {
   "cell_type": "markdown",
   "id": "454cdddb",
   "metadata": {},
   "source": [
    "Note that if you keep increasing $ N $, which is the number of observations, the fit will get better and better.\n",
    "\n",
    "This convergence is a version of the “law of large numbers”, which we will discuss [later](https://intro.quantecon.org/lln_clt.html#lln-mr)."
   ]
  }
 ],
 "metadata": {
  "date": 1721179655.7601206,
  "filename": "prob_dist.md",
  "kernelspec": {
   "display_name": "Python",
   "language": "python3",
   "name": "python3"
  },
  "title": "Distributions and Probabilities"
 },
 "nbformat": 4,
 "nbformat_minor": 5
}