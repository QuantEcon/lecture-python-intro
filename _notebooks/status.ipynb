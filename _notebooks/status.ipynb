{
 "cells": [
  {
   "cell_type": "markdown",
   "id": "598d546b",
   "metadata": {},
   "source": [
    "# Execution Statistics\n",
    "\n",
    "This table contains the latest execution statistics.\n",
    "\n",
    "[](https://intro.quantecon.org/ar1_processes.html)[](https://intro.quantecon.org/business_cycle.html)[](https://intro.quantecon.org/cagan_adaptive.html)[](https://intro.quantecon.org/cagan_ree.html)[](https://intro.quantecon.org/cobweb.html)[](https://intro.quantecon.org/commod_price.html)[](https://intro.quantecon.org/complex_and_trig.html)[](https://intro.quantecon.org/cons_smooth.html)[](https://intro.quantecon.org/eigen_I.html)[](https://intro.quantecon.org/eigen_II.html)[](https://intro.quantecon.org/equalizing_difference.html)[](https://intro.quantecon.org/french_rev.html)[](https://intro.quantecon.org/geom_series.html)[](https://intro.quantecon.org/greek_square.html)[](https://intro.quantecon.org/heavy_tails.html)[](https://intro.quantecon.org/inequality.html)[](https://intro.quantecon.org/inflation_history.html)[](https://intro.quantecon.org/input_output.html)[](https://intro.quantecon.org/intro.html)[](https://intro.quantecon.org/intro_supply_demand.html)[](https://intro.quantecon.org/laffer_adaptive.html)[](https://intro.quantecon.org/lake_model.html)[](https://intro.quantecon.org/linear_equations.html)[](https://intro.quantecon.org/lln_clt.html)[](https://intro.quantecon.org/long_run_growth.html)[](https://intro.quantecon.org/lp_intro.html)[](https://intro.quantecon.org/markov_chains_I.html)[](https://intro.quantecon.org/markov_chains_II.html)[](https://intro.quantecon.org/mle.html)[](https://intro.quantecon.org/money_inflation.html)[](https://intro.quantecon.org/money_inflation_nonlinear.html)[](https://intro.quantecon.org/monte_carlo.html)[](https://intro.quantecon.org/networks.html)[](https://intro.quantecon.org/olg.html)[](https://intro.quantecon.org/prob_dist.html)[](https://intro.quantecon.org/pv.html)[](https://intro.quantecon.org/scalar_dynam.html)[](https://intro.quantecon.org/schelling.html)[](https://intro.quantecon.org/short_path.html)[](https://intro.quantecon.org/simple_linear_regression.html)[](https://intro.quantecon.org/solow.html)[](https://intro.quantecon.org/.html)[](https://intro.quantecon.org/supply_demand_heterogeneity.html)[](https://intro.quantecon.org/supply_demand_multiple_goods.html)[](https://intro.quantecon.org/tax_smooth.html)[](https://intro.quantecon.org/time_series_with_matrices.html)[](https://intro.quantecon.org/troubleshooting.html)[](https://intro.quantecon.org/unpleasant.html)[](https://intro.quantecon.org/zreferences.html)|Document|Modified|Method|Run Time (s)|Status|\n",
    "|:------------------:|:------------------:|:------------------:|:------------------:|:------------------:|\n",
    "|ar1_processes|2025-02-03 18:29|cache|6.06|✅|\n",
    "|business_cycle|2025-02-03 18:29|cache|12.61|✅|\n",
    "|cagan_adaptive|2025-02-03 18:29|cache|2.44|✅|\n",
    "|cagan_ree|2025-02-03 18:29|cache|3.59|✅|\n",
    "|cobweb|2025-02-03 18:29|cache|2.81|✅|\n",
    "|commod_price|2025-02-03 18:30|cache|16.31|✅|\n",
    "|complex_and_trig|2025-02-03 18:30|cache|2.41|✅|\n",
    "|cons_smooth|2025-02-03 18:30|cache|3.85|✅|\n",
    "|eigen_I|2025-02-03 18:30|cache|4.95|✅|\n",
    "|eigen_II|2025-02-03 18:30|cache|5.76|✅|\n",
    "|equalizing_difference|2025-02-03 18:30|cache|2.43|✅|\n",
    "|french_rev|2025-02-03 18:30|cache|8.96|✅|\n",
    "|geom_series|2025-02-03 18:30|cache|3.03|✅|\n",
    "|greek_square|2025-02-03 18:30|cache|2.5|✅|\n",
    "|heavy_tails|2025-02-03 18:30|cache|15.23|✅|\n",
    "|inequality|2025-02-03 18:31|cache|49.86|✅|\n",
    "|inflation_history|2025-02-03 18:31|cache|8.31|✅|\n",
    "|input_output|2025-02-03 18:32|cache|8.84|✅|\n",
    "|intro|2025-02-03 18:32|cache|0.99|✅|\n",
    "|intro_supply_demand|2025-02-03 18:32|cache|2.66|✅|\n",
    "|laffer_adaptive|2025-02-03 18:32|cache|2.41|✅|\n",
    "|lake_model|2025-02-03 18:32|cache|2.77|✅|\n",
    "|linear_equations|2025-02-03 18:32|cache|2.14|✅|\n",
    "|lln_clt|2025-02-03 18:34|cache|151.8|✅|\n",
    "|long_run_growth|2025-02-03 18:34|cache|8.18|✅|\n",
    "|lp_intro|2025-02-03 18:34|cache|5.07|✅|\n",
    "|markov_chains_I|2025-02-03 18:35|cache|14.89|✅|\n",
    "|markov_chains_II|2025-02-03 18:35|cache|4.87|✅|\n",
    "|mle|2025-02-03 18:35|cache|7.22|✅|\n",
    "|money_inflation|2025-02-03 18:35|cache|3.16|✅|\n",
    "|money_inflation_nonlinear|2025-02-03 18:35|cache|2.52|✅|\n",
    "|monte_carlo|2025-02-03 18:38|cache|202.04|✅|\n",
    "|networks|2025-02-03 18:39|cache|7.65|✅|\n",
    "|olg|2025-02-03 18:39|cache|2.61|✅|\n",
    "|prob_dist|2025-02-03 18:39|cache|7.11|✅|\n",
    "|pv|2025-02-03 18:39|cache|1.72|✅|\n",
    "|scalar_dynam|2025-02-03 18:39|cache|3.27|✅|\n",
    "|schelling|2025-02-03 18:39|cache|12.69|✅|\n",
    "|short_path|2025-02-03 18:39|cache|1.08|✅|\n",
    "|simple_linear_regression|2025-02-03 18:39|cache|4.71|✅|\n",
    "|solow|2025-02-03 18:39|cache|3.8|✅|\n",
    "|status|2025-02-03 18:39|cache|4.4|✅|\n",
    "|supply_demand_heterogeneity|2025-02-03 18:39|cache|1.08|✅|\n",
    "|supply_demand_multiple_goods|2025-02-03 18:39|cache|1.88|✅|\n",
    "|tax_smooth|2025-02-03 18:39|cache|3.44|✅|\n",
    "|time_series_with_matrices|2025-02-03 18:39|cache|2.87|✅|\n",
    "|troubleshooting|2025-02-03 18:32|cache|0.99|✅|\n",
    "|unpleasant|2025-02-03 18:39|cache|1.85|✅|\n",
    "|zreferences|2025-02-03 18:32|cache|0.99|✅|\n",
    "\n",
    "<a id='status-machine-details'></a>\n",
    "These lectures are built on `linux` instances through `github actions`.\n",
    "\n",
    "These lectures are using the following python version"
   ]
  },
  {
   "cell_type": "code",
   "execution_count": null,
   "id": "5bc8f8cc",
   "metadata": {
    "hide-output": false
   },
   "outputs": [],
   "source": [
    "!python --version"
   ]
  },
  {
   "cell_type": "markdown",
   "id": "1aa0dc22",
   "metadata": {},
   "source": [
    "and the following package versions"
   ]
  },
  {
   "cell_type": "code",
   "execution_count": null,
   "id": "0b50f709",
   "metadata": {
    "hide-output": false
   },
   "outputs": [],
   "source": [
    "!conda list"
   ]
  }
 ],
 "metadata": {
  "date": 1738619633.272877,
  "filename": "status.md",
  "kernelspec": {
   "display_name": "Python",
   "language": "python3",
   "name": "python3"
  },
  "title": "Execution Statistics"
 },
 "nbformat": 4,
 "nbformat_minor": 5
}