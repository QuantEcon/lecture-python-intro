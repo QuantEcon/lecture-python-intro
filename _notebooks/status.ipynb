{
 "cells": [
  {
   "cell_type": "markdown",
   "id": "19689aa8",
   "metadata": {},
   "source": [
    "# Execution Statistics\n",
    "\n",
    "This table contains the latest execution statistics.\n",
    "\n",
    "[](https://intro.quantecon.org/ar1_processes.html)[](https://intro.quantecon.org/business_cycle.html)[](https://intro.quantecon.org/cagan_adaptive.html)[](https://intro.quantecon.org/cagan_ree.html)[](https://intro.quantecon.org/cobweb.html)[](https://intro.quantecon.org/commod_price.html)[](https://intro.quantecon.org/complex_and_trig.html)[](https://intro.quantecon.org/cons_smooth.html)[](https://intro.quantecon.org/eigen_I.html)[](https://intro.quantecon.org/eigen_II.html)[](https://intro.quantecon.org/equalizing_difference.html)[](https://intro.quantecon.org/french_rev.html)[](https://intro.quantecon.org/geom_series.html)[](https://intro.quantecon.org/greek_square.html)[](https://intro.quantecon.org/heavy_tails.html)[](https://intro.quantecon.org/inequality.html)[](https://intro.quantecon.org/inflation_history.html)[](https://intro.quantecon.org/input_output.html)[](https://intro.quantecon.org/intro.html)[](https://intro.quantecon.org/intro_supply_demand.html)[](https://intro.quantecon.org/laffer_adaptive.html)[](https://intro.quantecon.org/lake_model.html)[](https://intro.quantecon.org/linear_equations.html)[](https://intro.quantecon.org/lln_clt.html)[](https://intro.quantecon.org/long_run_growth.html)[](https://intro.quantecon.org/lp_intro.html)[](https://intro.quantecon.org/markov_chains_I.html)[](https://intro.quantecon.org/markov_chains_II.html)[](https://intro.quantecon.org/mle.html)[](https://intro.quantecon.org/money_inflation.html)[](https://intro.quantecon.org/money_inflation_nonlinear.html)[](https://intro.quantecon.org/monte_carlo.html)[](https://intro.quantecon.org/networks.html)[](https://intro.quantecon.org/olg.html)[](https://intro.quantecon.org/prob_dist.html)[](https://intro.quantecon.org/pv.html)[](https://intro.quantecon.org/scalar_dynam.html)[](https://intro.quantecon.org/schelling.html)[](https://intro.quantecon.org/short_path.html)[](https://intro.quantecon.org/simple_linear_regression.html)[](https://intro.quantecon.org/solow.html)[](https://intro.quantecon.org/.html)[](https://intro.quantecon.org/supply_demand_heterogeneity.html)[](https://intro.quantecon.org/supply_demand_multiple_goods.html)[](https://intro.quantecon.org/tax_smooth.html)[](https://intro.quantecon.org/time_series_with_matrices.html)[](https://intro.quantecon.org/troubleshooting.html)[](https://intro.quantecon.org/unpleasant.html)[](https://intro.quantecon.org/zreferences.html)|Document|Modified|Method|Run Time (s)|Status|\n",
    "|:------------------:|:------------------:|:------------------:|:------------------:|:------------------:|\n",
    "|ar1_processes|2025-04-24 05:25|cache|6.71|✅|\n",
    "|business_cycle|2025-04-24 05:25|cache|10.76|✅|\n",
    "|cagan_adaptive|2025-04-24 05:25|cache|2.55|✅|\n",
    "|cagan_ree|2025-04-24 05:25|cache|3.38|✅|\n",
    "|cobweb|2025-04-24 05:25|cache|2.7|✅|\n",
    "|commod_price|2025-04-24 05:25|cache|15.06|✅|\n",
    "|complex_and_trig|2025-04-24 05:25|cache|2.49|✅|\n",
    "|cons_smooth|2025-04-24 05:26|cache|3.47|✅|\n",
    "|eigen_I|2025-04-24 05:26|cache|4.69|✅|\n",
    "|eigen_II|2025-04-24 05:26|cache|5.65|✅|\n",
    "|equalizing_difference|2025-04-24 05:26|cache|2.28|✅|\n",
    "|french_rev|2025-04-24 05:26|cache|5.84|✅|\n",
    "|geom_series|2025-04-24 05:26|cache|2.84|✅|\n",
    "|greek_square|2025-04-24 05:26|cache|2.61|✅|\n",
    "|heavy_tails|2025-04-24 05:26|cache|14.11|✅|\n",
    "|inequality|2025-04-24 05:27|cache|45.22|✅|\n",
    "|inflation_history|2025-04-24 05:27|cache|6.81|✅|\n",
    "|input_output|2025-04-24 05:27|cache|7.23|✅|\n",
    "|intro|2025-04-24 05:27|cache|4.02|✅|\n",
    "|intro_supply_demand|2025-04-24 05:27|cache|2.44|✅|\n",
    "|laffer_adaptive|2025-04-24 05:27|cache|2.44|✅|\n",
    "|lake_model|2025-04-24 05:27|cache|2.61|✅|\n",
    "|linear_equations|2025-04-24 05:27|cache|2.1|✅|\n",
    "|lln_clt|2025-04-24 05:30|cache|150.3|✅|\n",
    "|long_run_growth|2025-04-24 05:30|cache|7.38|✅|\n",
    "|lp_intro|2025-04-24 05:30|cache|4.39|✅|\n",
    "|markov_chains_I|2025-04-24 05:30|cache|14.35|✅|\n",
    "|markov_chains_II|2025-04-24 05:30|cache|4.62|✅|\n",
    "|mle|2025-04-24 05:31|cache|6.61|✅|\n",
    "|money_inflation|2025-04-24 05:31|cache|2.71|✅|\n",
    "|money_inflation_nonlinear|2025-04-24 05:31|cache|2.14|✅|\n",
    "|monte_carlo|2025-04-24 05:34|cache|203.44|✅|\n",
    "|networks|2025-04-24 05:34|cache|7.14|✅|\n",
    "|olg|2025-04-24 05:34|cache|2.43|✅|\n",
    "|prob_dist|2025-04-24 05:34|cache|6.23|✅|\n",
    "|pv|2025-04-24 05:34|cache|1.75|✅|\n",
    "|scalar_dynam|2025-04-24 05:34|cache|3.09|✅|\n",
    "|schelling|2025-04-24 05:35|cache|12.63|✅|\n",
    "|short_path|2025-04-24 05:35|cache|1.11|✅|\n",
    "|simple_linear_regression|2025-04-24 05:35|cache|4.24|✅|\n",
    "|solow|2025-04-24 05:35|cache|3.5|✅|\n",
    "|status|2025-04-24 05:35|cache|4.14|✅|\n",
    "|supply_demand_heterogeneity|2025-04-24 05:35|cache|0.95|✅|\n",
    "|supply_demand_multiple_goods|2025-04-24 05:35|cache|2.03|✅|\n",
    "|tax_smooth|2025-04-24 05:35|cache|3.37|✅|\n",
    "|time_series_with_matrices|2025-04-24 05:35|cache|2.72|✅|\n",
    "|troubleshooting|2025-04-24 05:27|cache|4.02|✅|\n",
    "|unpleasant|2025-04-24 05:35|cache|1.77|✅|\n",
    "|zreferences|2025-04-24 05:27|cache|4.02|✅|\n",
    "\n",
    "<a id='status-machine-details'></a>\n",
    "These lectures are built on `linux` instances through `github actions`.\n",
    "\n",
    "These lectures are using the following python version"
   ]
  },
  {
   "cell_type": "code",
   "execution_count": null,
   "id": "9ca0e78b",
   "metadata": {
    "hide-output": false
   },
   "outputs": [],
   "source": [
    "!python --version"
   ]
  },
  {
   "cell_type": "markdown",
   "id": "f200e0da",
   "metadata": {},
   "source": [
    "and the following package versions"
   ]
  },
  {
   "cell_type": "code",
   "execution_count": null,
   "id": "ff742f2f",
   "metadata": {
    "hide-output": false
   },
   "outputs": [],
   "source": [
    "!conda list"
   ]
  }
 ],
 "metadata": {
  "date": 1745476283.301317,
  "filename": "status.md",
  "kernelspec": {
   "display_name": "Python",
   "language": "python3",
   "name": "python3"
  },
  "title": "Execution Statistics"
 },
 "nbformat": 4,
 "nbformat_minor": 5
}