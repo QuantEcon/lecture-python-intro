{
 "cells": [
  {
   "cell_type": "markdown",
   "id": "bfdf2623",
   "metadata": {},
   "source": [
    "# Execution Statistics\n",
    "\n",
    "This table contains the latest execution statistics.\n",
    "\n",
    "[](https://intro.quantecon.org/ak2.html)[](https://intro.quantecon.org/ar1_processes.html)[](https://intro.quantecon.org/business_cycle.html)[](https://intro.quantecon.org/cagan_adaptive.html)[](https://intro.quantecon.org/cagan_ree.html)[](https://intro.quantecon.org/cobweb.html)[](https://intro.quantecon.org/commod_price.html)[](https://intro.quantecon.org/complex_and_trig.html)[](https://intro.quantecon.org/cons_smooth.html)[](https://intro.quantecon.org/eigen_I.html)[](https://intro.quantecon.org/eigen_II.html)[](https://intro.quantecon.org/equalizing_difference.html)[](https://intro.quantecon.org/geom_series.html)[](https://intro.quantecon.org/heavy_tails.html)[](https://intro.quantecon.org/inequality.html)[](https://intro.quantecon.org/inflation_history.html)[](https://intro.quantecon.org/input_output.html)[](https://intro.quantecon.org/intro.html)[](https://intro.quantecon.org/intro_supply_demand.html)[](https://intro.quantecon.org/laffer_adaptive.html)[](https://intro.quantecon.org/lake_model.html)[](https://intro.quantecon.org/linear_equations.html)[](https://intro.quantecon.org/lln_clt.html)[](https://intro.quantecon.org/long_run_growth.html)[](https://intro.quantecon.org/lp_intro.html)[](https://intro.quantecon.org/markov_chains_I.html)[](https://intro.quantecon.org/markov_chains_II.html)[](https://intro.quantecon.org/mle.html)[](https://intro.quantecon.org/money_inflation.html)[](https://intro.quantecon.org/money_inflation_nonlinear.html)[](https://intro.quantecon.org/monte_carlo.html)[](https://intro.quantecon.org/networks.html)[](https://intro.quantecon.org/olg.html)[](https://intro.quantecon.org/prob_dist.html)[](https://intro.quantecon.org/pv.html)[](https://intro.quantecon.org/scalar_dynam.html)[](https://intro.quantecon.org/schelling.html)[](https://intro.quantecon.org/short_path.html)[](https://intro.quantecon.org/simple_linear_regression.html)[](https://intro.quantecon.org/solow.html)[](https://intro.quantecon.org/.html)[](https://intro.quantecon.org/supply_demand_heterogeneity.html)[](https://intro.quantecon.org/supply_demand_multiple_goods.html)[](https://intro.quantecon.org/time_series_with_matrices.html)[](https://intro.quantecon.org/troubleshooting.html)[](https://intro.quantecon.org/unpleasant.html)[](https://intro.quantecon.org/zreferences.html)|Document|Modified|Method|Run Time (s)|Status|\n",
    "|:------------------:|:------------------:|:------------------:|:------------------:|:------------------:|\n",
    "|ak2|2024-06-05 23:48|cache|17.3|✅|\n",
    "|ar1_processes|2024-06-05 23:48|cache|3.84|✅|\n",
    "|business_cycle|2024-06-05 23:49|cache|12.65|✅|\n",
    "|cagan_adaptive|2024-06-05 23:49|cache|2.78|✅|\n",
    "|cagan_ree|2024-06-05 23:49|cache|3.89|✅|\n",
    "|cobweb|2024-06-05 23:49|cache|2.89|✅|\n",
    "|commod_price|2024-06-05 23:49|cache|14.24|✅|\n",
    "|complex_and_trig|2024-06-05 23:49|cache|2.45|✅|\n",
    "|cons_smooth|2024-06-05 23:49|cache|3.19|✅|\n",
    "|eigen_I|2024-06-05 23:49|cache|4.94|✅|\n",
    "|eigen_II|2024-06-05 23:49|cache|4.99|✅|\n",
    "|equalizing_difference|2024-06-05 23:49|cache|2.43|✅|\n",
    "|geom_series|2024-06-05 23:49|cache|3.04|✅|\n",
    "|heavy_tails|2024-06-05 23:50|cache|16.59|✅|\n",
    "|inequality|2024-06-06 02:44|cache|40.34|✅|\n",
    "|inflation_history|2024-06-05 23:50|cache|8.84|✅|\n",
    "|input_output|2024-06-05 23:50|cache|12.65|✅|\n",
    "|intro|2024-06-05 23:50|cache|0.8|✅|\n",
    "|intro_supply_demand|2024-06-05 23:51|cache|2.7|✅|\n",
    "|laffer_adaptive|2024-06-05 23:51|cache|2.38|✅|\n",
    "|lake_model|2024-06-05 23:51|cache|2.57|✅|\n",
    "|linear_equations|2024-06-05 23:51|cache|1.95|✅|\n",
    "|lln_clt|2024-06-05 23:53|cache|152.51|✅|\n",
    "|long_run_growth|2024-06-05 23:53|cache|7.74|✅|\n",
    "|lp_intro|2024-06-05 23:53|cache|6.39|✅|\n",
    "|markov_chains_I|2024-06-05 23:54|cache|9.69|✅|\n",
    "|markov_chains_II|2024-06-05 23:54|cache|6.67|✅|\n",
    "|mle|2024-06-05 23:54|cache|7.19|✅|\n",
    "|money_inflation|2024-06-05 23:54|cache|3.02|✅|\n",
    "|money_inflation_nonlinear|2024-06-05 23:54|cache|2.32|✅|\n",
    "|monte_carlo|2024-06-05 23:57|cache|192.97|✅|\n",
    "|networks|2024-06-05 23:57|cache|9.13|✅|\n",
    "|olg|2024-06-05 23:57|cache|2.76|✅|\n",
    "|prob_dist|2024-06-05 23:57|cache|8.33|✅|\n",
    "|pv|2024-06-05 23:58|cache|1.67|✅|\n",
    "|scalar_dynam|2024-06-05 23:58|cache|3.26|✅|\n",
    "|schelling|2024-06-05 23:58|cache|12.28|✅|\n",
    "|short_path|2024-06-05 23:58|cache|1.01|✅|\n",
    "|simple_linear_regression|2024-06-05 23:58|cache|4.1|✅|\n",
    "|solow|2024-06-05 23:58|cache|4.04|✅|\n",
    "|status|2024-06-05 23:58|cache|4.94|✅|\n",
    "|supply_demand_heterogeneity|2024-06-05 23:58|cache|1.27|✅|\n",
    "|supply_demand_multiple_goods|2024-06-05 23:58|cache|2.13|✅|\n",
    "|time_series_with_matrices|2024-06-05 23:58|cache|2.85|✅|\n",
    "|troubleshooting|2024-06-05 23:50|cache|0.8|✅|\n",
    "|unpleasant|2024-06-05 23:58|cache|1.83|✅|\n",
    "|zreferences|2024-06-05 23:50|cache|0.8|✅|\n",
    "\n",
    "<a id='status-machine-details'></a>\n",
    "These lectures are built on `linux` instances through `github actions`.\n",
    "\n",
    "These lectures are using the following python version"
   ]
  },
  {
   "cell_type": "code",
   "execution_count": null,
   "id": "1380d970",
   "metadata": {
    "hide-output": false
   },
   "outputs": [],
   "source": [
    "!python --version"
   ]
  },
  {
   "cell_type": "markdown",
   "id": "f944f653",
   "metadata": {},
   "source": [
    "and the following package versions"
   ]
  },
  {
   "cell_type": "code",
   "execution_count": null,
   "id": "802b0602",
   "metadata": {
    "hide-output": false
   },
   "outputs": [],
   "source": [
    "!conda list"
   ]
  }
 ],
 "metadata": {
  "date": 1717641992.2332435,
  "filename": "status.md",
  "kernelspec": {
   "display_name": "Python",
   "language": "python3",
   "name": "python3"
  },
  "title": "Execution Statistics"
 },
 "nbformat": 4,
 "nbformat_minor": 5
}