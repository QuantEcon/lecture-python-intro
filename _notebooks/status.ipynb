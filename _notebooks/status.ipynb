{
 "cells": [
  {
   "cell_type": "markdown",
   "id": "7016a965",
   "metadata": {},
   "source": [
    "# Execution Statistics\n",
    "\n",
    "This table contains the latest execution statistics.\n",
    "\n",
    "[](https://intro.quantecon.org/ar1_processes.html)[](https://intro.quantecon.org/business_cycle.html)[](https://intro.quantecon.org/cagan_adaptive.html)[](https://intro.quantecon.org/cagan_ree.html)[](https://intro.quantecon.org/cobweb.html)[](https://intro.quantecon.org/commod_price.html)[](https://intro.quantecon.org/complex_and_trig.html)[](https://intro.quantecon.org/cons_smooth.html)[](https://intro.quantecon.org/eigen_I.html)[](https://intro.quantecon.org/eigen_II.html)[](https://intro.quantecon.org/equalizing_difference.html)[](https://intro.quantecon.org/french_rev.html)[](https://intro.quantecon.org/geom_series.html)[](https://intro.quantecon.org/greek_square.html)[](https://intro.quantecon.org/heavy_tails.html)[](https://intro.quantecon.org/inequality.html)[](https://intro.quantecon.org/inflation_history.html)[](https://intro.quantecon.org/input_output.html)[](https://intro.quantecon.org/intro.html)[](https://intro.quantecon.org/intro_supply_demand.html)[](https://intro.quantecon.org/laffer_adaptive.html)[](https://intro.quantecon.org/lake_model.html)[](https://intro.quantecon.org/linear_equations.html)[](https://intro.quantecon.org/lln_clt.html)[](https://intro.quantecon.org/long_run_growth.html)[](https://intro.quantecon.org/lp_intro.html)[](https://intro.quantecon.org/markov_chains_I.html)[](https://intro.quantecon.org/markov_chains_II.html)[](https://intro.quantecon.org/mle.html)[](https://intro.quantecon.org/money_inflation.html)[](https://intro.quantecon.org/money_inflation_nonlinear.html)[](https://intro.quantecon.org/monte_carlo.html)[](https://intro.quantecon.org/networks.html)[](https://intro.quantecon.org/olg.html)[](https://intro.quantecon.org/prob_dist.html)[](https://intro.quantecon.org/pv.html)[](https://intro.quantecon.org/scalar_dynam.html)[](https://intro.quantecon.org/schelling.html)[](https://intro.quantecon.org/short_path.html)[](https://intro.quantecon.org/simple_linear_regression.html)[](https://intro.quantecon.org/solow.html)[](https://intro.quantecon.org/.html)[](https://intro.quantecon.org/supply_demand_heterogeneity.html)[](https://intro.quantecon.org/supply_demand_multiple_goods.html)[](https://intro.quantecon.org/time_series_with_matrices.html)[](https://intro.quantecon.org/troubleshooting.html)[](https://intro.quantecon.org/unpleasant.html)[](https://intro.quantecon.org/zreferences.html)|Document|Modified|Method|Run Time (s)|Status|\n",
    "|:------------------:|:------------------:|:------------------:|:------------------:|:------------------:|\n",
    "|ar1_processes|2025-01-27 21:06|cache|7.42|✅|\n",
    "|business_cycle|2025-01-27 21:06|cache|9.57|✅|\n",
    "|cagan_adaptive|2025-01-27 21:06|cache|2.69|✅|\n",
    "|cagan_ree|2025-01-27 21:06|cache|3.59|✅|\n",
    "|cobweb|2025-01-27 21:06|cache|2.92|✅|\n",
    "|commod_price|2025-01-27 21:07|cache|16.41|✅|\n",
    "|complex_and_trig|2025-01-27 21:07|cache|2.49|✅|\n",
    "|cons_smooth|2025-01-27 21:07|cache|3.06|✅|\n",
    "|eigen_I|2025-01-27 21:07|cache|4.99|✅|\n",
    "|eigen_II|2025-01-27 21:07|cache|5.82|✅|\n",
    "|equalizing_difference|2025-01-27 21:07|cache|2.54|✅|\n",
    "|french_rev|2025-01-27 21:07|cache|7.07|✅|\n",
    "|geom_series|2025-01-27 21:07|cache|3.21|✅|\n",
    "|greek_square|2025-01-27 21:07|cache|2.66|✅|\n",
    "|heavy_tails|2025-01-27 21:07|cache|14.61|✅|\n",
    "|inequality|2025-01-27 21:08|cache|35.97|✅|\n",
    "|inflation_history|2025-01-27 21:08|cache|7.45|✅|\n",
    "|input_output|2025-01-27 21:08|cache|7.74|✅|\n",
    "|intro|2025-01-27 21:08|cache|1.18|✅|\n",
    "|intro_supply_demand|2025-01-27 21:08|cache|2.89|✅|\n",
    "|laffer_adaptive|2025-01-27 21:08|cache|2.4|✅|\n",
    "|lake_model|2025-01-27 21:09|cache|2.79|✅|\n",
    "|linear_equations|2025-01-27 21:09|cache|2.22|✅|\n",
    "|lln_clt|2025-01-27 21:11|cache|150.49|✅|\n",
    "|long_run_growth|2025-01-27 21:11|cache|8.11|✅|\n",
    "|lp_intro|2025-01-27 21:11|cache|4.5|✅|\n",
    "|markov_chains_I|2025-01-27 21:12|cache|14.84|✅|\n",
    "|markov_chains_II|2025-01-27 21:12|cache|5.06|✅|\n",
    "|mle|2025-01-27 21:12|cache|7.07|✅|\n",
    "|money_inflation|2025-01-27 21:12|cache|2.92|✅|\n",
    "|money_inflation_nonlinear|2025-01-27 21:12|cache|2.5|✅|\n",
    "|monte_carlo|2025-01-27 21:15|cache|199.52|✅|\n",
    "|networks|2025-01-27 21:15|cache|7.78|✅|\n",
    "|olg|2025-01-27 21:15|cache|2.76|✅|\n",
    "|prob_dist|2025-01-27 21:15|cache|7.67|✅|\n",
    "|pv|2025-01-27 21:16|cache|1.92|✅|\n",
    "|scalar_dynam|2025-01-27 21:16|cache|3.1|✅|\n",
    "|schelling|2025-01-27 21:16|cache|12.58|✅|\n",
    "|short_path|2025-01-27 21:16|cache|1.1|✅|\n",
    "|simple_linear_regression|2025-01-27 21:16|cache|4.31|✅|\n",
    "|solow|2025-01-27 21:16|cache|4.0|✅|\n",
    "|status|2025-01-27 21:16|cache|4.22|✅|\n",
    "|supply_demand_heterogeneity|2025-01-27 21:16|cache|1.28|✅|\n",
    "|supply_demand_multiple_goods|2025-01-27 21:16|cache|1.88|✅|\n",
    "|time_series_with_matrices|2025-01-27 21:16|cache|2.62|✅|\n",
    "|troubleshooting|2025-01-27 21:08|cache|1.18|✅|\n",
    "|unpleasant|2025-01-27 21:16|cache|1.79|✅|\n",
    "|zreferences|2025-01-27 21:08|cache|1.18|✅|\n",
    "\n",
    "<a id='status-machine-details'></a>\n",
    "These lectures are built on `linux` instances through `github actions`.\n",
    "\n",
    "These lectures are using the following python version"
   ]
  },
  {
   "cell_type": "code",
   "execution_count": null,
   "id": "b405c7d2",
   "metadata": {
    "hide-output": false
   },
   "outputs": [],
   "source": [
    "!python --version"
   ]
  },
  {
   "cell_type": "markdown",
   "id": "26233071",
   "metadata": {},
   "source": [
    "and the following package versions"
   ]
  },
  {
   "cell_type": "code",
   "execution_count": null,
   "id": "16df0927",
   "metadata": {
    "hide-output": false
   },
   "outputs": [],
   "source": [
    "!conda list"
   ]
  }
 ],
 "metadata": {
  "date": 1738038345.5093076,
  "filename": "status.md",
  "kernelspec": {
   "display_name": "Python",
   "language": "python3",
   "name": "python3"
  },
  "title": "Execution Statistics"
 },
 "nbformat": 4,
 "nbformat_minor": 5
}