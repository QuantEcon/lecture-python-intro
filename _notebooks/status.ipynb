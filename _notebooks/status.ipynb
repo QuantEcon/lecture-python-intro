{
 "cells": [
  {
   "cell_type": "markdown",
   "id": "7bdfc9c8",
   "metadata": {},
   "source": [
    "# Execution Statistics\n",
    "\n",
    "This table contains the latest execution statistics.\n",
    "\n",
    "[](https://intro.quantecon.org/ar1_processes.html)[](https://intro.quantecon.org/business_cycle.html)[](https://intro.quantecon.org/cagan_adaptive.html)[](https://intro.quantecon.org/cagan_ree.html)[](https://intro.quantecon.org/cobweb.html)[](https://intro.quantecon.org/commod_price.html)[](https://intro.quantecon.org/complex_and_trig.html)[](https://intro.quantecon.org/cons_smooth.html)[](https://intro.quantecon.org/eigen_I.html)[](https://intro.quantecon.org/eigen_II.html)[](https://intro.quantecon.org/equalizing_difference.html)[](https://intro.quantecon.org/french_rev.html)[](https://intro.quantecon.org/geom_series.html)[](https://intro.quantecon.org/greek_square.html)[](https://intro.quantecon.org/heavy_tails.html)[](https://intro.quantecon.org/inequality.html)[](https://intro.quantecon.org/inflation_history.html)[](https://intro.quantecon.org/input_output.html)[](https://intro.quantecon.org/intro.html)[](https://intro.quantecon.org/intro_supply_demand.html)[](https://intro.quantecon.org/laffer_adaptive.html)[](https://intro.quantecon.org/lake_model.html)[](https://intro.quantecon.org/linear_equations.html)[](https://intro.quantecon.org/lln_clt.html)[](https://intro.quantecon.org/long_run_growth.html)[](https://intro.quantecon.org/lp_intro.html)[](https://intro.quantecon.org/markov_chains_I.html)[](https://intro.quantecon.org/markov_chains_II.html)[](https://intro.quantecon.org/mle.html)[](https://intro.quantecon.org/money_inflation.html)[](https://intro.quantecon.org/money_inflation_nonlinear.html)[](https://intro.quantecon.org/monte_carlo.html)[](https://intro.quantecon.org/networks.html)[](https://intro.quantecon.org/olg.html)[](https://intro.quantecon.org/prob_dist.html)[](https://intro.quantecon.org/pv.html)[](https://intro.quantecon.org/scalar_dynam.html)[](https://intro.quantecon.org/schelling.html)[](https://intro.quantecon.org/short_path.html)[](https://intro.quantecon.org/simple_linear_regression.html)[](https://intro.quantecon.org/solow.html)[](https://intro.quantecon.org/.html)[](https://intro.quantecon.org/supply_demand_heterogeneity.html)[](https://intro.quantecon.org/supply_demand_multiple_goods.html)[](https://intro.quantecon.org/tax_smooth.html)[](https://intro.quantecon.org/time_series_with_matrices.html)[](https://intro.quantecon.org/troubleshooting.html)[](https://intro.quantecon.org/unpleasant.html)[](https://intro.quantecon.org/zreferences.html)|Document|Modified|Method|Run Time (s)|Status|\n",
    "|:------------------:|:------------------:|:------------------:|:------------------:|:------------------:|\n",
    "|ar1_processes|2025-03-28 05:38|cache|6.12|✅|\n",
    "|business_cycle|2025-03-28 05:38|cache|9.24|✅|\n",
    "|cagan_adaptive|2025-03-28 05:38|cache|2.55|✅|\n",
    "|cagan_ree|2025-03-28 05:38|cache|3.38|✅|\n",
    "|cobweb|2025-03-28 05:38|cache|2.69|✅|\n",
    "|commod_price|2025-03-28 05:39|cache|15.47|✅|\n",
    "|complex_and_trig|2025-03-28 05:39|cache|2.4|✅|\n",
    "|cons_smooth|2025-03-28 05:39|cache|3.58|✅|\n",
    "|eigen_I|2025-03-28 05:39|cache|4.71|✅|\n",
    "|eigen_II|2025-03-28 05:39|cache|5.72|✅|\n",
    "|equalizing_difference|2025-03-28 05:39|cache|2.38|✅|\n",
    "|french_rev|2025-03-28 05:39|cache|6.4|✅|\n",
    "|geom_series|2025-03-28 05:39|cache|2.79|✅|\n",
    "|greek_square|2025-03-28 05:39|cache|2.67|✅|\n",
    "|heavy_tails|2025-03-28 05:39|cache|14.13|✅|\n",
    "|inequality|2025-03-28 05:40|cache|39.08|✅|\n",
    "|inflation_history|2025-03-28 05:40|cache|6.66|✅|\n",
    "|input_output|2025-03-28 05:40|cache|7.73|✅|\n",
    "|intro|2025-03-28 05:40|cache|1.05|✅|\n",
    "|intro_supply_demand|2025-03-28 05:40|cache|2.41|✅|\n",
    "|laffer_adaptive|2025-03-28 05:40|cache|2.44|✅|\n",
    "|lake_model|2025-03-28 05:41|cache|2.59|✅|\n",
    "|linear_equations|2025-03-28 05:41|cache|2.06|✅|\n",
    "|lln_clt|2025-03-28 05:43|cache|150.36|✅|\n",
    "|long_run_growth|2025-03-28 05:43|cache|7.78|✅|\n",
    "|lp_intro|2025-03-28 05:43|cache|4.47|✅|\n",
    "|markov_chains_I|2025-03-28 05:44|cache|14.36|✅|\n",
    "|markov_chains_II|2025-03-28 05:44|cache|4.87|✅|\n",
    "|mle|2025-03-28 05:44|cache|6.79|✅|\n",
    "|money_inflation|2025-03-28 05:44|cache|3.0|✅|\n",
    "|money_inflation_nonlinear|2025-03-28 05:44|cache|2.28|✅|\n",
    "|monte_carlo|2025-03-28 05:47|cache|202.54|✅|\n",
    "|networks|2025-03-28 05:47|cache|7.32|✅|\n",
    "|olg|2025-03-28 05:47|cache|2.48|✅|\n",
    "|prob_dist|2025-03-28 05:47|cache|6.56|✅|\n",
    "|pv|2025-03-28 05:48|cache|1.67|✅|\n",
    "|scalar_dynam|2025-03-28 05:48|cache|3.12|✅|\n",
    "|schelling|2025-03-28 05:48|cache|12.34|✅|\n",
    "|short_path|2025-03-28 05:48|cache|0.97|✅|\n",
    "|simple_linear_regression|2025-03-28 05:48|cache|3.85|✅|\n",
    "|solow|2025-03-28 05:48|cache|3.71|✅|\n",
    "|status|2025-03-28 05:48|cache|4.12|✅|\n",
    "|supply_demand_heterogeneity|2025-03-28 05:48|cache|0.94|✅|\n",
    "|supply_demand_multiple_goods|2025-03-28 05:48|cache|1.86|✅|\n",
    "|tax_smooth|2025-03-28 05:48|cache|3.33|✅|\n",
    "|time_series_with_matrices|2025-03-28 05:48|cache|2.53|✅|\n",
    "|troubleshooting|2025-03-28 05:40|cache|1.05|✅|\n",
    "|unpleasant|2025-03-28 05:48|cache|1.87|✅|\n",
    "|zreferences|2025-03-28 05:40|cache|1.05|✅|\n",
    "\n",
    "<a id='status-machine-details'></a>\n",
    "These lectures are built on `linux` instances through `github actions`.\n",
    "\n",
    "These lectures are using the following python version"
   ]
  },
  {
   "cell_type": "code",
   "execution_count": null,
   "id": "20f49ff5",
   "metadata": {
    "hide-output": false
   },
   "outputs": [],
   "source": [
    "!python --version"
   ]
  },
  {
   "cell_type": "markdown",
   "id": "f29ec302",
   "metadata": {},
   "source": [
    "and the following package versions"
   ]
  },
  {
   "cell_type": "code",
   "execution_count": null,
   "id": "416bcc9a",
   "metadata": {
    "hide-output": false
   },
   "outputs": [],
   "source": [
    "!conda list"
   ]
  }
 ],
 "metadata": {
  "date": 1743145266.9300864,
  "filename": "status.md",
  "kernelspec": {
   "display_name": "Python",
   "language": "python3",
   "name": "python3"
  },
  "title": "Execution Statistics"
 },
 "nbformat": 4,
 "nbformat_minor": 5
}