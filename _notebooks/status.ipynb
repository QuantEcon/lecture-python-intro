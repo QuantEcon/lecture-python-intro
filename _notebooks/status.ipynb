{
 "cells": [
  {
   "cell_type": "markdown",
   "id": "fd2dbc5e",
   "metadata": {},
   "source": [
    "# Execution Statistics\n",
    "\n",
    "This table contains the latest execution statistics.\n",
    "\n",
    "[](https://intro.quantecon.org/ar1_processes.html)[](https://intro.quantecon.org/business_cycle.html)[](https://intro.quantecon.org/cagan_adaptive.html)[](https://intro.quantecon.org/cagan_ree.html)[](https://intro.quantecon.org/cobweb.html)[](https://intro.quantecon.org/commod_price.html)[](https://intro.quantecon.org/complex_and_trig.html)[](https://intro.quantecon.org/cons_smooth.html)[](https://intro.quantecon.org/eigen_I.html)[](https://intro.quantecon.org/eigen_II.html)[](https://intro.quantecon.org/equalizing_difference.html)[](https://intro.quantecon.org/geom_series.html)[](https://intro.quantecon.org/heavy_tails.html)[](https://intro.quantecon.org/inequality.html)[](https://intro.quantecon.org/inflation_history.html)[](https://intro.quantecon.org/input_output.html)[](https://intro.quantecon.org/intro.html)[](https://intro.quantecon.org/intro_supply_demand.html)[](https://intro.quantecon.org/laffer_adaptive.html)[](https://intro.quantecon.org/lake_model.html)[](https://intro.quantecon.org/linear_equations.html)[](https://intro.quantecon.org/lln_clt.html)[](https://intro.quantecon.org/long_run_growth.html)[](https://intro.quantecon.org/lp_intro.html)[](https://intro.quantecon.org/markov_chains_I.html)[](https://intro.quantecon.org/markov_chains_II.html)[](https://intro.quantecon.org/mle.html)[](https://intro.quantecon.org/money_inflation.html)[](https://intro.quantecon.org/money_inflation_nonlinear.html)[](https://intro.quantecon.org/monte_carlo.html)[](https://intro.quantecon.org/networks.html)[](https://intro.quantecon.org/olg.html)[](https://intro.quantecon.org/prob_dist.html)[](https://intro.quantecon.org/pv.html)[](https://intro.quantecon.org/scalar_dynam.html)[](https://intro.quantecon.org/schelling.html)[](https://intro.quantecon.org/short_path.html)[](https://intro.quantecon.org/simple_linear_regression.html)[](https://intro.quantecon.org/solow.html)[](https://intro.quantecon.org/.html)[](https://intro.quantecon.org/supply_demand_heterogeneity.html)[](https://intro.quantecon.org/supply_demand_multiple_goods.html)[](https://intro.quantecon.org/time_series_with_matrices.html)[](https://intro.quantecon.org/troubleshooting.html)[](https://intro.quantecon.org/unpleasant.html)[](https://intro.quantecon.org/zreferences.html)|Document|Modified|Method|Run Time (s)|Status|\n",
    "|:------------------:|:------------------:|:------------------:|:------------------:|:------------------:|\n",
    "|ar1_processes|2024-03-23 10:36|cache|5.78|✅|\n",
    "|business_cycle|2024-03-23 10:36|cache|13.57|✅|\n",
    "|cagan_adaptive|2024-03-23 10:36|cache|2.44|✅|\n",
    "|cagan_ree|2024-03-23 10:36|cache|3.65|✅|\n",
    "|cobweb|2024-03-23 10:36|cache|2.83|✅|\n",
    "|commod_price|2024-03-23 10:36|cache|19.66|✅|\n",
    "|complex_and_trig|2024-03-23 10:36|cache|2.39|✅|\n",
    "|cons_smooth|2024-03-23 10:37|cache|3.15|✅|\n",
    "|eigen_I|2024-03-23 10:37|cache|4.66|✅|\n",
    "|eigen_II|2024-03-23 10:37|cache|7.85|✅|\n",
    "|equalizing_difference|2024-03-23 10:37|cache|2.15|✅|\n",
    "|geom_series|2024-03-23 10:37|cache|3.06|✅|\n",
    "|heavy_tails|2024-03-23 10:37|cache|17.09|✅|\n",
    "|inequality|2024-03-23 10:39|cache|126.35|✅|\n",
    "|inflation_history|2024-03-23 10:39|cache|9.68|✅|\n",
    "|input_output|2024-03-23 10:40|cache|13.25|✅|\n",
    "|intro|2024-03-23 10:40|cache|0.88|✅|\n",
    "|intro_supply_demand|2024-03-23 10:40|cache|2.71|✅|\n",
    "|laffer_adaptive|2024-03-23 10:40|cache|2.44|✅|\n",
    "|lake_model|2024-03-23 10:40|cache|2.48|✅|\n",
    "|linear_equations|2024-03-23 10:40|cache|1.92|✅|\n",
    "|lln_clt|2024-03-23 10:42|cache|151.5|✅|\n",
    "|long_run_growth|2024-03-23 10:42|cache|8.83|✅|\n",
    "|lp_intro|2024-03-23 10:43|cache|6.89|✅|\n",
    "|markov_chains_I|2024-03-23 10:43|cache|9.76|✅|\n",
    "|markov_chains_II|2024-03-23 10:43|cache|6.34|✅|\n",
    "|mle|2024-03-23 10:43|cache|9.3|✅|\n",
    "|money_inflation|2024-03-23 10:43|cache|2.99|✅|\n",
    "|money_inflation_nonlinear|2024-03-23 10:43|cache|2.4|✅|\n",
    "|monte_carlo|2024-03-23 10:43|cache|16.18|✅|\n",
    "|networks|2024-03-23 10:44|cache|8.83|✅|\n",
    "|olg|2024-03-23 10:44|cache|2.58|✅|\n",
    "|prob_dist|2024-03-23 10:44|cache|8.41|✅|\n",
    "|pv|2024-03-23 10:44|cache|1.69|✅|\n",
    "|scalar_dynam|2024-03-23 10:44|cache|2.96|✅|\n",
    "|schelling|2024-03-23 10:44|cache|11.93|✅|\n",
    "|short_path|2024-03-23 10:44|cache|1.03|✅|\n",
    "|simple_linear_regression|2024-03-23 10:44|cache|4.46|✅|\n",
    "|solow|2024-03-23 10:44|cache|3.92|✅|\n",
    "|status|2024-03-23 10:44|cache|5.11|✅|\n",
    "|supply_demand_heterogeneity|2024-03-23 10:44|cache|0.9|✅|\n",
    "|supply_demand_multiple_goods|2024-03-23 10:44|cache|1.86|✅|\n",
    "|time_series_with_matrices|2024-03-23 10:44|cache|2.58|✅|\n",
    "|troubleshooting|2024-03-23 10:40|cache|0.88|✅|\n",
    "|unpleasant|2024-03-23 10:44|cache|1.8|✅|\n",
    "|zreferences|2024-03-23 10:40|cache|0.88|✅|\n",
    "\n",
    "<a id='status-machine-details'></a>\n",
    "These lectures are built on `linux` instances through `github actions`.\n",
    "\n",
    "These lectures are using the following python version"
   ]
  },
  {
   "cell_type": "code",
   "execution_count": null,
   "id": "6464d820",
   "metadata": {
    "hide-output": false
   },
   "outputs": [],
   "source": [
    "!python --version"
   ]
  },
  {
   "cell_type": "markdown",
   "id": "72e96e8a",
   "metadata": {},
   "source": [
    "and the following package versions"
   ]
  },
  {
   "cell_type": "code",
   "execution_count": null,
   "id": "d6c04f33",
   "metadata": {
    "hide-output": false
   },
   "outputs": [],
   "source": [
    "!conda list"
   ]
  }
 ],
 "metadata": {
  "date": 1711191333.2132633,
  "filename": "status.md",
  "kernelspec": {
   "display_name": "Python",
   "language": "python3",
   "name": "python3"
  },
  "title": "Execution Statistics"
 },
 "nbformat": 4,
 "nbformat_minor": 5
}