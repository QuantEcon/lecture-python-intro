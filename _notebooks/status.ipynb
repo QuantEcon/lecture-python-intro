{
 "cells": [
  {
   "cell_type": "markdown",
   "id": "dbbdd9fe",
   "metadata": {},
   "source": [
    "# Execution Statistics\n",
    "\n",
    "This table contains the latest execution statistics.\n",
    "\n",
    "[](https://intro.quantecon.org/ak2.html)[](https://intro.quantecon.org/ar1_processes.html)[](https://intro.quantecon.org/business_cycle.html)[](https://intro.quantecon.org/cagan_adaptive.html)[](https://intro.quantecon.org/cagan_ree.html)[](https://intro.quantecon.org/cobweb.html)[](https://intro.quantecon.org/commod_price.html)[](https://intro.quantecon.org/complex_and_trig.html)[](https://intro.quantecon.org/cons_smooth.html)[](https://intro.quantecon.org/eigen_I.html)[](https://intro.quantecon.org/eigen_II.html)[](https://intro.quantecon.org/equalizing_difference.html)[](https://intro.quantecon.org/geom_series.html)[](https://intro.quantecon.org/greek_square.html)[](https://intro.quantecon.org/heavy_tails.html)[](https://intro.quantecon.org/inequality.html)[](https://intro.quantecon.org/inflation_history.html)[](https://intro.quantecon.org/input_output.html)[](https://intro.quantecon.org/intro.html)[](https://intro.quantecon.org/intro_supply_demand.html)[](https://intro.quantecon.org/laffer_adaptive.html)[](https://intro.quantecon.org/lake_model.html)[](https://intro.quantecon.org/linear_equations.html)[](https://intro.quantecon.org/lln_clt.html)[](https://intro.quantecon.org/long_run_growth.html)[](https://intro.quantecon.org/lp_intro.html)[](https://intro.quantecon.org/markov_chains_I.html)[](https://intro.quantecon.org/markov_chains_II.html)[](https://intro.quantecon.org/mle.html)[](https://intro.quantecon.org/money_inflation.html)[](https://intro.quantecon.org/money_inflation_nonlinear.html)[](https://intro.quantecon.org/monte_carlo.html)[](https://intro.quantecon.org/networks.html)[](https://intro.quantecon.org/olg.html)[](https://intro.quantecon.org/prob_dist.html)[](https://intro.quantecon.org/pv.html)[](https://intro.quantecon.org/scalar_dynam.html)[](https://intro.quantecon.org/schelling.html)[](https://intro.quantecon.org/short_path.html)[](https://intro.quantecon.org/simple_linear_regression.html)[](https://intro.quantecon.org/solow.html)[](https://intro.quantecon.org/.html)[](https://intro.quantecon.org/supply_demand_heterogeneity.html)[](https://intro.quantecon.org/supply_demand_multiple_goods.html)[](https://intro.quantecon.org/time_series_with_matrices.html)[](https://intro.quantecon.org/troubleshooting.html)[](https://intro.quantecon.org/unpleasant.html)[](https://intro.quantecon.org/zreferences.html)|Document|Modified|Method|Run Time (s)|Status|\n",
    "|:------------------:|:------------------:|:------------------:|:------------------:|:------------------:|\n",
    "|ak2|2024-07-03 02:57|cache|17.44|✅|\n",
    "|ar1_processes|2024-07-03 02:57|cache|3.64|✅|\n",
    "|business_cycle|2024-07-03 02:57|cache|13.94|✅|\n",
    "|cagan_adaptive|2024-07-03 02:57|cache|2.59|✅|\n",
    "|cagan_ree|2024-07-03 02:57|cache|3.73|✅|\n",
    "|cobweb|2024-07-03 02:57|cache|2.75|✅|\n",
    "|commod_price|2024-07-03 02:58|cache|15.82|✅|\n",
    "|complex_and_trig|2024-07-03 02:58|cache|2.36|✅|\n",
    "|cons_smooth|2024-07-03 02:58|cache|3.03|✅|\n",
    "|eigen_I|2024-07-03 02:58|cache|4.47|✅|\n",
    "|eigen_II|2024-07-03 02:58|cache|5.06|✅|\n",
    "|equalizing_difference|2024-07-03 02:58|cache|2.06|✅|\n",
    "|geom_series|2024-07-03 02:58|cache|2.85|✅|\n",
    "|greek_square|2024-07-03 02:58|cache|0.82|✅|\n",
    "|heavy_tails|2024-07-03 02:58|cache|16.39|✅|\n",
    "|inequality|2024-07-03 02:59|cache|31.69|✅|\n",
    "|inflation_history|2024-07-03 02:59|cache|9.02|✅|\n",
    "|input_output|2024-07-03 02:59|cache|13.16|✅|\n",
    "|intro|2024-07-03 02:59|cache|0.86|✅|\n",
    "|intro_supply_demand|2024-07-03 02:59|cache|2.6|✅|\n",
    "|laffer_adaptive|2024-07-03 02:59|cache|2.38|✅|\n",
    "|lake_model|2024-07-03 02:59|cache|2.52|✅|\n",
    "|linear_equations|2024-07-03 02:59|cache|2.17|✅|\n",
    "|lln_clt|2024-07-03 03:02|cache|151.46|✅|\n",
    "|long_run_growth|2024-07-03 03:02|cache|8.16|✅|\n",
    "|lp_intro|2024-07-03 03:02|cache|6.75|✅|\n",
    "|markov_chains_I|2024-07-03 03:02|cache|12.0|✅|\n",
    "|markov_chains_II|2024-07-03 03:02|cache|6.72|✅|\n",
    "|mle|2024-07-03 03:03|cache|6.77|✅|\n",
    "|money_inflation|2024-07-03 03:03|cache|2.82|✅|\n",
    "|money_inflation_nonlinear|2024-07-03 03:03|cache|2.25|✅|\n",
    "|monte_carlo|2024-07-03 03:06|cache|192.12|✅|\n",
    "|networks|2024-07-03 03:06|cache|8.93|✅|\n",
    "|olg|2024-07-03 03:06|cache|2.49|✅|\n",
    "|prob_dist|2024-07-03 03:06|cache|8.41|✅|\n",
    "|pv|2024-07-03 03:06|cache|1.56|✅|\n",
    "|scalar_dynam|2024-07-03 03:06|cache|2.98|✅|\n",
    "|schelling|2024-07-03 03:06|cache|12.19|✅|\n",
    "|short_path|2024-07-03 03:06|cache|0.89|✅|\n",
    "|simple_linear_regression|2024-07-03 03:07|cache|4.47|✅|\n",
    "|solow|2024-07-03 03:07|cache|3.76|✅|\n",
    "|status|2024-07-03 03:07|cache|3.85|✅|\n",
    "|supply_demand_heterogeneity|2024-07-03 03:07|cache|1.05|✅|\n",
    "|supply_demand_multiple_goods|2024-07-03 03:07|cache|2.07|✅|\n",
    "|time_series_with_matrices|2024-07-03 03:07|cache|2.74|✅|\n",
    "|troubleshooting|2024-07-03 02:59|cache|0.86|✅|\n",
    "|unpleasant|2024-07-03 03:07|cache|1.77|✅|\n",
    "|zreferences|2024-07-03 02:59|cache|0.86|✅|\n",
    "\n",
    "<a id='status-machine-details'></a>\n",
    "These lectures are built on `linux` instances through `github actions`.\n",
    "\n",
    "These lectures are using the following python version"
   ]
  },
  {
   "cell_type": "code",
   "execution_count": null,
   "id": "963a2001",
   "metadata": {
    "hide-output": false
   },
   "outputs": [],
   "source": [
    "!python --version"
   ]
  },
  {
   "cell_type": "markdown",
   "id": "3d461d56",
   "metadata": {},
   "source": [
    "and the following package versions"
   ]
  },
  {
   "cell_type": "code",
   "execution_count": null,
   "id": "76fc6a06",
   "metadata": {
    "hide-output": false
   },
   "outputs": [],
   "source": [
    "!conda list"
   ]
  }
 ],
 "metadata": {
  "date": 1719999879.914158,
  "filename": "status.md",
  "kernelspec": {
   "display_name": "Python",
   "language": "python3",
   "name": "python3"
  },
  "title": "Execution Statistics"
 },
 "nbformat": 4,
 "nbformat_minor": 5
}