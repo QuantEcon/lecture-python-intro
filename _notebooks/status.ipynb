{
 "cells": [
  {
   "cell_type": "markdown",
   "id": "7593e874",
   "metadata": {},
   "source": [
    "# Execution Statistics\n",
    "\n",
    "This table contains the latest execution statistics.\n",
    "\n",
    "[](https://intro.quantecon.org/ar1_processes.html)[](https://intro.quantecon.org/business_cycle.html)[](https://intro.quantecon.org/cagan_adaptive.html)[](https://intro.quantecon.org/cagan_ree.html)[](https://intro.quantecon.org/cobweb.html)[](https://intro.quantecon.org/commod_price.html)[](https://intro.quantecon.org/complex_and_trig.html)[](https://intro.quantecon.org/cons_smooth.html)[](https://intro.quantecon.org/eigen_I.html)[](https://intro.quantecon.org/eigen_II.html)[](https://intro.quantecon.org/equalizing_difference.html)[](https://intro.quantecon.org/french_rev.html)[](https://intro.quantecon.org/geom_series.html)[](https://intro.quantecon.org/greek_square.html)[](https://intro.quantecon.org/heavy_tails.html)[](https://intro.quantecon.org/inequality.html)[](https://intro.quantecon.org/inflation_history.html)[](https://intro.quantecon.org/input_output.html)[](https://intro.quantecon.org/intro.html)[](https://intro.quantecon.org/intro_supply_demand.html)[](https://intro.quantecon.org/laffer_adaptive.html)[](https://intro.quantecon.org/lake_model.html)[](https://intro.quantecon.org/linear_equations.html)[](https://intro.quantecon.org/lln_clt.html)[](https://intro.quantecon.org/long_run_growth.html)[](https://intro.quantecon.org/lp_intro.html)[](https://intro.quantecon.org/markov_chains_I.html)[](https://intro.quantecon.org/markov_chains_II.html)[](https://intro.quantecon.org/mle.html)[](https://intro.quantecon.org/money_inflation.html)[](https://intro.quantecon.org/money_inflation_nonlinear.html)[](https://intro.quantecon.org/monte_carlo.html)[](https://intro.quantecon.org/networks.html)[](https://intro.quantecon.org/olg.html)[](https://intro.quantecon.org/prob_dist.html)[](https://intro.quantecon.org/pv.html)[](https://intro.quantecon.org/scalar_dynam.html)[](https://intro.quantecon.org/schelling.html)[](https://intro.quantecon.org/short_path.html)[](https://intro.quantecon.org/simple_linear_regression.html)[](https://intro.quantecon.org/solow.html)[](https://intro.quantecon.org/.html)[](https://intro.quantecon.org/supply_demand_heterogeneity.html)[](https://intro.quantecon.org/supply_demand_multiple_goods.html)[](https://intro.quantecon.org/tax_smooth.html)[](https://intro.quantecon.org/time_series_with_matrices.html)[](https://intro.quantecon.org/troubleshooting.html)[](https://intro.quantecon.org/unpleasant.html)[](https://intro.quantecon.org/zreferences.html)|Document|Modified|Method|Run Time (s)|Status|\n",
    "|:------------------:|:------------------:|:------------------:|:------------------:|:------------------:|\n",
    "|ar1_processes|2025-03-24 22:55|cache|7.14|✅|\n",
    "|business_cycle|2025-03-24 22:55|cache|9.24|✅|\n",
    "|cagan_adaptive|2025-03-24 22:55|cache|2.46|✅|\n",
    "|cagan_ree|2025-03-24 22:55|cache|3.58|✅|\n",
    "|cobweb|2025-03-24 22:55|cache|2.75|✅|\n",
    "|commod_price|2025-03-24 22:55|cache|15.89|✅|\n",
    "|complex_and_trig|2025-03-24 22:55|cache|2.59|✅|\n",
    "|cons_smooth|2025-03-24 22:55|cache|3.78|✅|\n",
    "|eigen_I|2025-03-24 22:56|cache|4.78|✅|\n",
    "|eigen_II|2025-03-24 22:56|cache|5.72|✅|\n",
    "|equalizing_difference|2025-03-24 22:56|cache|2.23|✅|\n",
    "|french_rev|2025-03-24 22:56|cache|6.38|✅|\n",
    "|geom_series|2025-03-24 22:56|cache|2.98|✅|\n",
    "|greek_square|2025-03-24 22:56|cache|2.63|✅|\n",
    "|heavy_tails|2025-03-24 22:56|cache|14.23|✅|\n",
    "|inequality|2025-03-24 22:57|cache|45.03|✅|\n",
    "|inflation_history|2025-03-24 22:57|cache|6.54|✅|\n",
    "|input_output|2025-03-24 22:57|cache|8.79|✅|\n",
    "|intro|2025-03-24 22:57|cache|0.86|✅|\n",
    "|intro_supply_demand|2025-03-24 22:57|cache|2.66|✅|\n",
    "|laffer_adaptive|2025-03-24 22:57|cache|2.24|✅|\n",
    "|lake_model|2025-03-24 22:57|cache|2.6|✅|\n",
    "|linear_equations|2025-03-24 22:57|cache|1.99|✅|\n",
    "|lln_clt|2025-03-24 23:00|cache|153.69|✅|\n",
    "|long_run_growth|2025-03-24 23:00|cache|7.76|✅|\n",
    "|lp_intro|2025-03-24 23:00|cache|4.72|✅|\n",
    "|markov_chains_I|2025-03-24 23:00|cache|14.63|✅|\n",
    "|markov_chains_II|2025-03-24 23:00|cache|4.59|✅|\n",
    "|mle|2025-03-24 23:01|cache|7.02|✅|\n",
    "|money_inflation|2025-03-24 23:01|cache|2.94|✅|\n",
    "|money_inflation_nonlinear|2025-03-24 23:01|cache|2.33|✅|\n",
    "|monte_carlo|2025-03-24 23:04|cache|204.22|✅|\n",
    "|networks|2025-03-24 23:04|cache|7.64|✅|\n",
    "|olg|2025-03-24 23:04|cache|2.54|✅|\n",
    "|prob_dist|2025-03-24 23:04|cache|6.59|✅|\n",
    "|pv|2025-03-24 23:04|cache|1.78|✅|\n",
    "|scalar_dynam|2025-03-24 23:04|cache|3.11|✅|\n",
    "|schelling|2025-03-24 23:05|cache|12.51|✅|\n",
    "|short_path|2025-03-24 23:05|cache|0.92|✅|\n",
    "|simple_linear_regression|2025-03-24 23:05|cache|3.99|✅|\n",
    "|solow|2025-03-24 23:05|cache|3.54|✅|\n",
    "|status|2025-03-24 23:05|cache|4.12|✅|\n",
    "|supply_demand_heterogeneity|2025-03-24 23:05|cache|0.93|✅|\n",
    "|supply_demand_multiple_goods|2025-03-24 23:05|cache|1.9|✅|\n",
    "|tax_smooth|2025-03-24 23:05|cache|3.26|✅|\n",
    "|time_series_with_matrices|2025-03-24 23:05|cache|2.69|✅|\n",
    "|troubleshooting|2025-03-24 22:57|cache|0.86|✅|\n",
    "|unpleasant|2025-03-24 23:05|cache|1.71|✅|\n",
    "|zreferences|2025-03-24 22:57|cache|0.86|✅|\n",
    "\n",
    "<a id='status-machine-details'></a>\n",
    "These lectures are built on `linux` instances through `github actions`.\n",
    "\n",
    "These lectures are using the following python version"
   ]
  },
  {
   "cell_type": "code",
   "execution_count": null,
   "id": "be51c87d",
   "metadata": {
    "hide-output": false
   },
   "outputs": [],
   "source": [
    "!python --version"
   ]
  },
  {
   "cell_type": "markdown",
   "id": "65828093",
   "metadata": {},
   "source": [
    "and the following package versions"
   ]
  },
  {
   "cell_type": "code",
   "execution_count": null,
   "id": "fe0a2501",
   "metadata": {
    "hide-output": false
   },
   "outputs": [],
   "source": [
    "!conda list"
   ]
  }
 ],
 "metadata": {
  "date": 1742860174.7760181,
  "filename": "status.md",
  "kernelspec": {
   "display_name": "Python",
   "language": "python3",
   "name": "python3"
  },
  "title": "Execution Statistics"
 },
 "nbformat": 4,
 "nbformat_minor": 5
}