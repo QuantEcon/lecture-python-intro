{
 "cells": [
  {
   "cell_type": "markdown",
   "id": "41a91254",
   "metadata": {},
   "source": [
    "# Execution Statistics\n",
    "\n",
    "This table contains the latest execution statistics.\n",
    "\n",
    "[](https://intro.quantecon.org/ar1_processes.html)[](https://intro.quantecon.org/business_cycle.html)[](https://intro.quantecon.org/cagan_adaptive.html)[](https://intro.quantecon.org/cagan_ree.html)[](https://intro.quantecon.org/cobweb.html)[](https://intro.quantecon.org/commod_price.html)[](https://intro.quantecon.org/complex_and_trig.html)[](https://intro.quantecon.org/cons_smooth.html)[](https://intro.quantecon.org/eigen_I.html)[](https://intro.quantecon.org/eigen_II.html)[](https://intro.quantecon.org/equalizing_difference.html)[](https://intro.quantecon.org/french_rev.html)[](https://intro.quantecon.org/geom_series.html)[](https://intro.quantecon.org/greek_square.html)[](https://intro.quantecon.org/heavy_tails.html)[](https://intro.quantecon.org/inequality.html)[](https://intro.quantecon.org/inflation_history.html)[](https://intro.quantecon.org/input_output.html)[](https://intro.quantecon.org/intro.html)[](https://intro.quantecon.org/intro_supply_demand.html)[](https://intro.quantecon.org/laffer_adaptive.html)[](https://intro.quantecon.org/lake_model.html)[](https://intro.quantecon.org/linear_equations.html)[](https://intro.quantecon.org/lln_clt.html)[](https://intro.quantecon.org/long_run_growth.html)[](https://intro.quantecon.org/lp_intro.html)[](https://intro.quantecon.org/markov_chains_I.html)[](https://intro.quantecon.org/markov_chains_II.html)[](https://intro.quantecon.org/mle.html)[](https://intro.quantecon.org/money_inflation.html)[](https://intro.quantecon.org/money_inflation_nonlinear.html)[](https://intro.quantecon.org/monte_carlo.html)[](https://intro.quantecon.org/networks.html)[](https://intro.quantecon.org/olg.html)[](https://intro.quantecon.org/prob_dist.html)[](https://intro.quantecon.org/pv.html)[](https://intro.quantecon.org/scalar_dynam.html)[](https://intro.quantecon.org/schelling.html)[](https://intro.quantecon.org/short_path.html)[](https://intro.quantecon.org/simple_linear_regression.html)[](https://intro.quantecon.org/solow.html)[](https://intro.quantecon.org/.html)[](https://intro.quantecon.org/supply_demand_heterogeneity.html)[](https://intro.quantecon.org/supply_demand_multiple_goods.html)[](https://intro.quantecon.org/tax_smooth.html)[](https://intro.quantecon.org/time_series_with_matrices.html)[](https://intro.quantecon.org/troubleshooting.html)[](https://intro.quantecon.org/unpleasant.html)[](https://intro.quantecon.org/zreferences.html)|Document|Modified|Method|Run Time (s)|Status|\n",
    "|:------------------:|:------------------:|:------------------:|:------------------:|:------------------:|\n",
    "|ar1_processes|2025-02-04 16:37|cache|6.16|✅|\n",
    "|business_cycle|2025-02-04 16:38|cache|14.05|✅|\n",
    "|cagan_adaptive|2025-02-04 16:38|cache|2.59|✅|\n",
    "|cagan_ree|2025-02-04 16:38|cache|3.6|✅|\n",
    "|cobweb|2025-02-04 16:38|cache|2.73|✅|\n",
    "|commod_price|2025-02-04 16:38|cache|16.16|✅|\n",
    "|complex_and_trig|2025-02-04 16:38|cache|2.4|✅|\n",
    "|cons_smooth|2025-02-04 16:38|cache|3.69|✅|\n",
    "|eigen_I|2025-02-04 16:38|cache|4.81|✅|\n",
    "|eigen_II|2025-02-04 16:38|cache|5.6|✅|\n",
    "|equalizing_difference|2025-02-04 16:38|cache|2.19|✅|\n",
    "|french_rev|2025-02-04 16:38|cache|6.77|✅|\n",
    "|geom_series|2025-02-04 16:38|cache|3.13|✅|\n",
    "|greek_square|2025-02-04 16:39|cache|2.52|✅|\n",
    "|heavy_tails|2025-02-04 16:39|cache|14.56|✅|\n",
    "|inequality|2025-02-04 16:39|cache|35.71|✅|\n",
    "|inflation_history|2025-02-04 16:39|cache|6.76|✅|\n",
    "|input_output|2025-02-04 16:40|cache|7.7|✅|\n",
    "|intro|2025-02-04 16:40|cache|0.97|✅|\n",
    "|intro_supply_demand|2025-02-04 16:40|cache|2.68|✅|\n",
    "|laffer_adaptive|2025-02-04 16:40|cache|2.3|✅|\n",
    "|lake_model|2025-02-04 16:40|cache|2.68|✅|\n",
    "|linear_equations|2025-02-04 16:40|cache|2.14|✅|\n",
    "|lln_clt|2025-02-04 16:42|cache|153.69|✅|\n",
    "|long_run_growth|2025-02-04 16:42|cache|7.9|✅|\n",
    "|lp_intro|2025-02-04 16:43|cache|4.62|✅|\n",
    "|markov_chains_I|2025-02-04 16:43|cache|14.9|✅|\n",
    "|markov_chains_II|2025-02-04 16:43|cache|4.81|✅|\n",
    "|mle|2025-02-04 16:43|cache|6.87|✅|\n",
    "|money_inflation|2025-02-04 16:43|cache|2.78|✅|\n",
    "|money_inflation_nonlinear|2025-02-04 16:43|cache|2.33|✅|\n",
    "|monte_carlo|2025-02-04 16:46|cache|201.27|✅|\n",
    "|networks|2025-02-04 16:47|cache|7.43|✅|\n",
    "|olg|2025-02-04 16:47|cache|2.6|✅|\n",
    "|prob_dist|2025-02-04 16:47|cache|6.71|✅|\n",
    "|pv|2025-02-04 16:47|cache|1.63|✅|\n",
    "|scalar_dynam|2025-02-04 16:47|cache|3.09|✅|\n",
    "|schelling|2025-02-04 16:47|cache|12.55|✅|\n",
    "|short_path|2025-02-04 16:47|cache|1.06|✅|\n",
    "|simple_linear_regression|2025-02-04 16:47|cache|4.28|✅|\n",
    "|solow|2025-02-04 16:47|cache|3.65|✅|\n",
    "|status|2025-02-04 16:47|cache|4.54|✅|\n",
    "|supply_demand_heterogeneity|2025-02-04 16:47|cache|1.07|✅|\n",
    "|supply_demand_multiple_goods|2025-02-04 16:47|cache|2.03|✅|\n",
    "|tax_smooth|2025-02-04 16:47|cache|3.34|✅|\n",
    "|time_series_with_matrices|2025-02-04 16:47|cache|2.71|✅|\n",
    "|troubleshooting|2025-02-04 16:40|cache|0.97|✅|\n",
    "|unpleasant|2025-02-04 16:47|cache|1.83|✅|\n",
    "|zreferences|2025-02-04 16:40|cache|0.97|✅|\n",
    "\n",
    "<a id='status-machine-details'></a>\n",
    "These lectures are built on `linux` instances through `github actions`.\n",
    "\n",
    "These lectures are using the following python version"
   ]
  },
  {
   "cell_type": "code",
   "execution_count": null,
   "id": "761f8544",
   "metadata": {
    "hide-output": false
   },
   "outputs": [],
   "source": [
    "!python --version"
   ]
  },
  {
   "cell_type": "markdown",
   "id": "3078fc2d",
   "metadata": {},
   "source": [
    "and the following package versions"
   ]
  },
  {
   "cell_type": "code",
   "execution_count": null,
   "id": "366ecb90",
   "metadata": {
    "hide-output": false
   },
   "outputs": [],
   "source": [
    "!conda list"
   ]
  }
 ],
 "metadata": {
  "date": 1738706312.9402497,
  "filename": "status.md",
  "kernelspec": {
   "display_name": "Python",
   "language": "python3",
   "name": "python3"
  },
  "title": "Execution Statistics"
 },
 "nbformat": 4,
 "nbformat_minor": 5
}