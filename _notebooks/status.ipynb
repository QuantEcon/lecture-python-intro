{
 "cells": [
  {
   "cell_type": "markdown",
   "id": "8a4c3de8",
   "metadata": {},
   "source": [
    "# Execution Statistics\n",
    "\n",
    "This table contains the latest execution statistics.\n",
    "\n",
    "[](https://intro.quantecon.org/ak2.html)[](https://intro.quantecon.org/ar1_processes.html)[](https://intro.quantecon.org/business_cycle.html)[](https://intro.quantecon.org/cagan_adaptive.html)[](https://intro.quantecon.org/cagan_ree.html)[](https://intro.quantecon.org/cobweb.html)[](https://intro.quantecon.org/commod_price.html)[](https://intro.quantecon.org/complex_and_trig.html)[](https://intro.quantecon.org/cons_smooth.html)[](https://intro.quantecon.org/eigen_I.html)[](https://intro.quantecon.org/eigen_II.html)[](https://intro.quantecon.org/equalizing_difference.html)[](https://intro.quantecon.org/french_rev.html)[](https://intro.quantecon.org/geom_series.html)[](https://intro.quantecon.org/greek_square.html)[](https://intro.quantecon.org/heavy_tails.html)[](https://intro.quantecon.org/inequality.html)[](https://intro.quantecon.org/inflation_history.html)[](https://intro.quantecon.org/input_output.html)[](https://intro.quantecon.org/intro.html)[](https://intro.quantecon.org/intro_supply_demand.html)[](https://intro.quantecon.org/laffer_adaptive.html)[](https://intro.quantecon.org/lake_model.html)[](https://intro.quantecon.org/linear_equations.html)[](https://intro.quantecon.org/lln_clt.html)[](https://intro.quantecon.org/long_run_growth.html)[](https://intro.quantecon.org/lp_intro.html)[](https://intro.quantecon.org/markov_chains_I.html)[](https://intro.quantecon.org/markov_chains_II.html)[](https://intro.quantecon.org/mle.html)[](https://intro.quantecon.org/money_inflation.html)[](https://intro.quantecon.org/money_inflation_nonlinear.html)[](https://intro.quantecon.org/monte_carlo.html)[](https://intro.quantecon.org/networks.html)[](https://intro.quantecon.org/olg.html)[](https://intro.quantecon.org/prob_dist.html)[](https://intro.quantecon.org/pv.html)[](https://intro.quantecon.org/scalar_dynam.html)[](https://intro.quantecon.org/schelling.html)[](https://intro.quantecon.org/short_path.html)[](https://intro.quantecon.org/simple_linear_regression.html)[](https://intro.quantecon.org/solow.html)[](https://intro.quantecon.org/.html)[](https://intro.quantecon.org/supply_demand_heterogeneity.html)[](https://intro.quantecon.org/supply_demand_multiple_goods.html)[](https://intro.quantecon.org/time_series_with_matrices.html)[](https://intro.quantecon.org/troubleshooting.html)[](https://intro.quantecon.org/unpleasant.html)[](https://intro.quantecon.org/zreferences.html)|Document|Modified|Method|Run Time (s)|Status|\n",
    "|:------------------:|:------------------:|:------------------:|:------------------:|:------------------:|\n",
    "|ak2|2024-08-12 03:03|cache|16.32|✅|\n",
    "|ar1_processes|2024-08-12 03:04|cache|3.6|✅|\n",
    "|business_cycle|2024-08-12 03:04|cache|11.74|✅|\n",
    "|cagan_adaptive|2024-08-12 03:04|cache|2.63|✅|\n",
    "|cagan_ree|2024-08-12 03:04|cache|3.77|✅|\n",
    "|cobweb|2024-08-12 03:04|cache|2.68|✅|\n",
    "|commod_price|2024-08-12 03:04|cache|14.34|✅|\n",
    "|complex_and_trig|2024-08-12 03:04|cache|2.39|✅|\n",
    "|cons_smooth|2024-08-12 03:04|cache|3.06|✅|\n",
    "|eigen_I|2024-08-12 03:04|cache|4.63|✅|\n",
    "|eigen_II|2024-08-12 03:04|cache|4.82|✅|\n",
    "|equalizing_difference|2024-08-12 03:04|cache|2.36|✅|\n",
    "|french_rev|2024-08-12 03:05|cache|6.5|✅|\n",
    "|geom_series|2024-08-12 03:05|cache|2.99|✅|\n",
    "|greek_square|2024-08-12 03:05|cache|1.96|✅|\n",
    "|heavy_tails|2024-08-12 03:05|cache|15.4|✅|\n",
    "|inequality|2024-08-12 03:06|cache|37.36|✅|\n",
    "|inflation_history|2024-08-12 03:06|cache|8.45|✅|\n",
    "|input_output|2024-08-12 03:06|cache|13.87|✅|\n",
    "|intro|2024-08-12 03:06|cache|0.8|✅|\n",
    "|intro_supply_demand|2024-08-12 03:06|cache|2.49|✅|\n",
    "|laffer_adaptive|2024-08-12 03:06|cache|2.38|✅|\n",
    "|lake_model|2024-08-12 03:06|cache|2.63|✅|\n",
    "|linear_equations|2024-08-12 03:06|cache|1.95|✅|\n",
    "|lln_clt|2024-08-12 03:09|cache|151.87|✅|\n",
    "|long_run_growth|2024-08-12 03:09|cache|8.07|✅|\n",
    "|lp_intro|2024-08-12 03:09|cache|6.6|✅|\n",
    "|markov_chains_I|2024-08-12 03:09|cache|15.47|✅|\n",
    "|markov_chains_II|2024-08-12 03:09|cache|6.4|✅|\n",
    "|mle|2024-08-12 03:09|cache|6.58|✅|\n",
    "|money_inflation|2024-08-12 03:09|cache|2.95|✅|\n",
    "|money_inflation_nonlinear|2024-08-12 03:09|cache|2.27|✅|\n",
    "|monte_carlo|2024-08-12 03:13|cache|193.73|✅|\n",
    "|networks|2024-08-12 03:13|cache|8.95|✅|\n",
    "|olg|2024-08-12 03:13|cache|2.56|✅|\n",
    "|prob_dist|2024-08-12 03:13|cache|8.41|✅|\n",
    "|pv|2024-08-12 03:13|cache|1.72|✅|\n",
    "|scalar_dynam|2024-08-12 03:13|cache|3.08|✅|\n",
    "|schelling|2024-08-12 03:13|cache|12.09|✅|\n",
    "|short_path|2024-08-12 03:13|cache|0.95|✅|\n",
    "|simple_linear_regression|2024-08-12 03:13|cache|3.97|✅|\n",
    "|solow|2024-08-12 03:13|cache|3.65|✅|\n",
    "|status|2024-08-12 03:14|cache|4.09|✅|\n",
    "|supply_demand_heterogeneity|2024-08-12 03:14|cache|1.09|✅|\n",
    "|supply_demand_multiple_goods|2024-08-12 03:14|cache|1.98|✅|\n",
    "|time_series_with_matrices|2024-08-12 03:14|cache|2.85|✅|\n",
    "|troubleshooting|2024-08-12 03:06|cache|0.8|✅|\n",
    "|unpleasant|2024-08-12 03:14|cache|1.71|✅|\n",
    "|zreferences|2024-08-12 03:06|cache|0.8|✅|\n",
    "\n",
    "<a id='status-machine-details'></a>\n",
    "These lectures are built on `linux` instances through `github actions`.\n",
    "\n",
    "These lectures are using the following python version"
   ]
  },
  {
   "cell_type": "code",
   "execution_count": null,
   "id": "1843a976",
   "metadata": {
    "hide-output": false
   },
   "outputs": [],
   "source": [
    "!python --version"
   ]
  },
  {
   "cell_type": "markdown",
   "id": "5239cd6d",
   "metadata": {},
   "source": [
    "and the following package versions"
   ]
  },
  {
   "cell_type": "code",
   "execution_count": null,
   "id": "7ab526a9",
   "metadata": {
    "hide-output": false
   },
   "outputs": [],
   "source": [
    "!conda list"
   ]
  }
 ],
 "metadata": {
  "date": 1723441251.5945942,
  "filename": "status.md",
  "kernelspec": {
   "display_name": "Python",
   "language": "python3",
   "name": "python3"
  },
  "title": "Execution Statistics"
 },
 "nbformat": 4,
 "nbformat_minor": 5
}