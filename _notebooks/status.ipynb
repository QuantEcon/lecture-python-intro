{
 "cells": [
  {
   "cell_type": "markdown",
   "id": "b5b11f4d",
   "metadata": {},
   "source": [
    "# Execution Statistics\n",
    "\n",
    "This table contains the latest execution statistics.\n",
    "\n",
    "[](https://intro.quantecon.org/ar1_processes.html)[](https://intro.quantecon.org/business_cycle.html)[](https://intro.quantecon.org/cagan_adaptive.html)[](https://intro.quantecon.org/cagan_ree.html)[](https://intro.quantecon.org/cobweb.html)[](https://intro.quantecon.org/commod_price.html)[](https://intro.quantecon.org/complex_and_trig.html)[](https://intro.quantecon.org/cons_smooth.html)[](https://intro.quantecon.org/eigen_I.html)[](https://intro.quantecon.org/eigen_II.html)[](https://intro.quantecon.org/equalizing_difference.html)[](https://intro.quantecon.org/french_rev.html)[](https://intro.quantecon.org/geom_series.html)[](https://intro.quantecon.org/greek_square.html)[](https://intro.quantecon.org/heavy_tails.html)[](https://intro.quantecon.org/inequality.html)[](https://intro.quantecon.org/inflation_history.html)[](https://intro.quantecon.org/input_output.html)[](https://intro.quantecon.org/intro.html)[](https://intro.quantecon.org/intro_supply_demand.html)[](https://intro.quantecon.org/laffer_adaptive.html)[](https://intro.quantecon.org/lake_model.html)[](https://intro.quantecon.org/linear_equations.html)[](https://intro.quantecon.org/lln_clt.html)[](https://intro.quantecon.org/long_run_growth.html)[](https://intro.quantecon.org/lp_intro.html)[](https://intro.quantecon.org/markov_chains_I.html)[](https://intro.quantecon.org/markov_chains_II.html)[](https://intro.quantecon.org/mle.html)[](https://intro.quantecon.org/money_inflation.html)[](https://intro.quantecon.org/money_inflation_nonlinear.html)[](https://intro.quantecon.org/monte_carlo.html)[](https://intro.quantecon.org/networks.html)[](https://intro.quantecon.org/olg.html)[](https://intro.quantecon.org/prob_dist.html)[](https://intro.quantecon.org/pv.html)[](https://intro.quantecon.org/scalar_dynam.html)[](https://intro.quantecon.org/schelling.html)[](https://intro.quantecon.org/short_path.html)[](https://intro.quantecon.org/simple_linear_regression.html)[](https://intro.quantecon.org/solow.html)[](https://intro.quantecon.org/.html)[](https://intro.quantecon.org/supply_demand_heterogeneity.html)[](https://intro.quantecon.org/supply_demand_multiple_goods.html)[](https://intro.quantecon.org/time_series_with_matrices.html)[](https://intro.quantecon.org/troubleshooting.html)[](https://intro.quantecon.org/unpleasant.html)[](https://intro.quantecon.org/zreferences.html)|Document|Modified|Method|Run Time (s)|Status|\n",
    "|:------------------:|:------------------:|:------------------:|:------------------:|:------------------:|\n",
    "|ar1_processes|2024-08-17 21:01|cache|5.73|✅|\n",
    "|business_cycle|2024-08-17 21:01|cache|20.91|✅|\n",
    "|cagan_adaptive|2024-08-17 21:01|cache|2.49|✅|\n",
    "|cagan_ree|2024-08-17 21:01|cache|3.68|✅|\n",
    "|cobweb|2024-08-17 21:01|cache|2.82|✅|\n",
    "|commod_price|2024-08-17 21:02|cache|14.59|✅|\n",
    "|complex_and_trig|2024-08-17 21:02|cache|2.22|✅|\n",
    "|cons_smooth|2024-08-17 21:02|cache|3.13|✅|\n",
    "|eigen_I|2024-08-17 21:02|cache|4.78|✅|\n",
    "|eigen_II|2024-08-17 21:02|cache|7.83|✅|\n",
    "|equalizing_difference|2024-08-17 21:02|cache|2.25|✅|\n",
    "|french_rev|2024-08-17 21:02|cache|8.61|✅|\n",
    "|geom_series|2024-08-17 21:02|cache|3.17|✅|\n",
    "|greek_square|2024-08-17 21:02|cache|2.5|✅|\n",
    "|heavy_tails|2024-08-17 21:02|cache|16.51|✅|\n",
    "|inequality|2024-08-17 21:03|cache|45.16|✅|\n",
    "|inflation_history|2024-08-17 21:03|cache|8.92|✅|\n",
    "|input_output|2024-08-17 21:04|cache|13.81|✅|\n",
    "|intro|2024-08-17 21:04|cache|0.85|✅|\n",
    "|intro_supply_demand|2024-08-17 21:04|cache|2.64|✅|\n",
    "|laffer_adaptive|2024-08-17 21:04|cache|2.44|✅|\n",
    "|lake_model|2024-08-17 21:04|cache|2.69|✅|\n",
    "|linear_equations|2024-08-17 21:04|cache|2.03|✅|\n",
    "|lln_clt|2024-08-17 21:06|cache|151.66|✅|\n",
    "|long_run_growth|2024-08-17 21:06|cache|8.27|✅|\n",
    "|lp_intro|2024-08-17 21:07|cache|6.71|✅|\n",
    "|markov_chains_I|2024-08-17 21:07|cache|16.16|✅|\n",
    "|markov_chains_II|2024-08-17 21:07|cache|6.35|✅|\n",
    "|mle|2024-08-17 21:07|cache|6.91|✅|\n",
    "|money_inflation|2024-08-17 21:07|cache|2.91|✅|\n",
    "|money_inflation_nonlinear|2024-08-17 21:07|cache|2.38|✅|\n",
    "|monte_carlo|2024-08-17 21:10|cache|196.66|✅|\n",
    "|networks|2024-08-17 21:11|cache|9.3|✅|\n",
    "|olg|2024-08-17 21:11|cache|2.69|✅|\n",
    "|prob_dist|2024-08-17 21:11|cache|9.03|✅|\n",
    "|pv|2024-08-17 21:11|cache|1.63|✅|\n",
    "|scalar_dynam|2024-08-17 21:11|cache|3.18|✅|\n",
    "|schelling|2024-08-17 21:11|cache|12.16|✅|\n",
    "|short_path|2024-08-17 21:11|cache|0.95|✅|\n",
    "|simple_linear_regression|2024-08-17 21:11|cache|4.68|✅|\n",
    "|solow|2024-08-17 21:11|cache|4.06|✅|\n",
    "|status|2024-08-17 21:11|cache|4.25|✅|\n",
    "|supply_demand_heterogeneity|2024-08-17 21:11|cache|1.07|✅|\n",
    "|supply_demand_multiple_goods|2024-08-17 21:11|cache|2.02|✅|\n",
    "|time_series_with_matrices|2024-08-17 21:11|cache|2.68|✅|\n",
    "|troubleshooting|2024-08-17 21:04|cache|0.85|✅|\n",
    "|unpleasant|2024-08-17 21:11|cache|1.87|✅|\n",
    "|zreferences|2024-08-17 21:04|cache|0.85|✅|\n",
    "\n",
    "<a id='status-machine-details'></a>\n",
    "These lectures are built on `linux` instances through `github actions`.\n",
    "\n",
    "These lectures are using the following python version"
   ]
  },
  {
   "cell_type": "code",
   "execution_count": null,
   "id": "d9a56305",
   "metadata": {
    "hide-output": false
   },
   "outputs": [],
   "source": [
    "!python --version"
   ]
  },
  {
   "cell_type": "markdown",
   "id": "c2e1cbcf",
   "metadata": {},
   "source": [
    "and the following package versions"
   ]
  },
  {
   "cell_type": "code",
   "execution_count": null,
   "id": "d2d50ec7",
   "metadata": {
    "hide-output": false
   },
   "outputs": [],
   "source": [
    "!conda list"
   ]
  }
 ],
 "metadata": {
  "date": 1723931276.9142995,
  "filename": "status.md",
  "kernelspec": {
   "display_name": "Python",
   "language": "python3",
   "name": "python3"
  },
  "title": "Execution Statistics"
 },
 "nbformat": 4,
 "nbformat_minor": 5
}