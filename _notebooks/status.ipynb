{
 "cells": [
  {
   "cell_type": "markdown",
   "id": "4d84d5ad",
   "metadata": {},
   "source": [
    "# Execution Statistics\n",
    "\n",
    "This table contains the latest execution statistics.\n",
    "\n",
    "[](https://intro.quantecon.org/ak2.html)[](https://intro.quantecon.org/ar1_processes.html)[](https://intro.quantecon.org/business_cycle.html)[](https://intro.quantecon.org/cagan_adaptive.html)[](https://intro.quantecon.org/cagan_ree.html)[](https://intro.quantecon.org/cobweb.html)[](https://intro.quantecon.org/commod_price.html)[](https://intro.quantecon.org/complex_and_trig.html)[](https://intro.quantecon.org/cons_smooth.html)[](https://intro.quantecon.org/eigen_I.html)[](https://intro.quantecon.org/eigen_II.html)[](https://intro.quantecon.org/equalizing_difference.html)[](https://intro.quantecon.org/french_rev.html)[](https://intro.quantecon.org/geom_series.html)[](https://intro.quantecon.org/greek_square.html)[](https://intro.quantecon.org/heavy_tails.html)[](https://intro.quantecon.org/inequality.html)[](https://intro.quantecon.org/inflation_history.html)[](https://intro.quantecon.org/input_output.html)[](https://intro.quantecon.org/intro.html)[](https://intro.quantecon.org/intro_supply_demand.html)[](https://intro.quantecon.org/laffer_adaptive.html)[](https://intro.quantecon.org/lake_model.html)[](https://intro.quantecon.org/linear_equations.html)[](https://intro.quantecon.org/lln_clt.html)[](https://intro.quantecon.org/long_run_growth.html)[](https://intro.quantecon.org/lp_intro.html)[](https://intro.quantecon.org/markov_chains_I.html)[](https://intro.quantecon.org/markov_chains_II.html)[](https://intro.quantecon.org/mle.html)[](https://intro.quantecon.org/money_inflation.html)[](https://intro.quantecon.org/money_inflation_nonlinear.html)[](https://intro.quantecon.org/monte_carlo.html)[](https://intro.quantecon.org/networks.html)[](https://intro.quantecon.org/olg.html)[](https://intro.quantecon.org/prob_dist.html)[](https://intro.quantecon.org/pv.html)[](https://intro.quantecon.org/scalar_dynam.html)[](https://intro.quantecon.org/schelling.html)[](https://intro.quantecon.org/short_path.html)[](https://intro.quantecon.org/simple_linear_regression.html)[](https://intro.quantecon.org/solow.html)[](https://intro.quantecon.org/.html)[](https://intro.quantecon.org/supply_demand_heterogeneity.html)[](https://intro.quantecon.org/supply_demand_multiple_goods.html)[](https://intro.quantecon.org/time_series_with_matrices.html)[](https://intro.quantecon.org/troubleshooting.html)[](https://intro.quantecon.org/unpleasant.html)[](https://intro.quantecon.org/zreferences.html)|Document|Modified|Method|Run Time (s)|Status|\n",
    "|:------------------:|:------------------:|:------------------:|:------------------:|:------------------:|\n",
    "|ak2|2024-08-02 00:03|cache|16.36|✅|\n",
    "|ar1_processes|2024-08-02 00:03|cache|3.74|✅|\n",
    "|business_cycle|2024-08-02 00:03|cache|14.45|✅|\n",
    "|cagan_adaptive|2024-08-02 00:03|cache|2.58|✅|\n",
    "|cagan_ree|2024-08-02 00:03|cache|3.63|✅|\n",
    "|cobweb|2024-08-02 00:03|cache|2.75|✅|\n",
    "|commod_price|2024-08-02 00:03|cache|14.88|✅|\n",
    "|complex_and_trig|2024-08-02 00:03|cache|2.19|✅|\n",
    "|cons_smooth|2024-08-02 00:03|cache|3.04|✅|\n",
    "|eigen_I|2024-08-02 00:03|cache|4.76|✅|\n",
    "|eigen_II|2024-08-02 00:04|cache|4.57|✅|\n",
    "|equalizing_difference|2024-08-02 00:04|cache|2.14|✅|\n",
    "|french_rev|2024-08-02 00:04|cache|12.13|✅|\n",
    "|geom_series|2024-08-02 00:04|cache|2.8|✅|\n",
    "|greek_square|2024-08-02 00:04|cache|1.95|✅|\n",
    "|heavy_tails|2024-08-02 00:04|cache|16.99|✅|\n",
    "|inequality|2024-08-02 00:05|cache|38.56|✅|\n",
    "|inflation_history|2024-08-02 00:05|cache|9.5|✅|\n",
    "|input_output|2024-08-02 00:05|cache|12.42|✅|\n",
    "|intro|2024-08-02 00:05|cache|0.87|✅|\n",
    "|intro_supply_demand|2024-08-02 00:05|cache|2.51|✅|\n",
    "|laffer_adaptive|2024-08-02 00:05|cache|2.23|✅|\n",
    "|lake_model|2024-08-02 00:05|cache|2.57|✅|\n",
    "|linear_equations|2024-08-02 00:05|cache|2.08|✅|\n",
    "|lln_clt|2024-08-02 00:08|cache|151.39|✅|\n",
    "|long_run_growth|2024-08-02 00:08|cache|9.59|✅|\n",
    "|lp_intro|2024-08-02 00:08|cache|6.34|✅|\n",
    "|markov_chains_I|2024-08-02 00:08|cache|15.48|✅|\n",
    "|markov_chains_II|2024-08-02 00:09|cache|6.41|✅|\n",
    "|mle|2024-08-02 00:09|cache|7.04|✅|\n",
    "|money_inflation|2024-08-02 00:09|cache|2.97|✅|\n",
    "|money_inflation_nonlinear|2024-08-02 00:09|cache|2.04|✅|\n",
    "|monte_carlo|2024-08-02 00:12|cache|198.64|✅|\n",
    "|networks|2024-08-02 00:12|cache|8.93|✅|\n",
    "|olg|2024-08-02 00:12|cache|2.37|✅|\n",
    "|prob_dist|2024-08-02 00:12|cache|8.61|✅|\n",
    "|pv|2024-08-02 00:12|cache|1.62|✅|\n",
    "|scalar_dynam|2024-08-02 00:12|cache|3.1|✅|\n",
    "|schelling|2024-08-02 00:13|cache|11.81|✅|\n",
    "|short_path|2024-08-02 00:13|cache|1.05|✅|\n",
    "|simple_linear_regression|2024-08-02 00:13|cache|4.84|✅|\n",
    "|solow|2024-08-02 00:13|cache|3.58|✅|\n",
    "|status|2024-08-02 00:13|cache|4.08|✅|\n",
    "|supply_demand_heterogeneity|2024-08-02 00:13|cache|1.15|✅|\n",
    "|supply_demand_multiple_goods|2024-08-02 00:13|cache|2.04|✅|\n",
    "|time_series_with_matrices|2024-08-02 00:13|cache|2.71|✅|\n",
    "|troubleshooting|2024-08-02 00:05|cache|0.87|✅|\n",
    "|unpleasant|2024-08-02 00:13|cache|1.77|✅|\n",
    "|zreferences|2024-08-02 00:05|cache|0.87|✅|\n",
    "\n",
    "<a id='status-machine-details'></a>\n",
    "These lectures are built on `linux` instances through `github actions`.\n",
    "\n",
    "These lectures are using the following python version"
   ]
  },
  {
   "cell_type": "code",
   "execution_count": null,
   "id": "f271afd5",
   "metadata": {
    "hide-output": false
   },
   "outputs": [],
   "source": [
    "!python --version"
   ]
  },
  {
   "cell_type": "markdown",
   "id": "6bdd04b3",
   "metadata": {},
   "source": [
    "and the following package versions"
   ]
  },
  {
   "cell_type": "code",
   "execution_count": null,
   "id": "a3bfc291",
   "metadata": {
    "hide-output": false
   },
   "outputs": [],
   "source": [
    "!conda list"
   ]
  }
 ],
 "metadata": {
  "date": 1722558196.2107177,
  "filename": "status.md",
  "kernelspec": {
   "display_name": "Python",
   "language": "python3",
   "name": "python3"
  },
  "title": "Execution Statistics"
 },
 "nbformat": 4,
 "nbformat_minor": 5
}