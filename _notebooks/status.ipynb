{
 "cells": [
  {
   "cell_type": "markdown",
   "id": "9032e904",
   "metadata": {},
   "source": [
    "# Execution Statistics\n",
    "\n",
    "This table contains the latest execution statistics.\n",
    "\n",
    "[](https://intro.quantecon.org/ar1_processes.html)[](https://intro.quantecon.org/business_cycle.html)[](https://intro.quantecon.org/cagan_adaptive.html)[](https://intro.quantecon.org/cagan_ree.html)[](https://intro.quantecon.org/cobweb.html)[](https://intro.quantecon.org/commod_price.html)[](https://intro.quantecon.org/complex_and_trig.html)[](https://intro.quantecon.org/cons_smooth.html)[](https://intro.quantecon.org/eigen_I.html)[](https://intro.quantecon.org/eigen_II.html)[](https://intro.quantecon.org/equalizing_difference.html)[](https://intro.quantecon.org/geom_series.html)[](https://intro.quantecon.org/heavy_tails.html)[](https://intro.quantecon.org/inequality.html)[](https://intro.quantecon.org/inflation_history.html)[](https://intro.quantecon.org/input_output.html)[](https://intro.quantecon.org/intro.html)[](https://intro.quantecon.org/intro_supply_demand.html)[](https://intro.quantecon.org/laffer_adaptive.html)[](https://intro.quantecon.org/lake_model.html)[](https://intro.quantecon.org/linear_equations.html)[](https://intro.quantecon.org/lln_clt.html)[](https://intro.quantecon.org/long_run_growth.html)[](https://intro.quantecon.org/lp_intro.html)[](https://intro.quantecon.org/markov_chains_I.html)[](https://intro.quantecon.org/markov_chains_II.html)[](https://intro.quantecon.org/mle.html)[](https://intro.quantecon.org/money_inflation.html)[](https://intro.quantecon.org/money_inflation_nonlinear.html)[](https://intro.quantecon.org/monte_carlo.html)[](https://intro.quantecon.org/networks.html)[](https://intro.quantecon.org/olg.html)[](https://intro.quantecon.org/prob_dist.html)[](https://intro.quantecon.org/pv.html)[](https://intro.quantecon.org/scalar_dynam.html)[](https://intro.quantecon.org/schelling.html)[](https://intro.quantecon.org/short_path.html)[](https://intro.quantecon.org/simple_linear_regression.html)[](https://intro.quantecon.org/solow.html)[](https://intro.quantecon.org/.html)[](https://intro.quantecon.org/supply_demand_heterogeneity.html)[](https://intro.quantecon.org/supply_demand_multiple_goods.html)[](https://intro.quantecon.org/time_series_with_matrices.html)[](https://intro.quantecon.org/troubleshooting.html)[](https://intro.quantecon.org/unpleasant.html)[](https://intro.quantecon.org/zreferences.html)|Document|Modified|Method|Run Time (s)|Status|\n",
    "|:------------------:|:------------------:|:------------------:|:------------------:|:------------------:|\n",
    "|ar1_processes|2024-04-03 04:28|cache|6.57|✅|\n",
    "|business_cycle|2024-04-03 04:29|cache|14.11|✅|\n",
    "|cagan_adaptive|2024-04-03 04:29|cache|2.65|✅|\n",
    "|cagan_ree|2024-04-03 04:29|cache|3.39|✅|\n",
    "|cobweb|2024-04-03 04:29|cache|2.64|✅|\n",
    "|commod_price|2024-04-03 04:29|cache|20.55|✅|\n",
    "|complex_and_trig|2024-04-03 04:29|cache|2.42|✅|\n",
    "|cons_smooth|2024-04-03 04:29|cache|2.91|✅|\n",
    "|eigen_I|2024-04-03 04:29|cache|4.74|✅|\n",
    "|eigen_II|2024-04-03 04:29|cache|7.78|✅|\n",
    "|equalizing_difference|2024-04-03 04:29|cache|2.28|✅|\n",
    "|geom_series|2024-04-03 04:29|cache|2.85|✅|\n",
    "|heavy_tails|2024-04-03 04:30|cache|16.19|✅|\n",
    "|inequality|2024-04-03 04:30|cache|31.11|✅|\n",
    "|inflation_history|2024-04-03 04:30|cache|9.87|✅|\n",
    "|input_output|2024-04-03 04:31|cache|13.17|✅|\n",
    "|intro|2024-04-03 04:31|cache|0.93|✅|\n",
    "|intro_supply_demand|2024-04-03 04:31|cache|2.65|✅|\n",
    "|laffer_adaptive|2024-04-03 04:31|cache|2.35|✅|\n",
    "|lake_model|2024-04-03 04:31|cache|2.52|✅|\n",
    "|linear_equations|2024-04-03 04:31|cache|2.14|✅|\n",
    "|lln_clt|2024-04-03 04:33|cache|150.96|✅|\n",
    "|long_run_growth|2024-04-03 04:34|cache|9.89|✅|\n",
    "|lp_intro|2024-04-03 04:34|cache|7.0|✅|\n",
    "|markov_chains_I|2024-04-03 04:34|cache|9.72|✅|\n",
    "|markov_chains_II|2024-04-03 04:34|cache|6.66|✅|\n",
    "|mle|2024-04-03 04:34|cache|7.77|✅|\n",
    "|money_inflation|2024-04-03 04:34|cache|2.94|✅|\n",
    "|money_inflation_nonlinear|2024-04-03 04:34|cache|2.13|✅|\n",
    "|monte_carlo|2024-04-03 04:34|cache|16.07|✅|\n",
    "|networks|2024-04-03 04:35|cache|8.85|✅|\n",
    "|olg|2024-04-03 04:35|cache|2.69|✅|\n",
    "|prob_dist|2024-04-03 04:35|cache|8.61|✅|\n",
    "|pv|2024-04-03 04:35|cache|1.56|✅|\n",
    "|scalar_dynam|2024-04-03 04:35|cache|2.99|✅|\n",
    "|schelling|2024-04-03 04:35|cache|11.91|✅|\n",
    "|short_path|2024-04-03 04:35|cache|0.93|✅|\n",
    "|simple_linear_regression|2024-04-03 04:35|cache|4.78|✅|\n",
    "|solow|2024-04-03 04:35|cache|3.85|✅|\n",
    "|status|2024-04-03 04:35|cache|4.96|✅|\n",
    "|supply_demand_heterogeneity|2024-04-03 04:35|cache|0.92|✅|\n",
    "|supply_demand_multiple_goods|2024-04-03 04:35|cache|1.83|✅|\n",
    "|time_series_with_matrices|2024-04-03 04:35|cache|2.77|✅|\n",
    "|troubleshooting|2024-04-03 04:31|cache|0.93|✅|\n",
    "|unpleasant|2024-04-03 04:35|cache|1.61|✅|\n",
    "|zreferences|2024-04-03 04:31|cache|0.93|✅|\n",
    "\n",
    "<a id='status-machine-details'></a>\n",
    "These lectures are built on `linux` instances through `github actions`.\n",
    "\n",
    "These lectures are using the following python version"
   ]
  },
  {
   "cell_type": "code",
   "execution_count": null,
   "id": "0999a027",
   "metadata": {
    "hide-output": false
   },
   "outputs": [],
   "source": [
    "!python --version"
   ]
  },
  {
   "cell_type": "markdown",
   "id": "2ffe5ee2",
   "metadata": {},
   "source": [
    "and the following package versions"
   ]
  },
  {
   "cell_type": "code",
   "execution_count": null,
   "id": "ac8dcea6",
   "metadata": {
    "hide-output": false
   },
   "outputs": [],
   "source": [
    "!conda list"
   ]
  }
 ],
 "metadata": {
  "date": 1712122264.8806264,
  "filename": "status.md",
  "kernelspec": {
   "display_name": "Python",
   "language": "python3",
   "name": "python3"
  },
  "title": "Execution Statistics"
 },
 "nbformat": 4,
 "nbformat_minor": 5
}