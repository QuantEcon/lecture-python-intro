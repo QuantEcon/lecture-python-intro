{
 "cells": [
  {
   "cell_type": "markdown",
   "id": "894452c8",
   "metadata": {},
   "source": [
    "# Execution Statistics\n",
    "\n",
    "This table contains the latest execution statistics.\n",
    "\n",
    "[](https://intro.quantecon.org/ar1_processes.html)[](https://intro.quantecon.org/business_cycle.html)[](https://intro.quantecon.org/cagan_adaptive.html)[](https://intro.quantecon.org/cagan_ree.html)[](https://intro.quantecon.org/cobweb.html)[](https://intro.quantecon.org/commod_price.html)[](https://intro.quantecon.org/complex_and_trig.html)[](https://intro.quantecon.org/cons_smooth.html)[](https://intro.quantecon.org/eigen_I.html)[](https://intro.quantecon.org/eigen_II.html)[](https://intro.quantecon.org/equalizing_difference.html)[](https://intro.quantecon.org/french_rev.html)[](https://intro.quantecon.org/geom_series.html)[](https://intro.quantecon.org/greek_square.html)[](https://intro.quantecon.org/heavy_tails.html)[](https://intro.quantecon.org/inequality.html)[](https://intro.quantecon.org/inflation_history.html)[](https://intro.quantecon.org/input_output.html)[](https://intro.quantecon.org/intro.html)[](https://intro.quantecon.org/intro_supply_demand.html)[](https://intro.quantecon.org/laffer_adaptive.html)[](https://intro.quantecon.org/lake_model.html)[](https://intro.quantecon.org/linear_equations.html)[](https://intro.quantecon.org/lln_clt.html)[](https://intro.quantecon.org/long_run_growth.html)[](https://intro.quantecon.org/lp_intro.html)[](https://intro.quantecon.org/markov_chains_I.html)[](https://intro.quantecon.org/markov_chains_II.html)[](https://intro.quantecon.org/mle.html)[](https://intro.quantecon.org/money_inflation.html)[](https://intro.quantecon.org/money_inflation_nonlinear.html)[](https://intro.quantecon.org/monte_carlo.html)[](https://intro.quantecon.org/networks.html)[](https://intro.quantecon.org/olg.html)[](https://intro.quantecon.org/prob_dist.html)[](https://intro.quantecon.org/pv.html)[](https://intro.quantecon.org/scalar_dynam.html)[](https://intro.quantecon.org/schelling.html)[](https://intro.quantecon.org/short_path.html)[](https://intro.quantecon.org/simple_linear_regression.html)[](https://intro.quantecon.org/solow.html)[](https://intro.quantecon.org/.html)[](https://intro.quantecon.org/supply_demand_heterogeneity.html)[](https://intro.quantecon.org/supply_demand_multiple_goods.html)[](https://intro.quantecon.org/time_series_with_matrices.html)[](https://intro.quantecon.org/troubleshooting.html)[](https://intro.quantecon.org/unpleasant.html)[](https://intro.quantecon.org/zreferences.html)|Document|Modified|Method|Run Time (s)|Status|\n",
    "|:------------------:|:------------------:|:------------------:|:------------------:|:------------------:|\n",
    "|ar1_processes|2024-09-25 05:28|cache|5.56|✅|\n",
    "|business_cycle|2024-09-25 05:28|cache|14.19|✅|\n",
    "|cagan_adaptive|2024-09-25 05:28|cache|2.67|✅|\n",
    "|cagan_ree|2024-09-25 05:28|cache|3.67|✅|\n",
    "|cobweb|2024-09-25 05:28|cache|2.75|✅|\n",
    "|commod_price|2024-09-25 05:28|cache|14.63|✅|\n",
    "|complex_and_trig|2024-09-25 05:29|cache|2.45|✅|\n",
    "|cons_smooth|2024-09-25 05:29|cache|3.09|✅|\n",
    "|eigen_I|2024-09-25 05:29|cache|4.86|✅|\n",
    "|eigen_II|2024-09-25 05:29|cache|7.59|✅|\n",
    "|equalizing_difference|2024-09-25 05:29|cache|2.44|✅|\n",
    "|french_rev|2024-09-25 05:29|cache|12.67|✅|\n",
    "|geom_series|2024-09-25 05:29|cache|2.9|✅|\n",
    "|greek_square|2024-09-25 05:29|cache|2.51|✅|\n",
    "|heavy_tails|2024-09-25 05:29|cache|16.78|✅|\n",
    "|inequality|2024-09-25 05:30|cache|39.41|✅|\n",
    "|inflation_history|2024-09-25 05:30|cache|9.46|✅|\n",
    "|input_output|2024-09-25 05:30|cache|12.63|✅|\n",
    "|intro|2024-09-25 05:31|cache|4.02|✅|\n",
    "|intro_supply_demand|2024-09-25 05:31|cache|2.57|✅|\n",
    "|laffer_adaptive|2024-09-25 05:31|cache|2.4|✅|\n",
    "|lake_model|2024-09-25 05:31|cache|2.66|✅|\n",
    "|linear_equations|2024-09-25 05:31|cache|2.0|✅|\n",
    "|lln_clt|2024-09-25 05:33|cache|153.23|✅|\n",
    "|long_run_growth|2024-09-25 05:33|cache|9.32|✅|\n",
    "|lp_intro|2024-09-25 05:34|cache|6.77|✅|\n",
    "|markov_chains_I|2024-09-25 05:34|cache|15.76|✅|\n",
    "|markov_chains_II|2024-09-25 05:34|cache|5.75|✅|\n",
    "|mle|2024-09-25 05:34|cache|9.73|✅|\n",
    "|money_inflation|2024-09-25 05:34|cache|2.8|✅|\n",
    "|money_inflation_nonlinear|2024-09-25 05:34|cache|2.18|✅|\n",
    "|monte_carlo|2024-09-25 05:37|cache|196.34|✅|\n",
    "|networks|2024-09-25 05:38|cache|8.81|✅|\n",
    "|olg|2024-09-25 05:38|cache|2.59|✅|\n",
    "|prob_dist|2024-09-25 05:38|cache|8.61|✅|\n",
    "|pv|2024-09-25 05:38|cache|1.72|✅|\n",
    "|scalar_dynam|2024-09-25 05:38|cache|3.13|✅|\n",
    "|schelling|2024-09-25 05:38|cache|12.15|✅|\n",
    "|short_path|2024-09-25 05:38|cache|0.95|✅|\n",
    "|simple_linear_regression|2024-09-25 05:38|cache|5.58|✅|\n",
    "|solow|2024-09-25 05:38|cache|3.83|✅|\n",
    "|status|2024-09-25 05:38|cache|4.07|✅|\n",
    "|supply_demand_heterogeneity|2024-09-25 05:38|cache|0.99|✅|\n",
    "|supply_demand_multiple_goods|2024-09-25 05:38|cache|1.85|✅|\n",
    "|time_series_with_matrices|2024-09-25 05:38|cache|2.87|✅|\n",
    "|troubleshooting|2024-09-25 05:31|cache|4.02|✅|\n",
    "|unpleasant|2024-09-25 05:38|cache|1.74|✅|\n",
    "|zreferences|2024-09-25 05:31|cache|4.02|✅|\n",
    "\n",
    "<a id='status-machine-details'></a>\n",
    "These lectures are built on `linux` instances through `github actions`.\n",
    "\n",
    "These lectures are using the following python version"
   ]
  },
  {
   "cell_type": "code",
   "execution_count": null,
   "id": "6ac7639c",
   "metadata": {
    "hide-output": false
   },
   "outputs": [],
   "source": [
    "!python --version"
   ]
  },
  {
   "cell_type": "markdown",
   "id": "3de66a0f",
   "metadata": {},
   "source": [
    "and the following package versions"
   ]
  },
  {
   "cell_type": "code",
   "execution_count": null,
   "id": "3ce0dbcc",
   "metadata": {
    "hide-output": false
   },
   "outputs": [],
   "source": [
    "!conda list"
   ]
  }
 ],
 "metadata": {
  "date": 1727242855.8923604,
  "filename": "status.md",
  "kernelspec": {
   "display_name": "Python",
   "language": "python3",
   "name": "python3"
  },
  "title": "Execution Statistics"
 },
 "nbformat": 4,
 "nbformat_minor": 5
}