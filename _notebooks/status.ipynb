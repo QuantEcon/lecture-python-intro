{
 "cells": [
  {
   "cell_type": "markdown",
   "id": "de133453",
   "metadata": {},
   "source": [
    "# Execution Statistics\n",
    "\n",
    "This table contains the latest execution statistics.\n",
    "\n",
    "[](https://intro.quantecon.org/ak2.html)[](https://intro.quantecon.org/ar1_processes.html)[](https://intro.quantecon.org/business_cycle.html)[](https://intro.quantecon.org/cagan_adaptive.html)[](https://intro.quantecon.org/cagan_ree.html)[](https://intro.quantecon.org/cobweb.html)[](https://intro.quantecon.org/commod_price.html)[](https://intro.quantecon.org/complex_and_trig.html)[](https://intro.quantecon.org/cons_smooth.html)[](https://intro.quantecon.org/eigen_I.html)[](https://intro.quantecon.org/eigen_II.html)[](https://intro.quantecon.org/equalizing_difference.html)[](https://intro.quantecon.org/geom_series.html)[](https://intro.quantecon.org/greek_square.html)[](https://intro.quantecon.org/heavy_tails.html)[](https://intro.quantecon.org/inequality.html)[](https://intro.quantecon.org/inflation_history.html)[](https://intro.quantecon.org/input_output.html)[](https://intro.quantecon.org/intro.html)[](https://intro.quantecon.org/intro_supply_demand.html)[](https://intro.quantecon.org/laffer_adaptive.html)[](https://intro.quantecon.org/lake_model.html)[](https://intro.quantecon.org/linear_equations.html)[](https://intro.quantecon.org/lln_clt.html)[](https://intro.quantecon.org/long_run_growth.html)[](https://intro.quantecon.org/lp_intro.html)[](https://intro.quantecon.org/markov_chains_I.html)[](https://intro.quantecon.org/markov_chains_II.html)[](https://intro.quantecon.org/mle.html)[](https://intro.quantecon.org/money_inflation.html)[](https://intro.quantecon.org/money_inflation_nonlinear.html)[](https://intro.quantecon.org/monte_carlo.html)[](https://intro.quantecon.org/networks.html)[](https://intro.quantecon.org/olg.html)[](https://intro.quantecon.org/prob_dist.html)[](https://intro.quantecon.org/pv.html)[](https://intro.quantecon.org/scalar_dynam.html)[](https://intro.quantecon.org/schelling.html)[](https://intro.quantecon.org/short_path.html)[](https://intro.quantecon.org/simple_linear_regression.html)[](https://intro.quantecon.org/solow.html)[](https://intro.quantecon.org/.html)[](https://intro.quantecon.org/supply_demand_heterogeneity.html)[](https://intro.quantecon.org/supply_demand_multiple_goods.html)[](https://intro.quantecon.org/time_series_with_matrices.html)[](https://intro.quantecon.org/troubleshooting.html)[](https://intro.quantecon.org/unpleasant.html)[](https://intro.quantecon.org/zreferences.html)|Document|Modified|Method|Run Time (s)|Status|\n",
    "|:------------------:|:------------------:|:------------------:|:------------------:|:------------------:|\n",
    "|ak2|2024-07-08 03:49|cache|17.52|✅|\n",
    "|ar1_processes|2024-07-08 03:49|cache|3.74|✅|\n",
    "|business_cycle|2024-07-08 03:50|cache|14.81|✅|\n",
    "|cagan_adaptive|2024-07-08 03:50|cache|2.59|✅|\n",
    "|cagan_ree|2024-07-08 03:50|cache|3.61|✅|\n",
    "|cobweb|2024-07-08 03:50|cache|2.66|✅|\n",
    "|commod_price|2024-07-08 03:50|cache|15.66|✅|\n",
    "|complex_and_trig|2024-07-08 03:50|cache|2.18|✅|\n",
    "|cons_smooth|2024-07-08 03:50|cache|3.07|✅|\n",
    "|eigen_I|2024-07-08 03:50|cache|4.53|✅|\n",
    "|eigen_II|2024-07-08 03:50|cache|5.12|✅|\n",
    "|equalizing_difference|2024-07-08 03:50|cache|2.34|✅|\n",
    "|geom_series|2024-07-08 03:50|cache|2.85|✅|\n",
    "|greek_square|2024-07-08 03:50|cache|1.82|✅|\n",
    "|heavy_tails|2024-07-08 03:51|cache|17.34|✅|\n",
    "|inequality|2024-07-08 03:51|cache|36.55|✅|\n",
    "|inflation_history|2024-07-08 03:52|cache|9.6|✅|\n",
    "|input_output|2024-07-08 03:52|cache|13.99|✅|\n",
    "|intro|2024-07-08 03:52|cache|0.97|✅|\n",
    "|intro_supply_demand|2024-07-08 03:52|cache|2.47|✅|\n",
    "|laffer_adaptive|2024-07-08 03:52|cache|2.44|✅|\n",
    "|lake_model|2024-07-08 03:52|cache|2.41|✅|\n",
    "|linear_equations|2024-07-08 03:52|cache|2.15|✅|\n",
    "|lln_clt|2024-07-08 03:55|cache|152.01|✅|\n",
    "|long_run_growth|2024-07-08 03:55|cache|9.3|✅|\n",
    "|lp_intro|2024-07-08 03:55|cache|6.63|✅|\n",
    "|markov_chains_I|2024-07-08 09:38|cache|18.08|✅|\n",
    "|markov_chains_II|2024-07-08 03:55|cache|6.66|✅|\n",
    "|mle|2024-07-08 03:55|cache|7.09|✅|\n",
    "|money_inflation|2024-07-08 03:55|cache|2.8|✅|\n",
    "|money_inflation_nonlinear|2024-07-08 03:55|cache|2.23|✅|\n",
    "|monte_carlo|2024-07-08 03:58|cache|190.9|✅|\n",
    "|networks|2024-07-08 03:59|cache|9.04|✅|\n",
    "|olg|2024-07-08 03:59|cache|2.37|✅|\n",
    "|prob_dist|2024-07-08 03:59|cache|8.82|✅|\n",
    "|pv|2024-07-08 03:59|cache|1.55|✅|\n",
    "|scalar_dynam|2024-07-08 03:59|cache|2.96|✅|\n",
    "|schelling|2024-07-08 03:59|cache|11.9|✅|\n",
    "|short_path|2024-07-08 03:59|cache|0.88|✅|\n",
    "|simple_linear_regression|2024-07-08 03:59|cache|4.58|✅|\n",
    "|solow|2024-07-08 03:59|cache|3.77|✅|\n",
    "|status|2024-07-08 03:59|cache|4.12|✅|\n",
    "|supply_demand_heterogeneity|2024-07-08 03:59|cache|1.02|✅|\n",
    "|supply_demand_multiple_goods|2024-07-08 03:59|cache|1.81|✅|\n",
    "|time_series_with_matrices|2024-07-08 03:59|cache|2.81|✅|\n",
    "|troubleshooting|2024-07-08 03:52|cache|0.97|✅|\n",
    "|unpleasant|2024-07-08 03:59|cache|1.73|✅|\n",
    "|zreferences|2024-07-08 03:52|cache|0.97|✅|\n",
    "\n",
    "<a id='status-machine-details'></a>\n",
    "These lectures are built on `linux` instances through `github actions`.\n",
    "\n",
    "These lectures are using the following python version"
   ]
  },
  {
   "cell_type": "code",
   "execution_count": null,
   "id": "4f3d36ca",
   "metadata": {
    "hide-output": false
   },
   "outputs": [],
   "source": [
    "!python --version"
   ]
  },
  {
   "cell_type": "markdown",
   "id": "9a3cc34b",
   "metadata": {},
   "source": [
    "and the following package versions"
   ]
  },
  {
   "cell_type": "code",
   "execution_count": null,
   "id": "fe0f2c32",
   "metadata": {
    "hide-output": false
   },
   "outputs": [],
   "source": [
    "!conda list"
   ]
  }
 ],
 "metadata": {
  "date": 1720431611.6739473,
  "filename": "status.md",
  "kernelspec": {
   "display_name": "Python",
   "language": "python3",
   "name": "python3"
  },
  "title": "Execution Statistics"
 },
 "nbformat": 4,
 "nbformat_minor": 5
}