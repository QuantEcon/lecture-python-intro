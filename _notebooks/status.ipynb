{
 "cells": [
  {
   "cell_type": "markdown",
   "id": "820ad349",
   "metadata": {},
   "source": [
    "# Execution Statistics\n",
    "\n",
    "This table contains the latest execution statistics.\n",
    "\n",
    "[](https://intro.quantecon.org/ar1_processes.html)[](https://intro.quantecon.org/business_cycle.html)[](https://intro.quantecon.org/cagan_adaptive.html)[](https://intro.quantecon.org/cagan_ree.html)[](https://intro.quantecon.org/cobweb.html)[](https://intro.quantecon.org/commod_price.html)[](https://intro.quantecon.org/complex_and_trig.html)[](https://intro.quantecon.org/cons_smooth.html)[](https://intro.quantecon.org/eigen_I.html)[](https://intro.quantecon.org/eigen_II.html)[](https://intro.quantecon.org/equalizing_difference.html)[](https://intro.quantecon.org/french_rev.html)[](https://intro.quantecon.org/geom_series.html)[](https://intro.quantecon.org/greek_square.html)[](https://intro.quantecon.org/heavy_tails.html)[](https://intro.quantecon.org/inequality.html)[](https://intro.quantecon.org/inflation_history.html)[](https://intro.quantecon.org/input_output.html)[](https://intro.quantecon.org/intro.html)[](https://intro.quantecon.org/intro_supply_demand.html)[](https://intro.quantecon.org/laffer_adaptive.html)[](https://intro.quantecon.org/lake_model.html)[](https://intro.quantecon.org/linear_equations.html)[](https://intro.quantecon.org/lln_clt.html)[](https://intro.quantecon.org/long_run_growth.html)[](https://intro.quantecon.org/lp_intro.html)[](https://intro.quantecon.org/markov_chains_I.html)[](https://intro.quantecon.org/markov_chains_II.html)[](https://intro.quantecon.org/mle.html)[](https://intro.quantecon.org/money_inflation.html)[](https://intro.quantecon.org/money_inflation_nonlinear.html)[](https://intro.quantecon.org/monte_carlo.html)[](https://intro.quantecon.org/networks.html)[](https://intro.quantecon.org/olg.html)[](https://intro.quantecon.org/prob_dist.html)[](https://intro.quantecon.org/pv.html)[](https://intro.quantecon.org/scalar_dynam.html)[](https://intro.quantecon.org/schelling.html)[](https://intro.quantecon.org/short_path.html)[](https://intro.quantecon.org/simple_linear_regression.html)[](https://intro.quantecon.org/solow.html)[](https://intro.quantecon.org/.html)[](https://intro.quantecon.org/supply_demand_heterogeneity.html)[](https://intro.quantecon.org/supply_demand_multiple_goods.html)[](https://intro.quantecon.org/time_series_with_matrices.html)[](https://intro.quantecon.org/troubleshooting.html)[](https://intro.quantecon.org/unpleasant.html)[](https://intro.quantecon.org/zreferences.html)|Document|Modified|Method|Run Time (s)|Status|\n",
    "|:------------------:|:------------------:|:------------------:|:------------------:|:------------------:|\n",
    "|ar1_processes|2024-11-04 02:47|cache|5.73|✅|\n",
    "|business_cycle|2024-11-04 02:47|cache|13.28|✅|\n",
    "|cagan_adaptive|2024-11-04 02:47|cache|2.62|✅|\n",
    "|cagan_ree|2024-11-04 02:47|cache|3.6|✅|\n",
    "|cobweb|2024-11-04 02:47|cache|2.86|✅|\n",
    "|commod_price|2024-11-04 02:48|cache|19.87|✅|\n",
    "|complex_and_trig|2024-11-04 02:48|cache|2.26|✅|\n",
    "|cons_smooth|2024-11-04 02:48|cache|3.13|✅|\n",
    "|eigen_I|2024-11-04 02:48|cache|4.79|✅|\n",
    "|eigen_II|2024-11-04 02:48|cache|7.41|✅|\n",
    "|equalizing_difference|2024-11-04 02:48|cache|2.43|✅|\n",
    "|french_rev|2024-11-04 02:48|cache|7.93|✅|\n",
    "|geom_series|2024-11-04 02:48|cache|2.89|✅|\n",
    "|greek_square|2024-11-04 02:48|cache|2.63|✅|\n",
    "|heavy_tails|2024-11-04 02:49|cache|16.77|✅|\n",
    "|inequality|2024-11-04 02:49|cache|37.85|✅|\n",
    "|inflation_history|2024-11-04 02:49|cache|9.05|✅|\n",
    "|input_output|2024-11-04 02:50|cache|12.95|✅|\n",
    "|intro|2024-11-04 02:50|cache|1.02|✅|\n",
    "|intro_supply_demand|2024-11-04 02:50|cache|2.53|✅|\n",
    "|laffer_adaptive|2024-11-04 02:50|cache|2.24|✅|\n",
    "|lake_model|2024-11-04 02:50|cache|2.65|✅|\n",
    "|linear_equations|2024-11-04 02:50|cache|2.13|✅|\n",
    "|lln_clt|2024-11-04 02:52|cache|151.86|✅|\n",
    "|long_run_growth|2024-11-04 02:52|cache|8.24|✅|\n",
    "|lp_intro|2024-11-04 02:53|cache|7.99|✅|\n",
    "|markov_chains_I|2024-11-04 02:53|cache|16.25|✅|\n",
    "|markov_chains_II|2024-11-04 02:53|cache|6.57|✅|\n",
    "|mle|2024-11-04 02:53|cache|7.73|✅|\n",
    "|money_inflation|2024-11-04 02:53|cache|2.8|✅|\n",
    "|money_inflation_nonlinear|2024-11-04 02:53|cache|2.28|✅|\n",
    "|monte_carlo|2024-11-04 02:56|cache|200.62|✅|\n",
    "|networks|2024-11-04 02:57|cache|9.29|✅|\n",
    "|olg|2024-11-04 02:57|cache|2.43|✅|\n",
    "|prob_dist|2024-11-04 02:57|cache|8.85|✅|\n",
    "|pv|2024-11-04 02:57|cache|1.63|✅|\n",
    "|scalar_dynam|2024-11-04 02:57|cache|3.03|✅|\n",
    "|schelling|2024-11-04 02:57|cache|12.44|✅|\n",
    "|short_path|2024-11-04 02:57|cache|1.13|✅|\n",
    "|simple_linear_regression|2024-11-04 02:57|cache|4.2|✅|\n",
    "|solow|2024-11-04 02:57|cache|3.63|✅|\n",
    "|status|2024-11-04 02:57|cache|3.93|✅|\n",
    "|supply_demand_heterogeneity|2024-11-04 02:57|cache|1.02|✅|\n",
    "|supply_demand_multiple_goods|2024-11-04 02:57|cache|1.94|✅|\n",
    "|time_series_with_matrices|2024-11-04 02:57|cache|2.65|✅|\n",
    "|troubleshooting|2024-11-04 02:50|cache|1.02|✅|\n",
    "|unpleasant|2024-11-04 02:57|cache|1.9|✅|\n",
    "|zreferences|2024-11-04 02:50|cache|1.02|✅|\n",
    "\n",
    "<a id='status-machine-details'></a>\n",
    "These lectures are built on `linux` instances through `github actions`.\n",
    "\n",
    "These lectures are using the following python version"
   ]
  },
  {
   "cell_type": "code",
   "execution_count": null,
   "id": "ebc22f3d",
   "metadata": {
    "hide-output": false
   },
   "outputs": [],
   "source": [
    "!python --version"
   ]
  },
  {
   "cell_type": "markdown",
   "id": "37af76ba",
   "metadata": {},
   "source": [
    "and the following package versions"
   ]
  },
  {
   "cell_type": "code",
   "execution_count": null,
   "id": "41093ff3",
   "metadata": {
    "hide-output": false
   },
   "outputs": [],
   "source": [
    "!conda list"
   ]
  }
 ],
 "metadata": {
  "date": 1730689204.6974525,
  "filename": "status.md",
  "kernelspec": {
   "display_name": "Python",
   "language": "python3",
   "name": "python3"
  },
  "title": "Execution Statistics"
 },
 "nbformat": 4,
 "nbformat_minor": 5
}