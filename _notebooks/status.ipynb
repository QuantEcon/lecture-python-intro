{
 "cells": [
  {
   "cell_type": "markdown",
   "id": "968bfdfe",
   "metadata": {},
   "source": [
    "# Execution Statistics\n",
    "\n",
    "This table contains the latest execution statistics.\n",
    "\n",
    "[](https://intro.quantecon.org/ar1_processes.html)[](https://intro.quantecon.org/business_cycle.html)[](https://intro.quantecon.org/cagan_adaptive.html)[](https://intro.quantecon.org/cagan_ree.html)[](https://intro.quantecon.org/cobweb.html)[](https://intro.quantecon.org/commod_price.html)[](https://intro.quantecon.org/complex_and_trig.html)[](https://intro.quantecon.org/cons_smooth.html)[](https://intro.quantecon.org/eigen_I.html)[](https://intro.quantecon.org/eigen_II.html)[](https://intro.quantecon.org/equalizing_difference.html)[](https://intro.quantecon.org/french_rev.html)[](https://intro.quantecon.org/geom_series.html)[](https://intro.quantecon.org/greek_square.html)[](https://intro.quantecon.org/heavy_tails.html)[](https://intro.quantecon.org/inequality.html)[](https://intro.quantecon.org/inflation_history.html)[](https://intro.quantecon.org/input_output.html)[](https://intro.quantecon.org/intro.html)[](https://intro.quantecon.org/intro_supply_demand.html)[](https://intro.quantecon.org/laffer_adaptive.html)[](https://intro.quantecon.org/lake_model.html)[](https://intro.quantecon.org/linear_equations.html)[](https://intro.quantecon.org/lln_clt.html)[](https://intro.quantecon.org/long_run_growth.html)[](https://intro.quantecon.org/lp_intro.html)[](https://intro.quantecon.org/markov_chains_I.html)[](https://intro.quantecon.org/markov_chains_II.html)[](https://intro.quantecon.org/mle.html)[](https://intro.quantecon.org/money_inflation.html)[](https://intro.quantecon.org/money_inflation_nonlinear.html)[](https://intro.quantecon.org/monte_carlo.html)[](https://intro.quantecon.org/networks.html)[](https://intro.quantecon.org/olg.html)[](https://intro.quantecon.org/prob_dist.html)[](https://intro.quantecon.org/pv.html)[](https://intro.quantecon.org/scalar_dynam.html)[](https://intro.quantecon.org/schelling.html)[](https://intro.quantecon.org/short_path.html)[](https://intro.quantecon.org/simple_linear_regression.html)[](https://intro.quantecon.org/solow.html)[](https://intro.quantecon.org/.html)[](https://intro.quantecon.org/supply_demand_heterogeneity.html)[](https://intro.quantecon.org/supply_demand_multiple_goods.html)[](https://intro.quantecon.org/tax_smooth.html)[](https://intro.quantecon.org/time_series_with_matrices.html)[](https://intro.quantecon.org/troubleshooting.html)[](https://intro.quantecon.org/unpleasant.html)[](https://intro.quantecon.org/zreferences.html)|Document|Modified|Method|Run Time (s)|Status|\n",
    "|:------------------:|:------------------:|:------------------:|:------------------:|:------------------:|\n",
    "|ar1_processes|2025-10-27 03:36|cache|6.78|✅|\n",
    "|business_cycle|2025-10-27 03:37|cache|13.5|✅|\n",
    "|cagan_adaptive|2025-10-27 03:37|cache|2.5|✅|\n",
    "|cagan_ree|2025-10-27 03:37|cache|3.61|✅|\n",
    "|cobweb|2025-10-27 03:37|cache|2.66|✅|\n",
    "|commod_price|2025-10-27 03:37|cache|19.5|✅|\n",
    "|complex_and_trig|2025-10-27 03:37|cache|2.5|✅|\n",
    "|cons_smooth|2025-10-27 03:37|cache|3.59|✅|\n",
    "|eigen_I|2025-10-27 03:37|cache|4.9|✅|\n",
    "|eigen_II|2025-10-27 03:37|cache|5.81|✅|\n",
    "|equalizing_difference|2025-10-27 03:37|cache|2.26|✅|\n",
    "|french_rev|2025-10-27 03:38|cache|7.72|✅|\n",
    "|geom_series|2025-10-27 03:38|cache|3.18|✅|\n",
    "|greek_square|2025-10-27 03:38|cache|2.6|✅|\n",
    "|heavy_tails|2025-10-27 03:38|cache|16.5|✅|\n",
    "|inequality|2025-10-27 03:39|cache|39.5|✅|\n",
    "|inflation_history|2025-10-27 03:39|cache|6.91|✅|\n",
    "|input_output|2025-10-27 03:39|cache|8.84|✅|\n",
    "|intro|2025-10-27 03:39|cache|0.91|✅|\n",
    "|intro_supply_demand|2025-10-27 03:39|cache|2.52|✅|\n",
    "|laffer_adaptive|2025-10-27 03:39|cache|2.49|✅|\n",
    "|lake_model|2025-10-27 03:39|cache|2.7|✅|\n",
    "|linear_equations|2025-10-27 03:39|cache|1.84|✅|\n",
    "|lln_clt|2025-10-27 03:42|cache|151.19|✅|\n",
    "|long_run_growth|2025-10-27 03:42|cache|7.62|✅|\n",
    "|lp_intro|2025-10-27 03:42|cache|4.33|✅|\n",
    "|markov_chains_I|2025-10-27 03:42|cache|15.56|✅|\n",
    "|markov_chains_II|2025-10-27 03:42|cache|4.87|✅|\n",
    "|mle|2025-10-27 03:42|cache|6.93|✅|\n",
    "|money_inflation|2025-10-27 03:42|cache|2.65|✅|\n",
    "|money_inflation_nonlinear|2025-10-27 03:42|cache|2.19|✅|\n",
    "|monte_carlo|2025-10-27 03:46|cache|214.89|✅|\n",
    "|networks|2025-10-27 03:46|cache|7.09|✅|\n",
    "|olg|2025-10-27 03:46|cache|2.59|✅|\n",
    "|prob_dist|2025-10-27 03:46|cache|6.56|✅|\n",
    "|pv|2025-10-27 03:46|cache|1.47|✅|\n",
    "|scalar_dynam|2025-10-27 03:46|cache|2.8|✅|\n",
    "|schelling|2025-10-27 03:46|cache|10.43|✅|\n",
    "|short_path|2025-10-27 03:46|cache|1.01|✅|\n",
    "|simple_linear_regression|2025-10-27 03:46|cache|3.85|✅|\n",
    "|solow|2025-10-27 03:47|cache|3.67|✅|\n",
    "|status|2025-10-27 03:47|cache|4.3|✅|\n",
    "|supply_demand_heterogeneity|2025-10-27 03:47|cache|1.11|✅|\n",
    "|supply_demand_multiple_goods|2025-10-27 03:47|cache|1.84|✅|\n",
    "|tax_smooth|2025-10-27 03:47|cache|3.42|✅|\n",
    "|time_series_with_matrices|2025-10-27 03:47|cache|2.47|✅|\n",
    "|troubleshooting|2025-10-27 03:39|cache|0.91|✅|\n",
    "|unpleasant|2025-10-27 03:47|cache|1.79|✅|\n",
    "|zreferences|2025-10-27 03:39|cache|0.91|✅|\n",
    "\n",
    "<a id='status-machine-details'></a>\n",
    "These lectures are built on `linux` instances through `github actions`.\n",
    "\n",
    "These lectures are using the following python version"
   ]
  },
  {
   "cell_type": "code",
   "execution_count": null,
   "id": "3421a513",
   "metadata": {
    "hide-output": false
   },
   "outputs": [],
   "source": [
    "!python --version"
   ]
  },
  {
   "cell_type": "markdown",
   "id": "421ad084",
   "metadata": {},
   "source": [
    "and the following package versions"
   ]
  },
  {
   "cell_type": "code",
   "execution_count": null,
   "id": "6e6900e9",
   "metadata": {
    "hide-output": false
   },
   "outputs": [],
   "source": [
    "!conda list"
   ]
  }
 ],
 "metadata": {
  "date": 1761795482.910614,
  "filename": "status.md",
  "kernelspec": {
   "display_name": "Python",
   "language": "python3",
   "name": "python3"
  },
  "title": "Execution Statistics"
 },
 "nbformat": 4,
 "nbformat_minor": 5
}