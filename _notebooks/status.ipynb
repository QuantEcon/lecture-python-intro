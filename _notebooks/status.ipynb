{
 "cells": [
  {
   "cell_type": "markdown",
   "id": "cda6191f",
   "metadata": {},
   "source": [
    "# Execution Statistics\n",
    "\n",
    "This table contains the latest execution statistics.\n",
    "\n",
    "[](https://intro.quantecon.org/ar1_processes.html)[](https://intro.quantecon.org/business_cycle.html)[](https://intro.quantecon.org/cagan_adaptive.html)[](https://intro.quantecon.org/cagan_ree.html)[](https://intro.quantecon.org/cobweb.html)[](https://intro.quantecon.org/commod_price.html)[](https://intro.quantecon.org/complex_and_trig.html)[](https://intro.quantecon.org/cons_smooth.html)[](https://intro.quantecon.org/eigen_I.html)[](https://intro.quantecon.org/eigen_II.html)[](https://intro.quantecon.org/equalizing_difference.html)[](https://intro.quantecon.org/french_rev.html)[](https://intro.quantecon.org/geom_series.html)[](https://intro.quantecon.org/greek_square.html)[](https://intro.quantecon.org/heavy_tails.html)[](https://intro.quantecon.org/inequality.html)[](https://intro.quantecon.org/inflation_history.html)[](https://intro.quantecon.org/input_output.html)[](https://intro.quantecon.org/intro.html)[](https://intro.quantecon.org/intro_supply_demand.html)[](https://intro.quantecon.org/laffer_adaptive.html)[](https://intro.quantecon.org/lake_model.html)[](https://intro.quantecon.org/linear_equations.html)[](https://intro.quantecon.org/lln_clt.html)[](https://intro.quantecon.org/long_run_growth.html)[](https://intro.quantecon.org/lp_intro.html)[](https://intro.quantecon.org/markov_chains_I.html)[](https://intro.quantecon.org/markov_chains_II.html)[](https://intro.quantecon.org/mle.html)[](https://intro.quantecon.org/money_inflation.html)[](https://intro.quantecon.org/money_inflation_nonlinear.html)[](https://intro.quantecon.org/monte_carlo.html)[](https://intro.quantecon.org/networks.html)[](https://intro.quantecon.org/olg.html)[](https://intro.quantecon.org/prob_dist.html)[](https://intro.quantecon.org/pv.html)[](https://intro.quantecon.org/scalar_dynam.html)[](https://intro.quantecon.org/schelling.html)[](https://intro.quantecon.org/short_path.html)[](https://intro.quantecon.org/simple_linear_regression.html)[](https://intro.quantecon.org/solow.html)[](https://intro.quantecon.org/.html)[](https://intro.quantecon.org/supply_demand_heterogeneity.html)[](https://intro.quantecon.org/supply_demand_multiple_goods.html)[](https://intro.quantecon.org/tax_smooth.html)[](https://intro.quantecon.org/time_series_with_matrices.html)[](https://intro.quantecon.org/troubleshooting.html)[](https://intro.quantecon.org/unpleasant.html)[](https://intro.quantecon.org/zreferences.html)|Document|Modified|Method|Run Time (s)|Status|\n",
    "|:------------------:|:------------------:|:------------------:|:------------------:|:------------------:|\n",
    "|ar1_processes|2025-03-20 22:55|cache|5.76|✅|\n",
    "|business_cycle|2025-03-20 22:55|cache|10.11|✅|\n",
    "|cagan_adaptive|2025-03-20 22:55|cache|2.59|✅|\n",
    "|cagan_ree|2025-03-20 22:55|cache|3.58|✅|\n",
    "|cobweb|2025-03-20 22:55|cache|2.72|✅|\n",
    "|commod_price|2025-03-20 22:56|cache|16.1|✅|\n",
    "|complex_and_trig|2025-03-20 22:56|cache|2.5|✅|\n",
    "|cons_smooth|2025-03-20 22:56|cache|3.64|✅|\n",
    "|eigen_I|2025-03-20 22:56|cache|4.72|✅|\n",
    "|eigen_II|2025-03-20 22:56|cache|5.88|✅|\n",
    "|equalizing_difference|2025-03-20 22:56|cache|2.22|✅|\n",
    "|french_rev|2025-03-20 22:56|cache|6.81|✅|\n",
    "|geom_series|2025-03-20 22:56|cache|2.97|✅|\n",
    "|greek_square|2025-03-20 22:56|cache|2.58|✅|\n",
    "|heavy_tails|2025-03-20 22:57|cache|15.21|✅|\n",
    "|inequality|2025-03-20 22:57|cache|45.03|✅|\n",
    "|inflation_history|2025-03-20 22:57|cache|6.8|✅|\n",
    "|input_output|2025-03-20 22:58|cache|8.27|✅|\n",
    "|intro|2025-03-20 22:58|cache|0.9|✅|\n",
    "|intro_supply_demand|2025-03-20 22:58|cache|2.65|✅|\n",
    "|laffer_adaptive|2025-03-20 22:58|cache|2.57|✅|\n",
    "|lake_model|2025-03-20 22:58|cache|2.59|✅|\n",
    "|linear_equations|2025-03-20 22:58|cache|2.05|✅|\n",
    "|lln_clt|2025-03-20 23:00|cache|151.19|✅|\n",
    "|long_run_growth|2025-03-20 23:00|cache|8.1|✅|\n",
    "|lp_intro|2025-03-20 23:01|cache|4.94|✅|\n",
    "|markov_chains_I|2025-03-20 23:01|cache|15.36|✅|\n",
    "|markov_chains_II|2025-03-20 23:01|cache|4.81|✅|\n",
    "|mle|2025-03-20 23:01|cache|6.9|✅|\n",
    "|money_inflation|2025-03-20 23:01|cache|2.78|✅|\n",
    "|money_inflation_nonlinear|2025-03-20 23:01|cache|2.11|✅|\n",
    "|monte_carlo|2025-03-20 23:05|cache|207.11|✅|\n",
    "|networks|2025-03-20 23:05|cache|7.68|✅|\n",
    "|olg|2025-03-20 23:05|cache|2.59|✅|\n",
    "|prob_dist|2025-03-20 23:05|cache|6.68|✅|\n",
    "|pv|2025-03-20 23:05|cache|1.59|✅|\n",
    "|scalar_dynam|2025-03-20 23:05|cache|3.11|✅|\n",
    "|schelling|2025-03-20 23:05|cache|12.52|✅|\n",
    "|short_path|2025-03-20 23:05|cache|1.11|✅|\n",
    "|simple_linear_regression|2025-03-20 23:05|cache|4.23|✅|\n",
    "|solow|2025-03-20 23:05|cache|3.91|✅|\n",
    "|status|2025-03-20 23:05|cache|4.45|✅|\n",
    "|supply_demand_heterogeneity|2025-03-20 23:05|cache|1.08|✅|\n",
    "|supply_demand_multiple_goods|2025-03-20 23:05|cache|1.98|✅|\n",
    "|tax_smooth|2025-03-20 23:05|cache|3.65|✅|\n",
    "|time_series_with_matrices|2025-03-20 23:06|cache|2.64|✅|\n",
    "|troubleshooting|2025-03-20 22:58|cache|0.9|✅|\n",
    "|unpleasant|2025-03-20 23:06|cache|1.73|✅|\n",
    "|zreferences|2025-03-20 22:58|cache|0.9|✅|\n",
    "\n",
    "<a id='status-machine-details'></a>\n",
    "These lectures are built on `linux` instances through `github actions`.\n",
    "\n",
    "These lectures are using the following python version"
   ]
  },
  {
   "cell_type": "code",
   "execution_count": null,
   "id": "436a6015",
   "metadata": {
    "hide-output": false
   },
   "outputs": [],
   "source": [
    "!python --version"
   ]
  },
  {
   "cell_type": "markdown",
   "id": "eb760627",
   "metadata": {},
   "source": [
    "and the following package versions"
   ]
  },
  {
   "cell_type": "code",
   "execution_count": null,
   "id": "3f42dfbe",
   "metadata": {
    "hide-output": false
   },
   "outputs": [],
   "source": [
    "!conda list"
   ]
  }
 ],
 "metadata": {
  "date": 1742769853.0252638,
  "filename": "status.md",
  "kernelspec": {
   "display_name": "Python",
   "language": "python3",
   "name": "python3"
  },
  "title": "Execution Statistics"
 },
 "nbformat": 4,
 "nbformat_minor": 5
}