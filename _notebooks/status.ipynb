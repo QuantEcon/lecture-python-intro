{
 "cells": [
  {
   "cell_type": "markdown",
   "id": "ea68e689",
   "metadata": {},
   "source": [
    "# Execution Statistics\n",
    "\n",
    "This table contains the latest execution statistics.\n",
    "\n",
    "[](https://intro.quantecon.org/ar1_processes.html)[](https://intro.quantecon.org/business_cycle.html)[](https://intro.quantecon.org/cagan_adaptive.html)[](https://intro.quantecon.org/cagan_ree.html)[](https://intro.quantecon.org/cobweb.html)[](https://intro.quantecon.org/commod_price.html)[](https://intro.quantecon.org/complex_and_trig.html)[](https://intro.quantecon.org/cons_smooth.html)[](https://intro.quantecon.org/eigen_I.html)[](https://intro.quantecon.org/eigen_II.html)[](https://intro.quantecon.org/equalizing_difference.html)[](https://intro.quantecon.org/french_rev.html)[](https://intro.quantecon.org/geom_series.html)[](https://intro.quantecon.org/greek_square.html)[](https://intro.quantecon.org/heavy_tails.html)[](https://intro.quantecon.org/inequality.html)[](https://intro.quantecon.org/inflation_history.html)[](https://intro.quantecon.org/input_output.html)[](https://intro.quantecon.org/intro.html)[](https://intro.quantecon.org/intro_supply_demand.html)[](https://intro.quantecon.org/laffer_adaptive.html)[](https://intro.quantecon.org/lake_model.html)[](https://intro.quantecon.org/linear_equations.html)[](https://intro.quantecon.org/lln_clt.html)[](https://intro.quantecon.org/long_run_growth.html)[](https://intro.quantecon.org/lp_intro.html)[](https://intro.quantecon.org/markov_chains_I.html)[](https://intro.quantecon.org/markov_chains_II.html)[](https://intro.quantecon.org/mle.html)[](https://intro.quantecon.org/money_inflation.html)[](https://intro.quantecon.org/money_inflation_nonlinear.html)[](https://intro.quantecon.org/monte_carlo.html)[](https://intro.quantecon.org/networks.html)[](https://intro.quantecon.org/olg.html)[](https://intro.quantecon.org/prob_dist.html)[](https://intro.quantecon.org/pv.html)[](https://intro.quantecon.org/scalar_dynam.html)[](https://intro.quantecon.org/schelling.html)[](https://intro.quantecon.org/short_path.html)[](https://intro.quantecon.org/simple_linear_regression.html)[](https://intro.quantecon.org/solow.html)[](https://intro.quantecon.org/.html)[](https://intro.quantecon.org/supply_demand_heterogeneity.html)[](https://intro.quantecon.org/supply_demand_multiple_goods.html)[](https://intro.quantecon.org/tax_smooth.html)[](https://intro.quantecon.org/time_series_with_matrices.html)[](https://intro.quantecon.org/troubleshooting.html)[](https://intro.quantecon.org/unpleasant.html)[](https://intro.quantecon.org/zreferences.html)|Document|Modified|Method|Run Time (s)|Status|\n",
    "|:------------------:|:------------------:|:------------------:|:------------------:|:------------------:|\n",
    "|ar1_processes|2025-08-01 04:36|cache|6.01|✅|\n",
    "|business_cycle|2025-08-01 04:36|cache|13.94|✅|\n",
    "|cagan_adaptive|2025-08-01 04:36|cache|2.5|✅|\n",
    "|cagan_ree|2025-08-01 04:36|cache|3.59|✅|\n",
    "|cobweb|2025-08-01 04:36|cache|2.65|✅|\n",
    "|commod_price|2025-08-01 04:37|cache|16.42|✅|\n",
    "|complex_and_trig|2025-08-01 04:37|cache|2.31|✅|\n",
    "|cons_smooth|2025-08-01 04:37|cache|3.79|✅|\n",
    "|eigen_I|2025-08-01 04:37|cache|4.93|✅|\n",
    "|eigen_II|2025-08-01 04:37|cache|5.67|✅|\n",
    "|equalizing_difference|2025-08-01 04:37|cache|2.45|✅|\n",
    "|french_rev|2025-08-01 04:37|cache|7.84|✅|\n",
    "|geom_series|2025-08-01 04:37|cache|3.13|✅|\n",
    "|greek_square|2025-08-01 04:37|cache|2.79|✅|\n",
    "|heavy_tails|2025-08-01 04:37|cache|16.8|✅|\n",
    "|inequality|2025-08-01 04:38|cache|39.97|✅|\n",
    "|inflation_history|2025-08-01 04:38|cache|7.17|✅|\n",
    "|input_output|2025-08-01 04:38|cache|8.68|✅|\n",
    "|intro|2025-08-01 04:38|cache|0.91|✅|\n",
    "|intro_supply_demand|2025-08-01 04:38|cache|2.69|✅|\n",
    "|laffer_adaptive|2025-08-01 04:39|cache|2.46|✅|\n",
    "|lake_model|2025-08-01 04:39|cache|2.64|✅|\n",
    "|linear_equations|2025-08-01 04:39|cache|1.82|✅|\n",
    "|lln_clt|2025-08-01 04:41|cache|151.69|✅|\n",
    "|long_run_growth|2025-08-01 04:41|cache|7.98|✅|\n",
    "|lp_intro|2025-08-01 04:41|cache|5.38|✅|\n",
    "|markov_chains_I|2025-08-01 04:42|cache|15.77|✅|\n",
    "|markov_chains_II|2025-08-01 04:42|cache|5.17|✅|\n",
    "|mle|2025-08-01 04:42|cache|7.21|✅|\n",
    "|money_inflation|2025-08-01 04:42|cache|2.99|✅|\n",
    "|money_inflation_nonlinear|2025-08-01 04:42|cache|2.37|✅|\n",
    "|monte_carlo|2025-08-01 04:46|cache|216.75|✅|\n",
    "|networks|2025-08-01 04:46|cache|7.39|✅|\n",
    "|olg|2025-08-01 04:46|cache|2.55|✅|\n",
    "|prob_dist|2025-08-01 04:46|cache|6.69|✅|\n",
    "|pv|2025-08-01 04:46|cache|1.72|✅|\n",
    "|scalar_dynam|2025-08-01 04:46|cache|3.08|✅|\n",
    "|schelling|2025-08-01 04:46|cache|10.4|✅|\n",
    "|short_path|2025-08-01 04:46|cache|1.13|✅|\n",
    "|simple_linear_regression|2025-08-01 04:46|cache|4.53|✅|\n",
    "|solow|2025-08-01 04:46|cache|3.93|✅|\n",
    "|status|2025-08-01 04:46|cache|4.3|✅|\n",
    "|supply_demand_heterogeneity|2025-08-01 04:46|cache|1.11|✅|\n",
    "|supply_demand_multiple_goods|2025-08-01 04:46|cache|2.06|✅|\n",
    "|tax_smooth|2025-08-01 04:46|cache|3.44|✅|\n",
    "|time_series_with_matrices|2025-08-01 04:47|cache|2.86|✅|\n",
    "|troubleshooting|2025-08-01 04:38|cache|0.91|✅|\n",
    "|unpleasant|2025-08-01 04:47|cache|1.76|✅|\n",
    "|zreferences|2025-08-01 04:38|cache|0.91|✅|\n",
    "\n",
    "<a id='status-machine-details'></a>\n",
    "These lectures are built on `linux` instances through `github actions`.\n",
    "\n",
    "These lectures are using the following python version"
   ]
  },
  {
   "cell_type": "code",
   "execution_count": null,
   "id": "ffbb4d5f",
   "metadata": {
    "hide-output": false
   },
   "outputs": [],
   "source": [
    "!python --version"
   ]
  },
  {
   "cell_type": "markdown",
   "id": "5509bd0c",
   "metadata": {},
   "source": [
    "and the following package versions"
   ]
  },
  {
   "cell_type": "code",
   "execution_count": null,
   "id": "b2e53d93",
   "metadata": {
    "hide-output": false
   },
   "outputs": [],
   "source": [
    "!conda list"
   ]
  }
 ],
 "metadata": {
  "date": 1754024221.8739586,
  "filename": "status.md",
  "kernelspec": {
   "display_name": "Python",
   "language": "python3",
   "name": "python3"
  },
  "title": "Execution Statistics"
 },
 "nbformat": 4,
 "nbformat_minor": 5
}