{
 "cells": [
  {
   "cell_type": "markdown",
   "id": "e6823766",
   "metadata": {},
   "source": [
    "# Execution Statistics\n",
    "\n",
    "This table contains the latest execution statistics.\n",
    "\n",
    "[](https://intro.quantecon.org/ar1_processes.html)[](https://intro.quantecon.org/business_cycle.html)[](https://intro.quantecon.org/cagan_adaptive.html)[](https://intro.quantecon.org/cagan_ree.html)[](https://intro.quantecon.org/cobweb.html)[](https://intro.quantecon.org/commod_price.html)[](https://intro.quantecon.org/complex_and_trig.html)[](https://intro.quantecon.org/cons_smooth.html)[](https://intro.quantecon.org/eigen_I.html)[](https://intro.quantecon.org/eigen_II.html)[](https://intro.quantecon.org/equalizing_difference.html)[](https://intro.quantecon.org/french_rev.html)[](https://intro.quantecon.org/geom_series.html)[](https://intro.quantecon.org/greek_square.html)[](https://intro.quantecon.org/heavy_tails.html)[](https://intro.quantecon.org/inequality.html)[](https://intro.quantecon.org/inflation_history.html)[](https://intro.quantecon.org/input_output.html)[](https://intro.quantecon.org/intro.html)[](https://intro.quantecon.org/intro_supply_demand.html)[](https://intro.quantecon.org/laffer_adaptive.html)[](https://intro.quantecon.org/lake_model.html)[](https://intro.quantecon.org/linear_equations.html)[](https://intro.quantecon.org/lln_clt.html)[](https://intro.quantecon.org/long_run_growth.html)[](https://intro.quantecon.org/lp_intro.html)[](https://intro.quantecon.org/markov_chains_I.html)[](https://intro.quantecon.org/markov_chains_II.html)[](https://intro.quantecon.org/mle.html)[](https://intro.quantecon.org/money_inflation.html)[](https://intro.quantecon.org/money_inflation_nonlinear.html)[](https://intro.quantecon.org/monte_carlo.html)[](https://intro.quantecon.org/networks.html)[](https://intro.quantecon.org/olg.html)[](https://intro.quantecon.org/prob_dist.html)[](https://intro.quantecon.org/pv.html)[](https://intro.quantecon.org/scalar_dynam.html)[](https://intro.quantecon.org/schelling.html)[](https://intro.quantecon.org/short_path.html)[](https://intro.quantecon.org/simple_linear_regression.html)[](https://intro.quantecon.org/solow.html)[](https://intro.quantecon.org/.html)[](https://intro.quantecon.org/supply_demand_heterogeneity.html)[](https://intro.quantecon.org/supply_demand_multiple_goods.html)[](https://intro.quantecon.org/time_series_with_matrices.html)[](https://intro.quantecon.org/troubleshooting.html)[](https://intro.quantecon.org/unpleasant.html)[](https://intro.quantecon.org/zreferences.html)|Document|Modified|Method|Run Time (s)|Status|\n",
    "|:------------------:|:------------------:|:------------------:|:------------------:|:------------------:|\n",
    "|ar1_processes|2024-12-03 23:10|cache|5.61|✅|\n",
    "|business_cycle|2024-12-03 23:10|cache|9.73|✅|\n",
    "|cagan_adaptive|2024-12-03 23:10|cache|2.55|✅|\n",
    "|cagan_ree|2024-12-03 23:11|cache|3.38|✅|\n",
    "|cobweb|2024-12-03 23:11|cache|2.83|✅|\n",
    "|commod_price|2024-12-03 23:11|cache|14.39|✅|\n",
    "|complex_and_trig|2024-12-03 23:11|cache|2.2|✅|\n",
    "|cons_smooth|2024-12-03 23:11|cache|3.02|✅|\n",
    "|eigen_I|2024-12-03 23:11|cache|4.53|✅|\n",
    "|eigen_II|2024-12-03 23:11|cache|5.62|✅|\n",
    "|equalizing_difference|2024-12-03 23:11|cache|2.36|✅|\n",
    "|french_rev|2024-12-03 23:11|cache|6.59|✅|\n",
    "|geom_series|2024-12-03 23:11|cache|3.09|✅|\n",
    "|greek_square|2024-12-03 23:11|cache|2.46|✅|\n",
    "|heavy_tails|2024-12-03 23:12|cache|13.96|✅|\n",
    "|inequality|2024-12-03 23:12|cache|46.01|✅|\n",
    "|inflation_history|2024-12-03 23:12|cache|6.58|✅|\n",
    "|input_output|2024-12-03 23:13|cache|8.11|✅|\n",
    "|intro|2024-12-03 23:13|cache|0.97|✅|\n",
    "|intro_supply_demand|2024-12-03 23:13|cache|2.64|✅|\n",
    "|laffer_adaptive|2024-12-03 23:13|cache|2.27|✅|\n",
    "|lake_model|2024-12-03 23:13|cache|2.58|✅|\n",
    "|linear_equations|2024-12-03 23:13|cache|1.91|✅|\n",
    "|lln_clt|2024-12-03 23:15|cache|152.28|✅|\n",
    "|long_run_growth|2024-12-03 23:15|cache|7.68|✅|\n",
    "|lp_intro|2024-12-03 23:16|cache|4.65|✅|\n",
    "|markov_chains_I|2024-12-03 23:16|cache|14.35|✅|\n",
    "|markov_chains_II|2024-12-03 23:16|cache|4.8|✅|\n",
    "|mle|2024-12-03 23:16|cache|6.83|✅|\n",
    "|money_inflation|2024-12-03 23:16|cache|2.82|✅|\n",
    "|money_inflation_nonlinear|2024-12-03 23:16|cache|2.26|✅|\n",
    "|monte_carlo|2024-12-03 23:19|cache|200.51|✅|\n",
    "|networks|2024-12-03 23:20|cache|7.28|✅|\n",
    "|olg|2024-12-03 23:20|cache|2.52|✅|\n",
    "|prob_dist|2024-12-03 23:20|cache|6.41|✅|\n",
    "|pv|2024-12-03 23:20|cache|1.77|✅|\n",
    "|scalar_dynam|2024-12-03 23:20|cache|3.0|✅|\n",
    "|schelling|2024-12-03 23:20|cache|12.33|✅|\n",
    "|short_path|2024-12-03 23:20|cache|0.92|✅|\n",
    "|simple_linear_regression|2024-12-03 23:20|cache|4.18|✅|\n",
    "|solow|2024-12-03 23:20|cache|3.64|✅|\n",
    "|status|2024-12-03 23:20|cache|4.18|✅|\n",
    "|supply_demand_heterogeneity|2024-12-03 23:20|cache|0.98|✅|\n",
    "|supply_demand_multiple_goods|2024-12-03 23:20|cache|1.86|✅|\n",
    "|time_series_with_matrices|2024-12-03 23:20|cache|2.55|✅|\n",
    "|troubleshooting|2024-12-03 23:13|cache|0.97|✅|\n",
    "|unpleasant|2024-12-03 23:20|cache|1.71|✅|\n",
    "|zreferences|2024-12-03 23:13|cache|0.97|✅|\n",
    "\n",
    "<a id='status-machine-details'></a>\n",
    "These lectures are built on `linux` instances through `github actions`.\n",
    "\n",
    "These lectures are using the following python version"
   ]
  },
  {
   "cell_type": "code",
   "execution_count": null,
   "id": "8b22a9f0",
   "metadata": {
    "hide-output": false
   },
   "outputs": [],
   "source": [
    "!python --version"
   ]
  },
  {
   "cell_type": "markdown",
   "id": "1daa90e7",
   "metadata": {},
   "source": [
    "and the following package versions"
   ]
  },
  {
   "cell_type": "code",
   "execution_count": null,
   "id": "faab215d",
   "metadata": {
    "hide-output": false
   },
   "outputs": [],
   "source": [
    "!conda list"
   ]
  }
 ],
 "metadata": {
  "date": 1733269018.548324,
  "filename": "status.md",
  "kernelspec": {
   "display_name": "Python",
   "language": "python3",
   "name": "python3"
  },
  "title": "Execution Statistics"
 },
 "nbformat": 4,
 "nbformat_minor": 5
}