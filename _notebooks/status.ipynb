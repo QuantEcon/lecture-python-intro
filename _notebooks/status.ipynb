{
 "cells": [
  {
   "cell_type": "markdown",
   "id": "7d0da3cc",
   "metadata": {},
   "source": [
    "# Execution Statistics\n",
    "\n",
    "This table contains the latest execution statistics.\n",
    "\n",
    "[](https://intro.quantecon.org/ak2.html)[](https://intro.quantecon.org/ar1_processes.html)[](https://intro.quantecon.org/business_cycle.html)[](https://intro.quantecon.org/cagan_adaptive.html)[](https://intro.quantecon.org/cagan_ree.html)[](https://intro.quantecon.org/cobweb.html)[](https://intro.quantecon.org/commod_price.html)[](https://intro.quantecon.org/complex_and_trig.html)[](https://intro.quantecon.org/cons_smooth.html)[](https://intro.quantecon.org/eigen_I.html)[](https://intro.quantecon.org/eigen_II.html)[](https://intro.quantecon.org/equalizing_difference.html)[](https://intro.quantecon.org/french_rev.html)[](https://intro.quantecon.org/geom_series.html)[](https://intro.quantecon.org/greek_square.html)[](https://intro.quantecon.org/heavy_tails.html)[](https://intro.quantecon.org/inequality.html)[](https://intro.quantecon.org/inflation_history.html)[](https://intro.quantecon.org/input_output.html)[](https://intro.quantecon.org/intro.html)[](https://intro.quantecon.org/intro_supply_demand.html)[](https://intro.quantecon.org/laffer_adaptive.html)[](https://intro.quantecon.org/lake_model.html)[](https://intro.quantecon.org/linear_equations.html)[](https://intro.quantecon.org/lln_clt.html)[](https://intro.quantecon.org/long_run_growth.html)[](https://intro.quantecon.org/lp_intro.html)[](https://intro.quantecon.org/markov_chains_I.html)[](https://intro.quantecon.org/markov_chains_II.html)[](https://intro.quantecon.org/mle.html)[](https://intro.quantecon.org/money_inflation.html)[](https://intro.quantecon.org/money_inflation_nonlinear.html)[](https://intro.quantecon.org/monte_carlo.html)[](https://intro.quantecon.org/networks.html)[](https://intro.quantecon.org/olg.html)[](https://intro.quantecon.org/prob_dist.html)[](https://intro.quantecon.org/pv.html)[](https://intro.quantecon.org/scalar_dynam.html)[](https://intro.quantecon.org/schelling.html)[](https://intro.quantecon.org/short_path.html)[](https://intro.quantecon.org/simple_linear_regression.html)[](https://intro.quantecon.org/solow.html)[](https://intro.quantecon.org/.html)[](https://intro.quantecon.org/supply_demand_heterogeneity.html)[](https://intro.quantecon.org/supply_demand_multiple_goods.html)[](https://intro.quantecon.org/time_series_with_matrices.html)[](https://intro.quantecon.org/troubleshooting.html)[](https://intro.quantecon.org/unpleasant.html)[](https://intro.quantecon.org/zreferences.html)|Document|Modified|Method|Run Time (s)|Status|\n",
    "|:------------------:|:------------------:|:------------------:|:------------------:|:------------------:|\n",
    "|ak2|2024-07-10 23:29|cache|17.75|✅|\n",
    "|ar1_processes|2024-07-10 23:29|cache|3.56|✅|\n",
    "|business_cycle|2024-07-10 23:29|cache|14.89|✅|\n",
    "|cagan_adaptive|2024-07-10 23:29|cache|2.42|✅|\n",
    "|cagan_ree|2024-07-10 23:29|cache|3.67|✅|\n",
    "|cobweb|2024-07-10 23:29|cache|2.7|✅|\n",
    "|commod_price|2024-07-10 23:30|cache|17.86|✅|\n",
    "|complex_and_trig|2024-07-10 23:30|cache|2.41|✅|\n",
    "|cons_smooth|2024-07-10 23:30|cache|3.05|✅|\n",
    "|eigen_I|2024-07-10 23:30|cache|4.6|✅|\n",
    "|eigen_II|2024-07-10 23:30|cache|5.05|✅|\n",
    "|equalizing_difference|2024-07-10 23:30|cache|2.13|✅|\n",
    "|french_rev|2024-07-10 23:30|cache|12.04|✅|\n",
    "|geom_series|2024-07-10 23:30|cache|2.87|✅|\n",
    "|greek_square|2024-07-10 23:30|cache|1.92|✅|\n",
    "|heavy_tails|2024-07-10 23:31|cache|17.03|✅|\n",
    "|inequality|2024-07-10 23:31|cache|37.17|✅|\n",
    "|inflation_history|2024-07-10 23:31|cache|9.71|✅|\n",
    "|input_output|2024-07-10 23:32|cache|13.26|✅|\n",
    "|intro|2024-07-10 23:32|cache|0.8|✅|\n",
    "|intro_supply_demand|2024-07-10 23:32|cache|2.7|✅|\n",
    "|laffer_adaptive|2024-07-10 23:32|cache|2.28|✅|\n",
    "|lake_model|2024-07-10 23:32|cache|2.62|✅|\n",
    "|linear_equations|2024-07-10 23:32|cache|1.94|✅|\n",
    "|lln_clt|2024-07-10 23:34|cache|151.08|✅|\n",
    "|long_run_growth|2024-07-10 23:34|cache|9.39|✅|\n",
    "|lp_intro|2024-07-10 23:35|cache|7.04|✅|\n",
    "|markov_chains_I|2024-07-10 23:35|cache|13.09|✅|\n",
    "|markov_chains_II|2024-07-10 23:35|cache|6.56|✅|\n",
    "|mle|2024-07-10 23:35|cache|7.01|✅|\n",
    "|money_inflation|2024-07-10 23:35|cache|2.88|✅|\n",
    "|money_inflation_nonlinear|2024-07-10 23:35|cache|2.18|✅|\n",
    "|monte_carlo|2024-07-10 23:38|cache|190.93|✅|\n",
    "|networks|2024-07-10 23:38|cache|8.87|✅|\n",
    "|olg|2024-07-10 23:38|cache|2.54|✅|\n",
    "|prob_dist|2024-07-10 23:39|cache|8.61|✅|\n",
    "|pv|2024-07-10 23:39|cache|1.71|✅|\n",
    "|scalar_dynam|2024-07-10 23:39|cache|2.97|✅|\n",
    "|schelling|2024-07-10 23:39|cache|12.07|✅|\n",
    "|short_path|2024-07-10 23:39|cache|0.94|✅|\n",
    "|simple_linear_regression|2024-07-10 23:39|cache|4.5|✅|\n",
    "|solow|2024-07-10 23:39|cache|3.77|✅|\n",
    "|status|2024-07-10 23:39|cache|4.06|✅|\n",
    "|supply_demand_heterogeneity|2024-07-10 23:39|cache|0.98|✅|\n",
    "|supply_demand_multiple_goods|2024-07-10 23:39|cache|1.83|✅|\n",
    "|time_series_with_matrices|2024-07-10 23:39|cache|2.82|✅|\n",
    "|troubleshooting|2024-07-10 23:32|cache|0.8|✅|\n",
    "|unpleasant|2024-07-10 23:39|cache|1.72|✅|\n",
    "|zreferences|2024-07-10 23:32|cache|0.8|✅|\n",
    "\n",
    "<a id='status-machine-details'></a>\n",
    "These lectures are built on `linux` instances through `github actions`.\n",
    "\n",
    "These lectures are using the following python version"
   ]
  },
  {
   "cell_type": "code",
   "execution_count": null,
   "id": "acb53941",
   "metadata": {
    "hide-output": false
   },
   "outputs": [],
   "source": [
    "!python --version"
   ]
  },
  {
   "cell_type": "markdown",
   "id": "a4d10067",
   "metadata": {},
   "source": [
    "and the following package versions"
   ]
  },
  {
   "cell_type": "code",
   "execution_count": null,
   "id": "62462989",
   "metadata": {
    "hide-output": false
   },
   "outputs": [],
   "source": [
    "!conda list"
   ]
  }
 ],
 "metadata": {
  "date": 1721179655.9393609,
  "filename": "status.md",
  "kernelspec": {
   "display_name": "Python",
   "language": "python3",
   "name": "python3"
  },
  "title": "Execution Statistics"
 },
 "nbformat": 4,
 "nbformat_minor": 5
}