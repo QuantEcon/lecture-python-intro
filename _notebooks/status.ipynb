{
 "cells": [
  {
   "cell_type": "markdown",
   "id": "61e5acff",
   "metadata": {},
   "source": [
    "# Execution Statistics\n",
    "\n",
    "This table contains the latest execution statistics.\n",
    "\n",
    "[](https://intro.quantecon.org/ak2.html)[](https://intro.quantecon.org/ar1_processes.html)[](https://intro.quantecon.org/business_cycle.html)[](https://intro.quantecon.org/cagan_adaptive.html)[](https://intro.quantecon.org/cagan_ree.html)[](https://intro.quantecon.org/cobweb.html)[](https://intro.quantecon.org/commod_price.html)[](https://intro.quantecon.org/complex_and_trig.html)[](https://intro.quantecon.org/cons_smooth.html)[](https://intro.quantecon.org/eigen_I.html)[](https://intro.quantecon.org/eigen_II.html)[](https://intro.quantecon.org/equalizing_difference.html)[](https://intro.quantecon.org/geom_series.html)[](https://intro.quantecon.org/greek_square.html)[](https://intro.quantecon.org/heavy_tails.html)[](https://intro.quantecon.org/inequality.html)[](https://intro.quantecon.org/inflation_history.html)[](https://intro.quantecon.org/input_output.html)[](https://intro.quantecon.org/intro.html)[](https://intro.quantecon.org/intro_supply_demand.html)[](https://intro.quantecon.org/laffer_adaptive.html)[](https://intro.quantecon.org/lake_model.html)[](https://intro.quantecon.org/linear_equations.html)[](https://intro.quantecon.org/lln_clt.html)[](https://intro.quantecon.org/long_run_growth.html)[](https://intro.quantecon.org/lp_intro.html)[](https://intro.quantecon.org/markov_chains_I.html)[](https://intro.quantecon.org/markov_chains_II.html)[](https://intro.quantecon.org/mle.html)[](https://intro.quantecon.org/money_inflation.html)[](https://intro.quantecon.org/money_inflation_nonlinear.html)[](https://intro.quantecon.org/monte_carlo.html)[](https://intro.quantecon.org/networks.html)[](https://intro.quantecon.org/olg.html)[](https://intro.quantecon.org/prob_dist.html)[](https://intro.quantecon.org/pv.html)[](https://intro.quantecon.org/scalar_dynam.html)[](https://intro.quantecon.org/schelling.html)[](https://intro.quantecon.org/short_path.html)[](https://intro.quantecon.org/simple_linear_regression.html)[](https://intro.quantecon.org/solow.html)[](https://intro.quantecon.org/.html)[](https://intro.quantecon.org/supply_demand_heterogeneity.html)[](https://intro.quantecon.org/supply_demand_multiple_goods.html)[](https://intro.quantecon.org/time_series_with_matrices.html)[](https://intro.quantecon.org/troubleshooting.html)[](https://intro.quantecon.org/unpleasant.html)[](https://intro.quantecon.org/zreferences.html)|Document|Modified|Method|Run Time (s)|Status|\n",
    "|:------------------:|:------------------:|:------------------:|:------------------:|:------------------:|\n",
    "|ak2|2024-06-21 02:12|cache|17.43|✅|\n",
    "|ar1_processes|2024-06-21 02:12|cache|3.65|✅|\n",
    "|business_cycle|2024-06-21 02:13|cache|13.12|✅|\n",
    "|cagan_adaptive|2024-06-21 02:13|cache|2.42|✅|\n",
    "|cagan_ree|2024-06-21 02:13|cache|3.5|✅|\n",
    "|cobweb|2024-06-21 02:13|cache|2.75|✅|\n",
    "|commod_price|2024-06-21 02:13|cache|14.85|✅|\n",
    "|complex_and_trig|2024-06-21 02:13|cache|2.37|✅|\n",
    "|cons_smooth|2024-06-21 02:13|cache|3.06|✅|\n",
    "|eigen_I|2024-06-21 02:13|cache|4.5|✅|\n",
    "|eigen_II|2024-06-21 02:13|cache|5.09|✅|\n",
    "|equalizing_difference|2024-06-21 02:13|cache|2.26|✅|\n",
    "|geom_series|2024-06-21 02:13|cache|2.86|✅|\n",
    "|greek_square|2024-06-21 02:13|cache|0.82|✅|\n",
    "|heavy_tails|2024-06-21 02:14|cache|16.25|✅|\n",
    "|inequality|2024-06-21 02:14|cache|41.97|✅|\n",
    "|inflation_history|2024-06-21 02:14|cache|8.98|✅|\n",
    "|input_output|2024-06-21 02:15|cache|14.19|✅|\n",
    "|intro|2024-06-21 02:15|cache|0.86|✅|\n",
    "|intro_supply_demand|2024-06-21 02:15|cache|2.62|✅|\n",
    "|laffer_adaptive|2024-06-21 02:15|cache|2.42|✅|\n",
    "|lake_model|2024-06-21 02:15|cache|2.52|✅|\n",
    "|linear_equations|2024-06-21 02:15|cache|2.18|✅|\n",
    "|lln_clt|2024-06-21 02:17|cache|151.82|✅|\n",
    "|long_run_growth|2024-06-21 02:18|cache|7.9|✅|\n",
    "|lp_intro|2024-06-21 02:18|cache|6.79|✅|\n",
    "|markov_chains_I|2024-06-21 02:18|cache|12.23|✅|\n",
    "|markov_chains_II|2024-06-21 02:18|cache|6.73|✅|\n",
    "|mle|2024-06-21 02:18|cache|6.82|✅|\n",
    "|money_inflation|2024-06-21 02:18|cache|2.87|✅|\n",
    "|money_inflation_nonlinear|2024-06-21 02:18|cache|2.17|✅|\n",
    "|monte_carlo|2024-06-21 02:22|cache|203.37|✅|\n",
    "|networks|2024-06-21 02:22|cache|9.29|✅|\n",
    "|olg|2024-06-21 02:22|cache|2.74|✅|\n",
    "|prob_dist|2024-06-21 02:22|cache|8.86|✅|\n",
    "|pv|2024-06-21 02:22|cache|1.75|✅|\n",
    "|scalar_dynam|2024-06-21 02:22|cache|3.01|✅|\n",
    "|schelling|2024-06-21 02:22|cache|11.99|✅|\n",
    "|short_path|2024-06-21 02:22|cache|1.07|✅|\n",
    "|simple_linear_regression|2024-06-21 02:22|cache|4.38|✅|\n",
    "|solow|2024-06-21 02:22|cache|3.81|✅|\n",
    "|status|2024-06-21 02:22|cache|4.78|✅|\n",
    "|supply_demand_heterogeneity|2024-06-21 02:23|cache|1.2|✅|\n",
    "|supply_demand_multiple_goods|2024-06-21 02:23|cache|2.02|✅|\n",
    "|time_series_with_matrices|2024-06-21 02:23|cache|2.76|✅|\n",
    "|troubleshooting|2024-06-21 02:15|cache|0.86|✅|\n",
    "|unpleasant|2024-06-21 02:23|cache|1.83|✅|\n",
    "|zreferences|2024-06-21 02:15|cache|0.86|✅|\n",
    "\n",
    "<a id='status-machine-details'></a>\n",
    "These lectures are built on `linux` instances through `github actions`.\n",
    "\n",
    "These lectures are using the following python version"
   ]
  },
  {
   "cell_type": "code",
   "execution_count": null,
   "id": "4ec15766",
   "metadata": {
    "hide-output": false
   },
   "outputs": [],
   "source": [
    "!python --version"
   ]
  },
  {
   "cell_type": "markdown",
   "id": "cc9958be",
   "metadata": {},
   "source": [
    "and the following package versions"
   ]
  },
  {
   "cell_type": "code",
   "execution_count": null,
   "id": "6d163de5",
   "metadata": {
    "hide-output": false
   },
   "outputs": [],
   "source": [
    "!conda list"
   ]
  }
 ],
 "metadata": {
  "date": 1718937396.5130007,
  "filename": "status.md",
  "kernelspec": {
   "display_name": "Python",
   "language": "python3",
   "name": "python3"
  },
  "title": "Execution Statistics"
 },
 "nbformat": 4,
 "nbformat_minor": 5
}