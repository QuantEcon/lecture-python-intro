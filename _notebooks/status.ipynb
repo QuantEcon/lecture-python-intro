{
 "cells": [
  {
   "cell_type": "markdown",
   "id": "b7a2cd2d",
   "metadata": {},
   "source": [
    "# Execution Statistics\n",
    "\n",
    "This table contains the latest execution statistics.\n",
    "\n",
    "[](https://intro.quantecon.org/ar1_processes.html)[](https://intro.quantecon.org/business_cycle.html)[](https://intro.quantecon.org/cagan_adaptive.html)[](https://intro.quantecon.org/cagan_ree.html)[](https://intro.quantecon.org/cobweb.html)[](https://intro.quantecon.org/commod_price.html)[](https://intro.quantecon.org/complex_and_trig.html)[](https://intro.quantecon.org/cons_smooth.html)[](https://intro.quantecon.org/eigen_I.html)[](https://intro.quantecon.org/eigen_II.html)[](https://intro.quantecon.org/equalizing_difference.html)[](https://intro.quantecon.org/geom_series.html)[](https://intro.quantecon.org/heavy_tails.html)[](https://intro.quantecon.org/inequality.html)[](https://intro.quantecon.org/inflation_history.html)[](https://intro.quantecon.org/input_output.html)[](https://intro.quantecon.org/intro.html)[](https://intro.quantecon.org/intro_supply_demand.html)[](https://intro.quantecon.org/laffer_adaptive.html)[](https://intro.quantecon.org/lake_model.html)[](https://intro.quantecon.org/linear_equations.html)[](https://intro.quantecon.org/lln_clt.html)[](https://intro.quantecon.org/long_run_growth.html)[](https://intro.quantecon.org/lp_intro.html)[](https://intro.quantecon.org/markov_chains_I.html)[](https://intro.quantecon.org/markov_chains_II.html)[](https://intro.quantecon.org/mle.html)[](https://intro.quantecon.org/money_inflation.html)[](https://intro.quantecon.org/money_inflation_nonlinear.html)[](https://intro.quantecon.org/monte_carlo.html)[](https://intro.quantecon.org/networks.html)[](https://intro.quantecon.org/olg.html)[](https://intro.quantecon.org/prob_dist.html)[](https://intro.quantecon.org/pv.html)[](https://intro.quantecon.org/scalar_dynam.html)[](https://intro.quantecon.org/schelling.html)[](https://intro.quantecon.org/short_path.html)[](https://intro.quantecon.org/simple_linear_regression.html)[](https://intro.quantecon.org/solow.html)[](https://intro.quantecon.org/.html)[](https://intro.quantecon.org/supply_demand_heterogeneity.html)[](https://intro.quantecon.org/supply_demand_multiple_goods.html)[](https://intro.quantecon.org/time_series_with_matrices.html)[](https://intro.quantecon.org/troubleshooting.html)[](https://intro.quantecon.org/unpleasant.html)[](https://intro.quantecon.org/zreferences.html)|Document|Modified|Method|Run Time (s)|Status|\n",
    "|:------------------:|:------------------:|:------------------:|:------------------:|:------------------:|\n",
    "|ar1_processes|2024-04-30 06:00|cache|5.64|✅|\n",
    "|business_cycle|2024-04-30 06:00|cache|12.62|✅|\n",
    "|cagan_adaptive|2024-04-30 06:00|cache|2.52|✅|\n",
    "|cagan_ree|2024-04-30 06:00|cache|3.64|✅|\n",
    "|cobweb|2024-04-30 06:00|cache|2.91|✅|\n",
    "|commod_price|2024-04-30 06:01|cache|18.47|✅|\n",
    "|complex_and_trig|2024-04-30 06:01|cache|2.4|✅|\n",
    "|cons_smooth|2024-04-30 06:01|cache|2.99|✅|\n",
    "|eigen_I|2024-04-30 06:01|cache|4.78|✅|\n",
    "|eigen_II|2024-04-30 06:01|cache|7.61|✅|\n",
    "|equalizing_difference|2024-04-30 06:01|cache|2.15|✅|\n",
    "|geom_series|2024-04-30 06:01|cache|3.04|✅|\n",
    "|heavy_tails|2024-04-30 06:01|cache|16.6|✅|\n",
    "|inequality|2024-04-30 06:02|cache|31.21|✅|\n",
    "|inflation_history|2024-04-30 06:02|cache|9.42|✅|\n",
    "|input_output|2024-04-30 06:02|cache|13.35|✅|\n",
    "|intro|2024-04-30 06:02|cache|0.9|✅|\n",
    "|intro_supply_demand|2024-04-30 06:02|cache|2.77|✅|\n",
    "|laffer_adaptive|2024-04-30 06:02|cache|2.53|✅|\n",
    "|lake_model|2024-04-30 06:03|cache|2.76|✅|\n",
    "|linear_equations|2024-04-30 06:03|cache|2.15|✅|\n",
    "|lln_clt|2024-04-30 06:05|cache|155.81|✅|\n",
    "|long_run_growth|2024-04-30 06:05|cache|8.27|✅|\n",
    "|lp_intro|2024-04-30 06:05|cache|6.79|✅|\n",
    "|markov_chains_I|2024-04-30 06:06|cache|9.79|✅|\n",
    "|markov_chains_II|2024-04-30 06:06|cache|6.77|✅|\n",
    "|mle|2024-04-30 06:06|cache|7.41|✅|\n",
    "|money_inflation|2024-04-30 06:06|cache|2.78|✅|\n",
    "|money_inflation_nonlinear|2024-04-30 06:06|cache|2.28|✅|\n",
    "|monte_carlo|2024-04-30 06:09|cache|193.6|✅|\n",
    "|networks|2024-04-30 06:09|cache|9.11|✅|\n",
    "|olg|2024-04-30 06:09|cache|2.75|✅|\n",
    "|prob_dist|2024-04-30 06:09|cache|8.54|✅|\n",
    "|pv|2024-04-30 06:10|cache|1.88|✅|\n",
    "|scalar_dynam|2024-04-30 06:10|cache|3.22|✅|\n",
    "|schelling|2024-04-30 06:10|cache|11.81|✅|\n",
    "|short_path|2024-04-30 06:10|cache|1.08|✅|\n",
    "|simple_linear_regression|2024-04-30 06:10|cache|4.48|✅|\n",
    "|solow|2024-04-30 06:10|cache|3.78|✅|\n",
    "|status|2024-04-30 06:10|cache|4.85|✅|\n",
    "|supply_demand_heterogeneity|2024-04-30 06:10|cache|1.2|✅|\n",
    "|supply_demand_multiple_goods|2024-04-30 06:10|cache|1.81|✅|\n",
    "|time_series_with_matrices|2024-04-30 06:10|cache|2.7|✅|\n",
    "|troubleshooting|2024-04-30 06:02|cache|0.9|✅|\n",
    "|unpleasant|2024-04-30 06:10|cache|1.95|✅|\n",
    "|zreferences|2024-04-30 06:02|cache|0.9|✅|\n",
    "\n",
    "<a id='status-machine-details'></a>\n",
    "These lectures are built on `linux` instances through `github actions`.\n",
    "\n",
    "These lectures are using the following python version"
   ]
  },
  {
   "cell_type": "code",
   "execution_count": null,
   "id": "2495cdf3",
   "metadata": {
    "hide-output": false
   },
   "outputs": [],
   "source": [
    "!python --version"
   ]
  },
  {
   "cell_type": "markdown",
   "id": "e0cf01d9",
   "metadata": {},
   "source": [
    "and the following package versions"
   ]
  },
  {
   "cell_type": "code",
   "execution_count": null,
   "id": "31022899",
   "metadata": {
    "hide-output": false
   },
   "outputs": [],
   "source": [
    "!conda list"
   ]
  }
 ],
 "metadata": {
  "date": 1714691828.7918375,
  "filename": "status.md",
  "kernelspec": {
   "display_name": "Python",
   "language": "python3",
   "name": "python3"
  },
  "title": "Execution Statistics"
 },
 "nbformat": 4,
 "nbformat_minor": 5
}