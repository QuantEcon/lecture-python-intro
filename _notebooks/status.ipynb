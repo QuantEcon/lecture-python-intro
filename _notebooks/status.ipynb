{
 "cells": [
  {
   "cell_type": "markdown",
   "id": "a6cf3410",
   "metadata": {},
   "source": [
    "# Execution Statistics\n",
    "\n",
    "This table contains the latest execution statistics.\n",
    "\n",
    "[](https://intro.quantecon.org/ar1_processes.html)[](https://intro.quantecon.org/business_cycle.html)[](https://intro.quantecon.org/cagan_adaptive.html)[](https://intro.quantecon.org/cagan_ree.html)[](https://intro.quantecon.org/cobweb.html)[](https://intro.quantecon.org/commod_price.html)[](https://intro.quantecon.org/complex_and_trig.html)[](https://intro.quantecon.org/cons_smooth.html)[](https://intro.quantecon.org/eigen_I.html)[](https://intro.quantecon.org/eigen_II.html)[](https://intro.quantecon.org/equalizing_difference.html)[](https://intro.quantecon.org/french_rev.html)[](https://intro.quantecon.org/geom_series.html)[](https://intro.quantecon.org/greek_square.html)[](https://intro.quantecon.org/heavy_tails.html)[](https://intro.quantecon.org/inequality.html)[](https://intro.quantecon.org/inflation_history.html)[](https://intro.quantecon.org/input_output.html)[](https://intro.quantecon.org/intro.html)[](https://intro.quantecon.org/intro_supply_demand.html)[](https://intro.quantecon.org/laffer_adaptive.html)[](https://intro.quantecon.org/lake_model.html)[](https://intro.quantecon.org/linear_equations.html)[](https://intro.quantecon.org/lln_clt.html)[](https://intro.quantecon.org/long_run_growth.html)[](https://intro.quantecon.org/lp_intro.html)[](https://intro.quantecon.org/markov_chains_I.html)[](https://intro.quantecon.org/markov_chains_II.html)[](https://intro.quantecon.org/mle.html)[](https://intro.quantecon.org/money_inflation.html)[](https://intro.quantecon.org/money_inflation_nonlinear.html)[](https://intro.quantecon.org/monte_carlo.html)[](https://intro.quantecon.org/networks.html)[](https://intro.quantecon.org/olg.html)[](https://intro.quantecon.org/prob_dist.html)[](https://intro.quantecon.org/pv.html)[](https://intro.quantecon.org/scalar_dynam.html)[](https://intro.quantecon.org/schelling.html)[](https://intro.quantecon.org/short_path.html)[](https://intro.quantecon.org/simple_linear_regression.html)[](https://intro.quantecon.org/solow.html)[](https://intro.quantecon.org/.html)[](https://intro.quantecon.org/supply_demand_heterogeneity.html)[](https://intro.quantecon.org/supply_demand_multiple_goods.html)[](https://intro.quantecon.org/time_series_with_matrices.html)[](https://intro.quantecon.org/troubleshooting.html)[](https://intro.quantecon.org/unpleasant.html)[](https://intro.quantecon.org/zreferences.html)|Document|Modified|Method|Run Time (s)|Status|\n",
    "|:------------------:|:------------------:|:------------------:|:------------------:|:------------------:|\n",
    "|ar1_processes|2025-01-21 06:14|cache|6.01|✅|\n",
    "|business_cycle|2025-01-21 06:14|cache|9.64|✅|\n",
    "|cagan_adaptive|2025-01-21 06:14|cache|2.6|✅|\n",
    "|cagan_ree|2025-01-21 06:14|cache|3.72|✅|\n",
    "|cobweb|2025-01-21 06:14|cache|2.67|✅|\n",
    "|commod_price|2025-01-21 06:14|cache|16.01|✅|\n",
    "|complex_and_trig|2025-01-21 06:14|cache|2.24|✅|\n",
    "|cons_smooth|2025-01-21 06:14|cache|2.88|✅|\n",
    "|eigen_I|2025-01-21 06:15|cache|4.6|✅|\n",
    "|eigen_II|2025-01-21 06:15|cache|5.64|✅|\n",
    "|equalizing_difference|2025-01-21 06:15|cache|2.36|✅|\n",
    "|french_rev|2025-01-21 06:15|cache|6.52|✅|\n",
    "|geom_series|2025-01-21 06:15|cache|3.13|✅|\n",
    "|greek_square|2025-01-21 06:15|cache|2.53|✅|\n",
    "|heavy_tails|2025-01-21 06:15|cache|13.7|✅|\n",
    "|inequality|2025-01-21 06:16|cache|33.79|✅|\n",
    "|inflation_history|2025-01-21 06:16|cache|6.67|✅|\n",
    "|input_output|2025-01-21 06:16|cache|7.51|✅|\n",
    "|intro|2025-01-21 06:16|cache|4.02|✅|\n",
    "|intro_supply_demand|2025-01-21 06:16|cache|2.68|✅|\n",
    "|laffer_adaptive|2025-01-21 06:16|cache|2.27|✅|\n",
    "|lake_model|2025-01-21 06:16|cache|2.51|✅|\n",
    "|linear_equations|2025-01-21 06:16|cache|1.93|✅|\n",
    "|lln_clt|2025-01-21 06:19|cache|155.65|✅|\n",
    "|long_run_growth|2025-01-21 06:19|cache|27.03|✅|\n",
    "|lp_intro|2025-01-21 06:19|cache|4.38|✅|\n",
    "|markov_chains_I|2025-01-21 06:20|cache|14.79|✅|\n",
    "|markov_chains_II|2025-01-21 06:20|cache|4.63|✅|\n",
    "|mle|2025-01-21 06:20|cache|7.1|✅|\n",
    "|money_inflation|2025-01-21 06:20|cache|3.0|✅|\n",
    "|money_inflation_nonlinear|2025-01-21 06:20|cache|2.32|✅|\n",
    "|monte_carlo|2025-01-21 06:23|cache|200.45|✅|\n",
    "|networks|2025-01-21 06:23|cache|7.39|✅|\n",
    "|olg|2025-01-21 06:23|cache|2.44|✅|\n",
    "|prob_dist|2025-01-21 06:23|cache|6.54|✅|\n",
    "|pv|2025-01-21 06:24|cache|1.61|✅|\n",
    "|scalar_dynam|2025-01-21 06:24|cache|2.95|✅|\n",
    "|schelling|2025-01-21 06:24|cache|12.57|✅|\n",
    "|short_path|2025-01-21 06:24|cache|1.08|✅|\n",
    "|simple_linear_regression|2025-01-21 06:24|cache|3.95|✅|\n",
    "|solow|2025-01-21 06:24|cache|3.7|✅|\n",
    "|status|2025-01-21 06:24|cache|4.1|✅|\n",
    "|supply_demand_heterogeneity|2025-01-21 06:24|cache|1.14|✅|\n",
    "|supply_demand_multiple_goods|2025-01-21 06:24|cache|1.86|✅|\n",
    "|time_series_with_matrices|2025-01-21 06:24|cache|2.69|✅|\n",
    "|troubleshooting|2025-01-21 06:16|cache|4.02|✅|\n",
    "|unpleasant|2025-01-21 06:24|cache|1.82|✅|\n",
    "|zreferences|2025-01-21 06:16|cache|4.02|✅|\n",
    "\n",
    "<a id='status-machine-details'></a>\n",
    "These lectures are built on `linux` instances through `github actions`.\n",
    "\n",
    "These lectures are using the following python version"
   ]
  },
  {
   "cell_type": "code",
   "execution_count": null,
   "id": "7d110e25",
   "metadata": {
    "hide-output": false
   },
   "outputs": [],
   "source": [
    "!python --version"
   ]
  },
  {
   "cell_type": "markdown",
   "id": "b3ac1525",
   "metadata": {},
   "source": [
    "and the following package versions"
   ]
  },
  {
   "cell_type": "code",
   "execution_count": null,
   "id": "60d9190e",
   "metadata": {
    "hide-output": false
   },
   "outputs": [],
   "source": [
    "!conda list"
   ]
  }
 ],
 "metadata": {
  "date": 1737442336.4281588,
  "filename": "status.md",
  "kernelspec": {
   "display_name": "Python",
   "language": "python3",
   "name": "python3"
  },
  "title": "Execution Statistics"
 },
 "nbformat": 4,
 "nbformat_minor": 5
}