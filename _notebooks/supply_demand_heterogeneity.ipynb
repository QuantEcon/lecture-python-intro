{
 "cells": [
  {
   "cell_type": "markdown",
   "id": "95a914b4",
   "metadata": {},
   "source": [
    "# Market Equilibrium with Heterogeneity"
   ]
  },
  {
   "cell_type": "markdown",
   "id": "7af2c837",
   "metadata": {},
   "source": [
    "## An Endowment Economy\n",
    "\n",
    "Let’s study a **pure exchange** economy without production.\n",
    "\n",
    "There are two consumers who differ in their endowment vectors $ e_i $ and their bliss-point vectors $ b_i $ for $ i=1,2 $.\n",
    "\n",
    "The total endowment is $ e_1 + e_2 $.\n",
    "\n",
    "A competitive equilibrium  requires that\n",
    "\n",
    "$$\n",
    "c_1 + c_2 = e_1 + e_2\n",
    "$$\n",
    "\n",
    "Assume the demand curves\n",
    "\n",
    "$$\n",
    "c_i = (\\Pi^\\top \\Pi )^{-1}(\\Pi^\\top b_i -  \\mu_i p )\n",
    "$$\n",
    "\n",
    "Competitive equilibrium  then requires that\n",
    "\n",
    "$$\n",
    "e_1 + e_2 =\n",
    "    (\\Pi^\\top \\Pi)^{-1}(\\Pi^\\top (b_1 + b_2) - (\\mu_1 + \\mu_2) p )\n",
    "$$\n",
    "\n",
    "which after a line or two of linear algebra implies that\n",
    "\n",
    "\n",
    "<a id='equation-eq-old6'></a>\n",
    "$$\n",
    "(\\mu_1 + \\mu_2) p = \\Pi^\\top(b_1+ b_2) - \\Pi^\\top \\Pi (e_1 + e_2) \\tag{4.1}\n",
    "$$\n",
    "\n",
    "We can normalize prices by setting $ \\mu_1 + \\mu_2 =1 $ and then solving\n",
    "\n",
    "\n",
    "<a id='equation-eq-old7'></a>\n",
    "$$\n",
    "\\mu_i(p,e) = \\frac{p^\\top (\\Pi^{-1} b_i - e_i)}{p^\\top (\\Pi^\\top \\Pi )^{-1} p} \\tag{4.2}\n",
    "$$\n",
    "\n",
    "for $ \\mu_i, i = 1,2 $.\n",
    "\n",
    "**Exercise:** Show that, up to normalization by a positive scalar,  the same competitive equilibrium price vector that you computed in the preceding two-consumer economy would prevail in a single-consumer economy in which a single **representative consumer** has utility function\n",
    "\n",
    "$$\n",
    "-.5 (\\Pi c -b) ^\\top (\\Pi c -b )\n",
    "$$\n",
    "\n",
    "and endowment vector $ e $,  where\n",
    "\n",
    "$$\n",
    "b = b_1 + b_2\n",
    "$$\n",
    "\n",
    "and\n",
    "\n",
    "$$\n",
    "e = e_1 + e_2 .\n",
    "$$"
   ]
  },
  {
   "cell_type": "markdown",
   "id": "a726272e",
   "metadata": {},
   "source": [
    "## Designing some Python code\n",
    "\n",
    "Below we shall construct a Python class with the following attributes:\n",
    "\n",
    "- **Preferences** in the form of  \n",
    "  - an $ n \\times n $  positive definite matrix $ \\Pi $  \n",
    "  - an $ n \\times 1 $ vector of bliss points $ b $  \n",
    "- **Endowments** in the form of  \n",
    "  - an $ n \\times 1 $ vector $ e $  \n",
    "  - a scalar “wealth” $ W $ with default value $ 0 $  \n",
    "- **Production Costs**  pinned down  by  \n",
    "  - an $ n \\times 1 $ nonnegative vector $ h $  \n",
    "  - an $ n \\times n $ positive definite matrix $ J $  \n",
    "\n",
    "\n",
    "The class will include  a test to make sure that $ b  > > \\Pi e $ and raise an exception if it is violated\n",
    "(at some threshold level we’d have to specify).\n",
    "\n",
    "- **A Person** in the form of a pair that consists of  \n",
    "  - **Preferences** and **Endowments**  \n",
    "- **A Pure Exchange Economy** will  consist of  \n",
    "  - a collection of $ m $ **persons**  \n",
    "    - $ m=1 $ for our single-agent economy  \n",
    "    - $ m=2 $ for our illustrations of a pure exchange economy  \n",
    "  - an equilibrium price vector $ p $ (normalized somehow)  \n",
    "  - an equilibrium allocation $ c^1, c^2, \\ldots, c^m $ – a collection of $ m $ vectors of dimension $ n \\times 1 $  \n",
    "- **A Production Economy** will consist of  \n",
    "  - a single **person** that we’ll interpret as a representative consumer  \n",
    "  - a single set of **production costs**  \n",
    "  - a multiplier $ \\mu $ that weights “consumers” versus “producers” in a planner’s welfare function, as described above in the main text  \n",
    "  - an $ n \\times 1 $ vector $ p $ of competitive equilibrium prices  \n",
    "  - an $ n \\times 1 $ vector $ c $ of competitive equilibrium quantities  \n",
    "  - **consumer surplus**  \n",
    "  - **producer surplus**  \n",
    "\n",
    "\n",
    "Now let’s proceed to code."
   ]
  },
  {
   "cell_type": "markdown",
   "id": "8dcfd776",
   "metadata": {
    "hide-output": false
   },
   "source": [
    "```python\n",
    "# import some packages\n",
    "import numpy as np\n",
    "import pandas as pd\n",
    "import matplotlib.pyplot as plt\n",
    "from scipy.linalg import inv\n",
    "```\n"
   ]
  },
  {
   "cell_type": "markdown",
   "id": "fd374d5c",
   "metadata": {},
   "source": [
    "### Pure exchange economy\n",
    "\n",
    "Let’s first explore a pure exchange economy with $ n $ goods and $ m $ people.\n",
    "\n",
    "We’ll  compute a competitive equilibrium.\n",
    "\n",
    "To compute a competitive equilibrium of a pure exchange economy, we use the fact that\n",
    "\n",
    "- Relative prices in a competitive equilibrium are the same as those in a special single person or  representative consumer economy with preference $ \\Pi $ and $ b=\\sum_i b_i $, and endowment $ e = \\sum_i e_{i} $.  \n",
    "\n",
    "\n",
    "We can use the following steps to compute a competitive equilibrium:\n",
    "\n",
    "- First, we solve the single representative consumer economy by normalizing $ \\mu = 1 $. Then, we renormalize the price vector by using the first consumption good as numeraire.  \n",
    "- Next, we use the competitive equilibrium prices to compute each consumer’s marginal utility of wealth:\n",
    "  \\$$ \\mu_{i}=\\frac{-W_{i}+p^{\\top}\\left(\\Pi^{-1}b_{i}-e_{i}\\right)}{p^{\\top}(\\Pi^{\\top}\\Pi)^{-1}p}. $\\$  \n",
    "- Finally, we compute a competitive equilibrium allocation by  using the demand curves:\n",
    "  \\$$ c_{i}=\\Pi^{-1}b_{i}-(\\Pi^{\\top}\\Pi)^{-1}\\mu_{i}p. $\\$  "
   ]
  },
  {
   "cell_type": "markdown",
   "id": "b58fd040",
   "metadata": {},
   "source": [
    "## Deducing a representative consumer\n",
    "\n",
    "In the class of multiple consumer economies that we are studying here, it turns out that there\n",
    "exists a single **representative consumer** whose preferences and endowments can be deduced from lists of preferences and endowments for the separate individual consumers.\n",
    "\n",
    "Consider a multiple consumer economy with initial distribution of wealth $ W_i $ satisfying $ \\sum_i W_{i}=0 $\n",
    "\n",
    "We allow an initial  redistribution of wealth.\n",
    "\n",
    "We have the following objects\n",
    "\n",
    "- The demand curve:\n",
    "  \\$$ c_{i}=\\Pi^{-1}b_{i}-(\\Pi^{\\top}\\Pi)^{-1}\\mu_{i}p $\\$  \n",
    "- The marginal utility of wealth:\n",
    "  \\$$ \\mu_{i}=\\frac{-W_{i}+p^{\\top}\\left(\\Pi^{-1}b_{i}-e_{i}\\right)}{p^{\\top}(\\Pi^{\\top}\\Pi)^{-1}p} $\\$  \n",
    "- Market clearing:\n",
    "  \\$$ \\sum c_{i}=\\sum e_{i} $\\$  \n",
    "\n",
    "\n",
    "Denote aggregate consumption $ \\sum_i c_{i}=c $ and $ \\sum_i \\mu_i = \\mu $.\n",
    "\n",
    "Market  clearing requires\n",
    "\n",
    "$$\n",
    "\\Pi^{-1}\\left(\\sum_{i}b_{i}\\right)-(\\Pi^{\\top}\\Pi)^{-1}p\\left(\\sum_{i}\\mu_{i}\\right)=\\sum_{i}e_{i}\n",
    "$$\n",
    "\n",
    "which, after a few steps, leads to\n",
    "\\$$ p=\\mu^{-1}\\left(\\Pi^{\\top}b-\\Pi^{\\top}\\Pi e\\right) $\\$\n",
    "\n",
    "where\n",
    "\\$$ \\mu = \\sum_i\\mu_{i}=\\frac{0 + p^{\\top}\\left(\\Pi^{-1}b-e\\right)}{p^{\\top}(\\Pi^{\\top}\\Pi)^{-1}p}. $\\$\n",
    "\n",
    "Now consider the representative consumer economy specified above.\n",
    "\n",
    "Denote the marginal utility of wealth of the representative consumer by $ \\tilde{\\mu} $.\n",
    "\n",
    "The demand function is\n",
    "\n",
    "$$\n",
    "c=\\Pi^{-1}b-(\\Pi^{\\top}\\Pi)^{-1}\\tilde{\\mu} p.\n",
    "$$\n",
    "\n",
    "Substituting this into the budget constraint gives\n",
    "\\$$ \\tilde{\\mu}=\\frac{p^{\\top}\\left(\\Pi^{-1}b-e\\right)}{p^{\\top}(\\Pi^{\\top}\\Pi)^{-1}p}. $\\$\n",
    "\n",
    "In an equilibrium $ c=e $, so\n",
    "\\$$ p=\\tilde{\\mu}^{-1}(\\Pi^{\\top}b-\\Pi^{\\top}\\Pi e). $\\$\n",
    "\n",
    "Thus, we have  verified that,  up to choice of a numeraire in which to express absolute prices,  the price vector in our representative consumer economy is the same as that in an underlying  economy with multiple consumers."
   ]
  },
  {
   "cell_type": "markdown",
   "id": "e29b06c6",
   "metadata": {
    "hide-output": false
   },
   "source": [
    "```python\n",
    "class Exchange_economy:\n",
    "    def __init__(self, Pi, bs, es, Ws=None, thres=4):\n",
    "        \"\"\"\n",
    "        Set up the environment for an exchange economy\n",
    "\n",
    "        Args:\n",
    "            Pis (np.array): shared matrix of substitution\n",
    "            bs (list): all consumers' bliss points\n",
    "            es (list): all consumers' endowments\n",
    "            Ws (list): all consumers' wealth\n",
    "        \"\"\"\n",
    "        n, m = Pi.shape[0], len(bs)\n",
    "\n",
    "        # check non-satiation\n",
    "        for b, e in zip(bs, es):\n",
    "            if np.min(b / np.max(Pi @ e)) <= 1.5:\n",
    "                raise Exception('set bliss points further away')\n",
    "\n",
    "        if Ws==None:\n",
    "            Ws = np.zeros(m)\n",
    "        else:\n",
    "            if sum(Ws)!=0:\n",
    "                raise Exception('invalid wealth distribution')\n",
    "\n",
    "        self.Pi, self.bs, self.es, self.Ws, self.n, self.m = Pi, bs, es, Ws, n, m\n",
    "\n",
    "    def competitive_equilibrium(self):\n",
    "        \"\"\"\n",
    "        Compute the competitive equilibrium prices and allocation\n",
    "        \"\"\"\n",
    "        Pi, bs, es, Ws = self.Pi, self.bs, self.es, self.Ws\n",
    "        n, m = self.n, self.m\n",
    "        slope_dc = inv(Pi.T @ Pi)\n",
    "        Pi_inv = inv(Pi)\n",
    "\n",
    "        # aggregate\n",
    "        b = sum(bs)\n",
    "        e = sum(es)\n",
    "\n",
    "        # compute price vector with mu=1 and renormalize\n",
    "        p = Pi.T @ b - Pi.T @ Pi @ e\n",
    "        p = p/p[0]\n",
    "\n",
    "        # compute marg util of wealth\n",
    "        mu_s = []\n",
    "        c_s = []\n",
    "        A = p.T @ slope_dc @ p\n",
    "\n",
    "        for i in range(m):\n",
    "            mu_i = (-Ws[i] + p.T @ (Pi_inv @ bs[i] - es[i]))/A\n",
    "            c_i = Pi_inv @ bs[i] - mu_i*slope_dc @ p\n",
    "            mu_s.append(mu_i)\n",
    "            c_s.append(c_i)\n",
    "\n",
    "        for c_i in c_s:\n",
    "            if any(c_i < 0):\n",
    "                print('allocation: ', c_s)\n",
    "                raise Exception('negative allocation: equilibrium does not exist')\n",
    "\n",
    "        return p, c_s, mu_s\n",
    "```\n"
   ]
  },
  {
   "cell_type": "markdown",
   "id": "ddb32189",
   "metadata": {},
   "source": [
    "### Example: Two-person economy **without** production\n",
    "\n",
    "- Study how competitive equilibrium $ p, c^1, c^2 $ respond to  different  \n",
    "  - $ b^i $’s  \n",
    "  - $ e^i $’s  "
   ]
  },
  {
   "cell_type": "markdown",
   "id": "72237e14",
   "metadata": {
    "hide-output": false
   },
   "source": [
    "```python\n",
    "Pi = np.array([[1, 0],\n",
    "               [0, 1]])\n",
    "\n",
    "bs = [np.array([5, 5]),   # first consumer's bliss points\n",
    "      np.array([5, 5])]   # second consumer's bliss points\n",
    "\n",
    "es = [np.array([0, 2]),     # first consumer's endowment\n",
    "      np.array([2, 0])]     # second consumer's endowment\n",
    "\n",
    "example = Exchange_economy(Pi, bs, es)\n",
    "p, c_s, mu_s = example.competitive_equilibrium()\n",
    "\n",
    "print('Competitive equilibrium price vector:', p)\n",
    "print('Competitive equilibrium allocation:', c_s)\n",
    "```\n"
   ]
  },
  {
   "cell_type": "markdown",
   "id": "3946396d",
   "metadata": {},
   "source": [
    "What happens if the first consumer likes the first good more and the second consumer likes the second good more?"
   ]
  },
  {
   "cell_type": "markdown",
   "id": "3f6dc9c9",
   "metadata": {
    "hide-output": false
   },
   "source": [
    "```python\n",
    "bs = [np.array([6, 5]),   # first consumer's bliss points\n",
    "      np.array([5, 6])]   # second consumer's bliss points\n",
    "\n",
    "es = [np.array([0, 2]),     # first consumer's endowment\n",
    "      np.array([2, 0])]     # second consumer's endowment\n",
    "\n",
    "\n",
    "example = Exchange_economy(Pi, bs, es)\n",
    "p, c_s, mu_s = example.competitive_equilibrium()\n",
    "\n",
    "print('Competitive equilibrium price vector:', p)\n",
    "print('Competitive equilibrium allocation:', c_s)\n",
    "```\n"
   ]
  },
  {
   "cell_type": "markdown",
   "id": "ebb19d5f",
   "metadata": {},
   "source": [
    "Let the first consumer be poorer."
   ]
  },
  {
   "cell_type": "markdown",
   "id": "fc3e5092",
   "metadata": {
    "hide-output": false
   },
   "source": [
    "```python\n",
    "bs = [np.array([5, 5]),   # first consumer's bliss points\n",
    "      np.array([5, 5])]   # second consumer's bliss points\n",
    "\n",
    "es = [np.array([0.5, 0.5]),     # first consumer's endowment\n",
    "      np.array([1, 1])]     # second consumer's endowment\n",
    "\n",
    "\n",
    "example = Exchange_economy(Pi, bs, es)\n",
    "p, c_s, mu_s = example.competitive_equilibrium()\n",
    "\n",
    "print('Competitive equilibrium price vector:', p)\n",
    "print('Competitive equilibrium allocation:', c_s)\n",
    "```\n"
   ]
  },
  {
   "cell_type": "markdown",
   "id": "22c5c7e0",
   "metadata": {},
   "source": [
    "Now let’s construct an autarky (i.e, no-trade) equilibrium."
   ]
  },
  {
   "cell_type": "markdown",
   "id": "509413c3",
   "metadata": {
    "hide-output": false
   },
   "source": [
    "```python\n",
    "bs = [np.array([4, 6]),   # first consumer's bliss points\n",
    "      np.array([6, 4])]   # second consumer's bliss points\n",
    "\n",
    "es = [np.array([0, 2]),     # first consumer's endowment\n",
    "      np.array([2, 0])]     # second consumer's endowment\n",
    "\n",
    "\n",
    "example = Exchange_economy(Pi, bs, es)\n",
    "p, c_s, mu_s = example.competitive_equilibrium()\n",
    "\n",
    "print('Competitive equilibrium price vector:', p)\n",
    "print('Competitive equilibrium allocation:', c_s)\n",
    "```\n"
   ]
  },
  {
   "cell_type": "markdown",
   "id": "d45d4795",
   "metadata": {},
   "source": [
    "Now let’s  redistribute endowments  before trade."
   ]
  },
  {
   "cell_type": "markdown",
   "id": "60d01dae",
   "metadata": {
    "hide-output": false
   },
   "source": [
    "```python\n",
    "bs = [np.array([5, 5]),   # first consumer's bliss points\n",
    "      np.array([5, 5])]   # second consumer's bliss points\n",
    "\n",
    "es = [np.array([1, 1]),     # first consumer's endowment\n",
    "      np.array([1, 1])]     # second consumer's endowment\n",
    "\n",
    "Ws = [0.5, -0.5]\n",
    "example = Exchange_economy(Pi, bs, es, Ws)\n",
    "p, c_s, mu_s = example.competitive_equilibrium()\n",
    "\n",
    "print('Competitive equilibrium price vector:', p)\n",
    "print('Competitive equilibrium allocation:', c_s)\n",
    "```\n"
   ]
  },
  {
   "cell_type": "markdown",
   "id": "39297a5a",
   "metadata": {},
   "source": [
    "### A **dynamic economy**\n",
    "\n",
    "Now let’s use the tricks described above to study a dynamic economy, one with two periods."
   ]
  },
  {
   "cell_type": "markdown",
   "id": "98d4700e",
   "metadata": {
    "hide-output": false
   },
   "source": [
    "```python\n",
    "beta = 0.95\n",
    "\n",
    "Pi = np.array([[1, 0],\n",
    "               [0, np.sqrt(beta)]])\n",
    "\n",
    "bs = [np.array([5, np.sqrt(beta)*5])]\n",
    "\n",
    "es = [np.array([1,1])]\n",
    "\n",
    "example = Exchange_economy(Pi, bs, es)\n",
    "p, c_s, mu_s = example.competitive_equilibrium()\n",
    "\n",
    "print('Competitive equilibrium price vector:', p)\n",
    "print('Competitive equilibrium allocation:', c_s)\n",
    "```\n"
   ]
  },
  {
   "cell_type": "markdown",
   "id": "b5691f40",
   "metadata": {},
   "source": [
    "### Example:  **Arrow securities**\n",
    "\n",
    "We use the tricks described above to interpret  $ c_1, c_2 $ as “Arrow securities” that are state-contingent claims to consumption goods."
   ]
  },
  {
   "cell_type": "markdown",
   "id": "a8eebef1",
   "metadata": {
    "hide-output": false
   },
   "source": [
    "```python\n",
    "prob = 0.7\n",
    "\n",
    "Pi = np.array([[np.sqrt(prob), 0],\n",
    "               [0, np.sqrt(1-prob)]])\n",
    "\n",
    "bs = [np.array([np.sqrt(prob)*5, np.sqrt(1-prob)*5]),\n",
    "      np.array([np.sqrt(prob)*5, np.sqrt(1-prob)*5])]\n",
    "\n",
    "es = [np.array([1, 0]),\n",
    "      np.array([0, 1])]\n",
    "\n",
    "example = Exchange_economy(Pi, bs, es)\n",
    "p, c_s, mu_s = example.competitive_equilibrium()\n",
    "\n",
    "print('Competitive equilibrium price vector:', p)\n",
    "print('Competitive equilibrium allocation:', c_s)\n",
    "```\n"
   ]
  },
  {
   "cell_type": "markdown",
   "id": "bca58cfd",
   "metadata": {},
   "source": [
    "### Production Economy\n",
    "\n",
    "To compute a competitive equilibrium for a production economy where demand curve is pinned down by the marginal utility of wealth $ \\mu $, we first compute an allocation by solving a planning problem.\n",
    "\n",
    "Then we compute the equilibrium  price vector using the inverse demand or supply curve."
   ]
  },
  {
   "cell_type": "markdown",
   "id": "c7d17cb0",
   "metadata": {
    "hide-output": false
   },
   "source": [
    "```python\n",
    "\n",
    "class Production_economy:\n",
    "    def __init__(self, Pi, b, h, J, mu):\n",
    "        \"\"\"\n",
    "        Set up the environment for a production economy\n",
    "\n",
    "        Args:\n",
    "            Pi (np.ndarray): matrix of substitution\n",
    "            b (np.array): bliss points\n",
    "            h (np.array): h in cost func\n",
    "            J (np.ndarray): J in cost func\n",
    "            mu (float): welfare weight of the corresponding planning problem\n",
    "        \"\"\"\n",
    "        self.n = len(b)\n",
    "        self.Pi, self.b, self.h, self.J, self.mu = Pi, b, h, J, mu\n",
    "\n",
    "    def competitive_equilibrium(self):\n",
    "        \"\"\"\n",
    "        Compute a competitive equilibrium of the production economy\n",
    "        \"\"\"\n",
    "        Pi, b, h, mu, J = self.Pi, self.b, self.h, self.mu, self.J\n",
    "        H = .5*(J+J.T)\n",
    "\n",
    "        # allocation\n",
    "        c = inv(Pi.T@Pi + mu*H) @ (Pi.T@b - mu*h)\n",
    "\n",
    "        # price\n",
    "        p = 1/mu * (Pi.T@b - Pi.T@Pi@c)\n",
    "\n",
    "        # check non-satiation\n",
    "        if any(Pi @ c - b >= 0):\n",
    "            raise Exception('invalid result: set bliss points further away')\n",
    "\n",
    "        return c, p\n",
    "\n",
    "    def equilibrium_with_monopoly(self):\n",
    "        \"\"\"\n",
    "        Compute the equilibrium price and allocation when there is a monopolist supplier\n",
    "        \"\"\"\n",
    "        Pi, b, h, mu, J = self.Pi, self.b, self.h, self.mu, self.J\n",
    "        H = .5*(J+J.T)\n",
    "\n",
    "        # allocation\n",
    "        q = inv(mu*H + 2*Pi.T@Pi)@(Pi.T@b - mu*h)\n",
    "\n",
    "        # price\n",
    "        p = 1/mu * (Pi.T@b - Pi.T@Pi@q)\n",
    "\n",
    "        if any(Pi @ q - b >= 0):\n",
    "            raise Exception('invalid result: set bliss points further away')\n",
    "\n",
    "        return q, p\n",
    "\n",
    "    def compute_surplus(self):\n",
    "        \"\"\"\n",
    "        Compute consumer and producer surplus for single good case\n",
    "        \"\"\"\n",
    "        if self.n!=1:\n",
    "            raise Exception('not single good')\n",
    "        h, J, Pi, b, mu = self.h.item(), self.J.item(), self.Pi.item(), self.b.item(), self.mu\n",
    "        H = J\n",
    "\n",
    "        # supply/demand curve coefficients\n",
    "        s0, s1 = h, H\n",
    "        d0, d1 = 1/mu * Pi * b, 1/mu * Pi**2\n",
    "\n",
    "        # competitive equilibrium\n",
    "        c, p = self.competitive_equilibrium()\n",
    "\n",
    "        # calculate surplus\n",
    "        c_surplus = d0*c - .5*d1*c**2 - p*c\n",
    "        p_surplus = p*c - s0*c - .5*s1*c**2\n",
    "\n",
    "        return c_surplus, p_surplus\n",
    "\n",
    "\n",
    "def plot_competitive_equilibrium(PE):\n",
    "    \"\"\"\n",
    "    Plot demand and supply curves, producer/consumer surpluses, and equilibrium for\n",
    "    a single good production economy\n",
    "\n",
    "    Args:\n",
    "        PE (class): A initialized production economy class\n",
    "    \"\"\"\n",
    "    # get singleton value\n",
    "    J, h, Pi, b, mu = PE.J.item(), PE.h.item(), PE.Pi.item(), PE.b.item(), PE.mu\n",
    "    H = J\n",
    "\n",
    "    # compute competitive equilibrium\n",
    "    c, p = PE.competitive_equilibrium()\n",
    "    c, p = c.item(), p.item()\n",
    "\n",
    "    # inverse supply/demand curve\n",
    "    supply_inv = lambda x: h + H*x\n",
    "    demand_inv = lambda x: 1/mu*(Pi*b - Pi*Pi*x)\n",
    "\n",
    "    xs = np.linspace(0, 2*c, 100)\n",
    "    ps = np.ones(100) * p\n",
    "    supply_curve = supply_inv(xs)\n",
    "    demand_curve =  demand_inv(xs)\n",
    "\n",
    "    # plot\n",
    "    plt.figure(figsize=[7,5])\n",
    "    plt.plot(xs, supply_curve, label='Supply', color='#020060')\n",
    "    plt.plot(xs, demand_curve, label='Demand', color='#600001')\n",
    "\n",
    "    plt.fill_between(xs[xs<=c], demand_curve[xs<=c], ps[xs<=c], label='Consumer surplus', color='#EED1CF')\n",
    "    plt.fill_between(xs[xs<=c], supply_curve[xs<=c], ps[xs<=c], label='Producer surplus', color='#E6E6F5')\n",
    "\n",
    "    plt.vlines(c, 0, p, linestyle=\"dashed\", color='black', alpha=0.7)\n",
    "    plt.hlines(p, 0, c, linestyle=\"dashed\", color='black', alpha=0.7)\n",
    "    plt.scatter(c, p, zorder=10, label='Competitive equilibrium', color='#600001')\n",
    "\n",
    "    plt.legend(loc='upper right')\n",
    "    plt.margins(x=0, y=0)\n",
    "    plt.ylim(0)\n",
    "    plt.xlabel('Quantity')\n",
    "    plt.ylabel('Price')\n",
    "    plt.show()\n",
    "```\n"
   ]
  },
  {
   "cell_type": "markdown",
   "id": "10e1528e",
   "metadata": {},
   "source": [
    "#### Example: single agent with one good and  with production\n",
    "\n",
    "Now let’s construct an example of a production economy with one good.\n",
    "\n",
    "To do this we\n",
    "\n",
    "- specify a single **person** and a **cost curve** in a way that let’s us replicate the simple\n",
    "  single-good supply demand example with which we started  \n",
    "- compute equilibrium $ p $ and $ c $ and consumer and producer surpluses  \n",
    "- draw graphs of both surpluses  \n",
    "- do experiments in which we shift $ b $ and watch what happens to $ p, c $.  "
   ]
  },
  {
   "cell_type": "markdown",
   "id": "c2e1bb98",
   "metadata": {
    "hide-output": false
   },
   "source": [
    "```python\n",
    "Pi  = np.array([[1]])        # the matrix now is a singleton\n",
    "b   = np.array([10])\n",
    "h   = np.array([0.5])\n",
    "J   = np.array([[1]])\n",
    "mu = 1\n",
    "\n",
    "PE = Production_economy(Pi, b, h, J, mu)\n",
    "c, p = PE.competitive_equilibrium()\n",
    "\n",
    "print('Competitive equilibrium price:', p.item())\n",
    "print('Competitive equilibrium allocation:', c.item())\n",
    "\n",
    "# plot\n",
    "plot_competitive_equilibrium(PE)\n",
    "```\n"
   ]
  },
  {
   "cell_type": "markdown",
   "id": "83850d8c",
   "metadata": {
    "hide-output": false
   },
   "source": [
    "```python\n",
    "c_surplus, p_surplus = PE.compute_surplus()\n",
    "\n",
    "print('Consumer surplus:', c_surplus.item())\n",
    "print('Producer surplus:', p_surplus.item())\n",
    "```\n"
   ]
  },
  {
   "cell_type": "markdown",
   "id": "d7653d95",
   "metadata": {},
   "source": [
    "Let’s give consumers a lower welfare weight by raising $ \\mu $."
   ]
  },
  {
   "cell_type": "markdown",
   "id": "96d22ed0",
   "metadata": {
    "hide-output": false
   },
   "source": [
    "```python\n",
    "PE.mu = 2\n",
    "c, p = PE.competitive_equilibrium()\n",
    "\n",
    "print('Competitive equilibrium price:', p.item())\n",
    "print('Competitive equilibrium allocation:', c.item())\n",
    "\n",
    "# plot\n",
    "plot_competitive_equilibrium(PE)\n",
    "```\n"
   ]
  },
  {
   "cell_type": "markdown",
   "id": "fdba5c14",
   "metadata": {
    "hide-output": false
   },
   "source": [
    "```python\n",
    "c_surplus, p_surplus = PE.compute_surplus()\n",
    "\n",
    "print('Consumer surplus:', c_surplus.item())\n",
    "print('Producer surplus:', p_surplus.item())\n",
    "```\n"
   ]
  },
  {
   "cell_type": "markdown",
   "id": "998ca5d7",
   "metadata": {},
   "source": [
    "Now we change  the bliss point  so that the consumer derives more utility from consumption."
   ]
  },
  {
   "cell_type": "markdown",
   "id": "982c1dd5",
   "metadata": {
    "hide-output": false
   },
   "source": [
    "```python\n",
    "PE.mu = 1\n",
    "PE.b = PE.b * 1.5\n",
    "c, p = PE.competitive_equilibrium()\n",
    "\n",
    "print('Competitive equilibrium price:', p.item())\n",
    "print('Competitive equilibrium allocation:', c.item())\n",
    "\n",
    "# plot\n",
    "plot_competitive_equilibrium(PE)\n",
    "```\n"
   ]
  },
  {
   "cell_type": "markdown",
   "id": "81bac3b6",
   "metadata": {},
   "source": [
    "This raises both the equilibrium price and quantity."
   ]
  },
  {
   "cell_type": "markdown",
   "id": "02175f6d",
   "metadata": {},
   "source": [
    "#### Example: single agent two-good economy **with** production\n",
    "\n",
    "- we’ll do some experiments like those above  \n",
    "- we can do experiments with a  **diagonal** $ \\Pi $ and also with a **non-diagonal** $ \\Pi $ matrices to study  how cross-slopes affect responses of $ p $ and $ c $ to various shifts in $ b $  "
   ]
  },
  {
   "cell_type": "markdown",
   "id": "6175cf41",
   "metadata": {
    "hide-output": false
   },
   "source": [
    "```python\n",
    "Pi  = np.array([[1, 0],\n",
    "                [0, 1]])\n",
    "b   = np.array([10, 10])\n",
    "\n",
    "h   = np.array([0.5, 0.5])\n",
    "J   = np.array([[1, 0.5],\n",
    "                [0.5, 1]])\n",
    "mu = 1\n",
    "\n",
    "PE = Production_economy(Pi, b, h, J, mu)\n",
    "c, p = PE.competitive_equilibrium()\n",
    "\n",
    "print('Competitive equilibrium price:', p)\n",
    "print('Competitive equilibrium allocation:', c)\n",
    "```\n"
   ]
  },
  {
   "cell_type": "markdown",
   "id": "c6e13446",
   "metadata": {
    "hide-output": false
   },
   "source": [
    "```python\n",
    "PE.b   = np.array([12, 10])\n",
    "\n",
    "c, p = PE.competitive_equilibrium()\n",
    "\n",
    "print('Competitive equilibrium price:', p)\n",
    "print('Competitive equilibrium allocation:', c)\n",
    "```\n"
   ]
  },
  {
   "cell_type": "markdown",
   "id": "8725c124",
   "metadata": {
    "hide-output": false
   },
   "source": [
    "```python\n",
    "Pi  = np.array([[1, 0.5],\n",
    "                [0.5, 1]])\n",
    "b   = np.array([10, 10])\n",
    "\n",
    "h   = np.array([0.5, 0.5])\n",
    "J   = np.array([[1, 0.5],\n",
    "                [0.5, 1]])\n",
    "mu = 1\n",
    "\n",
    "PE = Production_economy(Pi, b, h, J, mu)\n",
    "c, p = PE.competitive_equilibrium()\n",
    "\n",
    "print('Competitive equilibrium price:', p)\n",
    "print('Competitive equilibrium allocation:', c)\n",
    "```\n"
   ]
  },
  {
   "cell_type": "markdown",
   "id": "b63b0354",
   "metadata": {
    "hide-output": false
   },
   "source": [
    "```python\n",
    "PE.b = np.array([12, 10])\n",
    "c, p = PE.competitive_equilibrium()\n",
    "\n",
    "print('Competitive equilibrium price:', p)\n",
    "print('Competitive equilibrium allocation:', c)\n",
    "```\n"
   ]
  },
  {
   "cell_type": "markdown",
   "id": "ef0e1d17",
   "metadata": {},
   "source": [
    "### A Monopolist\n",
    "\n",
    "Let’s  consider a monopolist  supplier.\n",
    "\n",
    "We have included a method in  our `production_economy` class to compute an equilibrium price and allocation when the supplier is  a monopolist.\n",
    "\n",
    "Since the supplier now has the price-setting power\n",
    "\n",
    "- we first compute the optimal quantity that solves the monopolist’s profit maximization problem.  \n",
    "- Then we back out  an equilibrium  price from the consumer’s inverse demand curve.  \n",
    "\n",
    "\n",
    "Next, we use a graph for the single good case to illustrate the difference between a competitive equilibrium and an equilibrium with a monopolist supplier.\n",
    "\n",
    "Recall that in a competitive equilibrium, a price-taking supplier equates  marginal revenue $ p $ to marginal cost $ h + Hq $.\n",
    "\n",
    "This yields a competitive producer’s  inverse supply curve.\n",
    "\n",
    "A monopolist’s marginal revenue is not constant but instead  is a non-trivial function of the quantity it sets.\n",
    "\n",
    "The monopolist’s marginal revenue is\n",
    "\n",
    "$$\n",
    "MR(q) = -2\\mu^{-1}\\Pi^{\\top}\\Pi q+\\mu^{-1}\\Pi^{\\top}b,\n",
    "$$\n",
    "\n",
    "which the monopolist equates to its  marginal cost.\n",
    "\n",
    "The plot indicates that the monopolist’s sets output  lower than either the competitive equilibrium quantity.\n",
    "\n",
    "In a single good case, this equilibrium is associated with a higher price of the good."
   ]
  },
  {
   "cell_type": "markdown",
   "id": "a2d5b62b",
   "metadata": {
    "hide-output": false
   },
   "source": [
    "```python\n",
    "def plot_monopoly(PE):\n",
    "    \"\"\"\n",
    "    Plot demand curve, marginal production cost and revenue, surpluses and the\n",
    "    equilibrium in a monopolist supplier economy with a single good\n",
    "\n",
    "    Args:\n",
    "        PE (class): A initialized production economy class\n",
    "    \"\"\"\n",
    "    # get singleton value\n",
    "    J, h, Pi, b, mu = PE.J.item(), PE.h.item(), PE.Pi.item(), PE.b.item(), PE.mu\n",
    "    H = J\n",
    "\n",
    "    # compute competitive equilibrium\n",
    "    c, p = PE.competitive_equilibrium()\n",
    "    q, pm = PE.equilibrium_with_monopoly()\n",
    "    c, p, q, pm = c.item(), p.item(), q.item(), pm.item()\n",
    "\n",
    "    # compute\n",
    "\n",
    "    # inverse supply/demand curve\n",
    "    marg_cost = lambda x: h + H*x\n",
    "    marg_rev  = lambda x: -2*1/mu*Pi*Pi*x + 1/mu*Pi*b\n",
    "    demand_inv = lambda x: 1/mu*(Pi*b - Pi*Pi*x)\n",
    "\n",
    "    xs = np.linspace(0, 2*c, 100)\n",
    "    pms = np.ones(100) * pm\n",
    "    marg_cost_curve = marg_cost(xs)\n",
    "    marg_rev_curve  = marg_rev(xs)\n",
    "    demand_curve    = demand_inv(xs)\n",
    "\n",
    "    # plot\n",
    "    plt.figure(figsize=[7,5])\n",
    "    plt.plot(xs, marg_cost_curve, label='Marginal cost', color='#020060')\n",
    "    plt.plot(xs, marg_rev_curve, label='Marginal revenue', color='#E55B13')\n",
    "    plt.plot(xs, demand_curve, label='Demand', color='#600001')\n",
    "\n",
    "    plt.fill_between(xs[xs<=q], demand_curve[xs<=q], pms[xs<=q], label='Consumer surplus', color='#EED1CF')\n",
    "    plt.fill_between(xs[xs<=q], marg_cost_curve[xs<=q], pms[xs<=q], label='Producer surplus', color='#E6E6F5')\n",
    "\n",
    "    plt.vlines(c, 0, p, linestyle=\"dashed\", color='black', alpha=0.7)\n",
    "    plt.hlines(p, 0, c, linestyle=\"dashed\", color='black', alpha=0.7)\n",
    "    plt.scatter(c, p, zorder=10, label='Competitive equilibrium', color='#600001')\n",
    "\n",
    "    plt.vlines(q, 0, pm, linestyle=\"dashed\", color='black', alpha=0.7)\n",
    "    plt.hlines(pm, 0, q, linestyle=\"dashed\", color='black', alpha=0.7)\n",
    "    plt.scatter(q, pm, zorder=10, label='Equilibrium with monopoly', color='#E55B13')\n",
    "\n",
    "    plt.legend(loc='upper right')\n",
    "    plt.margins(x=0, y=0)\n",
    "    plt.ylim(0)\n",
    "    plt.xlabel('Quantity')\n",
    "    plt.ylabel('Price')\n",
    "    plt.show()\n",
    "```\n"
   ]
  },
  {
   "cell_type": "markdown",
   "id": "e20eb4f5",
   "metadata": {},
   "source": [
    "#### A multiple good example\n",
    "\n",
    "Let’s study compare competitive equilibrium and monopoly outcomes in a multiple goods economy."
   ]
  },
  {
   "cell_type": "markdown",
   "id": "4c25a2be",
   "metadata": {
    "hide-output": false
   },
   "source": [
    "```python\n",
    "Pi  = np.array([[1, 0],\n",
    "                [0, 1.2]])\n",
    "b   = np.array([10, 10])\n",
    "\n",
    "h   = np.array([0.5, 0.5])\n",
    "J   = np.array([[1, 0.5],\n",
    "                [0.5, 1]])\n",
    "mu = 1\n",
    "\n",
    "PE = Production_economy(Pi, b, h, J, mu)\n",
    "c, p = PE.competitive_equilibrium()\n",
    "q, pm = PE.equilibrium_with_monopoly()\n",
    "\n",
    "print('Competitive equilibrium price:', p)\n",
    "print('Competitive equilibrium allocation:', c)\n",
    "\n",
    "print('Equilibrium with monopolist supplier price:', pm)\n",
    "print('Equilibrium with monopolist supplier allocation:', q)\n",
    "```\n"
   ]
  },
  {
   "cell_type": "markdown",
   "id": "a369933e",
   "metadata": {},
   "source": [
    "#### A single-good example"
   ]
  },
  {
   "cell_type": "markdown",
   "id": "7fd50315",
   "metadata": {
    "hide-output": false
   },
   "source": [
    "```python\n",
    "Pi  = np.array([[1]])        # the matrix now is a singleton\n",
    "b   = np.array([10])\n",
    "h   = np.array([0.5])\n",
    "J   = np.array([[1]])\n",
    "mu = 1\n",
    "\n",
    "PE = Production_economy(Pi, b, h, J, mu)\n",
    "c, p = PE.competitive_equilibrium()\n",
    "q, pm = PE.equilibrium_with_monopoly()\n",
    "\n",
    "print('Competitive equilibrium price:', p.item())\n",
    "print('Competitive equilibrium allocation:', c.item())\n",
    "\n",
    "print('Equilibrium with monopolist supplier price:', pm.item())\n",
    "print('Equilibrium with monopolist supplier allocation:', q.item())\n",
    "\n",
    "# plot\n",
    "plot_monopoly(PE)\n",
    "```\n"
   ]
  }
 ],
 "metadata": {
  "date": 1681898276.5263252,
  "filename": "supply_demand_heterogeneity.md",
  "kernelspec": {
   "display_name": "Python",
   "language": "python3",
   "name": "python3"
  },
  "title": "Market Equilibrium with Heterogeneity"
 },
 "nbformat": 4,
 "nbformat_minor": 5
}