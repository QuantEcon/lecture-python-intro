{
 "cells": [
  {
   "cell_type": "markdown",
   "id": "0e62d71c",
   "metadata": {},
   "source": [
    "# Long Run Growth"
   ]
  },
  {
   "cell_type": "markdown",
   "id": "8d4cd179",
   "metadata": {},
   "source": [
    "# Lecture IN-WORK\n",
    "\n",
    "This lecture is still **under construction**"
   ]
  },
  {
   "cell_type": "markdown",
   "id": "203245bc",
   "metadata": {},
   "source": [
    "## Contents\n",
    "\n",
    "- [Long Run Growth](#Long-Run-Growth)  \n",
    "  - [Overview](#Overview)  \n",
    "  - [The Industrialized World](#The-Industrialized-World)  \n",
    "  - [The Modern Era (1970 to 2018)](#The-Modern-Era-(1970-to-2018))  \n",
    "  - [Other Interesting Plots](#Other-Interesting-Plots)  \n",
    "  - [Regional Analysis](#Regional-Analysis)  \n",
    "  - [Prior Work using World Bank Data](#Prior-Work-using-World-Bank-Data)  "
   ]
  },
  {
   "cell_type": "markdown",
   "id": "36b853c1",
   "metadata": {},
   "source": [
    "## Overview\n",
    "\n",
    "This lecture looks at different growth trajectories across countries over the long term.\n",
    "\n",
    "While some countries have experienced long term rapid growth across that has last a hundred years, others have not.\n",
    "\n",
    "First let us import the packages needed to explore what the data says about long run growth."
   ]
  },
  {
   "cell_type": "markdown",
   "id": "1f04cea8",
   "metadata": {
    "hide-output": false
   },
   "source": [
    "```ipython3\n",
    "import pandas as pd\n",
    "import os\n",
    "import matplotlib as mpl\n",
    "import matplotlib.pyplot as plt\n",
    "import numpy as np\n",
    "from matplotlib.lines import Line2D\n",
    "```\n"
   ]
  },
  {
   "cell_type": "markdown",
   "id": "4b76e117",
   "metadata": {},
   "source": [
    "A project initiated by [Angus Maddison](https://en.wikipedia.org/wiki/Angus_Maddison) has collected many historical time series that study economic growth.\n",
    "\n",
    "We can use the [Maddison Historical Statistics](https://www.rug.nl/ggdc/historicaldevelopment/maddison/) to look at many different countries, including some countries dating back to the first century.\n",
    "\n",
    "The data can be downloaded from [this webpage](https://www.rug.nl/ggdc/historicaldevelopment/maddison/) and clicking on the `Latest Maddison Project Release`. In this lecture we use the [Maddison Project Database 2020](https://www.rug.nl/ggdc/historicaldevelopment/maddison/releases/maddison-project-database-2020) using the `Excel` Format. The code we use here assumes you have downloaded that file and will teach you how to use [pandas](https://pandas.pydata.org) to import that data into a DataFrame.\n",
    "\n",
    "**TODO:** This is using locally imported data, should we fetch this file as part of the lecture?"
   ]
  },
  {
   "cell_type": "markdown",
   "id": "54810795",
   "metadata": {
    "hide-output": false
   },
   "source": [
    "```ipython3\n",
    "data = pd.read_excel(\"datasets/mpd2020.xlsx\", sheet_name='Full data')\n",
    "data\n",
    "```\n"
   ]
  },
  {
   "cell_type": "markdown",
   "id": "417bdf58",
   "metadata": {},
   "source": [
    "We can see that this dataset contains GDP per capita (gdppc) and population (pop) for many countries and years.\n",
    "\n",
    "Let’s look at how many and which countries are available in this dataset"
   ]
  },
  {
   "cell_type": "markdown",
   "id": "bad10adb",
   "metadata": {
    "hide-output": false
   },
   "source": [
    "```ipython3\n",
    "data.country.unique()\n",
    "```\n"
   ]
  },
  {
   "cell_type": "markdown",
   "id": "76bd2b93",
   "metadata": {
    "hide-output": false
   },
   "source": [
    "```ipython3\n",
    "len(data.country.unique())\n",
    "```\n"
   ]
  },
  {
   "cell_type": "markdown",
   "id": "1b2b7a7f",
   "metadata": {},
   "source": [
    "We can now explore some of the 169 countries that are available.\n",
    "\n",
    "Let’s now loop over each country to understand which years are available for each country"
   ]
  },
  {
   "cell_type": "markdown",
   "id": "08d468ab",
   "metadata": {
    "hide-output": false
   },
   "source": [
    "```ipython3\n",
    "cntry_years = []\n",
    "for cntry in data.country.unique():\n",
    "    cy_data = data[data.country == cntry]['year']\n",
    "    ymin, ymax = cy_data.min(), cy_data.max()\n",
    "    cntry_years.append((cntry, ymin, ymax))\n",
    "cntry_years = pd.DataFrame(cntry_years, columns=['country', 'Min Year', 'Max Year']).set_index('country')\n",
    "cntry_years\n",
    "```\n"
   ]
  },
  {
   "cell_type": "markdown",
   "id": "fe7582d7",
   "metadata": {
    "hide-output": false
   },
   "source": [
    "```ipython3\n",
    "cntry_years.loc['Australia']\n",
    "```\n"
   ]
  },
  {
   "cell_type": "markdown",
   "id": "531387dc",
   "metadata": {},
   "source": [
    "Let us now reshape the original data into some convenient variables to enable quicker access to countries time series data.\n",
    "\n",
    "We can build a useful mapping between country code’s and country names in this dataset"
   ]
  },
  {
   "cell_type": "markdown",
   "id": "5312d183",
   "metadata": {
    "hide-output": false
   },
   "source": [
    "```ipython3\n",
    "code_to_name = data[['countrycode','country']].drop_duplicates().reset_index(drop=True).set_index(['countrycode'])\n",
    "```\n"
   ]
  },
  {
   "cell_type": "markdown",
   "id": "be786cba",
   "metadata": {},
   "source": [
    "Then we can quickly focus on GDP per capita (gdp)"
   ]
  },
  {
   "cell_type": "markdown",
   "id": "b96ca452",
   "metadata": {
    "hide-output": false
   },
   "source": [
    "```ipython3\n",
    "data\n",
    "```\n"
   ]
  },
  {
   "cell_type": "markdown",
   "id": "823fb198",
   "metadata": {
    "hide-output": false
   },
   "source": [
    "```ipython3\n",
    "gdppc = data.set_index(['countrycode','year'])['gdppc']\n",
    "gdppc = gdppc.unstack('countrycode')\n",
    "```\n"
   ]
  },
  {
   "cell_type": "markdown",
   "id": "81d4a28e",
   "metadata": {
    "hide-output": false
   },
   "source": [
    "```ipython3\n",
    "gdppc\n",
    "```\n"
   ]
  },
  {
   "cell_type": "markdown",
   "id": "47361cd4",
   "metadata": {},
   "source": [
    "Looking at the United Kingdom we can first confirm we are using the correct country code"
   ]
  },
  {
   "cell_type": "markdown",
   "id": "b5161771",
   "metadata": {
    "hide-output": false
   },
   "source": [
    "```ipython3\n",
    "code_to_name.loc['GBR']\n",
    "```\n"
   ]
  },
  {
   "cell_type": "markdown",
   "id": "e366c4bf",
   "metadata": {},
   "source": [
    "and then using that code to access and plot the data"
   ]
  },
  {
   "cell_type": "markdown",
   "id": "879d8de0",
   "metadata": {
    "hide-output": false
   },
   "source": [
    "```ipython3\n",
    "fig = plt.figure(dpi=110)\n",
    "gdppc['GBR'].plot(ax = fig.gca())\n",
    "```\n"
   ]
  },
  {
   "cell_type": "markdown",
   "id": "8e6740e8",
   "metadata": {},
   "source": [
    "We can see that the data is non-continuous for longer periods in early part of this milenium so we could choose to interpolate to get a continuous line plot."
   ]
  },
  {
   "cell_type": "markdown",
   "id": "d0476d6c",
   "metadata": {
    "hide-output": false
   },
   "source": [
    "```ipython3\n",
    "fig = plt.figure(dpi=110)\n",
    "cntry = 'GBR'\n",
    "gdppc[cntry].interpolate().plot(\n",
    "    ax = fig.gca(),\n",
    "    title = f'GDP per Capita ({cntry})',\n",
    "    ylabel = 'International $\\'s',\n",
    "    xlabel = 'Year'\n",
    ");\n",
    "```\n"
   ]
  },
  {
   "cell_type": "markdown",
   "id": "bab2686d",
   "metadata": {},
   "source": [
    ">**Note**\n",
    ">\n",
    ">[International Dollars](https://en.wikipedia.org/wiki/International_dollar) are a hypothetical unit of currency that has the same purchasing power parity that the U.S. Dollar has in the United States and any given time. They are also known as Geary–Khamis dollar (GK Dollars).\n",
    "\n",
    "As you can see from this chart economic growth started in earnest in the 18th Century and continued for the next two hundred years.\n",
    "\n",
    "How does this compare with other countries growth trajectories? Let’s look at the United States (USA), United Kingdom (GBR), and China (CHN)"
   ]
  },
  {
   "cell_type": "markdown",
   "id": "4edbd763",
   "metadata": {
    "hide-output": false
   },
   "source": [
    "```ipython3\n",
    "fig = plt.figure(dpi=110)\n",
    "ax = fig.gca()\n",
    "cntry = ['USA', 'GBR', 'CHN']\n",
    "gdppc[cntry].plot(\n",
    "    ax = ax,\n",
    "    title = f'GDP per Capita',\n",
    "    ylabel = 'International $\\'s',\n",
    "    xlabel = 'Year'\n",
    ")\n",
    "\n",
    "# Build Custom Legend\n",
    "legend_elements = [Line2D([0], [0], color='blue', lw=4, label=code_to_name.loc['USA']['country']),\n",
    "                   Line2D([0], [0], color='orange', lw=4, label=code_to_name.loc['GBR']['country']),\n",
    "                   Line2D([0], [0], color='green', lw=4, label=code_to_name.loc['CHN']['country'])]\n",
    "ax.legend(handles=legend_elements, loc='center right', bbox_to_anchor=(1.4,0.5));\n",
    "\n",
    "#TODO: Define Styles for Countries to match colors and line styles (@mmcky)\n",
    "```\n"
   ]
  },
  {
   "cell_type": "markdown",
   "id": "f5692897",
   "metadata": {},
   "source": [
    "This dataset has been carefully curated to enable cross-country comparisons.\n",
    "\n",
    "Let’s compare the growth trajectories of Australia (AUS) and Argentina (ARG)"
   ]
  },
  {
   "cell_type": "markdown",
   "id": "b1c246a8",
   "metadata": {
    "hide-output": false
   },
   "source": [
    "```ipython3\n",
    "fig = plt.figure(dpi=110)\n",
    "gdppc[['AUS', 'ARG']].plot(ax = fig.gca())\n",
    "```\n"
   ]
  },
  {
   "cell_type": "markdown",
   "id": "c174cd6f",
   "metadata": {},
   "source": [
    "As you can see the countries had similar GDP per capita levels with divergence starting around 1940. Australia’s growth experience is both more continuous and less volatile post 1940."
   ]
  },
  {
   "cell_type": "markdown",
   "id": "8438f50d",
   "metadata": {},
   "source": [
    "## The Industrialized World\n",
    "\n",
    "Now we can look at total Gross Domestic Product (GDP) rather than focusing on GDP per capita (as a proxy for living standards)."
   ]
  },
  {
   "cell_type": "markdown",
   "id": "e0b460e6",
   "metadata": {
    "hide-output": false
   },
   "source": [
    "```ipython3\n",
    "data = pd.read_excel(\"datasets/mpd2020.xlsx\", sheet_name='Full data')\n",
    "data.set_index(['countrycode', 'year'], inplace=True)\n",
    "data['gdp'] = data['gdppc'] * data['pop']\n",
    "gdp = data['gdp'].unstack('countrycode')\n",
    "```\n"
   ]
  },
  {
   "cell_type": "markdown",
   "id": "d84889a1",
   "metadata": {},
   "source": [
    "### Early Industralization (1820 to 1940)\n",
    "\n",
    "Gross Domestic Product"
   ]
  },
  {
   "cell_type": "markdown",
   "id": "9815fc60",
   "metadata": {
    "hide-output": false
   },
   "source": [
    "```ipython3\n",
    "cntry = ['DEU', 'SUN', 'USA', 'GBR', 'FRA', 'JPN', 'CHN']\n",
    "start_year, end_year = (1820,1940)\n",
    "fig = plt.figure(dpi=110)\n",
    "gdp[cntry].loc[start_year:end_year].interpolate().plot(\n",
    "    ax=fig.gca(),\n",
    ");\n",
    "```\n"
   ]
  },
  {
   "cell_type": "markdown",
   "id": "4268a4ee",
   "metadata": {},
   "source": [
    "GDP per Capita"
   ]
  },
  {
   "cell_type": "markdown",
   "id": "50e1bdbe",
   "metadata": {
    "hide-output": false
   },
   "source": [
    "```ipython3\n",
    "cntry = ['DEU', 'SUN', 'USA', 'GBR', 'FRA', 'JPN', 'CHN']\n",
    "start_year, end_year = (1820,1940)\n",
    "fig = plt.figure(dpi=110)\n",
    "gdppc[cntry].loc[start_year:end_year].interpolate().plot(\n",
    "    ax=fig.gca()\n",
    ");\n",
    "```\n"
   ]
  },
  {
   "cell_type": "markdown",
   "id": "fe9e5cab",
   "metadata": {},
   "source": [
    "## The Modern Era (1970 to 2018)\n",
    "\n",
    "Gross Domestic Product (GDP)"
   ]
  },
  {
   "cell_type": "markdown",
   "id": "0fb13593",
   "metadata": {
    "hide-output": false
   },
   "source": [
    "```ipython3\n",
    "cntry = ['DEU', 'SUN', 'USA', 'GBR', 'FRA', 'JPN', 'CHN']\n",
    "start_year, end_year = (1970, 2018)\n",
    "fig = plt.figure(dpi=110)\n",
    "gdp[cntry].loc[start_year:end_year].interpolate().plot(ax=fig.gca())\n",
    "plt.savefig(f\"plot-for-tom-gdp-{start_year}-to-{end_year}.png\", dpi=200)\n",
    "```\n"
   ]
  },
  {
   "cell_type": "markdown",
   "id": "6945e61f",
   "metadata": {},
   "source": [
    "GDP per Capita"
   ]
  },
  {
   "cell_type": "markdown",
   "id": "e698c5e8",
   "metadata": {
    "hide-output": false
   },
   "source": [
    "```ipython3\n",
    "cntry = ['DEU', 'SUN', 'USA', 'GBR', 'FRA', 'JPN', 'CHN']\n",
    "start_year, end_year = (1970, 2018)\n",
    "fig = plt.figure(dpi=110)\n",
    "gdppc[cntry].loc[start_year:end_year].interpolate().plot(\n",
    "    ax=fig.gca()\n",
    ");\n",
    "```\n"
   ]
  },
  {
   "cell_type": "markdown",
   "id": "84830a38",
   "metadata": {},
   "source": [
    "## Other Interesting Plots\n",
    "\n",
    "Here are a collection of interesting plots that could be linked to interesting stories\n",
    "\n",
    "Looking at China GDP per capita levels from 1500 through to the 1970’s showed a long period of declining GDP per capital levels from 1700’s to early 20th century. (Closed Border / Inward Looking Domestic Focused Policies?)"
   ]
  },
  {
   "cell_type": "markdown",
   "id": "111b3f98",
   "metadata": {
    "hide-output": false
   },
   "source": [
    "```ipython3\n",
    "fig = plt.figure(dpi=110)\n",
    "gdppc['CHN'].loc[1500:1980].interpolate().plot(ax=fig.gca());\n",
    "```\n"
   ]
  },
  {
   "cell_type": "markdown",
   "id": "1a84a066",
   "metadata": {},
   "source": [
    "China (CHN) then followed a very similar growth story from the 1980s through to current day China."
   ]
  },
  {
   "cell_type": "markdown",
   "id": "d200ebeb",
   "metadata": {
    "hide-output": false
   },
   "source": [
    "```ipython3\n",
    "fig = plt.figure(dpi=110)\n",
    "gdppc[['CHN', 'GBR']].interpolate().plot(ax = fig.gca())\n",
    "```\n"
   ]
  },
  {
   "cell_type": "markdown",
   "id": "4b888f82",
   "metadata": {},
   "source": [
    "## Regional Analysis"
   ]
  },
  {
   "cell_type": "markdown",
   "id": "7cb9d993",
   "metadata": {
    "hide-output": false
   },
   "source": [
    "```ipython3\n",
    "data = pd.read_excel(\"datasets/mpd2020.xlsx\", sheet_name='Regional data', header=(0,1,2), index_col=0)\n",
    "data.columns = data.columns.droplevel(level=2)\n",
    "```\n"
   ]
  },
  {
   "cell_type": "markdown",
   "id": "e25e9d3d",
   "metadata": {
    "hide-output": false
   },
   "source": [
    "```ipython3\n",
    "regionalgdppc = data['gdppc_2011'].copy()\n",
    "regionalgdppc.index = pd.to_datetime(regionalgdppc.index, format='%Y')\n",
    "```\n"
   ]
  },
  {
   "cell_type": "markdown",
   "id": "401b1122",
   "metadata": {
    "hide-output": false
   },
   "source": [
    "```ipython3\n",
    "regionalgdppc.interpolate(method='time', inplace=True)\n",
    "```\n"
   ]
  },
  {
   "cell_type": "markdown",
   "id": "6ae44889",
   "metadata": {
    "hide-output": false
   },
   "source": [
    "```ipython3\n",
    "worldgdppc = regionalgdppc['World GDP pc']\n",
    "```\n"
   ]
  },
  {
   "cell_type": "markdown",
   "id": "d2207a5b",
   "metadata": {
    "hide-output": false
   },
   "source": [
    "```ipython3\n",
    "fig = plt.figure(dpi=110)\n",
    "ax = worldgdppc.plot(\n",
    "    ax = fig.gca(),\n",
    "    title='World GDP per capita',\n",
    "    xlabel='Year',\n",
    "    ylabel='2011 US$',\n",
    ")\n",
    "```\n"
   ]
  },
  {
   "cell_type": "markdown",
   "id": "8964983b",
   "metadata": {
    "hide-output": false
   },
   "source": [
    "```ipython3\n",
    "fig = plt.figure(dpi=110)\n",
    "regionalgdppc[['Western Offshoots', 'Sub-Sahara Africa']].plot(ax = fig.gca())\n",
    "```\n"
   ]
  },
  {
   "cell_type": "markdown",
   "id": "c59050d8",
   "metadata": {
    "hide-output": false
   },
   "source": [
    "```ipython3\n",
    "fig = plt.figure(dpi=200)\n",
    "line_styles = ['-', '--', ':', '-.', '.', 'o']  # TODO: Improve this\n",
    "ax = regionalgdppc.plot(ax = fig.gca(), style=line_styles)\n",
    "plt.legend(loc='center left', bbox_to_anchor=(1.0, 0.5))\n",
    "```\n"
   ]
  },
  {
   "cell_type": "markdown",
   "id": "2bb3d68a",
   "metadata": {},
   "source": [
    "## Prior Work using World Bank Data\n",
    "\n",
    "The following code reads in the data into a pandas data frame."
   ]
  },
  {
   "cell_type": "markdown",
   "id": "24b5b395",
   "metadata": {
    "hide-output": false
   },
   "source": [
    "```ipython3\n",
    "wbi = pd.read_csv(\"datasets/GDP_per_capita_world_bank.csv\")\n",
    "```\n"
   ]
  },
  {
   "cell_type": "markdown",
   "id": "360ce100",
   "metadata": {},
   "source": [
    "### Comparison of GDP between different Income Groups\n",
    "\n",
    "A few countries from different Income Groups where chosen to compare the GDP at a more targeted level. GDP of countries from all income groups were compared.\n",
    "\n",
    "|High Income|Upper middle income|Lower middle income|Low income|\n",
    "|:-----------------------:|:-----------------------:|:-----------------------:|:-----------------------:|\n",
    "|USA|China|India|Congo|\n",
    "|Canada|Brazil|Pakistan|Uganda|\n",
    "|Australia|Fiji|Bangladesh|Yemen|\n",
    "|Japan|Jamaica|Vietnam|Afghanistan|"
   ]
  },
  {
   "cell_type": "markdown",
   "id": "a7763983",
   "metadata": {},
   "source": [
    "#### Plot for all countries\n",
    "\n",
    "We compare time series graphs of all the countries in the list. The clear separation between high income countries and other groups are clearly seen. It seems at first glance that other income groups probably have similar economies. Let’s look at that further in the following sections."
   ]
  },
  {
   "cell_type": "markdown",
   "id": "2365cac2",
   "metadata": {
    "hide-output": false
   },
   "source": [
    "```ipython3\n",
    "# USA, Canada, Australia, Japan, China, Brazil, Fiji, Jamaica, India, Pakistan, Bangladesh, Vietnam, Congo, Uganda, Yemen, Afghanistan\n",
    "country_list = ['USA', 'CAN', 'AUS', 'JPN', 'CHN', 'BRA', 'FJI', 'JAM', 'IND', 'PAK', 'BGD', 'VNM', 'COD', 'UGA', 'YEM', 'AFG']\n",
    "```\n"
   ]
  },
  {
   "cell_type": "markdown",
   "id": "994390f8",
   "metadata": {
    "hide-output": false
   },
   "source": [
    "```ipython3\n",
    "def filter_country_list_data(dataframe, country_list):\n",
    "    wbi_cl = dataframe.loc[dataframe['Country Code'].isin(country_list)]\n",
    "    wbi_cl = wbi_cl.drop(['Country Name' , 'Indicator Name', 'Indicator Code'], axis=1)\n",
    "    wbi_cl = wbi_cl.transpose()\n",
    "    wbi_cl = wbi_cl.rename(columns=wbi_cl.iloc[0])\n",
    "    wbi_cl = wbi_cl.drop(wbi_cl.index[0])\n",
    "    return wbi_cl\n",
    "```\n"
   ]
  },
  {
   "cell_type": "markdown",
   "id": "e4aa11c3",
   "metadata": {
    "hide-output": false
   },
   "source": [
    "```ipython3\n",
    "wbi_country_filtered = filter_country_list_data(wbi, country_list)\n",
    "ax = wbi_country_filtered.plot()\n",
    "ax.set_xlabel(\"year\")\n",
    "ax.set_ylabel(\"GDP per capita (current US$) \")\n",
    "```\n"
   ]
  },
  {
   "cell_type": "markdown",
   "id": "596d0940",
   "metadata": {},
   "source": [
    "#### Plot for Upper middle and lower middle income groups\n",
    "\n",
    "Now, we compare the time-series graphs of GDP per capita for  upper middle and lower middle income group countries, taking one country from each group. China and Pakistan was chosen as they are from the same region.\n",
    "On analysing the graph, the difference is quite striking from 90s onwards. But also expected, as during that time China opened up for trade and labour.\n",
    "It can be concluded that, further inspection reveals the economies are vastly different in the present time, unlike what the previous graph was suggesting."
   ]
  },
  {
   "cell_type": "markdown",
   "id": "5df5fc1f",
   "metadata": {
    "hide-output": false
   },
   "source": [
    "```ipython3\n",
    "# China, Pakistan (Upper middle income and lower middle income)\n",
    "country_list_umi_lmi = ['CHN', 'PAK']\n",
    "wbi_filtered_umi_lmi = filter_country_list_data(wbi, country_list_umi_lmi)\n",
    "ax = wbi_filtered_umi_lmi.plot()\n",
    "ax.set_xlabel(\"year\")\n",
    "ax.set_ylabel(\"GDP per capita (current US$) \")\n",
    "```\n"
   ]
  },
  {
   "cell_type": "markdown",
   "id": "580931b6",
   "metadata": {},
   "source": [
    "#### Plot for lower middle income\n",
    "\n",
    "Here, we compare the time-series graphs of GDP per capita for two lower middle income group countries. Keeping Pakistan fixed in our set, we chose Vietnam as the second country. Apart from its turbulent past, its comeback from it and a steady growing economy qualifies it to be in this set.\n",
    "From the graph, we can see that Vietnam has done quite well from around 1990 onwards, and has quite surpassed Pakistan. We can also conclude that countries in the same income groups can be also be quite different."
   ]
  },
  {
   "cell_type": "markdown",
   "id": "c16393af",
   "metadata": {
    "hide-output": false
   },
   "source": [
    "```ipython3\n",
    "# Vietnam, Pakistan (Lower middle income)\n",
    "country_list_lmi = ['VNM', 'PAK']\n",
    "wbi_filtered_lmi = filter_country_list_data(wbi, country_list_lmi)\n",
    "ax = wbi_filtered_lmi.plot()\n",
    "ax.set_xlabel(\"year\")\n",
    "ax.set_ylabel(\"GDP per capita (current US$) \")\n",
    "```\n"
   ]
  },
  {
   "cell_type": "markdown",
   "id": "26aa847d",
   "metadata": {},
   "source": [
    "#### Plot for lower middle income and low income\n",
    "\n",
    "Finally, we compare time-series graphs of GDP per capita between a lower middle income country and a low income country. Again, keeping Pakistan fixed in our set as a lower middle income country, we choose Democratic Republic of Congo as our second country from a low income group. Congo is chosen for no particular reason apart from its unstable political atmosphere and a dwindling economy.\n",
    "On comparing we see quite a bit of difference between these countries. With Pakistan’s GDP per capita being almost four times as much. Further strengthening our assumption that countries from different income groups can be quite different."
   ]
  },
  {
   "cell_type": "markdown",
   "id": "fe17537e",
   "metadata": {
    "hide-output": false
   },
   "source": [
    "```ipython3\n",
    "# Pakistan, Congo (Lower middle income, low income)\n",
    "country_list_lmi_li = ['PAK', 'COD']\n",
    "wbi_filtered_lmi = filter_country_list_data(wbi, country_list_lmi_li)\n",
    "ax = wbi_filtered_lmi.plot()\n",
    "ax.set_xlabel(\"year\")\n",
    "ax.set_ylabel(\"GDP per capita (current US$) \")\n",
    "```\n"
   ]
  },
  {
   "cell_type": "markdown",
   "id": "72d3819a",
   "metadata": {},
   "source": [
    "### Histogram comparison between 1960, 1990, 2020\n",
    "\n",
    "We compare histograms of the **log** of GDP per capita for the years 1960, 1990 and 2020 for around 170 countries. The years have been chosen to give sufficient time gap between the histograms. We see that the overall plot is shifting towards right, denoting the upward trend in GDP per capita worldwide. And also, the overall distribution is becoming more Gaussian. Which indicates that the economies have gotten more uniform over the years. Economic disparities are getting lesser possibly because of globalisation, technological advancements, better use of resources etc."
   ]
  },
  {
   "cell_type": "markdown",
   "id": "54d0ad1f",
   "metadata": {
    "hide-output": false
   },
   "source": [
    "```ipython3\n",
    "def get_log_hist(data, years):\n",
    "    filtered_data = data.filter(items=['Country Code', years[0], years[1], years[2]])\n",
    "    log_gdp = filtered_data.iloc[:,1:].transform(lambda x: np.log(x))\n",
    "    max_log_gdp = log_gdp.max(numeric_only=True).max()\n",
    "    min_log_gdp = log_gdp.min(numeric_only=True).min()\n",
    "    log_gdp.hist(bins=16, range=[min_log_gdp, max_log_gdp])\n",
    "```\n"
   ]
  },
  {
   "cell_type": "markdown",
   "id": "8d56817c",
   "metadata": {
    "hide-output": false
   },
   "source": [
    "```ipython3\n",
    "## All countries\n",
    "wbiall = wbi.drop(['Country Name' , 'Indicator Name', 'Indicator Code'], axis=1)\n",
    "get_log_hist(wbiall, ['1960', '1990', '2020'])\n",
    "```\n"
   ]
  }
 ],
 "metadata": {
  "date": 1681793182.758549,
  "filename": "long_run_growth.md",
  "kernelspec": {
   "display_name": "Python",
   "language": "python3",
   "name": "python3"
  },
  "title": "Long Run Growth"
 },
 "nbformat": 4,
 "nbformat_minor": 5
}