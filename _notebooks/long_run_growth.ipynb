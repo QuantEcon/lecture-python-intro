{
 "cells": [
  {
   "cell_type": "markdown",
   "id": "03a220b2",
   "metadata": {},
   "source": [
    "# Economic Growth Evidence"
   ]
  },
  {
   "cell_type": "markdown",
   "id": "83dfbe5d",
   "metadata": {},
   "source": [
    "## Overview\n",
    "\n",
    "Adam Tooze’s account of the geopolitical precedents and antecedents of World War I includes a comparison of how Gross National Products of European Great Powers had evolved during the 70 years preceding 1914 (see chapter 1 of [[Too14](https://intro.quantecon.org/zreferences.html#id8)]).\n",
    "\n",
    "We construct a version of Tooze’s graph later in this lecture.\n",
    "\n",
    "(An impatient reader can jump ahead and look at figure Fig. 2.6.)\n",
    "\n",
    "Looking at his graph and how it set the geopolitical stage for “the American (20th) century” naturally\n",
    "tempts one to want a counterpart to his graph for 2014 or later.\n",
    "\n",
    "(An impatient reader might now want to jump ahead and look at figure Fig. 2.7.)\n",
    "\n",
    "As we’ll see, reasoning  by analogy, this graph perhaps set the stage for an “XXX (21st) century”, where you are free to fill in your guess for country XXX.\n",
    "\n",
    "As we gather data to construct those two graphs, we’ll also study growth experiences for a number of countries for time horizons extending as far back as possible.\n",
    "\n",
    "These graphs will portray how the “Industrial Revolution” began in Britain in the late 18th century, then migrated to one country after another.\n",
    "\n",
    "In a nutshell, this lecture records growth trajectories of various countries over long time periods.\n",
    "\n",
    "While some countries have experienced long term rapid growth across that has lasted a hundred years, others have not.\n",
    "\n",
    "Since populations differ across countries and vary within a country over time, it will\n",
    "be interesting to describe both total GDP and GDP per capita as it evolves within a country.\n",
    "\n",
    "First let’s import the packages needed to explore what the data says about long run growth"
   ]
  },
  {
   "cell_type": "code",
   "execution_count": null,
   "id": "3b647605",
   "metadata": {
    "hide-output": false
   },
   "outputs": [],
   "source": [
    "import pandas as pd\n",
    "import os\n",
    "import matplotlib as mpl\n",
    "import matplotlib.pyplot as plt\n",
    "import matplotlib.cm as cm\n",
    "import numpy as np\n",
    "from collections import namedtuple\n",
    "from matplotlib.lines import Line2D"
   ]
  },
  {
   "cell_type": "markdown",
   "id": "3b1368b6",
   "metadata": {},
   "source": [
    "## Setting up\n",
    "\n",
    "A project initiated by [Angus Maddison](https://en.wikipedia.org/wiki/Angus_Maddison) has collected many historical time series related to economic growth,\n",
    "some dating back to the first century.\n",
    "\n",
    "The data can be downloaded from the [Maddison Historical Statistics webpage](https://www.rug.nl/ggdc/historicaldevelopment/maddison/) by clicking on the “Latest Maddison Project Release”.\n",
    "\n",
    "For convenience, here is a copy of the <a href=datasets/mpd2020.xlsx download>2020 data</a> in `Excel` format.\n",
    "\n",
    "Let’s read it into a pandas dataframe:"
   ]
  },
  {
   "cell_type": "code",
   "execution_count": null,
   "id": "b9b8f077",
   "metadata": {
    "hide-output": false
   },
   "outputs": [],
   "source": [
    "data = pd.read_excel(\"datasets/mpd2020.xlsx\", sheet_name='Full data')\n",
    "data"
   ]
  },
  {
   "cell_type": "markdown",
   "id": "c5c159d1",
   "metadata": {},
   "source": [
    "We can see that this dataset contains GDP per capita (gdppc) and population (pop) for many countries and years.\n",
    "\n",
    "Let’s look at how many and which countries are available in this dataset"
   ]
  },
  {
   "cell_type": "code",
   "execution_count": null,
   "id": "d4ca0df1",
   "metadata": {
    "hide-output": false
   },
   "outputs": [],
   "source": [
    "len(data.country.unique())"
   ]
  },
  {
   "cell_type": "markdown",
   "id": "e27b8b23",
   "metadata": {},
   "source": [
    "We can now explore some of the 169 countries that are available.\n",
    "\n",
    "Let’s loop over each country to understand which years are available for each country"
   ]
  },
  {
   "cell_type": "code",
   "execution_count": null,
   "id": "18456e60",
   "metadata": {
    "hide-output": false
   },
   "outputs": [],
   "source": [
    "cntry_years = []\n",
    "for cntry in data.country.unique():\n",
    "    cy_data = data[data.country == cntry]['year']\n",
    "    ymin, ymax = cy_data.min(), cy_data.max()\n",
    "    cntry_years.append((cntry, ymin, ymax))\n",
    "cntry_years = pd.DataFrame(cntry_years, columns=['country', 'Min Year', 'Max Year']).set_index('country')\n",
    "cntry_years"
   ]
  },
  {
   "cell_type": "markdown",
   "id": "f1c8b9b4",
   "metadata": {},
   "source": [
    "Let’s now reshape the original data into some convenient variables to enable quicker access to countries time series data.\n",
    "\n",
    "We can build a useful mapping between country codes and country names in this dataset"
   ]
  },
  {
   "cell_type": "code",
   "execution_count": null,
   "id": "ed84d646",
   "metadata": {
    "hide-output": false
   },
   "outputs": [],
   "source": [
    "code_to_name = data[['countrycode','country']].drop_duplicates().reset_index(drop=True).set_index(['countrycode'])"
   ]
  },
  {
   "cell_type": "markdown",
   "id": "b30ed865",
   "metadata": {},
   "source": [
    "Then we can quickly focus on GDP per capita (gdp)"
   ]
  },
  {
   "cell_type": "code",
   "execution_count": null,
   "id": "e9d2783b",
   "metadata": {
    "hide-output": false
   },
   "outputs": [],
   "source": [
    "data"
   ]
  },
  {
   "cell_type": "code",
   "execution_count": null,
   "id": "e72d4a2d",
   "metadata": {
    "hide-output": false
   },
   "outputs": [],
   "source": [
    "gdppc = data.set_index(['countrycode','year'])['gdppc']\n",
    "gdppc = gdppc.unstack('countrycode')"
   ]
  },
  {
   "cell_type": "code",
   "execution_count": null,
   "id": "88e28151",
   "metadata": {
    "hide-output": false
   },
   "outputs": [],
   "source": [
    "gdppc"
   ]
  },
  {
   "cell_type": "markdown",
   "id": "31122381",
   "metadata": {},
   "source": [
    "We create a color mapping between country codes and colors for consistency"
   ]
  },
  {
   "cell_type": "code",
   "execution_count": null,
   "id": "d9ff5c1b",
   "metadata": {
    "hide-output": false
   },
   "outputs": [],
   "source": [
    "country_names = data['countrycode']\n",
    "\n",
    "# Generate a colormap with the number of colors matching the number of countries\n",
    "colors = cm.Dark2(np.linspace(0, 0.8, len(country_names)))\n",
    "\n",
    "# Create a dictionary to map each country to its corresponding color\n",
    "color_mapping = {country: color for country, color in zip(country_names, colors)}"
   ]
  },
  {
   "cell_type": "markdown",
   "id": "d4a8caa2",
   "metadata": {},
   "source": [
    "## GPD plots\n",
    "\n",
    "Looking at the United Kingdom we can first confirm we are using the correct country code"
   ]
  },
  {
   "cell_type": "code",
   "execution_count": null,
   "id": "6c8206fb",
   "metadata": {
    "hide-output": false
   },
   "outputs": [],
   "source": [
    "fig, ax = plt.subplots(dpi=300)\n",
    "cntry = 'GBR'\n",
    "_ = gdppc[cntry].plot(\n",
    "    ax = fig.gca(),\n",
    "    ylabel = 'International $\\'s',\n",
    "    xlabel = 'Year',\n",
    "    linestyle='-',\n",
    "    color=color_mapping['GBR'])"
   ]
  },
  {
   "cell_type": "markdown",
   "id": "2b224302",
   "metadata": {},
   "source": [
    ">**Note**\n",
    ">\n",
    ">[International Dollars](https://en.wikipedia.org/wiki/International_dollar) are a hypothetical unit of currency that has the same purchasing power parity that the U.S. Dollar has in the United States at any given time. They are also known as Geary–Khamis dollars (GK Dollars).\n",
    "\n",
    "We can see that the data is non-continuous for longer periods in the early 250 years of this millennium, so we could choose to interpolate to get a continuous line plot.\n",
    "\n",
    "Here we use dashed lines to indicate interpolated trends"
   ]
  },
  {
   "cell_type": "code",
   "execution_count": null,
   "id": "900161f6",
   "metadata": {
    "hide-output": false
   },
   "outputs": [],
   "source": [
    "fig, ax = plt.subplots(dpi=300)\n",
    "cntry = 'GBR'\n",
    "ax.plot(gdppc[cntry].interpolate(),\n",
    "        linestyle='--',\n",
    "        lw=2,\n",
    "        color=color_mapping[cntry])\n",
    "\n",
    "ax.plot(gdppc[cntry],\n",
    "        linestyle='-',\n",
    "        lw=2,\n",
    "        color=color_mapping[cntry])\n",
    "ax.set_ylabel('International $\\'s')\n",
    "ax.set_xlabel('Year')\n",
    "plt.show()"
   ]
  },
  {
   "cell_type": "markdown",
   "id": "e0180392",
   "metadata": {},
   "source": [
    "We can now put this into a function to generate plots for a list of countries"
   ]
  },
  {
   "cell_type": "code",
   "execution_count": null,
   "id": "e06b559a",
   "metadata": {
    "hide-output": false
   },
   "outputs": [],
   "source": [
    "def draw_interp_plots(series, ylabel, xlabel, color_mapping, code_to_name, lw, logscale, ax):\n",
    "\n",
    "    for i, c in enumerate(cntry):\n",
    "        # Get the interpolated data\n",
    "        df_interpolated = series[c].interpolate(limit_area='inside')\n",
    "        interpolated_data = df_interpolated[series[c].isnull()]\n",
    "\n",
    "        # Plot the interpolated data with dashed lines\n",
    "        ax.plot(interpolated_data,\n",
    "                linestyle='--',\n",
    "                lw=lw,\n",
    "                alpha=0.7,\n",
    "                color=color_mapping[c])\n",
    "\n",
    "        # Plot the non-interpolated data with solid lines\n",
    "        ax.plot(series[c],\n",
    "                linestyle='-',\n",
    "                lw=lw,\n",
    "                color=color_mapping[c],\n",
    "                alpha=0.8,\n",
    "                label=code_to_name.loc[c]['country'])\n",
    "        \n",
    "        if logscale == True:\n",
    "            ax.set_yscale('log')\n",
    "    \n",
    "    # Draw the legend outside the plot\n",
    "    ax.legend(loc='lower center', ncol=5, bbox_to_anchor=[0.5, -0.25])\n",
    "    ax.set_ylabel(ylabel)\n",
    "    ax.set_xlabel(xlabel)\n",
    "    \n",
    "    return ax"
   ]
  },
  {
   "cell_type": "markdown",
   "id": "e465eb20",
   "metadata": {},
   "source": [
    "As you can see from this chart, economic growth started in earnest in the 18th century and continued for the next two hundred years.\n",
    "\n",
    "How does this compare with other countries’ growth trajectories?\n",
    "\n",
    "Let’s look at the United States (USA), United Kingdom (GBR), and China (CHN)"
   ]
  },
  {
   "cell_type": "code",
   "execution_count": null,
   "id": "7ed9ec5b",
   "metadata": {
    "hide-output": false
   },
   "outputs": [],
   "source": [
    "# Define the namedtuple for the events\n",
    "Event = namedtuple('Event', ['year_range', 'y_text', 'text', 'color', 'ymax'])\n",
    "\n",
    "fig, ax = plt.subplots(dpi=300, figsize=(10, 6))\n",
    "\n",
    "cntry = ['CHN', 'GBR', 'USA']\n",
    "ax = draw_interp_plots(gdppc[cntry].loc[1500:],\n",
    "    'International $\\'s','Year',\n",
    "    color_mapping, code_to_name, 2, False, ax)\n",
    "\n",
    "# Define the parameters for the events and the text\n",
    "ylim = ax.get_ylim()[1]\n",
    "b_params = {'color':'grey', 'alpha': 0.2}\n",
    "t_params = {'fontsize': 9, \n",
    "            'va':'center', 'ha':'center'}\n",
    "\n",
    "# Create a list of events to annotate\n",
    "events = [\n",
    "    Event((1650, 1652), ylim + ylim*0.04, \n",
    "          'the Navigation Act\\n(1651)',\n",
    "          color_mapping['GBR'], 1),\n",
    "    Event((1655, 1684), ylim + ylim*0.13, \n",
    "          'Closed-door Policy\\n(1655-1684)', \n",
    "          color_mapping['CHN'], 1.1),\n",
    "    Event((1848, 1850), ylim + ylim*0.22,\n",
    "          'the Repeal of Navigation Act\\n(1849)', \n",
    "          color_mapping['GBR'], 1.18),\n",
    "    Event((1765, 1791), ylim + ylim*0.04, \n",
    "          'American Revolution\\n(1765-1791)', \n",
    "          color_mapping['USA'], 1),\n",
    "    Event((1760, 1840), ylim + ylim*0.13, \n",
    "          'Industrial Revolution\\n(1760-1840)', \n",
    "          'grey', 1.1),\n",
    "    Event((1929, 1939), ylim + ylim*0.04, \n",
    "          'the Great Depression\\n(1929–1939)', \n",
    "          'grey', 1),\n",
    "    Event((1978, 1979), ylim + ylim*0.13, \n",
    "          'Reform and Opening-up\\n(1978-1979)', \n",
    "          color_mapping['CHN'], 1.1)\n",
    "]\n",
    "\n",
    "def draw_events(events, ax):\n",
    "    # Iterate over events and add annotations and vertical lines\n",
    "    for event in events:\n",
    "        event_mid = sum(event.year_range)/2\n",
    "        ax.text(event_mid, \n",
    "                event.y_text, event.text, \n",
    "                color=event.color, **t_params)\n",
    "        ax.axvspan(*event.year_range, color=event.color, alpha=0.2)\n",
    "        ax.axvline(event_mid, ymin=1, \n",
    "        ymax=event.ymax, color=event.color, \n",
    "        linestyle='-', clip_on=False, alpha=0.15)\n",
    "        \n",
    "# Draw events\n",
    "draw_events(events, ax)\n",
    "plt.show()"
   ]
  },
  {
   "cell_type": "markdown",
   "id": "a2e7f669",
   "metadata": {},
   "source": [
    "The preceding graph of per capita GDP strikingly reveals how the spread of the industrial revolution has over time gradually lifted the living standards of substantial\n",
    "groups of people\n",
    "\n",
    "- most of the growth happened in the past 150 years after the industrial revolution.  \n",
    "- per capita GDP in the US and UK rose and diverged from that of China from 1820 to 1940.  \n",
    "- the gap has closed rapidly after 1950 and especially after the late 1970s.  \n",
    "- these outcomes reflect complicated combinations of technological and economic-policy factors that students of economic growth try to understand and quantify.  \n",
    "\n",
    "\n",
    "It is fascinating to see China’s GDP per capita levels from 1500 through to the 1970s.\n",
    "\n",
    "Notice the long period of declining GDP per capital levels from the 1700s until the early 20th century.\n",
    "\n",
    "Thus, the graph indicates\n",
    "\n",
    "- a long economic downturn and stagnation after the Closed-door Policy by the Qing government.  \n",
    "- China’s very different experience than the UK’s after the onset of the industrial revolution in the UK.  \n",
    "- how the Self-Strengthening Movement seemed mostly to help China to grow.  \n",
    "- how stunning have been the growth achievements of modern Chinese economic policies by the PRC that culminated with its late 1970s reform and liberalization.  "
   ]
  },
  {
   "cell_type": "code",
   "execution_count": null,
   "id": "d56e8280",
   "metadata": {
    "hide-output": false
   },
   "outputs": [],
   "source": [
    "fig, ax = plt.subplots(dpi=300, figsize=(10, 6))\n",
    "\n",
    "cntry = ['CHN']\n",
    "ax = draw_interp_plots(gdppc[cntry].loc[1600:2000],\n",
    "    'International $\\'s','Year',\n",
    "    color_mapping, code_to_name, 2, True, ax)\n",
    "\n",
    "ylim = ax.get_ylim()[1]\n",
    "\n",
    "events = [\n",
    "Event((1655, 1684), ylim + ylim*0.06, \n",
    "      'Closed-door Policy\\n(1655-1684)', \n",
    "      'tab:orange', 1),\n",
    "Event((1760, 1840), ylim + ylim*0.06, \n",
    "      'Industrial Revolution\\n(1760-1840)', \n",
    "      'grey', 1),\n",
    "Event((1839, 1842), ylim + ylim*0.2, \n",
    "      'First Opium War\\n(1839–1842)', \n",
    "      'tab:red', 1.07),\n",
    "Event((1861, 1895), ylim + ylim*0.4, \n",
    "      'Self-Strengthening Movement\\n(1861–1895)', \n",
    "      'tab:blue', 1.14),\n",
    "Event((1939, 1945), ylim + ylim*0.06, \n",
    "      'WW 2\\n(1939-1945)', \n",
    "      'tab:red', 1),\n",
    "Event((1948, 1950), ylim + ylim*0.23, \n",
    "      'Founding of PRC\\n(1949)', \n",
    "      color_mapping['CHN'], 1.08),\n",
    "Event((1958, 1962), ylim + ylim*0.5, \n",
    "      'Great Leap Forward\\n(1958-1962)', \n",
    "      'tab:orange', 1.18),\n",
    "Event((1978, 1979), ylim + ylim*0.7, \n",
    "      'Reform and Opening-up\\n(1978-1979)', \n",
    "      'tab:blue', 1.24)\n",
    "]\n",
    "\n",
    "# Draw events\n",
    "draw_events(events, ax)\n",
    "plt.show()"
   ]
  },
  {
   "cell_type": "markdown",
   "id": "de11b91b",
   "metadata": {},
   "source": [
    "We can also look at the United States (USA) and United Kingdom (GBR) in more detail\n",
    "\n",
    "In the following graph, please watch for\n",
    "\n",
    "- impact of trade policy (Navigation Act).  \n",
    "- productivity changes brought by the industrial revolution.  \n",
    "- how the US gradually approaches and then surpasses the UK, setting the stage for the ‘‘American Century’’.  \n",
    "- the often unanticipated consequences of wars.  \n",
    "- interruptions and scars left by [business cycle](https://intro.quantecon.org/business_cycle.html) recessions and depressions.  "
   ]
  },
  {
   "cell_type": "code",
   "execution_count": null,
   "id": "6d929549",
   "metadata": {
    "hide-output": false
   },
   "outputs": [],
   "source": [
    "fig, ax = plt.subplots(dpi=300, figsize=(10, 6))\n",
    "\n",
    "cntry = ['GBR', 'USA']\n",
    "ax = draw_interp_plots(gdppc[cntry].loc[1500:2000],\n",
    "    'International $\\'s','Year',\n",
    "    color_mapping, code_to_name, 2, True, ax)\n",
    "\n",
    "ylim = ax.get_ylim()[1]\n",
    "\n",
    "# Create a list of data points=\n",
    "events = [\n",
    "    Event((1651, 1651), ylim + ylim*0.15, \n",
    "          'Navigation Act (UK)\\n(1651)', \n",
    "          'tab:orange', 1),\n",
    "    Event((1765, 1791), ylim + ylim*0.15, \n",
    "          'American Revolution\\n(1765-1791)',\n",
    "          color_mapping['USA'], 1),\n",
    "    Event((1760, 1840), ylim + ylim*0.6, \n",
    "          'Industrial Revolution\\n(1760-1840)', \n",
    "          'grey', 1.08),\n",
    "    Event((1848, 1850), ylim + ylim*1.1, \n",
    "          'Repeal of Navigation Act (UK)\\n(1849)', \n",
    "          'tab:blue', 1.14),\n",
    "    Event((1861, 1865), ylim + ylim*1.8, \n",
    "          'American Civil War\\n(1861-1865)', \n",
    "          color_mapping['USA'], 1.21),\n",
    "    Event((1914, 1918), ylim + ylim*0.15, \n",
    "          'WW 1\\n(1914-1918)', \n",
    "          'tab:red', 1),\n",
    "    Event((1929, 1939), ylim + ylim*0.6, \n",
    "          'the Great Depression\\n(1929–1939)', \n",
    "          'grey', 1.08),\n",
    "    Event((1939, 1945), ylim + ylim*1.1, \n",
    "          'WW 2\\n(1939-1945)', \n",
    "          'tab:red', 1.14)\n",
    "]\n",
    "\n",
    "# Draw events\n",
    "draw_events(events, ax)\n",
    "plt.show()"
   ]
  },
  {
   "cell_type": "markdown",
   "id": "bd01f6e3",
   "metadata": {},
   "source": [
    "## The industrialized world\n",
    "\n",
    "Now we’ll construct some graphs of interest to geopolitical historians like Adam Tooze.\n",
    "\n",
    "We’ll focus on total Gross Domestic Product (GDP) (as a proxy for ‘‘national geopolitical-military power’’) rather than focusing on GDP per capita (as a proxy for living standards)."
   ]
  },
  {
   "cell_type": "code",
   "execution_count": null,
   "id": "0aed2ab4",
   "metadata": {
    "hide-output": false
   },
   "outputs": [],
   "source": [
    "data = pd.read_excel(\"datasets/mpd2020.xlsx\", sheet_name='Full data')\n",
    "data.set_index(['countrycode', 'year'], inplace=True)\n",
    "data['gdp'] = data['gdppc'] * data['pop']\n",
    "gdp = data['gdp'].unstack('countrycode')"
   ]
  },
  {
   "cell_type": "markdown",
   "id": "903eaaaa",
   "metadata": {},
   "source": [
    "### Early industrialization (1820 to 1940)\n",
    "\n",
    "We first visualize the trend of China, the Former Soviet Union, Japan, the UK and the US.\n",
    "\n",
    "The most notable trend is the rise of the US, surpassing the UK in the 1860s and China in the 1880s.\n",
    "\n",
    "The growth continued until the large dip in the 1930s when the Great Depression hit.\n",
    "\n",
    "Meanwhile, Russia experienced significant setbacks during World War I and recovered significantly after the February Revolution."
   ]
  },
  {
   "cell_type": "code",
   "execution_count": null,
   "id": "4e670846",
   "metadata": {
    "hide-output": false
   },
   "outputs": [],
   "source": [
    "fig, ax = plt.subplots(dpi=300)\n",
    "ax = fig.gca()\n",
    "cntry = ['CHN', 'SUN', 'JPN', 'GBR', 'USA']\n",
    "start_year, end_year = (1820, 1940)\n",
    "ax = draw_interp_plots(gdp[cntry].loc[start_year:end_year],\n",
    "    'International $\\'s','Year',\n",
    "    color_mapping, code_to_name, 2, False, ax)"
   ]
  },
  {
   "cell_type": "markdown",
   "id": "2bcd20d7",
   "metadata": {},
   "source": [
    "### The modern era (1950 to 2020)\n",
    "\n",
    "The following graph displays how quickly China has grown, especially since the late 1970s."
   ]
  },
  {
   "cell_type": "code",
   "execution_count": null,
   "id": "f7c69ed1",
   "metadata": {
    "hide-output": false
   },
   "outputs": [],
   "source": [
    "fig, ax = plt.subplots(dpi=300)\n",
    "ax = fig.gca()\n",
    "cntry = ['CHN', 'SUN', 'JPN', 'GBR', 'USA']\n",
    "start_year, end_year = (1950, 2020)\n",
    "ax = draw_interp_plots(gdp[cntry].loc[start_year:end_year],\n",
    "    'International $\\'s','Year',\n",
    "    color_mapping, code_to_name, 2, False, ax)"
   ]
  },
  {
   "cell_type": "markdown",
   "id": "9a6247c4",
   "metadata": {},
   "source": [
    "It is tempting to compare this graph with  figure  Fig. 2.6 that showed the US overtaking the UK near the start of the “American Century”, a version of the graph featured in chapter 1 of  [[Too14](https://intro.quantecon.org/zreferences.html#id8)]."
   ]
  },
  {
   "cell_type": "markdown",
   "id": "7251e94c",
   "metadata": {},
   "source": [
    "## Regional analysis\n",
    "\n",
    "We often want to study historical experiences of countries outside the club of “World Powers”.\n",
    "\n",
    "Fortunately, the [Maddison Historical Statistics](https://www.rug.nl/ggdc/historicaldevelopment/maddison/) dataset also includes regional aggregations"
   ]
  },
  {
   "cell_type": "code",
   "execution_count": null,
   "id": "634da865",
   "metadata": {
    "hide-output": false
   },
   "outputs": [],
   "source": [
    "data = pd.read_excel(\"datasets/mpd2020.xlsx\", sheet_name='Regional data', header=(0,1,2), index_col=0)\n",
    "data.columns = data.columns.droplevel(level=2)"
   ]
  },
  {
   "cell_type": "markdown",
   "id": "aef02d37",
   "metadata": {},
   "source": [
    "We can save the raw data in a more convenient format to build a single table of regional GDP per capita"
   ]
  },
  {
   "cell_type": "code",
   "execution_count": null,
   "id": "f63314a7",
   "metadata": {
    "hide-output": false
   },
   "outputs": [],
   "source": [
    "regionalgdppc = data['gdppc_2011'].copy()\n",
    "regionalgdppc.index = pd.to_datetime(regionalgdppc.index, format='%Y')"
   ]
  },
  {
   "cell_type": "markdown",
   "id": "2bb68c23",
   "metadata": {},
   "source": [
    "Let’s interpolate based on time to fill in any gaps in the dataset for the purpose of plotting"
   ]
  },
  {
   "cell_type": "code",
   "execution_count": null,
   "id": "e4dfb519",
   "metadata": {
    "hide-output": false
   },
   "outputs": [],
   "source": [
    "regionalgdppc.interpolate(method='time', inplace=True)"
   ]
  },
  {
   "cell_type": "markdown",
   "id": "5daea131",
   "metadata": {},
   "source": [
    "and record a dataset of world GDP per capita"
   ]
  },
  {
   "cell_type": "code",
   "execution_count": null,
   "id": "012dcc61",
   "metadata": {
    "hide-output": false
   },
   "outputs": [],
   "source": [
    "worldgdppc = regionalgdppc['World GDP pc']"
   ]
  },
  {
   "cell_type": "code",
   "execution_count": null,
   "id": "ae290a8a",
   "metadata": {
    "hide-output": false
   },
   "outputs": [],
   "source": [
    "fig = plt.figure(dpi=300)\n",
    "ax = fig.gca()\n",
    "ax = worldgdppc.plot(\n",
    "    ax = ax,\n",
    "    xlabel='Year',\n",
    "    ylabel='2011 US$',\n",
    ")"
   ]
  },
  {
   "cell_type": "markdown",
   "id": "d38197aa",
   "metadata": {},
   "source": [
    "Looking more closely, let’s compare the time series for `Western Offshoots` and `Sub-Saharan Africa` and more broadly at a number of different regions around the world.\n",
    "\n",
    "Again we see the divergence of the West from the rest of the world after the industrial revolution and the convergence of the world after the 1950s"
   ]
  },
  {
   "cell_type": "code",
   "execution_count": null,
   "id": "44e426e0",
   "metadata": {
    "hide-output": false
   },
   "outputs": [],
   "source": [
    "fig = plt.figure(dpi=300)\n",
    "ax = fig.gca()\n",
    "line_styles = ['-', '--', ':', '-.', '.', 'o', '-', '--', '-']\n",
    "ax = regionalgdppc.plot(ax = ax, style=line_styles)\n",
    "ax.set_yscale('log')\n",
    "plt.legend(loc='lower center', \n",
    "ncol=3, bbox_to_anchor=[0.5, -0.4])\n",
    "plt.show()"
   ]
  }
 ],
 "metadata": {
  "date": 1688620730.2054422,
  "filename": "long_run_growth.md",
  "kernelspec": {
   "display_name": "Python",
   "language": "python3",
   "name": "python3"
  },
  "title": "Economic Growth Evidence"
 },
 "nbformat": 4,
 "nbformat_minor": 5
}