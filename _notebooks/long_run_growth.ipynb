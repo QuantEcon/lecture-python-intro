{
 "cells": [
  {
   "cell_type": "markdown",
   "id": "bec068c5",
   "metadata": {},
   "source": [
    "# Economic Growth Evidence"
   ]
  },
  {
   "cell_type": "markdown",
   "id": "662cd9f9",
   "metadata": {},
   "source": [
    "## Overview\n",
    "\n",
    "Adam Tooze’s account of the geopolitical precedents and antecedents of World War I  includes a comparison of how Gross National Products of European Great Powers had evolved during the 70 years preceding 1914 (see chapter 1 of [[Too14](zreferences.ipynb#id3)]).\n",
    "\n",
    "We report a version of Tooze’s graph later in this lecture.\n",
    "\n",
    "Looking at his graph and how it set the geopolitical stage for “the American (20th) century” naturally\n",
    "tempts one to want a counterpart to his graph for 2014 or later.\n",
    "\n",
    "As we’ll see, reasoning just by analogy, this graph perhaps set the stage for an “XXX (21st) century”, where you get to fill in a country for our XXX.\n",
    "\n",
    "As we gather data to construct those two graphs, we’ll also study growth experiences for a number of countries for time horizons extending as far back as possible.\n",
    "\n",
    "These graphs will portray how the “Industrial Revolution” began in Britain in the late 18th century, then migrated to one country after another.\n",
    "\n",
    "In a nutshell, this  lecture records  growth trajectories of various  countries over long time periods.\n",
    "\n",
    "While some countries have experienced long term rapid growth across that has lasted a hundred years, others have not.\n",
    "\n",
    "Since populations differ across country and within a country vary over time, it will\n",
    "be interesting to describe both total GDP and GDP per capita as it evolves within a country.\n",
    "\n",
    "First let’s import the packages needed to explore what the data says about long run growth"
   ]
  },
  {
   "cell_type": "markdown",
   "id": "f6c8ffee",
   "metadata": {
    "hide-output": false
   },
   "source": [
    "```ipython3\n",
    "import pandas as pd\n",
    "import os\n",
    "import matplotlib as mpl\n",
    "import matplotlib.pyplot as plt\n",
    "import matplotlib.cm as cm\n",
    "import numpy as np\n",
    "from collections import namedtuple\n",
    "from matplotlib.lines import Line2D\n",
    "```\n"
   ]
  },
  {
   "cell_type": "markdown",
   "id": "d833be0f",
   "metadata": {},
   "source": [
    "## Setting up\n",
    "\n",
    "A project initiated by [Angus Maddison](https://en.wikipedia.org/wiki/Angus_Maddison) has collected many historical time series related to economic growth,\n",
    "some dating back to the first century.\n",
    "\n",
    "The data can be downloaded from the [Maddison Historical Statistics webpage](https://www.rug.nl/ggdc/historicaldevelopment/maddison/) by clicking on the “Latest Maddison Project Release”.\n",
    "\n",
    "For convenience, here is a copy of the 2020 data <a href=datasets/mpd2020.xlsx download>in Excel format</a>.\n",
    "\n",
    "Let’s read it into a pandas dataframe:"
   ]
  },
  {
   "cell_type": "markdown",
   "id": "0af9ab23",
   "metadata": {
    "hide-output": false
   },
   "source": [
    "```ipython3\n",
    "data = pd.read_excel(\"datasets/mpd2020.xlsx\", sheet_name='Full data')\n",
    "data\n",
    "```\n"
   ]
  },
  {
   "cell_type": "markdown",
   "id": "44212d4a",
   "metadata": {},
   "source": [
    "We can see that this dataset contains GDP per capita (gdppc) and population (pop) for many countries and years.\n",
    "\n",
    "Let’s look at how many and which countries are available in this dataset"
   ]
  },
  {
   "cell_type": "markdown",
   "id": "746da0b2",
   "metadata": {
    "hide-output": false
   },
   "source": [
    "```ipython3\n",
    "len(data.country.unique())\n",
    "```\n"
   ]
  },
  {
   "cell_type": "markdown",
   "id": "ef94db7d",
   "metadata": {},
   "source": [
    "We can now explore some of the 169 countries that are available.\n",
    "\n",
    "Let’s loop over each country to understand which years are available for each country"
   ]
  },
  {
   "cell_type": "markdown",
   "id": "048a0712",
   "metadata": {
    "hide-output": false
   },
   "source": [
    "```ipython3\n",
    "cntry_years = []\n",
    "for cntry in data.country.unique():\n",
    "    cy_data = data[data.country == cntry]['year']\n",
    "    ymin, ymax = cy_data.min(), cy_data.max()\n",
    "    cntry_years.append((cntry, ymin, ymax))\n",
    "cntry_years = pd.DataFrame(cntry_years, columns=['country', 'Min Year', 'Max Year']).set_index('country')\n",
    "cntry_years\n",
    "```\n"
   ]
  },
  {
   "cell_type": "markdown",
   "id": "337b3ee8",
   "metadata": {},
   "source": [
    "Let’s now reshape the original data into some convenient variables to enable quicker access to countries time series data.\n",
    "\n",
    "We can build a useful mapping between country code’s and country names in this dataset"
   ]
  },
  {
   "cell_type": "markdown",
   "id": "d48a8fcd",
   "metadata": {
    "hide-output": false
   },
   "source": [
    "```ipython3\n",
    "code_to_name = data[['countrycode','country']].drop_duplicates().reset_index(drop=True).set_index(['countrycode'])\n",
    "```\n"
   ]
  },
  {
   "cell_type": "markdown",
   "id": "039d43a7",
   "metadata": {},
   "source": [
    "Then we can quickly focus on GDP per capita (gdp)"
   ]
  },
  {
   "cell_type": "markdown",
   "id": "f463d912",
   "metadata": {
    "hide-output": false
   },
   "source": [
    "```ipython3\n",
    "data\n",
    "```\n"
   ]
  },
  {
   "cell_type": "markdown",
   "id": "3d7a764a",
   "metadata": {
    "hide-output": false
   },
   "source": [
    "```ipython3\n",
    "gdppc = data.set_index(['countrycode','year'])['gdppc']\n",
    "gdppc = gdppc.unstack('countrycode')\n",
    "```\n"
   ]
  },
  {
   "cell_type": "markdown",
   "id": "b4c7e37a",
   "metadata": {
    "hide-output": false
   },
   "source": [
    "```ipython3\n",
    "gdppc\n",
    "```\n"
   ]
  },
  {
   "cell_type": "markdown",
   "id": "e67f5cb0",
   "metadata": {},
   "source": [
    "We create a color mapping between country codes and colors for consistency"
   ]
  },
  {
   "cell_type": "markdown",
   "id": "d8a03a86",
   "metadata": {
    "hide-output": false
   },
   "source": [
    "```ipython3\n",
    "country_names = data['countrycode']\n",
    "\n",
    "# Generate a colormap with the number of colors matching the number of countries\n",
    "colors = cm.Dark2(np.linspace(0, 0.8, len(country_names)))\n",
    "\n",
    "# Create a dictionary to map each country to its corresponding color\n",
    "color_mapping = {country: color for country, color in zip(country_names, colors)}\n",
    "```\n"
   ]
  },
  {
   "cell_type": "markdown",
   "id": "139c8ea4",
   "metadata": {},
   "source": [
    "## GPD Plots\n",
    "\n",
    "Looking at the United Kingdom we can first confirm we are using the correct country code"
   ]
  },
  {
   "cell_type": "markdown",
   "id": "ec46ee4c",
   "metadata": {
    "hide-output": false
   },
   "source": [
    "```ipython3\n",
    "fig, ax = plt.subplots(dpi=300)\n",
    "cntry = 'GBR'\n",
    "_ = gdppc[cntry].plot(\n",
    "    ax = fig.gca(),\n",
    "    ylabel = 'International $\\'s',\n",
    "    xlabel = 'Year',\n",
    "    linestyle='-',\n",
    "    color=color_mapping['GBR'])\n",
    "```\n"
   ]
  },
  {
   "cell_type": "markdown",
   "id": "745114ba",
   "metadata": {},
   "source": [
    ">**Note**\n",
    ">\n",
    ">[International Dollars](https://en.wikipedia.org/wiki/International_dollar) are a hypothetical unit of currency that has the same purchasing power parity that the U.S. Dollar has in the United States at any given time. They are also known as Geary–Khamis dollars (GK Dollars).\n",
    "\n",
    "We can see that the data is non-continuous for longer periods in the early part of this millennium, so we could choose to interpolate to get a continuous line plot.\n",
    "\n",
    "Here we use dashed lines to indicate interpolated trends"
   ]
  },
  {
   "cell_type": "markdown",
   "id": "20189826",
   "metadata": {
    "hide-output": false
   },
   "source": [
    "```ipython3\n",
    "fig, ax = plt.subplots(dpi=300)\n",
    "cntry = 'GBR'\n",
    "ax.plot(gdppc[cntry].interpolate(),\n",
    "        linestyle='--',\n",
    "        lw=2,\n",
    "        color=color_mapping[cntry])\n",
    "\n",
    "ax.plot(gdppc[cntry],\n",
    "        linestyle='-',\n",
    "        lw=2,\n",
    "        color=color_mapping[cntry])\n",
    "ax.set_ylabel('International $\\'s')\n",
    "ax.set_xlabel('Year')\n",
    "plt.show()\n",
    "```\n"
   ]
  },
  {
   "cell_type": "markdown",
   "id": "ae20545b",
   "metadata": {},
   "source": [
    "We can now put this into a function to generate plots for a list of countries"
   ]
  },
  {
   "cell_type": "markdown",
   "id": "1f674b0e",
   "metadata": {
    "hide-output": false
   },
   "source": [
    "```ipython3\n",
    "def draw_interp_plots(series, ylabel, xlabel, color_mapping, code_to_name, lw, logscale, ax):\n",
    "\n",
    "    for i, c in enumerate(cntry):\n",
    "        # Get the interpolated data\n",
    "        df_interpolated = series[c].interpolate(limit_area='inside')\n",
    "        interpolated_data = df_interpolated[series[c].isnull()]\n",
    "\n",
    "        # Plot the interpolated data with dashed lines\n",
    "        ax.plot(interpolated_data,\n",
    "                linestyle='--',\n",
    "                lw=lw,\n",
    "                alpha=0.7,\n",
    "                color=color_mapping[c])\n",
    "\n",
    "        # Plot the non-interpolated data with solid lines\n",
    "        ax.plot(series[c],\n",
    "                linestyle='-',\n",
    "                lw=lw,\n",
    "                color=color_mapping[c],\n",
    "                alpha=0.8,\n",
    "                label=code_to_name.loc[c]['country'])\n",
    "        \n",
    "        if logscale == True:\n",
    "            ax.set_yscale('log')\n",
    "    \n",
    "    # Draw the legend outside the plot\n",
    "    ax.legend(loc='lower center', ncol=5, bbox_to_anchor=[0.5, -0.25])\n",
    "    ax.set_ylabel(ylabel)\n",
    "    ax.set_xlabel(xlabel)\n",
    "    \n",
    "    return ax\n",
    "```\n"
   ]
  },
  {
   "cell_type": "markdown",
   "id": "3f6d60f6",
   "metadata": {},
   "source": [
    "As you can see from this chart, economic growth started in earnest in the 18th century and continued for the next two hundred years.\n",
    "\n",
    "How does this compare with other countries’ growth trajectories?\n",
    "\n",
    "Let’s look at the United States (USA), United Kingdom (GBR), and China (CHN)"
   ]
  },
  {
   "cell_type": "markdown",
   "id": "af03a19c",
   "metadata": {
    "hide-output": false
   },
   "source": [
    "```ipython3\n",
    "# Define the namedtuple for the events\n",
    "Event = namedtuple('Event', ['year_range', 'y_text', 'text', 'color', 'ymax'])\n",
    "\n",
    "fig, ax = plt.subplots(dpi=300, figsize=(10, 6))\n",
    "\n",
    "cntry = ['CHN', 'GBR', 'USA']\n",
    "ax = draw_interp_plots(gdppc[cntry].loc[1500:],\n",
    "    'International $\\'s','Year',\n",
    "    color_mapping, code_to_name, 2, False, ax)\n",
    "\n",
    "# Define the parameters for the events and the text\n",
    "ylim = ax.get_ylim()[1]\n",
    "b_params = {'color':'grey', 'alpha': 0.2}\n",
    "t_params = {'fontsize': 9, \n",
    "            'va':'center', 'ha':'center'}\n",
    "\n",
    "# Create a list of events to annotate\n",
    "events = [\n",
    "    Event((1650, 1652), ylim + ylim*0.04, \n",
    "          'the Navigation Act\\n(1651)',\n",
    "          color_mapping['GBR'], 1),\n",
    "    Event((1655, 1684), ylim + ylim*0.13, \n",
    "          'Closed-door Policy\\n(1655-1684)', \n",
    "          color_mapping['CHN'], 1.1),\n",
    "    Event((1848, 1850), ylim + ylim*0.22,\n",
    "          'the Repeal of Navigation Act\\n(1849)', \n",
    "          color_mapping['GBR'], 1.18),\n",
    "    Event((1765, 1791), ylim + ylim*0.04, \n",
    "          'American Revolution\\n(1765-1791)', \n",
    "          color_mapping['USA'], 1),\n",
    "    Event((1760, 1840), ylim + ylim*0.13, \n",
    "          'Industrial Revolution\\n(1760-1840)', \n",
    "          'grey', 1.1),\n",
    "    Event((1929, 1939), ylim + ylim*0.04, \n",
    "          'the Great Depression\\n(1929–1939)', \n",
    "          'grey', 1),\n",
    "    Event((1978, 1979), ylim + ylim*0.13, \n",
    "          'Reform and Opening-up\\n(1978-1979)', \n",
    "          color_mapping['CHN'], 1.1)\n",
    "]\n",
    "\n",
    "def draw_events(events, ax):\n",
    "    # Iterate over events and add annotations and vertical lines\n",
    "    for event in events:\n",
    "        event_mid = sum(event.year_range)/2\n",
    "        ax.text(event_mid, \n",
    "                event.y_text, event.text, \n",
    "                color=event.color, **t_params)\n",
    "        ax.axvspan(*event.year_range, color=event.color, alpha=0.2)\n",
    "        ax.axvline(event_mid, ymin=1, \n",
    "        ymax=event.ymax, color=event.color, \n",
    "        linestyle='-', clip_on=False, alpha=0.15)\n",
    "        \n",
    "# Draw events\n",
    "draw_events(events, ax)\n",
    "plt.show()\n",
    "```\n"
   ]
  },
  {
   "cell_type": "markdown",
   "id": "144124b6",
   "metadata": {},
   "source": [
    "The preceding graph of percapita GDP strikingly reveals how the spread of the industrial revolution has over time gradually lifted the living standards of substantial\n",
    "groups of people\n",
    "\n",
    "- Most of the growth happened in the past 150 years after the industrial revolution.  \n",
    "- Percapita GDP’s in the  UK and the US, on the one hand, and in China, on the other, diverged  from 1820 to 1940.  \n",
    "- The gap has closed  rapidly after 1950 and especially after the late 1970s.  \n",
    "- These outcomes reflect complicated combinations of technological and economic-policy factors that students of economic growth try to understand and quantify  \n",
    "\n",
    "\n",
    "It is fascinating to see  China’s GDP per capita levels from 1500 through to the 1970s.\n",
    "\n",
    "Notice the long period of declining GDP per capital levels from the 1700s until the early 20th century.\n",
    "\n",
    "Thus, the graph indicates\n",
    "\n",
    "- A long  economic downturn and stagnation after the Closed-door Policy by the Qing government  \n",
    "- China’s very different experience than the UK’s after the onset of   the industrial revolution in the UK  \n",
    "- How the Self-Strengthening Movement seemed mostly to help China to grow  \n",
    "- How stunning have been the growth achievements of Modern Chinese economic policies by the PRC that culminated with its late 1970s Reform and Opening-up  "
   ]
  },
  {
   "cell_type": "markdown",
   "id": "81b0ee97",
   "metadata": {
    "hide-output": false
   },
   "source": [
    "```ipython3\n",
    "fig, ax = plt.subplots(dpi=300, figsize=(10, 6))\n",
    "\n",
    "cntry = ['CHN']\n",
    "ax = draw_interp_plots(gdppc[cntry].loc[1600:2000],\n",
    "    'International $\\'s','Year',\n",
    "    color_mapping, code_to_name, 2, True, ax)\n",
    "\n",
    "ylim = ax.get_ylim()[1]\n",
    "\n",
    "events = [\n",
    "Event((1655, 1684), ylim + ylim*0.06, \n",
    "      'Closed-door Policy\\n(1655-1684)', \n",
    "      'tab:orange', 1),\n",
    "Event((1760, 1840), ylim + ylim*0.06, \n",
    "      'Industrial Revolution\\n(1760-1840)', \n",
    "      'grey', 1),\n",
    "Event((1839, 1842), ylim + ylim*0.2, \n",
    "      'First Opium War\\n(1839–1842)', \n",
    "      'tab:red', 1.07),\n",
    "Event((1861, 1895), ylim + ylim*0.4, \n",
    "      'Self-Strengthening Movement\\n(1861–1895)', \n",
    "      'tab:blue', 1.14),\n",
    "Event((1939, 1945), ylim + ylim*0.06, \n",
    "      'WW 2\\n(1939-1945)', \n",
    "      'tab:red', 1),\n",
    "Event((1948, 1950), ylim + ylim*0.23, \n",
    "      'Founding of PRC\\n(1949)', \n",
    "      color_mapping['CHN'], 1.08),\n",
    "Event((1958, 1962), ylim + ylim*0.5, \n",
    "      'Great Leap Forward\\n(1958-1962)', \n",
    "      'tab:orange', 1.18),\n",
    "Event((1978, 1979), ylim + ylim*0.7, \n",
    "      'Reform and Opening-up\\n(1978-1979)', \n",
    "      'tab:blue', 1.24)\n",
    "]\n",
    "\n",
    "# Draw events\n",
    "draw_events(events, ax)\n",
    "plt.show()\n",
    "```\n"
   ]
  },
  {
   "cell_type": "markdown",
   "id": "836a1e4b",
   "metadata": {},
   "source": [
    "We can also look at the United States (USA) and United Kingdom (GBR) in more detail\n",
    "\n",
    "In the following graph, please watch for\n",
    "\n",
    "- impact of trade policy (Navigation Act)  \n",
    "- productivity changes brought by the industrial revolution  \n",
    "- how the US gradually approaches and then  surpasses the UK, setting the stage for the ``American Century’’  \n",
    "- the  often unanticipated consequenes of wars  \n",
    "- interruptions and scars left by  [business cycle](markov_chains_I.ipynb#mc1_ex_1) recessions and depressions  "
   ]
  },
  {
   "cell_type": "markdown",
   "id": "a02c9060",
   "metadata": {
    "hide-output": false
   },
   "source": [
    "```ipython3\n",
    "fig, ax = plt.subplots(dpi=300, figsize=(10, 6))\n",
    "\n",
    "cntry = ['GBR', 'USA']\n",
    "ax = draw_interp_plots(gdppc[cntry].loc[1500:2000],\n",
    "    'International $\\'s','Year',\n",
    "    color_mapping, code_to_name, 2, True, ax)\n",
    "\n",
    "ylim = ax.get_ylim()[1]\n",
    "\n",
    "# Create a list of data points=\n",
    "events = [\n",
    "    Event((1651, 1651), ylim + ylim*0.15, \n",
    "          'Navigation Act (UK)\\n(1651)', \n",
    "          'tab:orange', 1),\n",
    "    Event((1765, 1791), ylim + ylim*0.15, \n",
    "          'American Revolution\\n(1765-1791)',\n",
    "          color_mapping['USA'], 1),\n",
    "    Event((1760, 1840), ylim + ylim*0.6, \n",
    "          'Industrial Revolution\\n(1760-1840)', \n",
    "          'grey', 1.08),\n",
    "    Event((1848, 1850), ylim + ylim*1.1, \n",
    "          'Repeal of Navigation Act (UK)\\n(1849)', \n",
    "          'tab:blue', 1.14),\n",
    "    Event((1861, 1865), ylim + ylim*1.8, \n",
    "          'American Civil War\\n(1861-1865)', \n",
    "          color_mapping['USA'], 1.21),\n",
    "    Event((1914, 1918), ylim + ylim*0.15, \n",
    "          'WW 1\\n(1914-1918)', \n",
    "          'tab:red', 1),\n",
    "    Event((1929, 1939), ylim + ylim*0.6, \n",
    "          'the Great Depression\\n(1929–1939)', \n",
    "          'grey', 1.08),\n",
    "    Event((1939, 1945), ylim + ylim*1.1, \n",
    "          'WW 2\\n(1939-1945)', \n",
    "          'tab:red', 1.14)\n",
    "]\n",
    "\n",
    "# Draw events\n",
    "draw_events(events, ax)\n",
    "plt.show()\n",
    "```\n"
   ]
  },
  {
   "cell_type": "markdown",
   "id": "1006e643",
   "metadata": {},
   "source": [
    "## The industrialized world\n",
    "\n",
    "Now we’ll construct some graphs of interest to geopolitical historians like Adam Tooze.\n",
    "\n",
    "We’ll focus on  total Gross Domestic Product (GDP)  (as a proxy for ‘‘national geopolitical-military power’’) rather than focusing on GDP per capita (as a proxy for living standards)."
   ]
  },
  {
   "cell_type": "markdown",
   "id": "ccb2cf46",
   "metadata": {
    "hide-output": false
   },
   "source": [
    "```ipython3\n",
    "data = pd.read_excel(\"datasets/mpd2020.xlsx\", sheet_name='Full data')\n",
    "data.set_index(['countrycode', 'year'], inplace=True)\n",
    "data['gdp'] = data['gdppc'] * data['pop']\n",
    "gdp = data['gdp'].unstack('countrycode')\n",
    "```\n"
   ]
  },
  {
   "cell_type": "markdown",
   "id": "075321c8",
   "metadata": {},
   "source": [
    "### Early industralization (1820 to 1940)\n",
    "\n",
    "We first visualize the trend of China, the Former Soviet Union, Japan, the UK and the US.\n",
    "\n",
    "The most notable trend is the rise of the US, surpassing the UK in the 1860s and China in the 1880s.\n",
    "\n",
    "The growth continued until the large dip in the 1930s when the Great Depression hit.\n",
    "\n",
    "Meanwhile, Russia experienced significant setbacks during World War I and recovered significantly after the February Revolution."
   ]
  },
  {
   "cell_type": "markdown",
   "id": "6a207961",
   "metadata": {
    "hide-output": false
   },
   "source": [
    "```ipython3\n",
    "fig, ax = plt.subplots(dpi=300)\n",
    "ax = fig.gca()\n",
    "cntry = ['CHN', 'SUN', 'JPN', 'GBR', 'USA']\n",
    "start_year, end_year = (1820, 1940)\n",
    "ax = draw_interp_plots(gdp[cntry].loc[start_year:end_year],\n",
    "    'International $\\'s','Year',\n",
    "    color_mapping, code_to_name, 2, False, ax)\n",
    "```\n"
   ]
  },
  {
   "cell_type": "markdown",
   "id": "6d4c7ebd",
   "metadata": {},
   "source": [
    "### The modern era (1950 to 2020)\n",
    "\n",
    "As history repeats itself, the rapid growth in modern China is now challenging the economic hegemony of the US"
   ]
  },
  {
   "cell_type": "markdown",
   "id": "c9ef3fc2",
   "metadata": {
    "hide-output": false
   },
   "source": [
    "```ipython3\n",
    "fig, ax = plt.subplots(dpi=300)\n",
    "ax = fig.gca()\n",
    "cntry = ['CHN', 'SUN', 'JPN', 'GBR', 'USA']\n",
    "start_year, end_year = (1950, 2020)\n",
    "ax = draw_interp_plots(gdp[cntry].loc[start_year:end_year],\n",
    "    'International $\\'s','Year',\n",
    "    color_mapping, code_to_name, 2, False, ax)\n",
    "```\n"
   ]
  },
  {
   "cell_type": "markdown",
   "id": "acd29d02",
   "metadata": {},
   "source": [
    "## Regional Analysis\n",
    "\n",
    "We often want to study historical experiences of countries outside the club of “World Powers”.\n",
    "\n",
    "Fortunately, the [Maddison Historical Statistics](https://www.rug.nl/ggdc/historicaldevelopment/maddison/) dataset also includes regional aggregations"
   ]
  },
  {
   "cell_type": "markdown",
   "id": "cf9fb9b6",
   "metadata": {
    "hide-output": false
   },
   "source": [
    "```ipython3\n",
    "data = pd.read_excel(\"datasets/mpd2020.xlsx\", sheet_name='Regional data', header=(0,1,2), index_col=0)\n",
    "data.columns = data.columns.droplevel(level=2)\n",
    "```\n"
   ]
  },
  {
   "cell_type": "markdown",
   "id": "d331f8ab",
   "metadata": {},
   "source": [
    "We can save the raw data in a more convenient format to build a single table of regional GDP per capita"
   ]
  },
  {
   "cell_type": "markdown",
   "id": "f7b866c9",
   "metadata": {
    "hide-output": false
   },
   "source": [
    "```ipython3\n",
    "regionalgdppc = data['gdppc_2011'].copy()\n",
    "regionalgdppc.index = pd.to_datetime(regionalgdppc.index, format='%Y')\n",
    "```\n"
   ]
  },
  {
   "cell_type": "markdown",
   "id": "1fc21904",
   "metadata": {},
   "source": [
    "Let’s interpolate based on time to fill in any gaps in the dataset for the purpose of plotting"
   ]
  },
  {
   "cell_type": "markdown",
   "id": "98bf7d86",
   "metadata": {
    "hide-output": false
   },
   "source": [
    "```ipython3\n",
    "regionalgdppc.interpolate(method='time', inplace=True)\n",
    "```\n"
   ]
  },
  {
   "cell_type": "markdown",
   "id": "28501eb6",
   "metadata": {},
   "source": [
    "and record a dataset of world GDP per capita"
   ]
  },
  {
   "cell_type": "markdown",
   "id": "d8802e57",
   "metadata": {
    "hide-output": false
   },
   "source": [
    "```ipython3\n",
    "worldgdppc = regionalgdppc['World GDP pc']\n",
    "```\n"
   ]
  },
  {
   "cell_type": "markdown",
   "id": "5cd5e09c",
   "metadata": {
    "hide-output": false
   },
   "source": [
    "```ipython3\n",
    "fig = plt.figure(dpi=300)\n",
    "ax = fig.gca()\n",
    "ax = worldgdppc.plot(\n",
    "    ax = ax,\n",
    "    xlabel='Year',\n",
    "    ylabel='2011 US$',\n",
    ")\n",
    "```\n"
   ]
  },
  {
   "cell_type": "markdown",
   "id": "f8d35298",
   "metadata": {},
   "source": [
    "Looking more closely, let’s compare the time series for `Western Offshoots` and `Sub-Saharan Africa` and more broadly at a number of different regions around the world\n",
    "\n",
    "Again we see the divergence of the West from the rest of the world after the industrial revolution and the convergence of the world after the 1950s"
   ]
  },
  {
   "cell_type": "markdown",
   "id": "a9da83d3",
   "metadata": {
    "hide-output": false
   },
   "source": [
    "```ipython3\n",
    "fig = plt.figure(dpi=300)\n",
    "ax = fig.gca()\n",
    "line_styles = ['-', '--', ':', '-.', '.', 'o', '-', '--', '-']\n",
    "ax = regionalgdppc.plot(ax = ax, style=line_styles)\n",
    "ax.set_yscale('log')\n",
    "plt.legend(loc='lower center', \n",
    "ncol=3, bbox_to_anchor=[0.5, -0.4])\n",
    "plt.show()\n",
    "```\n"
   ]
  }
 ],
 "metadata": {
  "date": 1686030529.5906796,
  "filename": "long_run_growth.md",
  "kernelspec": {
   "display_name": "Python",
   "language": "python3",
   "name": "python3"
  },
  "title": "Economic Growth Evidence"
 },
 "nbformat": 4,
 "nbformat_minor": 5
}