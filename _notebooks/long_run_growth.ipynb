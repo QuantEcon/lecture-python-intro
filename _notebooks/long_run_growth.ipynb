{
 "cells": [
  {
   "cell_type": "markdown",
   "id": "55ed1821",
   "metadata": {},
   "source": [
    "# Long Run Growth"
   ]
  },
  {
   "cell_type": "markdown",
   "id": "478dd100",
   "metadata": {},
   "source": [
    "# Lecture IN-WORK\n",
    "\n",
    "This lecture is still **under construction**"
   ]
  },
  {
   "cell_type": "markdown",
   "id": "fc52ee06",
   "metadata": {},
   "source": [
    "## Contents\n",
    "\n",
    "- [Long Run Growth](#Long-Run-Growth)  \n",
    "  - [Overview](#Overview)  \n",
    "  - [The Industrialized World](#The-Industrialized-World)  \n",
    "  - [The Modern Era (1970 to 2018)](#The-Modern-Era-(1970-to-2018))  \n",
    "  - [Other Interesting Plots](#Other-Interesting-Plots)  \n",
    "  - [Regional Analysis](#Regional-Analysis)  "
   ]
  },
  {
   "cell_type": "markdown",
   "id": "d0d033b2",
   "metadata": {},
   "source": [
    "## Overview\n",
    "\n",
    "This lecture looks at different growth trajectories across countries over the long term.\n",
    "\n",
    "While some countries have experienced long term rapid growth across that has last a hundred years, others have not.\n",
    "\n",
    "First let us import the packages needed to explore what the data says about long run growth."
   ]
  },
  {
   "cell_type": "markdown",
   "id": "6a00ad4e",
   "metadata": {
    "hide-output": false
   },
   "source": [
    "```ipython3\n",
    "import pandas as pd\n",
    "import os\n",
    "import matplotlib as mpl\n",
    "import matplotlib.pyplot as plt\n",
    "import numpy as np\n",
    "from matplotlib.lines import Line2D\n",
    "```\n"
   ]
  },
  {
   "cell_type": "markdown",
   "id": "7df81a8a",
   "metadata": {},
   "source": [
    "A project initiated by [Angus Maddison](https://en.wikipedia.org/wiki/Angus_Maddison) has collected many historical time series that study economic growth.\n",
    "\n",
    "We can use the [Maddison Historical Statistics](https://www.rug.nl/ggdc/historicaldevelopment/maddison/) to look at many different countries, including some countries dating back to the first century.\n",
    "\n",
    "The data can be downloaded from [this webpage](https://www.rug.nl/ggdc/historicaldevelopment/maddison/) and clicking on the `Latest Maddison Project Release`. In this lecture we use the [Maddison Project Database 2020](https://www.rug.nl/ggdc/historicaldevelopment/maddison/releases/maddison-project-database-2020) using the `Excel` Format. The code we use here assumes you have downloaded that file and will teach you how to use [pandas](https://pandas.pydata.org) to import that data into a DataFrame.\n",
    "\n",
    "If you don’t want to fetch the data file from [Maddison Historical Statistics](https://www.rug.nl/ggdc/historicaldevelopment/maddison/) you can download the file directly <a href=datasets/mpd2020.xlsx download>datasets/mpd2020.xlsx</a>."
   ]
  },
  {
   "cell_type": "markdown",
   "id": "867a7d19",
   "metadata": {
    "hide-output": false
   },
   "source": [
    "```ipython3\n",
    "data = pd.read_excel(\"datasets/mpd2020.xlsx\", sheet_name='Full data')\n",
    "data\n",
    "```\n"
   ]
  },
  {
   "cell_type": "markdown",
   "id": "a9f4b7cd",
   "metadata": {},
   "source": [
    "We can see that this dataset contains GDP per capita (gdppc) and population (pop) for many countries and years.\n",
    "\n",
    "Let’s look at how many and which countries are available in this dataset"
   ]
  },
  {
   "cell_type": "markdown",
   "id": "fb30e110",
   "metadata": {
    "hide-output": false
   },
   "source": [
    "```ipython3\n",
    "data.country.unique()\n",
    "```\n"
   ]
  },
  {
   "cell_type": "markdown",
   "id": "39174b4d",
   "metadata": {
    "hide-output": false
   },
   "source": [
    "```ipython3\n",
    "len(data.country.unique())\n",
    "```\n"
   ]
  },
  {
   "cell_type": "markdown",
   "id": "3c2073c8",
   "metadata": {},
   "source": [
    "We can now explore some of the 169 countries that are available.\n",
    "\n",
    "Let’s loop over each country to understand which years are available for each country"
   ]
  },
  {
   "cell_type": "markdown",
   "id": "76b6fb08",
   "metadata": {
    "hide-output": false
   },
   "source": [
    "```ipython3\n",
    "cntry_years = []\n",
    "for cntry in data.country.unique():\n",
    "    cy_data = data[data.country == cntry]['year']\n",
    "    ymin, ymax = cy_data.min(), cy_data.max()\n",
    "    cntry_years.append((cntry, ymin, ymax))\n",
    "cntry_years = pd.DataFrame(cntry_years, columns=['country', 'Min Year', 'Max Year']).set_index('country')\n",
    "cntry_years\n",
    "```\n"
   ]
  },
  {
   "cell_type": "markdown",
   "id": "dda79bb1",
   "metadata": {},
   "source": [
    "You can query this dataframe for each country of interest such as `Australia` by using `.loc`"
   ]
  },
  {
   "cell_type": "markdown",
   "id": "44dc59ba",
   "metadata": {
    "hide-output": false
   },
   "source": [
    "```ipython3\n",
    "cntry_years.loc['Australia']\n",
    "```\n"
   ]
  },
  {
   "cell_type": "markdown",
   "id": "85224723",
   "metadata": {},
   "source": [
    "Let us now reshape the original data into some convenient variables to enable quicker access to countries time series data.\n",
    "\n",
    "We can build a useful mapping between country code’s and country names in this dataset"
   ]
  },
  {
   "cell_type": "markdown",
   "id": "7f26c2cb",
   "metadata": {
    "hide-output": false
   },
   "source": [
    "```ipython3\n",
    "code_to_name = data[['countrycode','country']].drop_duplicates().reset_index(drop=True).set_index(['countrycode'])\n",
    "```\n"
   ]
  },
  {
   "cell_type": "markdown",
   "id": "595abc5a",
   "metadata": {},
   "source": [
    "Then we can quickly focus on GDP per capita (gdp)"
   ]
  },
  {
   "cell_type": "markdown",
   "id": "b4bfd393",
   "metadata": {
    "hide-output": false
   },
   "source": [
    "```ipython3\n",
    "data\n",
    "```\n"
   ]
  },
  {
   "cell_type": "markdown",
   "id": "80a5f977",
   "metadata": {
    "hide-output": false
   },
   "source": [
    "```ipython3\n",
    "gdppc = data.set_index(['countrycode','year'])['gdppc']\n",
    "gdppc = gdppc.unstack('countrycode')\n",
    "```\n"
   ]
  },
  {
   "cell_type": "markdown",
   "id": "a1ad42c0",
   "metadata": {
    "hide-output": false
   },
   "source": [
    "```ipython3\n",
    "gdppc\n",
    "```\n"
   ]
  },
  {
   "cell_type": "markdown",
   "id": "070f1239",
   "metadata": {},
   "source": [
    "Looking at the United Kingdom we can first confirm we are using the correct country code"
   ]
  },
  {
   "cell_type": "markdown",
   "id": "2b9d936a",
   "metadata": {
    "hide-output": false
   },
   "source": [
    "```ipython3\n",
    "code_to_name.loc['GBR']\n",
    "```\n"
   ]
  },
  {
   "cell_type": "markdown",
   "id": "121a396e",
   "metadata": {},
   "source": [
    "and then using that code to access and plot the data"
   ]
  },
  {
   "cell_type": "markdown",
   "id": "e5ae468d",
   "metadata": {
    "hide-output": false
   },
   "source": [
    "```ipython3\n",
    "fig = plt.figure()\n",
    "gdppc['GBR'].plot(ax = fig.gca())\n",
    "plt.show()\n",
    "```\n"
   ]
  },
  {
   "cell_type": "markdown",
   "id": "fd2df73a",
   "metadata": {},
   "source": [
    "We can see that the data is non-continuous for longer periods in early part of this milenium so we could choose to interpolate to get a continuous line plot."
   ]
  },
  {
   "cell_type": "markdown",
   "id": "60134c0d",
   "metadata": {
    "hide-output": false
   },
   "source": [
    "```ipython3\n",
    "fig = plt.figure(dpi=300)\n",
    "cntry = 'GBR'\n",
    "gdppc[cntry].interpolate().plot(\n",
    "    ax = fig.gca(),\n",
    "    ylabel = 'International $\\'s',\n",
    "    xlabel = 'Year'\n",
    ")\n",
    "plt.show()\n",
    "```\n"
   ]
  },
  {
   "cell_type": "markdown",
   "id": "f557971c",
   "metadata": {},
   "source": [
    ">**Note**\n",
    ">\n",
    ">[International Dollars](https://en.wikipedia.org/wiki/International_dollar) are a hypothetical unit of currency that has the same purchasing power parity that the U.S. Dollar has in the United States and any given time. They are also known as Geary–Khamis dollar (GK Dollars).\n",
    "\n",
    "As you can see from this chart economic growth started in earnest in the 18th Century and continued for the next two hundred years.\n",
    "\n",
    "How does this compare with other countries growth trajectories? Let’s look at the United States (USA), United Kingdom (GBR), and China (CHN)"
   ]
  },
  {
   "cell_type": "markdown",
   "id": "65983f50",
   "metadata": {
    "hide-output": false
   },
   "source": [
    "```ipython3\n",
    "fig = plt.figure(dpi=300)\n",
    "ax = fig.gca()\n",
    "cntry = ['USA', 'GBR', 'CHN']\n",
    "line_color = ['blue', 'orange', 'green']\n",
    "gdppc[cntry].plot(\n",
    "    ax = ax,\n",
    "    ylabel = 'International $\\'s',\n",
    "    xlabel = 'Year',\n",
    "    color = line_color\n",
    ")\n",
    "\n",
    "# Build Custom Legend\n",
    "legend_elements = []\n",
    "for i,c in enumerate(cntry):\n",
    "    line = Line2D([0], [0], color=line_color[i], lw=2, label=code_to_name.loc[c]['country'])\n",
    "    legend_elements.append(line)\n",
    "ax.legend(handles=legend_elements, loc='lower center', ncol=3, bbox_to_anchor=[0.5, -0.25])\n",
    "plt.show()\n",
    "```\n"
   ]
  },
  {
   "cell_type": "markdown",
   "id": "9f46aaec",
   "metadata": {},
   "source": [
    "This dataset has been carefully curated to enable cross-country comparisons.\n",
    "\n",
    "Let’s compare the growth trajectories of Australia (AUS) and Argentina (ARG)"
   ]
  },
  {
   "cell_type": "markdown",
   "id": "25602b35",
   "metadata": {
    "hide-output": false
   },
   "source": [
    "```ipython3\n",
    "fig = plt.figure(dpi=300)\n",
    "ax = fig.gca()\n",
    "cntry = ['AUS', 'ARG']\n",
    "line_color = ['blue', 'orange']\n",
    "gdppc[cntry].plot(\n",
    "    ax = ax,\n",
    "    ylabel = 'International $\\'s',\n",
    "    xlabel = 'Year',\n",
    "    color = line_color\n",
    ")\n",
    "\n",
    "# Build Custom Legend\n",
    "legend_elements = []\n",
    "for i,c in enumerate(cntry):\n",
    "    line = Line2D([0], [0], color=line_color[i], lw=2, label=code_to_name.loc[c]['country'])\n",
    "    legend_elements.append(line)\n",
    "ax.legend(handles=legend_elements, loc='lower center', ncol=3, bbox_to_anchor=[0.5, -0.25])\n",
    "plt.show()\n",
    "```\n"
   ]
  },
  {
   "cell_type": "markdown",
   "id": "58281222",
   "metadata": {},
   "source": [
    "As you can see the countries had similar GDP per capita levels with divergence starting around 1940. Australia’s growth experience is both more continuous and less volatile post 1940."
   ]
  },
  {
   "cell_type": "markdown",
   "id": "c6ca8ba7",
   "metadata": {},
   "source": [
    "## The Industrialized World\n",
    "\n",
    "Now we can look at total Gross Domestic Product (GDP) rather than focusing on GDP per capita (as a proxy for living standards)."
   ]
  },
  {
   "cell_type": "markdown",
   "id": "0ee3b260",
   "metadata": {
    "hide-output": false
   },
   "source": [
    "```ipython3\n",
    "data = pd.read_excel(\"datasets/mpd2020.xlsx\", sheet_name='Full data')\n",
    "data.set_index(['countrycode', 'year'], inplace=True)\n",
    "data['gdp'] = data['gdppc'] * data['pop']\n",
    "gdp = data['gdp'].unstack('countrycode')\n",
    "```\n"
   ]
  },
  {
   "cell_type": "markdown",
   "id": "533be508",
   "metadata": {},
   "source": [
    "### Early Industralization (1820 to 1940)\n",
    "\n",
    "Gross Domestic Product"
   ]
  },
  {
   "cell_type": "markdown",
   "id": "1c79a7b4",
   "metadata": {
    "hide-output": false
   },
   "source": [
    "```ipython3\n",
    "fig = plt.figure(dpi=110)\n",
    "ax = fig.gca()\n",
    "cntry = ['DEU', 'SUN', 'USA', 'GBR', 'FRA', 'JPN', 'CHN']\n",
    "start_year, end_year = (1820,1940)\n",
    "line_color = ['blue', 'orange', 'green', 'red', 'yellow', 'purple', 'slategrey']\n",
    "gdp[cntry].loc[start_year:end_year].interpolate().plot(\n",
    "    ax = ax,\n",
    "    ylabel = 'International $\\'s',\n",
    "    xlabel = 'Year',\n",
    "    color = line_color\n",
    ")\n",
    "\n",
    "# Build Custom Legend\n",
    "legend_elements = []\n",
    "for i,c in enumerate(cntry):\n",
    "    line = Line2D([0], [0], color=line_color[i], lw=2, label=code_to_name.loc[c]['country'])\n",
    "    legend_elements.append(line)\n",
    "ax.legend(handles=legend_elements, loc='lower center', ncol=4, bbox_to_anchor=[0.5, -0.26])\n",
    "plt.show()\n",
    "```\n"
   ]
  },
  {
   "cell_type": "markdown",
   "id": "fab4dfa4",
   "metadata": {},
   "source": [
    "GDP per Capita"
   ]
  },
  {
   "cell_type": "markdown",
   "id": "2b6e3bcf",
   "metadata": {
    "hide-output": false
   },
   "source": [
    "```ipython3\n",
    "fig = plt.figure(dpi=110)\n",
    "ax = fig.gca()\n",
    "cntry = ['DEU', 'SUN', 'USA', 'GBR', 'FRA', 'JPN', 'CHN']\n",
    "start_year, end_year = (1820,1940)\n",
    "line_color = ['blue', 'orange', 'green', 'red', 'yellow', 'purple', 'slategrey']\n",
    "gdppc[cntry].loc[start_year:end_year].interpolate().plot(\n",
    "    ax = ax,\n",
    "    ylabel = 'International $\\'s',\n",
    "    xlabel = 'Year',\n",
    "    color = line_color\n",
    ")\n",
    "\n",
    "# Build Custom Legend\n",
    "legend_elements = []\n",
    "for i,c in enumerate(cntry):\n",
    "    line = Line2D([0], [0], color=line_color[i], lw=2, label=code_to_name.loc[c]['country'])\n",
    "    legend_elements.append(line)\n",
    "ax.legend(handles=legend_elements, loc='lower center', ncol=4, bbox_to_anchor=[0.5, -0.25])\n",
    "plt.show()\n",
    "```\n"
   ]
  },
  {
   "cell_type": "markdown",
   "id": "234b20a1",
   "metadata": {},
   "source": [
    "## The Modern Era (1970 to 2018)\n",
    "\n",
    "Gross Domestic Product (GDP)"
   ]
  },
  {
   "cell_type": "markdown",
   "id": "4dfe2f6f",
   "metadata": {
    "hide-output": false
   },
   "source": [
    "```ipython3\n",
    "fig = plt.figure(dpi=300)\n",
    "ax = fig.gca()\n",
    "cntry = ['DEU', 'SUN', 'USA', 'GBR', 'FRA', 'JPN', 'CHN']\n",
    "start_year, end_year = (1970, 2018)\n",
    "line_color = ['blue', 'orange', 'green', 'red', 'yellow', 'purple', 'slategrey']\n",
    "gdp[cntry].loc[start_year:end_year].interpolate().plot(\n",
    "    ax = ax,\n",
    "    ylabel = 'International $\\'s',\n",
    "    xlabel = 'Year',\n",
    "    color = line_color\n",
    ")\n",
    "\n",
    "# Build Custom Legend\n",
    "legend_elements = []\n",
    "for i,c in enumerate(cntry):\n",
    "    line = Line2D([0], [0], color=line_color[i], lw=2, label=code_to_name.loc[c]['country'])\n",
    "    legend_elements.append(line)\n",
    "ax.legend(handles=legend_elements, loc='lower center', ncol=4, bbox_to_anchor=[0.5, -0.25])\n",
    "plt.show()\n",
    "```\n"
   ]
  },
  {
   "cell_type": "markdown",
   "id": "7283bf40",
   "metadata": {},
   "source": [
    "GDP per Capita"
   ]
  },
  {
   "cell_type": "markdown",
   "id": "a7ab2097",
   "metadata": {
    "hide-output": false
   },
   "source": [
    "```ipython3\n",
    "fig = plt.figure(dpi=300)\n",
    "ax = fig.gca()\n",
    "cntry = ['DEU', 'SUN', 'USA', 'GBR', 'FRA', 'JPN', 'CHN']\n",
    "start_year, end_year = (1970, 2018)\n",
    "line_color = ['blue', 'orange', 'green', 'red', 'yellow', 'purple', 'slategrey']\n",
    "gdppc[cntry].loc[start_year:end_year].interpolate().plot(\n",
    "    ax = ax,\n",
    "    ylabel = 'International $\\'s',\n",
    "    xlabel = 'Year',\n",
    "    color = line_color\n",
    ")\n",
    "\n",
    "# Build Custom Legend\n",
    "legend_elements = []\n",
    "for i,c in enumerate(cntry):\n",
    "    line = Line2D([0], [0], color=line_color[i], lw=2, label=code_to_name.loc[c]['country'])\n",
    "    legend_elements.append(line)\n",
    "ax.legend(handles=legend_elements, loc='lower center', ncol=3, bbox_to_anchor=[0.5, -0.3])\n",
    "plt.show()\n",
    "```\n"
   ]
  },
  {
   "cell_type": "markdown",
   "id": "7e97cda8",
   "metadata": {},
   "source": [
    "## Other Interesting Plots\n",
    "\n",
    "Here are a collection of interesting plots that could be linked to interesting stories\n",
    "\n",
    "Looking at China GDP per capita levels from 1500 through to the 1970’s showed a long period of declining GDP per capital levels from 1700’s to early 20th century. (Closed Border / Inward Looking Domestic Focused Policies?)"
   ]
  },
  {
   "cell_type": "markdown",
   "id": "79dbcdfc",
   "metadata": {
    "hide-output": false
   },
   "source": [
    "```ipython3\n",
    "fig = plt.figure(dpi=300)\n",
    "gdppc['CHN'].loc[1500:1980].interpolate().plot(ax=fig.gca())\n",
    "plt.show()\n",
    "```\n"
   ]
  },
  {
   "cell_type": "markdown",
   "id": "10dd2b0d",
   "metadata": {},
   "source": [
    "China (CHN) then followed a very similar growth story from the 1980s through to current day China."
   ]
  },
  {
   "cell_type": "markdown",
   "id": "fbd355a7",
   "metadata": {
    "hide-output": false
   },
   "source": [
    "```ipython3\n",
    "fig = plt.figure(dpi=300)\n",
    "gdppc[['CHN', 'GBR']].interpolate().plot(ax = fig.gca())\n",
    "plt.show()\n",
    "```\n"
   ]
  },
  {
   "cell_type": "markdown",
   "id": "3bf406a6",
   "metadata": {},
   "source": [
    "## Regional Analysis\n",
    "\n",
    "The [Maddison Historical Statistics](https://www.rug.nl/ggdc/historicaldevelopment/maddison/) dataset also includes regional aggregations"
   ]
  },
  {
   "cell_type": "markdown",
   "id": "8c55425e",
   "metadata": {
    "hide-output": false
   },
   "source": [
    "```ipython3\n",
    "data = pd.read_excel(\"datasets/mpd2020.xlsx\", sheet_name='Regional data', header=(0,1,2), index_col=0)\n",
    "data.columns = data.columns.droplevel(level=2)\n",
    "```\n"
   ]
  },
  {
   "cell_type": "markdown",
   "id": "7e8e598c",
   "metadata": {},
   "source": [
    "We can save the raw data in a more convenient format to build a single table of regional GDP per capita"
   ]
  },
  {
   "cell_type": "markdown",
   "id": "735bcc5b",
   "metadata": {
    "hide-output": false
   },
   "source": [
    "```ipython3\n",
    "regionalgdppc = data['gdppc_2011'].copy()\n",
    "regionalgdppc.index = pd.to_datetime(regionalgdppc.index, format='%Y')\n",
    "```\n"
   ]
  },
  {
   "cell_type": "markdown",
   "id": "a7d6b2da",
   "metadata": {},
   "source": [
    "Let us interpolate based on time to fill in any gaps in the dataset for the purpose of plotting"
   ]
  },
  {
   "cell_type": "markdown",
   "id": "7871198b",
   "metadata": {
    "hide-output": false
   },
   "source": [
    "```ipython3\n",
    "regionalgdppc.interpolate(method='time', inplace=True)\n",
    "```\n"
   ]
  },
  {
   "cell_type": "markdown",
   "id": "2f85cbf5",
   "metadata": {},
   "source": [
    "and record a dataset of world GDP per capita"
   ]
  },
  {
   "cell_type": "markdown",
   "id": "db3905dc",
   "metadata": {
    "hide-output": false
   },
   "source": [
    "```ipython3\n",
    "worldgdppc = regionalgdppc['World GDP pc']\n",
    "```\n"
   ]
  },
  {
   "cell_type": "markdown",
   "id": "c4e9feea",
   "metadata": {
    "hide-output": false
   },
   "source": [
    "```ipython3\n",
    "fig = plt.figure(dpi=300)\n",
    "ax = fig.gca()\n",
    "ax = worldgdppc.plot(\n",
    "    ax = ax,\n",
    "    title='World GDP per capita',\n",
    "    xlabel='Year',\n",
    "    ylabel='2011 US$',\n",
    ")\n",
    "```\n"
   ]
  },
  {
   "cell_type": "markdown",
   "id": "e62dcc83",
   "metadata": {},
   "source": [
    "Looking more closely, let us compare the time series for `Western Offshoots` and `Sub-Saharan Africa`"
   ]
  },
  {
   "cell_type": "markdown",
   "id": "0ac1a768",
   "metadata": {
    "hide-output": false
   },
   "source": [
    "```ipython3\n",
    "fig = plt.figure(dpi=300)\n",
    "ax = fig.gca()\n",
    "regionalgdppc[['Western Offshoots', 'Sub-Sahara Africa']].plot(ax = ax)\n",
    "ax.legend(loc='lower center', ncol=2, bbox_to_anchor=[0.5, -0.26])\n",
    "plt.show()\n",
    "```\n"
   ]
  },
  {
   "cell_type": "markdown",
   "id": "ef496f15",
   "metadata": {},
   "source": [
    "and more broadly at a number of different regions around the world"
   ]
  },
  {
   "cell_type": "markdown",
   "id": "92406ac2",
   "metadata": {
    "hide-output": false
   },
   "source": [
    "```ipython3\n",
    "fig = plt.figure(dpi=300)\n",
    "ax = fig.gca()\n",
    "line_styles = ['-', '--', ':', '-.', '.', 'o', '-', '--', '-']\n",
    "ax = regionalgdppc.plot(ax = ax, style=line_styles)\n",
    "plt.legend(loc='lower center', ncol=3, bbox_to_anchor=[0.5, -0.4])\n",
    "plt.show()\n",
    "```\n"
   ]
  }
 ],
 "metadata": {
  "date": 1682895694.5338047,
  "filename": "long_run_growth.md",
  "kernelspec": {
   "display_name": "Python",
   "language": "python3",
   "name": "python3"
  },
  "title": "Long Run Growth"
 },
 "nbformat": 4,
 "nbformat_minor": 5
}