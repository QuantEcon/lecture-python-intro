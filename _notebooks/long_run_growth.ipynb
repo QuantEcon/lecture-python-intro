{
 "cells": [
  {
   "cell_type": "markdown",
   "id": "c009d28b",
   "metadata": {},
   "source": [
    "# Long-Run Growth"
   ]
  },
  {
   "cell_type": "markdown",
   "id": "aa5bb8de",
   "metadata": {},
   "source": [
    "## Overview\n",
    "\n",
    "In this lecture we use Python, [pandas](https://python-programming.quantecon.org/pandas.html), and [Matplotlib](https://python-programming.quantecon.org/matplotlib.html) to download, organize, and visualize historical data on economic growth.\n",
    "\n",
    "In addition to learning how to deploy these tools more generally, we’ll use them to describe facts about economic growth experiences across many countries over several centuries.\n",
    "\n",
    "Such “growth facts” are interesting for a variety of reasons.\n",
    "\n",
    "Explaining growth facts is a principal purpose of both “development economics” and “economic history”.\n",
    "\n",
    "And growth facts are important inputs into historians’ studies of geopolitical forces and dynamics.\n",
    "\n",
    "Thus, Adam Tooze’s account of the geopolitical precedents and antecedents of World War I begins by describing how the Gross Domestic Products (GDP) of European Great Powers had evolved during the 70 years preceding 1914 (see chapter 1 of [[Tooze, 2014](https://intro.quantecon.org/zreferences.html#id11)]).\n",
    "\n",
    "Using the very same data that Tooze used to construct his figure (with a slightly longer timeline), here is our version of his chapter 1 figure.\n",
    "\n",
    "![https://intro.quantecon.org/_static/lecture_specific/long_run_growth/tooze_ch1_graph.png](https://intro.quantecon.org/_static/lecture_specific/long_run_growth/tooze_ch1_graph.png)\n",
    "\n",
    "  \n",
    "(This is just a copy of our figure Fig. 2.6.  We describe how we constructed it later in this lecture.)\n",
    "\n",
    "Chapter 1  of [[Tooze, 2014](https://intro.quantecon.org/zreferences.html#id11)] used his graph to show how US GDP started the 19th century way behind the GDP of the British Empire.\n",
    "\n",
    "By the end of the nineteenth century, US GDP had caught up with GDP of the British Empire, and how during the first half of the 20th century,\n",
    "US GDP surpassed that of the British Empire.\n",
    "\n",
    "For Adam Tooze, that fact was a key geopolitical underpinning for the “American century”.\n",
    "\n",
    "Looking at this  graph and how it set the geopolitical stage for “the American (20th) century” naturally\n",
    "tempts one to want a counterpart to his graph for 2014 or later.\n",
    "\n",
    "(An impatient reader seeking a hint at the answer  might now want to jump ahead and look at figure Fig. 2.7.)\n",
    "\n",
    "As we’ll see, reasoning by analogy, this graph perhaps set the stage for an “XXX (21st) century”, where you are free to fill in your guess for country XXX.\n",
    "\n",
    "As we gather data to construct those two graphs, we’ll also study growth experiences for a number of countries for time horizons extending as far back as possible.\n",
    "\n",
    "These graphs will portray how the “Industrial Revolution” began in Britain in the late 18th century, then migrated to one country after another.\n",
    "\n",
    "In a nutshell, this lecture records growth trajectories of various countries over long time periods.\n",
    "\n",
    "While some countries have experienced long-term rapid growth across that has lasted a hundred years, others have not.\n",
    "\n",
    "Since populations differ across countries and vary within a country over time, it will\n",
    "be interesting to describe both total GDP and GDP per capita as it evolves within a country.\n",
    "\n",
    "First let’s import the packages needed to explore what the data says about long-run growth"
   ]
  },
  {
   "cell_type": "code",
   "execution_count": null,
   "id": "d19d72d3",
   "metadata": {
    "hide-output": false
   },
   "outputs": [],
   "source": [
    "import pandas as pd\n",
    "import matplotlib.pyplot as plt\n",
    "import matplotlib.cm as cm\n",
    "import numpy as np\n",
    "from collections import namedtuple"
   ]
  },
  {
   "cell_type": "markdown",
   "id": "823a0013",
   "metadata": {},
   "source": [
    "## Setting up\n",
    "\n",
    "A project initiated by [Angus Maddison](https://en.wikipedia.org/wiki/Angus_Maddison) has collected many historical time series related to economic growth,\n",
    "some dating back to the first century.\n",
    "\n",
    "The data can be downloaded from the [Maddison Historical Statistics](https://www.rug.nl/ggdc/historicaldevelopment/maddison/) by clicking on the “Latest Maddison Project Release”.\n",
    "\n",
    "We are going to read the data from a QuantEcon GitHub repository.\n",
    "\n",
    "Our objective in this section is to produce a convenient `DataFrame` instance that contains per capita GDP for different countries.\n",
    "\n",
    "Here we read the Maddison data into a pandas `DataFrame`:"
   ]
  },
  {
   "cell_type": "code",
   "execution_count": null,
   "id": "f50cf30d",
   "metadata": {
    "hide-output": false
   },
   "outputs": [],
   "source": [
    "data_url = \"https://github.com/QuantEcon/lecture-python-intro/raw/main/lectures/datasets/mpd2020.xlsx\"\n",
    "data = pd.read_excel(data_url, \n",
    "                     sheet_name='Full data')\n",
    "data.head()"
   ]
  },
  {
   "cell_type": "markdown",
   "id": "760feef4",
   "metadata": {},
   "source": [
    "We can see that this dataset contains GDP per capita (`gdppc`) and population (pop) for many countries and years.\n",
    "\n",
    "Let’s look at how many and which countries are available in this dataset"
   ]
  },
  {
   "cell_type": "code",
   "execution_count": null,
   "id": "d46b4692",
   "metadata": {
    "hide-output": false
   },
   "outputs": [],
   "source": [
    "countries = data.country.unique()\n",
    "len(countries)"
   ]
  },
  {
   "cell_type": "markdown",
   "id": "8ad134a2",
   "metadata": {},
   "source": [
    "We can now explore some of the 169 countries that are available.\n",
    "\n",
    "Let’s loop over each country to understand which years are available for each country"
   ]
  },
  {
   "cell_type": "code",
   "execution_count": null,
   "id": "c3199db8",
   "metadata": {
    "hide-output": false
   },
   "outputs": [],
   "source": [
    "country_years = []\n",
    "for country in countries:\n",
    "    cy_data = data[data.country == country]['year']\n",
    "    ymin, ymax = cy_data.min(), cy_data.max()\n",
    "    country_years.append((country, ymin, ymax))\n",
    "country_years = pd.DataFrame(country_years,\n",
    "                    columns=['country', 'min_year', 'max_year']).set_index('country')\n",
    "country_years.head()"
   ]
  },
  {
   "cell_type": "markdown",
   "id": "1a434ad4",
   "metadata": {},
   "source": [
    "Let’s now reshape the original data into some convenient variables to enable quicker access to countries’ time series data.\n",
    "\n",
    "We can build a useful mapping between country codes and country names in this dataset"
   ]
  },
  {
   "cell_type": "code",
   "execution_count": null,
   "id": "b159e0ef",
   "metadata": {
    "hide-output": false
   },
   "outputs": [],
   "source": [
    "code_to_name = data[\n",
    "    ['countrycode', 'country']].drop_duplicates().reset_index(drop=True).set_index(['countrycode'])"
   ]
  },
  {
   "cell_type": "markdown",
   "id": "f275424b",
   "metadata": {},
   "source": [
    "Now we can focus on GDP per capita (`gdppc`) and generate a wide data format"
   ]
  },
  {
   "cell_type": "code",
   "execution_count": null,
   "id": "59d55321",
   "metadata": {
    "hide-output": false
   },
   "outputs": [],
   "source": [
    "gdp_pc = data.set_index(['countrycode', 'year'])['gdppc']\n",
    "gdp_pc = gdp_pc.unstack('countrycode')"
   ]
  },
  {
   "cell_type": "code",
   "execution_count": null,
   "id": "bc4df40c",
   "metadata": {
    "hide-output": false
   },
   "outputs": [],
   "source": [
    "gdp_pc.tail()"
   ]
  },
  {
   "cell_type": "markdown",
   "id": "a961842b",
   "metadata": {},
   "source": [
    "We create a variable `color_mapping` to store a map between country codes and colors for consistency"
   ]
  },
  {
   "cell_type": "code",
   "execution_count": null,
   "id": "7a4a28cc",
   "metadata": {
    "hide-output": false
   },
   "outputs": [],
   "source": [
    "country_names = data['countrycode']\n",
    "\n",
    "# Generate a colormap with the number of colors matching the number of countries\n",
    "colors = cm.tab20(np.linspace(0, 0.95, len(country_names)))\n",
    "\n",
    "# Create a dictionary to map each country to its corresponding color\n",
    "color_mapping = {country: color for \n",
    "                 country, color in zip(country_names, colors)}"
   ]
  },
  {
   "cell_type": "markdown",
   "id": "52387656",
   "metadata": {},
   "source": [
    "## GDP per capita\n",
    "\n",
    "In this section we examine GDP per capita over the long run for several different countries."
   ]
  },
  {
   "cell_type": "markdown",
   "id": "ee731c70",
   "metadata": {},
   "source": [
    "### United Kingdom\n",
    "\n",
    "First we examine UK GDP growth"
   ]
  },
  {
   "cell_type": "code",
   "execution_count": null,
   "id": "401d5b73",
   "metadata": {
    "hide-output": false
   },
   "outputs": [],
   "source": [
    "fig, ax = plt.subplots(dpi=300)\n",
    "country = 'GBR'\n",
    "gdp_pc[country].plot(\n",
    "        ax=ax,\n",
    "        ylabel='international dollars',\n",
    "        xlabel='year',\n",
    "        color=color_mapping[country]\n",
    "    );"
   ]
  },
  {
   "cell_type": "markdown",
   "id": "1a35aab3",
   "metadata": {},
   "source": [
    ">**Note**\n",
    ">\n",
    ">[International dollars](https://en.wikipedia.org/wiki/international_dollar) are a hypothetical unit of currency that has the same purchasing power parity that the U.S. Dollar has in the United States at a given point in time. They are also known as Geary–Khamis dollars (GK Dollars).\n",
    "\n",
    "We can see that the data is non-continuous for longer periods in the early 250 years of this millennium, so we could choose to interpolate to get a continuous line plot.\n",
    "\n",
    "Here we use dashed lines to indicate interpolated trends"
   ]
  },
  {
   "cell_type": "code",
   "execution_count": null,
   "id": "0d442e09",
   "metadata": {
    "hide-output": false
   },
   "outputs": [],
   "source": [
    "fig, ax = plt.subplots(dpi=300)\n",
    "country = 'GBR'\n",
    "ax.plot(gdp_pc[country].interpolate(),\n",
    "        linestyle='--',\n",
    "        lw=2,\n",
    "        color=color_mapping[country])\n",
    "\n",
    "ax.plot(gdp_pc[country],\n",
    "        lw=2,\n",
    "        color=color_mapping[country])\n",
    "ax.set_ylabel('international dollars')\n",
    "ax.set_xlabel('year')\n",
    "plt.show()"
   ]
  },
  {
   "cell_type": "markdown",
   "id": "20d5219a",
   "metadata": {},
   "source": [
    "### Comparing the US, UK, and China\n",
    "\n",
    "In this section we will compare GDP growth for the US, UK and China.\n",
    "\n",
    "As a first step we create a function to generate plots for a list of countries"
   ]
  },
  {
   "cell_type": "code",
   "execution_count": null,
   "id": "55455cb8",
   "metadata": {
    "hide-output": false
   },
   "outputs": [],
   "source": [
    "def draw_interp_plots(series,        # pandas series\n",
    "                      country,       # list of country codes\n",
    "                      ylabel,        # label for y-axis\n",
    "                      xlabel,        # label for x-axis\n",
    "                      color_mapping, # code-color mapping\n",
    "                      code_to_name,  # code-name mapping\n",
    "                      lw,            # line width\n",
    "                      logscale,      # log scale for y-axis\n",
    "                      ax             # matplolib axis\n",
    "                     ):\n",
    "\n",
    "    for c in country:\n",
    "        # Get the interpolated data\n",
    "        df_interpolated = series[c].interpolate(limit_area='inside')\n",
    "        interpolated_data = df_interpolated[series[c].isnull()]\n",
    "\n",
    "        # Plot the interpolated data with dashed lines\n",
    "        ax.plot(interpolated_data,\n",
    "                linestyle='--',\n",
    "                lw=lw,\n",
    "                alpha=0.7,\n",
    "                color=color_mapping[c])\n",
    "\n",
    "        # Plot the non-interpolated data with solid lines\n",
    "        ax.plot(series[c],\n",
    "                lw=lw,\n",
    "                color=color_mapping[c],\n",
    "                alpha=0.8,\n",
    "                label=code_to_name.loc[c]['country'])\n",
    "        \n",
    "        if logscale:\n",
    "            ax.set_yscale('log')\n",
    "    \n",
    "    # Draw the legend outside the plot\n",
    "    ax.legend(loc='upper left', frameon=False)\n",
    "    ax.set_ylabel(ylabel)\n",
    "    ax.set_xlabel(xlabel)"
   ]
  },
  {
   "cell_type": "markdown",
   "id": "0c7b092a",
   "metadata": {},
   "source": [
    "As you can see from this chart, economic growth started in earnest in the 18th century and continued for the next two hundred years.\n",
    "\n",
    "How does this compare with other countries’ growth trajectories?\n",
    "\n",
    "Let’s look at the United States (USA), United Kingdom (GBR), and China (CHN)"
   ]
  },
  {
   "cell_type": "code",
   "execution_count": null,
   "id": "b36a4bb1",
   "metadata": {
    "hide-output": false
   },
   "outputs": [],
   "source": [
    "# Define the namedtuple for the events\n",
    "Event = namedtuple('Event', ['year_range', 'y_text', 'text', 'color', 'ymax'])\n",
    "\n",
    "fig, ax = plt.subplots(dpi=300, figsize=(10, 6))\n",
    "\n",
    "country = ['CHN', 'GBR', 'USA']\n",
    "draw_interp_plots(gdp_pc[country].loc[1500:], \n",
    "                  country,\n",
    "                  'international dollars','year',\n",
    "                  color_mapping, code_to_name, 2, False, ax)\n",
    "\n",
    "# Define the parameters for the events and the text\n",
    "ylim = ax.get_ylim()[1]\n",
    "b_params = {'color':'grey', 'alpha': 0.2}\n",
    "t_params = {'fontsize': 9, \n",
    "            'va':'center', 'ha':'center'}\n",
    "\n",
    "# Create a list of events to annotate\n",
    "events = [\n",
    "    Event((1650, 1652), ylim + ylim*0.04, \n",
    "          'the Navigation Act\\n(1651)',\n",
    "          color_mapping['GBR'], 1),\n",
    "    Event((1655, 1684), ylim + ylim*0.13, \n",
    "          'Closed-door Policy\\n(1655-1684)', \n",
    "          color_mapping['CHN'], 1.1),\n",
    "    Event((1848, 1850), ylim + ylim*0.22,\n",
    "          'the Repeal of Navigation Act\\n(1849)', \n",
    "          color_mapping['GBR'], 1.18),\n",
    "    Event((1765, 1791), ylim + ylim*0.04, \n",
    "          'American Revolution\\n(1765-1791)', \n",
    "          color_mapping['USA'], 1),\n",
    "    Event((1760, 1840), ylim + ylim*0.13, \n",
    "          'Industrial Revolution\\n(1760-1840)', \n",
    "          'grey', 1.1),\n",
    "    Event((1929, 1939), ylim + ylim*0.04, \n",
    "          'the Great Depression\\n(1929–1939)', \n",
    "          'grey', 1),\n",
    "    Event((1978, 1979), ylim + ylim*0.13, \n",
    "          'Reform and Opening-up\\n(1978-1979)', \n",
    "          color_mapping['CHN'], 1.1)\n",
    "]\n",
    "\n",
    "def draw_events(events, ax):\n",
    "    # Iterate over events and add annotations and vertical lines\n",
    "    for event in events:\n",
    "        event_mid = sum(event.year_range)/2\n",
    "        ax.text(event_mid, \n",
    "                event.y_text, event.text, \n",
    "                color=event.color, **t_params)\n",
    "        ax.axvspan(*event.year_range, color=event.color, alpha=0.2)\n",
    "        ax.axvline(event_mid, ymin=1, ymax=event.ymax, color=event.color,\n",
    "                   clip_on=False, alpha=0.15)\n",
    "\n",
    "# Draw events\n",
    "draw_events(events, ax)\n",
    "plt.show()"
   ]
  },
  {
   "cell_type": "markdown",
   "id": "61c79b6a",
   "metadata": {},
   "source": [
    "The preceding graph of per capita GDP strikingly reveals how the spread of the Industrial Revolution has over time gradually lifted the living standards of substantial\n",
    "groups of people\n",
    "\n",
    "- most of the growth happened in the past 150 years after the Industrial Revolution.  \n",
    "- per capita GDP in the US and UK rose and diverged from that of China from 1820 to 1940.  \n",
    "- the gap has closed rapidly after 1950 and especially after the late 1970s.  \n",
    "- these outcomes reflect complicated combinations of technological and economic-policy factors that students of economic growth try to understand and quantify.  "
   ]
  },
  {
   "cell_type": "markdown",
   "id": "956a50b7",
   "metadata": {},
   "source": [
    "### Focusing on China\n",
    "\n",
    "It is fascinating to see China’s GDP per capita levels from 1500 through to the 1970s.\n",
    "\n",
    "Notice the long period of declining GDP per capital levels from the 1700s until the early 20th century.\n",
    "\n",
    "Thus, the graph indicates\n",
    "\n",
    "- a long economic downturn and stagnation after the Closed-door Policy by the Qing government.  \n",
    "- China’s very different experience than the UK’s after the onset of the industrial revolution in the UK.  \n",
    "- how the Self-Strengthening Movement seemed mostly to help China to grow.  \n",
    "- how stunning have been the growth achievements of modern Chinese economic policies by the PRC that culminated with its late 1970s reform and liberalization.  "
   ]
  },
  {
   "cell_type": "code",
   "execution_count": null,
   "id": "ff6f2122",
   "metadata": {
    "hide-output": false
   },
   "outputs": [],
   "source": [
    "fig, ax = plt.subplots(dpi=300, figsize=(10, 6))\n",
    "\n",
    "country = ['CHN']\n",
    "draw_interp_plots(gdp_pc[country].loc[1600:2000], \n",
    "                  country,\n",
    "                  'international dollars','year',\n",
    "                  color_mapping, code_to_name, 2, True, ax)\n",
    "\n",
    "ylim = ax.get_ylim()[1]\n",
    "\n",
    "events = [\n",
    "Event((1655, 1684), ylim + ylim*0.06, \n",
    "      'Closed-door Policy\\n(1655-1684)', \n",
    "      'tab:orange', 1),\n",
    "Event((1760, 1840), ylim + ylim*0.06, \n",
    "      'Industrial Revolution\\n(1760-1840)', \n",
    "      'grey', 1),\n",
    "Event((1839, 1842), ylim + ylim*0.2, \n",
    "      'First Opium War\\n(1839–1842)', \n",
    "      'tab:red', 1.07),\n",
    "Event((1861, 1895), ylim + ylim*0.4, \n",
    "      'Self-Strengthening Movement\\n(1861–1895)', \n",
    "      'tab:blue', 1.14),\n",
    "Event((1939, 1945), ylim + ylim*0.06, \n",
    "      'WW 2\\n(1939-1945)', \n",
    "      'tab:red', 1),\n",
    "Event((1948, 1950), ylim + ylim*0.23, \n",
    "      'Founding of PRC\\n(1949)', \n",
    "      color_mapping['CHN'], 1.08),\n",
    "Event((1958, 1962), ylim + ylim*0.5, \n",
    "      'Great Leap Forward\\n(1958-1962)', \n",
    "      'tab:orange', 1.18),\n",
    "Event((1978, 1979), ylim + ylim*0.7, \n",
    "      'Reform and Opening-up\\n(1978-1979)', \n",
    "      'tab:blue', 1.24)\n",
    "]\n",
    "\n",
    "# Draw events\n",
    "draw_events(events, ax)\n",
    "plt.show()"
   ]
  },
  {
   "cell_type": "markdown",
   "id": "a9d4695f",
   "metadata": {},
   "source": [
    "### Focusing on the US and UK\n",
    "\n",
    "Now we look at the United States (USA) and United Kingdom (GBR) in more detail.\n",
    "\n",
    "In the following graph, please watch for\n",
    "\n",
    "- impact of trade policy (Navigation Act).  \n",
    "- productivity changes brought by the Industrial Revolution.  \n",
    "- how the US gradually approaches and then surpasses the UK, setting the stage for the ‘‘American Century’’.  \n",
    "- the often unanticipated consequences of wars.  \n",
    "- interruptions and scars left by [business cycle](https://intro.quantecon.org/business_cycle.html) recessions and depressions.  "
   ]
  },
  {
   "cell_type": "code",
   "execution_count": null,
   "id": "24e005a5",
   "metadata": {
    "hide-output": false
   },
   "outputs": [],
   "source": [
    "fig, ax = plt.subplots(dpi=300, figsize=(10, 6))\n",
    "\n",
    "country = ['GBR', 'USA']\n",
    "draw_interp_plots(gdp_pc[country].loc[1500:2000],\n",
    "                  country,\n",
    "                  'international dollars','year',\n",
    "                  color_mapping, code_to_name, 2, True, ax)\n",
    "\n",
    "ylim = ax.get_ylim()[1]\n",
    "\n",
    "# Create a list of data points\n",
    "events = [\n",
    "    Event((1651, 1651), ylim + ylim*0.15, \n",
    "          'Navigation Act (UK)\\n(1651)', \n",
    "          'tab:orange', 1),\n",
    "    Event((1765, 1791), ylim + ylim*0.15, \n",
    "          'American Revolution\\n(1765-1791)',\n",
    "          color_mapping['USA'], 1),\n",
    "    Event((1760, 1840), ylim + ylim*0.6, \n",
    "          'Industrial Revolution\\n(1760-1840)', \n",
    "          'grey', 1.08),\n",
    "    Event((1848, 1850), ylim + ylim*1.1, \n",
    "          'Repeal of Navigation Act (UK)\\n(1849)', \n",
    "          'tab:blue', 1.14),\n",
    "    Event((1861, 1865), ylim + ylim*1.8, \n",
    "          'American Civil War\\n(1861-1865)', \n",
    "          color_mapping['USA'], 1.21),\n",
    "    Event((1914, 1918), ylim + ylim*0.15, \n",
    "          'WW 1\\n(1914-1918)', \n",
    "          'tab:red', 1),\n",
    "    Event((1929, 1939), ylim + ylim*0.6, \n",
    "          'the Great Depression\\n(1929–1939)', \n",
    "          'grey', 1.08),\n",
    "    Event((1939, 1945), ylim + ylim*1.1, \n",
    "          'WW 2\\n(1939-1945)', \n",
    "          'tab:red', 1.14)\n",
    "]\n",
    "\n",
    "# Draw events\n",
    "draw_events(events, ax)\n",
    "plt.show()"
   ]
  },
  {
   "cell_type": "markdown",
   "id": "1871ac57",
   "metadata": {},
   "source": [
    "## GDP growth\n",
    "\n",
    "Now we’ll construct some graphs of interest to geopolitical historians like Adam Tooze.\n",
    "\n",
    "We’ll focus on total Gross Domestic Product (GDP) (as a proxy for ‘‘national geopolitical-military power’’) rather than focusing on GDP per capita (as a proxy for living standards)."
   ]
  },
  {
   "cell_type": "code",
   "execution_count": null,
   "id": "9c25000d",
   "metadata": {
    "hide-output": false
   },
   "outputs": [],
   "source": [
    "data = pd.read_excel(data_url, sheet_name='Full data')\n",
    "data.set_index(['countrycode', 'year'], inplace=True)\n",
    "data['gdp'] = data['gdppc'] * data['pop']\n",
    "gdp = data['gdp'].unstack('countrycode')"
   ]
  },
  {
   "cell_type": "markdown",
   "id": "2a661479",
   "metadata": {},
   "source": [
    "### Early industrialization (1820 to 1940)\n",
    "\n",
    "We first visualize the trend of China, the Former Soviet Union, Japan, the UK and the US.\n",
    "\n",
    "The most notable trend is the rise of the US, surpassing the UK in the 1860s and China in the 1880s.\n",
    "\n",
    "The growth continued until the large dip in the 1930s when the Great Depression hit.\n",
    "\n",
    "Meanwhile, Russia experienced significant setbacks during World War I and recovered significantly after the February Revolution."
   ]
  },
  {
   "cell_type": "code",
   "execution_count": null,
   "id": "65b55fdb",
   "metadata": {
    "hide-output": false
   },
   "outputs": [],
   "source": [
    "fig, ax = plt.subplots(dpi=300)\n",
    "country = ['CHN', 'SUN', 'JPN', 'GBR', 'USA']\n",
    "start_year, end_year = (1820, 1945)\n",
    "draw_interp_plots(gdp[country].loc[start_year:end_year], \n",
    "                  country,\n",
    "                  'international dollars', 'year',\n",
    "                  color_mapping, code_to_name, 2, False, ax)"
   ]
  },
  {
   "cell_type": "markdown",
   "id": "7670b524",
   "metadata": {},
   "source": [
    "#### Constructing a plot similar to Tooze’s\n",
    "\n",
    "In this section we describe how we have constructed a version of the striking figure from chapter 1 of [[Tooze, 2014](https://intro.quantecon.org/zreferences.html#id11)] that we discussed at the start of this lecture.\n",
    "\n",
    "Let’s first define a collection of countries that consist of the British Empire (BEM) so we can replicate that series in  Tooze’s chart."
   ]
  },
  {
   "cell_type": "code",
   "execution_count": null,
   "id": "6cc13a35",
   "metadata": {
    "hide-output": false
   },
   "outputs": [],
   "source": [
    "BEM = ['GBR', 'IND', 'AUS', 'NZL', 'CAN', 'ZAF']\n",
    "# Interpolate incomplete time-series\n",
    "gdp['BEM'] = gdp[BEM].loc[start_year-1:end_year].interpolate(method='index').sum(axis=1)"
   ]
  },
  {
   "cell_type": "markdown",
   "id": "c59b5378",
   "metadata": {},
   "source": [
    "Now let’s assemble our series and get ready to plot them."
   ]
  },
  {
   "cell_type": "code",
   "execution_count": null,
   "id": "3b659f8e",
   "metadata": {
    "hide-output": false
   },
   "outputs": [],
   "source": [
    "# Define colour mapping and name for BEM\n",
    "color_mapping['BEM'] = color_mapping['GBR']  # Set the color to be the same as Great Britain\n",
    "# Add British Empire to code_to_name\n",
    "bem = pd.DataFrame([\"British Empire\"], index=[\"BEM\"], columns=['country'])\n",
    "bem.index.name = 'countrycode'\n",
    "code_to_name = pd.concat([code_to_name, bem])"
   ]
  },
  {
   "cell_type": "code",
   "execution_count": null,
   "id": "197421aa",
   "metadata": {
    "hide-output": false
   },
   "outputs": [],
   "source": [
    "fig, ax = plt.subplots(dpi=300)\n",
    "country = ['DEU', 'USA', 'SUN', 'BEM', 'FRA', 'JPN']\n",
    "start_year, end_year = (1821, 1945)\n",
    "draw_interp_plots(gdp[country].loc[start_year:end_year], \n",
    "                  country,\n",
    "                  'international dollars', 'year',\n",
    "                  color_mapping, code_to_name, 2, False, ax)\n",
    "\n",
    "plt.savefig(\"./_static/lecture_specific/long_run_growth/tooze_ch1_graph.png\", dpi=300,\n",
    "            bbox_inches='tight')\n",
    "plt.show()"
   ]
  },
  {
   "cell_type": "markdown",
   "id": "3856f462",
   "metadata": {},
   "source": [
    "At the start of this lecture, we noted  how US GDP came from “nowhere” at the start of the 19th century to rival and then overtake the GDP of the British Empire\n",
    "by the end of the 19th century, setting the geopolitical stage for the “American (twentieth) century”.\n",
    "\n",
    "Let’s move forward in time and start roughly where Tooze’s graph stopped after World War II.\n",
    "\n",
    "In the spirit of Tooze’s chapter 1 analysis, doing this will provide some information about geopolitical realities today."
   ]
  },
  {
   "cell_type": "markdown",
   "id": "a5f750d0",
   "metadata": {},
   "source": [
    "### The modern era (1950 to 2020)\n",
    "\n",
    "The following graph displays how quickly China has grown, especially since the late 1970s."
   ]
  },
  {
   "cell_type": "code",
   "execution_count": null,
   "id": "e602b7a8",
   "metadata": {
    "hide-output": false
   },
   "outputs": [],
   "source": [
    "fig, ax = plt.subplots(dpi=300)\n",
    "country = ['CHN', 'SUN', 'JPN', 'GBR', 'USA']\n",
    "start_year, end_year = (1950, 2020)\n",
    "draw_interp_plots(gdp[country].loc[start_year:end_year], \n",
    "                  country,\n",
    "                  'international dollars', 'year',\n",
    "                  color_mapping, code_to_name, 2, False, ax)"
   ]
  },
  {
   "cell_type": "markdown",
   "id": "f6ffa21a",
   "metadata": {},
   "source": [
    "It is tempting to compare this graph with figure Fig. 2.6 that showed the US overtaking the UK near the start of the “American Century”, a version of the graph featured in chapter 1 of  [[Tooze, 2014](https://intro.quantecon.org/zreferences.html#id11)]."
   ]
  },
  {
   "cell_type": "markdown",
   "id": "90667848",
   "metadata": {},
   "source": [
    "## Regional analysis\n",
    "\n",
    "We often want to study the historical experiences of countries outside the club of “World Powers”.\n",
    "\n",
    "The [Maddison Historical Statistics](https://www.rug.nl/ggdc/historicaldevelopment/maddison/) dataset also includes regional aggregations"
   ]
  },
  {
   "cell_type": "code",
   "execution_count": null,
   "id": "b82dfe5f",
   "metadata": {
    "hide-output": false
   },
   "outputs": [],
   "source": [
    "data = pd.read_excel(data_url, \n",
    "                     sheet_name='Regional data', \n",
    "                     header=(0,1,2),\n",
    "                     index_col=0)\n",
    "data.columns = data.columns.droplevel(level=2)"
   ]
  },
  {
   "cell_type": "markdown",
   "id": "be510256",
   "metadata": {},
   "source": [
    "We can save the raw data in a more convenient format to build a single table of regional GDP per capita"
   ]
  },
  {
   "cell_type": "code",
   "execution_count": null,
   "id": "aded0146",
   "metadata": {
    "hide-output": false
   },
   "outputs": [],
   "source": [
    "regionalgdp_pc = data['gdppc_2011'].copy()\n",
    "regionalgdp_pc.index = pd.to_datetime(regionalgdp_pc.index, format='%Y')"
   ]
  },
  {
   "cell_type": "markdown",
   "id": "d9a3e8e0",
   "metadata": {},
   "source": [
    "Let’s interpolate based on time to fill in any gaps in the dataset for the purpose of plotting"
   ]
  },
  {
   "cell_type": "code",
   "execution_count": null,
   "id": "c580c81b",
   "metadata": {
    "hide-output": false
   },
   "outputs": [],
   "source": [
    "regionalgdp_pc.interpolate(method='time', inplace=True)"
   ]
  },
  {
   "cell_type": "markdown",
   "id": "65775347",
   "metadata": {},
   "source": [
    "Looking more closely, let’s compare the time series for `Western Offshoots` and `Sub-Saharan Africa` with a number of different regions around the world.\n",
    "\n",
    "Again we see the divergence of the West from the rest of the world after the Industrial Revolution and the convergence of the world after the 1950s"
   ]
  },
  {
   "cell_type": "code",
   "execution_count": null,
   "id": "9d00ba97",
   "metadata": {
    "hide-output": false
   },
   "outputs": [],
   "source": [
    "fig, ax = plt.subplots(dpi=300)\n",
    "regionalgdp_pc.plot(ax=ax, xlabel='year',\n",
    "                    lw=2,\n",
    "                    ylabel='international dollars')\n",
    "ax.set_yscale('log')\n",
    "plt.legend(loc='lower center',\n",
    "           ncol=3, bbox_to_anchor=[0.5, -0.5])\n",
    "plt.show()"
   ]
  }
 ],
 "metadata": {
  "date": 1716978162.53111,
  "filename": "long_run_growth.md",
  "kernelspec": {
   "display_name": "Python",
   "language": "python3",
   "name": "python3"
  },
  "title": "Long-Run Growth"
 },
 "nbformat": 4,
 "nbformat_minor": 5
}