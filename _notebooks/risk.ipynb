{
 "cells": [
  {
   "cell_type": "markdown",
   "id": "eb077ae9",
   "metadata": {},
   "source": [
    "# Risk\n",
    "\n",
    "To be completed."
   ]
  }
 ],
 "metadata": {
  "date": 1681793183.6534655,
  "filename": "risk.md",
  "kernelspec": {
   "display_name": "Python",
   "language": "python3",
   "name": "python3"
  },
  "title": "Risk"
 },
 "nbformat": 4,
 "nbformat_minor": 5
}