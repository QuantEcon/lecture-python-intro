{
 "cells": [
  {
   "cell_type": "markdown",
   "id": "84351975",
   "metadata": {},
   "source": [
    "# Introduction to Asset Pricing\n",
    "\n",
    "To be completed."
   ]
  }
 ],
 "metadata": {
  "date": 1682924613.5347662,
  "filename": "asset_pricing.md",
  "kernelspec": {
   "display_name": "Python",
   "language": "python3",
   "name": "python3"
  },
  "title": "Introduction to Asset Pricing"
 },
 "nbformat": 4,
 "nbformat_minor": 5
}