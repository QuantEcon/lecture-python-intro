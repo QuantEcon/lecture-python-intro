{
 "cells": [
  {
   "cell_type": "markdown",
   "id": "f3c7957b",
   "metadata": {},
   "source": [
    "# Introduction to Asset Pricing\n",
    "\n",
    "To be completed."
   ]
  }
 ],
 "metadata": {
  "date": 1681793182.1003585,
  "filename": "asset_pricing.md",
  "kernelspec": {
   "display_name": "Python",
   "language": "python3",
   "name": "python3"
  },
  "title": "Introduction to Asset Pricing"
 },
 "nbformat": 4,
 "nbformat_minor": 5
}