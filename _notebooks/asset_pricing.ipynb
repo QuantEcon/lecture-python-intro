{
 "cells": [
  {
   "cell_type": "markdown",
   "id": "cb684af5",
   "metadata": {},
   "source": [
    "# Introduction to Asset Pricing\n",
    "\n",
    "To be completed."
   ]
  }
 ],
 "metadata": {
  "date": 1684109700.3765185,
  "filename": "asset_pricing.md",
  "kernelspec": {
   "display_name": "Python",
   "language": "python3",
   "name": "python3"
  },
  "title": "Introduction to Asset Pricing"
 },
 "nbformat": 4,
 "nbformat_minor": 5
}