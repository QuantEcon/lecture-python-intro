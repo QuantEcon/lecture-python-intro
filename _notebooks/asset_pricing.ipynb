{
 "cells": [
  {
   "cell_type": "markdown",
   "id": "54651e35",
   "metadata": {},
   "source": [
    "# Introduction to Asset Pricing\n",
    "\n",
    "To be completed."
   ]
  }
 ],
 "metadata": {
  "date": 1684476350.367739,
  "filename": "asset_pricing.md",
  "kernelspec": {
   "display_name": "Python",
   "language": "python3",
   "name": "python3"
  },
  "title": "Introduction to Asset Pricing"
 },
 "nbformat": 4,
 "nbformat_minor": 5
}