{
 "cells": [
  {
   "cell_type": "markdown",
   "id": "e50bbfef",
   "metadata": {},
   "source": [
    "# Uncertainty\n",
    "\n",
    "To be completed."
   ]
  }
 ],
 "metadata": {
  "date": 1681793184.1683033,
  "filename": "uncertainty.md",
  "kernelspec": {
   "display_name": "Python",
   "language": "python3",
   "name": "python3"
  },
  "title": "Uncertainty"
 },
 "nbformat": 4,
 "nbformat_minor": 5
}