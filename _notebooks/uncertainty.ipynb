{
 "cells": [
  {
   "cell_type": "markdown",
   "id": "1bf6d0fa",
   "metadata": {},
   "source": [
    "# Uncertainty\n",
    "\n",
    "To be completed."
   ]
  }
 ],
 "metadata": {
  "date": 1681898276.5758202,
  "filename": "uncertainty.md",
  "kernelspec": {
   "display_name": "Python",
   "language": "python3",
   "name": "python3"
  },
  "title": "Uncertainty"
 },
 "nbformat": 4,
 "nbformat_minor": 5
}