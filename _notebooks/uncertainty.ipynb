{
 "cells": [
  {
   "cell_type": "markdown",
   "id": "3d276286",
   "metadata": {},
   "source": [
    "# Uncertainty\n",
    "\n",
    "To be completed."
   ]
  }
 ],
 "metadata": {
  "date": 1681797195.7873914,
  "filename": "uncertainty.md",
  "kernelspec": {
   "display_name": "Python",
   "language": "python3",
   "name": "python3"
  },
  "title": "Uncertainty"
 },
 "nbformat": 4,
 "nbformat_minor": 5
}