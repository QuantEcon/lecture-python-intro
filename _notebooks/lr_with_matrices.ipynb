{
 "cells": [
  {
   "cell_type": "markdown",
   "id": "1eb7e4a1",
   "metadata": {},
   "source": [
    "# Linear Regression with Matrices\n",
    "\n",
    "To be completed."
   ]
  }
 ],
 "metadata": {
  "date": 1681797193.8844225,
  "filename": "lr_with_matrices.md",
  "kernelspec": {
   "display_name": "Python",
   "language": "python3",
   "name": "python3"
  },
  "title": "Linear Regression with Matrices"
 },
 "nbformat": 4,
 "nbformat_minor": 5
}