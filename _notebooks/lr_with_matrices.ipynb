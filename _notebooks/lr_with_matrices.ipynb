{
 "cells": [
  {
   "cell_type": "markdown",
   "id": "2cfda4cc",
   "metadata": {},
   "source": [
    "# Linear Regression with Matrices\n",
    "\n",
    "To be completed."
   ]
  }
 ],
 "metadata": {
  "date": 1684109701.286406,
  "filename": "lr_with_matrices.md",
  "kernelspec": {
   "display_name": "Python",
   "language": "python3",
   "name": "python3"
  },
  "title": "Linear Regression with Matrices"
 },
 "nbformat": 4,
 "nbformat_minor": 5
}