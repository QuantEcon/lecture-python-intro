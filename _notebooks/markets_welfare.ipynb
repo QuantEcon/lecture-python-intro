{
 "cells": [
  {
   "cell_type": "markdown",
   "id": "d90a35ec",
   "metadata": {},
   "source": [
    "# Markets and Welfare\n",
    "\n",
    "To be completed."
   ]
  }
 ],
 "metadata": {
  "date": 1681793182.814378,
  "filename": "markets_welfare.md",
  "kernelspec": {
   "display_name": "Python",
   "language": "python3",
   "name": "python3"
  },
  "title": "Markets and Welfare"
 },
 "nbformat": 4,
 "nbformat_minor": 5
}