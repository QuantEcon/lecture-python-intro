{
 "cells": [
  {
   "cell_type": "markdown",
   "id": "db2e3ef0",
   "metadata": {},
   "source": [
    "# Markets and Welfare\n",
    "\n",
    "To be completed."
   ]
  }
 ],
 "metadata": {
  "date": 1681898275.076792,
  "filename": "markets_welfare.md",
  "kernelspec": {
   "display_name": "Python",
   "language": "python3",
   "name": "python3"
  },
  "title": "Markets and Welfare"
 },
 "nbformat": 4,
 "nbformat_minor": 5
}