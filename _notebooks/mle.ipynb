{
 "cells": [
  {
   "cell_type": "markdown",
   "id": "379943a9",
   "metadata": {},
   "source": [
    "# Maximum Likelihood Estimation\n",
    "\n",
    "To be completed."
   ]
  }
 ],
 "metadata": {
  "date": 1681797194.0655892,
  "filename": "mle.md",
  "kernelspec": {
   "display_name": "Python",
   "language": "python3",
   "name": "python3"
  },
  "title": "Maximum Likelihood Estimation"
 },
 "nbformat": 4,
 "nbformat_minor": 5
}