{
 "cells": [
  {
   "cell_type": "markdown",
   "id": "c81b5984",
   "metadata": {},
   "source": [
    "# Maximum Likelihood Estimation\n",
    "\n",
    "To be completed."
   ]
  }
 ],
 "metadata": {
  "date": 1681793182.9470644,
  "filename": "mle.md",
  "kernelspec": {
   "display_name": "Python",
   "language": "python3",
   "name": "python3"
  },
  "title": "Maximum Likelihood Estimation"
 },
 "nbformat": 4,
 "nbformat_minor": 5
}