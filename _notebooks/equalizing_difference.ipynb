{
 "cells": [
  {
   "cell_type": "markdown",
   "id": "f123e59d",
   "metadata": {},
   "source": [
    "# Equalizing Difference Model"
   ]
  },
  {
   "cell_type": "markdown",
   "id": "158f63e8",
   "metadata": {},
   "source": [
    "## Overview\n",
    "\n",
    "This lecture presents a model of the college-high-school wage gap in which the\n",
    "“time to build” a college graduate plays a key role.\n",
    "\n",
    "The model is “incomplete” in the sense that it is just one “condition” in the form of a single equation that would be part of set equations comprising all  “equilibrium conditions” of   a more fully articulated model.\n",
    "\n",
    "The condition featured in our model determines  a college, high-school wage ratio that equalizes the present values of a high school worker and a college educated worker.\n",
    "\n",
    "The idea behind this condition is that lifetime earnings have to adjust to make someone indifferent between going to college and not going to college.\n",
    "\n",
    "(The job of the “other equations” in a more complete model would be to fill in details about what adjusts to bring about this outcome.)\n",
    "\n",
    "It is just one instance of an  “equalizing difference” theory of relative wage rates, a class of theories dating back at least to Adam Smith’s **Wealth of Nations** [[Smi10](https://intro.quantecon.org/zreferences.html#id3)].\n",
    "\n",
    "For most of this lecture, the only mathematical tools that we’ll use are from linear algebra, in particular, matrix multiplication and matrix inversion.\n",
    "\n",
    "However, at the very end of the lecture, we’ll use calculus just in case readers want to see how computing partial derivatives could let us present some findings more concisely.\n",
    "\n",
    "(And doing that will let us show off how good Python is at doing calculus!)\n",
    "\n",
    "But if you don’t know calculus, our tools from linear algebra are certainly enough.\n",
    "\n",
    "As usual, we’ll start by importing some Python modules."
   ]
  },
  {
   "cell_type": "code",
   "execution_count": null,
   "id": "a24b2ac4",
   "metadata": {
    "hide-output": false
   },
   "outputs": [],
   "source": [
    "import numpy as np\n",
    "import matplotlib.pyplot as plt"
   ]
  },
  {
   "cell_type": "markdown",
   "id": "cc197ad0",
   "metadata": {},
   "source": [
    "## The indifference condition\n",
    "\n",
    "The key idea is that the initial college wage premium has to adjust to make a representative worker indifferent between going to college and not going to college.\n",
    "\n",
    "Let\n",
    "\n",
    "- $ R > 1 $ be the gross rate of return on a one-period bond  \n",
    "- $ t = 0, 1, 2, \\ldots T $ denote the years that a person either works or attends college  \n",
    "- $ 0 $ denote the first period after high school that a person can go to work  \n",
    "- $ T $ denote the last period  that a person  works  \n",
    "- $ w_t^h $ be the wage at time $ t $ of a high school graduate  \n",
    "- $ w_t^c $ be the wage at time $ t $ of a college graduate  \n",
    "- $ \\gamma_h > 1 $ be the (gross) rate of growth of wages of a  high school graduate, so that\n",
    "  $ w_t^h = w_0^h \\gamma_h^t $  \n",
    "- $ \\gamma_c > 1 $ be the (gross) rate of growth of wages of a  college  graduate, so that\n",
    "  $ w_t^c = w_0^c \\gamma_c^t $  \n",
    "- $ D $ be the upfront monetary costs of going to college  \n",
    "\n",
    "\n",
    "If someone goes to work immediately after high school  and  works for the  $ T+1 $ years $ t=0, 1, 2, \\ldots, T $, she earns present value\n",
    "\n",
    "$$\n",
    "h_0 = \\sum_{t=0}^T R^{-t} w_t^h = w_0^h \\left[ \\frac{1 - (R^{-1} \\gamma_h)^{T+1} }{1 - R^{-1} \\gamma_h } \\right] \\equiv w_0^h A_h\n",
    "$$\n",
    "\n",
    "where\n",
    "\n",
    "$$\n",
    "A_h = \\left[ \\frac{1 - (R^{-1} \\gamma_h)^{T+1} }{1 - R^{-1} \\gamma_h } \\right].\n",
    "$$\n",
    "\n",
    "The present value $ h_0 $ is the “human wealth” at the beginning of time $ 0 $ of someone who chooses not to attend college but instead to go to work immediately at the wage of a high school graduate.\n",
    "\n",
    "If someone goes to college for the four years $ t=0, 1, 2, 3 $ during which she earns $ 0 $, but then goes to work  immediately after college   and  works for the $ T-3 $ years $ t=4, 5, \\ldots ,T $, she earns present value\n",
    "\n",
    "$$\n",
    "c_0 = \\sum_{t=4}^T R^{-t} w_t^c = w_0^c (R^{-1} \\gamma_c)^4  \\left[ \\frac{1 - (R^{-1} \\gamma_c)^{T-3} }{1 - R^{-1} \\gamma_c } \\right] \\equiv w_0^c A_c\n",
    "$$\n",
    "\n",
    "where\n",
    "\n",
    "$$\n",
    "A_c = (R^{-1} \\gamma_c)^4  \\left[ \\frac{1 - (R^{-1} \\gamma_c)^{T-3} }{1 - R^{-1} \\gamma_c } \\right]\n",
    "$$\n",
    "\n",
    "The present value $ c_0 $  is the “human wealth” at the beginning of time $ 0 $ of someone who chooses to attend college for four years and then start to work at time $ t=4 $ at the wage of a college graduate.\n",
    "\n",
    "Assume that college tuition plus four years of room and board paid for up front costs $ D $.\n",
    "\n",
    "So net of monetary cost of college, the present value of attending college as of the first period after high school is\n",
    "\n",
    "$$\n",
    "c_0 - D\n",
    "$$\n",
    "\n",
    "We now formulate a pure **equalizing difference** model of the initial college-high school wage gap $ \\phi $ defined by\n",
    "\n",
    "Let\n",
    "\n",
    "$$\n",
    "w_0^c = \\phi w_0^h\n",
    "$$\n",
    "\n",
    "We suppose that $ R, \\gamma_h, \\gamma_c, T $ and also $ w_0^h $  are fixed parameters.\n",
    "\n",
    "We start by noting that the pure equalizing difference model asserts that the college-high-school wage gap $ \\phi $ solves\n",
    "“equalizing” equation that sets the present value not going to college equal to the present value of going go college:\n",
    "\n",
    "$$\n",
    "h_0 = c_0 - D\n",
    "$$\n",
    "\n",
    "or\n",
    "\n",
    "\n",
    "<a id='equation-eq-equalize'></a>\n",
    "$$\n",
    "w_0^h A_h  = \\phi w_0^h A_c - D . \\tag{10.1}\n",
    "$$\n",
    "\n",
    "This is the “indifference condition” that is at the heart of the model.\n",
    "\n",
    "Solving equation [(10.1)](#equation-eq-equalize) for the college wage premium $ \\phi $ we obtain\n",
    "\n",
    "\n",
    "<a id='equation-eq-wagepremium'></a>\n",
    "$$\n",
    "\\phi  = \\frac{A_h}{A_c} + \\frac{D}{w_0^h A_c} . \\tag{10.2}\n",
    "$$\n",
    "\n",
    "In a **free college** special case $ D =0 $ so that the only cost of going to college is the forgone earnings from not working as a high school worker.\n",
    "\n",
    "In that case,\n",
    "\n",
    "$$\n",
    "\\phi  = \\frac{A_h}{A_c} .\n",
    "$$\n",
    "\n",
    "Soon we’ll write Python code to compute the gap and plot it as a function of its determinants.\n",
    "\n",
    "But first we’ll describe a possible alternative interpretation of our model."
   ]
  },
  {
   "cell_type": "markdown",
   "id": "cb25f46a",
   "metadata": {},
   "source": [
    "## Reinterpreting the model: workers and entrepreneurs\n",
    "\n",
    "We can add a parameter and reinterpret variables to get a model of entrepreneurs versus workers.\n",
    "\n",
    "We now let $ h $ be  the present value of a “worker”.\n",
    "\n",
    "We define the present value of an entrepreneur to be\n",
    "\n",
    "$$\n",
    "c_0 = \\pi \\sum_{t=4}^T R^{-t} w_t^c\n",
    "$$\n",
    "\n",
    "where $ \\pi \\in (0,1) $ is  the probability that an entrepreneur’s “project” succeeds.\n",
    "\n",
    "For our model of workers and firms, we’ll interpret $ D $ as the cost of becoming an entrepreneur.\n",
    "\n",
    "This cost might include costs of hiring workers, office space, and lawyers.\n",
    "\n",
    "What we used to call the college, high school wage gap $ \\phi $ now becomes the ratio\n",
    "of a successful entrepreneur’s earnings to a worker’s earnings.\n",
    "\n",
    "We’ll find that as $ \\pi $ decreases, $ \\phi $ increases.\n",
    "\n",
    "Now let’s write some Python code to compute $ \\phi $ and plot it as a function of some of its determinants.\n",
    "\n",
    "We can have some fun providing some example calculations that tweak various parameters,\n",
    "prominently including $ \\gamma_h, \\gamma_c, R $."
   ]
  },
  {
   "cell_type": "code",
   "execution_count": null,
   "id": "bd0314a7",
   "metadata": {
    "hide-output": false
   },
   "outputs": [],
   "source": [
    "class equalizing_diff:\n",
    "    \"\"\"\n",
    "    A class of the equalizing difference model\n",
    "    \"\"\"\n",
    "    \n",
    "    def __init__(self, R, T, γ_h, γ_c, w_h0, D=0, π=None):\n",
    "        # one switches to the weak model by setting π\n",
    "        self.R, self.γ_h, self.γ_c, self.w_h0, self.D = R, γ_h, γ_c, w_h0, D\n",
    "        self.T, self.π = T, π\n",
    "    \n",
    "    def compute_gap(self):\n",
    "        R, γ_h, γ_c, w_h0, D = self.R, self.γ_h, self.γ_c, self.w_h0, self.D\n",
    "        T, π = self.T, self.π\n",
    "        \n",
    "        A_h = (1 - (γ_h/R)**(T+1)) / (1 - γ_h/R)\n",
    "        A_c = (1 - (γ_c/R)**(T-3)) / (1 - γ_c/R) * (γ_c/R)**4\n",
    "        \n",
    "        # tweaked model\n",
    "        if π!=None:\n",
    "            A_c = π*A_c \n",
    "        \n",
    "        ϕ = A_h/A_c + D/(w_h0*A_c)\n",
    "        return ϕ"
   ]
  },
  {
   "cell_type": "markdown",
   "id": "042762ce",
   "metadata": {},
   "source": [
    "We can build some functions to help do comparative statics using vectorization instead of loops.\n",
    "\n",
    "For a given instance of the class, we want to compute $ \\phi $ when one parameter changes and others remain unchanged.\n",
    "\n",
    "Let’s do an example."
   ]
  },
  {
   "cell_type": "code",
   "execution_count": null,
   "id": "e29fb4f7",
   "metadata": {
    "hide-output": false
   },
   "outputs": [],
   "source": [
    "# ϕ_R\n",
    "def ϕ_R(mc, R_new):\n",
    "    mc_new = equalizing_diff(R_new, mc.T, mc.γ_h, mc.γ_c, mc.w_h0, mc.D, mc.π)\n",
    "    return mc_new.compute_gap()\n",
    "\n",
    "ϕ_R = np.vectorize(ϕ_R)\n",
    "\n",
    "# ϕ_γh\n",
    "def ϕ_γh(mc, γh_new):\n",
    "    mc_new = equalizing_diff(mc.R, mc.T, γh_new, mc.γ_c, mc.w_h0, mc.D, mc.π)\n",
    "    return mc_new.compute_gap()\n",
    "\n",
    "ϕ_γh = np.vectorize(ϕ_γh)\n",
    "\n",
    "# ϕ_γc\n",
    "def ϕ_γc(mc, γc_new):\n",
    "    mc_new = equalizing_diff(mc.R, mc.T, mc.γ_h, γc_new, mc.w_h0, mc.D, mc.π)\n",
    "    return mc_new.compute_gap()\n",
    "\n",
    "ϕ_γc = np.vectorize(ϕ_γc)\n",
    "\n",
    "# ϕ_π\n",
    "def ϕ_π(mc, π_new):\n",
    "    mc_new = equalizing_diff(mc.R, mc.T, mc.γ_h, mc.γ_c, mc.w_h0, mc.D, π_new)\n",
    "    return mc_new.compute_gap()\n",
    "\n",
    "ϕ_π = np.vectorize(ϕ_π)"
   ]
  },
  {
   "cell_type": "code",
   "execution_count": null,
   "id": "b91e6085",
   "metadata": {
    "hide-output": false
   },
   "outputs": [],
   "source": [
    "# set benchmark parameters\n",
    "R = 1.05\n",
    "T = 40\n",
    "γ_h, γ_c = 1.01, 1.01\n",
    "w_h0 = 1\n",
    "D = 10\n",
    "\n",
    "# create an instance\n",
    "ex1 = equalizing_diff(R=R, T=T, γ_h=γ_h, γ_c=γ_c, w_h0=w_h0, D=D)\n",
    "gap1 = ex1.compute_gap()\n",
    "\n",
    "print(gap1)"
   ]
  },
  {
   "cell_type": "markdown",
   "id": "67568058",
   "metadata": {},
   "source": [
    "Let’s not charge for college and recompute $ \\phi $.\n",
    "\n",
    "The initial college wage premium should go down."
   ]
  },
  {
   "cell_type": "code",
   "execution_count": null,
   "id": "46b9474f",
   "metadata": {
    "hide-output": false
   },
   "outputs": [],
   "source": [
    "# free college\n",
    "ex2 = equalizing_diff(R, T, γ_h, γ_c, w_h0, D=0)\n",
    "gap2 = ex2.compute_gap()\n",
    "print(gap2)"
   ]
  },
  {
   "cell_type": "markdown",
   "id": "43aac698",
   "metadata": {},
   "source": [
    "Let us construct some graphs that show us how the initial college-high-school wage ratio $ \\phi $ would change if one of its determinants were to change.\n",
    "\n",
    "Let’s start with the gross interest rate $ R $."
   ]
  },
  {
   "cell_type": "code",
   "execution_count": null,
   "id": "242027e7",
   "metadata": {
    "hide-output": false
   },
   "outputs": [],
   "source": [
    "R_arr = np.linspace(1, 1.2, 50)\n",
    "plt.plot(R_arr, φ_R(ex1, R_arr))\n",
    "plt.xlabel(r'$R$')\n",
    "plt.ylabel(r'wage gap')\n",
    "plt.show()"
   ]
  },
  {
   "cell_type": "markdown",
   "id": "6dbbaaaf",
   "metadata": {},
   "source": [
    "Evidently, the initial wage ratio $ \\phi $ must rise to compensate a prospective high school student for **waiting** to start receiving income – remember that while she is earning nothing in years $ t=0, 1, 2, 3 $, the high school worker is earning a salary.\n",
    "\n",
    "Not let’s study what happens to the initial wage ratio $ \\phi $ if the rate of growth of college wages rises, holding constant other\n",
    "determinants of $ \\phi $."
   ]
  },
  {
   "cell_type": "code",
   "execution_count": null,
   "id": "8078e1de",
   "metadata": {
    "hide-output": false
   },
   "outputs": [],
   "source": [
    "γc_arr = np.linspace(1, 1.2, 50)\n",
    "plt.plot(γc_arr, φ_γc(ex1, γc_arr))\n",
    "plt.xlabel(r'$\\gamma_c$')\n",
    "plt.ylabel(r'wage gap')\n",
    "plt.show()"
   ]
  },
  {
   "cell_type": "markdown",
   "id": "c0bbf6d0",
   "metadata": {},
   "source": [
    "Notice how  the intitial wage gap falls when the rate of growth $ \\gamma_c $ of college wages rises.\n",
    "\n",
    "It falls to “equalize” the present values of the two types of career, one as a high school worker, the other as a college worker.\n",
    "\n",
    "Can you guess what happens to the initial wage ratio $ \\phi $ when next we vary the rate of growth of high school wages, holding all other determinants of $ \\phi $ constant?\n",
    "\n",
    "The following graph shows what happens."
   ]
  },
  {
   "cell_type": "code",
   "execution_count": null,
   "id": "b1f3f3d3",
   "metadata": {
    "hide-output": false
   },
   "outputs": [],
   "source": [
    "γh_arr = np.linspace(1, 1.1, 50)\n",
    "plt.plot(γh_arr, φ_γh(ex1, γh_arr))\n",
    "plt.xlabel(r'$\\gamma_h$')\n",
    "plt.ylabel(r'wage gap')\n",
    "plt.show()"
   ]
  },
  {
   "cell_type": "markdown",
   "id": "6b8b9ff7",
   "metadata": {},
   "source": [
    "## Entrepreneur-worker interpretation\n",
    "\n",
    "Now let’s adopt the entrepreneur-worker interpretation of our model.\n",
    "\n",
    "If the probability that a new business succeeds is $ .2 $, let’s compute the initial wage premium for successful entrepreneurs."
   ]
  },
  {
   "cell_type": "code",
   "execution_count": null,
   "id": "b71e6d1f",
   "metadata": {
    "hide-output": false
   },
   "outputs": [],
   "source": [
    "# a model of enterpreneur\n",
    "ex3 = equalizing_diff(R, T, γ_h, γ_c, w_h0, π=0.2)\n",
    "gap3 = ex3.compute_gap()\n",
    "\n",
    "print(gap3)"
   ]
  },
  {
   "cell_type": "markdown",
   "id": "39bdccb4",
   "metadata": {},
   "source": [
    "Now let’s study how the initial wage premium for successful entrepreneurs depend on the success probability."
   ]
  },
  {
   "cell_type": "code",
   "execution_count": null,
   "id": "381c7b57",
   "metadata": {
    "hide-output": false
   },
   "outputs": [],
   "source": [
    "π_arr = np.linspace(0.2, 1, 50)\n",
    "plt.plot(π_arr, φ_π(ex3, π_arr))\n",
    "plt.ylabel(r'wage gap')\n",
    "plt.xlabel(r'$\\pi$')\n",
    "plt.show()"
   ]
  },
  {
   "cell_type": "markdown",
   "id": "55c9da8b",
   "metadata": {},
   "source": [
    "Does the graph make sense to you?"
   ]
  },
  {
   "cell_type": "markdown",
   "id": "647af377",
   "metadata": {},
   "source": [
    "## An application of calculus\n",
    "\n",
    "So far, we have used only linear algebra and it has been a good enough tool for us to  figure out how our model works.\n",
    "\n",
    "However, someone who knows calculus might ask “Instead of plotting those graphs, why didn’t you just take partial derivatives?”\n",
    "\n",
    "We’ll briefly do just that,  yes, the questioner is correct and that partial derivatives are indeed a good tool for discovering the “comparative statics” properities of our model.\n",
    "\n",
    "A reader who doesn’t know calculus could read no further and feel confident that applying linear algebra has taught us the main properties of the model.\n",
    "\n",
    "But for a reader interested in how we can get Python to do all the hard work involved in computing partial derivatives, we’ll say a few things about that now.\n",
    "\n",
    "We’ll use the Python module ‘sympy’ to compute partial derivatives of $ \\phi $ with respect to the parameters that determine it.\n",
    "\n",
    "Let’s import key functions from sympy."
   ]
  },
  {
   "cell_type": "code",
   "execution_count": null,
   "id": "384b5cbf",
   "metadata": {
    "hide-output": false
   },
   "outputs": [],
   "source": [
    "from sympy import Symbol, Lambda, symbols"
   ]
  },
  {
   "cell_type": "markdown",
   "id": "e12a89d3",
   "metadata": {},
   "source": [
    "Define symbols"
   ]
  },
  {
   "cell_type": "code",
   "execution_count": null,
   "id": "fbc71e5f",
   "metadata": {
    "hide-output": false
   },
   "outputs": [],
   "source": [
    "γ_h, γ_c, w_h0, D = symbols('\\gamma_h, \\gamma_h_c, w_0^h, D', real=True)\n",
    "R, T = Symbol('R', real=True), Symbol('T', integer=True)"
   ]
  },
  {
   "cell_type": "markdown",
   "id": "04074812",
   "metadata": {},
   "source": [
    "Define function $ A_h $"
   ]
  },
  {
   "cell_type": "code",
   "execution_count": null,
   "id": "07378335",
   "metadata": {
    "hide-output": false
   },
   "outputs": [],
   "source": [
    "A_h = Lambda((γ_h, R, T), (1 - (γ_h/R)**(T+1)) / (1 - γ_h/R))\n",
    "A_h"
   ]
  },
  {
   "cell_type": "markdown",
   "id": "55eb7276",
   "metadata": {},
   "source": [
    "Define function $ A_c $"
   ]
  },
  {
   "cell_type": "code",
   "execution_count": null,
   "id": "62d0142f",
   "metadata": {
    "hide-output": false
   },
   "outputs": [],
   "source": [
    "A_c = Lambda((γ_c, R, T), (1 - (γ_c/R)**(T-3)) / (1 - γ_c/R) * (γ_c/R)**4)\n",
    "A_c"
   ]
  },
  {
   "cell_type": "markdown",
   "id": "01cc7c86",
   "metadata": {},
   "source": [
    "Now, define $ \\phi $"
   ]
  },
  {
   "cell_type": "code",
   "execution_count": null,
   "id": "cf77b3d2",
   "metadata": {
    "hide-output": false
   },
   "outputs": [],
   "source": [
    "ϕ = Lambda((D, γ_h, γ_c, R, T, w_h0), A_h(γ_h, R, T)/A_c(γ_c, R, T) + D/(w_h0*A_c(γ_c, R, T)))"
   ]
  },
  {
   "cell_type": "code",
   "execution_count": null,
   "id": "4d28401f",
   "metadata": {
    "hide-output": false
   },
   "outputs": [],
   "source": [
    "ϕ"
   ]
  },
  {
   "cell_type": "markdown",
   "id": "4882337b",
   "metadata": {},
   "source": [
    "We begin by setting  default parameter values."
   ]
  },
  {
   "cell_type": "code",
   "execution_count": null,
   "id": "82374706",
   "metadata": {
    "hide-output": false
   },
   "outputs": [],
   "source": [
    "R_value = 1.05\n",
    "T_value = 40\n",
    "γ_h_value, γ_c_value = 1.01, 1.01\n",
    "w_h0_value = 1\n",
    "D_value = 10"
   ]
  },
  {
   "cell_type": "markdown",
   "id": "ec85e5f2",
   "metadata": {},
   "source": [
    "Now let’s compute $ \\frac{\\partial \\phi}{\\partial D} $ and then evaluate it at the default values"
   ]
  },
  {
   "cell_type": "code",
   "execution_count": null,
   "id": "e1361107",
   "metadata": {
    "hide-output": false
   },
   "outputs": [],
   "source": [
    "ϕ_D = ϕ(D, γ_h, γ_c, R, T, w_h0).diff(D)\n",
    "ϕ_D"
   ]
  },
  {
   "cell_type": "code",
   "execution_count": null,
   "id": "9e5ff4a7",
   "metadata": {
    "hide-output": false
   },
   "outputs": [],
   "source": [
    "# Numerical value at default parameters\n",
    "ϕ_D_func = Lambda((D, γ_h, γ_c, R, T, w_h0), ϕ_D)\n",
    "ϕ_D_func(D_value, γ_h_value, γ_c_value, R_value, T_value, w_h0_value)"
   ]
  },
  {
   "cell_type": "markdown",
   "id": "b4767a8b",
   "metadata": {},
   "source": [
    "Thus, as with our graph above, we find that raising $ R $ increases the initial college wage premium $ \\phi $.\n",
    "\n",
    "Compute $ \\frac{\\partial \\phi}{\\partial T} $ and evaluate it a default parameters"
   ]
  },
  {
   "cell_type": "code",
   "execution_count": null,
   "id": "ace38f9d",
   "metadata": {
    "hide-output": false
   },
   "outputs": [],
   "source": [
    "ϕ_T = ϕ(D, γ_h, γ_c, R, T, w_h0).diff(T)\n",
    "ϕ_T"
   ]
  },
  {
   "cell_type": "code",
   "execution_count": null,
   "id": "49d6516b",
   "metadata": {
    "hide-output": false
   },
   "outputs": [],
   "source": [
    "# Numerical value at default parameters\n",
    "ϕ_T_func = Lambda((D, γ_h, γ_c, R, T, w_h0), ϕ_T)\n",
    "ϕ_T_func(D_value, γ_h_value, γ_c_value, R_value, T_value, w_h0_value)"
   ]
  },
  {
   "cell_type": "markdown",
   "id": "f57c87da",
   "metadata": {},
   "source": [
    "We find that raising $ T $ decreases the initial college wage premium $ \\phi $.\n",
    "\n",
    "This is because college graduates now have longer career lengths to “pay off” the time and other costs they paid to go to college\n",
    "\n",
    "Let’s compute $ \\frac{\\partial \\phi}{\\partial γ_h} $ and evaluate it at default parameters."
   ]
  },
  {
   "cell_type": "code",
   "execution_count": null,
   "id": "459b79e6",
   "metadata": {
    "hide-output": false
   },
   "outputs": [],
   "source": [
    "ϕ_γ_h = ϕ(D, γ_h, γ_c, R, T, w_h0).diff(γ_h)\n",
    "ϕ_γ_h"
   ]
  },
  {
   "cell_type": "code",
   "execution_count": null,
   "id": "185d0f01",
   "metadata": {
    "hide-output": false
   },
   "outputs": [],
   "source": [
    "# Numerical value at default parameters\n",
    "ϕ_γ_h_func = Lambda((D, γ_h, γ_c, R, T, w_h0), ϕ_γ_h)\n",
    "ϕ_γ_h_func(D_value, γ_h_value, γ_c_value, R_value, T_value, w_h0_value)"
   ]
  },
  {
   "cell_type": "markdown",
   "id": "2654c221",
   "metadata": {},
   "source": [
    "We find that raising $ \\gamma_h $ increases the initial college wage premium $ \\phi $, as we did with our graphical analysis earlier\n",
    "\n",
    "Compute $ \\frac{\\partial \\phi}{\\partial γ_c} $ and evaluate it numerically at default parameter values"
   ]
  },
  {
   "cell_type": "code",
   "execution_count": null,
   "id": "f9dcb749",
   "metadata": {
    "hide-output": false
   },
   "outputs": [],
   "source": [
    "ϕ_γ_c = ϕ(D, γ_h, γ_c, R, T, w_h0).diff(γ_c)\n",
    "ϕ_γ_c"
   ]
  },
  {
   "cell_type": "code",
   "execution_count": null,
   "id": "7b33777a",
   "metadata": {
    "hide-output": false
   },
   "outputs": [],
   "source": [
    "# Numerical value at default parameters\n",
    "ϕ_γ_c_func = Lambda((D, γ_h, γ_c, R, T, w_h0), ϕ_γ_c)\n",
    "ϕ_γ_c_func(D_value, γ_h_value, γ_c_value, R_value, T_value, w_h0_value)"
   ]
  },
  {
   "cell_type": "markdown",
   "id": "f0c3b087",
   "metadata": {},
   "source": [
    "We find that raising $ \\gamma_c $ decreases the initial college wage premium $ \\phi $, as we did with our graphical analysis earlier\n",
    "\n",
    "Let’s compute $ \\frac{\\partial \\phi}{\\partial R} $ and evaluate it numerically at default parameter values"
   ]
  },
  {
   "cell_type": "code",
   "execution_count": null,
   "id": "cc81ae17",
   "metadata": {
    "hide-output": false
   },
   "outputs": [],
   "source": [
    "ϕ_R = ϕ(D, γ_h, γ_c, R, T, w_h0).diff(R)\n",
    "ϕ_R"
   ]
  },
  {
   "cell_type": "code",
   "execution_count": null,
   "id": "f7fa755f",
   "metadata": {
    "hide-output": false
   },
   "outputs": [],
   "source": [
    "# Numerical value at default parameters\n",
    "ϕ_R_func = Lambda((D, γ_h, γ_c, R, T, w_h0), ϕ_R)\n",
    "ϕ_R_func(D_value, γ_h_value, γ_c_value, R_value, T_value, w_h0_value)"
   ]
  },
  {
   "cell_type": "markdown",
   "id": "03044cf6",
   "metadata": {},
   "source": [
    "We find that raising the gross interest rate $ R $ increases the initial college wage premium $ \\phi $, as we did with our graphical analysis earlier"
   ]
  }
 ],
 "metadata": {
  "date": 1695607168.4144561,
  "filename": "equalizing_difference.md",
  "kernelspec": {
   "display_name": "Python",
   "language": "python3",
   "name": "python3"
  },
  "title": "Equalizing Difference Model"
 },
 "nbformat": 4,
 "nbformat_minor": 5
}