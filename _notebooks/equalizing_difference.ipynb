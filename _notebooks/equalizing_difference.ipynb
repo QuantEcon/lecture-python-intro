{
 "cells": [
  {
   "cell_type": "markdown",
   "id": "89b51cab",
   "metadata": {},
   "source": [
    "# Equalizing Difference Model\n",
    "\n",
    "This notebook presents a model of the college-high-school wage gap in which the\n",
    "“time to build” a college graduate plays a key role.\n",
    "\n",
    "The model is “incomplete” in the sense that it is just one “condition” in the form of one\n",
    "equation that would be part of set equations comprising all of the “equilibrium conditions” of   a more fully articulated model.\n",
    "\n",
    "The condition featured in our model determines  a college, high-school wage ratio that equalizes the\n",
    "present values of a high school worker and a college educated worker.\n",
    "\n",
    "It is just one instance of an  “equalizing difference” theory of relative wage rates, a class dating back at least to Adam Smith’s **Wealth of Nations**."
   ]
  },
  {
   "cell_type": "markdown",
   "id": "69842973",
   "metadata": {
    "hide-output": false
   },
   "source": [
    "```ipython3\n",
    "import numpy as np\n",
    "import matplotlib.pyplot as plt\n",
    "```\n"
   ]
  },
  {
   "cell_type": "markdown",
   "id": "96c8f301",
   "metadata": {},
   "source": [
    "Let\n",
    "\n",
    "- $ R > 0 $ be the gross rate of return on a one-period bond  \n",
    "- $ 0 $ denotes the first period after high school that a person can go to work  \n",
    "- $ T $ denote the last period a person can work  \n",
    "- $ w_t^h $ be the wage at time $ t $ of a high school graduate  \n",
    "- $ w_t^c $ be the wage at time $ t $ of a college graduate  \n",
    "- $ \\gamma_h > 0 $ be the (gross) rate of growth of wages of a  high school graduate, so that\n",
    "  $ w_t^h = w_0^h \\gamma_h^t $  \n",
    "- $ \\gamma_c > 0 $ be the (gross) rate of growth of wages of a  college  graduate, so that\n",
    "  $ w_t^c = w_0^c \\gamma_c^t $  \n",
    "\n",
    "\n",
    "If someone goes to work immediately after high school  and  works for $ T+1 $ years, she earns present value\n",
    "\n",
    "$$\n",
    "h_0 = \\sum_{t=0}^T R^{-t} w_t^h = w_0^h \\left[ \\frac{1 - (R^{-1} \\gamma_h)^{T+1} }{1 - R^{-1} \\gamma_h } \\right] \\equiv w_0^h A_h\n",
    "$$\n",
    "\n",
    "If someone goes to college for four years during which she earns $ 0 $, but then goes to work  immediately after college   and  work for $ T-3 $ years, she earns present value\n",
    "\n",
    "$$\n",
    "c_0 = \\sum_{t=4}^T R^{-t} w_t^c = w_0^c (R^{-1} \\gamma_c)^3  \\left[ \\frac{1 - (R^{-1} \\gamma_c)^{T-3} }{1 - R^{-1} \\gamma_c } \\right] \\equiv w_0^c A_c\n",
    "$$\n",
    "\n",
    "Assume that college tuition plus four years of room and board paid for up front costs $ D $.\n",
    "\n",
    "So net of monetary cost of college, the present value of attending college as of the first period after high school is\n",
    "\n",
    "$$\n",
    "c_0 - D\n",
    "$$\n",
    "\n",
    "We now formulate a pure **equalizing difference** model of the initial college-high school wage gap $ \\phi $ defined by\n",
    "\n",
    "Let\n",
    "\n",
    "$$\n",
    "w_0^c = \\phi w_0^h\n",
    "$$\n",
    "\n",
    "We suppose that $ R, \\gamma_h, \\gamma_c, T $ and also $ w_0^h $  are fixed parameters.\n",
    "\n",
    "We start by noting that the pure equalizing difference model asserts that the college-high-school wage gap $ \\phi $ solves\n",
    "\n",
    "$$\n",
    "h_0 = c_0 - D\n",
    "$$\n",
    "\n",
    "or\n",
    "\n",
    "$$\n",
    "w_0^h A_h  = \\phi w_0^h A_c - D\n",
    "$$\n",
    "\n",
    "or\n",
    "\n",
    "$$\n",
    "\\phi  = \\frac{A_h}{A_c} + \\frac{D}{w_0^h A_c}\n",
    "$$\n",
    "\n",
    "In a **free college** special case $ D =0 $ so that the only cost of going to college is the forgone earnings from not working as a high school worker.\n",
    "\n",
    "In that case,\n",
    "\n",
    "$$\n",
    "\\phi  = \\frac{A_h}{A_c} .\n",
    "$$"
   ]
  },
  {
   "cell_type": "markdown",
   "id": "1d1bfc24",
   "metadata": {},
   "source": [
    "## Tweaked model: workers and entrepreneurs\n",
    "\n",
    "We can add a parameter and reinterpret variables to get a model of entrepreneurs versus workers.\n",
    "\n",
    "We now let $ h $ be  the present value of a “worker”.\n",
    "\n",
    "We define the present value of an entrepreneur to be\n",
    "\n",
    "$$\n",
    "c_0 = \\pi \\sum_{t=4}^T R^{-t} w_t^c\n",
    "$$\n",
    "\n",
    "where $ \\pi \\in (0,1) $ is  the probability that an entrepreneur’s “project” succeeds.\n",
    "\n",
    "We set $ D =0 $.\n",
    "\n",
    "What we used to call the college, high school wage gap $ \\phi $ now becomes the ratio\n",
    "of a successful entrepreneur’s earnings to a worker’s earnings.\n",
    "\n",
    "We’ll find that as $ \\pi $ decreases, $ \\phi $ increases.\n",
    "\n",
    "We can have some fun providing some example calculations that tweak various parameters,\n",
    "prominently including $ \\gamma_h, \\gamma_c, R $."
   ]
  },
  {
   "cell_type": "markdown",
   "id": "ec4b3033",
   "metadata": {
    "hide-output": false
   },
   "source": [
    "```ipython3\n",
    "class equalizing_diff:\n",
    "    \"\"\"\n",
    "    A class of the equalizing difference model\n",
    "    \"\"\"\n",
    "    \n",
    "    def __init__(self, R, T, γ_h, γ_c, w_h0, D=0, π=None):\n",
    "        # one switches to the weak model by setting π\n",
    "        self.R, self.γ_h, self.γ_c, self.w_h0, self.D = R, γ_h, γ_c, w_h0, D\n",
    "        self.T, self.π = T, π\n",
    "    \n",
    "    def compute_gap(self):\n",
    "        R, γ_h, γ_c, w_h0, D = self.R, self.γ_h, self.γ_c, self.w_h0, self.D\n",
    "        T, π = self.T, self.π\n",
    "        \n",
    "        A_h = (1 - (γ_h/R)**(T+1)) / (1 - γ_h/R)\n",
    "        A_c = (1 - (γ_c/R)**(T-3)) / (1 - γ_c/R) * (γ_c/R)**3\n",
    "        \n",
    "        # tweaked model\n",
    "        if π!=None:\n",
    "            A_c = π*A_c \n",
    "        \n",
    "        ϕ = A_h/A_c + D/(w_h0*A_c)\n",
    "        return ϕ\n",
    "```\n"
   ]
  },
  {
   "cell_type": "markdown",
   "id": "9584a97d",
   "metadata": {},
   "source": [
    "We can build some functions to help do comparative statics using vectorization instead of loops.\n",
    "\n",
    "For a given instance of the class, we want to compute $ \\phi $ when one parameter changes and others remain unchanged."
   ]
  },
  {
   "cell_type": "markdown",
   "id": "e3fc0d99",
   "metadata": {
    "hide-output": false
   },
   "source": [
    "```ipython3\n",
    "# ϕ_R\n",
    "def ϕ_R(mc, R_new):\n",
    "    mc_new = equalizing_diff(R_new, mc.T, mc.γ_h, mc.γ_c, mc.w_h0, mc.D, mc.π)\n",
    "    return mc_new.compute_gap()\n",
    "\n",
    "ϕ_R = np.vectorize(ϕ_R)\n",
    "\n",
    "# ϕ_γh\n",
    "def ϕ_γh(mc, γh_new):\n",
    "    mc_new = equalizing_diff(mc.R, mc.T, γh_new, mc.γ_c, mc.w_h0, mc.D, mc.π)\n",
    "    return mc_new.compute_gap()\n",
    "\n",
    "ϕ_γh = np.vectorize(ϕ_γh)\n",
    "\n",
    "# ϕ_γc\n",
    "def ϕ_γc(mc, γc_new):\n",
    "    mc_new = equalizing_diff(mc.R, mc.T, mc.γ_h, γc_new, mc.w_h0, mc.D, mc.π)\n",
    "    return mc_new.compute_gap()\n",
    "\n",
    "ϕ_γc = np.vectorize(ϕ_γc)\n",
    "\n",
    "# ϕ_π\n",
    "def ϕ_π(mc, π_new):\n",
    "    mc_new = equalizing_diff(mc.R, mc.T, mc.γ_h, mc.γ_c, mc.w_h0, mc.D, π_new)\n",
    "    return mc_new.compute_gap()\n",
    "\n",
    "ϕ_π = np.vectorize(ϕ_π)\n",
    "```\n"
   ]
  },
  {
   "cell_type": "markdown",
   "id": "06807df4",
   "metadata": {
    "hide-output": false
   },
   "source": [
    "```ipython3\n",
    "# set benchmark parameters\n",
    "R = 1.05\n",
    "T = 40\n",
    "γ_h, γ_c = 1.01, 1.02\n",
    "w_h0 = 1\n",
    "D = 2\n",
    "\n",
    "# create an instance\n",
    "ex1 = equalizing_diff(R=R, T=T, γ_h=γ_h, γ_c=γ_c, w_h0=w_h0, D=D)\n",
    "gap1 = ex1.compute_gap()\n",
    "\n",
    "print(gap1)\n",
    "```\n"
   ]
  },
  {
   "cell_type": "markdown",
   "id": "43ff0b5c",
   "metadata": {},
   "source": [
    "Let us plot $ \\phi $ against some parameters."
   ]
  },
  {
   "cell_type": "markdown",
   "id": "63564375",
   "metadata": {
    "hide-output": false
   },
   "source": [
    "```ipython3\n",
    "R_arr = np.linspace(1, 1.2, 50)\n",
    "plt.plot(R_arr, φ_R(ex1, R_arr))\n",
    "plt.xlabel(r'$R$')\n",
    "plt.ylabel(r'wage gap')\n",
    "plt.show()\n",
    "```\n"
   ]
  },
  {
   "cell_type": "markdown",
   "id": "81556d29",
   "metadata": {
    "hide-output": false
   },
   "source": [
    "```ipython3\n",
    "γc_arr = np.linspace(1, 1.2, 50)\n",
    "plt.plot(γc_arr, φ_γc(ex1, γc_arr))\n",
    "plt.xlabel(r'$\\gamma_c$')\n",
    "plt.ylabel(r'wage gap')\n",
    "plt.show()\n",
    "```\n"
   ]
  },
  {
   "cell_type": "markdown",
   "id": "5394e0f1",
   "metadata": {
    "hide-output": false
   },
   "source": [
    "```ipython3\n",
    "γh_arr = np.linspace(1, 1.1, 50)\n",
    "plt.plot(γh_arr, φ_γh(ex1, γh_arr))\n",
    "plt.xlabel(r'$\\gamma_h$')\n",
    "plt.ylabel(r'wage gap')\n",
    "plt.show()\n",
    "```\n"
   ]
  },
  {
   "cell_type": "markdown",
   "id": "b4f549bf",
   "metadata": {
    "hide-output": false
   },
   "source": [
    "```ipython3\n",
    "# free college\n",
    "ex2 = equalizing_diff(R, T, γ_h, γ_c, w_h0, D=0)\n",
    "gap2 = ex2.compute_gap()\n",
    "\n",
    "print(gap2)\n",
    "```\n"
   ]
  },
  {
   "cell_type": "markdown",
   "id": "8a4df24e",
   "metadata": {
    "hide-output": false
   },
   "source": [
    "```ipython3\n",
    "# a model of enterpreneur\n",
    "ex3 = equalizing_diff(R, T, γ_h, γ_c, w_h0, π=0.8)\n",
    "gap3 = ex3.compute_gap()\n",
    "\n",
    "print(gap3)\n",
    "```\n"
   ]
  },
  {
   "cell_type": "markdown",
   "id": "c5b6cf09",
   "metadata": {
    "hide-output": false
   },
   "source": [
    "```ipython3\n",
    "π_arr = np.linspace(0.2, 1, 50)\n",
    "plt.plot(π_arr, φ_π(ex3, π_arr))\n",
    "plt.ylabel(r'wage gap')\n",
    "plt.xlabel(r'$\\pi$')\n",
    "plt.show()\n",
    "```\n"
   ]
  }
 ],
 "metadata": {
  "date": 1687158954.0817027,
  "filename": "equalizing_difference.md",
  "kernelspec": {
   "display_name": "Python",
   "language": "python3",
   "name": "python3"
  },
  "title": "Equalizing Difference Model"
 },
 "nbformat": 4,
 "nbformat_minor": 5
}