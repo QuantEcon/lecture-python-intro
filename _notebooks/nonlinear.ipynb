{
 "cells": [
  {
   "cell_type": "markdown",
   "id": "29200ccc",
   "metadata": {},
   "source": [
    "# Nonlinear Problems\n",
    "\n",
    "To be completed."
   ]
  }
 ],
 "metadata": {
  "date": 1682924616.2423239,
  "filename": "nonlinear.md",
  "kernelspec": {
   "display_name": "Python",
   "language": "python3",
   "name": "python3"
  },
  "title": "Nonlinear Problems"
 },
 "nbformat": 4,
 "nbformat_minor": 5
}