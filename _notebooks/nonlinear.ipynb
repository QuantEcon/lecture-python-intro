{
 "cells": [
  {
   "cell_type": "markdown",
   "id": "639af818",
   "metadata": {},
   "source": [
    "# Nonlinear Problems\n",
    "\n",
    "To be completed."
   ]
  }
 ],
 "metadata": {
  "date": 1681898275.9337027,
  "filename": "nonlinear.md",
  "kernelspec": {
   "display_name": "Python",
   "language": "python3",
   "name": "python3"
  },
  "title": "Nonlinear Problems"
 },
 "nbformat": 4,
 "nbformat_minor": 5
}