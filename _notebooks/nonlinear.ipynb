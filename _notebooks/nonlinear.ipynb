{
 "cells": [
  {
   "cell_type": "markdown",
   "id": "3c9012d6",
   "metadata": {},
   "source": [
    "# Nonlinear Problems\n",
    "\n",
    "To be completed."
   ]
  }
 ],
 "metadata": {
  "date": 1681793183.5914705,
  "filename": "nonlinear.md",
  "kernelspec": {
   "display_name": "Python",
   "language": "python3",
   "name": "python3"
  },
  "title": "Nonlinear Problems"
 },
 "nbformat": 4,
 "nbformat_minor": 5
}