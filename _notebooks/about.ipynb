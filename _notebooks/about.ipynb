{
 "cells": [
  {
   "cell_type": "markdown",
   "id": "c434f21c",
   "metadata": {},
   "source": [
    "# About These Lectures"
   ]
  },
  {
   "cell_type": "markdown",
   "id": "c7a0a011",
   "metadata": {},
   "source": [
    "## About\n",
    "\n",
    "This lecture series introduces quantitative economics using elementary\n",
    "mathematics and statistics plus computer code written in\n",
    "[Python](https://www.python.org/).\n",
    "\n",
    "The lectures emphasize simulation and visualization through code as a way to\n",
    "convey ideas, rather than focusing on mathematical details.\n",
    "\n",
    "Although the presentation is quite novel, the ideas are rather foundational.\n",
    "\n",
    "We emphasize the deep and fundamental importance of economic theory, as well\n",
    "as the value of analyzing data and understanding stylized facts.\n",
    "\n",
    "The lectures can be used for university courses, self-study, reading groups or\n",
    "workshops.\n",
    "\n",
    "Researchers and policy professionals might also find some parts of the series\n",
    "valuable for their work.\n",
    "\n",
    "We hope the lectures will be of interest to students of economics\n",
    "who want to learn both economics and computing, as well as students from\n",
    "fields such as computer science and engineering who are curious about\n",
    "economics."
   ]
  },
  {
   "cell_type": "markdown",
   "id": "b2266953",
   "metadata": {},
   "source": [
    "## Level\n",
    "\n",
    "The lecture series is aimed at undergraduate students.\n",
    "\n",
    "The level of the lectures varies from truly introductory (suitable for first\n",
    "year undergraduates or even high school students) to more intermediate.\n",
    "\n",
    "The\n",
    "more intermediate lectures require comfort with linear algebra and some\n",
    "mathematical maturity (e.g., calmly reading theorems and trying to understand\n",
    "their meaning).\n",
    "\n",
    "In general, easier lectures occur earlier in the lecture\n",
    "series and harder lectures occur later.\n",
    "\n",
    "We assume that readers have covered the easier parts of the QuantEcon lecture\n",
    "series [on Python\n",
    "programming](https://python-programming.quantecon.org/intro.html).\n",
    "\n",
    "In\n",
    "particular, readers should be familiar with basic Python syntax including\n",
    "Python functions. Knowledge of classes and Matplotlib will be beneficial but\n",
    "not essential."
   ]
  },
  {
   "cell_type": "markdown",
   "id": "b95c3017",
   "metadata": {},
   "source": [
    "## Credits\n",
    "\n",
    "In building this lecture series, we had invaluable assistance from research\n",
    "assistants at QuantEcon, as well as our QuantEcon colleagues. Without their\n",
    "help this series would not have been possible.\n",
    "\n",
    "In particular, we sincerely thank and give credit to\n",
    "\n",
    "- [Aakash Gupta](https://github.com/AakashGfude)  \n",
    "- [Shu Hu](https://github.com/shlff)  \n",
    "- Jiacheng Li  \n",
    "- [Smit Lunagariya](https://github.com/Smit-create)  \n",
    "- [Matthew McKay](https://github.com/mmcky)  \n",
    "- [Maanasee Sharma](https://github.com/maanasee)  \n",
    "- [Humphrey Yang](https://github.com/HumphreyYang)  \n",
    "\n",
    "\n",
    "We also thank Noritaka Kudoh for encouraging us to start this project and providing thoughtful suggestions."
   ]
  }
 ],
 "metadata": {
  "date": 1695607167.792747,
  "filename": "about.md",
  "kernelspec": {
   "display_name": "Python",
   "language": "python3",
   "name": "python3"
  },
  "title": "About These Lectures"
 },
 "nbformat": 4,
 "nbformat_minor": 5
}