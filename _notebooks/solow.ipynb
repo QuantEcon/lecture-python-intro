{
 "cells": [
  {
   "cell_type": "markdown",
   "id": "51ef650f",
   "metadata": {},
   "source": [
    "\n",
    "<a id='solow'></a>"
   ]
  },
  {
   "cell_type": "markdown",
   "id": "364f3527",
   "metadata": {},
   "source": [
    "# The Solow-Swan Growth Model\n",
    "\n",
    "In this lecture we review a famous model due\n",
    "to [Robert Solow (1925–2014)](https://en.wikipedia.org/wiki/Robert_Solow) and [Trevor Swan (1918–1989)](https://en.wikipedia.org/wiki/Trevor_Swan).\n",
    "\n",
    "The model is used to study growth over the long run.\n",
    "\n",
    "Although the model is simple, it contains some interesting lessons.\n",
    "\n",
    "We will use the following imports"
   ]
  },
  {
   "cell_type": "code",
   "execution_count": null,
   "id": "f620f5c7",
   "metadata": {
    "hide-output": false
   },
   "outputs": [],
   "source": [
    "import matplotlib.pyplot as plt\n",
    "import numpy as np"
   ]
  },
  {
   "cell_type": "markdown",
   "id": "4c7bd24a",
   "metadata": {},
   "source": [
    "## The model\n",
    "\n",
    "In a Solow–Swan economy, agents save a fixed fraction of their current\n",
    "incomes.\n",
    "\n",
    "Savings sustain or increase the stock of capital.\n",
    "\n",
    "Capital is combined with labor to produce output, which in turn is paid out to\n",
    "workers and owners of capital.\n",
    "\n",
    "To keep things simple, we ignore population and productivity growth.\n",
    "\n",
    "For each integer $ t \\geq 0 $, output $ Y_t $ in period $ t $ is given by $ Y_t =\n",
    "F(K_t, L_t) $, where $ K_t $ is capital, $ L_t $ is labor and $ F $ is an aggregate\n",
    "production function.\n",
    "\n",
    "The function $ F $ is assumed to be nonnegative and\n",
    "**homogeneous of degree one**, meaning\n",
    "that\n",
    "\n",
    "$$\n",
    "F(\\lambda K, \\lambda L) = \\lambda F(K, L)\n",
    "    \\quad \\text{for all } \\lambda \\geq 0\n",
    "$$\n",
    "\n",
    "Production functions with this property include\n",
    "\n",
    "- the **Cobb-Douglas** function $ F(K, L) = A K^{\\alpha}\n",
    "  L^{1-\\alpha} $ with $ 0 \\leq \\alpha \\leq 1 $ and  \n",
    "- the **CES** function $ F(K, L) = \\left\\{ a K^\\rho + b L^\\rho \\right\\}^{1/\\rho} $\n",
    "  with $ a, b, \\rho > 0 $.  \n",
    "\n",
    "\n",
    "We assume a closed economy, so domestic investment equals aggregate domestic\n",
    "saving.\n",
    "\n",
    "The saving rate is a constant $ s $ satisfying $ 0 \\leq s \\leq 1 $, so that aggregate\n",
    "investment and saving both equal  $ s Y_t $.\n",
    "\n",
    "Capital depreciates: without replenishing through investment, one unit of capital today\n",
    "becomes $ 1-\\delta $ units tomorrow.\n",
    "\n",
    "Thus,\n",
    "\n",
    "$$\n",
    "K_{t+1} = s F(K_t, L_t) + (1 - \\delta) K_t\n",
    "$$\n",
    "\n",
    "Without population growth, $ L_t $ equals some constant $ L $.\n",
    "\n",
    "Setting $ k_t := K_t / L $ and using homogeneity of degree one now yields\n",
    "\n",
    "$$\n",
    "k_{t+1}\n",
    "    = s \\frac{F(K_t, L)}{L} + (1 - \\delta) k_t\n",
    "    = s F(k_t, 1) + (1 - \\delta) k_t\n",
    "$$\n",
    "\n",
    "With  $ f(k) := F(k, 1) $, the final expression for capital dynamics is\n",
    "\n",
    "\n",
    "<a id='equation-solow'></a>\n",
    "$$\n",
    "k_{t+1} = g(k_t)\n",
    "    \\text{ where } g(k) := s f(k) + (1 - \\delta) k \\tag{20.1}\n",
    "$$\n",
    "\n",
    "Our aim is to learn about the evolution of $ k_t $ over time,\n",
    "given an exogenous initial capital stock  $ k_0 $."
   ]
  },
  {
   "cell_type": "markdown",
   "id": "229895d4",
   "metadata": {},
   "source": [
    "## A graphical perspective\n",
    "\n",
    "To understand the dynamics of the sequence $ (k_t)_{t \\geq 0} $ we use a 45\n",
    "degree diagram.\n",
    "\n",
    "To do so, we first\n",
    "need to specify the functional form for $ f $ and assign values to the parameters.\n",
    "\n",
    "We choose the Cobb–Douglas specification $ f(k) = A k^\\alpha $ and set $ A=2.0 $,\n",
    "$ \\alpha=0.3 $, $ s=0.3 $ and $ \\delta=0.4 $.\n",
    "\n",
    "The function $ g $ from [(20.1)](#equation-solow) is then plotted, along with the 45\n",
    "degree line.\n",
    "\n",
    "Let’s define the constants."
   ]
  },
  {
   "cell_type": "code",
   "execution_count": null,
   "id": "a91e7bf2",
   "metadata": {
    "hide-output": false
   },
   "outputs": [],
   "source": [
    "A, s, alpha, delta = 2, 0.3, 0.3, 0.4\n",
    "x0 = 0.25\n",
    "xmin, xmax = 0, 3"
   ]
  },
  {
   "cell_type": "markdown",
   "id": "104bc9e7",
   "metadata": {},
   "source": [
    "Now, we define the function $ g $"
   ]
  },
  {
   "cell_type": "code",
   "execution_count": null,
   "id": "2050942e",
   "metadata": {
    "hide-output": false
   },
   "outputs": [],
   "source": [
    "def g(A, s, alpha, delta, k):\n",
    "    return A * s * k**alpha + (1 - delta) * k"
   ]
  },
  {
   "cell_type": "markdown",
   "id": "efdf2dd0",
   "metadata": {},
   "source": [
    "Let’s plot the 45 degree diagram of $ g $"
   ]
  },
  {
   "cell_type": "code",
   "execution_count": null,
   "id": "cd907aa4",
   "metadata": {
    "hide-output": false
   },
   "outputs": [],
   "source": [
    "def plot45(kstar=None):\n",
    "    xgrid = np.linspace(xmin, xmax, 12000)\n",
    "\n",
    "    fig, ax = plt.subplots()\n",
    "\n",
    "    ax.set_xlim(xmin, xmax)\n",
    "\n",
    "    g_values = g(A, s, alpha, delta, xgrid)\n",
    "\n",
    "    ymin, ymax = np.min(g_values), np.max(g_values)\n",
    "    ax.set_ylim(ymin, ymax)\n",
    "\n",
    "    lb = r'$g(k) = sAk^{\\alpha} + (1 - \\delta)k$'\n",
    "    ax.plot(xgrid, g_values,  lw=2, alpha=0.6, label=lb)\n",
    "    ax.plot(xgrid, xgrid, 'k-', lw=1, alpha=0.7, label='45')\n",
    "\n",
    "    if kstar:\n",
    "        fps = (kstar,)\n",
    "\n",
    "        ax.plot(fps, fps, 'go', ms=10, alpha=0.6)\n",
    "\n",
    "        ax.annotate(r'$k^* = (sA / \\delta)^{(1/(1-\\alpha))}$',\n",
    "                 xy=(kstar, kstar),\n",
    "                 xycoords='data',\n",
    "                 xytext=(-40, -60),\n",
    "                 textcoords='offset points',\n",
    "                 fontsize=14,\n",
    "                 arrowprops=dict(arrowstyle=\"->\"))\n",
    "\n",
    "    ax.legend(loc='upper left', frameon=False, fontsize=12)\n",
    "\n",
    "    ax.set_xticks((0, 1, 2, 3))\n",
    "    ax.set_yticks((0, 1, 2, 3))\n",
    "\n",
    "    ax.set_xlabel('$k_t$', fontsize=12)\n",
    "    ax.set_ylabel('$k_{t+1}$', fontsize=12)\n",
    "\n",
    "    plt.show()"
   ]
  },
  {
   "cell_type": "code",
   "execution_count": null,
   "id": "f82344cb",
   "metadata": {
    "hide-output": false
   },
   "outputs": [],
   "source": [
    "plot45()"
   ]
  },
  {
   "cell_type": "markdown",
   "id": "c4b15ca5",
   "metadata": {},
   "source": [
    "Suppose, at some $ k_t $, the value $ g(k_t) $ lies strictly above the 45 degree line.\n",
    "\n",
    "Then we have $ k_{t+1} = g(k_t) > k_t $ and capital per worker rises.\n",
    "\n",
    "If $ g(k_t) < k_t $ then capital per worker falls.\n",
    "\n",
    "If $ g(k_t) = k_t $, then we are at a **steady state** and $ k_t $ remains constant.\n",
    "\n",
    "(A steady state of the model is a [fixed point](https://en.wikipedia.org/wiki/Fixed_point_%28mathematics%29) of the mapping $ g $.)\n",
    "\n",
    "From the shape of the function $ g $ in the figure, we see that\n",
    "there is a unique steady state in $ (0, \\infty) $.\n",
    "\n",
    "It solves $ k = s Ak^{\\alpha} + (1-\\delta)k $ and hence is given by\n",
    "\n",
    "\n",
    "<a id='equation-kstarss'></a>\n",
    "$$\n",
    "k^* := \\left( \\frac{s A}{\\delta} \\right)^{1/(1 - \\alpha)} \\tag{20.2}\n",
    "$$\n",
    "\n",
    "If initial capital is below $ k^* $, then capital increases over time.\n",
    "\n",
    "If initial capital is above this level, then the reverse is true.\n",
    "\n",
    "Let’s plot the 45 degree diagram to show the $ k^* $ in the plot"
   ]
  },
  {
   "cell_type": "code",
   "execution_count": null,
   "id": "e548a397",
   "metadata": {
    "hide-output": false
   },
   "outputs": [],
   "source": [
    "kstar = ((s * A) / delta)**(1/(1 - alpha))\n",
    "plot45(kstar)"
   ]
  },
  {
   "cell_type": "markdown",
   "id": "c1c72d4d",
   "metadata": {},
   "source": [
    "From our graphical analysis, it appears that $ (k_t) $ converges to $ k^* $, regardless of initial capital\n",
    "$ k_0 $.\n",
    "\n",
    "This is a form of global stability.\n",
    "\n",
    "The next figure shows three time paths for capital, from\n",
    "three distinct initial conditions, under the parameterization listed above.\n",
    "\n",
    "At this parameterization, $ k^* \\approx 1.78 $.\n",
    "\n",
    "Let’s define the constants and three distinct initial conditions"
   ]
  },
  {
   "cell_type": "code",
   "execution_count": null,
   "id": "569d48f5",
   "metadata": {
    "hide-output": false
   },
   "outputs": [],
   "source": [
    "A, s, alpha, delta = 2, 0.3, 0.3, 0.4\n",
    "x0 = np.array([.25, 1.25, 3.25])\n",
    "\n",
    "ts_length = 20\n",
    "xmin, xmax = 0, ts_length\n",
    "ymin, ymax = 0, 3.5"
   ]
  },
  {
   "cell_type": "code",
   "execution_count": null,
   "id": "b49f0c87",
   "metadata": {
    "hide-output": false
   },
   "outputs": [],
   "source": [
    "def simulate_ts(x0_values, ts_length):\n",
    "\n",
    "    k_star = (s * A / delta)**(1/(1-alpha))\n",
    "    fig, ax = plt.subplots(figsize=[11, 5])\n",
    "    ax.set_xlim(xmin, xmax)\n",
    "    ax.set_ylim(ymin, ymax)\n",
    "\n",
    "    ts = np.zeros(ts_length)\n",
    "\n",
    "    # simulate and plot time series\n",
    "    for x_init in x0_values:\n",
    "        ts[0] = x_init\n",
    "        for t in range(1, ts_length):\n",
    "            ts[t] = g(A, s, alpha, delta, ts[t-1])\n",
    "        ax.plot(np.arange(ts_length), ts, '-o', ms=4, alpha=0.6,\n",
    "                label=r'$k_0=%g$' %x_init)\n",
    "    ax.plot(np.arange(ts_length), np.full(ts_length,k_star),\n",
    "            alpha=0.6, color='red', label=r'$k^*$')\n",
    "    ax.legend(fontsize=10)\n",
    "\n",
    "    ax.set_xlabel(r'$t$', fontsize=14)\n",
    "    ax.set_ylabel(r'$k_t$', fontsize=14)\n",
    "\n",
    "    plt.show()"
   ]
  },
  {
   "cell_type": "code",
   "execution_count": null,
   "id": "359aca76",
   "metadata": {
    "hide-output": false
   },
   "outputs": [],
   "source": [
    "simulate_ts(x0, ts_length)"
   ]
  },
  {
   "cell_type": "markdown",
   "id": "452c4ea5",
   "metadata": {},
   "source": [
    "As expected, the time paths in the figure both converge to this value."
   ]
  },
  {
   "cell_type": "markdown",
   "id": "6274be05",
   "metadata": {},
   "source": [
    "## Growth in continuous time\n",
    "\n",
    "In this section we investigate a continuous time version of the Solow–Swan\n",
    "growth model.\n",
    "\n",
    "We will see how the smoothing provided by continuous time can\n",
    "simplify analysis.\n",
    "\n",
    "Recall  that the discrete time dynamics for capital are\n",
    "given by $ k_{t+1} = s f(k_t) + (1 - \\delta) k_t $.\n",
    "\n",
    "A simple rearrangement gives the rate of change per unit of time:\n",
    "\n",
    "$$\n",
    "\\Delta k_t = s f(k_t) - \\delta k_t\n",
    "    \\quad \\text{where} \\quad\n",
    "    \\Delta k_t := k_{t+1}  - k_t\n",
    "$$\n",
    "\n",
    "Taking the time step to zero gives the continuous time limit\n",
    "\n",
    "\n",
    "<a id='equation-solowc'></a>\n",
    "$$\n",
    "k'_t = s f(k_t) - \\delta k_t\n",
    "    \\qquad \\text{with} \\qquad\n",
    "    k'_t := \\frac{d}{dt} k_t \\tag{20.3}\n",
    "$$\n",
    "\n",
    "Our aim is to learn about the evolution of $ k_t $ over time,\n",
    "given initial stock  $ k_0 $.\n",
    "\n",
    "A **steady state** for [(20.3)](#equation-solowc) is a value $ k^* $\n",
    "at which capital is unchanging, meaning $ k'_t = 0 $ or, equivalently,\n",
    "$ s f(k^*) = \\delta k^* $.\n",
    "\n",
    "We assume\n",
    "$ f(k) = Ak^\\alpha $, so $ k^* $ solves\n",
    "$ s A k^\\alpha = \\delta k $.\n",
    "\n",
    "The solution is the same as the discrete time case—see [(20.2)](#equation-kstarss).\n",
    "\n",
    "The dynamics are represented in\n",
    "the next figure, maintaining the parameterization we used\n",
    "above.\n",
    "\n",
    "Writing $ k'_t = g(k_t) $ with $ g(k) =\n",
    "s Ak^\\alpha - \\delta k $, values of $ k $ with $ g(k) > 0 $ imply that $ k'_t > 0 $, so\n",
    "capital is increasing.\n",
    "\n",
    "When $ g(k) < 0 $, the opposite occurs.  Once again, high marginal returns to\n",
    "savings at low levels of capital combined with low rates of return at high\n",
    "levels of capital combine to yield global stability.\n",
    "\n",
    "To see this in a figure, let’s define the constants"
   ]
  },
  {
   "cell_type": "code",
   "execution_count": null,
   "id": "576c8e1a",
   "metadata": {
    "hide-output": false
   },
   "outputs": [],
   "source": [
    "A, s, alpha, delta = 2, 0.3, 0.3, 0.4"
   ]
  },
  {
   "cell_type": "markdown",
   "id": "c6458e2c",
   "metadata": {},
   "source": [
    "Next we define the function $ g $ for growth in continuous time"
   ]
  },
  {
   "cell_type": "code",
   "execution_count": null,
   "id": "a281d1bc",
   "metadata": {
    "hide-output": false
   },
   "outputs": [],
   "source": [
    "def g_con(A, s, alpha, delta, k):\n",
    "    return A * s * k**alpha - delta * k"
   ]
  },
  {
   "cell_type": "code",
   "execution_count": null,
   "id": "7fb6071f",
   "metadata": {
    "hide-output": false
   },
   "outputs": [],
   "source": [
    "def plot_gcon(kstar=None):\n",
    "\n",
    "    k_grid = np.linspace(0, 2.8, 10000)\n",
    "\n",
    "    fig, ax = plt.subplots(figsize=[11, 5])\n",
    "    ax.plot(k_grid, g_con(A, s, alpha, delta, k_grid), label='$g(k)$')\n",
    "    ax.plot(k_grid, 0 * k_grid, label=\"$k'=0$\")\n",
    "\n",
    "    if kstar:\n",
    "        fps = (kstar,)\n",
    "\n",
    "        ax.plot(fps, 0, 'go', ms=10, alpha=0.6)\n",
    "\n",
    "\n",
    "        ax.annotate(r'$k^* = (sA / \\delta)^{(1/(1-\\alpha))}$',\n",
    "                 xy=(kstar, 0),\n",
    "                 xycoords='data',\n",
    "                 xytext=(0, 60),\n",
    "                 textcoords='offset points',\n",
    "                 fontsize=12,\n",
    "                 arrowprops=dict(arrowstyle=\"->\"))\n",
    "\n",
    "    ax.legend(loc='lower left', fontsize=12)\n",
    "\n",
    "    ax.set_xlabel(\"$k$\",fontsize=10)\n",
    "    ax.set_ylabel(\"$k'$\", fontsize=10)\n",
    "\n",
    "    ax.set_xticks((0, 1, 2, 3))\n",
    "    ax.set_yticks((-0.3, 0, 0.3))\n",
    "\n",
    "    plt.show()"
   ]
  },
  {
   "cell_type": "code",
   "execution_count": null,
   "id": "fe7ecb0c",
   "metadata": {
    "hide-output": false
   },
   "outputs": [],
   "source": [
    "kstar = ((s * A) / delta)**(1/(1 - alpha))\n",
    "plot_gcon(kstar)"
   ]
  },
  {
   "cell_type": "markdown",
   "id": "e91bf264",
   "metadata": {},
   "source": [
    "This shows global stability heuristically for a fixed parameterization, but\n",
    "how would we show the same thing formally for a continuum of plausible parameters?\n",
    "\n",
    "In the discrete time case, a neat expression for $ k_t $ is hard to obtain.\n",
    "\n",
    "In continuous time the process is easier: we can obtain a relatively simple\n",
    "expression for $ k_t $ that specifies the entire path.\n",
    "\n",
    "The first step is\n",
    "to set $ x_t := k_t^{1-\\alpha} $, so that $ x'_t = (1-\\alpha) k_t^{-\\alpha}\n",
    "k'_t $.\n",
    "\n",
    "Substituting into $ k'_t = sAk_t^\\alpha - \\delta k_t $ leads to the\n",
    "linear differential equation\n",
    "\n",
    "\n",
    "<a id='equation-xsolow'></a>\n",
    "$$\n",
    "x'_t = (1-\\alpha) (sA - \\delta x_t) \\tag{20.4}\n",
    "$$\n",
    "\n",
    "This equation has the exact solution\n",
    "\n",
    "$$\n",
    "x_t\n",
    "    = \\left(\n",
    "        k_0^{1-\\alpha} - \\frac{sA}{\\delta}\n",
    "      \\right)\n",
    "      \\mathrm{e}^{-\\delta (1-\\alpha) t} +\n",
    "    \\frac{sA}{\\delta}\n",
    "$$\n",
    "\n",
    "(You can confirm that this function $ x_t $ satisfies [(20.4)](#equation-xsolow) by\n",
    "differentiating it with respect to $ t $.)\n",
    "\n",
    "Converting back to $ k_t $ yields\n",
    "\n",
    "\n",
    "<a id='equation-ssivs'></a>\n",
    "$$\n",
    "k_t\n",
    "    =\n",
    "    \\left[\n",
    "        \\left(\n",
    "        k_0^{1-\\alpha} - \\frac{sA}{\\delta}\n",
    "      \\right)\n",
    "      \\mathrm{e}^{-\\delta (1-\\alpha) t} +\n",
    "    \\frac{sA}{\\delta}\n",
    "    \\right]^{1/(1-\\alpha)} \\tag{20.5}\n",
    "$$\n",
    "\n",
    "Since $ \\delta > 0 $ and $ \\alpha \\in (0, 1) $, we see immediately that $ k_t \\to\n",
    "k^* $ as $ t \\to \\infty $ independent of $ k_0 $.\n",
    "\n",
    "Thus, global stability holds."
   ]
  },
  {
   "cell_type": "markdown",
   "id": "e51a2fbc",
   "metadata": {},
   "source": [
    "## Exercises"
   ]
  },
  {
   "cell_type": "markdown",
   "id": "ac59fd35",
   "metadata": {},
   "source": [
    "## Exercise 20.1\n",
    "\n",
    "Plot per capita consumption $ c $ at the steady state, as a function of the savings rate $ s $, where $ 0 \\leq s \\leq 1 $.\n",
    "\n",
    "Use the Cobb–Douglas specification $ f(k) = A k^\\alpha $.\n",
    "\n",
    "Set $ A=2.0, \\alpha=0.3, $ and $ \\delta=0.5 $\n",
    "\n",
    "Also, find the approximate value of $ s $ that maximizes the $ c^*(s) $ and show it in the plot."
   ]
  },
  {
   "cell_type": "markdown",
   "id": "af3ec978",
   "metadata": {},
   "source": [
    "## Solution to[ Exercise 20.1](https://intro.quantecon.org/#solow_ex1)\n",
    "\n",
    "Steady state consumption at savings rate $ s $ is given by\n",
    "\n",
    "$$\n",
    "c^*(s) = (1-s)f(k^*) = (1-s)A(k^*)^\\alpha\n",
    "$$"
   ]
  },
  {
   "cell_type": "code",
   "execution_count": null,
   "id": "716b2aeb",
   "metadata": {
    "hide-output": false
   },
   "outputs": [],
   "source": [
    "A = 2.0\n",
    "alpha = 0.3\n",
    "delta = 0.5"
   ]
  },
  {
   "cell_type": "code",
   "execution_count": null,
   "id": "4ac784f9",
   "metadata": {
    "hide-output": false
   },
   "outputs": [],
   "source": [
    "s_grid = np.linspace(0, 1, 1000)\n",
    "k_star = ((s_grid * A) / delta)**(1/(1 - alpha))\n",
    "c_star = (1 - s_grid) * A * k_star ** alpha"
   ]
  },
  {
   "cell_type": "markdown",
   "id": "12aeb964",
   "metadata": {},
   "source": [
    "Let’s find the value of $ s $ that maximizes $ c^* $ using [scipy.optimize.minimize_scalar](https://docs.scipy.org/doc/scipy/reference/generated/scipy.optimize.minimize_scalar.html#scipy.optimize.minimize_scalar).\n",
    "We will use $ -c^*(s) $ since `minimize_scalar` finds the minimum value."
   ]
  },
  {
   "cell_type": "code",
   "execution_count": null,
   "id": "caf8857d",
   "metadata": {
    "hide-output": false
   },
   "outputs": [],
   "source": [
    "from scipy.optimize import minimize_scalar"
   ]
  },
  {
   "cell_type": "code",
   "execution_count": null,
   "id": "2b557d6b",
   "metadata": {
    "hide-output": false
   },
   "outputs": [],
   "source": [
    "def calc_c_star(s):\n",
    "    k = ((s * A) / delta)**(1/(1 - alpha))\n",
    "    return - (1 - s) * A * k ** alpha"
   ]
  },
  {
   "cell_type": "code",
   "execution_count": null,
   "id": "a98c85b0",
   "metadata": {
    "hide-output": false
   },
   "outputs": [],
   "source": [
    "return_values = minimize_scalar(calc_c_star, bounds=(0, 1))\n",
    "s_star_max = return_values.x\n",
    "c_star_max = -return_values.fun\n",
    "print(f\"Function is maximized at s = {round(s_star_max, 4)}\")"
   ]
  },
  {
   "cell_type": "code",
   "execution_count": null,
   "id": "cae8c002",
   "metadata": {
    "hide-output": false
   },
   "outputs": [],
   "source": [
    "x_s_max = np.array([s_star_max, s_star_max])\n",
    "y_s_max = np.array([0, c_star_max])\n",
    "\n",
    "fig, ax = plt.subplots(figsize=[11, 5])\n",
    "\n",
    "fps = (c_star_max,)\n",
    "\n",
    "# Highlight the maximum point with a marker\n",
    "ax.plot((s_star_max, ), (c_star_max,), 'go', ms=8, alpha=0.6)\n",
    "\n",
    "ax.annotate(r'$s^*$',\n",
    "         xy=(s_star_max, c_star_max),\n",
    "         xycoords='data',\n",
    "         xytext=(20, -50),\n",
    "         textcoords='offset points',\n",
    "         fontsize=12,\n",
    "         arrowprops=dict(arrowstyle=\"->\"))\n",
    "ax.plot(s_grid, c_star, label=r'$c*(s)$')\n",
    "ax.plot(x_s_max, y_s_max, alpha=0.5, ls='dotted')\n",
    "ax.set_xlabel(r'$s$')\n",
    "ax.set_ylabel(r'$c^*(s)$')\n",
    "ax.legend()\n",
    "\n",
    "plt.show()"
   ]
  },
  {
   "cell_type": "markdown",
   "id": "74ac4e24",
   "metadata": {},
   "source": [
    "One can also try to solve this mathematically by differentiating $ c^*(s) $ and solve for $ \\frac{d}{ds}c^*(s)=0 $ using [sympy](https://www.sympy.org/en/index.html)."
   ]
  },
  {
   "cell_type": "code",
   "execution_count": null,
   "id": "99c55838",
   "metadata": {
    "hide-output": false
   },
   "outputs": [],
   "source": [
    "from sympy import solve, Symbol"
   ]
  },
  {
   "cell_type": "code",
   "execution_count": null,
   "id": "c3cf2643",
   "metadata": {
    "hide-output": false
   },
   "outputs": [],
   "source": [
    "s_symbol = Symbol('s', real=True)\n",
    "k = ((s_symbol * A) / delta)**(1/(1 - alpha))\n",
    "c = (1 - s_symbol) * A * k ** alpha"
   ]
  },
  {
   "cell_type": "markdown",
   "id": "90a0c05e",
   "metadata": {},
   "source": [
    "Let’s differentiate $ c $ and solve using [sympy.solve](https://docs.sympy.org/latest/modules/solvers/solvers.html#sympy.solvers.solvers.solve)"
   ]
  },
  {
   "cell_type": "code",
   "execution_count": null,
   "id": "91a459dc",
   "metadata": {
    "hide-output": false
   },
   "outputs": [],
   "source": [
    "# Solve using sympy\n",
    "s_star = solve(c.diff())[0]\n",
    "print(f\"s_star = {s_star}\")"
   ]
  },
  {
   "cell_type": "markdown",
   "id": "93ed4d27",
   "metadata": {},
   "source": [
    "Incidentally, the rate of savings which maximizes steady state level of per capita consumption is called the [Golden Rule savings rate](https://en.wikipedia.org/wiki/Golden_Rule_savings_rate)."
   ]
  },
  {
   "cell_type": "markdown",
   "id": "66c8ef14",
   "metadata": {},
   "source": [
    "## Exercise 20.2\n",
    "\n",
    "**Stochastic Productivity**\n",
    "\n",
    "To bring the Solow–Swan model closer to data, we need to think about handling\n",
    "random fluctuations in aggregate quantities.\n",
    "\n",
    "Among other things, this will\n",
    "eliminate the unrealistic prediction that per-capita output $ y_t = A\n",
    "k^\\alpha_t $ converges to a constant $ y^* := A (k^*)^\\alpha $.\n",
    "\n",
    "We shift to discrete time for the following discussion.\n",
    "\n",
    "One approach is to replace constant productivity with some\n",
    "stochastic sequence $ (A_t)_{t \\geq 1} $.\n",
    "\n",
    "Dynamics are now\n",
    "\n",
    "\n",
    "<a id='equation-solowran'></a>\n",
    "$$\n",
    "k_{t+1} = s A_{t+1} f(k_t) + (1 - \\delta) k_t \\tag{20.6}\n",
    "$$\n",
    "\n",
    "We suppose $ f $ is Cobb–Douglas and $ (A_t) $ is IID and lognormal.\n",
    "\n",
    "Now the long run convergence obtained in the deterministic case breaks\n",
    "down, since the system is hit with new shocks at each point in time.\n",
    "\n",
    "Consider $ A=2.0, s=0.6, \\alpha=0.3, $ and $ \\delta=0.5 $\n",
    "\n",
    "Generate and plot the time series $ k_t $."
   ]
  },
  {
   "cell_type": "markdown",
   "id": "53ad0c6e",
   "metadata": {},
   "source": [
    "## Solution to[ Exercise 20.2](https://intro.quantecon.org/#solow_ex2)\n",
    "\n",
    "Let’s define the constants for lognormal distribution and initial values used for simulation"
   ]
  },
  {
   "cell_type": "code",
   "execution_count": null,
   "id": "cf1e3ead",
   "metadata": {
    "hide-output": false
   },
   "outputs": [],
   "source": [
    "# Define the constants\n",
    "sig = 0.2\n",
    "mu = np.log(2) - sig**2 / 2\n",
    "A = 2.0\n",
    "s = 0.6\n",
    "alpha = 0.3\n",
    "delta = 0.5\n",
    "x0 = [.25, 3.25] # list of initial values used for simulation"
   ]
  },
  {
   "cell_type": "markdown",
   "id": "820387a8",
   "metadata": {},
   "source": [
    "Let’s define the function *k_next* to find the next value of $ k $"
   ]
  },
  {
   "cell_type": "code",
   "execution_count": null,
   "id": "b86eea55",
   "metadata": {
    "hide-output": false
   },
   "outputs": [],
   "source": [
    "def lgnorm():\n",
    "    return np.exp(mu + sig * np.random.randn())\n",
    "\n",
    "def k_next(s, alpha, delta, k):\n",
    "    return lgnorm() * s * k**alpha + (1 - delta) * k"
   ]
  },
  {
   "cell_type": "code",
   "execution_count": null,
   "id": "ae5963e9",
   "metadata": {
    "hide-output": false
   },
   "outputs": [],
   "source": [
    "def ts_plot(x_values, ts_length):\n",
    "    fig, ax = plt.subplots(figsize=[11, 5])\n",
    "    ts = np.zeros(ts_length)\n",
    "\n",
    "    # simulate and plot time series\n",
    "    for x_init in x_values:\n",
    "        ts[0] = x_init\n",
    "        for t in range(1, ts_length):\n",
    "            ts[t] = k_next(s, alpha, delta, ts[t-1])\n",
    "        ax.plot(np.arange(ts_length), ts, '-o', ms=4,\n",
    "                alpha=0.6, label=r'$k_0=%g$' %x_init)\n",
    "\n",
    "    ax.legend(loc='best', fontsize=10)\n",
    "\n",
    "    ax.set_xlabel(r'$t$', fontsize=12)\n",
    "    ax.set_ylabel(r'$k_t$', fontsize=12)\n",
    "\n",
    "\n",
    "    plt.show()"
   ]
  },
  {
   "cell_type": "code",
   "execution_count": null,
   "id": "48871e74",
   "metadata": {
    "hide-output": false
   },
   "outputs": [],
   "source": [
    "ts_plot(x0, 50)"
   ]
  }
 ],
 "metadata": {
  "date": 1696997366.8291996,
  "filename": "solow.md",
  "kernelspec": {
   "display_name": "Python",
   "language": "python3",
   "name": "python3"
  },
  "title": "The Solow-Swan Growth Model"
 },
 "nbformat": 4,
 "nbformat_minor": 5
}