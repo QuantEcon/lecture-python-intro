{
 "cells": [
  {
   "cell_type": "markdown",
   "id": "7fceeedc",
   "metadata": {},
   "source": [
    "# A First Course in Quantitative Economics with Python\n",
    "\n",
    "This lecture series provides an introduction to quantitative economics using Python."
   ]
  },
  {
   "cell_type": "markdown",
   "id": "d44681f7",
   "metadata": {},
   "source": [
    "# Introduction\n",
    "\n",
    "- [About These Lectures](https://intro.quantecon.org/about.html)"
   ]
  },
  {
   "cell_type": "markdown",
   "id": "c916c956",
   "metadata": {},
   "source": [
    "# Economic Data\n",
    "\n",
    "- [Long-Run Growth](https://intro.quantecon.org/long_run_growth.html)\n",
    "- [Business Cycles](https://intro.quantecon.org/business_cycle.html)\n",
    "- [Price Level Histories](https://intro.quantecon.org/inflation_history.html)\n",
    "- [Income and Wealth Inequality](https://intro.quantecon.org/inequality.html)"
   ]
  },
  {
   "cell_type": "markdown",
   "id": "5c7d4575",
   "metadata": {},
   "source": [
    "# Essential Tools\n",
    "\n",
    "- [Complex Numbers and Trigonometry](https://intro.quantecon.org/complex_and_trig.html)\n",
    "- [Linear Equations and Matrix Algebra](https://intro.quantecon.org/linear_equations.html)\n",
    "- [Eigenvalues and Eigenvectors](https://intro.quantecon.org/eigen_I.html)\n",
    "- [Introduction to Supply and Demand](https://intro.quantecon.org/intro_supply_demand.html)"
   ]
  },
  {
   "cell_type": "markdown",
   "id": "8463f037",
   "metadata": {},
   "source": [
    "# Linear Dynamics\n",
    "\n",
    "- [Present Values](https://intro.quantecon.org/pv.html)\n",
    "- [Consumption Smoothing](https://intro.quantecon.org/cons_smooth.html)\n",
    "- [Equalizing Difference Model](https://intro.quantecon.org/equalizing_difference.html)\n",
    "- [A Monetarist Theory of  Price Levels](https://intro.quantecon.org/cagan_ree.html)\n",
    "- [A Monetarist Theory of Price Levels with Adaptive Expectations](https://intro.quantecon.org/cagan_adaptive.html)\n",
    "- [Geometric Series for Elementary Economics](https://intro.quantecon.org/geom_series.html)"
   ]
  },
  {
   "cell_type": "markdown",
   "id": "1fe94460",
   "metadata": {},
   "source": [
    "# Probability and Distributions\n",
    "\n",
    "- [Distributions and Probabilities](https://intro.quantecon.org/prob_dist.html)\n",
    "- [LLN and CLT](https://intro.quantecon.org/lln_clt.html)\n",
    "- [Monte Carlo and Option Pricing](https://intro.quantecon.org/monte_carlo.html)\n",
    "- [Heavy-Tailed Distributions](https://intro.quantecon.org/heavy_tails.html)\n",
    "- [Racial Segregation](https://intro.quantecon.org/schelling.html)"
   ]
  },
  {
   "cell_type": "markdown",
   "id": "4115df43",
   "metadata": {},
   "source": [
    "# Nonlinear Dynamics\n",
    "\n",
    "- [The Solow-Swan Growth Model](https://intro.quantecon.org/solow.html)\n",
    "- [Dynamics in One Dimension](https://intro.quantecon.org/scalar_dynam.html)\n",
    "- [The Cobweb Model](https://intro.quantecon.org/cobweb.html)\n",
    "- [The Overlapping Generations Model](https://intro.quantecon.org/olg.html)\n",
    "- [Commodity Prices](https://intro.quantecon.org/commod_price.html)"
   ]
  },
  {
   "cell_type": "markdown",
   "id": "77f93149",
   "metadata": {},
   "source": [
    "# Stochastic Dynamics\n",
    "\n",
    "- [AR1 Processes](https://intro.quantecon.org/ar1_processes.html)\n",
    "- [Markov Chains: Basic Concepts](https://intro.quantecon.org/markov_chains_I.html)\n",
    "- [Markov Chains: Irreducibility and Ergodicity](https://intro.quantecon.org/markov_chains_II.html)\n",
    "- [Univariate Time Series with Matrix Algebra](https://intro.quantecon.org/time_series_with_matrices.html)"
   ]
  },
  {
   "cell_type": "markdown",
   "id": "84292845",
   "metadata": {},
   "source": [
    "# Optimization\n",
    "\n",
    "- [Linear Programming](https://intro.quantecon.org/lp_intro.html)\n",
    "- [Shortest Paths](https://intro.quantecon.org/short_path.html)"
   ]
  },
  {
   "cell_type": "markdown",
   "id": "e9e541a6",
   "metadata": {},
   "source": [
    "# Modeling in Higher Dimensions\n",
    "\n",
    "- [The Perron-Frobenius Theorem](https://intro.quantecon.org/eigen_II.html)\n",
    "- [Input-Output Models](https://intro.quantecon.org/input_output.html)\n",
    "- [A Lake Model of Employment](https://intro.quantecon.org/lake_model.html)\n",
    "- [Networks](https://intro.quantecon.org/networks.html)"
   ]
  },
  {
   "cell_type": "markdown",
   "id": "e71fa4b5",
   "metadata": {},
   "source": [
    "# Markets and Competitive Equilibrium\n",
    "\n",
    "- [Supply and Demand with Many Goods](https://intro.quantecon.org/supply_demand_multiple_goods.html)\n",
    "- [Market Equilibrium with Heterogeneity](https://intro.quantecon.org/supply_demand_heterogeneity.html)"
   ]
  },
  {
   "cell_type": "markdown",
   "id": "5e7151d7",
   "metadata": {},
   "source": [
    "# Estimation\n",
    "\n",
    "- [Simple Linear Regression Model](https://intro.quantecon.org/simple_linear_regression.html)\n",
    "- [Maximum Likelihood Estimation](https://intro.quantecon.org/mle.html)"
   ]
  },
  {
   "cell_type": "markdown",
   "id": "745707b0",
   "metadata": {},
   "source": [
    "# Other\n",
    "\n",
    "- [Troubleshooting](https://intro.quantecon.org/troubleshooting.html)\n",
    "- [References](https://intro.quantecon.org/zreferences.html)\n",
    "- [Execution Statistics](https://intro.quantecon.org/status.html)"
   ]
  }
 ],
 "metadata": {
  "date": 1708382803.4768362,
  "filename": "intro.md",
  "kernelspec": {
   "display_name": "Python",
   "language": "python3",
   "name": "python3"
  },
  "title": "A First Course in Quantitative Economics with Python"
 },
 "nbformat": 4,
 "nbformat_minor": 5
}