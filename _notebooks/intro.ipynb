{
 "cells": [
  {
   "cell_type": "markdown",
   "id": "d2cd8494",
   "metadata": {},
   "source": [
    "# A First Course in Quantitative Economics with Python\n",
    "\n",
    "This lecture series provides an introduction to quantitative economics using Python."
   ]
  },
  {
   "cell_type": "markdown",
   "id": "2dd9f649",
   "metadata": {},
   "source": [
    "# Introduction\n",
    "\n",
    "- [About These Lectures](https://intro.quantecon.org/about.html)"
   ]
  },
  {
   "cell_type": "markdown",
   "id": "4bdc0b6f",
   "metadata": {},
   "source": [
    "# Economic Data\n",
    "\n",
    "- [Long-Run Growth](https://intro.quantecon.org/long_run_growth.html)\n",
    "- [Business Cycles](https://intro.quantecon.org/business_cycle.html)\n",
    "- [Price Level Histories](https://intro.quantecon.org/inflation_history.html)\n",
    "- [Income and Wealth Inequality](https://intro.quantecon.org/inequality.html)"
   ]
  },
  {
   "cell_type": "markdown",
   "id": "e4ae62b6",
   "metadata": {},
   "source": [
    "# Foundations\n",
    "\n",
    "- [Introduction to Supply and Demand](https://intro.quantecon.org/intro_supply_demand.html)\n",
    "- [Linear Equations and Matrix Algebra](https://intro.quantecon.org/linear_equations.html)\n",
    "- [Complex Numbers and Trigonometry](https://intro.quantecon.org/complex_and_trig.html)\n",
    "- [Geometric Series for Elementary Economics](https://intro.quantecon.org/geom_series.html)"
   ]
  },
  {
   "cell_type": "markdown",
   "id": "acc1d030",
   "metadata": {},
   "source": [
    "# Linear Dynamics: Finite Horizons\n",
    "\n",
    "- [Present Values](https://intro.quantecon.org/pv.html)\n",
    "- [Consumption Smoothing](https://intro.quantecon.org/cons_smooth.html)\n",
    "- [Equalizing Difference Model](https://intro.quantecon.org/equalizing_difference.html)\n",
    "- [A Monetarist Theory of Price Levels](https://intro.quantecon.org/cagan_ree.html)\n",
    "- [Monetarist Theory of Price Levels with Adaptive Expectations](https://intro.quantecon.org/cagan_adaptive.html)"
   ]
  },
  {
   "cell_type": "markdown",
   "id": "b8f69564",
   "metadata": {},
   "source": [
    "# Linear Dynamics: Infinite Horizons\n",
    "\n",
    "- [Eigenvalues and Eigenvectors](https://intro.quantecon.org/eigen_I.html)\n",
    "- [Computing Square Roots](https://intro.quantecon.org/greek_square.html)"
   ]
  },
  {
   "cell_type": "markdown",
   "id": "d895e625",
   "metadata": {},
   "source": [
    "# Probability and Distributions\n",
    "\n",
    "- [Distributions and Probabilities](https://intro.quantecon.org/prob_dist.html)\n",
    "- [LLN and CLT](https://intro.quantecon.org/lln_clt.html)\n",
    "- [Monte Carlo and Option Pricing](https://intro.quantecon.org/monte_carlo.html)\n",
    "- [Heavy-Tailed Distributions](https://intro.quantecon.org/heavy_tails.html)\n",
    "- [Racial Segregation](https://intro.quantecon.org/schelling.html)"
   ]
  },
  {
   "cell_type": "markdown",
   "id": "1fbf85f5",
   "metadata": {},
   "source": [
    "# Nonlinear Dynamics\n",
    "\n",
    "- [Dynamics in One Dimension](https://intro.quantecon.org/scalar_dynam.html)\n",
    "- [The Solow-Swan Growth Model](https://intro.quantecon.org/solow.html)\n",
    "- [The Cobweb Model](https://intro.quantecon.org/cobweb.html)\n",
    "- [The Overlapping Generations Model](https://intro.quantecon.org/olg.html)\n",
    "- [Commodity Prices](https://intro.quantecon.org/commod_price.html)"
   ]
  },
  {
   "cell_type": "markdown",
   "id": "534fb3d3",
   "metadata": {},
   "source": [
    "# Monetary-Fiscal Policy Interactions\n",
    "\n",
    "- [Money Financed Government Deficits and Price Levels](https://intro.quantecon.org/money_inflation.html)\n",
    "- [Some Unpleasant Monetarist Arithmetic](https://intro.quantecon.org/unpleasant.html)\n",
    "- [Inflation Rate Laffer Curves](https://intro.quantecon.org/money_inflation_nonlinear.html)\n",
    "- [Laffer Curves  with Adaptive Expectations](https://intro.quantecon.org/laffer_adaptive.html)\n",
    "- [Transitions in an Overlapping Generations Model](https://intro.quantecon.org/ak2.html)"
   ]
  },
  {
   "cell_type": "markdown",
   "id": "001e938f",
   "metadata": {},
   "source": [
    "# Stochastic Dynamics\n",
    "\n",
    "- [AR(1) Processes](https://intro.quantecon.org/ar1_processes.html)\n",
    "- [Markov Chains: Basic Concepts](https://intro.quantecon.org/markov_chains_I.html)\n",
    "- [Markov Chains: Irreducibility and Ergodicity](https://intro.quantecon.org/markov_chains_II.html)\n",
    "- [Univariate Time Series with Matrix Algebra](https://intro.quantecon.org/time_series_with_matrices.html)"
   ]
  },
  {
   "cell_type": "markdown",
   "id": "5d7dae60",
   "metadata": {},
   "source": [
    "# Optimization\n",
    "\n",
    "- [Linear Programming](https://intro.quantecon.org/lp_intro.html)\n",
    "- [Shortest Paths](https://intro.quantecon.org/short_path.html)"
   ]
  },
  {
   "cell_type": "markdown",
   "id": "4e9abcde",
   "metadata": {},
   "source": [
    "# Modeling in Higher Dimensions\n",
    "\n",
    "- [The Perron-Frobenius Theorem](https://intro.quantecon.org/eigen_II.html)\n",
    "- [Input-Output Models](https://intro.quantecon.org/input_output.html)\n",
    "- [A Lake Model of Employment](https://intro.quantecon.org/lake_model.html)\n",
    "- [Networks](https://intro.quantecon.org/networks.html)"
   ]
  },
  {
   "cell_type": "markdown",
   "id": "f97764b5",
   "metadata": {},
   "source": [
    "# Markets and Competitive Equilibrium\n",
    "\n",
    "- [Supply and Demand with Many Goods](https://intro.quantecon.org/supply_demand_multiple_goods.html)\n",
    "- [Market Equilibrium with Heterogeneity](https://intro.quantecon.org/supply_demand_heterogeneity.html)"
   ]
  },
  {
   "cell_type": "markdown",
   "id": "f5e1a575",
   "metadata": {},
   "source": [
    "# Estimation\n",
    "\n",
    "- [Simple Linear Regression Model](https://intro.quantecon.org/simple_linear_regression.html)\n",
    "- [Maximum Likelihood Estimation](https://intro.quantecon.org/mle.html)"
   ]
  },
  {
   "cell_type": "markdown",
   "id": "5782e1fe",
   "metadata": {},
   "source": [
    "# Other\n",
    "\n",
    "- [Troubleshooting](https://intro.quantecon.org/troubleshooting.html)\n",
    "- [References](https://intro.quantecon.org/zreferences.html)\n",
    "- [Execution Statistics](https://intro.quantecon.org/status.html)"
   ]
  }
 ],
 "metadata": {
  "date": 1720431610.0530963,
  "filename": "intro.md",
  "kernelspec": {
   "display_name": "Python",
   "language": "python3",
   "name": "python3"
  },
  "title": "A First Course in Quantitative Economics with Python"
 },
 "nbformat": 4,
 "nbformat_minor": 5
}