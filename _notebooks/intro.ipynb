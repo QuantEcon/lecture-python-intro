{
 "cells": [
  {
   "cell_type": "markdown",
   "id": "3a55e1ba",
   "metadata": {},
   "source": [
    "# A First Course in Quantitative Economics with Python\n",
    "\n",
    "This lecture series provides an introduction to quantitative economics using Python.\n",
    "\n",
    "The lectures were designed and written by [Thomas J. Sargent](http://www.tomsargent.com/) and [John Stachurski](http://johnstachurski.net/),\n",
    "with extensive help from the rest of the QuantEcon team."
   ]
  },
  {
   "cell_type": "markdown",
   "id": "2862b352",
   "metadata": {},
   "source": [
    "# Introduction\n",
    "\n",
    "- [About These Lectures](about.ipynb)"
   ]
  },
  {
   "cell_type": "markdown",
   "id": "cea5b9a0",
   "metadata": {},
   "source": [
    "# Economic Data\n",
    "\n",
    "- [Economic Growth Evidence](long_run_growth.ipynb)\n",
    "- [Business Cycles](business_cycle.ipynb)\n",
    "- [Income and Wealth Inequality](inequality.ipynb)"
   ]
  },
  {
   "cell_type": "markdown",
   "id": "95c46c97",
   "metadata": {},
   "source": [
    "# Essential Tools\n",
    "\n",
    "- [Linear Equations and Matrix Algebra](linear_equations.ipynb)\n",
    "- [Eigenvalues and Eigenvectors](eigen_I.ipynb)\n",
    "- [Introduction to Supply and Demand](intro_supply_demand.ipynb)"
   ]
  },
  {
   "cell_type": "markdown",
   "id": "3b868525",
   "metadata": {},
   "source": [
    "# Linear Dynamics\n",
    "\n",
    "- [Present Values](pv.ipynb)\n",
    "- [Consumption Smoothing](cons_smooth.ipynb)\n",
    "- [Equalizing Difference Model](equalizing_difference.ipynb)\n",
    "- [Price Level Histories](inflation_history.ipynb)\n",
    "- [A Fiscal Theory of the Price Level](cagan_ree.ipynb)\n",
    "- [A Fiscal Theory of Price Level with Adaptive Expectations](cagan_adaptive.ipynb)\n",
    "- [Geometric Series for Elementary Economics](geom_series.ipynb)"
   ]
  },
  {
   "cell_type": "markdown",
   "id": "ac43f72c",
   "metadata": {},
   "source": [
    "# Probability and Distributions\n",
    "\n",
    "- [Distributions and Probabilities](prob_dist.ipynb)\n",
    "- [LLN and CLT](lln_clt.ipynb)\n",
    "- [Monte Carlo and Option Pricing](monte_carlo.ipynb)\n",
    "- [Heavy-Tailed Distributions](heavy_tails.ipynb)\n",
    "- [Racial Segregation](schelling.ipynb)"
   ]
  },
  {
   "cell_type": "markdown",
   "id": "a8d9d5af",
   "metadata": {},
   "source": [
    "# Nonlinear Dynamics\n",
    "\n",
    "- [The Solow-Swan Growth Model](solow.ipynb)\n",
    "- [Dynamics in One Dimension](scalar_dynam.ipynb)\n",
    "- [The Cobweb Model](cobweb.ipynb)\n",
    "- [The Overlapping Generations Model](olg.ipynb)\n",
    "- [Commodity Prices](commod_price.ipynb)"
   ]
  },
  {
   "cell_type": "markdown",
   "id": "9800b618",
   "metadata": {},
   "source": [
    "# Stochastic Dynamics\n",
    "\n",
    "- [Markov Chains: Basic Concepts](markov_chains_I.ipynb)\n",
    "- [Markov Chains: Irreducibility and Ergodicity](markov_chains_II.ipynb)\n",
    "- [Univariate Time Series with Matrix Algebra](time_series_with_matrices.ipynb)"
   ]
  },
  {
   "cell_type": "markdown",
   "id": "1bada0f6",
   "metadata": {},
   "source": [
    "# Optimization\n",
    "\n",
    "- [Linear Programming](lp_intro.ipynb)\n",
    "- [Shortest Paths](short_path.ipynb)"
   ]
  },
  {
   "cell_type": "markdown",
   "id": "79b7adb6",
   "metadata": {},
   "source": [
    "# Modeling in Higher Dimensions\n",
    "\n",
    "- [Spectral Theory](eigen_II.ipynb)\n",
    "- [Input-Output Models](input_output.ipynb)\n",
    "- [A Lake Model of Employment](lake_model.ipynb)\n",
    "- [Networks](networks.ipynb)"
   ]
  },
  {
   "cell_type": "markdown",
   "id": "b4c31cbe",
   "metadata": {},
   "source": [
    "# Markets and Competitive Equilibrium\n",
    "\n",
    "- [Supply and Demand with Many Goods](supply_demand_multiple_goods.ipynb)\n",
    "- [Market Equilibrium with Heterogeneity](supply_demand_heterogeneity.ipynb)"
   ]
  },
  {
   "cell_type": "markdown",
   "id": "f4ab17af",
   "metadata": {},
   "source": [
    "# Estimation\n",
    "\n",
    "- [Simple Linear Regression Model](simple_linear_regression.ipynb)\n",
    "- [Maximum Likelihood Estimation](mle.ipynb)"
   ]
  },
  {
   "cell_type": "markdown",
   "id": "dda5bd30",
   "metadata": {},
   "source": [
    "# Other\n",
    "\n",
    "- [Troubleshooting](troubleshooting.ipynb)\n",
    "- [References](zreferences.ipynb)\n",
    "- [Execution Statistics](status.ipynb)"
   ]
  }
 ],
 "metadata": {
  "date": 1687909978.4507587,
  "filename": "intro.md",
  "kernelspec": {
   "display_name": "Python",
   "language": "python3",
   "name": "python3"
  },
  "title": "A First Course in Quantitative Economics with Python"
 },
 "nbformat": 4,
 "nbformat_minor": 5
}