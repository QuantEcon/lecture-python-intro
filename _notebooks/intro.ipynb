{
 "cells": [
  {
   "cell_type": "markdown",
   "id": "f5fc21f7",
   "metadata": {},
   "source": [
    "# Computational Economics and Finance for Undergraduates"
   ]
  },
  {
   "cell_type": "markdown",
   "id": "ecd842a0",
   "metadata": {},
   "source": [
    "# Writing in progress\n",
    "\n",
    "This lecture series is currently **in-work**\n",
    "\n",
    "This website presents a set of lectures for undergraduates focusing on computational economics and finance, designed and written by [Thomas J. Sargent](http://www.tomsargent.com/) and [John Stachurski](http://johnstachurski.net/).\n",
    "\n",
    "For an overview of the series, see [this page](https://quantecon.org/python-lectures/)"
   ]
  },
  {
   "cell_type": "markdown",
   "id": "cb687ba9",
   "metadata": {},
   "source": [
    "# Introduction\n",
    "\n",
    "- [About these Lectures](about.ipynb)"
   ]
  },
  {
   "cell_type": "markdown",
   "id": "fba4aaeb",
   "metadata": {},
   "source": [
    "# Supply and Demand\n",
    "\n",
    "- [Introduction to Supply and Demand](intro_supply_demand.ipynb)\n",
    "- [Supply and Demand with Many Goods](supply_demand_multiple_goods.ipynb)\n",
    "- [Market Equilibrium with Heterogeneity](supply_demand_heterogeneity.ipynb)\n",
    "- [Input-Output Models](input_output.ipynb)"
   ]
  },
  {
   "cell_type": "markdown",
   "id": "5ef9f1bf",
   "metadata": {},
   "source": [
    "# Data and Measurement\n",
    "\n",
    "- [Long Run Growth](long_run_growth.ipynb)\n",
    "- [Business Cycles](business_cycle.ipynb)\n",
    "- [Inflation and Unemployment](inflation_unemployment.ipynb)\n",
    "- [Income and Wealth Inequality](inequality.ipynb)\n",
    "- [Distributions in Economics](distributions.ipynb)"
   ]
  },
  {
   "cell_type": "markdown",
   "id": "35e7ba62",
   "metadata": {},
   "source": [
    "# Useful Tools\n",
    "\n",
    "- [Geometric Series for Elementary Economics](geom_series.ipynb)\n",
    "- [Linear Equations and Matrix Algebra](linear_equations.ipynb)\n",
    "- [Eigenvalues and Eigenvectors](eigen_I.ipynb)"
   ]
  },
  {
   "cell_type": "markdown",
   "id": "cdf206f1",
   "metadata": {},
   "source": [
    "# Simulation\n",
    "\n",
    "- [LLN and CLT](lln_clt.ipynb)\n",
    "- [Monte Carlo and Option Pricing](monte_carlo.ipynb)\n",
    "- [Racial Segregation](schelling.ipynb)"
   ]
  },
  {
   "cell_type": "markdown",
   "id": "c6b09532",
   "metadata": {},
   "source": [
    "# Dynamics\n",
    "\n",
    "- [The Solow-Swan Growth Model](solow.ipynb)\n",
    "- [Dynamics in One Dimension](scalar_dynam.ipynb)\n",
    "- [The Cobweb Model](cobweb.ipynb)\n",
    "- [The Overlapping Generations Model](olg.ipynb)\n",
    "- [Markov Chains: Basic Concepts and Stationarity](markov_chains_I.ipynb)\n",
    "- [Markov Chains: Irreducibility and Ergodicity](markov_chains_II.ipynb)"
   ]
  },
  {
   "cell_type": "markdown",
   "id": "20baa944",
   "metadata": {},
   "source": [
    "# Modeling in Higher Dimensions\n",
    "\n",
    "- [Theorems of Nonnegative Matrices and Eigenvalues](eigen_II.ipynb)\n",
    "- [A Lake Model of Employment](lake_model.ipynb)\n",
    "- [Introduction to Asset Pricing](asset_pricing.ipynb)\n",
    "- [Networks](networks.ipynb)\n",
    "- [Multiplier Accelerator Model](samuelson.ipynb)"
   ]
  },
  {
   "cell_type": "markdown",
   "id": "086b4823",
   "metadata": {},
   "source": [
    "# Optimization\n",
    "\n",
    "- [Linear Programming](lp_intro.ipynb)\n",
    "- [Comparative Advantage](comparative_adv.ipynb)\n",
    "- [Nonlinear Problems](nonlinear.ipynb)\n",
    "- [Shortest Paths](short_path.ipynb)"
   ]
  },
  {
   "cell_type": "markdown",
   "id": "5ec64674",
   "metadata": {},
   "source": [
    "# Markets and Competitive Equilibrium\n",
    "\n",
    "- [Markets and Welfare](markets_welfare.ipynb)\n",
    "- [Risk](risk.ipynb)\n",
    "- [Uncertainty](uncertainty.ipynb)"
   ]
  },
  {
   "cell_type": "markdown",
   "id": "0d10956d",
   "metadata": {},
   "source": [
    "# Estimation\n",
    "\n",
    "- [Simple Linear Regression Model](simple_linear_regression.ipynb)\n",
    "- [Linear Regression with Matrices](lr_with_matrices.ipynb)\n",
    "- [Maximum Likelihood Estimation](mle.ipynb)"
   ]
  },
  {
   "cell_type": "markdown",
   "id": "cde7212a",
   "metadata": {},
   "source": [
    "# Other\n",
    "\n",
    "- [Troubleshooting](troubleshooting.ipynb)\n",
    "- [References](zreferences.ipynb)\n",
    "- [Execution Statistics](status.ipynb)"
   ]
  }
 ],
 "metadata": {
  "date": 1681898274.618961,
  "filename": "intro.md",
  "kernelspec": {
   "display_name": "Python",
   "language": "python3",
   "name": "python3"
  },
  "title": "Computational Economics and Finance for Undergraduates"
 },
 "nbformat": 4,
 "nbformat_minor": 5
}