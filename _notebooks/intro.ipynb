{
 "cells": [
  {
   "cell_type": "markdown",
   "id": "ca978c5b",
   "metadata": {},
   "source": [
    "# A First Course in Quantitative Economics with Python\n",
    "\n",
    "This lecture series provides an introduction to quantitative economics using Python.\n",
    "\n",
    "It was designed and written by [Thomas J. Sargent](http://www.tomsargent.com/), [John Stachurski](http://johnstachurski.net/), and the rest of the QuantEcon team."
   ]
  },
  {
   "cell_type": "markdown",
   "id": "200b0d3c",
   "metadata": {},
   "source": [
    "# Introduction\n",
    "\n",
    "- [About these Lectures](about.ipynb)"
   ]
  },
  {
   "cell_type": "markdown",
   "id": "8deb09ef",
   "metadata": {},
   "source": [
    "# Economic Data\n",
    "\n",
    "- [Economic Growth Evidence](long_run_growth.ipynb)\n",
    "- [Business Cycles](business_cycle.ipynb)\n",
    "- [Income and Wealth Inequality](inequality.ipynb)"
   ]
  },
  {
   "cell_type": "markdown",
   "id": "87352f06",
   "metadata": {},
   "source": [
    "# Essential Tools\n",
    "\n",
    "- [Linear Equations and Matrix Algebra](linear_equations.ipynb)\n",
    "- [Eigenvalues and Eigenvectors](eigen_I.ipynb)\n",
    "- [Introduction to Supply and Demand](intro_supply_demand.ipynb)"
   ]
  },
  {
   "cell_type": "markdown",
   "id": "5aa53767",
   "metadata": {},
   "source": [
    "# Linear Dynamics\n",
    "\n",
    "- [Present Values](pv.ipynb)\n",
    "- [Consumption smoothing](cons_smooth.ipynb)\n",
    "- [Equalizing Difference Model](equalizing_difference.ipynb)\n",
    "- [A Fiscal Theory of the Price Level](cagan_ree.ipynb)\n",
    "- [Geometric Series for Elementary Economics](geom_series.ipynb)"
   ]
  },
  {
   "cell_type": "markdown",
   "id": "ac5b653b",
   "metadata": {},
   "source": [
    "# Probability and Distributions\n",
    "\n",
    "- [Distributions and Probabilities](prob_dist.ipynb)\n",
    "- [LLN and CLT](lln_clt.ipynb)\n",
    "- [Monte Carlo and Option Pricing](monte_carlo.ipynb)\n",
    "- [Heavy-Tailed Distributions](heavy_tails.ipynb)\n",
    "- [Racial Segregation](schelling.ipynb)"
   ]
  },
  {
   "cell_type": "markdown",
   "id": "6963687c",
   "metadata": {},
   "source": [
    "# Nonlinear Dynamics\n",
    "\n",
    "- [The Solow-Swan Growth Model](solow.ipynb)\n",
    "- [Dynamics in One Dimension](scalar_dynam.ipynb)\n",
    "- [The Cobweb Model](cobweb.ipynb)\n",
    "- [The Overlapping Generations Model](olg.ipynb)\n",
    "- [Commodity Prices](commod_price.ipynb)"
   ]
  },
  {
   "cell_type": "markdown",
   "id": "0d9503dd",
   "metadata": {},
   "source": [
    "# Stochastic Dynamics\n",
    "\n",
    "- [Markov Chains: Basic Concepts](markov_chains_I.ipynb)\n",
    "- [Markov Chains: Irreducibility and Ergodicity](markov_chains_II.ipynb)\n",
    "- [Univariate Time Series with Matrix Algebra](time_series_with_matrices.ipynb)"
   ]
  },
  {
   "cell_type": "markdown",
   "id": "ff9718ed",
   "metadata": {},
   "source": [
    "# Optimization\n",
    "\n",
    "- [Linear Programming](lp_intro.ipynb)\n",
    "- [Shortest Paths](short_path.ipynb)"
   ]
  },
  {
   "cell_type": "markdown",
   "id": "4d5d585e",
   "metadata": {},
   "source": [
    "# Modeling in Higher Dimensions\n",
    "\n",
    "- [Spectral Theory](eigen_II.ipynb)\n",
    "- [Input-Output Models](input_output.ipynb)\n",
    "- [A Lake Model of Employment](lake_model.ipynb)\n",
    "- [Networks](networks.ipynb)"
   ]
  },
  {
   "cell_type": "markdown",
   "id": "1a3a1c8f",
   "metadata": {},
   "source": [
    "# Markets and Competitive Equilibrium\n",
    "\n",
    "- [Supply and Demand with Many Goods](supply_demand_multiple_goods.ipynb)\n",
    "- [Market Equilibrium with Heterogeneity](supply_demand_heterogeneity.ipynb)"
   ]
  },
  {
   "cell_type": "markdown",
   "id": "bae3f916",
   "metadata": {},
   "source": [
    "# Estimation\n",
    "\n",
    "- [Simple Linear Regression Model](simple_linear_regression.ipynb)\n",
    "- [Maximum Likelihood Estimation](mle.ipynb)"
   ]
  },
  {
   "cell_type": "markdown",
   "id": "2d32fcb3",
   "metadata": {},
   "source": [
    "# Other\n",
    "\n",
    "- [Troubleshooting](troubleshooting.ipynb)\n",
    "- [References](zreferences.ipynb)\n",
    "- [Execution Statistics](status.ipynb)"
   ]
  }
 ],
 "metadata": {
  "date": 1686030529.0250158,
  "filename": "intro.md",
  "kernelspec": {
   "display_name": "Python",
   "language": "python3",
   "name": "python3"
  },
  "title": "A First Course in Quantitative Economics with Python"
 },
 "nbformat": 4,
 "nbformat_minor": 5
}