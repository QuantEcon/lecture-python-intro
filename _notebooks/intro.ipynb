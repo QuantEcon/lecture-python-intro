{
 "cells": [
  {
   "cell_type": "markdown",
   "id": "5ed65b7c",
   "metadata": {},
   "source": [
    "# A First Course in Quantitative Economics with Python\n",
    "\n",
    "This lecture series provides an introduction to quantitative economics using Python.\n",
    "\n",
    "It was designed and written by [Thomas J. Sargent](http://www.tomsargent.com/), [John Stachurski](http://johnstachurski.net/), and the rest of the QuantEcon team."
   ]
  },
  {
   "cell_type": "markdown",
   "id": "40a1acbf",
   "metadata": {},
   "source": [
    "# Introduction\n",
    "\n",
    "- [About these Lectures](about.ipynb)"
   ]
  },
  {
   "cell_type": "markdown",
   "id": "5b5661c4",
   "metadata": {},
   "source": [
    "# Economic Data\n",
    "\n",
    "- [Economic Growth Evidence](long_run_growth.ipynb)\n",
    "- [Business Cycles](business_cycle.ipynb)\n",
    "- [Income and Wealth Inequality](inequality.ipynb)"
   ]
  },
  {
   "cell_type": "markdown",
   "id": "c400adcd",
   "metadata": {},
   "source": [
    "# Essential Tools\n",
    "\n",
    "- [Linear Equations and Matrix Algebra](linear_equations.ipynb)\n",
    "- [Eigenvalues and Eigenvectors](eigen_I.ipynb)\n",
    "- [Introduction to Supply and Demand](intro_supply_demand.ipynb)"
   ]
  },
  {
   "cell_type": "markdown",
   "id": "0334ae37",
   "metadata": {},
   "source": [
    "# Linear Dynamics\n",
    "\n",
    "- [Present Values](pv.ipynb)\n",
    "- [Consumption smoothing](cons_smooth.ipynb)\n",
    "- [A Fiscal Theory of the Price Level](cagan_ree.ipynb)\n",
    "- [Geometric Series for Elementary Economics](geom_series.ipynb)"
   ]
  },
  {
   "cell_type": "markdown",
   "id": "14c06cb4",
   "metadata": {},
   "source": [
    "# Probability and Distributions\n",
    "\n",
    "- [Distributions and Probabilities](prob_dist.ipynb)\n",
    "- [LLN and CLT](lln_clt.ipynb)\n",
    "- [Monte Carlo and Option Pricing](monte_carlo.ipynb)\n",
    "- [Heavy-Tailed Distributions](heavy_tails.ipynb)\n",
    "- [Racial Segregation](schelling.ipynb)"
   ]
  },
  {
   "cell_type": "markdown",
   "id": "d02038d8",
   "metadata": {},
   "source": [
    "# Nonlinear Dynamics\n",
    "\n",
    "- [The Solow-Swan Growth Model](solow.ipynb)\n",
    "- [Dynamics in One Dimension](scalar_dynam.ipynb)\n",
    "- [The Cobweb Model](cobweb.ipynb)\n",
    "- [The Overlapping Generations Model](olg.ipynb)\n",
    "- [Commodity Prices](commod_price.ipynb)"
   ]
  },
  {
   "cell_type": "markdown",
   "id": "cf8ce13f",
   "metadata": {},
   "source": [
    "# Stochastic Dynamics\n",
    "\n",
    "- [Markov Chains: Basic Concepts](markov_chains_I.ipynb)\n",
    "- [Markov Chains: Irreducibility and Ergodicity](markov_chains_II.ipynb)\n",
    "- [Univariate Time Series with Matrix Algebra](time_series_with_matrices.ipynb)"
   ]
  },
  {
   "cell_type": "markdown",
   "id": "bfb3d28a",
   "metadata": {},
   "source": [
    "# Optimization\n",
    "\n",
    "- [Linear Programming](lp_intro.ipynb)\n",
    "- [Comparative Advantage](comparative_adv.ipynb)\n",
    "- [Nonlinear Problems](nonlinear.ipynb)\n",
    "- [Shortest Paths](short_path.ipynb)"
   ]
  },
  {
   "cell_type": "markdown",
   "id": "1fefb53f",
   "metadata": {},
   "source": [
    "# Modeling in Higher Dimensions\n",
    "\n",
    "- [Spectral Theory](eigen_II.ipynb)\n",
    "- [Input-Output Models](input_output.ipynb)\n",
    "- [A Lake Model of Employment](lake_model.ipynb)\n",
    "- [Networks](networks.ipynb)"
   ]
  },
  {
   "cell_type": "markdown",
   "id": "6b7cbc5e",
   "metadata": {},
   "source": [
    "# Markets and Competitive Equilibrium\n",
    "\n",
    "- [Supply and Demand with Many Goods](supply_demand_multiple_goods.ipynb)\n",
    "- [Market Equilibrium with Heterogeneity](supply_demand_heterogeneity.ipynb)"
   ]
  },
  {
   "cell_type": "markdown",
   "id": "1d8144ff",
   "metadata": {},
   "source": [
    "# Estimation\n",
    "\n",
    "- [Simple Linear Regression Model](simple_linear_regression.ipynb)\n",
    "- [Linear Regression with Matrices](lr_with_matrices.ipynb)\n",
    "- [Maximum Likelihood Estimation](mle.ipynb)"
   ]
  },
  {
   "cell_type": "markdown",
   "id": "718e177b",
   "metadata": {},
   "source": [
    "# Other\n",
    "\n",
    "- [Troubleshooting](troubleshooting.ipynb)\n",
    "- [References](zreferences.ipynb)\n",
    "- [Execution Statistics](status.ipynb)"
   ]
  }
 ],
 "metadata": {
  "date": 1686023663.3688848,
  "filename": "intro.md",
  "kernelspec": {
   "display_name": "Python",
   "language": "python3",
   "name": "python3"
  },
  "title": "A First Course in Quantitative Economics with Python"
 },
 "nbformat": 4,
 "nbformat_minor": 5
}