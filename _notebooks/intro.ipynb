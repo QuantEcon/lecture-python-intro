{
 "cells": [
  {
   "cell_type": "markdown",
   "id": "d214c7a7",
   "metadata": {},
   "source": [
    "# Computational Economics and Finance for Undergraduates"
   ]
  },
  {
   "cell_type": "markdown",
   "id": "60d7e801",
   "metadata": {},
   "source": [
    "# Writing in progress\n",
    "\n",
    "This lecture series is currently **in-work**\n",
    "\n",
    "This website presents a set of lectures for undergraduates focusing on computational economics and finance, designed and written by [Thomas J. Sargent](http://www.tomsargent.com/) and [John Stachurski](http://johnstachurski.net/).\n",
    "\n",
    "For an overview of the series, see [this page](https://quantecon.org/python-lectures/)"
   ]
  },
  {
   "cell_type": "markdown",
   "id": "e4eca8d5",
   "metadata": {},
   "source": [
    "# Introduction\n",
    "\n",
    "- [About these Lectures](about.ipynb)"
   ]
  },
  {
   "cell_type": "markdown",
   "id": "a683c233",
   "metadata": {},
   "source": [
    "# Economic Data\n",
    "\n",
    "- [Long Run Growth](long_run_growth.ipynb)\n",
    "- [Business Cycles](business_cycle.ipynb)\n",
    "- [Income and Wealth Inequality](inequality.ipynb)"
   ]
  },
  {
   "cell_type": "markdown",
   "id": "0fac455d",
   "metadata": {},
   "source": [
    "# Essential Tools\n",
    "\n",
    "- [Linear Equations and Matrix Algebra](linear_equations.ipynb)\n",
    "- [Eigenvalues and Eigenvectors](eigen_I.ipynb)\n",
    "- [Introduction to Supply and Demand](intro_supply_demand.ipynb)\n",
    "- [Geometric Series for Elementary Economics](geom_series.ipynb)"
   ]
  },
  {
   "cell_type": "markdown",
   "id": "bc05f674",
   "metadata": {},
   "source": [
    "# Probability and Distributions\n",
    "\n",
    "- [Distributions and Probabilities](prob_dist.ipynb)\n",
    "- [LLN and CLT](lln_clt.ipynb)\n",
    "- [Monte Carlo and Option Pricing](monte_carlo.ipynb)\n",
    "- [Heavy-Tailed Distributions](heavy_tails.ipynb)\n",
    "- [Racial Segregation](schelling.ipynb)"
   ]
  },
  {
   "cell_type": "markdown",
   "id": "9a84ee0d",
   "metadata": {},
   "source": [
    "# Dynamics\n",
    "\n",
    "- [The Solow-Swan Growth Model](solow.ipynb)\n",
    "- [Dynamics in One Dimension](scalar_dynam.ipynb)\n",
    "- [The Cobweb Model](cobweb.ipynb)\n",
    "- [The Overlapping Generations Model](olg.ipynb)\n",
    "- [Markov Chains: Basic Concepts and Stationarity](markov_chains_I.ipynb)\n",
    "- [Markov Chains: Irreducibility and Ergodicity](markov_chains_II.ipynb)\n",
    "- [Commodity Prices](commod_price.ipynb)"
   ]
  },
  {
   "cell_type": "markdown",
   "id": "4a683dc1",
   "metadata": {},
   "source": [
    "# Optimization\n",
    "\n",
    "- [Linear Programming](lp_intro.ipynb)\n",
    "- [Comparative Advantage](comparative_adv.ipynb)\n",
    "- [Nonlinear Problems](nonlinear.ipynb)\n",
    "- [Shortest Paths](short_path.ipynb)"
   ]
  },
  {
   "cell_type": "markdown",
   "id": "d9d4dc3d",
   "metadata": {},
   "source": [
    "# Modeling in Higher Dimensions\n",
    "\n",
    "- [Spectral Theory](eigen_II.ipynb)\n",
    "- [Input-Output Models](input_output.ipynb)\n",
    "- [A Lake Model of Employment](lake_model.ipynb)\n",
    "- [Introduction to Asset Pricing](asset_pricing.ipynb)\n",
    "- [Networks](networks.ipynb)"
   ]
  },
  {
   "cell_type": "markdown",
   "id": "d87ba6c4",
   "metadata": {},
   "source": [
    "# Markets and Competitive Equilibrium\n",
    "\n",
    "- [Supply and Demand with Many Goods](supply_demand_multiple_goods.ipynb)\n",
    "- [Market Equilibrium with Heterogeneity](supply_demand_heterogeneity.ipynb)"
   ]
  },
  {
   "cell_type": "markdown",
   "id": "57a09c17",
   "metadata": {},
   "source": [
    "# Estimation\n",
    "\n",
    "- [Simple Linear Regression Model](simple_linear_regression.ipynb)\n",
    "- [Linear Regression with Matrices](lr_with_matrices.ipynb)\n",
    "- [Maximum Likelihood Estimation](mle.ipynb)"
   ]
  },
  {
   "cell_type": "markdown",
   "id": "7035fce9",
   "metadata": {},
   "source": [
    "# Other\n",
    "\n",
    "- [Troubleshooting](troubleshooting.ipynb)\n",
    "- [References](zreferences.ipynb)\n",
    "- [Execution Statistics](status.ipynb)"
   ]
  }
 ],
 "metadata": {
  "date": 1684476351.291262,
  "filename": "intro.md",
  "kernelspec": {
   "display_name": "Python",
   "language": "python3",
   "name": "python3"
  },
  "title": "Computational Economics and Finance for Undergraduates"
 },
 "nbformat": 4,
 "nbformat_minor": 5
}