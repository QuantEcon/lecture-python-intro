{
 "cells": [
  {
   "cell_type": "markdown",
   "id": "4d39dde1",
   "metadata": {},
   "source": [
    "# Markov Chains: Irreducibility and Ergodicity\n",
    "\n",
    "In addition to what’s in Anaconda, this lecture will need the following libraries:"
   ]
  },
  {
   "cell_type": "markdown",
   "id": "457421c0",
   "metadata": {
    "hide-output": false
   },
   "source": [
    "```ipython3\n",
    "!pip install quantecon\n",
    "!pip install graphviz\n",
    "```\n"
   ]
  },
  {
   "cell_type": "markdown",
   "id": "b8340daa",
   "metadata": {},
   "source": [
    "# graphviz\n",
    "\n",
    "If you are running this lecture locally it requires [graphviz](https://www.graphviz.org)\n",
    "to be installed on your computer. Installation instructions for graphviz can be found\n",
    "[here](https://www.graphviz.org/download/)"
   ]
  },
  {
   "cell_type": "markdown",
   "id": "bc2c35a6",
   "metadata": {},
   "source": [
    "## Overview\n",
    "\n",
    "This lecture continues the journey in Markov chain.\n",
    "\n",
    "Specifically, we will introduce irreducibility and ergodicity, and how they connect to stationarity.\n",
    "\n",
    "Irreducibility is a concept that describes the ability of a Markov chain to move between any two states in the system.\n",
    "\n",
    "Ergodicity is a sample path property that describes the behavior of the system over long periods of time.\n",
    "\n",
    "The concepts of irreducibility and ergodicity are closely related to the idea of stationarity.\n",
    "\n",
    "An irreducible Markov chain guarantees the existence of a unique stationary distribution, while an ergodic Markov chain ensures that the system eventually reaches its stationary distribution, regardless of its initial state.\n",
    "\n",
    "Together, these concepts provide a foundation for understanding the long-term behavior of Markov chains.\n",
    "\n",
    "Let’s start with some standard imports:"
   ]
  },
  {
   "cell_type": "markdown",
   "id": "f23da4cc",
   "metadata": {
    "hide-output": false
   },
   "source": [
    "```ipython3\n",
    "import matplotlib.pyplot as plt\n",
    "plt.rcParams[\"figure.figsize\"] = (11, 5)  # set default figure size\n",
    "import quantecon as qe\n",
    "import numpy as np\n",
    "from graphviz import Digraph\n",
    "import networkx as nx\n",
    "from matplotlib import cm\n",
    "import matplotlib as mpl\n",
    "```\n"
   ]
  },
  {
   "cell_type": "markdown",
   "id": "bcf6d1dc",
   "metadata": {},
   "source": [
    "## Irreducibility\n",
    "\n",
    "Irreducibility is a central concept of Markov chain theory.\n",
    "\n",
    "To explain it, let’s take $ P $ to be a fixed stochastic matrix.\n",
    "\n",
    "Two states $ x $ and $ y $ are said to **communicate** with each other if\n",
    "there exist positive integers $ j $ and $ k $ such that\n",
    "\n",
    "$$\n",
    "P^j(x, y) > 0\n",
    "\\quad \\text{and} \\quad\n",
    "P^k(y, x) > 0\n",
    "$$\n",
    "\n",
    "In view of our discussion [above](markov_chains_I.ipynb#finite-mc-mstp), this means precisely\n",
    "that\n",
    "\n",
    "- state $ x $ can eventually be reached from state $ y $, and  \n",
    "- state $ y $ can eventually be reached from state $ x $  \n",
    "\n",
    "\n",
    "The stochastic matrix $ P $ is called **irreducible** if all states communicate;\n",
    "that is, if $ x $ and $ y $ communicate for all $ (x, y) $ in $ S \\times S $.\n",
    "\n",
    "For example, consider the following transition probabilities for wealth of a\n",
    "fictitious set of households"
   ]
  },
  {
   "cell_type": "markdown",
   "id": "ed9b3f58",
   "metadata": {
    "hide-output": false
   },
   "source": [
    "```ipython3\n",
    "dot = Digraph(comment='Graph')\n",
    "dot.attr(rankdir='LR')\n",
    "dot.node(\"poor\")\n",
    "dot.node(\"middle class\")\n",
    "dot.node(\"rich\")\n",
    "\n",
    "dot.edge(\"poor\", \"poor\", label=\"0.9\")\n",
    "dot.edge(\"poor\", \"middle class\", label=\"0.1\")\n",
    "dot.edge(\"middle class\", \"poor\", label=\"0.4\")\n",
    "dot.edge(\"middle class\", \"middle class\", label=\"0.4\")\n",
    "dot.edge(\"middle class\", \"rich\", label=\"0.2\")\n",
    "dot.edge(\"rich\", \"poor\", label=\"0.1\")\n",
    "dot.edge(\"rich\", \"middle class\", label=\"0.1\")\n",
    "dot.edge(\"rich\", \"rich\", label=\"0.8\")\n",
    "\n",
    "dot\n",
    "```\n"
   ]
  },
  {
   "cell_type": "markdown",
   "id": "1129bdbc",
   "metadata": {},
   "source": [
    "We can translate this into a stochastic matrix, putting zeros where\n",
    "there’s no edge between nodes\n",
    "\n",
    "$$\n",
    "P :=\n",
    "\\left(\n",
    "  \\begin{array}{ccc}\n",
    "     0.9 & 0.1 & 0 \\\\\n",
    "     0.4 & 0.4 & 0.2 \\\\\n",
    "     0.1 & 0.1 & 0.8\n",
    "  \\end{array}\n",
    "\\right)\n",
    "$$\n",
    "\n",
    "It’s clear from the graph that this stochastic matrix is irreducible: we can  eventually\n",
    "reach any state from any other state.\n",
    "\n",
    "We can also test this using [QuantEcon.py](http://quantecon.org/quantecon-py)’s MarkovChain class"
   ]
  },
  {
   "cell_type": "markdown",
   "id": "fd2d6498",
   "metadata": {
    "hide-output": false
   },
   "source": [
    "```ipython3\n",
    "P = [[0.9, 0.1, 0.0],\n",
    "     [0.4, 0.4, 0.2],\n",
    "     [0.1, 0.1, 0.8]]\n",
    "\n",
    "mc = qe.MarkovChain(P, ('poor', 'middle', 'rich'))\n",
    "mc.is_irreducible\n",
    "```\n"
   ]
  },
  {
   "cell_type": "markdown",
   "id": "ebb495c4",
   "metadata": {},
   "source": [
    "Here’s a more pessimistic scenario in which  poor people remain poor forever"
   ]
  },
  {
   "cell_type": "markdown",
   "id": "fe37e7fa",
   "metadata": {
    "hide-output": false
   },
   "source": [
    "```ipython3\n",
    "dot = Digraph(comment='Graph')\n",
    "dot.attr(rankdir='LR')\n",
    "dot.node(\"poor\")\n",
    "dot.node(\"middle class\")\n",
    "dot.node(\"rich\")\n",
    "\n",
    "dot.edge(\"poor\", \"poor\", label=\"1.0\")\n",
    "dot.edge(\"middle class\", \"poor\", label=\"0.1\")\n",
    "dot.edge(\"middle class\", \"middle class\", label=\"0.8\")\n",
    "dot.edge(\"middle class\", \"rich\", label=\"0.1\")\n",
    "dot.edge(\"rich\", \"middle class\", label=\"0.2\")\n",
    "dot.edge(\"rich\", \"rich\", label=\"0.8\")\n",
    "\n",
    "dot\n",
    "```\n"
   ]
  },
  {
   "cell_type": "markdown",
   "id": "1ee4bdfd",
   "metadata": {},
   "source": [
    "This stochastic matrix is not irreducible since, for example, rich is not\n",
    "accessible from poor.\n",
    "\n",
    "Let’s confirm this"
   ]
  },
  {
   "cell_type": "markdown",
   "id": "2ec1093b",
   "metadata": {
    "hide-output": false
   },
   "source": [
    "```ipython3\n",
    "P = [[1.0, 0.0, 0.0],\n",
    "     [0.1, 0.8, 0.1],\n",
    "     [0.0, 0.2, 0.8]]\n",
    "\n",
    "mc = qe.MarkovChain(P, ('poor', 'middle', 'rich'))\n",
    "mc.is_irreducible\n",
    "```\n"
   ]
  },
  {
   "cell_type": "markdown",
   "id": "b70430a1",
   "metadata": {},
   "source": [
    "It might be clear to you already that irreducibility is going to be important\n",
    "in terms of long run outcomes.\n",
    "\n",
    "For example, poverty is a life sentence in the second graph but not the first.\n",
    "\n",
    "We’ll come back to this a bit later."
   ]
  },
  {
   "cell_type": "markdown",
   "id": "017935c1",
   "metadata": {},
   "source": [
    "### Irreducibility and Stationarity\n",
    "\n",
    "We discussed uniqueness of the stationary in the [previous lecture](markov_chains_I.ipynb#stationary) requires the transition matrix to be everywhere positive.\n",
    "\n",
    "In fact irreducibility is enough for the uniqueness of the stationary distribution to hold if the distribution exists.\n",
    "\n",
    "We can revise the [theorem](markov_chains_I.ipynb#strict-stationary) into the following fundamental theorem:"
   ]
  },
  {
   "cell_type": "markdown",
   "id": "147ed15a",
   "metadata": {},
   "source": [
    "### \n",
    "\n",
    "If $ P $ is irreducible, then $ P $ has exactly one stationary\n",
    "distribution.\n",
    "\n",
    "For proof, see Chapter 4 of [[SS23](zreferences.ipynb#id3)] or\n",
    "Theorem 5.2 of [[Haggstrom02](zreferences.ipynb#id134)].\n",
    "\n",
    "\n",
    "<a id='ergodicity'></a>"
   ]
  },
  {
   "cell_type": "markdown",
   "id": "96def589",
   "metadata": {},
   "source": [
    "## Ergodicity\n",
    "\n",
    "Under irreducibility, yet another important result obtains:"
   ]
  },
  {
   "cell_type": "markdown",
   "id": "0351281f",
   "metadata": {},
   "source": [
    "## \n",
    "\n",
    "If $ P $ is irreducible and $ \\psi^* $ is the unique stationary\n",
    "distribution, then, for all $ x \\in S $,\n",
    "\n",
    "\n",
    "<a id='equation-llnfmc0'></a>\n",
    "$$\n",
    "\\frac{1}{m} \\sum_{t = 1}^m \\mathbf{1}\\{X_t = x\\}  \\to \\psi^*(x)\n",
    "    \\quad \\text{as } m \\to \\infty \\tag{22.1}\n",
    "$$\n",
    "\n",
    "Here\n",
    "\n",
    "- $ \\{X_t\\} $ is a Markov chain with stochastic matrix $ P $ and initial\n",
    "  distribution $ \\psi_0 $  \n",
    "- $ \\mathbf{1}\\{X_t = x\\} = 1 $ if $ X_t = x $ and zero otherwise  \n",
    "\n",
    "\n",
    "The result in [(22.1)](#equation-llnfmc0) is sometimes called **ergodicity**.\n",
    "\n",
    "The theorem tells us that the fraction of time the chain spends at state $ x $\n",
    "converges to $ \\psi^*(x) $ as time goes to infinity.\n",
    "\n",
    "\n",
    "<a id='new-interp-sd'></a>\n",
    "This gives us another way to interpret the stationary distribution (provided irreducibility holds).\n",
    "\n",
    "Importantly, the result is valid for any choice of $ \\psi_0 $.\n",
    "\n",
    "The theorem is related to [the law of large numbers](lln_clt.ipynb).\n",
    "\n",
    "It tells us that, in some settings, the law of large numbers sometimes holds even when the\n",
    "sequence of random variables is [not IID](lln_clt.ipynb#iid-violation).\n",
    "\n",
    "\n",
    "<a id='mc-eg1-2'></a>"
   ]
  },
  {
   "cell_type": "markdown",
   "id": "2fe68f03",
   "metadata": {},
   "source": [
    "### Example 1\n",
    "\n",
    "Recall our cross-sectional interpretation of the employment/unemployment model [discussed above](markov_chains_I.ipynb#mc-eg1-1).\n",
    "\n",
    "Assume that $ \\alpha \\in (0,1) $ and $ \\beta \\in (0,1) $, so that irreducibility holds.\n",
    "\n",
    "We saw that the stationary distribution is $ (p, 1-p) $, where\n",
    "\n",
    "$$\n",
    "p = \\frac{\\beta}{\\alpha + \\beta}\n",
    "$$\n",
    "\n",
    "In the cross-sectional interpretation, this is the fraction of people unemployed.\n",
    "\n",
    "In view of our latest (ergodicity) result, it is also the fraction of time that a single worker can expect to spend unemployed.\n",
    "\n",
    "Thus, in the long-run, cross-sectional averages for a population and time-series averages for a given person coincide.\n",
    "\n",
    "This is one aspect of the concept  of ergodicity.\n",
    "\n",
    "\n",
    "<a id='ergo'></a>"
   ]
  },
  {
   "cell_type": "markdown",
   "id": "48063fac",
   "metadata": {},
   "source": [
    "### Example 2\n",
    "\n",
    "Another example is Hamilton [[Ham05](zreferences.ipynb#id166)] dynamics [discussed before](markov_chains_I.ipynb#mc-eg2).\n",
    "\n",
    "The diagram of the Markov chain shows that it is **irreducible**.\n",
    "\n",
    "Therefore, we can see the sample path averages for each state (the fraction of time spent in each state) converges to the stationary distribution regardless of the starting state"
   ]
  },
  {
   "cell_type": "markdown",
   "id": "91f9a8a2",
   "metadata": {
    "hide-output": false
   },
   "source": [
    "```ipython3\n",
    "P = np.array([[0.971, 0.029, 0.000],\n",
    "              [0.145, 0.778, 0.077],\n",
    "              [0.000, 0.508, 0.492]])\n",
    "ts_length = 10_000\n",
    "mc = qe.MarkovChain(P)\n",
    "n = len(P)\n",
    "fig, axes = plt.subplots(nrows=1, ncols=n)\n",
    "ψ_star = mc.stationary_distributions[0]\n",
    "plt.subplots_adjust(wspace=0.35)\n",
    "\n",
    "for i in range(n):\n",
    "    axes[i].grid()\n",
    "    axes[i].axhline(ψ_star[i], linestyle='dashed', lw=2, color = 'black', \n",
    "                    label = fr'$\\psi^*({i})$')\n",
    "    axes[i].set_xlabel('t')\n",
    "    axes[i].set_ylabel(f'fraction of time spent at {i}')\n",
    "\n",
    "    # Compute the fraction of time spent, starting from different x_0s\n",
    "    for x0, col in ((0, 'blue'), (1, 'green'), (2, 'red')):\n",
    "        # Generate time series that starts at different x0\n",
    "        X = mc.simulate(ts_length, init=x0)\n",
    "        X_bar = (X == i).cumsum() / (1 + np.arange(ts_length, dtype=float))\n",
    "        axes[i].plot(X_bar, color=col, label=f'$x_0 = \\, {x0} $')\n",
    "    axes[i].legend()\n",
    "plt.show()\n",
    "```\n"
   ]
  },
  {
   "cell_type": "markdown",
   "id": "ae1bf8fb",
   "metadata": {},
   "source": [
    "### Example 3\n",
    "\n",
    "Let’s look at one more example with six states [discussed before](markov_chains_I.ipynb#mc-eg3).\n",
    "\n",
    "$$\n",
    "\n",
    "$$\n",
    "\n",
    "P :=\n",
    "\\left(\n",
    "\\begin{array}{cccccc}\n",
    "0.86 & 0.11 & 0.03 & 0.00 & 0.00 & 0.00 \\\n",
    "0.52 & 0.33 & 0.13 & 0.02 & 0.00 & 0.00 \\\n",
    "0.12 & 0.03 & 0.70 & 0.11 & 0.03 & 0.01 \\\n",
    "0.13 & 0.02 & 0.35 & 0.36 & 0.10 & 0.04 \\\n",
    "0.00 & 0.00 & 0.09 & 0.11 & 0.55 & 0.25 \\\n",
    "0.00 & 0.00 & 0.09 & 0.15 & 0.26 & 0.50\n",
    "\\end{array}\n",
    "\\right)\n",
    "\\$$  $\\$\n",
    "\n",
    "The graph for the chain shows states are densely connected indicating that it is **irreducible**.\n",
    "\n",
    "Similar to previous examples, the sample path averages for each state converges to the stationary distribution"
   ]
  },
  {
   "cell_type": "markdown",
   "id": "998123f9",
   "metadata": {
    "hide-output": false
   },
   "source": [
    "```ipython3\n",
    "P = [[0.86, 0.11, 0.03, 0.00, 0.00, 0.00],\n",
    "     [0.52, 0.33, 0.13, 0.02, 0.00, 0.00],\n",
    "     [0.12, 0.03, 0.70, 0.11, 0.03, 0.01],\n",
    "     [0.13, 0.02, 0.35, 0.36, 0.10, 0.04],\n",
    "     [0.00, 0.00, 0.09, 0.11, 0.55, 0.25],\n",
    "     [0.00, 0.00, 0.09, 0.15, 0.26, 0.50]]\n",
    "\n",
    "ts_length = 10_000\n",
    "mc = qe.MarkovChain(P)\n",
    "ψ_star = mc.stationary_distributions[0]\n",
    "fig, ax = plt.subplots(figsize=(9, 6))\n",
    "X = mc.simulate(ts_length)\n",
    "# Center the plot at 0\n",
    "ax.set_ylim(-0.25, 0.25)\n",
    "ax.axhline(0, linestyle='dashed', lw=2, color = 'black', alpha=0.4)\n",
    "\n",
    "\n",
    "for x0 in range(6):\n",
    "    # Calculate the fraction of time for each state\n",
    "    X_bar = (X == x0).cumsum() / (1 + np.arange(ts_length, dtype=float))\n",
    "    ax.plot(X_bar - ψ_star[x0], label=f'$X = {x0+1} $')\n",
    "    ax.set_xlabel('t')\n",
    "    ax.set_ylabel(r'fraction of time spent in a state $- \\psi^* (x)$')\n",
    "\n",
    "ax.legend()\n",
    "plt.show()\n",
    "```\n"
   ]
  },
  {
   "cell_type": "markdown",
   "id": "8900b8d2",
   "metadata": {},
   "source": [
    "### Example 4\n",
    "\n",
    "Let’s look at another example with two states: 0 and 1.\n",
    "\n",
    "$$\n",
    "P :=\n",
    "\\left(\n",
    "  \\begin{array}{cc}\n",
    "     0 & 1\\\\\n",
    "     1 & 0\\\\\n",
    "  \\end{array}\n",
    "\\right)\n",
    "$$\n",
    "\n",
    "The diagram of the Markov chain shows that it is **irreducible**"
   ]
  },
  {
   "cell_type": "markdown",
   "id": "2b95fc03",
   "metadata": {
    "hide-output": false
   },
   "source": [
    "```ipython3\n",
    "dot = Digraph(comment='Graph')\n",
    "dot.attr(rankdir='LR')\n",
    "dot.node(\"0\")\n",
    "dot.node(\"1\")\n",
    "\n",
    "dot.edge(\"0\", \"1\", label=\"1.0\", color='red')\n",
    "dot.edge(\"1\", \"0\", label=\"1.0\", color='red')\n",
    "\n",
    "dot\n",
    "```\n"
   ]
  },
  {
   "cell_type": "markdown",
   "id": "ad29ba6f",
   "metadata": {},
   "source": [
    "Unlike other Markov chains we have seen before, it has a periodic cycle — the state cycles between the two states in a regular way.\n",
    "\n",
    "This is called [periodicity](https://www.randomservices.org/random/markov/Periodicity.html).\n",
    "\n",
    "It is still irreducible, however, so ergodicity holds."
   ]
  },
  {
   "cell_type": "markdown",
   "id": "911c3edc",
   "metadata": {
    "hide-output": false
   },
   "source": [
    "```ipython3\n",
    "P = np.array([[0, 1],\n",
    "              [1, 0]])\n",
    "ts_length = 10_000\n",
    "mc = qe.MarkovChain(P)\n",
    "n = len(P)\n",
    "fig, axes = plt.subplots(nrows=1, ncols=n)\n",
    "ψ_star = mc.stationary_distributions[0]\n",
    "\n",
    "for i in range(n):\n",
    "    axes[i].grid()\n",
    "    axes[i].set_ylim(0.45, 0.55)\n",
    "    axes[i].axhline(ψ_star[i], linestyle='dashed', lw=2, color = 'black', \n",
    "                    label = fr'$\\psi^*({i})$')\n",
    "    axes[i].set_xlabel('t')\n",
    "    axes[i].set_ylabel(f'fraction of time spent at {i}')\n",
    "\n",
    "    # Compute the fraction of time spent, for each x\n",
    "    for x0 in range(n):\n",
    "        # Generate time series starting at different x_0\n",
    "        X = mc.simulate(ts_length, init=x0)\n",
    "        X_bar = (X == i).cumsum() / (1 + np.arange(ts_length, dtype=float))\n",
    "        axes[i].plot(X_bar, label=f'$x_0 = \\, {x0} $')\n",
    "\n",
    "    axes[i].legend()\n",
    "plt.show()\n",
    "```\n"
   ]
  },
  {
   "cell_type": "markdown",
   "id": "4930cd0d",
   "metadata": {},
   "source": [
    "This example helps to emphasize the fact that asymptotic stationarity is about the distribution, while ergodicity is about the sample path.\n",
    "\n",
    "The proportion of time spent in a state can converge to the stationary distribution with periodic chains.\n",
    "\n",
    "However, the distribution at each state does not."
   ]
  },
  {
   "cell_type": "markdown",
   "id": "de05827a",
   "metadata": {},
   "source": [
    "### Expectations of Geometric Sums\n",
    "\n",
    "Sometimes we want to compute the mathematical expectation of a geometric sum, such as\n",
    "$ \\sum_t \\beta^t h(X_t) $.\n",
    "\n",
    "In view of the preceding discussion, this is\n",
    "\n",
    "$$\n",
    "\\mathbb{E} \n",
    "    \\left[\n",
    "        \\sum_{j=0}^\\infty \\beta^j h(X_{t+j}) \\mid X_t \n",
    "        = x\n",
    "    \\right]\n",
    "    = x + \\beta (Ph)(x) + \\beta^2 (P^2 h)(x) + \\cdots\n",
    "$$\n",
    "\n",
    "By the [Neumann series lemma](eigen_II.ipynb#la-neumann), this sum can be calculated using\n",
    "\n",
    "$$\n",
    "I + \\beta P + \\beta^2 P^2 + \\cdots = (I - \\beta P)^{-1}\n",
    "$$"
   ]
  },
  {
   "cell_type": "markdown",
   "id": "3c75aa6b",
   "metadata": {},
   "source": [
    "## Exercises"
   ]
  },
  {
   "cell_type": "markdown",
   "id": "4ad1db15",
   "metadata": {},
   "source": [
    "## Exercise 22.1\n",
    "\n",
    "Benhabib el al. [[BBL19](zreferences.ipynb#id257)] estimated that the transition matrix for social mobility as the following\n",
    "\n",
    "$$\n",
    "P:=\\left(\\begin{array}{cccccccc}0.222 & 0.222 & 0.215 & 0.187 & 0.081 & 0.038 & 0.029 & 0.006 \\\\ 0.221 & 0.22 & 0.215 & 0.188 & 0.082 & 0.039 & 0.029 & 0.006 \\\\ 0.207 & 0.209 & 0.21 & 0.194 & 0.09 & 0.046 & 0.036 & 0.008 \\\\ 0.198 & 0.201 & 0.207 & 0.198 & 0.095 & 0.052 & 0.04 & 0.009 \\\\ 0.175 & 0.178 & 0.197 & 0.207 & 0.11 & 0.067 & 0.054 & 0.012 \\\\ 0.182 & 0.184 & 0.2 & 0.205 & 0.106 & 0.062 & 0.05 & 0.011 \\\\ 0.123 & 0.125 & 0.166 & 0.216 & 0.141 & 0.114 & 0.094 & 0.021 \\\\ 0.084 & 0.084 & 0.142 & 0.228 & 0.17 & 0.143 & 0.121 & 0.028\\end{array}\\right)\n",
    "$$\n",
    "\n",
    "where each state 1 to 8 corresponds to a  percentile of wealth shares\n",
    "\n",
    "$$\n",
    "0-20 \\%, 20-40 \\%, 40-60 \\%, 60-80 \\%, 80-90 \\%, 90-95 \\%, 95-99 \\%, 99-100 \\%\n",
    "$$\n",
    "\n",
    "The matrix is recorded as `P` below"
   ]
  },
  {
   "cell_type": "markdown",
   "id": "2b14f593",
   "metadata": {
    "hide-output": false
   },
   "source": [
    "```python\n",
    "P = [\n",
    "    [0.222, 0.222, 0.215, 0.187, 0.081, 0.038, 0.029, 0.006],\n",
    "    [0.221, 0.22,  0.215, 0.188, 0.082, 0.039, 0.029, 0.006],\n",
    "    [0.207, 0.209, 0.21,  0.194, 0.09,  0.046, 0.036, 0.008],\n",
    "    [0.198, 0.201, 0.207, 0.198, 0.095, 0.052, 0.04,  0.009],\n",
    "    [0.175, 0.178, 0.197, 0.207, 0.11,  0.067, 0.054, 0.012],\n",
    "    [0.182, 0.184, 0.2,   0.205, 0.106, 0.062, 0.05,  0.011],\n",
    "    [0.123, 0.125, 0.166, 0.216, 0.141, 0.114, 0.094, 0.021],\n",
    "    [0.084, 0.084, 0.142, 0.228, 0.17,  0.143, 0.121, 0.028]\n",
    "    ]\n",
    "\n",
    "P = np.array(P)\n",
    "codes_B = ('1','2','3','4','5','6','7','8')\n",
    "```\n"
   ]
  },
  {
   "cell_type": "markdown",
   "id": "1b4055c3",
   "metadata": {},
   "source": [
    "In this exercise,\n",
    "\n",
    "1. show this process is asymptotically stationary and calculate the stationary distribution using simulations.  \n",
    "1. use simulations to demonstrate ergodicity of this process.  "
   ]
  },
  {
   "cell_type": "markdown",
   "id": "fab6bdba",
   "metadata": {},
   "source": [
    "## Solution to[ Exercise 22.1](#mc_ex1)\n",
    "\n",
    "1. \n",
    "\n",
    "Use the technique we learnt before, we can take the power of the transition matrix"
   ]
  },
  {
   "cell_type": "markdown",
   "id": "fd2bc712",
   "metadata": {
    "hide-output": false
   },
   "source": [
    "```ipython3\n",
    "P = [[0.222, 0.222, 0.215, 0.187, 0.081, 0.038, 0.029, 0.006],\n",
    "     [0.221, 0.22,  0.215, 0.188, 0.082, 0.039, 0.029, 0.006],\n",
    "     [0.207, 0.209, 0.21,  0.194, 0.09,  0.046, 0.036, 0.008],\n",
    "     [0.198, 0.201, 0.207, 0.198, 0.095, 0.052, 0.04,  0.009],\n",
    "     [0.175, 0.178, 0.197, 0.207, 0.11,  0.067, 0.054, 0.012],\n",
    "     [0.182, 0.184, 0.2,   0.205, 0.106, 0.062, 0.05,  0.011],\n",
    "     [0.123, 0.125, 0.166, 0.216, 0.141, 0.114, 0.094, 0.021],\n",
    "     [0.084, 0.084, 0.142, 0.228, 0.17,  0.143, 0.121, 0.028]]\n",
    "\n",
    "P = np.array(P)\n",
    "codes_B = ('1','2','3','4','5','6','7','8')\n",
    "\n",
    "np.linalg.matrix_power(P, 10)\n",
    "```\n"
   ]
  },
  {
   "cell_type": "markdown",
   "id": "5fcd824f",
   "metadata": {},
   "source": [
    "We find again that rows of the transition matrix converge to the stationary distribution"
   ]
  },
  {
   "cell_type": "markdown",
   "id": "16994c5f",
   "metadata": {
    "hide-output": false
   },
   "source": [
    "```ipython3\n",
    "mc = qe.MarkovChain(P)\n",
    "ψ_star = mc.stationary_distributions[0]\n",
    "ψ_star\n",
    "```\n"
   ]
  },
  {
   "cell_type": "markdown",
   "id": "2d0e0416",
   "metadata": {},
   "source": [
    "1. "
   ]
  },
  {
   "cell_type": "markdown",
   "id": "eb6a29f2",
   "metadata": {
    "hide-output": false
   },
   "source": [
    "```ipython3\n",
    "ts_length = 1000\n",
    "mc = qe.MarkovChain(P)\n",
    "fig, ax = plt.subplots(figsize=(9, 6))\n",
    "X = mc.simulate(ts_length)\n",
    "ax.set_ylim(-0.25, 0.25)\n",
    "ax.axhline(0, linestyle='dashed', lw=2, color = 'black', alpha=0.4)\n",
    "\n",
    "for x0 in range(8):\n",
    "    # Calculate the fraction of time for each worker\n",
    "    X_bar = (X == x0).cumsum() / (1 + np.arange(ts_length, dtype=float))\n",
    "    ax.plot(X_bar - ψ_star[x0], label=f'$X = {x0+1} $')\n",
    "    ax.set_xlabel('t')\n",
    "    ax.set_ylabel(r'fraction of time spent in a state $- \\psi^* (x)$')\n",
    "\n",
    "ax.legend()\n",
    "plt.show()\n",
    "```\n"
   ]
  },
  {
   "cell_type": "markdown",
   "id": "f68599fa",
   "metadata": {},
   "source": [
    "Note that the fraction of time spent at each state quickly converges to the probability assigned to that state by the stationary distribution."
   ]
  },
  {
   "cell_type": "markdown",
   "id": "8c0b8918",
   "metadata": {},
   "source": [
    "## Exercise 22.2\n",
    "\n",
    "According to the discussion [above](#mc-eg1-2), if a worker’s employment dynamics obey the stochastic matrix\n",
    "\n",
    "$$\n",
    "P\n",
    "= \\left(\n",
    "\\begin{array}{cc}\n",
    "    1 - \\alpha & \\alpha \\\\\n",
    "    \\beta & 1 - \\beta\n",
    "\\end{array}\n",
    "  \\right)\n",
    "$$\n",
    "\n",
    "with $ \\alpha \\in (0,1) $ and $ \\beta \\in (0,1) $, then, in the long-run, the fraction\n",
    "of time spent unemployed will be\n",
    "\n",
    "$$\n",
    "p := \\frac{\\beta}{\\alpha + \\beta}\n",
    "$$\n",
    "\n",
    "In other words, if $ \\{X_t\\} $ represents the Markov chain for\n",
    "employment, then $ \\bar X_m \\to p $ as $ m \\to \\infty $, where\n",
    "\n",
    "$$\n",
    "\\bar X_m := \\frac{1}{m} \\sum_{t = 1}^m \\mathbf{1}\\{X_t = 0\\}\n",
    "$$\n",
    "\n",
    "This exercise asks you to illustrate convergence by computing\n",
    "$ \\bar X_m $ for large $ m $ and checking that\n",
    "it is close to $ p $.\n",
    "\n",
    "You will see that this statement is true regardless of the choice of initial\n",
    "condition or the values of $ \\alpha, \\beta $, provided both lie in\n",
    "$ (0, 1) $.\n",
    "\n",
    "The result should be similar to the plot we plotted [here](#ergo)"
   ]
  },
  {
   "cell_type": "markdown",
   "id": "f3b27e0a",
   "metadata": {},
   "source": [
    "## Solution to[ Exercise 22.2](#mc_ex2)\n",
    "\n",
    "We will address this exercise graphically.\n",
    "\n",
    "The plots show the time series of $ \\bar X_m - p $ for two initial\n",
    "conditions.\n",
    "\n",
    "As $ m $ gets large, both series converge to zero."
   ]
  },
  {
   "cell_type": "markdown",
   "id": "1aa8bb52",
   "metadata": {
    "hide-output": false
   },
   "source": [
    "```ipython3\n",
    "α = β = 0.1\n",
    "ts_length = 10000\n",
    "p = β / (α + β)\n",
    "\n",
    "P = ((1 - α,       α),               # Careful: P and p are distinct\n",
    "     (    β,   1 - β))\n",
    "mc = qe.MarkovChain(P)\n",
    "\n",
    "fig, ax = plt.subplots(figsize=(9, 6))\n",
    "ax.set_ylim(-0.25, 0.25)\n",
    "ax.grid()\n",
    "ax.hlines(0, 0, ts_length, lw=2, alpha=0.6)   # Horizonal line at zero\n",
    "\n",
    "for x0, col in ((0, 'blue'), (1, 'green')):\n",
    "    # Generate time series for worker that starts at x0\n",
    "    X = mc.simulate(ts_length, init=x0)\n",
    "    # Compute fraction of time spent unemployed, for each n\n",
    "    X_bar = (X == 0).cumsum() / (1 + np.arange(ts_length, dtype=float))\n",
    "    # Plot\n",
    "    ax.fill_between(range(ts_length), np.zeros(ts_length), X_bar - p, color=col, alpha=0.1)\n",
    "    ax.plot(X_bar - p, color=col, label=f'$X_0 = \\, {x0} $')\n",
    "    # Overlay in black--make lines clearer\n",
    "    ax.plot(X_bar - p, 'k-', alpha=0.6)\n",
    "\n",
    "ax.legend(loc='upper right')\n",
    "plt.show()\n",
    "```\n"
   ]
  },
  {
   "cell_type": "markdown",
   "id": "4e6089ce",
   "metadata": {},
   "source": [
    "## Exercise 22.3\n",
    "\n",
    "In `quantecon` library, irreducibility is tested by checking whether the chain forms a [strongly connected component](https://networkx.org/documentation/stable/reference/algorithms/generated/networkx.algorithms.components.is_strongly_connected.html).\n",
    "\n",
    "However, another way to verify irreducibility is by checking whether $ A $ satisfies the following statement:\n",
    "\n",
    "Assume A is an $ n \\times n $ $ A $ is irreducible if and only if $ \\sum_{k=0}^{n-1}A^k $ is a positive matrix.\n",
    "\n",
    "(see more: [[Zha12](zreferences.ipynb#id256)] and [here](https://math.stackexchange.com/questions/3336616/how-to-prove-this-matrix-is-a-irreducible-matrix))\n",
    "\n",
    "Based on this claim, write a function to test irreducibility."
   ]
  },
  {
   "cell_type": "markdown",
   "id": "85ad34aa",
   "metadata": {},
   "source": [
    "## Solution to[ Exercise 22.3](#mc_ex3)"
   ]
  },
  {
   "cell_type": "markdown",
   "id": "e1bc4c0f",
   "metadata": {
    "hide-output": false
   },
   "source": [
    "```ipython3\n",
    "def is_irreducible(P):\n",
    "    n = len(P)\n",
    "    result = np.zeros((n, n))\n",
    "    for i in range(n):\n",
    "        result += np.linalg.matrix_power(P, i)\n",
    "    return np.all(result > 0)\n",
    "```\n"
   ]
  },
  {
   "cell_type": "markdown",
   "id": "b42dec65",
   "metadata": {
    "hide-output": false
   },
   "source": [
    "```ipython3\n",
    "P1 = np.array([[0, 1],\n",
    "               [1, 0]])\n",
    "P2 = np.array([[1.0, 0.0, 0.0],\n",
    "               [0.1, 0.8, 0.1],\n",
    "               [0.0, 0.2, 0.8]])\n",
    "P3 = np.array([[0.971, 0.029, 0.000],\n",
    "               [0.145, 0.778, 0.077],\n",
    "               [0.000, 0.508, 0.492]])\n",
    "\n",
    "for P in (P1, P2, P3):\n",
    "    result = lambda P: 'irreducible' if is_irreducible(P) else 'reducible'\n",
    "    print(f'{P}: {result(P)}')\n",
    "```\n"
   ]
  }
 ],
 "metadata": {
  "date": 1681898275.21145,
  "filename": "markov_chains_II.md",
  "kernelspec": {
   "display_name": "Python",
   "language": "python3",
   "name": "python3"
  },
  "title": "Markov Chains: Irreducibility and Ergodicity"
 },
 "nbformat": 4,
 "nbformat_minor": 5
}