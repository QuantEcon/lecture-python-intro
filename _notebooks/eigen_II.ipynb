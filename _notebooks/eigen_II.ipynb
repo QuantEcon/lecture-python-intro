{
 "cells": [
  {
   "cell_type": "markdown",
   "id": "d90478d1",
   "metadata": {},
   "source": [
    "# Theorems of Nonnegative Matrices and Eigenvalues\n",
    "\n",
    "\n",
    "<a id='index-0'></a>"
   ]
  },
  {
   "cell_type": "markdown",
   "id": "b7471aa9",
   "metadata": {},
   "source": [
    "## Contents\n",
    "\n",
    "- [Theorems of Nonnegative Matrices and Eigenvalues](#Theorems-of-Nonnegative-Matrices-and-Eigenvalues)  \n",
    "  - [Nonnegative Matrices](#Nonnegative-Matrices)  \n",
    "  - [The Neumann Series Lemma](#The-Neumann-Series-Lemma)  \n",
    "  - [Exercises](#Exercises)  "
   ]
  },
  {
   "cell_type": "markdown",
   "id": "346186c8",
   "metadata": {},
   "source": [
    "In addition to what’s in Anaconda, this lecture will need the following libraries:"
   ]
  },
  {
   "cell_type": "markdown",
   "id": "2b337a38",
   "metadata": {
    "hide-output": false
   },
   "source": [
    "```ipython3\n",
    "!pip install graphviz\n",
    "```\n"
   ]
  },
  {
   "cell_type": "markdown",
   "id": "7ec14b04",
   "metadata": {},
   "source": [
    "# graphviz\n",
    "\n",
    "If you are running this lecture locally it requires [graphviz](https://www.graphviz.org)\n",
    "to be installed on your computer. Installation instructions for graphviz can be found\n",
    "[here](https://www.graphviz.org/download/)\n",
    "\n",
    "In this lecture we will begin with the basic properties of nonnegative matrices.\n",
    "\n",
    "Then we will explore the Perron-Frobenius Theorem and the Neumann Series Lemma, and connect them to applications in Markov chains and networks.\n",
    "\n",
    "We will use the following imports:"
   ]
  },
  {
   "cell_type": "markdown",
   "id": "ae763e0d",
   "metadata": {
    "hide-output": false
   },
   "source": [
    "```ipython3\n",
    "import matplotlib.pyplot as plt\n",
    "import numpy as np\n",
    "from numpy.linalg import eig\n",
    "import graphviz as gv\n",
    "```\n"
   ]
  },
  {
   "cell_type": "markdown",
   "id": "12d8e1c2",
   "metadata": {},
   "source": [
    "## Nonnegative Matrices\n",
    "\n",
    "Often, in economics, the matrix that we are dealing with is nonnegative.\n",
    "\n",
    "Nonnegative matrices have several special and useful properties.\n",
    "\n",
    "In this section we discuss some of them — in particular, the connection\n",
    "between nonnegativity and eigenvalues.\n",
    "\n",
    "Let $ a^{k}_{ij} $ be element $ (i,j) $ of $ A^k $.\n",
    "\n",
    "An $ n \\times m $ matrix $ A $ is called **nonnegative** if every element of $ A $\n",
    "is nonnegative, i.e., $ a_{ij} \\geq 0 $ for every $ i,j $.\n",
    "\n",
    "We denote this as $ A \\geq 0 $.\n",
    "\n",
    "\n",
    "<a id='irreducible'></a>"
   ]
  },
  {
   "cell_type": "markdown",
   "id": "f301ae9a",
   "metadata": {},
   "source": [
    "### Irreducible Matrices\n",
    "\n",
    "We have (informally) introduced irreducible matrices in the Markov chain lecture (TODO: link to Markov chain lecture).\n",
    "\n",
    "Here we will introduce this concept formally.\n",
    "\n",
    "$ A $ is called **irreducible** if for *each* $ (i,j) $ there is an integer $ k \\geq 0 $ such that $ a^{k}_{ij} > 0 $.\n",
    "\n",
    "A matrix $ A $ that is not irreducible is called reducible.\n",
    "\n",
    "Here are some examples to illustrate this further.\n",
    "\n",
    "1. $ A = \\begin{bmatrix} 0.5 & 0.1 \\\\ 0.2 & 0.2 \\end{bmatrix} $ is irreducible since $ a_{ij}>0 $ for all $ (i,j) $.  \n",
    "1. $ A = \\begin{bmatrix} 0 & 1 \\\\ 1 & 0 \\end{bmatrix} $ is irreducible since $ a_{12},a_{21} >0 $ and $ a^{2}_{11},a^{2}_{22} >0 $.  \n",
    "1. $ A = \\begin{bmatrix} 1 & 0 \\\\ 0 & 1 \\end{bmatrix} $ is reducible since $ A^k = A $ for all $ k \\geq 0 $ and thus\n",
    "  $ a^{k}_{12},a^{k}_{21} = 0 $ for all $ k \\geq 0 $.  "
   ]
  },
  {
   "cell_type": "markdown",
   "id": "5501dbd4",
   "metadata": {},
   "source": [
    "### Primitive Matrices\n",
    "\n",
    "Let $ A $ be a square nonnegative matrix and let $ A^k $ be the $ k^{th} $ power of $ A $.\n",
    "\n",
    "A matrix is considered **primitive** if there exists a $ k \\in \\mathbb{N} $ such that $ A^k $ is everywhere positive.\n",
    "\n",
    "It means that $ A $ is called primitive if there is an integer $ k \\geq 0 $ such that $ a^{k}_{ij} > 0 $ for *all* $ (i,j) $.\n",
    "\n",
    "We can see that if a matrix is primitive, then it implies the matrix is irreducible.\n",
    "\n",
    "This is because if there exists an $ A^k $ such that $ a^{k}_{ij} > 0 $ for all $ (i,j) $, then it guarantees the same property for $ {k+1}^th, {k+2}^th ... {k+n}^th $ iterations.\n",
    "\n",
    "In other words, a primitive matrix is both irreducible and aperiodical as aperiodicity requires a state to be visited with a guarantee of returning to itself after a certain amount of iterations."
   ]
  },
  {
   "cell_type": "markdown",
   "id": "070fd8ed",
   "metadata": {},
   "source": [
    "### Left Eigenvectors\n",
    "\n",
    "We have previously discussed right (ordinary) eigenvectors $ Av = \\lambda v $.\n",
    "\n",
    "Here we introduce left eigenvectors.\n",
    "\n",
    "Left eigenvectors will play important roles in what follows, including that of stochastic steady states for dynamic models under a Markov assumption.\n",
    "\n",
    "We will talk more about this later, but for now, let’s define left eigenvectors.\n",
    "\n",
    "A vector $ \\varepsilon $ is called a left eigenvector of $ A $ if $ \\varepsilon $ is an eigenvector of $ A^T $.\n",
    "\n",
    "In other words, if $ \\varepsilon $ is a left eigenvector of matrix A, then $ A^T \\varepsilon = \\lambda \\varepsilon $, where $ \\lambda $ is the eigenvalue associated with the left eigenvector $ v $.\n",
    "\n",
    "This hints at how to compute left eigenvectors"
   ]
  },
  {
   "cell_type": "markdown",
   "id": "525901c0",
   "metadata": {
    "hide-output": false
   },
   "source": [
    "```ipython3\n",
    "# Define a sample matrix\n",
    "A = np.array([[3, 2], \n",
    "              [1, 4]])\n",
    "\n",
    "# Compute right eigenvectors and eigenvalues\n",
    "right_eigenvalues, right_eigenvectors = np.linalg.eig(A)\n",
    "\n",
    "# Compute left eigenvectors and eigenvalues\n",
    "left_eigenvalues, left_eigenvectors = np.linalg.eig(A.T)\n",
    "\n",
    "# Transpose left eigenvectors for comparison (because they are returned as column vectors)\n",
    "left_eigenvectors = left_eigenvectors.T\n",
    "\n",
    "print(\"Matrix A:\")\n",
    "print(A)\n",
    "print(\"\\nRight Eigenvalues:\")\n",
    "print(right_eigenvalues)\n",
    "print(\"\\nRight Eigenvectors:\")\n",
    "print(right_eigenvectors)\n",
    "print(\"\\nLeft Eigenvalues:\")\n",
    "print(left_eigenvalues)\n",
    "print(\"\\nLeft Eigenvectors:\")\n",
    "print(left_eigenvectors)\n",
    "```\n"
   ]
  },
  {
   "cell_type": "markdown",
   "id": "5fe587c9",
   "metadata": {},
   "source": [
    "Note that the eigenvalues for both left and right eigenvectors are the same, but the eigenvectors themselves are different.\n",
    "\n",
    "We can then take transpose to obtain $ A^T \\varepsilon = \\lambda \\varepsilon $ and obtain $ \\varepsilon^T A= \\lambda \\varepsilon^T $.\n",
    "\n",
    "This is a more common expression and where the name left eigenvectors originates.\n",
    "\n",
    "\n",
    "<a id='perron-frobe'></a>"
   ]
  },
  {
   "cell_type": "markdown",
   "id": "add8b57f",
   "metadata": {},
   "source": [
    "### The Perron-Frobenius Theorem\n",
    "\n",
    "For a nonnegative matrix $ A $ the behavior of $ A^k $ as $ k \\to \\infty $ is controlled by the eigenvalue with the largest\n",
    "absolute value, often called the **dominant eigenvalue**.\n",
    "\n",
    "For a matrix $ A $, the Perron-Frobenius theorem characterizes certain\n",
    "properties of the dominant eigenvalue and its corresponding eigenvector when\n",
    "$ A $ is a nonnegative square matrix."
   ]
  },
  {
   "cell_type": "markdown",
   "id": "62cfb33c",
   "metadata": {},
   "source": [
    "###  (Perron-Frobenius Theorem)\n",
    "\n",
    "If a matrix $ A \\geq 0 $ then,\n",
    "\n",
    "1. the dominant eigenvalue of $ A $, $ r(A) $, is real-valued and nonnegative.  \n",
    "1. for any other eigenvalue (possibly complex) $ \\lambda $ of $ A $, $ |\\lambda| \\leq r(A) $.  \n",
    "1. we can find a nonnegative and nonzero eigenvector $ v $ such that $ Av = r(A)v $.  \n",
    "\n",
    "\n",
    "Moreover if $ A $ is also irreducible then,\n",
    "\n",
    "1. the eigenvector $ v $ associated with the eigenvalue $ r(A) $ is strictly positive.  \n",
    "1. there exists no other positive eigenvector $ v $ (except scalar multiples of $ v $) associated with $ r(A) $.  \n",
    "\n",
    "\n",
    "If $ A $ is primitive then,\n",
    "\n",
    "1. the inequality $ |\\lambda| \\leq r(A) $ is strict for all eigenvalues $ \\lambda $ of $ A $ distinct from $ r(A) $, and  \n",
    "1. with $ e $ and $ \\varepsilon $ normalized so that the inner product of $ \\varepsilon $ and  $ e = 1 $, we have\n",
    "  $ r(A)^{-m} A^m $ converges to $ \\varepsilon^{\\top} $ when $ m \\rightarrow \\infty $  \n",
    "\n",
    "\n",
    "(This is a relatively simple version of the theorem — for more details see\n",
    "[here](https://en.wikipedia.org/wiki/Perron%E2%80%93Frobenius_theorem)).\n",
    "\n",
    "We will see applications of the theorem below.\n",
    "\n",
    "\n",
    "<a id='la-neumann'></a>"
   ]
  },
  {
   "cell_type": "markdown",
   "id": "d97c4659",
   "metadata": {},
   "source": [
    "## The Neumann Series Lemma\n",
    "\n",
    "\n",
    "<a id='index-1'></a>\n",
    "In this section we present a famous result about series of matrices that has\n",
    "many applications in economics."
   ]
  },
  {
   "cell_type": "markdown",
   "id": "a7ae47f6",
   "metadata": {},
   "source": [
    "### Scalar Series\n",
    "\n",
    "Here’s a fundamental result about series that you surely know:\n",
    "\n",
    "If $ a $ is a number and $ |a| < 1 $, then\n",
    "\n",
    "\n",
    "<a id='equation-gp-sum'></a>\n",
    "$$\n",
    "\\sum_{k=0}^{\\infty} a^k =\\frac{1}{1-a} = (1 - a)^{-1} \\tag{23.1}\n",
    "$$\n",
    "\n",
    "For a one-dimensional linear equation $ x = ax + b $ where x is unknown we can thus conclude that the solution $ x^{*} $ is given by:\n",
    "\n",
    "$$\n",
    "x^{*} = \\frac{b}{1-a} = \\sum_{k=0}^{\\infty} a^k b\n",
    "$$"
   ]
  },
  {
   "cell_type": "markdown",
   "id": "8b3d8faa",
   "metadata": {},
   "source": [
    "### Matrix Series\n",
    "\n",
    "A generalization of this idea exists in the matrix setting.\n",
    "\n",
    "Consider the system of equations $ x = Ax + b $ where $ A $ is an $ n \\times n $\n",
    "square matrix and $ x $ and $ b $ are both column vectors in $ \\mathbb{R}^n $.\n",
    "\n",
    "Using matrix algebra we can conclude that the solution to this system of equations will be given by:\n",
    "\n",
    "\n",
    "<a id='equation-neumann-eqn'></a>\n",
    "$$\n",
    "x^{*} = (I-A)^{-1}b \\tag{23.2}\n",
    "$$\n",
    "\n",
    "What guarantees the existence of a unique vector $ x^{*} $ that satisfies\n",
    "[(23.2)](#equation-neumann-eqn) ?\n",
    "\n",
    "The following is a fundamental result in functional analysis that generalizes\n",
    "[(23.1)](#equation-gp-sum) to a multivariate case.\n",
    "\n",
    "\n",
    "<a id='neumann-series-lemma'></a>"
   ]
  },
  {
   "cell_type": "markdown",
   "id": "34bcb5de",
   "metadata": {},
   "source": [
    "###  (Neumann Series Lemma)\n",
    "\n",
    "Let $ A $ be a square matrix and let $ A^k $ be the $ k $-th power of $ A $.\n",
    "\n",
    "Let $ r(A) $ be the dominant eigenvector or as it is commonly called the *spectral radius*, defined as $ \\max_i |\\lambda_i| $, where\n",
    "\n",
    "- $ \\{\\lambda_i\\}_i $ is the set of eigenvalues of $ A $ and  \n",
    "- $ |\\lambda_i| $ is the modulus of the complex number $ \\lambda_i $  \n",
    "\n",
    "\n",
    "Neumann’s theorem states the following: If $ r(A) < 1 $, then $ I - A $ is invertible, and\n",
    "\n",
    "$$\n",
    "(I - A)^{-1} = \\sum_{k=0}^{\\infty} A^k\n",
    "$$\n",
    "\n",
    "We can see the Neumann series lemma in action in the following example."
   ]
  },
  {
   "cell_type": "markdown",
   "id": "610b5a74",
   "metadata": {
    "hide-output": false
   },
   "source": [
    "```ipython3\n",
    "A = np.array([[0.4, 0.1],\n",
    "              [0.7, 0.2]])\n",
    "\n",
    "evals, evecs = eig(A)   # finding eigenvalues and eigenvectors\n",
    "\n",
    "r = max(abs(λ) for λ in evals)    # compute spectral radius\n",
    "print(r)\n",
    "```\n"
   ]
  },
  {
   "cell_type": "markdown",
   "id": "f423561b",
   "metadata": {},
   "source": [
    "The spectral radius $ r(A) $ obtained is less than 1.\n",
    "\n",
    "Thus, we can apply the Neumann Series lemma to find $ (I-A)^{-1} $."
   ]
  },
  {
   "cell_type": "markdown",
   "id": "cc3e7ba8",
   "metadata": {
    "hide-output": false
   },
   "source": [
    "```ipython3\n",
    "I = np.identity(2)      #2 x 2 identity matrix\n",
    "B = I - A\n",
    "```\n"
   ]
  },
  {
   "cell_type": "markdown",
   "id": "779bbbdf",
   "metadata": {
    "hide-output": false
   },
   "source": [
    "```ipython3\n",
    "B_inverse = np.linalg.inv(B)     #direct inverse method\n",
    "```\n"
   ]
  },
  {
   "cell_type": "markdown",
   "id": "03095ae4",
   "metadata": {
    "hide-output": false
   },
   "source": [
    "```ipython3\n",
    "A_sum = np.zeros((2,2))        #power series sum of A\n",
    "A_power = I\n",
    "for i in range(50):\n",
    "    A_sum += A_power\n",
    "    A_power = A_power @ A\n",
    "```\n"
   ]
  },
  {
   "cell_type": "markdown",
   "id": "46106c64",
   "metadata": {},
   "source": [
    "Let’s check equality between the sum and the inverse methods."
   ]
  },
  {
   "cell_type": "markdown",
   "id": "1030f3dc",
   "metadata": {
    "hide-output": false
   },
   "source": [
    "```ipython3\n",
    "np.allclose(A_sum, B_inverse)     \n",
    "```\n"
   ]
  },
  {
   "cell_type": "markdown",
   "id": "b89770c6",
   "metadata": {},
   "source": [
    "Although we truncate the infinite sum at $ k = 50 $, both methods give us the same\n",
    "result which illustrates the result of the Neumann Series lemma."
   ]
  },
  {
   "cell_type": "markdown",
   "id": "3e92d5da",
   "metadata": {},
   "source": [
    "## Exercises"
   ]
  },
  {
   "cell_type": "markdown",
   "id": "3ddd4f69",
   "metadata": {},
   "source": [
    "##  (Leontief’s Input-Output Model)Exercise 23.1\n",
    "\n",
    "[Wassily Leontief](https://en.wikipedia.org/wiki/Wassily_Leontief) developed a model of an economy with $ n $ sectors producing $ n $ different commodities representing the interdependencies of different sectors of an economy.\n",
    "\n",
    "Under this model some of the output is consumed internally by the industries and the rest is consumed by external consumers.\n",
    "\n",
    "We define a simple model with 3 sectors - agriculture, industry, and service.\n",
    "\n",
    "The following table describes how output is distributed within the economy:\n",
    "\n",
    "||Total output|Agriculture|Industry|Service|Consumer|\n",
    "|:--------------:|:--------------:|:--------------:|:--------------:|:--------------:|:--------------:|\n",
    "|Agriculture|$ x_1 $|0.3$ x_1 $|0.2$ x_2 $|0.3$ x_3 $|4|\n",
    "|Industry|$ x_2 $|0.2$ x_1 $|0.4$ x_2 $|0.3$ x_3 $|5|\n",
    "|Service|$ x_3 $|0.2$ x_1 $|0.5$ x_2 $|0.1$ x_3 $|12|\n",
    "The first row depicts how agriculture’s total output $ x_1 $ is distributed\n",
    "\n",
    "- $ 0.3x_1 $ is used as inputs within agriculture itself,  \n",
    "- $ 0.2x_2 $ is used as inputs by the industry sector to produce $ x_2 $ units  \n",
    "- $ 0.3x_3 $ is used as inputs by the service sector to produce $ x_3 $ units and  \n",
    "- 4 units is the external demand by consumers.  \n",
    "\n",
    "\n",
    "We can transform this into a system of linear equations for the 3 sectors as\n",
    "given below:\n",
    "\n",
    "$$\n",
    "x_1 = 0.3x_1 + 0.2x_2 + 0.3x_3 + 4 \\\\\n",
    "    x_2 = 0.2x_1 + 0.4x_2 + 0.3x_3 + 5 \\\\\n",
    "    x_3 = 0.2x_1 + 0.5x_2 + 0.1x_3 + 12\n",
    "$$\n",
    "\n",
    "This can be transformed into the matrix equation $ x = Ax + d $ where\n",
    "\n",
    "$$\n",
    "x =\n",
    "\\begin{bmatrix}\n",
    "    x_1 \\\\\n",
    "    x_2 \\\\\n",
    "    x_3\n",
    "\\end{bmatrix}\n",
    ", \\; A =\n",
    "\\begin{bmatrix}\n",
    "    0.3 & 0.2 & 0.3 \\\\\n",
    "    0.2 & 0.4 & 0.3 \\\\\n",
    "    0.2 & 0.5 & 0.1\n",
    "\\end{bmatrix}\n",
    "\\; \\text{and} \\;\n",
    "d =\n",
    "\\begin{bmatrix}\n",
    "    4 \\\\\n",
    "    5 \\\\\n",
    "    12\n",
    "\\end{bmatrix}\n",
    "$$\n",
    "\n",
    "The solution $ x^{*} $ is given by the equation $ x^{*} = (I-A)^{-1} d $\n",
    "\n",
    "1. Since $ A $ is a nonnegative irreducible matrix, find the Perron-Frobenius eigenvalue of $ A $.  \n",
    "1. Use the Neumann Series lemma to find the solution $ x^{*} $ if it exists.  "
   ]
  },
  {
   "cell_type": "markdown",
   "id": "3fde0dfb",
   "metadata": {},
   "source": [
    "## Solution to[ Exercise 23.1 (Leontief’s Input-Output Model)](#eig_ex1)"
   ]
  },
  {
   "cell_type": "markdown",
   "id": "c47cc912",
   "metadata": {
    "hide-output": false
   },
   "source": [
    "```ipython3\n",
    "A = np.array([[0.3, 0.2, 0.3],\n",
    "              [0.2, 0.4, 0.3],\n",
    "              [0.2, 0.5, 0.1]])\n",
    "\n",
    "evals, evecs = eig(A)\n",
    "\n",
    "r = max(abs(λ) for λ in evals)   #dominant eigenvalue/spectral radius\n",
    "print(r)\n",
    "```\n"
   ]
  },
  {
   "cell_type": "markdown",
   "id": "1bae8b5d",
   "metadata": {},
   "source": [
    "Since we have $ r(A) < 1 $ we can thus find the solution using the Neumann Series lemma."
   ]
  },
  {
   "cell_type": "markdown",
   "id": "63a4634f",
   "metadata": {
    "hide-output": false
   },
   "source": [
    "```ipython3\n",
    "I = np.identity(3)\n",
    "B = I - A\n",
    "\n",
    "d = np.array([4, 5, 12])\n",
    "d.shape = (3,1)\n",
    "\n",
    "B_inv = np.linalg.inv(B)\n",
    "x_star = B_inv @ d\n",
    "print(x_star)\n",
    "```\n"
   ]
  }
 ],
 "metadata": {
  "date": 1681898274.4605563,
  "filename": "eigen_II.md",
  "kernelspec": {
   "display_name": "Python",
   "language": "python3",
   "name": "python3"
  },
  "title": "Theorems of Nonnegative Matrices and Eigenvalues"
 },
 "nbformat": 4,
 "nbformat_minor": 5
}