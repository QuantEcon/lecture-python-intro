{
 "cells": [
  {
   "cell_type": "markdown",
   "id": "1a6f4c7e",
   "metadata": {},
   "source": [
    "# Inflation and Unemployment\n",
    "\n",
    "To be completed."
   ]
  }
 ],
 "metadata": {
  "date": 1681797193.2183099,
  "filename": "inflation_unemployment.md",
  "kernelspec": {
   "display_name": "Python",
   "language": "python3",
   "name": "python3"
  },
  "title": "Inflation and Unemployment"
 },
 "nbformat": 4,
 "nbformat_minor": 5
}