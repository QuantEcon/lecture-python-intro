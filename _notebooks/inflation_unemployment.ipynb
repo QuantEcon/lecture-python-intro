{
 "cells": [
  {
   "cell_type": "markdown",
   "id": "d1d9c0dc",
   "metadata": {},
   "source": [
    "# Inflation and Unemployment\n",
    "\n",
    "To be completed."
   ]
  }
 ],
 "metadata": {
  "date": 1681793182.3449538,
  "filename": "inflation_unemployment.md",
  "kernelspec": {
   "display_name": "Python",
   "language": "python3",
   "name": "python3"
  },
  "title": "Inflation and Unemployment"
 },
 "nbformat": 4,
 "nbformat_minor": 5
}