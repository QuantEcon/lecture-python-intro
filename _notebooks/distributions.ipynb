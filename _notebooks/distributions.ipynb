{
 "cells": [
  {
   "cell_type": "markdown",
   "id": "e9769532",
   "metadata": {},
   "source": [
    "# Distributions in Economics\n",
    "\n",
    "To be completed."
   ]
  }
 ],
 "metadata": {
  "date": 1681898274.3725996,
  "filename": "distributions.md",
  "kernelspec": {
   "display_name": "Python",
   "language": "python3",
   "name": "python3"
  },
  "title": "Distributions in Economics"
 },
 "nbformat": 4,
 "nbformat_minor": 5
}