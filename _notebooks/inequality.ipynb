{
 "cells": [
  {
   "cell_type": "markdown",
   "id": "c454e5e3",
   "metadata": {},
   "source": [
    "# Income and Wealth Inequality"
   ]
  },
  {
   "cell_type": "markdown",
   "id": "43b66103",
   "metadata": {},
   "source": [
    "## Overview\n",
    "\n",
    "In this section we\n",
    "\n",
    "- provide motivation for the techniques deployed in the lecture and  \n",
    "- import code libraries needed for our work.  "
   ]
  },
  {
   "cell_type": "markdown",
   "id": "b6f39ab1",
   "metadata": {},
   "source": [
    "### Some history\n",
    "\n",
    "Many historians argue that inequality played a key role in the fall of the\n",
    "Roman Republic.\n",
    "\n",
    "After defeating Carthage and invading Spain, money flowed into Rome and\n",
    "greatly enriched those in power.\n",
    "\n",
    "Meanwhile, ordinary citizens were taken from their farms to fight for long\n",
    "periods, diminishing their wealth.\n",
    "\n",
    "The resulting growth in inequality caused political turmoil that shook the\n",
    "foundations of the republic.\n",
    "\n",
    "Eventually, the Roman Republic gave way to a series of dictatorships, starting\n",
    "with Octavian (Augustus) in 27 BCE.\n",
    "\n",
    "This history is fascinating in its own right, and we can see some\n",
    "parallels with certain countries in the modern world.\n",
    "\n",
    "Many recent political debates revolve around inequality.\n",
    "\n",
    "Many economic policies, from taxation to the welfare state, are\n",
    "aimed at addressing inequality."
   ]
  },
  {
   "cell_type": "markdown",
   "id": "5644bd05",
   "metadata": {},
   "source": [
    "### Measurement\n",
    "\n",
    "One problem with these debates is that inequality is often poorly defined.\n",
    "\n",
    "Moreover, debates on inequality are often tied to political beliefs.\n",
    "\n",
    "This is dangerous for economists because allowing political beliefs to\n",
    "shape our findings reduces objectivity.\n",
    "\n",
    "To bring a truly scientific perspective to the topic of inequality we must\n",
    "start with careful definitions.\n",
    "\n",
    "In this lecture we discuss standard measures of inequality used in economic research.\n",
    "\n",
    "For each of these measures, we will look at both simulated and real data.\n",
    "\n",
    "We will install the following libraries."
   ]
  },
  {
   "cell_type": "code",
   "execution_count": null,
   "id": "d18b01ed",
   "metadata": {
    "hide-output": false
   },
   "outputs": [],
   "source": [
    "!pip install --upgrade quantecon interpolation"
   ]
  },
  {
   "cell_type": "markdown",
   "id": "3f6a316f",
   "metadata": {},
   "source": [
    "And we use the following imports."
   ]
  },
  {
   "cell_type": "code",
   "execution_count": null,
   "id": "13eeb914",
   "metadata": {
    "hide-output": false
   },
   "outputs": [],
   "source": [
    "import pandas as pd\n",
    "import numpy as np\n",
    "import matplotlib.pyplot as plt\n",
    "import quantecon as qe\n",
    "import random as rd\n",
    "from interpolation import interp"
   ]
  },
  {
   "cell_type": "markdown",
   "id": "86a0dcaf",
   "metadata": {},
   "source": [
    "## The Lorenz curve\n",
    "\n",
    "One popular measure of inequality is the Lorenz curve.\n",
    "\n",
    "In this section we define the Lorenz curve and examine its properties."
   ]
  },
  {
   "cell_type": "markdown",
   "id": "ac4ff582",
   "metadata": {},
   "source": [
    "### Definition\n",
    "\n",
    "The Lorenz curve takes a sample $ w_1, \\ldots, w_n $ and produces a curve $ L $.\n",
    "\n",
    "We suppose that the sample $ w_1, \\ldots, w_n $ has been sorted from smallest to largest.\n",
    "\n",
    "To aid our interpretation, suppose that we are measuring wealth\n",
    "\n",
    "- $ w_1 $ is the wealth of the poorest member of the population and  \n",
    "- $ w_n $ is the wealth of the richest member of the population.  \n",
    "\n",
    "\n",
    "The curve $ L $ is just a function $ y = L(x) $ that we can plot and interpret.\n",
    "\n",
    "To create it we first generate data points $ (x_i, y_i) $  according to\n",
    "\n",
    "$$\n",
    "\\begin{equation*}\n",
    "    x_i = \\frac{i}{n},\n",
    "    \\qquad\n",
    "    y_i = \\frac{\\sum_{j \\leq i} w_j}{\\sum_{j \\leq n} w_j},\n",
    "    \\qquad i = 1, \\ldots, n\n",
    "\\end{equation*}\n",
    "$$\n",
    "\n",
    "Now the Lorenz curve $ L $ is formed from these data points using interpolation.\n",
    "\n",
    "(If we use a line plot in Matplotlib, the interpolation will be done for us.)\n",
    "\n",
    "The meaning of the statement $ y = L(x) $ is that the lowest $ (100\n",
    "\\times x) $% of people have $ (100 \\times y) $% of all wealth.\n",
    "\n",
    "- if $ x=0.5 $ and $ y=0.1 $, then the bottom 50% of the population\n",
    "  owns 10% of the wealth.  \n",
    "\n",
    "\n",
    "In the discussion above we focused on wealth but the same ideas apply to\n",
    "income, consumption, etc."
   ]
  },
  {
   "cell_type": "markdown",
   "id": "80f3d2a7",
   "metadata": {},
   "source": [
    "### Lorenz curves of simulated data\n",
    "\n",
    "Let’s look at some examples and try to build understanding.\n",
    "\n",
    "In the next figure, we generate $ n=2000 $ draws from a lognormal\n",
    "distribution and treat these draws as our population.\n",
    "\n",
    "The straight line ($ x=L(x) $ for all $ x $) corresponds to perfect equality.\n",
    "\n",
    "The lognormal draws produce a less equal distribution.\n",
    "\n",
    "For example, if we imagine these draws as being observations of wealth across\n",
    "a sample of households, then the dashed lines show that the bottom 80% of\n",
    "households own just over 40% of total wealth."
   ]
  },
  {
   "cell_type": "code",
   "execution_count": null,
   "id": "8823b1c3",
   "metadata": {
    "hide-output": false
   },
   "outputs": [],
   "source": [
    "n = 2000\n",
    "sample = np.exp(np.random.randn(n))\n",
    "\n",
    "fig, ax = plt.subplots()\n",
    "\n",
    "f_vals, l_vals = qe.lorenz_curve(sample)\n",
    "ax.plot(f_vals, l_vals, label=f'lognormal sample', lw=2)\n",
    "ax.plot(f_vals, f_vals, label='equality', lw=2)\n",
    "\n",
    "ax.legend(fontsize=12)\n",
    "\n",
    "ax.vlines([0.8], [0.0], [0.43], alpha=0.5, colors='k', ls='--')\n",
    "ax.hlines([0.43], [0], [0.8], alpha=0.5, colors='k', ls='--')\n",
    "\n",
    "ax.set_ylim((0, 1))\n",
    "ax.set_xlim((0, 1))\n",
    "\n",
    "plt.show()"
   ]
  },
  {
   "cell_type": "markdown",
   "id": "a4f1da24",
   "metadata": {},
   "source": [
    "### Lorenz curves for US data\n",
    "\n",
    "Next let’s look at the real data, focusing on income and wealth in the US in\n",
    "2016.\n",
    "\n",
    "The following code block imports a subset of the dataset `SCF_plus`,\n",
    "which is derived from the [Survey of Consumer Finances](https://en.wikipedia.org/wiki/Survey_of_Consumer_Finances) (SCF)."
   ]
  },
  {
   "cell_type": "code",
   "execution_count": null,
   "id": "549f4c3c",
   "metadata": {
    "hide-output": false
   },
   "outputs": [],
   "source": [
    "url = 'https://media.githubusercontent.com/media/QuantEcon/high_dim_data/main/SCF_plus/SCF_plus_mini.csv'\n",
    "df = pd.read_csv(url)\n",
    "df = df.dropna()\n",
    "df_income_wealth = df"
   ]
  },
  {
   "cell_type": "code",
   "execution_count": null,
   "id": "9324e6b2",
   "metadata": {
    "hide-output": false
   },
   "outputs": [],
   "source": [
    "df_income_wealth.head()"
   ]
  },
  {
   "cell_type": "markdown",
   "id": "03246fa1",
   "metadata": {},
   "source": [
    "The following code block uses data stored in dataframe `df_income_wealth` to generate the Lorenz curves.\n",
    "\n",
    "(The code is somewhat complex because we need to adjust the data according to\n",
    "population weights supplied by the SCF.)"
   ]
  },
  {
   "cell_type": "code",
   "execution_count": null,
   "id": "2fdcf731",
   "metadata": {
    "hide-output": false
   },
   "outputs": [],
   "source": [
    "df = df_income_wealth \n",
    "\n",
    "varlist = ['n_wealth',    # net wealth \n",
    "           't_income',    # total income\n",
    "           'l_income']    # labor income\n",
    "\n",
    "years = df.year.unique()\n",
    "\n",
    "# Create lists to store Lorenz data\n",
    "\n",
    "F_vals, L_vals = [], []\n",
    "\n",
    "for var in varlist:\n",
    "    # create lists to store Lorenz curve data\n",
    "    f_vals = []\n",
    "    l_vals = []\n",
    "    for year in years:\n",
    "\n",
    "        # Repeat the observations according to their weights\n",
    "        counts = list(round(df[df['year'] == year]['weights'] )) \n",
    "        y = df[df['year'] == year][var].repeat(counts)\n",
    "        y = np.asarray(y)\n",
    "        \n",
    "        # Shuffle the sequence to improve the plot\n",
    "        rd.shuffle(y)    \n",
    "               \n",
    "        # calculate and store Lorenz curve data\n",
    "        f_val, l_val = qe.lorenz_curve(y)\n",
    "        f_vals.append(f_val)\n",
    "        l_vals.append(l_val)\n",
    "        \n",
    "    F_vals.append(f_vals)\n",
    "    L_vals.append(l_vals)\n",
    "\n",
    "f_vals_nw, f_vals_ti, f_vals_li = F_vals\n",
    "l_vals_nw, l_vals_ti, l_vals_li = L_vals"
   ]
  },
  {
   "cell_type": "markdown",
   "id": "9fd32014",
   "metadata": {},
   "source": [
    "Now we plot Lorenz curves for net wealth, total income and labor income in the\n",
    "US in 2016."
   ]
  },
  {
   "cell_type": "code",
   "execution_count": null,
   "id": "511b41a9",
   "metadata": {
    "hide-output": false
   },
   "outputs": [],
   "source": [
    "fig, ax = plt.subplots()\n",
    "\n",
    "ax.plot(f_vals_nw[-1], l_vals_nw[-1], label=f'net wealth')\n",
    "ax.plot(f_vals_ti[-1], l_vals_ti[-1], label=f'total income')\n",
    "ax.plot(f_vals_li[-1], l_vals_li[-1], label=f'labor income')\n",
    "ax.plot(f_vals_nw[-1], f_vals_nw[-1], label=f'equality')\n",
    "\n",
    "ax.legend(fontsize=12)   \n",
    "plt.show()"
   ]
  },
  {
   "cell_type": "markdown",
   "id": "e8cbf62c",
   "metadata": {},
   "source": [
    "Here all the income and wealth measures are pre-tax.\n",
    "\n",
    "Total income is the sum of households’ all income sources, including labor income but excluding capital gains.\n",
    "\n",
    "One key finding from this figure is that wealth inequality is significantly\n",
    "more extreme than income inequality."
   ]
  },
  {
   "cell_type": "markdown",
   "id": "1c916052",
   "metadata": {},
   "source": [
    "## The Gini coefficient\n",
    "\n",
    "The Lorenz curve is a useful visual representation of inequality in a\n",
    "distribution.\n",
    "\n",
    "Another popular measure of income and wealth inequality is the Gini coefficient.\n",
    "\n",
    "The Gini coefficient is just a number, rather than a curve.\n",
    "\n",
    "In this section we discuss the Gini coefficient and its relationship to the\n",
    "Lorenz curve."
   ]
  },
  {
   "cell_type": "markdown",
   "id": "1b8c1419",
   "metadata": {},
   "source": [
    "### Definition\n",
    "\n",
    "As before, suppose that the sample $ w_1, \\ldots, w_n $ has been sorted from\n",
    "smallest to largest.\n",
    "\n",
    "The Gini coefficient is defined for the sample above as\n",
    "\n",
    "\n",
    "<a id='equation-7a2b8a50-4c00-4c55-b3cb-c4a0505f75e1'></a>\n",
    "$$\n",
    "\\begin{equation}\n",
    "    \\label{eq:gini}\n",
    "    G :=\n",
    "    \\frac\n",
    "        {\\sum_{i=1}^n \\sum_{j = 1}^n |w_j - w_i|}\n",
    "        {2n\\sum_{i=1}^n w_i}.\n",
    "\\end{equation} \\tag{4.1}\n",
    "$$\n",
    "\n",
    "The Gini coefficient is closely related to the Lorenz curve.\n",
    "\n",
    "In fact, it can be shown that its value is twice the area between the line of\n",
    "equality and the Lorenz curve (e.g., the shaded area in the following Figure below).\n",
    "\n",
    "The idea is that $ G=0 $ indicates complete equality, while $ G=1 $ indicates complete inequality."
   ]
  },
  {
   "cell_type": "code",
   "execution_count": null,
   "id": "8fd91b5f",
   "metadata": {
    "hide-output": false
   },
   "outputs": [],
   "source": [
    "fig, ax = plt.subplots()\n",
    "\n",
    "f_vals, l_vals = qe.lorenz_curve(sample)\n",
    "ax.plot(f_vals, l_vals, label=f'lognormal sample', lw=2)\n",
    "ax.plot(f_vals, f_vals, label='equality', lw=2)\n",
    "\n",
    "ax.legend(fontsize=12)\n",
    "\n",
    "ax.vlines([0.8], [0.0], [0.43], alpha=0.5, colors='k', ls='--')\n",
    "ax.hlines([0.43], [0], [0.8], alpha=0.5, colors='k', ls='--')\n",
    "\n",
    "ax.fill_between(f_vals, l_vals, f_vals, alpha=0.06)\n",
    "\n",
    "ax.set_ylim((0, 1))\n",
    "ax.set_xlim((0, 1))\n",
    "\n",
    "ax.text(0.04, 0.5, r'$G = 2 \\times$ shaded area', fontsize=12)\n",
    "  \n",
    "plt.show()"
   ]
  },
  {
   "cell_type": "markdown",
   "id": "d422aefd",
   "metadata": {},
   "source": [
    "### Gini coefficient dynamics of simulated data\n",
    "\n",
    "Let’s examine the Gini coefficient in some simulations.\n",
    "\n",
    "The following code computes the Gini coefficients for five different\n",
    "populations.\n",
    "\n",
    "Each of these populations is generated by drawing from a\n",
    "lognormal distribution with parameters $ \\mu $ (mean) and $ \\sigma $ (standard deviation).\n",
    "\n",
    "To create the five populations, we vary $ \\sigma $ over a grid of length $ 5 $\n",
    "between $ 0.2 $ and $ 4 $.\n",
    "\n",
    "In each case we set $ \\mu = - \\sigma^2 / 2 $.\n",
    "\n",
    "This implies that the mean of the distribution does not change with $ \\sigma $.\n",
    "\n",
    "(You can check this by looking up the expression for the mean of a lognormal\n",
    "distribution.)"
   ]
  },
  {
   "cell_type": "code",
   "execution_count": null,
   "id": "f6143b21",
   "metadata": {
    "hide-output": false
   },
   "outputs": [],
   "source": [
    "k = 5\n",
    "σ_vals = np.linspace(0.2, 4, k)\n",
    "n = 2_000\n",
    "\n",
    "ginis = []\n",
    "\n",
    "for σ in σ_vals:\n",
    "    μ = -σ**2 / 2\n",
    "    y = np.exp(μ + σ * np.random.randn(n))\n",
    "    ginis.append(qe.gini_coefficient(y))"
   ]
  },
  {
   "cell_type": "code",
   "execution_count": null,
   "id": "f50af21b",
   "metadata": {
    "hide-output": false
   },
   "outputs": [],
   "source": [
    "def plot_inequality_measures(x, y, legend, xlabel, ylabel):\n",
    "    \n",
    "    fig, ax = plt.subplots()\n",
    "    ax.plot(x, y, marker='o', label=legend)\n",
    "\n",
    "    ax.set_xlabel(xlabel, fontsize=12)\n",
    "    ax.set_ylabel(ylabel, fontsize=12)\n",
    "\n",
    "    ax.legend(fontsize=12)\n",
    "    plt.show()"
   ]
  },
  {
   "cell_type": "code",
   "execution_count": null,
   "id": "173f4e6d",
   "metadata": {
    "hide-output": false
   },
   "outputs": [],
   "source": [
    "plot_inequality_measures(σ_vals, \n",
    "                         ginis, \n",
    "                         'simulated', \n",
    "                         '$\\sigma$', \n",
    "                         'gini coefficients')"
   ]
  },
  {
   "cell_type": "markdown",
   "id": "b2bf58d7",
   "metadata": {},
   "source": [
    "The plots show that inequality rises with $ \\sigma $, according to the Gini\n",
    "coefficient."
   ]
  },
  {
   "cell_type": "markdown",
   "id": "8f742788",
   "metadata": {},
   "source": [
    "### Gini coefficient dynamics for US data\n",
    "\n",
    "Now let’s look at Gini coefficients for US data derived from the SCF.\n",
    "\n",
    "The following code creates a list called `Ginis`.\n",
    "\n",
    "It stores data of Gini coefficients generated from the dataframe `df_income_wealth` and method [gini_coefficient](https://quanteconpy.readthedocs.io/en/latest/tools/inequality.html#quantecon.inequality.gini_coefficient), from [QuantEcon](https://quantecon.org/quantecon-py/) library."
   ]
  },
  {
   "cell_type": "code",
   "execution_count": null,
   "id": "dc309abc",
   "metadata": {
    "hide-output": false
   },
   "outputs": [],
   "source": [
    "varlist = ['n_wealth',   # net wealth \n",
    "           't_income',   # total income\n",
    "           'l_income']   # labor income\n",
    "\n",
    "df = df_income_wealth\n",
    "\n",
    "# create lists to store Gini for each inequality measure\n",
    "\n",
    "Ginis = []\n",
    "\n",
    "for var in varlist:\n",
    "    # create lists to store Gini\n",
    "    ginis = []\n",
    "    \n",
    "    for year in years:\n",
    "        # repeat the observations according to their weights\n",
    "        counts = list(round(df[df['year'] == year]['weights'] ))\n",
    "        y = df[df['year'] == year][var].repeat(counts)\n",
    "        y = np.asarray(y)\n",
    "        \n",
    "        rd.shuffle(y)    # shuffle the sequence\n",
    "        \n",
    "        # calculate and store Gini\n",
    "        gini = qe.gini_coefficient(y)\n",
    "        ginis.append(gini)\n",
    "        \n",
    "    Ginis.append(ginis)"
   ]
  },
  {
   "cell_type": "code",
   "execution_count": null,
   "id": "19697a2c",
   "metadata": {
    "hide-output": false
   },
   "outputs": [],
   "source": [
    "ginis_nw, ginis_ti, ginis_li = Ginis"
   ]
  },
  {
   "cell_type": "markdown",
   "id": "1e1ef317",
   "metadata": {},
   "source": [
    "Let’s plot the Gini coefficients for net wealth, labor income and total income."
   ]
  },
  {
   "cell_type": "code",
   "execution_count": null,
   "id": "7551c8ac",
   "metadata": {
    "hide-output": false
   },
   "outputs": [],
   "source": [
    "# use an average to replace an outlier in labor income gini\n",
    "ginis_li_new = ginis_li\n",
    "ginis_li_new[5] = (ginis_li[4] + ginis_li[6]) / 2"
   ]
  },
  {
   "cell_type": "code",
   "execution_count": null,
   "id": "f4e92a05",
   "metadata": {
    "hide-output": false
   },
   "outputs": [],
   "source": [
    "xlabel = \"year\"\n",
    "ylabel = \"gini coefficient\"\n",
    "\n",
    "fig, ax = plt.subplots()\n",
    "\n",
    "ax.plot(years, ginis_nw, marker='o')\n",
    "\n",
    "ax.set_xlabel(xlabel, fontsize=12)\n",
    "ax.set_ylabel(ylabel, fontsize=12)\n",
    "    \n",
    "plt.show()"
   ]
  },
  {
   "cell_type": "code",
   "execution_count": null,
   "id": "549469df",
   "metadata": {
    "hide-output": false
   },
   "outputs": [],
   "source": [
    "xlabel = \"year\"\n",
    "ylabel = \"gini coefficient\"\n",
    "\n",
    "fig, ax = plt.subplots()\n",
    "\n",
    "ax.plot(years, ginis_li_new, marker='o', label=\"labor income\")\n",
    "ax.plot(years, ginis_ti, marker='o', label=\"total income\")\n",
    "\n",
    "ax.set_xlabel(xlabel, fontsize=12)\n",
    "ax.set_ylabel(ylabel, fontsize=12)\n",
    "\n",
    "ax.legend(fontsize=12)\n",
    "plt.show()"
   ]
  },
  {
   "cell_type": "markdown",
   "id": "3010e32f",
   "metadata": {},
   "source": [
    "We see that, by this measure, inequality in wealth and income has risen\n",
    "substantially since 1980.\n",
    "\n",
    "The wealth time series exhibits a strong U-shape."
   ]
  },
  {
   "cell_type": "markdown",
   "id": "2ce6bd5f",
   "metadata": {},
   "source": [
    "## Top shares\n",
    "\n",
    "Another popular measure of inequality is the top shares.\n",
    "\n",
    "Measuring specific shares is less complex than the Lorenz curve or the Gini\n",
    "coefficient.\n",
    "\n",
    "In this section we show how to compute top shares."
   ]
  },
  {
   "cell_type": "markdown",
   "id": "372597c6",
   "metadata": {},
   "source": [
    "### Definition\n",
    "\n",
    "As before, suppose that the sample $ w_1, \\ldots, w_n $ has been sorted from smallest to largest.\n",
    "\n",
    "Given the Lorenz curve $ y = L(x) $ defined above, the top $ 100 \\times p \\% $\n",
    "share is defined as\n",
    "\n",
    "\n",
    "<a id='equation-topshares'></a>\n",
    "$$\n",
    "T(p) = 1 - L (1-p) \n",
    "    \\approx \\frac{\\sum_{j\\geq i} w_j}{ \\sum_{j \\leq n} w_j}, \\quad i = \\lfloor n (1-p)\\rfloor \\tag{4.2}\n",
    "$$\n",
    "\n",
    "Here $ \\lfloor \\cdot \\rfloor $ is the floor function, which rounds any\n",
    "number down to the integer less than or equal to that number.\n",
    "\n",
    "The following code uses the data from dataframe `df_income_wealth` to generate another dataframe `df_topshares`.\n",
    "\n",
    "`df_topshares` stores the top 10 percent shares for the total income, the labor income and net wealth from 1950 to 2016 in US."
   ]
  },
  {
   "cell_type": "code",
   "execution_count": null,
   "id": "974cc1ff",
   "metadata": {
    "hide-output": false
   },
   "outputs": [],
   "source": [
    "# transfer the survey weights from absolute into relative values\n",
    "df1 = df_income_wealth\n",
    "df2 = df1.groupby('year').sum(numeric_only=True).reset_index()\n",
    "df3 = df2[['year', 'weights']]\n",
    "df3.columns = 'year', 'r_weights'\n",
    "df4 = pd.merge(df3, df1, how=\"left\", on=[\"year\"])\n",
    "df4['r_weights'] = df4['weights'] / df4['r_weights']\n",
    "\n",
    "# create weighted nw, ti, li\n",
    "\n",
    "df4['weighted_n_wealth'] = df4['n_wealth'] * df4['r_weights']\n",
    "df4['weighted_t_income'] = df4['t_income'] * df4['r_weights']\n",
    "df4['weighted_l_income'] = df4['l_income'] * df4['r_weights']\n",
    "\n",
    "# extract two top 10% groups by net wealth and total income.\n",
    "\n",
    "df6 = df4[df4['nw_groups'] == 'Top 10%']\n",
    "df7 = df4[df4['ti_groups'] == 'Top 10%']\n",
    "\n",
    "# calculate the sum of weighted top 10% by net wealth,\n",
    "#   total income and labor income.\n",
    "\n",
    "df5 = df4.groupby('year').sum(numeric_only=True).reset_index()\n",
    "df8 = df6.groupby('year').sum(numeric_only=True).reset_index()\n",
    "df9 = df7.groupby('year').sum(numeric_only=True).reset_index()\n",
    "\n",
    "df5['weighted_n_wealth_top10'] = df8['weighted_n_wealth']\n",
    "df5['weighted_t_income_top10'] = df9['weighted_t_income']\n",
    "df5['weighted_l_income_top10'] = df9['weighted_l_income']\n",
    "\n",
    "# calculate the top 10% shares of the three variables.\n",
    "\n",
    "df5['topshare_n_wealth'] = df5['weighted_n_wealth_top10'] / \\\n",
    "    df5['weighted_n_wealth']\n",
    "df5['topshare_t_income'] = df5['weighted_t_income_top10'] / \\\n",
    "    df5['weighted_t_income']\n",
    "df5['topshare_l_income'] = df5['weighted_l_income_top10'] / \\\n",
    "    df5['weighted_l_income']\n",
    "\n",
    "# we only need these vars for top 10 percent shares\n",
    "df_topshares = df5[['year', 'topshare_n_wealth',\n",
    "                    'topshare_t_income', 'topshare_l_income']]"
   ]
  },
  {
   "cell_type": "markdown",
   "id": "27c26811",
   "metadata": {},
   "source": [
    "Then let’s plot the top shares."
   ]
  },
  {
   "cell_type": "code",
   "execution_count": null,
   "id": "401b2be1",
   "metadata": {
    "hide-output": false
   },
   "outputs": [],
   "source": [
    "xlabel = \"year\"\n",
    "ylabel = \"top $10\\%$ share\"\n",
    "\n",
    "fig, ax = plt.subplots()\n",
    "\n",
    "ax.plot(years, df_topshares[\"topshare_l_income\"],\n",
    "        marker='o', label=\"labor income\")\n",
    "ax.plot(years, df_topshares[\"topshare_n_wealth\"],\n",
    "        marker='o', label=\"net wealth\")\n",
    "ax.plot(years, df_topshares[\"topshare_t_income\"],\n",
    "        marker='o', label=\"total income\")\n",
    "\n",
    "ax.set_xlabel(xlabel, fontsize=12)\n",
    "ax.set_ylabel(ylabel, fontsize=12)\n",
    "\n",
    "ax.legend(fontsize=12)\n",
    "plt.show()"
   ]
  },
  {
   "cell_type": "markdown",
   "id": "3b5a6d42",
   "metadata": {},
   "source": [
    "## Exercises"
   ]
  },
  {
   "cell_type": "markdown",
   "id": "8d3a5c87",
   "metadata": {},
   "source": [
    "## Exercise 4.1\n",
    "\n",
    "Using simulation, compute the top 10 percent shares for the collection of\n",
    "lognormal distributions associated with the random variables $ w_\\sigma =\n",
    "\\exp(\\mu + \\sigma Z) $, where $ Z \\sim N(0, 1) $ and $ \\sigma $ varies over a\n",
    "finite grid between $ 0.2 $ and $ 4 $.\n",
    "\n",
    "As $ \\sigma $ increases, so does the variance of $ w_\\sigma $.\n",
    "\n",
    "To focus on volatility, adjust $ \\mu $ at each step to maintain the equality\n",
    "$ \\mu=-\\sigma^2/2 $.\n",
    "\n",
    "For each $ \\sigma $, generate 2,000 independent draws of $ w_\\sigma $ and\n",
    "calculate the Lorenz curve and Gini coefficient.\n",
    "\n",
    "Confirm that higher variance\n",
    "generates more dispersion in the sample, and hence greater inequality."
   ]
  },
  {
   "cell_type": "markdown",
   "id": "22d0b6ab",
   "metadata": {},
   "source": [
    "## Solution to[ Exercise 4.1](https://intro.quantecon.org/#inequality_ex1)\n",
    "\n",
    "Here is one solution:"
   ]
  },
  {
   "cell_type": "code",
   "execution_count": null,
   "id": "9fc680ba",
   "metadata": {
    "hide-output": false
   },
   "outputs": [],
   "source": [
    "def calculate_top_share(s, p=0.1):\n",
    "    \n",
    "    s = np.sort(s)\n",
    "    n = len(s)\n",
    "    index = int(n * (1 - p))\n",
    "    return s[index:].sum() / s.sum()"
   ]
  },
  {
   "cell_type": "code",
   "execution_count": null,
   "id": "e5bf1b34",
   "metadata": {
    "hide-output": false
   },
   "outputs": [],
   "source": [
    "k = 5\n",
    "σ_vals = np.linspace(0.2, 4, k)\n",
    "n = 2_000\n",
    "\n",
    "topshares = []\n",
    "ginis = []\n",
    "f_vals = []\n",
    "l_vals = []\n",
    "\n",
    "for σ in σ_vals:\n",
    "    μ = -σ ** 2 / 2\n",
    "    y = np.exp(μ + σ * np.random.randn(n))\n",
    "    f_val, l_val = qe._inequality.lorenz_curve(y)\n",
    "    f_vals.append(f_val)\n",
    "    l_vals.append(l_val)\n",
    "    ginis.append(qe._inequality.gini_coefficient(y))\n",
    "    topshares.append(calculate_top_share(y))"
   ]
  },
  {
   "cell_type": "code",
   "execution_count": null,
   "id": "3e5a2572",
   "metadata": {
    "hide-output": false
   },
   "outputs": [],
   "source": [
    "plot_inequality_measures(σ_vals, \n",
    "                         topshares, \n",
    "                         \"simulated data\", \n",
    "                         \"$\\sigma$\", \n",
    "                         \"top $10\\%$ share\") "
   ]
  },
  {
   "cell_type": "code",
   "execution_count": null,
   "id": "58f00184",
   "metadata": {
    "hide-output": false
   },
   "outputs": [],
   "source": [
    "plot_inequality_measures(σ_vals, \n",
    "                         ginis, \n",
    "                         \"simulated data\", \n",
    "                         \"$\\sigma$\", \n",
    "                         \"gini coefficient\") "
   ]
  },
  {
   "cell_type": "code",
   "execution_count": null,
   "id": "c07778bd",
   "metadata": {
    "hide-output": false
   },
   "outputs": [],
   "source": [
    "fig, ax = plt.subplots()\n",
    "ax.plot([0,1],[0,1], label=f\"equality\")\n",
    "for i in range(len(f_vals)):\n",
    "    ax.plot(f_vals[i], l_vals[i], label=f\"$\\sigma$ = {σ_vals[i]}\")\n",
    "plt.legend()\n",
    "plt.show()"
   ]
  },
  {
   "cell_type": "markdown",
   "id": "8dac46cd",
   "metadata": {},
   "source": [
    "## Exercise 4.2\n",
    "\n",
    "According to the definition of the top shares [(4.2)](#equation-topshares) we can also calculate the top percentile shares using the Lorenz curve.\n",
    "\n",
    "Compute the top shares of US net wealth using the corresponding Lorenz curves data: `f_vals_nw, l_vals_nw` and linear interpolation.\n",
    "\n",
    "Plot the top shares generated from Lorenz curve and the top shares approximated from data together."
   ]
  },
  {
   "cell_type": "markdown",
   "id": "a2e5b843",
   "metadata": {},
   "source": [
    "## Solution to[ Exercise 4.2](https://intro.quantecon.org/#inequality_ex2)\n",
    "\n",
    "Here is one solution:"
   ]
  },
  {
   "cell_type": "code",
   "execution_count": null,
   "id": "83c2fafc",
   "metadata": {
    "hide-output": false
   },
   "outputs": [],
   "source": [
    "def lorenz2top(f_val, l_val, p=0.1):\n",
    "    t = lambda x: interp(f_val, l_val, x)\n",
    "    return 1- t(1 - p)"
   ]
  },
  {
   "cell_type": "code",
   "execution_count": null,
   "id": "1b99f4b9",
   "metadata": {
    "hide-output": false
   },
   "outputs": [],
   "source": [
    "top_shares_nw = []\n",
    "for f_val, l_val in zip(f_vals_nw, l_vals_nw):\n",
    "    top_shares_nw.append(lorenz2top(f_val, l_val))"
   ]
  },
  {
   "cell_type": "code",
   "execution_count": null,
   "id": "31ebf970",
   "metadata": {
    "hide-output": false
   },
   "outputs": [],
   "source": [
    "xlabel = \"year\"\n",
    "ylabel = \"top $10\\%$ share\"\n",
    "\n",
    "fig, ax = plt.subplots()\n",
    "\n",
    "ax.plot(years, df_topshares[\"topshare_n_wealth\"], marker='o',\\\n",
    "   label=\"net wealth-approx\")\n",
    "ax.plot(years, top_shares_nw, marker='o', label=\"net wealth-lorenz\")\n",
    "\n",
    "ax.set_xlabel(xlabel, fontsize=12)\n",
    "ax.set_ylabel(ylabel, fontsize=12)\n",
    "\n",
    "ax.legend(fontsize=12)\n",
    "plt.show()"
   ]
  }
 ],
 "metadata": {
  "date": 1706069424.3361545,
  "filename": "inequality.md",
  "kernelspec": {
   "display_name": "Python",
   "language": "python3",
   "name": "python3"
  },
  "title": "Income and Wealth Inequality"
 },
 "nbformat": 4,
 "nbformat_minor": 5
}