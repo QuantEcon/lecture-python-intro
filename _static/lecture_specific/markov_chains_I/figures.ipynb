{
 "cells": [
  {
   "cell_type": "markdown",
   "id": "43b11347-069e-4c50-b093-4635361408fc",
   "metadata": {},
   "source": [
    "# Figures for Markov Chains I"
   ]
  },
  {
   "cell_type": "code",
   "execution_count": 1,
   "id": "38b0e8a2-acab-4b27-95b3-96174c7d6863",
   "metadata": {},
   "outputs": [
    {
     "name": "stdout",
     "output_type": "stream",
     "text": [
      "Requirement already satisfied: graphviz in /Users/mmcky/anaconda3/envs/quantecon/lib/python3.11/site-packages (0.20.3)\n"
     ]
    }
   ],
   "source": [
    "!pip install graphviz"
   ]
  },
  {
   "cell_type": "code",
   "execution_count": 2,
   "id": "606da6ac-e8b7-49c6-9d88-142e18e02bba",
   "metadata": {},
   "outputs": [],
   "source": [
    "from graphviz import Digraph"
   ]
  },
  {
   "cell_type": "markdown",
   "id": "87430938-745b-45d3-9895-937bc357432d",
   "metadata": {},
   "source": [
    "## Example 1\n",
    "\n",
    "Hamilton on US unemployment data"
   ]
  },
  {
   "cell_type": "code",
   "execution_count": 3,
   "id": "eff7a6b5-98d4-4f26-b72f-7100a911644e",
   "metadata": {},
   "outputs": [
    {
     "data": {
      "text/plain": [
       "'Hamilton.png'"
      ]
     },
     "execution_count": 3,
     "metadata": {},
     "output_type": "execute_result"
    }
   ],
   "source": [
    "dot = Digraph(format='png')\n",
    "dot.attr(rankdir='LR')\n",
    "dot.node(\"ng\")\n",
    "dot.node(\"mr\")\n",
    "dot.node(\"sr\")\n",
    "\n",
    "dot.edge(\"ng\", \"ng\", label=\"0.971\")\n",
    "dot.edge(\"ng\", \"mr\", label=\"0.029\")\n",
    "dot.edge(\"mr\", \"ng\", label=\"0.145\")\n",
    "\n",
    "dot.edge(\"mr\", \"mr\", label=\"0.778\")\n",
    "dot.edge(\"mr\", \"sr\", label=\"0.077\")\n",
    "dot.edge(\"sr\", \"mr\", label=\"0.508\")\n",
    "\n",
    "dot.edge(\"sr\", \"sr\", label=\"0.492\")\n",
    "dot\n",
    "\n",
    "dot.render(filename='Hamilton')"
   ]
  },
  {
   "cell_type": "markdown",
   "id": "7effdaa6-ee97-4634-811c-1b90d7e95543",
   "metadata": {},
   "source": [
    "## Exercise 1\n",
    "\n",
    "Solution 2:"
   ]
  },
  {
   "cell_type": "code",
   "execution_count": 4,
   "id": "bb57212a-c0f2-4922-a549-0edea60ec590",
   "metadata": {},
   "outputs": [
    {
     "data": {
      "text/plain": [
       "'Temple.png'"
      ]
     },
     "execution_count": 4,
     "metadata": {},
     "output_type": "execute_result"
    }
   ],
   "source": [
    "dot = Digraph(format='png')\n",
    "dot.attr(rankdir='LR')\n",
    "dot.node(\"Growth\")\n",
    "dot.node(\"Stagnation\")\n",
    "dot.node(\"Collapse\")\n",
    "\n",
    "dot.edge(\"Growth\", \"Growth\", label=\"0.68\")\n",
    "dot.edge(\"Growth\", \"Stagnation\", label=\"0.12\")\n",
    "dot.edge(\"Growth\", \"Collapse\", label=\"0.20\")\n",
    "\n",
    "dot.edge(\"Stagnation\", \"Stagnation\", label=\"0.24\")\n",
    "dot.edge(\"Stagnation\", \"Growth\", label=\"0.50\")\n",
    "dot.edge(\"Stagnation\", \"Collapse\", label=\"0.26\")\n",
    "\n",
    "dot.edge(\"Collapse\", \"Collapse\", label=\"0.46\")\n",
    "dot.edge(\"Collapse\", \"Stagnation\", label=\"0.18\")\n",
    "dot.edge(\"Collapse\", \"Growth\", label=\"0.36\")\n",
    "\n",
    "dot\n",
    "\n",
    "dot.render(filename='Temple')"
   ]
  },
  {
   "cell_type": "code",
   "execution_count": null,
   "id": "7aca758c-e819-4d01-a2aa-c5fd36f0e2ad",
   "metadata": {},
   "outputs": [],
   "source": []
  }
 ],
 "metadata": {
  "kernelspec": {
   "display_name": "Python 3 (ipykernel)",
   "language": "python",
   "name": "python3"
  },
  "language_info": {
   "codemirror_mode": {
    "name": "ipython",
    "version": 3
   },
   "file_extension": ".py",
   "mimetype": "text/x-python",
   "name": "python",
   "nbconvert_exporter": "python",
   "pygments_lexer": "ipython3",
   "version": "3.11.7"
  }
 },
 "nbformat": 4,
 "nbformat_minor": 5
}
