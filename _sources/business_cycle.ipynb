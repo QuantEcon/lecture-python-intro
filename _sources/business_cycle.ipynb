{
 "cells": [
  {
   "cell_type": "markdown",
   "id": "85f6625b",
   "metadata": {
    "user_expressions": []
   },
   "source": [
    "# Business Cycles\n",
    "\n",
    "## Overview\n",
    "\n",
    "In this lecture we study business cycles, which \n",
    "are fluctuations in economic activity over time.\n",
    "\n",
    "These fluctuations can be observed in the form of expansions (booms), contractions (recessions), and recoveries.\n",
    "\n",
    "We will look into a series of economic indicators to visualize the expansions and contractions of economies from the 1960s to the recent pandemic using [World Bank](https://documents.worldbank.org/en/publication/documents-reports/api) and [FRED](https://fred.stlouisfed.org/) data.\n",
    "\n",
    "In addition to those installed by Anaconda, this lecture requires\n",
    "libraries to obtain World Bank and FRED data:"
   ]
  },
  {
   "cell_type": "code",
   "execution_count": null,
   "id": "97c7a74f",
   "metadata": {
    "tags": [
     "hide-output"
    ]
   },
   "outputs": [],
   "source": [
    "!pip install wbgapi\n",
    "!pip install pandas-datareader"
   ]
  },
  {
   "cell_type": "markdown",
   "id": "462c8deb",
   "metadata": {},
   "source": [
    "We use the following imports"
   ]
  },
  {
   "cell_type": "code",
   "execution_count": null,
   "id": "68908404",
   "metadata": {},
   "outputs": [],
   "source": [
    "import matplotlib.pyplot as plt\n",
    "import pandas as pd\n",
    "import numpy as np\n",
    "import scipy.stats as st\n",
    "import datetime\n",
    "import wbgapi as wb\n",
    "import pandas_datareader.data as web"
   ]
  },
  {
   "cell_type": "code",
   "execution_count": null,
   "id": "9f185b04",
   "metadata": {
    "tags": [
     "hide-input"
    ]
   },
   "outputs": [],
   "source": [
    "# Set Graphical Parameters\n",
    "cycler = plt.cycler(linestyle=['-', '-.', '--', ':'], color=['#377eb8', '#ff7f00', '#4daf4a', '#ff334f'])\n",
    "plt.rc('axes', prop_cycle=cycler)"
   ]
  },
  {
   "cell_type": "markdown",
   "id": "4253c386",
   "metadata": {
    "user_expressions": []
   },
   "source": [
    "## Data Acquisition\n",
    "\n",
    "We will use `wbgapi` and `pandas_datareader` to retrieve data throughout this\n",
    "lecture.\n",
    "\n",
    "Let's explore how to query data first.\n",
    "\n",
    "We can use `wb.series.info` with the argument `q` to query available data from\n",
    "the [World Bank](https://www.worldbank.org/en/home).\n",
    "\n",
    "For example, let's retrieve the ID to query GDP growth data."
   ]
  },
  {
   "cell_type": "code",
   "execution_count": null,
   "id": "91f16754",
   "metadata": {},
   "outputs": [],
   "source": [
    "wb.series.info(q='GDP growth')"
   ]
  },
  {
   "cell_type": "markdown",
   "id": "9a8c60c1",
   "metadata": {
    "user_expressions": []
   },
   "source": [
    "Now we use this series ID to obtain the data."
   ]
  },
  {
   "cell_type": "code",
   "execution_count": null,
   "id": "fb13463d",
   "metadata": {
    "tags": [
     "hide-output"
    ]
   },
   "outputs": [],
   "source": [
    "gdp_growth = wb.data.DataFrame('NY.GDP.MKTP.KD.ZG',\n",
    "            ['USA', 'ARG', 'GBR', 'GRC', 'JPN'], labels=True)\n",
    "gdp_growth"
   ]
  },
  {
   "cell_type": "markdown",
   "id": "ffc6bc99",
   "metadata": {
    "user_expressions": []
   },
   "source": [
    "We can learn more about the data by checking the series metadata."
   ]
  },
  {
   "cell_type": "code",
   "execution_count": null,
   "id": "a03685d8",
   "metadata": {
    "tags": [
     "hide-output"
    ]
   },
   "outputs": [],
   "source": [
    "wb.series.metadata.get('NY.GDP.MKTP.KD.ZG')"
   ]
  },
  {
   "cell_type": "markdown",
   "id": "8df3a2ef",
   "metadata": {
    "user_expressions": []
   },
   "source": [
    "Let's dive into the data with the tools we have.\n",
    "\n",
    "\n",
    "\n",
    "\n",
    "## GDP Growth Rate\n",
    "\n",
    "First we look at the GDP growth rate. \n",
    "\n",
    "Let's source our data from the World Bank and clean it."
   ]
  },
  {
   "cell_type": "code",
   "execution_count": null,
   "id": "618f2dd6",
   "metadata": {},
   "outputs": [],
   "source": [
    "# Use the series ID retrived before\n",
    "gdp_growth = wb.data.DataFrame('NY.GDP.MKTP.KD.ZG',\n",
    "            ['USA', 'ARG', 'GBR', 'GRC', 'JPN'], labels=True)\n",
    "gdp_growth = gdp_growth.set_index('Country')\n",
    "gdp_growth.columns = gdp_growth.columns.str.replace('YR', '').astype(int)"
   ]
  },
  {
   "cell_type": "markdown",
   "id": "a43f5646",
   "metadata": {},
   "source": [
    "Here's a first look at the data, which measures the GDP growth rate in\n",
    "percentages."
   ]
  },
  {
   "cell_type": "code",
   "execution_count": null,
   "id": "f0f327be",
   "metadata": {},
   "outputs": [],
   "source": [
    "gdp_growth"
   ]
  },
  {
   "cell_type": "markdown",
   "id": "62105cbd",
   "metadata": {
    "user_expressions": []
   },
   "source": [
    "The cell below contains a function to generate plots for individual countries."
   ]
  },
  {
   "cell_type": "code",
   "execution_count": null,
   "id": "59919e73",
   "metadata": {
    "tags": [
     "hide-input"
    ]
   },
   "outputs": [],
   "source": [
    "def plot_comparison(data, country, title, \n",
    "                    ylabel, title_pos, ax, g_params,\n",
    "                     b_params, t_params, ylim=15, baseline=0):\n",
    "    \n",
    "    ax.plot(data.loc[country], label=country, **g_params)\n",
    "    \n",
    "    # Highlight Recessions\n",
    "    ax.axvspan(1973, 1975, **b_params)\n",
    "    ax.axvspan(1990, 1992, **b_params)\n",
    "    ax.axvspan(2007, 2009, **b_params)\n",
    "    ax.axvspan(2019, 2021, **b_params)\n",
    "    if ylim != None:\n",
    "        ax.set_ylim([-ylim, ylim])\n",
    "    else:\n",
    "        ylim = ax.get_ylim()[1]\n",
    "    ax.text(1974, ylim + ylim * title_pos,\n",
    "            'Oil Crisis\\n(1974)', **t_params) \n",
    "    ax.text(1991, ylim + ylim * title_pos,\n",
    "            '1990s recession\\n(1991)', **t_params) \n",
    "    ax.text(2008, ylim + ylim * title_pos,\n",
    "            'GFC\\n(2008)', **t_params) \n",
    "    ax.text(2020, ylim + ylim * title_pos,\n",
    "            'Covid-19\\n(2020)', **t_params)\n",
    "    if baseline != None:\n",
    "        ax.axhline(y=baseline, color='black', linestyle='--')\n",
    "    ax.set_title(title, pad=40)\n",
    "    ax.set_ylabel(ylabel)\n",
    "    ax.legend()\n",
    "    return ax\n",
    "\n",
    "# Define graphical parameters \n",
    "g_params = {'alpha': 0.7}\n",
    "b_params = {'color':'grey', 'alpha': 0.2}\n",
    "t_params = {'color':'grey', 'fontsize': 9, \n",
    "            'va':'center', 'ha':'center'}"
   ]
  },
  {
   "cell_type": "markdown",
   "id": "53bcdd9a",
   "metadata": {
    "user_expressions": []
   },
   "source": [
    "Now we can plot the data as a time series.\n",
    "\n",
    "Let's start with the United States."
   ]
  },
  {
   "cell_type": "code",
   "execution_count": null,
   "id": "b2286268",
   "metadata": {},
   "outputs": [],
   "source": [
    "fig, ax = plt.subplots()\n",
    "\n",
    "country = 'United States'\n",
    "title = 'United States (GDP Growth Rate %)'\n",
    "ylabel = 'GDP Growth Rate (%)'\n",
    "_ = plot_comparison(gdp_growth, country, \n",
    "                    title, ylabel, 0.1, ax, \n",
    "                    g_params, b_params, t_params)"
   ]
  },
  {
   "cell_type": "markdown",
   "id": "bf6653f4",
   "metadata": {
    "user_expressions": []
   },
   "source": [
    "GDP growth is positive on average and trending slightly downward over time.\n",
    "\n",
    "We also see fluctuations over GDP growth over time, some of which are quite large.\n",
    "\n",
    "Let's look at a few more countries to get a basis for comparison."
   ]
  },
  {
   "cell_type": "markdown",
   "id": "e0200a58",
   "metadata": {},
   "source": [
    "The United Kingdom (UK) has a similar pattern to the US, with a slow decline\n",
    "in the growth rate and significant fluctuations.\n",
    "\n",
    "Notice the very large dip during the Covid-19 pandemic."
   ]
  },
  {
   "cell_type": "code",
   "execution_count": null,
   "id": "7b5dcb21",
   "metadata": {},
   "outputs": [],
   "source": [
    "fig, ax = plt.subplots()\n",
    "\n",
    "country = 'United Kingdom'\n",
    "title = ' United Kingdom (GDP Growth Rate %)'\n",
    "title_height = 0.1\n",
    "_ = plot_comparison(gdp_growth, country, title,\n",
    "                    ylabel, 0.1, ax, g_params, \n",
    "                    b_params, t_params)"
   ]
  },
  {
   "cell_type": "markdown",
   "id": "80ab9c3f",
   "metadata": {
    "user_expressions": []
   },
   "source": [
    "Now let's consider Japan, which experienced rapid growth in the 1960s and\n",
    "1970s, followed by slowed expansion in the past two decades.\n",
    "\n",
    "Major dips in the growth rate coincided with the Oil Crisis of the 1970s, the\n",
    "GFC and the Covid-19 pandemic."
   ]
  },
  {
   "cell_type": "code",
   "execution_count": null,
   "id": "029938d9",
   "metadata": {},
   "outputs": [],
   "source": [
    "fig, ax = plt.subplots()\n",
    "\n",
    "country = 'Japan'\n",
    "title = 'Japan (GDP Growth Rate %)'\n",
    "_ = plot_comparison(gdp_growth, country, title, \n",
    "                    ylabel, 0.1, ax, g_params, \n",
    "                    b_params, t_params)"
   ]
  },
  {
   "cell_type": "markdown",
   "id": "a27ab679",
   "metadata": {},
   "source": [
    "Now let's study Greece."
   ]
  },
  {
   "cell_type": "code",
   "execution_count": null,
   "id": "518fac79",
   "metadata": {},
   "outputs": [],
   "source": [
    "fig, ax = plt.subplots()\n",
    "\n",
    "country = 'Greece'\n",
    "title = ' Greece (GDP Growth Rate %)'\n",
    "_ = plot_comparison(gdp_growth, country, title, \n",
    "                    ylabel, 0.1, ax, g_params, \n",
    "                    b_params, t_params)"
   ]
  },
  {
   "cell_type": "markdown",
   "id": "acba9f2e",
   "metadata": {},
   "source": [
    "Greece had a significant drop in GDP growth around 2010-2011, during the peak\n",
    "of the Greek debt crisis.\n",
    "\n",
    "Next let's consider Argentina."
   ]
  },
  {
   "cell_type": "code",
   "execution_count": null,
   "id": "bb701135",
   "metadata": {},
   "outputs": [],
   "source": [
    "fig, ax = plt.subplots()\n",
    "\n",
    "country = 'Argentina'\n",
    "title = 'Argentina (GDP Growth Rate %)'\n",
    "_ = plot_comparison(gdp_growth, country, title, \n",
    "                    ylabel, 0.1, ax, \n",
    "                    g_params, b_params, t_params)"
   ]
  },
  {
   "cell_type": "markdown",
   "id": "50ae0366",
   "metadata": {
    "user_expressions": []
   },
   "source": [
    "The figure shows that Argentina has experienced more volatile cycles than\n",
    "the economies mentioned above.\n",
    "\n",
    "At the same time, growth of Argentina did not fall during the two developed\n",
    "economy recessions in the 1970s and 1990s."
   ]
  },
  {
   "cell_type": "markdown",
   "id": "c8fa1dfb",
   "metadata": {
    "user_expressions": []
   },
   "source": [
    "## Unemployment\n",
    "\n",
    "Another important measure of business cycles is the unemployment rate.\n",
    "\n",
    "During a recession, it is more likely that a larger proportion of the working\n",
    "population will be laid off.\n",
    "\n",
    "We demonstrate this using a long-run unemployment rate from FRED spanning from [1929-1942](https://fred.stlouisfed.org/series/M0892AUSM156SNBR) to [1948-2022](https://fred.stlouisfed.org/series/UNRATE) with the unemployment rate between 1942 and 1948 estimated by [The Census Bureau](https://www.census.gov/library/publications/1975/compendia/hist_stats_colonial-1970.html)."
   ]
  },
  {
   "cell_type": "code",
   "execution_count": null,
   "id": "7fee6e1a",
   "metadata": {},
   "outputs": [],
   "source": [
    "start_date = datetime.datetime(1929, 1, 1)\n",
    "end_date = datetime.datetime(1942, 6, 1)\n",
    "\n",
    "unrate_history = web.DataReader('M0892AUSM156SNBR', 'fred', start_date,end_date)\n",
    "unrate_history.rename(columns={'M0892AUSM156SNBR': 'UNRATE'}, inplace=True)"
   ]
  },
  {
   "cell_type": "code",
   "execution_count": null,
   "id": "7b9e7dce",
   "metadata": {},
   "outputs": [],
   "source": [
    "start_date = datetime.datetime(1948, 1, 1)\n",
    "end_date = datetime.datetime(2022, 12, 31)\n",
    "\n",
    "unrate = web.DataReader('UNRATE', 'fred', start_date, end_date)"
   ]
  },
  {
   "cell_type": "code",
   "execution_count": null,
   "id": "1991cd78",
   "metadata": {},
   "outputs": [],
   "source": [
    "# We use the census bureau's estimate for the unemployment rate \n",
    "# between 1942 and 1948\n",
    "years = [datetime.datetime(year, 6, 1) for year in range(1942,1948)]\n",
    "unrate_census = [4.7, 1.9, 1.2, 1.9, 3.9, 3.9]\n",
    "\n",
    "unrate_census = {'DATE': years, 'UNRATE': unrate_census}\n",
    "unrate_census = pd.DataFrame(unrate_census)\n",
    "unrate_census.set_index('DATE', inplace=True)"
   ]
  },
  {
   "cell_type": "code",
   "execution_count": null,
   "id": "619f0b55",
   "metadata": {},
   "outputs": [],
   "source": [
    "# Obtain the NBER-defined recession periods\n",
    "start_date = datetime.datetime(1929, 1, 1)\n",
    "end_date = datetime.datetime(2022, 12, 31)\n",
    "\n",
    "nber = web.DataReader('USREC', 'fred', start_date, end_date)"
   ]
  },
  {
   "cell_type": "code",
   "execution_count": null,
   "id": "d23f596a",
   "metadata": {},
   "outputs": [],
   "source": [
    "fig, ax = plt.subplots()\n",
    "\n",
    "ax.plot(unrate_history, **g_params, color='#377eb8', linestyle='-', linewidth=2)\n",
    "ax.plot(unrate_census, **g_params, color='black', linestyle='--', label='Census Estimates', linewidth=2)\n",
    "ax.plot(unrate, **g_params, color='#377eb8', linestyle='-', linewidth=2)\n",
    "\n",
    "# Draw gray boxes according to NBER recession indicators\n",
    "ax.fill_between(nber.index, 0, 1, where=nber['USREC']==1, \n",
    "                color='grey', edgecolor='none',\n",
    "                alpha=0.3, transform=ax.get_xaxis_transform(), \n",
    "                label='NBER Recession Indicators')\n",
    "ax.set_ylim([0, ax.get_ylim()[1]])\n",
    "ax.legend(loc='upper center', bbox_to_anchor=(0.5, 1.1),\n",
    "          ncol=3, fancybox=True, shadow=True)\n",
    "ax.set_ylabel('Unemployment Rate (%)')\n",
    "\n",
    "_ = ax.set_title('Long-run Unemployment Rate, 1929-2022\\n with Recession Indicators (United States)', pad=30)"
   ]
  },
  {
   "cell_type": "markdown",
   "id": "5cad85e0",
   "metadata": {
    "user_expressions": []
   },
   "source": [
    "In the plot, we can see that the expansions and contractions of the labor\n",
    "market have been highly correlated with recessions. \n",
    "\n",
    "However, there is often a delay in the recovery of the labor market after\n",
    "recessions.\n",
    "\n",
    "This trend is clearly visible in the 1930s, as well as in recessions in the\n",
    "1980s. \n",
    "\n",
    "It also shows us how unique labor market conditions have been during the\n",
    "post-pandemic recovery. \n",
    "\n",
    "The labor market has recovered at an unprecedented rate, leading to the\n",
    "tightest point in the past decades after the shock in 2020-2021."
   ]
  },
  {
   "cell_type": "markdown",
   "id": "60c4e48c",
   "metadata": {
    "user_expressions": []
   },
   "source": [
    "(synchronization)=\n",
    "## Synchronization\n",
    "\n",
    "In our previous discussion, we found that developed economies have had\n",
    "relatively synchronized periods of recession. \n",
    "\n",
    "At the same time, this synchronization does not appear in Argentina until the 2000s. \n",
    "\n",
    "Let's examine this trend further. \n",
    "\n",
    "With slight modifications, we can use our previous function to draw a plot\n",
    "that includes many countries"
   ]
  },
  {
   "cell_type": "code",
   "execution_count": null,
   "id": "2be7e7c0",
   "metadata": {},
   "outputs": [],
   "source": [
    "def plot_comparison_multi(data, countries, title, \n",
    "                        ylabel, title_pos, y_lim, ax, \n",
    "                        g_params, b_params, t_params, baseline=0):\n",
    "\n",
    "    # Allow the function to go through more than one series\n",
    "    for country in countries:\n",
    "        ax.plot(data.loc[country], label=country, **g_params)\n",
    "    \n",
    "    # Highlight Recessions\n",
    "    ax.axvspan(1973, 1975, **b_params)\n",
    "    ax.axvspan(1990, 1992, **b_params)\n",
    "    ax.axvspan(2007, 2009, **b_params)\n",
    "    ax.axvspan(2019, 2021, **b_params)\n",
    "    if y_lim != None:\n",
    "        ax.set_ylim([-y_lim, y_lim])\n",
    "    ylim = ax.get_ylim()[1]\n",
    "    ax.text(1974, ylim + ylim * title_pos, \n",
    "            'Oil Crisis\\n(1974)', **t_params) \n",
    "    ax.text(1991, ylim + ylim * title_pos, \n",
    "            '1990s recession\\n(1991)', **t_params) \n",
    "    ax.text(2008, ylim + ylim * title_pos, \n",
    "            'GFC\\n(2008)', **t_params) \n",
    "    ax.text(2020, ylim + ylim * title_pos, \n",
    "            'Covid-19\\n(2020)', **t_params) \n",
    "    if baseline != None:\n",
    "        ax.hlines(y=baseline, xmin=ax.get_xlim()[0], \n",
    "                  xmax=ax.get_xlim()[1], color='black', \n",
    "                  linestyle='--')\n",
    "    ax.set_title(title, pad=40)\n",
    "    ax.set_ylabel(ylabel)\n",
    "    ax.legend()\n",
    "    return ax\n",
    "\n",
    "# Define graphical parameters \n",
    "g_params = {'alpha': 0.7}\n",
    "b_params = {'color':'grey', 'alpha': 0.2}\n",
    "t_params = {'color':'grey', 'fontsize': 9, \n",
    "            'va':'center', 'ha':'center'}"
   ]
  },
  {
   "cell_type": "code",
   "execution_count": null,
   "id": "f40140b3",
   "metadata": {},
   "outputs": [],
   "source": [
    "# Obtain GDP growth rate for a list of countries\n",
    "gdp_growth = wb.data.DataFrame('NY.GDP.MKTP.KD.ZG',\n",
    "            ['CHN', 'USA', 'DEU', 'BRA', 'ARG', 'GBR', 'JPN', 'MEX'], labels=True)\n",
    "gdp_growth = gdp_growth.set_index('Country')\n",
    "gdp_growth.columns = gdp_growth.columns.str.replace('YR', '').astype(int)"
   ]
  },
  {
   "cell_type": "code",
   "execution_count": null,
   "id": "659f2641",
   "metadata": {},
   "outputs": [],
   "source": [
    "fig, ax = plt.subplots()\n",
    "countries = ['United Kingdom', 'United States', 'Germany', 'Japan']\n",
    "title = 'United Kingdom, United States, Germany, and Japan (GDP Growth Rate %)'\n",
    "ylabel = 'GDP Growth Rate (%)'\n",
    "title_height = 0.1\n",
    "_ = plot_comparison_multi(gdp_growth.loc[countries, 1962:], countries, title, ylabel, 0.1, 20, ax, g_params, b_params, t_params)"
   ]
  },
  {
   "cell_type": "code",
   "execution_count": null,
   "id": "e324503b",
   "metadata": {},
   "outputs": [],
   "source": [
    "fig, ax = plt.subplots()\n",
    "countries = ['Brazil', 'China', 'Argentina', 'Mexico']\n",
    "title = 'Brazil, China, Argentina, and Mexico (GDP Growth Rate %)'\n",
    "_ = plot_comparison_multi(gdp_growth.loc[countries, 1962:], countries, title, ylabel, 0.1, 20, ax, g_params, b_params, t_params)"
   ]
  },
  {
   "cell_type": "markdown",
   "id": "cfdcb983",
   "metadata": {
    "user_expressions": []
   },
   "source": [
    "On comparison of GDP growth rates between developed and developing\n",
    "economies, we find that business cycles are becoming more synchronized in 21st-century recessions.\n",
    "\n",
    "However, emerging and less developed economies often experience more volatile\n",
    "changes throughout the economic cycles. \n",
    "\n",
    "Although we see synchronization in GDP growth as a general trend, the experience of individual countries during\n",
    "the recession often differs. \n",
    "\n",
    "We use unemployment rate and the recovery of labor market conditions\n",
    "as another example."
   ]
  },
  {
   "cell_type": "code",
   "execution_count": null,
   "id": "2eb7cea9",
   "metadata": {},
   "outputs": [],
   "source": [
    "unempl_rate = wb.data.DataFrame('SL.UEM.TOTL.NE.ZS',\n",
    "    ['USA', 'FRA', 'GBR', 'JPN'], labels=True)\n",
    "unempl_rate = unempl_rate.set_index('Country')\n",
    "unempl_rate.columns = unempl_rate.columns.str.replace('YR', '').astype(int)"
   ]
  },
  {
   "cell_type": "code",
   "execution_count": null,
   "id": "74eeb3db",
   "metadata": {},
   "outputs": [],
   "source": [
    "fig, ax = plt.subplots()\n",
    "\n",
    "countries = ['United Kingdom', 'United States', 'Japan', 'France']\n",
    "title = 'United Kingdom, United States, Japan, and France (Unemployment Rate %)'\n",
    "ylabel = 'Unemployment Rate (National Estimate) (%)'\n",
    "_ = plot_comparison_multi(unempl_rate, countries, title, \n",
    "                          ylabel, 0.05, None, ax, g_params, \n",
    "                          b_params, t_params, baseline=None)"
   ]
  },
  {
   "cell_type": "markdown",
   "id": "58aa7ac4",
   "metadata": {},
   "source": [
    "France, with its strong labor unions, has a prolonged labor market recovery\n",
    "compared to the US and UK. \n",
    "\n",
    "However, Japan has a history of very low and stable unemployment rates due to\n",
    "a constellation of social, demographic, and cultural factors."
   ]
  },
  {
   "cell_type": "markdown",
   "id": "be12e2b5",
   "metadata": {
    "user_expressions": []
   },
   "source": [
    "## Leading Indicators and Correlated Factors for Business Cycles\n",
    "\n",
    "Examining leading indicators and correlated factors helps policymakers to\n",
    "understand the causes and results of business cycles. \n",
    "\n",
    "We will discuss potential leading indicators and correlated factors from three\n",
    "perspectives: consumption, production, and credit level.\n",
    "\n",
    "### Consumption"
   ]
  },
  {
   "cell_type": "markdown",
   "id": "7f9d24fe",
   "metadata": {
    "user_expressions": []
   },
   "source": [
    "Consumption depends on consumers' confidence towards their\n",
    "income and the overall performance of the economy in the future. \n",
    "\n",
    "One widely cited indicator for consumer confidence is the [Consumer Sentiment Index](https://fred.stlouisfed.org/series/UMCSENT) published by the University\n",
    "of Michigan.\n",
    "\n",
    "We find that consumer sentiment remains high during periods of expansion, but there are significant drops before recession hits.\n",
    "\n",
    "There is also a clear negative correlation between consumer sentiment and [core consumer price index](https://fred.stlouisfed.org/series/CPILFESL).\n",
    "\n",
    "This trend is more significant in the period of [stagflation](https://en.wikipedia.org/wiki/Stagflation).\n",
    "\n",
    "When the price of consumer commodities rises, consumer confidence diminishes."
   ]
  },
  {
   "cell_type": "code",
   "execution_count": null,
   "id": "7c824161",
   "metadata": {},
   "outputs": [],
   "source": [
    "start_date = datetime.datetime(1978, 1, 1)\n",
    "end_date = datetime.datetime(2022, 12, 31)\n",
    "\n",
    "# Limit the plot to a specific range\n",
    "start_date_graph = datetime.datetime(1977, 1, 1)\n",
    "end_date_graph = datetime.datetime(2023, 12, 31)\n",
    "\n",
    "nber = web.DataReader('USREC', 'fred', start_date, end_date)\n",
    "consumer_confidence = web.DataReader('UMCSENT', 'fred', start_date, end_date)\n",
    "\n",
    "fig, ax = plt.subplots()\n",
    "ax.plot(consumer_confidence, **g_params, \n",
    "        color='#377eb8', linestyle='-', \n",
    "        linewidth=2)\n",
    "ax.fill_between(nber.index, 0, 1, \n",
    "            where=nber['USREC']==1, color='grey', edgecolor='none',\n",
    "            alpha=0.3, transform=ax.get_xaxis_transform(), \n",
    "            label='NBER Recession Indicators')\n",
    "ax.set_ylim([0, ax.get_ylim()[1]])\n",
    "ax.set_ylabel('Consumer Sentiment Index')\n",
    "\n",
    "# Plot CPI on another y-axis\n",
    "ax_t = ax.twinx()\n",
    "inflation = web.DataReader('CPILFESL', 'fred', \n",
    "                start_date, end_date).pct_change(12) * 100\n",
    "\n",
    "# Add CPI on the legend without drawing the line again\n",
    "ax_t.plot(2020, 0, **g_params, linestyle='-', \n",
    "          linewidth=2, label='Consumer Sentiment Index')\n",
    "ax_t.plot(inflation, **g_params, color='#ff7f00', linestyle='--', \n",
    "          linewidth=2, label='CPI YoY Change (%)')\n",
    "ax_t.fill_between(nber.index, 0, 1, where=nber['USREC']==1, \n",
    "                  color='grey', edgecolor='none',\n",
    "                  alpha=0.3, transform=ax.get_xaxis_transform(), \n",
    "                  label='NBER Recession Indicators')\n",
    "ax_t.set_ylim([0, ax_t.get_ylim()[1]])\n",
    "ax_t.set_xlim([start_date_graph, end_date_graph])\n",
    "ax_t.legend(loc='upper center', bbox_to_anchor=(0.5, 1.1),\n",
    "            ncol=3, fontsize=9)\n",
    "ax_t.set_ylabel('Consumer Price Index (% Change)',)\n",
    "\n",
    "# Suppress the text output\n",
    "_ = ax.set_title('University of Michigan Consumer Sentiment Index,\\n and \\\n",
    "Year-over-year Consumer Price Index Change, 1978-2022 (United States)', pad=30)"
   ]
  },
  {
   "cell_type": "markdown",
   "id": "485fb20d",
   "metadata": {
    "user_expressions": []
   },
   "source": [
    "### Production\n",
    "\n",
    "Consumers' confidence often influences their consumption pattern.\n",
    "\n",
    "This often manifests on the production side.\n",
    "\n",
    "We find that real industrial output is highly correlated with\n",
    "recessions in the economy. \n",
    "\n",
    "However, it is not a leading indicator, as the peak of contraction in production delays compared to consumer confidence and inflation."
   ]
  },
  {
   "cell_type": "code",
   "execution_count": null,
   "id": "603b37ee",
   "metadata": {},
   "outputs": [],
   "source": [
    "start_date = datetime.datetime(1919, 1, 1)\n",
    "end_date = datetime.datetime(2022, 12, 31)\n",
    "\n",
    "nber = web.DataReader('USREC', 'fred', start_date, end_date)\n",
    "consumer_confidence = web.DataReader('INDPRO', 'fred', start_date, end_date).pct_change(12) * 100\n",
    "\n",
    "fig, ax = plt.subplots()\n",
    "ax.plot(consumer_confidence, **g_params, color='#377eb8', linestyle='-', linewidth=2, label='Consumer Price Index')\n",
    "ax.fill_between(nber.index, 0, 1, where=nber['USREC']==1, color='grey', edgecolor='none',\n",
    "                alpha=0.3, transform=ax.get_xaxis_transform(), \n",
    "                label='NBER Recession Indicators')\n",
    "ax.set_ylim([ax.get_ylim()[0], ax.get_ylim()[1]])\n",
    "ax.set_ylabel('YoY Real Ouput Change (%)')\n",
    "ax = ax.set_title('Year-over-year Industrial Production: \\\n",
    "Total Index, 1919-2022 (United States)', pad=20)"
   ]
  },
  {
   "cell_type": "markdown",
   "id": "59ef0516",
   "metadata": {
    "user_expressions": []
   },
   "source": [
    "### Credit Level\n",
    "\n",
    "Credit contractions often occur during recessions, as lenders become more\n",
    "cautious and borrowers become more hesitant to take on additional debt.\n",
    "\n",
    "This can be due to several factors such as a decrease in overall economic\n",
    "activity, rising unemployment, and gloomy expectations for the future.\n",
    "\n",
    "One example is domestic credit to the private sector by banks in the UK."
   ]
  },
  {
   "cell_type": "code",
   "execution_count": null,
   "id": "eace73dd",
   "metadata": {},
   "outputs": [],
   "source": [
    "private_credit = wb.data.DataFrame('FS.AST.PRVT.GD.ZS',['GBR'], labels=True)\n",
    "private_credit = private_credit.set_index('Country')\n",
    "private_credit.columns = private_credit.columns.str.replace('YR', '').astype(int)\n",
    "private_credit"
   ]
  },
  {
   "cell_type": "code",
   "execution_count": null,
   "id": "c6407e42",
   "metadata": {},
   "outputs": [],
   "source": [
    "fig, ax = plt.subplots()\n",
    "\n",
    "countries = 'United Kingdom'\n",
    "title = 'Domestic Credit to Private Sector by Banks, United Kingdom (% of GDP)'\n",
    "ylabel = 'Credit Level (% of GDP)'\n",
    "ax = plot_comparison(private_credit, countries, title, \n",
    "                     ylabel, 0.05, ax, g_params, b_params, \n",
    "                     t_params, ylim=None, baseline=None)"
   ]
  },
  {
   "cell_type": "markdown",
   "id": "5a40c0cd",
   "metadata": {
    "user_expressions": []
   },
   "source": [
    "Note that the credit rises in periods of economic expansion\n",
    "and stagnates or even contracts after recessions."
   ]
  },
  {
   "cell_type": "code",
   "execution_count": null,
   "id": "0048a2b0",
   "metadata": {},
   "outputs": [],
   "source": []
  }
 ],
 "metadata": {
  "jupytext": {
   "text_representation": {
    "extension": ".md",
    "format_name": "myst",
    "format_version": 0.13,
    "jupytext_version": "1.14.5"
   }
  },
  "kernelspec": {
   "display_name": "Python 3 (ipykernel)",
   "language": "python",
   "name": "python3"
  },
  "source_map": [
   14,
   30,
   35,
   39,
   49,
   57,
   71,
   75,
   79,
   87,
   91,
   97,
   110,
   116,
   121,
   125,
   129,
   169,
   175,
   186,
   194,
   201,
   212,
   220,
   228,
   232,
   240,
   247,
   257,
   265,
   276,
   284,
   291,
   302,
   310,
   330,
   347,
   362,
   403,
   411,
   420,
   427,
   441,
   448,
   457,
   465,
   477,
   493,
   540,
   553,
   571,
   583,
   590,
   601,
   606
  ]
 },
 "nbformat": 4,
 "nbformat_minor": 5
}