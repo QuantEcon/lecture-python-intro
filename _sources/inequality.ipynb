{
 "cells": [
  {
   "cell_type": "markdown",
   "id": "4a0cb71e",
   "metadata": {},
   "source": [
    "# Income and Wealth Inequality\n",
    "\n",
    "## Overview\n",
    "\n",
    "In the lecture {doc}`long_run_growth` we studied how GDP per capita has changed\n",
    "for certain countries and regions.\n",
    "\n",
    "Per capital GDP is important because it gives us an idea of average income for\n",
    "households in a given country.\n",
    "\n",
    "However, when we study income and wealth, averages are only part of the story.\n",
    "\n",
    "For example, imagine two societies, each with one million people, where\n",
    "\n",
    "* in the first society, the yearly income of one man is $100,000,000 and the income of the\n",
    "  others is zero\n",
    "* in the second society, the yearly income of everyone is $100\n",
    "\n",
    "These countries have the same income per capita (average income is $100) but the lives of the people will be very different (e.g., almost everyone in the first society is\n",
    "starving, even though one person is fabulously rich).\n",
    "\n",
    "The example above suggests that we should go beyond simple averages when we study income and wealth.\n",
    "\n",
    "This leads us to the topic of economic inequality, which examines how income and wealth (and other quantities) are distributed across a population.\n",
    "\n",
    "In this lecture we study inequality, beginning with measures of inequality and\n",
    "then applying them to wealth and income data from the US and other countries.\n",
    "\n",
    "\n",
    "\n",
    "### Some history\n",
    "\n",
    "Many historians argue that inequality played a role in the fall of the Roman Republic (see, e.g., {cite}`levitt2019did`).\n",
    "\n",
    "Following the defeat of Carthage and the invasion of Spain, money flowed into\n",
    "Rome from across the empire, greatly enriched those in power.\n",
    "\n",
    "Meanwhile, ordinary citizens were taken from their farms to fight for long\n",
    "periods, diminishing their wealth.\n",
    "\n",
    "The resulting growth in inequality was a driving factor behind political turmoil that shook the foundations of the republic. \n",
    "\n",
    "Eventually, the Roman Republic gave way to a series of dictatorships, starting with [Octavian](https://en.wikipedia.org/wiki/Augustus) (Augustus) in 27 BCE.\n",
    "\n",
    "This history tells us that inequality matters, in the sense that it can drive major world events. \n",
    "\n",
    "There are other reasons that inequality might matter, such as how it affects\n",
    "human welfare.\n",
    "\n",
    "With this motivation, let us start to think about what inequality is and how we\n",
    "can quantify and analyze it.\n",
    "\n",
    "\n",
    "### Measurement\n",
    "\n",
    "In politics and popular media, the word \"inequality\" is often used quite loosely, without any firm definition.\n",
    "\n",
    "To bring a scientific perspective to the topic of inequality we must start with careful definitions.\n",
    "\n",
    "Hence we begin by discussing ways that inequality can be measured in economic research.\n",
    "\n",
    "We will need to install the following packages"
   ]
  },
  {
   "cell_type": "code",
   "execution_count": null,
   "id": "8d4905e9",
   "metadata": {
    "tags": [
     "hide-output"
    ]
   },
   "outputs": [],
   "source": [
    "!pip install wbgapi plotly"
   ]
  },
  {
   "cell_type": "markdown",
   "id": "5ee8746f",
   "metadata": {},
   "source": [
    "We will also use the following imports."
   ]
  },
  {
   "cell_type": "code",
   "execution_count": null,
   "id": "d789ae6a",
   "metadata": {},
   "outputs": [],
   "source": [
    "import pandas as pd\n",
    "import numpy as np\n",
    "import matplotlib.pyplot as plt\n",
    "import random as rd\n",
    "import wbgapi as wb\n",
    "import plotly.express as px"
   ]
  },
  {
   "cell_type": "markdown",
   "id": "eb78f3e5",
   "metadata": {},
   "source": [
    "## The Lorenz curve\n",
    "\n",
    "One popular measure of inequality is the Lorenz curve.\n",
    "\n",
    "In this section we define the Lorenz curve and examine its properties.\n",
    "\n",
    "\n",
    "### Definition\n",
    "\n",
    "The Lorenz curve takes a sample $w_1, \\ldots, w_n$ and produces a curve $L$.\n",
    "\n",
    "We suppose that the sample has been sorted from smallest to largest.\n",
    "\n",
    "To aid our interpretation, suppose that we are measuring wealth \n",
    "\n",
    "*  $w_1$ is the wealth of the poorest member of the population, and\n",
    "*  $w_n$ is the wealth of the richest member of the population.\n",
    "\n",
    "The curve $L$ is just a function $y = L(x)$ that we can plot and interpret.\n",
    "\n",
    "To create it we first generate data points $(x_i, y_i)$  according to\n",
    "\n",
    "```{prf:definition}\n",
    ":label: define-lorenz\n",
    "\n",
    "$$\n",
    "x_i = \\frac{i}{n},\n",
    "\\qquad\n",
    "y_i = \\frac{\\sum_{j \\leq i} w_j}{\\sum_{j \\leq n} w_j},\n",
    "\\qquad i = 1, \\ldots, n\n",
    "$$\n",
    "```\n",
    "\n",
    "Now the Lorenz curve $L$ is formed from these data points using interpolation.\n",
    "\n",
    "If we use a line plot in `matplotlib`, the interpolation will be done for us.\n",
    "\n",
    "The meaning of the statement $y = L(x)$ is that the lowest $(100\n",
    "\\times x)$\\% of people have $(100 \\times y)$\\% of all wealth.\n",
    "\n",
    "* if $x=0.5$ and $y=0.1$, then the bottom 50% of the population\n",
    "  owns 10% of the wealth.\n",
    "\n",
    "In the discussion above we focused on wealth but the same ideas apply to\n",
    "income, consumption, etc.\n",
    "\n",
    "\n",
    "### Lorenz curves of simulated data\n",
    "\n",
    "Let's look at some examples and try to build understanding.\n",
    "\n",
    "First let us construct a `lorenz_curve` function that we can\n",
    "use in our simulations below.\n",
    "\n",
    "It is useful to construct a function that translates an array of\n",
    "income or wealth data into the cumulative share\n",
    "of individuals (or households) and the cumulative share of income (or wealth)."
   ]
  },
  {
   "cell_type": "code",
   "execution_count": null,
   "id": "fe1b4dbb",
   "metadata": {},
   "outputs": [],
   "source": [
    "def lorenz_curve(y):\n",
    "    \"\"\"\n",
    "    Calculates the Lorenz Curve, a graphical representation of\n",
    "    the distribution of income or wealth.\n",
    "\n",
    "    It returns the cumulative share of people (x-axis) and\n",
    "    the cumulative share of income earned.\n",
    "\n",
    "    Parameters\n",
    "    ----------\n",
    "    y : array_like(float or int, ndim=1)\n",
    "        Array of income/wealth for each individual.\n",
    "        Unordered or ordered is fine.\n",
    "\n",
    "    Returns\n",
    "    -------\n",
    "    cum_people : array_like(float, ndim=1)\n",
    "        Cumulative share of people for each person index (i/n)\n",
    "    cum_income : array_like(float, ndim=1)\n",
    "        Cumulative share of income for each person index\n",
    "\n",
    "\n",
    "    References\n",
    "    ----------\n",
    "    .. [1] https://en.wikipedia.org/wiki/Lorenz_curve\n",
    "\n",
    "    Examples\n",
    "    --------\n",
    "    >>> a_val, n = 3, 10_000\n",
    "    >>> y = np.random.pareto(a_val, size=n)\n",
    "    >>> f_vals, l_vals = lorenz(y)\n",
    "\n",
    "    \"\"\"\n",
    "\n",
    "    n = len(y)\n",
    "    y = np.sort(y)\n",
    "    s = np.zeros(n + 1)\n",
    "    s[1:] = np.cumsum(y)\n",
    "    cum_people = np.zeros(n + 1)\n",
    "    cum_income = np.zeros(n + 1)\n",
    "    for i in range(1, n + 1):\n",
    "        cum_people[i] = i / n\n",
    "        cum_income[i] = s[i] / s[n]\n",
    "    return cum_people, cum_income"
   ]
  },
  {
   "cell_type": "markdown",
   "id": "f718e5ac",
   "metadata": {},
   "source": [
    "In the next figure, we generate $n=2000$ draws from a lognormal\n",
    "distribution and treat these draws as our population.  \n",
    "\n",
    "The straight 45-degree line ($x=L(x)$ for all $x$) corresponds to perfect equality.  \n",
    "\n",
    "The log-normal draws produce a less equal distribution.  \n",
    "\n",
    "For example, if we imagine these draws as being observations of wealth across\n",
    "a sample of households, then the dashed lines show that the bottom 80\\% of\n",
    "households own just over 40\\% of total wealth."
   ]
  },
  {
   "cell_type": "code",
   "execution_count": null,
   "id": "cbea445d",
   "metadata": {
    "mystnb": {
     "figure": {
      "caption": "Lorenz curve of simulated wealth data",
      "name": "lorenz_simulated"
     }
    }
   },
   "outputs": [],
   "source": [
    "n = 2000\n",
    "sample = np.exp(np.random.randn(n))\n",
    "\n",
    "fig, ax = plt.subplots()\n",
    "\n",
    "f_vals, l_vals = lorenz_curve(sample)\n",
    "ax.plot(f_vals, l_vals, label=f'lognormal sample', lw=2)\n",
    "ax.plot(f_vals, f_vals, label='equality', lw=2)\n",
    "\n",
    "ax.vlines([0.8], [0.0], [0.43], alpha=0.5, colors='k', ls='--')\n",
    "ax.hlines([0.43], [0], [0.8], alpha=0.5, colors='k', ls='--')\n",
    "ax.set_xlim((0, 1))\n",
    "ax.set_xlabel(\"share of households\")\n",
    "ax.set_ylim((0, 1))\n",
    "ax.set_ylabel(\"share of wealth\")\n",
    "ax.legend()\n",
    "plt.show()"
   ]
  },
  {
   "cell_type": "markdown",
   "id": "23e352e3",
   "metadata": {},
   "source": [
    "### Lorenz curves for US data\n",
    "\n",
    "Next let's look at US data for both income and wealth.\n",
    "\n",
    "(data:survey-consumer-finance)=\n",
    "The following code block imports a subset of the dataset `SCF_plus` for 2016,\n",
    "which is derived from the [Survey of Consumer Finances](https://en.wikipedia.org/wiki/Survey_of_Consumer_Finances) (SCF)."
   ]
  },
  {
   "cell_type": "code",
   "execution_count": null,
   "id": "fd6bb0c0",
   "metadata": {},
   "outputs": [],
   "source": [
    "url = 'https://github.com/QuantEcon/high_dim_data/raw/main/SCF_plus/SCF_plus_mini.csv'\n",
    "df = pd.read_csv(url)\n",
    "df_income_wealth = df.dropna()"
   ]
  },
  {
   "cell_type": "code",
   "execution_count": null,
   "id": "95e3d6c5",
   "metadata": {},
   "outputs": [],
   "source": [
    "df_income_wealth.head(n=5)"
   ]
  },
  {
   "cell_type": "markdown",
   "id": "5063a598",
   "metadata": {},
   "source": [
    "The next code block uses data stored in dataframe `df_income_wealth` to generate the Lorenz curves.\n",
    "\n",
    "(The code is somewhat complex because we need to adjust the data according to\n",
    "population weights supplied by the SCF.)"
   ]
  },
  {
   "cell_type": "code",
   "execution_count": null,
   "id": "7347e766",
   "metadata": {
    "tags": [
     "hide-input"
    ]
   },
   "outputs": [],
   "source": [
    "df = df_income_wealth \n",
    "\n",
    "varlist = ['n_wealth',    # net wealth \n",
    "           't_income',    # total income\n",
    "           'l_income']    # labor income\n",
    "\n",
    "years = df.year.unique()\n",
    "\n",
    "# Create lists to store Lorenz data\n",
    "\n",
    "F_vals, L_vals = [], []\n",
    "\n",
    "for var in varlist:\n",
    "    # create lists to store Lorenz curve data\n",
    "    f_vals = []\n",
    "    l_vals = []\n",
    "    for year in years:\n",
    "\n",
    "        # Repeat the observations according to their weights\n",
    "        counts = list(round(df[df['year'] == year]['weights'] )) \n",
    "        y = df[df['year'] == year][var].repeat(counts)\n",
    "        y = np.asarray(y)\n",
    "        \n",
    "        # Shuffle the sequence to improve the plot\n",
    "        rd.shuffle(y)    \n",
    "               \n",
    "        # calculate and store Lorenz curve data\n",
    "        f_val, l_val = lorenz_curve(y)\n",
    "        f_vals.append(f_val)\n",
    "        l_vals.append(l_val)\n",
    "        \n",
    "    F_vals.append(f_vals)\n",
    "    L_vals.append(l_vals)\n",
    "\n",
    "f_vals_nw, f_vals_ti, f_vals_li = F_vals\n",
    "l_vals_nw, l_vals_ti, l_vals_li = L_vals"
   ]
  },
  {
   "cell_type": "markdown",
   "id": "5cb0f7e8",
   "metadata": {},
   "source": [
    "Now we plot Lorenz curves for net wealth, total income and labor income in the\n",
    "US in 2016.\n",
    "\n",
    "Total income is the sum of households' all income sources, including labor income but excluding capital gains.\n",
    "\n",
    "(All income measures are pre-tax.)"
   ]
  },
  {
   "cell_type": "code",
   "execution_count": null,
   "id": "5a7c6955",
   "metadata": {
    "mystnb": {
     "figure": {
      "caption": "2016 US Lorenz curves",
      "name": "lorenz_us"
     },
     "image": {
      "alt": "lorenz_us"
     }
    }
   },
   "outputs": [],
   "source": [
    "fig, ax = plt.subplots()\n",
    "ax.plot(f_vals_nw[-1], l_vals_nw[-1], label=f'net wealth')\n",
    "ax.plot(f_vals_ti[-1], l_vals_ti[-1], label=f'total income')\n",
    "ax.plot(f_vals_li[-1], l_vals_li[-1], label=f'labor income')\n",
    "ax.plot(f_vals_nw[-1], f_vals_nw[-1], label=f'equality')\n",
    "ax.set_xlabel(\"share of households\")\n",
    "ax.set_ylabel(\"share of income/wealth\")\n",
    "ax.legend()\n",
    "plt.show()"
   ]
  },
  {
   "cell_type": "markdown",
   "id": "e2c688f7",
   "metadata": {},
   "source": [
    "One key finding from this figure is that wealth inequality is more extreme than income inequality. \n",
    "\n",
    "\n",
    "\n",
    "\n",
    "\n",
    "\n",
    "## The Gini coefficient\n",
    "\n",
    "The Lorenz curve provides a visual representation of inequality in a distribution.\n",
    "\n",
    "Another way to study income and wealth inequality is via the Gini coefficient.\n",
    "\n",
    "In this section we discuss the Gini coefficient and its relationship to the Lorenz curve.\n",
    "\n",
    "\n",
    "\n",
    "### Definition\n",
    "\n",
    "As before, suppose that the sample $w_1, \\ldots, w_n$ has been sorted from smallest to largest.\n",
    "\n",
    "The Gini coefficient is defined for the sample above as \n",
    "\n",
    "```{prf:definition}\n",
    ":label: define-gini\n",
    "\n",
    "$$\n",
    "G :=\n",
    "\\frac{\\sum_{i=1}^n \\sum_{j = 1}^n |w_j - w_i|}\n",
    "     {2n\\sum_{i=1}^n w_i}.\n",
    "$$\n",
    "```\n",
    "\n",
    "The Gini coefficient is closely related to the Lorenz curve.\n",
    "\n",
    "In fact, it can be shown that its value is twice the area between the line of\n",
    "equality and the Lorenz curve (e.g., the shaded area in {numref}`lorenz_gini`).\n",
    "\n",
    "The idea is that $G=0$ indicates complete equality, while $G=1$ indicates complete inequality."
   ]
  },
  {
   "cell_type": "code",
   "execution_count": null,
   "id": "e9ede5a5",
   "metadata": {
    "mystnb": {
     "figure": {
      "caption": "Gini coefficient (simulated wealth data)",
      "name": "lorenz_gini"
     }
    }
   },
   "outputs": [],
   "source": [
    "fig, ax = plt.subplots()\n",
    "f_vals, l_vals = lorenz_curve(sample)\n",
    "ax.plot(f_vals, l_vals, label=f'lognormal sample', lw=2)\n",
    "ax.plot(f_vals, f_vals, label='equality', lw=2)\n",
    "ax.fill_between(f_vals, l_vals, f_vals, alpha=0.06)\n",
    "ax.set_ylim((0, 1))\n",
    "ax.set_xlim((0, 1))\n",
    "ax.text(0.04, 0.5, r'$G = 2 \\times$ shaded area')\n",
    "ax.set_xlabel(\"share of households (%)\")\n",
    "ax.set_ylabel(\"share of wealth (%)\")\n",
    "ax.legend()\n",
    "plt.show()"
   ]
  },
  {
   "cell_type": "markdown",
   "id": "0076757e",
   "metadata": {},
   "source": [
    "In fact the Gini coefficient can also be expressed as\n",
    "\n",
    "$$\n",
    "G = \\frac{A}{A+B}\n",
    "$$\n",
    "\n",
    "where $A$ is the area between the 45-degree line of \n",
    "perfect equality and the Lorenz curve, while $B$ is the area below the Lorenze curve -- see {numref}`lorenz_gini2`."
   ]
  },
  {
   "cell_type": "code",
   "execution_count": null,
   "id": "06aab19f",
   "metadata": {
    "mystnb": {
     "figure": {
      "caption": "Lorenz curve and Gini coefficient",
      "name": "lorenz_gini2"
     }
    }
   },
   "outputs": [],
   "source": [
    "fig, ax = plt.subplots()\n",
    "f_vals, l_vals = lorenz_curve(sample)\n",
    "ax.plot(f_vals, l_vals, label='lognormal sample', lw=2)\n",
    "ax.plot(f_vals, f_vals, label='equality', lw=2)\n",
    "ax.fill_between(f_vals, l_vals, f_vals, alpha=0.06)\n",
    "ax.fill_between(f_vals, l_vals, np.zeros_like(f_vals), alpha=0.06)\n",
    "ax.set_ylim((0, 1))\n",
    "ax.set_xlim((0, 1))\n",
    "ax.text(0.55, 0.4, 'A')\n",
    "ax.text(0.75, 0.15, 'B')\n",
    "ax.set_xlabel(\"share of households\")\n",
    "ax.set_ylabel(\"share of wealth\")\n",
    "ax.legend()\n",
    "plt.show()"
   ]
  },
  {
   "cell_type": "markdown",
   "id": "2e79d514",
   "metadata": {},
   "source": [
    "```{seealso}\n",
    "The World in Data project has a [graphical exploration of the Lorenz curve and the Gini coefficient](https://ourworldindata.org/what-is-the-gini-coefficient)\n",
    "```\n",
    "\n",
    "### Gini coefficient of simulated data\n",
    "\n",
    "Let's examine the Gini coefficient in some simulations.\n",
    "\n",
    "The code below computes the Gini coefficient from a sample.\n",
    "\n",
    "(code:gini-coefficient)="
   ]
  },
  {
   "cell_type": "code",
   "execution_count": null,
   "id": "f65cb2b4",
   "metadata": {},
   "outputs": [],
   "source": [
    "def gini_coefficient(y):\n",
    "    r\"\"\"\n",
    "    Implements the Gini inequality index\n",
    "\n",
    "    Parameters\n",
    "    ----------\n",
    "    y : array_like(float)\n",
    "        Array of income/wealth for each individual.\n",
    "        Ordered or unordered is fine\n",
    "\n",
    "    Returns\n",
    "    -------\n",
    "    Gini index: float\n",
    "        The gini index describing the inequality of the array of income/wealth\n",
    "\n",
    "    References\n",
    "    ----------\n",
    "\n",
    "    https://en.wikipedia.org/wiki/Gini_coefficient\n",
    "    \"\"\"\n",
    "    n = len(y)\n",
    "    i_sum = np.zeros(n)\n",
    "    for i in range(n):\n",
    "        for j in range(n):\n",
    "            i_sum[i] += abs(y[i] - y[j])\n",
    "    return np.sum(i_sum) / (2 * n * np.sum(y))"
   ]
  },
  {
   "cell_type": "markdown",
   "id": "a7427ab8",
   "metadata": {},
   "source": [
    "Now we can compute the Gini coefficients for five different populations.\n",
    "\n",
    "Each of these populations is generated by drawing from a \n",
    "lognormal distribution with parameters $\\mu$ (mean) and $\\sigma$ (standard deviation).\n",
    "\n",
    "To create the five populations, we vary $\\sigma$ over a grid of length $5$\n",
    "between $0.2$ and $4$.\n",
    "\n",
    "In each case we set $\\mu = - \\sigma^2 / 2$.\n",
    "\n",
    "This implies that the mean of the distribution does not change with $\\sigma$. \n",
    "\n",
    "You can check this by looking up the expression for the mean of a lognormal\n",
    "distribution."
   ]
  },
  {
   "cell_type": "code",
   "execution_count": null,
   "id": "9e58201d",
   "metadata": {},
   "outputs": [],
   "source": [
    "%%time\n",
    "k = 5\n",
    "σ_vals = np.linspace(0.2, 4, k)\n",
    "n = 2_000\n",
    "\n",
    "ginis = []\n",
    "\n",
    "for σ in σ_vals:\n",
    "    μ = -σ**2 / 2\n",
    "    y = np.exp(μ + σ * np.random.randn(n))\n",
    "    ginis.append(gini_coefficient(y))"
   ]
  },
  {
   "cell_type": "markdown",
   "id": "bcf271a5",
   "metadata": {},
   "source": [
    "Let's build a function that returns a figure (so that we can use it later in the lecture)."
   ]
  },
  {
   "cell_type": "code",
   "execution_count": null,
   "id": "028bf221",
   "metadata": {},
   "outputs": [],
   "source": [
    "def plot_inequality_measures(x, y, legend, xlabel, ylabel):\n",
    "    fig, ax = plt.subplots()\n",
    "    ax.plot(x, y, marker='o', label=legend)\n",
    "    ax.set_xlabel(xlabel)\n",
    "    ax.set_ylabel(ylabel)\n",
    "    ax.legend()\n",
    "    return fig, ax"
   ]
  },
  {
   "cell_type": "code",
   "execution_count": null,
   "id": "ffcb9d50",
   "metadata": {
    "mystnb": {
     "figure": {
      "caption": "Gini coefficients of simulated data",
      "name": "gini_simulated"
     }
    }
   },
   "outputs": [],
   "source": [
    "fix, ax = plot_inequality_measures(σ_vals, \n",
    "                                  ginis, \n",
    "                                  'simulated', \n",
    "                                  '$\\sigma$', \n",
    "                                  'Gini coefficients')\n",
    "plt.show()"
   ]
  },
  {
   "cell_type": "markdown",
   "id": "9d5ae47c",
   "metadata": {},
   "source": [
    "The plots show that inequality rises with $\\sigma$, according to the Gini\n",
    "coefficient.\n",
    "\n",
    "### Gini coefficient for income (US data)\n",
    "\n",
    "Let's look at the Gini coefficient for the distribution of income in the US.\n",
    "\n",
    "We will get pre-computed Gini coefficients (based on income) from the World Bank using the [wbgapi](https://blogs.worldbank.org/opendata/introducing-wbgapi-new-python-package-accessing-world-bank-data).\n",
    "\n",
    "Let's use the `wbgapi` package we imported earlier to search the world bank data for Gini to find the Series ID."
   ]
  },
  {
   "cell_type": "code",
   "execution_count": null,
   "id": "23ef680a",
   "metadata": {},
   "outputs": [],
   "source": [
    "wb.search(\"gini\")"
   ]
  },
  {
   "cell_type": "markdown",
   "id": "d9a96aaf",
   "metadata": {},
   "source": [
    "We now know the series ID is `SI.POV.GINI`.\n",
    "\n",
    "(Another way to find the series ID is to use the [World Bank data portal](https://data.worldbank.org) and then use `wbgapi` to fetch the data.)\n",
    "\n",
    "To get a quick overview, let's histogram Gini coefficients across all countries and all years in the World Bank dataset."
   ]
  },
  {
   "cell_type": "code",
   "execution_count": null,
   "id": "ff45a239",
   "metadata": {
    "mystnb": {
     "figure": {
      "caption": "Histogram of Gini coefficients across countries",
      "name": "gini_histogram"
     }
    }
   },
   "outputs": [],
   "source": [
    "# Fetch gini data for all countries\n",
    "gini_all = wb.data.DataFrame(\"SI.POV.GINI\")\n",
    "# remove 'YR' in index and convert to integer\n",
    "gini_all.columns = gini_all.columns.map(lambda x: int(x.replace('YR',''))) \n",
    "\n",
    "# Create a long series with a multi-index of the data to get global min and max values\n",
    "gini_all = gini_all.unstack(level='economy').dropna()\n",
    "\n",
    "# Build a histogram\n",
    "ax = gini_all.plot(kind=\"hist\", bins=20)\n",
    "ax.set_xlabel(\"Gini coefficient\")\n",
    "ax.set_ylabel(\"frequency\")\n",
    "plt.show()"
   ]
  },
  {
   "cell_type": "markdown",
   "id": "bee29907",
   "metadata": {},
   "source": [
    "We can see in {numref}`gini_histogram` that across 50 years of data and all countries the measure varies between 20 and 65.\n",
    "\n",
    "Let us fetch the data `DataFrame` for the USA."
   ]
  },
  {
   "cell_type": "code",
   "execution_count": null,
   "id": "465c85fb",
   "metadata": {},
   "outputs": [],
   "source": [
    "data = wb.data.DataFrame(\"SI.POV.GINI\", \"USA\")\n",
    "data.head(n=5)\n",
    "# remove 'YR' in index and convert to integer\n",
    "data.columns = data.columns.map(lambda x: int(x.replace('YR','')))"
   ]
  },
  {
   "cell_type": "markdown",
   "id": "4e79f739",
   "metadata": {},
   "source": [
    "(This package often returns data with year information contained in the columns. This is not always convenient for simple plotting with pandas so it can be useful to transpose the results before plotting.)"
   ]
  },
  {
   "cell_type": "code",
   "execution_count": null,
   "id": "9994f965",
   "metadata": {},
   "outputs": [],
   "source": [
    "data = data.T           # Obtain years as rows\n",
    "data_usa = data['USA']  # pd.Series of US data"
   ]
  },
  {
   "cell_type": "markdown",
   "id": "f34b737c",
   "metadata": {},
   "source": [
    "Let us take a look at the data for the US."
   ]
  },
  {
   "cell_type": "code",
   "execution_count": null,
   "id": "16835db7",
   "metadata": {
    "mystnb": {
     "figure": {
      "caption": "Gini coefficients for income distribution (USA)",
      "name": "gini_usa1"
     }
    }
   },
   "outputs": [],
   "source": [
    "fig, ax = plt.subplots()\n",
    "ax = data_usa.plot(ax=ax)\n",
    "ax.set_ylim(data_usa.min()-1, data_usa.max()+1)\n",
    "ax.set_ylabel(\"Gini coefficient (income)\")\n",
    "ax.set_xlabel(\"year\")\n",
    "plt.show()"
   ]
  },
  {
   "cell_type": "markdown",
   "id": "d15b0539",
   "metadata": {},
   "source": [
    "As can be seen in {numref}`gini_usa1`, the income Gini\n",
    "trended upward from 1980 to 2020 and then dropped following at the start of the COVID pandemic.\n",
    "\n",
    "(compare-income-wealth-usa-over-time)=\n",
    "### Gini coefficient for wealth\n",
    "\n",
    "In the previous section we looked at the Gini coefficient for income, focusing on using US data.\n",
    "\n",
    "Now let's look at the Gini coefficient for the distribution of wealth.\n",
    "\n",
    "We will use US data from the {ref}`Survey of Consumer Finances<data:survey-consumer-finance>`"
   ]
  },
  {
   "cell_type": "code",
   "execution_count": null,
   "id": "650e1c5d",
   "metadata": {},
   "outputs": [],
   "source": [
    "df_income_wealth.year.describe()"
   ]
  },
  {
   "cell_type": "markdown",
   "id": "ce8a9422",
   "metadata": {},
   "source": [
    "[This notebook](https://github.com/QuantEcon/lecture-python-intro/tree/main/lectures/_static/lecture_specific/inequality/data.ipynb) can be used to compute this information over the full dataset."
   ]
  },
  {
   "cell_type": "code",
   "execution_count": null,
   "id": "9f39f6d8",
   "metadata": {},
   "outputs": [],
   "source": [
    "data_url = 'https://github.com/QuantEcon/lecture-python-intro/raw/main/lectures/_static/lecture_specific/inequality/usa-gini-nwealth-tincome-lincome.csv'\n",
    "ginis = pd.read_csv(data_url, index_col='year')\n",
    "ginis.head(n=5)"
   ]
  },
  {
   "cell_type": "markdown",
   "id": "1adad549",
   "metadata": {},
   "source": [
    "Let's plot the Gini coefficients for net wealth."
   ]
  },
  {
   "cell_type": "code",
   "execution_count": null,
   "id": "82875b77",
   "metadata": {
    "mystnb": {
     "figure": {
      "caption": "Gini coefficients of US net wealth",
      "name": "gini_wealth_us"
     }
    }
   },
   "outputs": [],
   "source": [
    "fig, ax = plt.subplots()\n",
    "ax.plot(years, ginis[\"n_wealth\"], marker='o')\n",
    "ax.set_xlabel(\"year\")\n",
    "ax.set_ylabel(\"Gini coefficient\")\n",
    "plt.show()"
   ]
  },
  {
   "cell_type": "markdown",
   "id": "b7b8f45d",
   "metadata": {},
   "source": [
    "The time series for the wealth Gini exhibits a U-shape, falling until the early\n",
    "1980s and then increasing rapidly.\n",
    "\n",
    "One possibility is that this change is mainly driven by technology.\n",
    "\n",
    "However, we will see below that not all advanced economies experienced similar growth of inequality.\n",
    "\n",
    "### Cross-country comparisons of income inequality\n",
    "\n",
    "Earlier in this lecture we used `wbgapi` to get Gini data across many countries\n",
    "and saved it in a variable called `gini_all`\n",
    "\n",
    "In this section we will use this data to compare several advanced economies, and\n",
    "to look at the evolution in their respective income Ginis."
   ]
  },
  {
   "cell_type": "code",
   "execution_count": null,
   "id": "38b48155",
   "metadata": {},
   "outputs": [],
   "source": [
    "data = gini_all.unstack()\n",
    "data.columns"
   ]
  },
  {
   "cell_type": "markdown",
   "id": "6902153e",
   "metadata": {},
   "source": [
    "There are 167 countries represented in this dataset. \n",
    "\n",
    "Let us compare three advanced economies: the US, the UK, and Norway"
   ]
  },
  {
   "cell_type": "code",
   "execution_count": null,
   "id": "5d836102",
   "metadata": {
    "mystnb": {
     "figure": {
      "caption": "Gini coefficients for income (USA, United Kingdom, and Norway)",
      "name": "gini_usa_gbr_nor1"
     }
    }
   },
   "outputs": [],
   "source": [
    "ax = data[['USA','GBR', 'NOR']].plot()\n",
    "ax.set_xlabel('year')\n",
    "ax.set_ylabel('Gini coefficient')\n",
    "ax.legend(title=\"\")\n",
    "plt.show()"
   ]
  },
  {
   "cell_type": "markdown",
   "id": "f6048a1b",
   "metadata": {},
   "source": [
    "We see that Norway has a shorter time series.\n",
    "\n",
    "Let us take a closer look at the underlying data and see if we can rectify this."
   ]
  },
  {
   "cell_type": "code",
   "execution_count": null,
   "id": "61a62a1b",
   "metadata": {},
   "outputs": [],
   "source": [
    "data[['NOR']].dropna().head(n=5)"
   ]
  },
  {
   "cell_type": "markdown",
   "id": "7d62813c",
   "metadata": {},
   "source": [
    "The data for Norway in this dataset goes back to 1979 but there are gaps in the time series and matplotlib is not showing those data points. \n",
    "\n",
    "We can use the `.ffill()` method to copy and bring forward the last known value in a series to fill in these gaps"
   ]
  },
  {
   "cell_type": "code",
   "execution_count": null,
   "id": "d957663c",
   "metadata": {
    "mystnb": {
     "figure": {
      "caption": "Gini coefficients for income (USA, United Kingdom, and Norway)",
      "name": "gini_usa_gbr_nor2"
     }
    }
   },
   "outputs": [],
   "source": [
    "data['NOR'] = data['NOR'].ffill()\n",
    "ax = data[['USA','GBR', 'NOR']].plot()\n",
    "ax.set_xlabel('year')\n",
    "ax.set_ylabel('Gini coefficient')\n",
    "ax.legend(title=\"\")\n",
    "plt.show()"
   ]
  },
  {
   "cell_type": "markdown",
   "id": "61e4f0cc",
   "metadata": {},
   "source": [
    "From this plot we can observe that the US has a higher Gini coefficient (i.e.\n",
    "higher income inequality) when compared to the UK and Norway. \n",
    "\n",
    "Norway has the lowest Gini coefficient over the three economies and, moreover,\n",
    "the Gini coefficient shows no upward trend.\n",
    "\n",
    "\n",
    "\n",
    "### Gini Coefficient and GDP per capita (over time)\n",
    "\n",
    "We can also look at how the Gini coefficient compares with GDP per capita (over time). \n",
    "\n",
    "Let's take another look at the US, Norway, and the UK."
   ]
  },
  {
   "cell_type": "code",
   "execution_count": null,
   "id": "8068d843",
   "metadata": {},
   "outputs": [],
   "source": [
    "countries = ['USA', 'NOR', 'GBR']\n",
    "gdppc = wb.data.DataFrame(\"NY.GDP.PCAP.KD\", countries)\n",
    "# remove 'YR' in index and convert to integer\n",
    "gdppc.columns = gdppc.columns.map(lambda x: int(x.replace('YR',''))) \n",
    "gdppc = gdppc.T"
   ]
  },
  {
   "cell_type": "markdown",
   "id": "75a910f1",
   "metadata": {},
   "source": [
    "We can rearrange the data so that we can plot GDP per capita and the Gini coefficient across years"
   ]
  },
  {
   "cell_type": "code",
   "execution_count": null,
   "id": "a6e9e8aa",
   "metadata": {},
   "outputs": [],
   "source": [
    "plot_data = pd.DataFrame(data[countries].unstack())\n",
    "plot_data.index.names = ['country', 'year']\n",
    "plot_data.columns = ['gini']"
   ]
  },
  {
   "cell_type": "markdown",
   "id": "8b92cae8",
   "metadata": {},
   "source": [
    "Now we can get the GDP per capita data into a shape that can be merged with `plot_data`"
   ]
  },
  {
   "cell_type": "code",
   "execution_count": null,
   "id": "a3dd77ec",
   "metadata": {},
   "outputs": [],
   "source": [
    "pgdppc = pd.DataFrame(gdppc.unstack())\n",
    "pgdppc.index.names = ['country', 'year']\n",
    "pgdppc.columns = ['gdppc']\n",
    "plot_data = plot_data.merge(pgdppc, left_index=True, right_index=True)\n",
    "plot_data.reset_index(inplace=True)"
   ]
  },
  {
   "cell_type": "markdown",
   "id": "b8dde225",
   "metadata": {},
   "source": [
    "Now we use Plotly to build a plot with GDP per capita on the y-axis and the Gini coefficient on the x-axis."
   ]
  },
  {
   "cell_type": "code",
   "execution_count": null,
   "id": "fc6db097",
   "metadata": {},
   "outputs": [],
   "source": [
    "min_year = plot_data.year.min()\n",
    "max_year = plot_data.year.max()"
   ]
  },
  {
   "cell_type": "markdown",
   "id": "00d194b1",
   "metadata": {},
   "source": [
    "The time series for all three countries start and stop in different years. We will add a year mask to the data to\n",
    "improve clarity in the chart including the different end years associated with each countries time series."
   ]
  },
  {
   "cell_type": "code",
   "execution_count": null,
   "id": "609d076f",
   "metadata": {},
   "outputs": [],
   "source": [
    "labels = [1979, 1986, 1991, 1995, 2000, 2020, 2021, 2022] + \\\n",
    "         list(range(min_year,max_year,5))\n",
    "plot_data.year = plot_data.year.map(lambda x: x if x in labels else None)"
   ]
  },
  {
   "cell_type": "markdown",
   "id": "8ca209ff",
   "metadata": {},
   "source": [
    "(fig:plotly-gini-gdppc-years)="
   ]
  },
  {
   "cell_type": "code",
   "execution_count": null,
   "id": "330e6884",
   "metadata": {},
   "outputs": [],
   "source": [
    "fig = px.line(plot_data, \n",
    "              x = \"gini\", \n",
    "              y = \"gdppc\", \n",
    "              color = \"country\", \n",
    "              text = \"year\", \n",
    "              height = 800,\n",
    "              labels = {\"gini\" : \"Gini coefficient\", \"gdppc\" : \"GDP per capita\"}\n",
    "             )\n",
    "fig.update_traces(textposition=\"bottom right\")\n",
    "fig.show()"
   ]
  },
  {
   "cell_type": "markdown",
   "id": "73144173",
   "metadata": {},
   "source": [
    "```{only} latex\n",
    "This figure is built using `plotly` and is {ref}` available on the website <fig:plotly-gini-gdppc-years>`\n",
    "```\n",
    "\n",
    "This plot shows that all three Western economies GDP per capita has grown over\n",
    "time with some fluctuations in the Gini coefficient. \n",
    "\n",
    "From the early 80's the United Kingdom and the US economies both saw increases\n",
    "in income inequality. \n",
    "\n",
    "Interestingly, since the year 2000, the United Kingdom saw a decline in income inequality while\n",
    "the US exhibits persistent but stable levels around a Gini coefficient of 40. \n",
    "\n",
    "\n",
    "## Top shares\n",
    "\n",
    "Another popular measure of inequality is the top shares.\n",
    "\n",
    "In this section we show how to compute top shares.\n",
    "\n",
    "\n",
    "### Definition\n",
    "\n",
    "As before, suppose that the sample $w_1, \\ldots, w_n$ has been sorted from smallest to largest.\n",
    "\n",
    "Given the Lorenz curve $y = L(x)$ defined above, the top $100 \\times p \\%$\n",
    "share is defined as\n",
    "\n",
    "```{prf:definition}\n",
    ":label: top-shares\n",
    "\n",
    "$$\n",
    "T(p) = 1 - L (1-p) \n",
    "    \\approx \\frac{\\sum_{j\\geq i} w_j}{ \\sum_{j \\leq n} w_j}, \\quad i = \\lfloor n (1-p)\\rfloor\n",
    "$$ (topshares)\n",
    "```\n",
    "\n",
    "Here $\\lfloor \\cdot \\rfloor$ is the floor function, which rounds any\n",
    "number down to the integer less than or equal to that number.\n",
    "\n",
    "The following code uses the data from dataframe `df_income_wealth` to generate another dataframe `df_topshares`.\n",
    "\n",
    "`df_topshares` stores the top 10 percent shares for the total income, the labor income and net wealth from 1950 to 2016 in US."
   ]
  },
  {
   "cell_type": "code",
   "execution_count": null,
   "id": "2df2305c",
   "metadata": {
    "tags": [
     "hide-input"
    ]
   },
   "outputs": [],
   "source": [
    "# transfer the survey weights from absolute into relative values\n",
    "df1 = df_income_wealth\n",
    "df2 = df1.groupby('year').sum(numeric_only=True).reset_index()\n",
    "df3 = df2[['year', 'weights']]\n",
    "df3.columns = 'year', 'r_weights'\n",
    "df4 = pd.merge(df3, df1, how=\"left\", on=[\"year\"])\n",
    "df4['r_weights'] = df4['weights'] / df4['r_weights']\n",
    "\n",
    "# create weighted nw, ti, li\n",
    "df4['weighted_n_wealth'] = df4['n_wealth'] * df4['r_weights']\n",
    "df4['weighted_t_income'] = df4['t_income'] * df4['r_weights']\n",
    "df4['weighted_l_income'] = df4['l_income'] * df4['r_weights']\n",
    "\n",
    "# extract two top 10% groups by net wealth and total income.\n",
    "df6 = df4[df4['nw_groups'] == 'Top 10%']\n",
    "df7 = df4[df4['ti_groups'] == 'Top 10%']\n",
    "\n",
    "# calculate the sum of weighted top 10% by net wealth,\n",
    "#   total income and labor income.\n",
    "df5 = df4.groupby('year').sum(numeric_only=True).reset_index()\n",
    "df8 = df6.groupby('year').sum(numeric_only=True).reset_index()\n",
    "df9 = df7.groupby('year').sum(numeric_only=True).reset_index()\n",
    "\n",
    "df5['weighted_n_wealth_top10'] = df8['weighted_n_wealth']\n",
    "df5['weighted_t_income_top10'] = df9['weighted_t_income']\n",
    "df5['weighted_l_income_top10'] = df9['weighted_l_income']\n",
    "\n",
    "# calculate the top 10% shares of the three variables.\n",
    "df5['topshare_n_wealth'] = df5['weighted_n_wealth_top10'] / \\\n",
    "    df5['weighted_n_wealth']\n",
    "df5['topshare_t_income'] = df5['weighted_t_income_top10'] / \\\n",
    "    df5['weighted_t_income']\n",
    "df5['topshare_l_income'] = df5['weighted_l_income_top10'] / \\\n",
    "    df5['weighted_l_income']\n",
    "\n",
    "# we only need these vars for top 10 percent shares\n",
    "df_topshares = df5[['year', 'topshare_n_wealth',\n",
    "                    'topshare_t_income', 'topshare_l_income']]"
   ]
  },
  {
   "cell_type": "markdown",
   "id": "b7b849c4",
   "metadata": {},
   "source": [
    "Then let's plot the top shares."
   ]
  },
  {
   "cell_type": "code",
   "execution_count": null,
   "id": "805f6727",
   "metadata": {
    "mystnb": {
     "figure": {
      "caption": "US top shares",
      "name": "top_shares_us"
     }
    }
   },
   "outputs": [],
   "source": [
    "fig, ax = plt.subplots()\n",
    "ax.plot(years, df_topshares[\"topshare_l_income\"],\n",
    "        marker='o', label=\"labor income\")\n",
    "ax.plot(years, df_topshares[\"topshare_n_wealth\"],\n",
    "        marker='o', label=\"net wealth\")\n",
    "ax.plot(years, df_topshares[\"topshare_t_income\"],\n",
    "        marker='o', label=\"total income\")\n",
    "ax.set_xlabel(\"year\")\n",
    "ax.set_ylabel(\"top $10\\%$ share\")\n",
    "ax.legend()\n",
    "plt.show()"
   ]
  },
  {
   "cell_type": "markdown",
   "id": "a78b1d1b",
   "metadata": {},
   "source": [
    "## Exercises\n",
    "\n",
    "```{exercise}\n",
    ":label: inequality_ex1\n",
    "\n",
    "Using simulation, compute the top 10 percent shares for the collection of\n",
    "lognormal distributions associated with the random variables $w_\\sigma =\n",
    "\\exp(\\mu + \\sigma Z)$, where $Z \\sim N(0, 1)$ and $\\sigma$ varies over a\n",
    "finite grid between $0.2$ and $4$.  \n",
    "\n",
    "As $\\sigma$ increases, so does the variance of $w_\\sigma$.  \n",
    "\n",
    "To focus on volatility, adjust $\\mu$ at each step to maintain the equality\n",
    "$\\mu=-\\sigma^2/2$.\n",
    "\n",
    "For each $\\sigma$, generate 2,000 independent draws of $w_\\sigma$ and\n",
    "calculate the Lorenz curve and Gini coefficient.  \n",
    "\n",
    "Confirm that higher variance\n",
    "generates more dispersion in the sample, and hence greater inequality.\n",
    "```\n",
    "\n",
    "```{solution-start} inequality_ex1\n",
    ":class: dropdown\n",
    "```\n",
    "\n",
    "Here is one solution:"
   ]
  },
  {
   "cell_type": "code",
   "execution_count": null,
   "id": "5b3377ba",
   "metadata": {},
   "outputs": [],
   "source": [
    "def calculate_top_share(s, p=0.1):\n",
    "    \n",
    "    s = np.sort(s)\n",
    "    n = len(s)\n",
    "    index = int(n * (1 - p))\n",
    "    return s[index:].sum() / s.sum()"
   ]
  },
  {
   "cell_type": "code",
   "execution_count": null,
   "id": "99de5574",
   "metadata": {},
   "outputs": [],
   "source": [
    "k = 5\n",
    "σ_vals = np.linspace(0.2, 4, k)\n",
    "n = 2_000\n",
    "\n",
    "topshares = []\n",
    "ginis = []\n",
    "f_vals = []\n",
    "l_vals = []\n",
    "\n",
    "for σ in σ_vals:\n",
    "    μ = -σ ** 2 / 2\n",
    "    y = np.exp(μ + σ * np.random.randn(n))\n",
    "    f_val, l_val = lorenz_curve(y)\n",
    "    f_vals.append(f_val)\n",
    "    l_vals.append(l_val)\n",
    "    ginis.append(gini_coefficient(y))\n",
    "    topshares.append(calculate_top_share(y))"
   ]
  },
  {
   "cell_type": "code",
   "execution_count": null,
   "id": "8fb5bad2",
   "metadata": {
    "mystnb": {
     "figure": {
      "caption": "Top shares of simulated data",
      "name": "top_shares_simulated"
     },
     "image": {
      "alt": "top_shares_simulated"
     }
    }
   },
   "outputs": [],
   "source": [
    "fig, ax = plot_inequality_measures(σ_vals, \n",
    "                                  topshares, \n",
    "                                  \"simulated data\", \n",
    "                                  \"$\\sigma$\", \n",
    "                                  \"top $10\\%$ share\") \n",
    "plt.show()"
   ]
  },
  {
   "cell_type": "code",
   "execution_count": null,
   "id": "0551d2d0",
   "metadata": {
    "mystnb": {
     "figure": {
      "caption": "Gini coefficients of simulated data",
      "name": "gini_coef_simulated"
     },
     "image": {
      "alt": "gini_coef_simulated"
     }
    }
   },
   "outputs": [],
   "source": [
    "fig, ax = plot_inequality_measures(σ_vals, \n",
    "                                  ginis, \n",
    "                                  \"simulated data\", \n",
    "                                  \"$\\sigma$\", \n",
    "                                  \"gini coefficient\")\n",
    "plt.show()"
   ]
  },
  {
   "cell_type": "code",
   "execution_count": null,
   "id": "61a2f47e",
   "metadata": {
    "mystnb": {
     "figure": {
      "caption": "Lorenz curves for simulated data",
      "name": "lorenz_curve_simulated"
     },
     "image": {
      "alt": "lorenz_curve_simulated"
     }
    }
   },
   "outputs": [],
   "source": [
    "fig, ax = plt.subplots()\n",
    "ax.plot([0,1],[0,1], label=f\"equality\")\n",
    "for i in range(len(f_vals)):\n",
    "    ax.plot(f_vals[i], l_vals[i], label=f\"$\\sigma$ = {σ_vals[i]}\")\n",
    "plt.legend()\n",
    "plt.show()"
   ]
  },
  {
   "cell_type": "markdown",
   "id": "e318e100",
   "metadata": {},
   "source": [
    "```{solution-end}\n",
    "```\n",
    "\n",
    "\n",
    "```{exercise}\n",
    ":label: inequality_ex2\n",
    "\n",
    "According to the definition of the top shares {eq}`topshares` we can also calculate the top percentile shares using the Lorenz curve.\n",
    "\n",
    "Compute the top shares of US net wealth using the corresponding Lorenz curves data: ``f_vals_nw, l_vals_nw`` and linear interpolation.\n",
    "\n",
    "Plot the top shares generated from Lorenz curve and the top shares approximated from data together.\n",
    "\n",
    "```\n",
    "\n",
    "```{solution-start} inequality_ex2\n",
    ":class: dropdown\n",
    "```\n",
    "\n",
    "Here is one solution:"
   ]
  },
  {
   "cell_type": "code",
   "execution_count": null,
   "id": "02f27262",
   "metadata": {},
   "outputs": [],
   "source": [
    "def lorenz2top(f_val, l_val, p=0.1):\n",
    "    t = lambda x: np.interp(x, f_val, l_val)\n",
    "    return 1- t(1 - p)"
   ]
  },
  {
   "cell_type": "code",
   "execution_count": null,
   "id": "74ca3fc3",
   "metadata": {},
   "outputs": [],
   "source": [
    "top_shares_nw = []\n",
    "for f_val, l_val in zip(f_vals_nw, l_vals_nw):\n",
    "    top_shares_nw.append(lorenz2top(f_val, l_val))"
   ]
  },
  {
   "cell_type": "code",
   "execution_count": null,
   "id": "1393bbda",
   "metadata": {
    "mystnb": {
     "figure": {
      "caption": "US top shares: approximation vs Lorenz",
      "name": "top_shares_us_al"
     },
     "image": {
      "alt": "top_shares_us_al"
     }
    }
   },
   "outputs": [],
   "source": [
    "fig, ax = plt.subplots()\n",
    "\n",
    "ax.plot(years, df_topshares[\"topshare_n_wealth\"], marker='o',\\\n",
    "   label=\"net wealth-approx\")\n",
    "ax.plot(years, top_shares_nw, marker='o', label=\"net wealth-lorenz\")\n",
    "\n",
    "ax.set_xlabel(\"year\")\n",
    "ax.set_ylabel(\"top $10\\%$ share\")\n",
    "ax.legend()\n",
    "plt.show()"
   ]
  },
  {
   "cell_type": "markdown",
   "id": "60a106df",
   "metadata": {},
   "source": [
    "```{solution-end}\n",
    "```\n",
    "\n",
    "```{exercise}\n",
    ":label: inequality_ex3\n",
    "\n",
    "The {ref}`code to compute the Gini coefficient is listed in the lecture above <code:gini-coefficient>`.\n",
    "\n",
    "This code uses loops to calculate the coefficient based on income or wealth data.\n",
    "\n",
    "This function can be re-written using vectorization which will greatly improve the computational efficiency when using `python`.\n",
    "\n",
    "Re-write the function `gini_coefficient` using `numpy` and vectorized code.\n",
    "\n",
    "You can compare the output of this new function with the one above, and note the speed differences. \n",
    "```\n",
    "\n",
    "```{solution-start} inequality_ex3\n",
    ":class: dropdown\n",
    "```\n",
    "\n",
    "Let's take a look at some raw data for the US that is stored in `df_income_wealth`"
   ]
  },
  {
   "cell_type": "code",
   "execution_count": null,
   "id": "e8d64c77",
   "metadata": {},
   "outputs": [],
   "source": [
    "df_income_wealth.describe()"
   ]
  },
  {
   "cell_type": "code",
   "execution_count": null,
   "id": "cf9550f2",
   "metadata": {},
   "outputs": [],
   "source": [
    "df_income_wealth.head(n=4)"
   ]
  },
  {
   "cell_type": "markdown",
   "id": "ea649fba",
   "metadata": {},
   "source": [
    "We will focus on wealth variable `n_wealth` to compute a Gini coefficient for the year 2016."
   ]
  },
  {
   "cell_type": "code",
   "execution_count": null,
   "id": "b19f1b21",
   "metadata": {},
   "outputs": [],
   "source": [
    "data = df_income_wealth[df_income_wealth.year == 2016].sample(3000, random_state=1)"
   ]
  },
  {
   "cell_type": "code",
   "execution_count": null,
   "id": "f1638c47",
   "metadata": {},
   "outputs": [],
   "source": [
    "data.head(n=2)"
   ]
  },
  {
   "cell_type": "markdown",
   "id": "95e2d881",
   "metadata": {},
   "source": [
    "We can first compute the Gini coefficient using the function defined in the lecture above."
   ]
  },
  {
   "cell_type": "code",
   "execution_count": null,
   "id": "65f2172c",
   "metadata": {},
   "outputs": [],
   "source": [
    "gini_coefficient(data.n_wealth.values)"
   ]
  },
  {
   "cell_type": "markdown",
   "id": "4ba9b0cf",
   "metadata": {},
   "source": [
    "Now we can write a vectorized version using `numpy`"
   ]
  },
  {
   "cell_type": "code",
   "execution_count": null,
   "id": "94734d71",
   "metadata": {},
   "outputs": [],
   "source": [
    "def gini(y):\n",
    "    n = len(y)\n",
    "    y_1 = np.reshape(y, (n, 1))\n",
    "    y_2 = np.reshape(y, (1, n))\n",
    "    g_sum = np.sum(np.abs(y_1 - y_2))\n",
    "    return g_sum / (2 * n * np.sum(y))"
   ]
  },
  {
   "cell_type": "code",
   "execution_count": null,
   "id": "14d8fa25",
   "metadata": {},
   "outputs": [],
   "source": [
    "gini(data.n_wealth.values)"
   ]
  },
  {
   "cell_type": "markdown",
   "id": "09cfd1f4",
   "metadata": {},
   "source": [
    "Let's simulate five populations by drawing from a lognormal distribution as before"
   ]
  },
  {
   "cell_type": "code",
   "execution_count": null,
   "id": "8fdedbc5",
   "metadata": {},
   "outputs": [],
   "source": [
    "k = 5\n",
    "σ_vals = np.linspace(0.2, 4, k)\n",
    "n = 2_000\n",
    "σ_vals = σ_vals.reshape((k,1))\n",
    "μ_vals = -σ_vals**2/2\n",
    "y_vals = np.exp(μ_vals + σ_vals*np.random.randn(n))"
   ]
  },
  {
   "cell_type": "markdown",
   "id": "830a10c3",
   "metadata": {},
   "source": [
    "We can compute the Gini coefficient for these five populations using the vectorized function, the computation time is shown below:"
   ]
  },
  {
   "cell_type": "code",
   "execution_count": null,
   "id": "a1202a6c",
   "metadata": {},
   "outputs": [],
   "source": [
    "%%time\n",
    "gini_coefficients =[]\n",
    "for i in range(k):\n",
    "     gini_coefficients.append(gini(y_vals[i]))"
   ]
  },
  {
   "cell_type": "markdown",
   "id": "0ce69a63",
   "metadata": {},
   "source": [
    "This shows the vectorized function is much faster.\n",
    "This gives us the Gini coefficients for these five households."
   ]
  },
  {
   "cell_type": "code",
   "execution_count": null,
   "id": "55b2e91e",
   "metadata": {},
   "outputs": [],
   "source": [
    "gini_coefficients"
   ]
  },
  {
   "cell_type": "markdown",
   "id": "c4f564ea",
   "metadata": {},
   "source": [
    "```{solution-end}\n",
    "```"
   ]
  }
 ],
 "metadata": {
  "jupytext": {
   "text_representation": {
    "extension": ".md",
    "format_name": "myst",
    "format_version": 0.13,
    "jupytext_version": "1.15.1"
   }
  },
  "kernelspec": {
   "display_name": "Python 3 (ipykernel)",
   "language": "python",
   "name": "python3"
  },
  "source_map": [
   12,
   77,
   81,
   85,
   92,
   154,
   199,
   212,
   236,
   249,
   255,
   257,
   264,
   303,
   312,
   330,
   373,
   392,
   403,
   424,
   440,
   468,
   485,
   497,
   501,
   511,
   524,
   537,
   539,
   547,
   567,
   573,
   578,
   583,
   586,
   590,
   603,
   618,
   620,
   624,
   628,
   632,
   644,
   661,
   664,
   670,
   682,
   688,
   690,
   696,
   709,
   725,
   731,
   735,
   739,
   743,
   749,
   753,
   756,
   761,
   765,
   769,
   780,
   826,
   867,
   871,
   889,
   919,
   928,
   948,
   965,
   982,
   997,
   1020,
   1026,
   1032,
   1051,
   1076,
   1080,
   1082,
   1086,
   1090,
   1092,
   1096,
   1098,
   1102,
   1110,
   1112,
   1115,
   1122,
   1125,
   1130,
   1134,
   1136
  ]
 },
 "nbformat": 4,
 "nbformat_minor": 5
}