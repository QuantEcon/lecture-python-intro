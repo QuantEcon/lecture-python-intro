{
 "cells": [
  {
   "cell_type": "markdown",
   "id": "53d18635",
   "metadata": {
    "user_expressions": []
   },
   "source": [
    "# Distributions and Probabilities\n",
    "\n",
    "```{index} single: Distributions and Probabilities\n",
    "```\n",
    "\n",
    "```{contents} Contents\n",
    ":depth: 2\n",
    "```\n",
    "\n",
    "## Outline\n",
    "\n",
    "In this lecture we give a quick introduction to data and probability distributions using Python"
   ]
  },
  {
   "cell_type": "code",
   "execution_count": null,
   "id": "33da03a0",
   "metadata": {},
   "outputs": [],
   "source": [
    "!pip install --upgrade yfinance  "
   ]
  },
  {
   "cell_type": "code",
   "execution_count": null,
   "id": "c61c9b30",
   "metadata": {},
   "outputs": [],
   "source": [
    "import matplotlib.pyplot as plt\n",
    "import pandas as pd\n",
    "import numpy as np\n",
    "import yfinance as yf\n",
    "import scipy.stats\n",
    "import seaborn as sns"
   ]
  },
  {
   "cell_type": "markdown",
   "id": "9de382fb",
   "metadata": {
    "user_expressions": []
   },
   "source": [
    "## Common distributions\n",
    "\n",
    "In this section we recall the definitions of some well-known distributions and show how to manipulate them with SciPy.\n",
    "\n",
    "### Discrete distributions\n",
    "\n",
    "Let's start with discrete distributions.\n",
    "\n",
    "A discrete distribution is defined by a set of numbers $S = \\{x_1, \\ldots, x_n\\}$ and a **probability mass function** (PMF) on $S$, which is a function $p$ from $S$ to $[0,1]$ with the property \n",
    "\n",
    "$$ \\sum_{i=1}^n p(x_i) = 1 $$\n",
    "\n",
    "We say that a random variable $X$ **has distribution** $p$ if $X$ takes value $x_i$ with probability $p(x_i)$.\n",
    "\n",
    "That is,\n",
    "\n",
    "$$ \\mathbb P\\{X = x_i\\} = p(x_i) \\quad \\text{for } i= 1, \\ldots, n $$\n",
    "\n",
    "The **mean** or **expected value** of a random variable $X$ with distribution $p$ is \n",
    "\n",
    "$$ \n",
    "    \\mathbb E X = \\sum_{i=1}^n x_i p(x_i)\n",
    "$$\n",
    "\n",
    "Expectation is also called the *first moment* of the distribution.\n",
    "\n",
    "We also refer to this number as the mean of the distribution (represented by) $p$.\n",
    "\n",
    "The **variance** of $X$ is defined as \n",
    "\n",
    "$$ \n",
    "    \\mathbb V X = \\sum_{i=1}^n (x_i - \\mathbb E X)^2 p(x_i)\n",
    "$$\n",
    "\n",
    "Variance is also called the *second central moment* of the distribution.\n",
    "\n",
    "The **cumulative distribution function** (CDF) of $X$ is defined by\n",
    "\n",
    "$$\n",
    "    F(x) = \\mathbb P\\{X \\leq x\\}\n",
    "         = \\sum_{i=1}^n \\mathbb 1\\{x_i \\leq x\\} p(x_i)\n",
    "$$\n",
    "\n",
    "Here $\\mathbb 1\\{ \\textrm{statement} \\} = 1$ if \"statement\" is true and zero otherwise.\n",
    "\n",
    "Hence the second term takes all $x_i \\leq x$ and sums their probabilities.\n",
    "\n",
    "\n",
    "#### Uniform distribution\n",
    "\n",
    "One simple example is the **uniform distribution**, where $p(x_i) = 1/n$ for all $n$.\n",
    "\n",
    "We can import the uniform distribution on $S = \\{1, \\ldots, n\\}$  from SciPy like so:"
   ]
  },
  {
   "cell_type": "code",
   "execution_count": null,
   "id": "b8e353fd",
   "metadata": {},
   "outputs": [],
   "source": [
    "n = 10\n",
    "u = scipy.stats.randint(1, n+1)"
   ]
  },
  {
   "cell_type": "markdown",
   "id": "427b17d3",
   "metadata": {
    "user_expressions": []
   },
   "source": [
    "Here's the mean and variance"
   ]
  },
  {
   "cell_type": "code",
   "execution_count": null,
   "id": "54af72c6",
   "metadata": {},
   "outputs": [],
   "source": [
    "u.mean(), u.var()"
   ]
  },
  {
   "cell_type": "markdown",
   "id": "265f43c9",
   "metadata": {},
   "source": [
    "The formula for the mean is $(n+1)/2$, and the formula for the variance is $(n^2 - 1)/12$."
   ]
  },
  {
   "cell_type": "markdown",
   "id": "743cae9a",
   "metadata": {
    "user_expressions": []
   },
   "source": [
    "Now let's evaluate the PMF"
   ]
  },
  {
   "cell_type": "code",
   "execution_count": null,
   "id": "2f9421e5",
   "metadata": {},
   "outputs": [],
   "source": [
    "u.pmf(1)"
   ]
  },
  {
   "cell_type": "code",
   "execution_count": null,
   "id": "3292fa9f",
   "metadata": {},
   "outputs": [],
   "source": [
    "u.pmf(2)"
   ]
  },
  {
   "cell_type": "markdown",
   "id": "aeaeb81a",
   "metadata": {
    "user_expressions": []
   },
   "source": [
    "Here's a plot of the probability mass function:"
   ]
  },
  {
   "cell_type": "code",
   "execution_count": null,
   "id": "aa324331",
   "metadata": {},
   "outputs": [],
   "source": [
    "fig, ax = plt.subplots()\n",
    "S = np.arange(1, n+1)\n",
    "ax.plot(S, u.pmf(S), linestyle='', marker='o', alpha=0.8, ms=4)\n",
    "ax.vlines(S, 0, u.pmf(S), lw=0.2)\n",
    "ax.set_xticks(S)\n",
    "plt.show()"
   ]
  },
  {
   "cell_type": "markdown",
   "id": "c99b78be",
   "metadata": {
    "user_expressions": []
   },
   "source": [
    "Here's a plot of the CDF:"
   ]
  },
  {
   "cell_type": "code",
   "execution_count": null,
   "id": "88196f13",
   "metadata": {},
   "outputs": [],
   "source": [
    "fig, ax = plt.subplots()\n",
    "S = np.arange(1, n+1)\n",
    "ax.step(S, u.cdf(S))\n",
    "ax.vlines(S, 0, u.cdf(S), lw=0.2)\n",
    "ax.set_xticks(S)\n",
    "plt.show()"
   ]
  },
  {
   "cell_type": "markdown",
   "id": "5ee2675e",
   "metadata": {
    "user_expressions": []
   },
   "source": [
    "The CDF jumps up by $p(x_i)$ and $x_i$."
   ]
  },
  {
   "cell_type": "markdown",
   "id": "bf4275fd",
   "metadata": {
    "user_expressions": []
   },
   "source": [
    "```{exercise}\n",
    ":label: prob_ex1\n",
    "\n",
    "Calculate the mean and variance directly from the PMF, using the expressions given above.\n",
    "\n",
    "Check that your answers agree with `u.mean()` and `u.var()`.\n",
    "```\n",
    "\n",
    "#### Binomial distribution\n",
    "\n",
    "Another useful (and more interesting) distribution is the **binomial distribution** on $S=\\{0, \\ldots, n\\}$, which has PMF\n",
    "\n",
    "$$ \n",
    "    p(i) = \\binom{n}{i} \\theta^i (1-\\theta)^{n-i}\n",
    "$$\n",
    "\n",
    "Here $\\theta \\in [0,1]$ is a parameter.\n",
    "\n",
    "The interpretation of $p(i)$ is: the number of successes in $n$ independent trials with success probability $\\theta$.\n",
    "\n",
    "(If $\\theta=0.5$, this is \"how many heads in $n$ flips of a fair coin\")\n",
    "\n",
    "The mean and variance are"
   ]
  },
  {
   "cell_type": "code",
   "execution_count": null,
   "id": "ed30376e",
   "metadata": {},
   "outputs": [],
   "source": [
    "n = 10\n",
    "θ = 0.5\n",
    "u = scipy.stats.binom(n, θ)"
   ]
  },
  {
   "cell_type": "code",
   "execution_count": null,
   "id": "a2565648",
   "metadata": {},
   "outputs": [],
   "source": [
    "u.mean(), u.var()"
   ]
  },
  {
   "cell_type": "markdown",
   "id": "d4ae8039",
   "metadata": {},
   "source": [
    "The formula for the mean is $n \\theta$ and the formula for the variance is $n \\theta (1-\\theta)$.\n",
    "\n",
    "Here's the PDF"
   ]
  },
  {
   "cell_type": "code",
   "execution_count": null,
   "id": "b7ddb4d5",
   "metadata": {},
   "outputs": [],
   "source": [
    "u.pmf(1)"
   ]
  },
  {
   "cell_type": "code",
   "execution_count": null,
   "id": "a5a1c18e",
   "metadata": {},
   "outputs": [],
   "source": [
    "fig, ax = plt.subplots()\n",
    "S = np.arange(1, n+1)\n",
    "ax.plot(S, u.pmf(S), linestyle='', marker='o', alpha=0.8, ms=4)\n",
    "ax.vlines(S, 0, u.pmf(S), lw=0.2)\n",
    "ax.set_xticks(S)\n",
    "plt.show()"
   ]
  },
  {
   "cell_type": "markdown",
   "id": "30345861",
   "metadata": {
    "user_expressions": []
   },
   "source": [
    "Here's the CDF"
   ]
  },
  {
   "cell_type": "code",
   "execution_count": null,
   "id": "9cbc3108",
   "metadata": {},
   "outputs": [],
   "source": [
    "fig, ax = plt.subplots()\n",
    "S = np.arange(1, n+1)\n",
    "ax.step(S, u.cdf(S))\n",
    "ax.vlines(S, 0, u.cdf(S), lw=0.2)\n",
    "ax.set_xticks(S)\n",
    "plt.show()"
   ]
  },
  {
   "cell_type": "markdown",
   "id": "c2ff4a58",
   "metadata": {
    "user_expressions": []
   },
   "source": [
    "```{exercise}\n",
    ":label: prob_ex2\n",
    "\n",
    "Using `u.pmf`, check that our definition of the CDF given above calculates the same function as `u.cdf`.\n",
    "```\n",
    "\n",
    "```{solution-start} prob_ex2\n",
    ":class: dropdown\n",
    "```\n",
    "\n",
    "Here is one solution"
   ]
  },
  {
   "cell_type": "code",
   "execution_count": null,
   "id": "4f4a81c2",
   "metadata": {},
   "outputs": [],
   "source": [
    "fig, ax = plt.subplots()\n",
    "S = np.arange(1, n+1)\n",
    "u_sum = np.cumsum(u.pmf(S))\n",
    "ax.step(S, u_sum)\n",
    "ax.vlines(S, 0, u_sum, lw=0.2)\n",
    "ax.set_xticks(S)\n",
    "plt.show()"
   ]
  },
  {
   "cell_type": "markdown",
   "id": "018efdbd",
   "metadata": {},
   "source": [
    "We can see that the output graph is the same as the one above.\n",
    "\n",
    "```{solution-end}\n",
    "```\n",
    "\n",
    "#### Poisson distribution\n",
    "\n",
    "Poisson distribution on $S = \\{0, 1, \\ldots\\}$ with parameter $\\lambda > 0$ has PMF\n",
    "\n",
    "$$\n",
    "    p(i) = \\frac{\\lambda^i}{i!} e^{-\\lambda}\n",
    "$$\n",
    "\n",
    "The interpretation of $p(i)$ is: the number of events in a fixed time interval, where the events occur at a constant rate $\\lambda$ and independently of each other.\n",
    "\n",
    "The mean and variance are"
   ]
  },
  {
   "cell_type": "code",
   "execution_count": null,
   "id": "2fcbfb85",
   "metadata": {},
   "outputs": [],
   "source": [
    "λ = 2\n",
    "u = scipy.stats.poisson(λ)"
   ]
  },
  {
   "cell_type": "code",
   "execution_count": null,
   "id": "75367bd2",
   "metadata": {},
   "outputs": [],
   "source": [
    "u.mean(), u.var()"
   ]
  },
  {
   "cell_type": "markdown",
   "id": "885b9447",
   "metadata": {},
   "source": [
    "The the expectation of Poisson distribution is $\\lambda$ and the variance is also $\\lambda$.\n",
    "\n",
    "Here's the PMF"
   ]
  },
  {
   "cell_type": "code",
   "execution_count": null,
   "id": "40711e59",
   "metadata": {},
   "outputs": [],
   "source": [
    "λ = 2\n",
    "u = scipy.stats.poisson(λ)"
   ]
  },
  {
   "cell_type": "code",
   "execution_count": null,
   "id": "8b696c97",
   "metadata": {},
   "outputs": [],
   "source": [
    "u.pmf(1)"
   ]
  },
  {
   "cell_type": "code",
   "execution_count": null,
   "id": "30a98340",
   "metadata": {},
   "outputs": [],
   "source": [
    "fig, ax = plt.subplots()\n",
    "S = np.arange(1, n+1)\n",
    "ax.plot(S, u.pmf(S), linestyle='', marker='o', alpha=0.8, ms=4)\n",
    "ax.vlines(S, 0, u.pmf(S), lw=0.2)\n",
    "ax.set_xticks(S)\n",
    "plt.show()"
   ]
  },
  {
   "cell_type": "markdown",
   "id": "ca100274",
   "metadata": {
    "user_expressions": []
   },
   "source": [
    "### Continuous distributions"
   ]
  },
  {
   "cell_type": "markdown",
   "id": "6884a44f",
   "metadata": {
    "user_expressions": []
   },
   "source": [
    "Continuous distributions are represented by a **density function**, which is a function $p$ over $\\mathbb R$ (the set of all numbers) such that $p(x) \\geq 0$ for all $x$ and\n",
    "\n",
    "$$ \\int_{-\\infty}^\\infty p(x) dx = 1 $$\n",
    "\n",
    "We say that random variable $X$ has distribution $p$ if\n",
    "\n",
    "$$\n",
    "    \\mathbb P\\{a < X < b\\} = \\int_a^b p(x) dx\n",
    "$$\n",
    "\n",
    "for all $a \\leq b$.\n",
    "\n",
    "The definition of the mean and variance of a random variable $X$ with distribution $p$ are the same as the discrete case, after replacing the sum with an integral.\n",
    "\n",
    "For example, the mean of $X$ is\n",
    "\n",
    "$$\n",
    "    \\mathbb E X = \\int_{-\\infty}^\\infty x p(x) dx\n",
    "$$\n",
    "\n",
    "The **cumulative distribution function** (CDF) of $X$ is defined by\n",
    "\n",
    "$$\n",
    "    F(x) = \\mathbb P\\{X \\leq x\\}\n",
    "         = \\int_{-\\infty}^x p(x) dx\n",
    "$$"
   ]
  },
  {
   "cell_type": "markdown",
   "id": "e275dc4f",
   "metadata": {
    "user_expressions": []
   },
   "source": [
    "#### Normal distribution\n",
    "\n",
    "Perhaps the most famous distribution is the **normal distribution**, which has density\n",
    "\n",
    "$$\n",
    "    p(x) = \\frac{1}{\\sqrt{2\\pi}\\sigma}\n",
    "              \\exp\\left(-\\frac{(x-\\mu)^2}{2\\sigma^2}\\right)\n",
    "$$\n",
    "\n",
    "This distribution has two parameters, $\\mu$ and $\\sigma$.  \n",
    "\n",
    "It can be shown that, for this distribution, the mean is $\\mu$ and the variance is $\\sigma^2$.\n",
    "\n",
    "We can obtain the moments, PDF, and CDF of the normal density as follows:"
   ]
  },
  {
   "cell_type": "code",
   "execution_count": null,
   "id": "69946b2c",
   "metadata": {},
   "outputs": [],
   "source": [
    "μ, σ = 0.0, 1.0\n",
    "u = scipy.stats.norm(μ, σ)"
   ]
  },
  {
   "cell_type": "code",
   "execution_count": null,
   "id": "459b3505",
   "metadata": {},
   "outputs": [],
   "source": [
    "u.mean(), u.var()"
   ]
  },
  {
   "cell_type": "markdown",
   "id": "056d3dbf",
   "metadata": {},
   "source": [
    "Here's a plot of the density --- the famous \"bell-shaped curve\":"
   ]
  },
  {
   "cell_type": "code",
   "execution_count": null,
   "id": "8f600ff1",
   "metadata": {},
   "outputs": [],
   "source": [
    "μ_vals = [-1, 0, 1]\n",
    "σ_vals = [0.4, 1, 1.6]\n",
    "fig, ax = plt.subplots()\n",
    "x_grid = np.linspace(-4, 4, 200)\n",
    "\n",
    "for μ, σ in zip(μ_vals, σ_vals):\n",
    "    u = scipy.stats.norm(μ, σ)\n",
    "    ax.plot(x_grid, u.pdf(x_grid),\n",
    "    alpha=0.5, lw=2,\n",
    "    label=f'$\\mu={μ}, \\sigma={σ}$')\n",
    "\n",
    "plt.legend()\n",
    "plt.show()"
   ]
  },
  {
   "cell_type": "markdown",
   "id": "4765614d",
   "metadata": {
    "user_expressions": []
   },
   "source": [
    "Here's a plot of the CDF:"
   ]
  },
  {
   "cell_type": "code",
   "execution_count": null,
   "id": "f18d4bfd",
   "metadata": {},
   "outputs": [],
   "source": [
    "fig, ax = plt.subplots()\n",
    "for μ, σ in zip(μ_vals, σ_vals):\n",
    "    u = scipy.stats.norm(μ, σ)\n",
    "    ax.plot(x_grid, u.cdf(x_grid),\n",
    "    alpha=0.5, lw=2,\n",
    "    label=f'$\\mu={μ}, \\sigma={σ}$')\n",
    "    ax.set_ylim(0, 1)\n",
    "plt.legend()\n",
    "plt.show()"
   ]
  },
  {
   "cell_type": "markdown",
   "id": "b60fcc41",
   "metadata": {
    "user_expressions": []
   },
   "source": [
    "#### Lognormal distribution\n",
    "\n",
    "The **lognormal distribution** is a distribution on $\\left(0, \\infty\\right)$ with density\n",
    "\n",
    "$$\n",
    "    p(x) = \\frac{1}{\\sigma x \\sqrt{2\\pi}}\n",
    "        \\exp \\left(- \\frac{\\left(\\log x - \\mu\\right)^2}{2 \\sigma^2} \\right)\n",
    "$$\n",
    "\n",
    "This distribution has two parameters, $\\mu$ and $\\sigma$.\n",
    "\n",
    "It can be shown that, for this distribution, the mean is $\\exp\\left(\\mu + \\sigma^2/2\\right)$ and the variance is $\\left[\\exp\\left(\\sigma^2\\right) - 1\\right] \\exp\\left(2\\mu + \\sigma^2\\right)$.\n",
    "\n",
    "It has a nice interpretation: if $X$ is lognormally distributed, then $\\log X$ is normally distributed.\n",
    "\n",
    "It is often used to model variables that are \"multiplicative\" in nature, such as income or asset prices.\n",
    "\n",
    "We can obtain the moments, PDF, and CDF of the normal density as follows:"
   ]
  },
  {
   "cell_type": "code",
   "execution_count": null,
   "id": "39824e73",
   "metadata": {},
   "outputs": [],
   "source": [
    "μ, σ = 0.0, 1.0\n",
    "u = scipy.stats.lognorm(s=σ, scale=np.exp(μ))"
   ]
  },
  {
   "cell_type": "code",
   "execution_count": null,
   "id": "16ed6aee",
   "metadata": {},
   "outputs": [],
   "source": [
    "u.mean(), u.var()"
   ]
  },
  {
   "cell_type": "code",
   "execution_count": null,
   "id": "302fd2a0",
   "metadata": {},
   "outputs": [],
   "source": [
    "μ_vals = [-1, 0, 1]\n",
    "σ_vals = [0.25, 0.5, 1]\n",
    "x_grid = np.linspace(0, 3, 200)\n",
    "\n",
    "fig, ax = plt.subplots()\n",
    "for μ, σ in zip(μ_vals, σ_vals):\n",
    "    u = scipy.stats.lognorm(σ, scale=np.exp(μ))\n",
    "    ax.plot(x_grid, u.pdf(x_grid),\n",
    "    alpha=0.5, lw=2,\n",
    "    label=f'$\\mu={μ}, \\sigma={σ}$')\n",
    "\n",
    "plt.legend()\n",
    "plt.show()"
   ]
  },
  {
   "cell_type": "code",
   "execution_count": null,
   "id": "8696dc76",
   "metadata": {},
   "outputs": [],
   "source": [
    "fig, ax = plt.subplots()\n",
    "μ = 1\n",
    "for σ in σ_vals:\n",
    "    u = scipy.stats.norm(μ, σ)\n",
    "    ax.plot(x_grid, u.cdf(x_grid),\n",
    "    alpha=0.5, lw=2,\n",
    "    label=f'$\\mu={μ}, \\sigma={σ}$')\n",
    "    ax.set_ylim(0, 1)\n",
    "    ax.set_xlim(0, 3)\n",
    "plt.legend()\n",
    "plt.show()"
   ]
  },
  {
   "cell_type": "markdown",
   "id": "e0afceac",
   "metadata": {},
   "source": [
    "#### Exponential distribution\n",
    "\n",
    "The **exponential distribution** is a distribution on $\\left(0, \\infty\\right)$ with density\n",
    "\n",
    "$$\n",
    "    p(x) = \\lambda \\exp \\left( - \\lambda x \\right)\n",
    "$$\n",
    "\n",
    "This distribution has one parameter, $\\lambda$.\n",
    "\n",
    "It is related to the Poisson distribution as it describes the distribution of the length of the time interval between two consecutive events in a Poisson process.\n",
    "\n",
    "It can be shown that, for this distribution, the mean is $1/\\lambda$ and the variance is $1/\\lambda^2$.\n",
    "\n",
    "We can obtain the moments, PDF, and CDF of the normal density as follows:"
   ]
  },
  {
   "cell_type": "code",
   "execution_count": null,
   "id": "1e680705",
   "metadata": {},
   "outputs": [],
   "source": [
    "λ = 1.0\n",
    "u = scipy.stats.expon(scale=1/λ)"
   ]
  },
  {
   "cell_type": "code",
   "execution_count": null,
   "id": "ee4bc357",
   "metadata": {},
   "outputs": [],
   "source": [
    "u.mean(), u.var()"
   ]
  },
  {
   "cell_type": "code",
   "execution_count": null,
   "id": "e1aa63bb",
   "metadata": {},
   "outputs": [],
   "source": [
    "fig, ax = plt.subplots()\n",
    "λ_vals = [0.5, 1, 2]\n",
    "x_grid = np.linspace(0, 6, 200)\n",
    "\n",
    "for λ in λ_vals:\n",
    "    u = scipy.stats.expon(scale=1/λ)\n",
    "    ax.plot(x_grid, u.pdf(x_grid),\n",
    "    alpha=0.5, lw=2,\n",
    "    label=f'$\\lambda={λ}$')\n",
    "plt.legend()\n",
    "plt.show()"
   ]
  },
  {
   "cell_type": "code",
   "execution_count": null,
   "id": "3588ec41",
   "metadata": {},
   "outputs": [],
   "source": [
    "fig, ax = plt.subplots()\n",
    "for λ in λ_vals:\n",
    "    u = scipy.stats.expon(scale=1/λ)\n",
    "    ax.plot(x_grid, u.cdf(x_grid),\n",
    "    alpha=0.5, lw=2,\n",
    "    label=f'$\\lambda={λ}$')\n",
    "    ax.set_ylim(0, 1)\n",
    "plt.legend()\n",
    "plt.show()"
   ]
  },
  {
   "cell_type": "markdown",
   "id": "38cd5564",
   "metadata": {},
   "source": [
    "#### Beta distribution\n",
    "\n",
    "The **beta distribution** is a distribution on $\\left(0, 1\\right)$ with density\n",
    "\n",
    "$$\n",
    "    p(x) = \\frac{\\Gamma(\\alpha + \\beta)}{\\Gamma(\\alpha) \\Gamma(\\beta)}\n",
    "        x^{\\alpha - 1} (1 - x)^{\\beta - 1}\n",
    "$$\n",
    "\n",
    "where $\\Gamma$ is the gamma function ($\\Gamma(n) = (n - 1)!$ for $n \\in \\mathbb{N}$).\n",
    "\n",
    "This distribution has two parameters, $\\alpha$ and $\\beta$.\n",
    "\n",
    "It has a nice interpretation: if $X$ is beta distributed, then $X$ is the probability of success in a Bernoulli trial with a number of successes $\\alpha$ and a number of failures $\\beta$.\n",
    "\n",
    "For example, if $\\alpha = \\beta = 1$, then the beta distribution is uniform on $\\left(0, 1\\right)$ as the number of successes and failures are both 1.\n",
    "\n",
    "While, if $\\alpha = 3$ and $\\beta = 2$, then the beta distribution is located more towards 1 as there are more successes than failures.\n",
    "\n",
    "It can be shown that, for this distribution, the mean is $\\alpha / (\\alpha + \\beta)$ and \n",
    "the variance is $\\alpha \\beta / (\\alpha + \\beta)^2 (\\alpha + \\beta + 1)$.\n",
    "\n",
    "We can obtain the moments, PDF, and CDF of the normal density as follows:"
   ]
  },
  {
   "cell_type": "code",
   "execution_count": null,
   "id": "b08c4592",
   "metadata": {},
   "outputs": [],
   "source": [
    "α, β = 3.0, 1.0\n",
    "u = scipy.stats.beta(α, β)"
   ]
  },
  {
   "cell_type": "code",
   "execution_count": null,
   "id": "e4b1d3ba",
   "metadata": {},
   "outputs": [],
   "source": [
    "u.mean(), u.var()"
   ]
  },
  {
   "cell_type": "code",
   "execution_count": null,
   "id": "1714d5ec",
   "metadata": {},
   "outputs": [],
   "source": [
    "α_vals = [0.5, 1, 5, 25, 3]\n",
    "β_vals = [3, 1, 10, 20, 0.5]\n",
    "x_grid = np.linspace(0, 1, 200)\n",
    "\n",
    "fig, ax = plt.subplots()\n",
    "for α, β in zip(α_vals, β_vals):\n",
    "    u = scipy.stats.beta(α, β)\n",
    "    ax.plot(x_grid, u.pdf(x_grid),\n",
    "    alpha=0.5, lw=2,\n",
    "    label=fr'$\\alpha={α}, \\beta={β}$')\n",
    "plt.legend()\n",
    "plt.show()"
   ]
  },
  {
   "cell_type": "code",
   "execution_count": null,
   "id": "1ac3c6d2",
   "metadata": {},
   "outputs": [],
   "source": [
    "fig, ax = plt.subplots()\n",
    "for α, β in zip(α_vals, β_vals):\n",
    "    u = scipy.stats.beta(α, β)\n",
    "    ax.plot(x_grid, u.cdf(x_grid),\n",
    "    alpha=0.5, lw=2,\n",
    "    label=fr'$\\alpha={α}, \\beta={β}$')\n",
    "    ax.set_ylim(0, 1)\n",
    "plt.legend()\n",
    "plt.show()"
   ]
  },
  {
   "cell_type": "markdown",
   "id": "f8ea3ff4",
   "metadata": {},
   "source": [
    "#### Gamma distribution\n",
    "\n",
    "The **gamma distribution** is a distribution on $\\left(0, \\infty\\right)$ with density\n",
    "\n",
    "$$\n",
    "    p(x) = \\frac{\\beta^\\alpha}{\\Gamma(\\alpha)}\n",
    "        x^{\\alpha - 1} \\exp(-\\beta x)\n",
    "$$\n",
    "\n",
    "This distribution has two parameters, $\\alpha$ and $\\beta$.\n",
    "\n",
    "It can be shown that, for this distribution, the mean is $\\alpha / \\beta$ and the variance is $\\alpha / \\beta^2$.\n",
    "\n",
    "One interpretation is that if $X$ is gamma distributed, then $X$ is the sum of $\\alpha$ independent exponentially distributed random variables with mean $1/\\beta$.\n",
    "\n",
    "We can obtain the moments, PDF, and CDF of the normal density as follows:"
   ]
  },
  {
   "cell_type": "code",
   "execution_count": null,
   "id": "8141b163",
   "metadata": {},
   "outputs": [],
   "source": [
    "α, β = 3.0, 2.0\n",
    "u = scipy.stats.gamma(α, scale=1/β)"
   ]
  },
  {
   "cell_type": "code",
   "execution_count": null,
   "id": "aebbb503",
   "metadata": {},
   "outputs": [],
   "source": [
    "u.mean(), u.var()"
   ]
  },
  {
   "cell_type": "code",
   "execution_count": null,
   "id": "fab06762",
   "metadata": {},
   "outputs": [],
   "source": [
    "α_vals = [1, 3, 5, 10]\n",
    "β_vals = [3, 5, 3, 3]\n",
    "x_grid = np.linspace(0, 7, 200)\n",
    "\n",
    "fig, ax = plt.subplots()\n",
    "for α, β in zip(α_vals, β_vals):\n",
    "    u = scipy.stats.gamma(α, scale=1/β)\n",
    "    ax.plot(x_grid, u.pdf(x_grid),\n",
    "    alpha=0.5, lw=2,\n",
    "    label=fr'$\\alpha={α}, \\beta={β}$')\n",
    "plt.legend()\n",
    "plt.show()"
   ]
  },
  {
   "cell_type": "code",
   "execution_count": null,
   "id": "5f17346c",
   "metadata": {},
   "outputs": [],
   "source": [
    "fig, ax = plt.subplots()\n",
    "for α, β in zip(α_vals, β_vals):\n",
    "    u = scipy.stats.gamma(α, scale=1/β)\n",
    "    ax.plot(x_grid, u.cdf(x_grid),\n",
    "    alpha=0.5, lw=2,\n",
    "    label=fr'$\\alpha={α}, \\beta={β}$')\n",
    "    ax.set_ylim(0, 1)\n",
    "plt.legend()\n",
    "plt.show()"
   ]
  },
  {
   "cell_type": "markdown",
   "id": "3b68faa6",
   "metadata": {},
   "source": [
    "## Observed distributions"
   ]
  },
  {
   "cell_type": "markdown",
   "id": "8f3c17ee",
   "metadata": {
    "user_expressions": []
   },
   "source": [
    "Sometimes we refer to observed data or measurements as \"distributions\".\n",
    "\n",
    "For example, let's say we observe the income of 10 people over a year:"
   ]
  },
  {
   "cell_type": "code",
   "execution_count": null,
   "id": "1cf83c90",
   "metadata": {},
   "outputs": [],
   "source": [
    "data = [['Hiroshi', 1200], \n",
    "        ['Ako', 1210], \n",
    "        ['Emi', 1400],\n",
    "        ['Daiki', 990],\n",
    "        ['Chiyo', 1530],\n",
    "        ['Taka', 1210],\n",
    "        ['Katsuhiko', 1240],\n",
    "        ['Daisuke', 1124],\n",
    "        ['Yoshi', 1330],\n",
    "        ['Rie', 1340]]\n",
    "\n",
    "df = pd.DataFrame(data, columns=['name', 'income'])\n",
    "df"
   ]
  },
  {
   "cell_type": "markdown",
   "id": "ebed9285",
   "metadata": {
    "user_expressions": []
   },
   "source": [
    "In this situation, we might refer to the set of their incomes as the \"income distribution.\"\n",
    "\n",
    "The terminology is confusing because this is not the same thing as a probability distribution --- it's just a collection of numbers.\n",
    "\n",
    "Below we explore some observed distributions.\n",
    "\n",
    "We will see that there are connections between observed distributions---like the income distribution above---and probability distributions, as we'll see below."
   ]
  },
  {
   "cell_type": "markdown",
   "id": "8cf0f4b1",
   "metadata": {
    "user_expressions": []
   },
   "source": [
    "### Summary statistics\n",
    "\n",
    "Suppose we have an observed distribution with values $\\{x_1, \\ldots, x_n\\}$\n",
    "\n",
    "The **sample mean** of this distribution is defined as\n",
    "\n",
    "$$\n",
    "    \\bar x = \\frac{1}{n} \\sum_{i=1}^n x_i\n",
    "$$\n",
    "\n",
    "The **sample variance** is defined as \n",
    "\n",
    "$$\n",
    "    \\frac{1}{n} \\sum_{i=1}^n (x_i - \\bar x)^2\n",
    "$$"
   ]
  },
  {
   "cell_type": "markdown",
   "id": "b6b08735",
   "metadata": {
    "user_expressions": []
   },
   "source": [
    "For the income distribution given above, we can calculate these numbers via"
   ]
  },
  {
   "cell_type": "code",
   "execution_count": null,
   "id": "f926a249",
   "metadata": {},
   "outputs": [],
   "source": [
    "x = np.asarray(df['income'])"
   ]
  },
  {
   "cell_type": "code",
   "execution_count": null,
   "id": "4225d10c",
   "metadata": {},
   "outputs": [],
   "source": [
    "x.mean(), x.var()"
   ]
  },
  {
   "cell_type": "markdown",
   "id": "7fd7a132",
   "metadata": {
    "user_expressions": []
   },
   "source": [
    "```{exercise}\n",
    ":label: prob_ex3\n",
    "\n",
    "Check that the formulas given above produce the same numbers.\n",
    "```\n",
    "\n",
    "### Visualization\n",
    "\n",
    "Let's look at different ways that we can visualize one or more observed distributions.\n",
    "\n",
    "We will cover\n",
    "\n",
    "- histograms\n",
    "- kernel density estimates and\n",
    "- violin plots"
   ]
  },
  {
   "cell_type": "markdown",
   "id": "fb7593ba",
   "metadata": {
    "user_expressions": []
   },
   "source": [
    "#### Histograms"
   ]
  },
  {
   "cell_type": "markdown",
   "id": "42858a23",
   "metadata": {
    "user_expressions": []
   },
   "source": [
    "We can histogram the income distribution we just constructed as follows"
   ]
  },
  {
   "cell_type": "code",
   "execution_count": null,
   "id": "0413383d",
   "metadata": {},
   "outputs": [],
   "source": [
    "x = df['income']\n",
    "fig, ax = plt.subplots()\n",
    "ax.hist(x, bins=5, density=True, histtype='bar')\n",
    "plt.show()"
   ]
  },
  {
   "cell_type": "markdown",
   "id": "4aaacc63",
   "metadata": {
    "user_expressions": []
   },
   "source": [
    "Let's look at a distribution from real data.\n",
    "\n",
    "In particular, we will look at the monthly return on Amazon shares between 2000/1/1 and 2023/1/1.\n",
    "\n",
    "The monthly return is calculated as the percent change in the share price over each month.\n",
    "\n",
    "So we will have one observation for each month."
   ]
  },
  {
   "cell_type": "code",
   "execution_count": null,
   "id": "7135dc71",
   "metadata": {},
   "outputs": [],
   "source": [
    "df = yf.download('AMZN', '2000-1-1', '2023-1-1', interval='1mo' )\n",
    "prices = df['Adj Close']\n",
    "data = prices.pct_change()[1:] * 100\n",
    "data.head()"
   ]
  },
  {
   "cell_type": "markdown",
   "id": "10ef95d7",
   "metadata": {
    "user_expressions": []
   },
   "source": [
    "The first observation is the monthly return (percent change) over January 2000, which was"
   ]
  },
  {
   "cell_type": "code",
   "execution_count": null,
   "id": "1cc8aa7c",
   "metadata": {},
   "outputs": [],
   "source": [
    "data[0] "
   ]
  },
  {
   "cell_type": "markdown",
   "id": "051b3f4c",
   "metadata": {
    "user_expressions": []
   },
   "source": [
    "Let's turn the return observations into an array and histogram it."
   ]
  },
  {
   "cell_type": "code",
   "execution_count": null,
   "id": "72ae6800",
   "metadata": {},
   "outputs": [],
   "source": [
    "x_amazon = np.asarray(data)"
   ]
  },
  {
   "cell_type": "code",
   "execution_count": null,
   "id": "4336e372",
   "metadata": {},
   "outputs": [],
   "source": [
    "fig, ax = plt.subplots()\n",
    "ax.hist(x_amazon, bins=20)\n",
    "plt.show()"
   ]
  },
  {
   "cell_type": "markdown",
   "id": "8879de4b",
   "metadata": {
    "user_expressions": []
   },
   "source": [
    "#### Kernel density estimates\n",
    "\n",
    "Kernel density estimate (KDE) is a non-parametric way to estimate and visualize the PDF of a distribution.\n",
    "\n",
    "KDE will generate a smooth curve that approximates the PDF."
   ]
  },
  {
   "cell_type": "code",
   "execution_count": null,
   "id": "7ef682d3",
   "metadata": {},
   "outputs": [],
   "source": [
    "fig, ax = plt.subplots()\n",
    "sns.kdeplot(x_amazon, ax=ax)\n",
    "plt.show()"
   ]
  },
  {
   "cell_type": "markdown",
   "id": "ca1d1274",
   "metadata": {},
   "source": [
    "The smoothness of the KDE is dependent on how we choose the bandwidth."
   ]
  },
  {
   "cell_type": "code",
   "execution_count": null,
   "id": "f9564099",
   "metadata": {},
   "outputs": [],
   "source": [
    "fig, ax = plt.subplots()\n",
    "sns.kdeplot(x_amazon, ax=ax, bw_adjust=0.1, alpha=0.5, label=\"bw=0.1\")\n",
    "sns.kdeplot(x_amazon, ax=ax, bw_adjust=0.5, alpha=0.5, label=\"bw=0.5\")\n",
    "sns.kdeplot(x_amazon, ax=ax, bw_adjust=1, alpha=0.5, label=\"bw=1\")\n",
    "plt.legend()\n",
    "plt.show()"
   ]
  },
  {
   "cell_type": "markdown",
   "id": "105ab8d3",
   "metadata": {},
   "source": [
    "When we use a larger bandwidth, the KDE is smoother.\n",
    "\n",
    "A suitable bandwidth is not too smooth (underfitting) or too wiggly (overfitting).\n",
    "\n",
    "\n",
    "#### Violin plots"
   ]
  },
  {
   "cell_type": "markdown",
   "id": "703a7e43",
   "metadata": {
    "user_expressions": []
   },
   "source": [
    "Yet another way to display an observed distribution is via a violin plot."
   ]
  },
  {
   "cell_type": "code",
   "execution_count": null,
   "id": "02d96062",
   "metadata": {},
   "outputs": [],
   "source": [
    "fig, ax = plt.subplots()\n",
    "ax.violinplot(x_amazon)\n",
    "plt.show()"
   ]
  },
  {
   "cell_type": "markdown",
   "id": "7a6399f4",
   "metadata": {
    "user_expressions": []
   },
   "source": [
    "Violin plots are particularly useful when we want to compare different distributions.\n",
    "\n",
    "For example, let's compare the monthly returns on Amazon shares with the monthly return on Apple shares."
   ]
  },
  {
   "cell_type": "code",
   "execution_count": null,
   "id": "6ade1ab3",
   "metadata": {},
   "outputs": [],
   "source": [
    "df = yf.download('AAPL', '2000-1-1', '2023-1-1', interval='1mo' )\n",
    "prices = df['Adj Close']\n",
    "data = prices.pct_change()[1:] * 100\n",
    "x_apple = np.asarray(data)"
   ]
  },
  {
   "cell_type": "code",
   "execution_count": null,
   "id": "bff21966",
   "metadata": {},
   "outputs": [],
   "source": [
    "fig, ax = plt.subplots()\n",
    "ax.violinplot([x_amazon, x_apple])\n",
    "plt.show()"
   ]
  },
  {
   "cell_type": "markdown",
   "id": "77db6847",
   "metadata": {
    "user_expressions": []
   },
   "source": [
    "### Connection to probability distributions"
   ]
  },
  {
   "cell_type": "markdown",
   "id": "84ed676e",
   "metadata": {
    "user_expressions": []
   },
   "source": [
    "Let's discuss the connection between observed distributions and probability distributions.\n",
    "\n",
    "Sometimes it's helpful to imagine that an observed distribution is generated by a particular probability distribution.\n",
    "\n",
    "For example, we might look at the returns from Amazon above and imagine that they were generated by a normal distribution.\n",
    "\n",
    "Even though this is not true, it might be a helpful way to think about the data.\n",
    "\n",
    "Here we match a normal distribution to the Amazon monthly returns by setting the sample mean to the mean of the normal distribution and the sample variance equal to the variance.\n",
    "\n",
    "Then we plot the density and the histogram."
   ]
  },
  {
   "cell_type": "code",
   "execution_count": null,
   "id": "7ecaf0b4",
   "metadata": {},
   "outputs": [],
   "source": [
    "μ = x_amazon.mean()\n",
    "σ_squared = x_amazon.var()\n",
    "σ = np.sqrt(σ_squared)\n",
    "u = scipy.stats.norm(μ, σ)"
   ]
  },
  {
   "cell_type": "code",
   "execution_count": null,
   "id": "d1246dd7",
   "metadata": {},
   "outputs": [],
   "source": [
    "x_grid = np.linspace(-50, 65, 200)\n",
    "fig, ax = plt.subplots()\n",
    "ax.plot(x_grid, u.pdf(x_grid))\n",
    "ax.hist(x_amazon, density=True, bins=40)\n",
    "plt.show()"
   ]
  },
  {
   "cell_type": "markdown",
   "id": "852f465b",
   "metadata": {
    "user_expressions": []
   },
   "source": [
    "The match between the histogram and the density is not very bad but also not very good.\n",
    "\n",
    "One reason is that the normal distribution is not really a good fit for this observed data --- we will discuss this point again when we talk about {ref}`heavy tailed distributions<heavy_tail>`."
   ]
  },
  {
   "cell_type": "markdown",
   "id": "de02c4a8",
   "metadata": {
    "user_expressions": []
   },
   "source": [
    "Of course, if the data really *is* generated by the normal distribution, then the fit will be better.\n",
    "\n",
    "Let's see this in action\n",
    "\n",
    "- first we generate random draws from the normal distribution\n",
    "- then we histogram them and compare with the density."
   ]
  },
  {
   "cell_type": "code",
   "execution_count": null,
   "id": "ba8f6fa5",
   "metadata": {},
   "outputs": [],
   "source": [
    "μ, σ = 0, 1\n",
    "u = scipy.stats.norm(μ, σ)\n",
    "N = 2000  # Number of observations\n",
    "x_draws = u.rvs(N)\n",
    "x_grid = np.linspace(-4, 4, 200)\n",
    "fig, ax = plt.subplots()\n",
    "ax.plot(x_grid, u.pdf(x_grid))\n",
    "ax.hist(x_draws, density=True, bins=40)\n",
    "plt.show()"
   ]
  },
  {
   "cell_type": "markdown",
   "id": "90df683f",
   "metadata": {
    "user_expressions": []
   },
   "source": [
    "Note that if you keep increasing $N$, which is the number of observations, the fit will get better and better.\n",
    "\n",
    "This convergence is a version of the \"law of large numbers\", which we will discuss {ref}`later<lln_mr>`."
   ]
  }
 ],
 "metadata": {
  "jupytext": {
   "text_representation": {
    "extension": ".md",
    "format_name": "myst",
    "format_version": 0.13,
    "jupytext_version": "1.14.5"
   }
  },
  "kernelspec": {
   "display_name": "Python 3 (ipykernel)",
   "language": "python",
   "name": "python3"
  },
  "source_map": [
   14,
   29,
   33,
   42,
   98,
   103,
   107,
   109,
   113,
   117,
   121,
   125,
   129,
   138,
   142,
   151,
   155,
   181,
   187,
   189,
   195,
   199,
   208,
   212,
   221,
   235,
   243,
   261,
   266,
   268,
   274,
   279,
   283,
   292,
   296,
   325,
   342,
   347,
   349,
   353,
   369,
   373,
   385,
   406,
   411,
   415,
   431,
   443,
   461,
   466,
   470,
   484,
   494,
   520,
   525,
   529,
   544,
   554,
   573,
   578,
   582,
   597,
   607,
   611,
   617,
   633,
   643,
   661,
   665,
   669,
   673,
   691,
   695,
   699,
   706,
   716,
   723,
   727,
   731,
   735,
   739,
   745,
   753,
   757,
   761,
   768,
   777,
   781,
   787,
   793,
   800,
   806,
   810,
   824,
   831,
   839,
   845,
   854,
   866
  ]
 },
 "nbformat": 4,
 "nbformat_minor": 5
}