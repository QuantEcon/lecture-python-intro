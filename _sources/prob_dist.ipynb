{
 "cells": [
  {
   "cell_type": "markdown",
   "id": "b4684f83",
   "metadata": {},
   "source": [
    "# Distributions and Probabilities\n",
    "\n",
    "```{index} single: Distributions and Probabilities\n",
    "```\n",
    "\n",
    "## Outline\n",
    "\n",
    "In this lecture we give a quick introduction to data and probability distributions using Python."
   ]
  },
  {
   "cell_type": "code",
   "execution_count": null,
   "id": "eb2581d6",
   "metadata": {
    "tags": [
     "hide-output"
    ]
   },
   "outputs": [],
   "source": [
    "!pip install --upgrade yfinance  "
   ]
  },
  {
   "cell_type": "code",
   "execution_count": null,
   "id": "cddcc31c",
   "metadata": {},
   "outputs": [],
   "source": [
    "import matplotlib.pyplot as plt\n",
    "import pandas as pd\n",
    "import numpy as np\n",
    "import yfinance as yf\n",
    "import scipy.stats\n",
    "import seaborn as sns"
   ]
  },
  {
   "cell_type": "markdown",
   "id": "cc060e54",
   "metadata": {},
   "source": [
    "## Common distributions\n",
    "\n",
    "In this section we recall the definitions of some well-known distributions and explore how to manipulate them with SciPy.\n",
    "\n",
    "### Discrete distributions\n",
    "\n",
    "Let's start with discrete distributions.\n",
    "\n",
    "A discrete distribution is defined by a set of numbers $S = \\{x_1, \\ldots, x_n\\}$ and a **probability mass function** (PMF) on $S$, which is a function $p$ from $S$ to $[0,1]$ with the property \n",
    "\n",
    "$$ \\sum_{i=1}^n p(x_i) = 1 $$\n",
    "\n",
    "We say that a random variable $X$ **has distribution** $p$ if $X$ takes value $x_i$ with probability $p(x_i)$.\n",
    "\n",
    "That is,\n",
    "\n",
    "$$ \\mathbb P\\{X = x_i\\} = p(x_i) \\quad \\text{for } i= 1, \\ldots, n $$\n",
    "\n",
    "The **mean** or **expected value** of a random variable $X$ with distribution $p$ is \n",
    "\n",
    "$$ \n",
    "    \\mathbb{E}[X] = \\sum_{i=1}^n x_i p(x_i)\n",
    "$$\n",
    "\n",
    "Expectation is also called the *first moment* of the distribution.\n",
    "\n",
    "We also refer to this number as the mean of the distribution (represented by) $p$.\n",
    "\n",
    "The **variance** of $X$ is defined as \n",
    "\n",
    "$$ \n",
    "    \\mathbb{V}[X] = \\sum_{i=1}^n (x_i - \\mathbb{E}[X])^2 p(x_i)\n",
    "$$\n",
    "\n",
    "Variance is also called the *second central moment* of the distribution.\n",
    "\n",
    "The **cumulative distribution function** (CDF) of $X$ is defined by\n",
    "\n",
    "$$\n",
    "    F(x) = \\mathbb{P}\\{X \\leq x\\}\n",
    "         = \\sum_{i=1}^n \\mathbb 1\\{x_i \\leq x\\} p(x_i)\n",
    "$$\n",
    "\n",
    "Here $\\mathbb 1\\{ \\textrm{statement} \\} = 1$ if \"statement\" is true and zero otherwise.\n",
    "\n",
    "Hence the second term takes all $x_i \\leq x$ and sums their probabilities.\n",
    "\n",
    "\n",
    "#### Uniform distribution\n",
    "\n",
    "One simple example is the **uniform distribution**, where $p(x_i) = 1/n$ for all $i$.\n",
    "\n",
    "We can import the uniform distribution on $S = \\{1, \\ldots, n\\}$  from SciPy like so:"
   ]
  },
  {
   "cell_type": "code",
   "execution_count": null,
   "id": "9f5cf759",
   "metadata": {},
   "outputs": [],
   "source": [
    "n = 10\n",
    "u = scipy.stats.randint(1, n+1)"
   ]
  },
  {
   "cell_type": "markdown",
   "id": "e1ad8e94",
   "metadata": {},
   "source": [
    "Here's the mean and variance:"
   ]
  },
  {
   "cell_type": "code",
   "execution_count": null,
   "id": "e9193ecc",
   "metadata": {},
   "outputs": [],
   "source": [
    "u.mean(), u.var()"
   ]
  },
  {
   "cell_type": "markdown",
   "id": "6f31630e",
   "metadata": {},
   "source": [
    "The formula for the mean is $(n+1)/2$, and the formula for the variance is $(n^2 - 1)/12$.\n",
    "\n",
    "\n",
    "Now let's evaluate the PMF:"
   ]
  },
  {
   "cell_type": "code",
   "execution_count": null,
   "id": "aa052fcf",
   "metadata": {},
   "outputs": [],
   "source": [
    "u.pmf(1)"
   ]
  },
  {
   "cell_type": "code",
   "execution_count": null,
   "id": "f91efbb8",
   "metadata": {},
   "outputs": [],
   "source": [
    "u.pmf(2)"
   ]
  },
  {
   "cell_type": "markdown",
   "id": "de81f9eb",
   "metadata": {},
   "source": [
    "Here's a plot of the probability mass function:"
   ]
  },
  {
   "cell_type": "code",
   "execution_count": null,
   "id": "952cd653",
   "metadata": {},
   "outputs": [],
   "source": [
    "fig, ax = plt.subplots()\n",
    "S = np.arange(1, n+1)\n",
    "ax.plot(S, u.pmf(S), linestyle='', marker='o', alpha=0.8, ms=4)\n",
    "ax.vlines(S, 0, u.pmf(S), lw=0.2)\n",
    "ax.set_xticks(S)\n",
    "plt.show()"
   ]
  },
  {
   "cell_type": "markdown",
   "id": "25929989",
   "metadata": {},
   "source": [
    "Here's a plot of the CDF:"
   ]
  },
  {
   "cell_type": "code",
   "execution_count": null,
   "id": "b54d8b6b",
   "metadata": {},
   "outputs": [],
   "source": [
    "fig, ax = plt.subplots()\n",
    "S = np.arange(1, n+1)\n",
    "ax.step(S, u.cdf(S))\n",
    "ax.vlines(S, 0, u.cdf(S), lw=0.2)\n",
    "ax.set_xticks(S)\n",
    "plt.show()"
   ]
  },
  {
   "cell_type": "markdown",
   "id": "5625b8e9",
   "metadata": {},
   "source": [
    "The CDF jumps up by $p(x_i)$ at $x_i$.\n",
    "\n",
    "\n",
    "```{exercise}\n",
    ":label: prob_ex1\n",
    "\n",
    "Calculate the mean and variance for this parameterization (i.e., $n=10$)\n",
    "directly from the PMF, using the expressions given above.\n",
    "\n",
    "Check that your answers agree with `u.mean()` and `u.var()`. \n",
    "```\n",
    "\n",
    "\n",
    "#### Bernoulli distribution\n",
    "\n",
    "Another useful distribution is the Bernoulli distribution on $S = \\{0,1\\}$, which has PMF:\n",
    "\n",
    "$$\n",
    "p(x_i)=\n",
    "\\begin{cases}\n",
    "p & \\text{if $x_i = 1$}\\\\\n",
    "1-p & \\text{if $x_i = 0$}\n",
    "\\end{cases}\n",
    "$$\n",
    "\n",
    "Here $x_i \\in S$ is the outcome of the random variable.\n",
    "\n",
    "We can import the Bernoulli distribution on $S = \\{0,1\\}$ from SciPy like so:"
   ]
  },
  {
   "cell_type": "code",
   "execution_count": null,
   "id": "474197a8",
   "metadata": {},
   "outputs": [],
   "source": [
    "p = 0.4 \n",
    "u = scipy.stats.bernoulli(p)"
   ]
  },
  {
   "cell_type": "markdown",
   "id": "97d88635",
   "metadata": {},
   "source": [
    "Here's the mean and variance:"
   ]
  },
  {
   "cell_type": "code",
   "execution_count": null,
   "id": "9f804618",
   "metadata": {},
   "outputs": [],
   "source": [
    "u.mean(), u.var()"
   ]
  },
  {
   "cell_type": "markdown",
   "id": "7003a72e",
   "metadata": {},
   "source": [
    "The formula for the mean is $p$, and the formula for the variance is $p(1-p)$.\n",
    "\n",
    "\n",
    "Now let's evaluate the PMF:"
   ]
  },
  {
   "cell_type": "code",
   "execution_count": null,
   "id": "a0242530",
   "metadata": {},
   "outputs": [],
   "source": [
    "u.pmf(0)\n",
    "u.pmf(1)"
   ]
  },
  {
   "cell_type": "markdown",
   "id": "8dad466e",
   "metadata": {},
   "source": [
    "#### Binomial distribution\n",
    "\n",
    "Another useful (and more interesting) distribution is the **binomial distribution** on $S=\\{0, \\ldots, n\\}$, which has PMF:\n",
    "\n",
    "$$ \n",
    "    p(i) = \\binom{n}{i} \\theta^i (1-\\theta)^{n-i}\n",
    "$$\n",
    "\n",
    "Here $\\theta \\in [0,1]$ is a parameter.\n",
    "\n",
    "The interpretation of $p(i)$ is: the probability of $i$ successes in $n$ independent trials with success probability $\\theta$.\n",
    "\n",
    "For example, if $\\theta=0.5$, then $p(i)$ is the probability of $i$ heads in $n$ flips of a fair coin.\n",
    "\n",
    "The mean and variance are:"
   ]
  },
  {
   "cell_type": "code",
   "execution_count": null,
   "id": "c87f7f39",
   "metadata": {},
   "outputs": [],
   "source": [
    "n = 10\n",
    "θ = 0.5\n",
    "u = scipy.stats.binom(n, θ)"
   ]
  },
  {
   "cell_type": "code",
   "execution_count": null,
   "id": "c9aabe08",
   "metadata": {},
   "outputs": [],
   "source": [
    "u.mean(), u.var()"
   ]
  },
  {
   "cell_type": "markdown",
   "id": "8c7a26ff",
   "metadata": {},
   "source": [
    "The formula for the mean is $n \\theta$ and the formula for the variance is $n \\theta (1-\\theta)$.\n",
    "\n",
    "Here's the PMF:"
   ]
  },
  {
   "cell_type": "code",
   "execution_count": null,
   "id": "04ee368a",
   "metadata": {},
   "outputs": [],
   "source": [
    "u.pmf(1)"
   ]
  },
  {
   "cell_type": "code",
   "execution_count": null,
   "id": "a5cf4752",
   "metadata": {},
   "outputs": [],
   "source": [
    "fig, ax = plt.subplots()\n",
    "S = np.arange(1, n+1)\n",
    "ax.plot(S, u.pmf(S), linestyle='', marker='o', alpha=0.8, ms=4)\n",
    "ax.vlines(S, 0, u.pmf(S), lw=0.2)\n",
    "ax.set_xticks(S)\n",
    "plt.show()"
   ]
  },
  {
   "cell_type": "markdown",
   "id": "e56786fc",
   "metadata": {},
   "source": [
    "Here's the CDF:"
   ]
  },
  {
   "cell_type": "code",
   "execution_count": null,
   "id": "00239b89",
   "metadata": {},
   "outputs": [],
   "source": [
    "fig, ax = plt.subplots()\n",
    "S = np.arange(1, n+1)\n",
    "ax.step(S, u.cdf(S))\n",
    "ax.vlines(S, 0, u.cdf(S), lw=0.2)\n",
    "ax.set_xticks(S)\n",
    "plt.show()"
   ]
  },
  {
   "cell_type": "markdown",
   "id": "4af11cae",
   "metadata": {},
   "source": [
    "```{exercise}\n",
    ":label: prob_ex3\n",
    "\n",
    "Using `u.pmf`, check that our definition of the CDF given above calculates the same function as `u.cdf`.\n",
    "```\n",
    "\n",
    "```{solution-start} prob_ex3\n",
    ":class: dropdown\n",
    "```\n",
    "\n",
    "Here is one solution:"
   ]
  },
  {
   "cell_type": "code",
   "execution_count": null,
   "id": "88f5d768",
   "metadata": {},
   "outputs": [],
   "source": [
    "fig, ax = plt.subplots()\n",
    "S = np.arange(1, n+1)\n",
    "u_sum = np.cumsum(u.pmf(S))\n",
    "ax.step(S, u_sum)\n",
    "ax.vlines(S, 0, u_sum, lw=0.2)\n",
    "ax.set_xticks(S)\n",
    "plt.show()"
   ]
  },
  {
   "cell_type": "markdown",
   "id": "85c4dd67",
   "metadata": {},
   "source": [
    "We can see that the output graph is the same as the one above.\n",
    "\n",
    "```{solution-end}\n",
    "```\n",
    "\n",
    "#### Poisson distribution\n",
    "\n",
    "Poisson distribution on $S = \\{0, 1, \\ldots\\}$ with parameter $\\lambda > 0$ has PMF\n",
    "\n",
    "$$\n",
    "    p(i) = \\frac{\\lambda^i}{i!} e^{-\\lambda}\n",
    "$$\n",
    "\n",
    "The interpretation of $p(i)$ is: the probability of $i$ events in a fixed time interval, where the events occur at a constant rate $\\lambda$ and independently of each other.\n",
    "\n",
    "The mean and variance are:"
   ]
  },
  {
   "cell_type": "code",
   "execution_count": null,
   "id": "f09da8d4",
   "metadata": {},
   "outputs": [],
   "source": [
    "λ = 2\n",
    "u = scipy.stats.poisson(λ)"
   ]
  },
  {
   "cell_type": "code",
   "execution_count": null,
   "id": "f177c6b1",
   "metadata": {},
   "outputs": [],
   "source": [
    "u.mean(), u.var()"
   ]
  },
  {
   "cell_type": "markdown",
   "id": "e79ab79c",
   "metadata": {},
   "source": [
    "The the expectation of Poisson distribution is $\\lambda$ and the variance is also $\\lambda$.\n",
    "\n",
    "Here's the PMF:"
   ]
  },
  {
   "cell_type": "code",
   "execution_count": null,
   "id": "3003a778",
   "metadata": {},
   "outputs": [],
   "source": [
    "λ = 2\n",
    "u = scipy.stats.poisson(λ)"
   ]
  },
  {
   "cell_type": "code",
   "execution_count": null,
   "id": "f0c30566",
   "metadata": {},
   "outputs": [],
   "source": [
    "u.pmf(1)"
   ]
  },
  {
   "cell_type": "code",
   "execution_count": null,
   "id": "02bbfe62",
   "metadata": {},
   "outputs": [],
   "source": [
    "fig, ax = plt.subplots()\n",
    "S = np.arange(1, n+1)\n",
    "ax.plot(S, u.pmf(S), linestyle='', marker='o', alpha=0.8, ms=4)\n",
    "ax.vlines(S, 0, u.pmf(S), lw=0.2)\n",
    "ax.set_xticks(S)\n",
    "plt.show()"
   ]
  },
  {
   "cell_type": "markdown",
   "id": "a8b606f0",
   "metadata": {},
   "source": [
    "### Continuous distributions\n",
    "\n",
    "\n",
    "Continuous distributions are represented by a **probability density function**, which is a function $p$ over $\\mathbb R$ (the set of all real numbers) such that $p(x) \\geq 0$ for all $x$ and\n",
    "\n",
    "$$ \\int_{-\\infty}^\\infty p(x) dx = 1 $$\n",
    "\n",
    "We say that random variable $X$ has distribution $p$ if\n",
    "\n",
    "$$\n",
    "    \\mathbb P\\{a < X < b\\} = \\int_a^b p(x) dx\n",
    "$$\n",
    "\n",
    "for all $a \\leq b$.\n",
    "\n",
    "The definition of the mean and variance of a random variable $X$ with distribution $p$ are the same as the discrete case, after replacing the sum with an integral.\n",
    "\n",
    "For example, the mean of $X$ is\n",
    "\n",
    "$$\n",
    "    \\mathbb{E}[X] = \\int_{-\\infty}^\\infty x p(x) dx\n",
    "$$\n",
    "\n",
    "The **cumulative distribution function** (CDF) of $X$ is defined by\n",
    "\n",
    "$$\n",
    "    F(x) = \\mathbb P\\{X \\leq x\\}\n",
    "         = \\int_{-\\infty}^x p(x) dx\n",
    "$$\n",
    "\n",
    "\n",
    "#### Normal distribution\n",
    "\n",
    "Perhaps the most famous distribution is the **normal distribution**, which has density\n",
    "\n",
    "$$\n",
    "    p(x) = \\frac{1}{\\sqrt{2\\pi}\\sigma}\n",
    "              \\exp\\left(-\\frac{(x-\\mu)^2}{2\\sigma^2}\\right)\n",
    "$$\n",
    "\n",
    "This distribution has two parameters, $\\mu$ and $\\sigma$.  \n",
    "\n",
    "It can be shown that, for this distribution, the mean is $\\mu$ and the variance is $\\sigma^2$.\n",
    "\n",
    "We can obtain the moments, PDF and CDF of the normal density as follows:"
   ]
  },
  {
   "cell_type": "code",
   "execution_count": null,
   "id": "e5fe59bc",
   "metadata": {},
   "outputs": [],
   "source": [
    "μ, σ = 0.0, 1.0\n",
    "u = scipy.stats.norm(μ, σ)"
   ]
  },
  {
   "cell_type": "code",
   "execution_count": null,
   "id": "062b0a49",
   "metadata": {},
   "outputs": [],
   "source": [
    "u.mean(), u.var()"
   ]
  },
  {
   "cell_type": "markdown",
   "id": "976953ca",
   "metadata": {},
   "source": [
    "Here's a plot of the density --- the famous \"bell-shaped curve\":"
   ]
  },
  {
   "cell_type": "code",
   "execution_count": null,
   "id": "c93cf867",
   "metadata": {},
   "outputs": [],
   "source": [
    "μ_vals = [-1, 0, 1]\n",
    "σ_vals = [0.4, 1, 1.6]\n",
    "fig, ax = plt.subplots()\n",
    "x_grid = np.linspace(-4, 4, 200)\n",
    "\n",
    "for μ, σ in zip(μ_vals, σ_vals):\n",
    "    u = scipy.stats.norm(μ, σ)\n",
    "    ax.plot(x_grid, u.pdf(x_grid),\n",
    "    alpha=0.5, lw=2,\n",
    "    label=f'$\\mu={μ}, \\sigma={σ}$')\n",
    "\n",
    "plt.legend()\n",
    "plt.show()"
   ]
  },
  {
   "cell_type": "markdown",
   "id": "d5fb0c33",
   "metadata": {},
   "source": [
    "Here's a plot of the CDF:"
   ]
  },
  {
   "cell_type": "code",
   "execution_count": null,
   "id": "cb8c4d32",
   "metadata": {},
   "outputs": [],
   "source": [
    "fig, ax = plt.subplots()\n",
    "for μ, σ in zip(μ_vals, σ_vals):\n",
    "    u = scipy.stats.norm(μ, σ)\n",
    "    ax.plot(x_grid, u.cdf(x_grid),\n",
    "    alpha=0.5, lw=2,\n",
    "    label=f'$\\mu={μ}, \\sigma={σ}$')\n",
    "    ax.set_ylim(0, 1)\n",
    "plt.legend()\n",
    "plt.show()"
   ]
  },
  {
   "cell_type": "markdown",
   "id": "5d28932c",
   "metadata": {},
   "source": [
    "#### Lognormal distribution\n",
    "\n",
    "The **lognormal distribution** is a distribution on $\\left(0, \\infty\\right)$ with density\n",
    "\n",
    "$$\n",
    "    p(x) = \\frac{1}{\\sigma x \\sqrt{2\\pi}}\n",
    "        \\exp \\left(- \\frac{\\left(\\log x - \\mu\\right)^2}{2 \\sigma^2} \\right)\n",
    "$$\n",
    "\n",
    "This distribution has two parameters, $\\mu$ and $\\sigma$.\n",
    "\n",
    "It can be shown that, for this distribution, the mean is $\\exp\\left(\\mu + \\sigma^2/2\\right)$ and the variance is $\\left[\\exp\\left(\\sigma^2\\right) - 1\\right] \\exp\\left(2\\mu + \\sigma^2\\right)$.\n",
    "\n",
    "It has a nice interpretation: if $X$ is lognormally distributed, then $\\log X$ is normally distributed.\n",
    "\n",
    "It is often used to model variables that are \"multiplicative\" in nature, such as income or asset prices.\n",
    "\n",
    "We can obtain the moments, PDF, and CDF of the lognormal density as follows:"
   ]
  },
  {
   "cell_type": "code",
   "execution_count": null,
   "id": "38b85b01",
   "metadata": {},
   "outputs": [],
   "source": [
    "μ, σ = 0.0, 1.0\n",
    "u = scipy.stats.lognorm(s=σ, scale=np.exp(μ))"
   ]
  },
  {
   "cell_type": "code",
   "execution_count": null,
   "id": "670675b5",
   "metadata": {},
   "outputs": [],
   "source": [
    "u.mean(), u.var()"
   ]
  },
  {
   "cell_type": "code",
   "execution_count": null,
   "id": "70b74f93",
   "metadata": {},
   "outputs": [],
   "source": [
    "μ_vals = [-1, 0, 1]\n",
    "σ_vals = [0.25, 0.5, 1]\n",
    "x_grid = np.linspace(0, 3, 200)\n",
    "\n",
    "fig, ax = plt.subplots()\n",
    "for μ, σ in zip(μ_vals, σ_vals):\n",
    "    u = scipy.stats.lognorm(σ, scale=np.exp(μ))\n",
    "    ax.plot(x_grid, u.pdf(x_grid),\n",
    "    alpha=0.5, lw=2,\n",
    "    label=f'$\\mu={μ}, \\sigma={σ}$')\n",
    "\n",
    "plt.legend()\n",
    "plt.show()"
   ]
  },
  {
   "cell_type": "code",
   "execution_count": null,
   "id": "e78f24b4",
   "metadata": {},
   "outputs": [],
   "source": [
    "fig, ax = plt.subplots()\n",
    "μ = 1\n",
    "for σ in σ_vals:\n",
    "    u = scipy.stats.norm(μ, σ)\n",
    "    ax.plot(x_grid, u.cdf(x_grid),\n",
    "    alpha=0.5, lw=2,\n",
    "    label=f'$\\mu={μ}, \\sigma={σ}$')\n",
    "    ax.set_ylim(0, 1)\n",
    "    ax.set_xlim(0, 3)\n",
    "plt.legend()\n",
    "plt.show()"
   ]
  },
  {
   "cell_type": "markdown",
   "id": "3cf2c1ce",
   "metadata": {},
   "source": [
    "#### Exponential distribution\n",
    "\n",
    "The **exponential distribution** is a distribution on $\\left(0, \\infty\\right)$ with density\n",
    "\n",
    "$$\n",
    "    p(x) = \\lambda \\exp \\left( - \\lambda x \\right)\n",
    "$$\n",
    "\n",
    "This distribution has one parameter, $\\lambda$.\n",
    "\n",
    "It is related to the Poisson distribution as it describes the distribution of the length of the time interval between two consecutive events in a Poisson process.\n",
    "\n",
    "It can be shown that, for this distribution, the mean is $1/\\lambda$ and the variance is $1/\\lambda^2$.\n",
    "\n",
    "We can obtain the moments, PDF, and CDF of the exponential density as follows:"
   ]
  },
  {
   "cell_type": "code",
   "execution_count": null,
   "id": "cbae8bb8",
   "metadata": {},
   "outputs": [],
   "source": [
    "λ = 1.0\n",
    "u = scipy.stats.expon(scale=1/λ)"
   ]
  },
  {
   "cell_type": "code",
   "execution_count": null,
   "id": "fe4a3091",
   "metadata": {},
   "outputs": [],
   "source": [
    "u.mean(), u.var()"
   ]
  },
  {
   "cell_type": "code",
   "execution_count": null,
   "id": "4d4f99ce",
   "metadata": {},
   "outputs": [],
   "source": [
    "fig, ax = plt.subplots()\n",
    "λ_vals = [0.5, 1, 2]\n",
    "x_grid = np.linspace(0, 6, 200)\n",
    "\n",
    "for λ in λ_vals:\n",
    "    u = scipy.stats.expon(scale=1/λ)\n",
    "    ax.plot(x_grid, u.pdf(x_grid),\n",
    "    alpha=0.5, lw=2,\n",
    "    label=f'$\\lambda={λ}$')\n",
    "plt.legend()\n",
    "plt.show()"
   ]
  },
  {
   "cell_type": "code",
   "execution_count": null,
   "id": "83f86021",
   "metadata": {},
   "outputs": [],
   "source": [
    "fig, ax = plt.subplots()\n",
    "for λ in λ_vals:\n",
    "    u = scipy.stats.expon(scale=1/λ)\n",
    "    ax.plot(x_grid, u.cdf(x_grid),\n",
    "    alpha=0.5, lw=2,\n",
    "    label=f'$\\lambda={λ}$')\n",
    "    ax.set_ylim(0, 1)\n",
    "plt.legend()\n",
    "plt.show()"
   ]
  },
  {
   "cell_type": "markdown",
   "id": "52b8788a",
   "metadata": {},
   "source": [
    "#### Beta distribution\n",
    "\n",
    "The **beta distribution** is a distribution on $(0, 1)$ with density\n",
    "\n",
    "$$\n",
    "    p(x) = \\frac{\\Gamma(\\alpha + \\beta)}{\\Gamma(\\alpha) \\Gamma(\\beta)}\n",
    "        x^{\\alpha - 1} (1 - x)^{\\beta - 1}\n",
    "$$\n",
    "\n",
    "where $\\Gamma$ is the [gamma function](https://en.wikipedia.org/wiki/Gamma_function).\n",
    "\n",
    "(The role of the gamma function is just to normalize the density, so that it\n",
    "integrates to one.)\n",
    "\n",
    "This distribution has two parameters, $\\alpha > 0$ and $\\beta > 0$.\n",
    "\n",
    "It can be shown that, for this distribution, the mean is $\\alpha / (\\alpha + \\beta)$ and \n",
    "the variance is $\\alpha \\beta / (\\alpha + \\beta)^2 (\\alpha + \\beta + 1)$.\n",
    "\n",
    "We can obtain the moments, PDF, and CDF of the Beta density as follows:"
   ]
  },
  {
   "cell_type": "code",
   "execution_count": null,
   "id": "0d106244",
   "metadata": {},
   "outputs": [],
   "source": [
    "α, β = 3.0, 1.0\n",
    "u = scipy.stats.beta(α, β)"
   ]
  },
  {
   "cell_type": "code",
   "execution_count": null,
   "id": "5e6a1cc9",
   "metadata": {},
   "outputs": [],
   "source": [
    "u.mean(), u.var()"
   ]
  },
  {
   "cell_type": "code",
   "execution_count": null,
   "id": "f06c2dfe",
   "metadata": {},
   "outputs": [],
   "source": [
    "α_vals = [0.5, 1, 5, 25, 3]\n",
    "β_vals = [3, 1, 10, 20, 0.5]\n",
    "x_grid = np.linspace(0, 1, 200)\n",
    "\n",
    "fig, ax = plt.subplots()\n",
    "for α, β in zip(α_vals, β_vals):\n",
    "    u = scipy.stats.beta(α, β)\n",
    "    ax.plot(x_grid, u.pdf(x_grid),\n",
    "    alpha=0.5, lw=2,\n",
    "    label=fr'$\\alpha={α}, \\beta={β}$')\n",
    "plt.legend()\n",
    "plt.show()"
   ]
  },
  {
   "cell_type": "code",
   "execution_count": null,
   "id": "8c6a14cf",
   "metadata": {},
   "outputs": [],
   "source": [
    "fig, ax = plt.subplots()\n",
    "for α, β in zip(α_vals, β_vals):\n",
    "    u = scipy.stats.beta(α, β)\n",
    "    ax.plot(x_grid, u.cdf(x_grid),\n",
    "    alpha=0.5, lw=2,\n",
    "    label=fr'$\\alpha={α}, \\beta={β}$')\n",
    "    ax.set_ylim(0, 1)\n",
    "plt.legend()\n",
    "plt.show()"
   ]
  },
  {
   "cell_type": "markdown",
   "id": "353e93be",
   "metadata": {},
   "source": [
    "#### Gamma distribution\n",
    "\n",
    "The **gamma distribution** is a distribution on $\\left(0, \\infty\\right)$ with density\n",
    "\n",
    "$$\n",
    "    p(x) = \\frac{\\beta^\\alpha}{\\Gamma(\\alpha)}\n",
    "        x^{\\alpha - 1} \\exp(-\\beta x)\n",
    "$$\n",
    "\n",
    "This distribution has two parameters, $\\alpha > 0$ and $\\beta > 0$.\n",
    "\n",
    "It can be shown that, for this distribution, the mean is $\\alpha / \\beta$ and\n",
    "the variance is $\\alpha / \\beta^2$.\n",
    "\n",
    "One interpretation is that if $X$ is gamma distributed and $\\alpha$ is an\n",
    "integer, then $X$ is the sum of $\\alpha$ independent exponentially distributed\n",
    "random variables with mean $1/\\beta$.\n",
    "\n",
    "We can obtain the moments, PDF, and CDF of the Gamma density as follows:"
   ]
  },
  {
   "cell_type": "code",
   "execution_count": null,
   "id": "80cccb9d",
   "metadata": {},
   "outputs": [],
   "source": [
    "α, β = 3.0, 2.0\n",
    "u = scipy.stats.gamma(α, scale=1/β)"
   ]
  },
  {
   "cell_type": "code",
   "execution_count": null,
   "id": "a03dfe46",
   "metadata": {},
   "outputs": [],
   "source": [
    "u.mean(), u.var()"
   ]
  },
  {
   "cell_type": "code",
   "execution_count": null,
   "id": "828741d1",
   "metadata": {},
   "outputs": [],
   "source": [
    "α_vals = [1, 3, 5, 10]\n",
    "β_vals = [3, 5, 3, 3]\n",
    "x_grid = np.linspace(0, 7, 200)\n",
    "\n",
    "fig, ax = plt.subplots()\n",
    "for α, β in zip(α_vals, β_vals):\n",
    "    u = scipy.stats.gamma(α, scale=1/β)\n",
    "    ax.plot(x_grid, u.pdf(x_grid),\n",
    "    alpha=0.5, lw=2,\n",
    "    label=fr'$\\alpha={α}, \\beta={β}$')\n",
    "plt.legend()\n",
    "plt.show()"
   ]
  },
  {
   "cell_type": "code",
   "execution_count": null,
   "id": "31c906af",
   "metadata": {},
   "outputs": [],
   "source": [
    "fig, ax = plt.subplots()\n",
    "for α, β in zip(α_vals, β_vals):\n",
    "    u = scipy.stats.gamma(α, scale=1/β)\n",
    "    ax.plot(x_grid, u.cdf(x_grid),\n",
    "    alpha=0.5, lw=2,\n",
    "    label=fr'$\\alpha={α}, \\beta={β}$')\n",
    "    ax.set_ylim(0, 1)\n",
    "plt.legend()\n",
    "plt.show()"
   ]
  },
  {
   "cell_type": "markdown",
   "id": "b0f30ddb",
   "metadata": {},
   "source": [
    "## Observed distributions\n",
    "\n",
    "\n",
    "Sometimes we refer to observed data or measurements as \"distributions\".\n",
    "\n",
    "For example, let's say we observe the income of 10 people over a year:"
   ]
  },
  {
   "cell_type": "code",
   "execution_count": null,
   "id": "6f69de24",
   "metadata": {},
   "outputs": [],
   "source": [
    "data = [['Hiroshi', 1200], \n",
    "        ['Ako', 1210], \n",
    "        ['Emi', 1400],\n",
    "        ['Daiki', 990],\n",
    "        ['Chiyo', 1530],\n",
    "        ['Taka', 1210],\n",
    "        ['Katsuhiko', 1240],\n",
    "        ['Daisuke', 1124],\n",
    "        ['Yoshi', 1330],\n",
    "        ['Rie', 1340]]\n",
    "\n",
    "df = pd.DataFrame(data, columns=['name', 'income'])\n",
    "df"
   ]
  },
  {
   "cell_type": "markdown",
   "id": "56aa31eb",
   "metadata": {},
   "source": [
    "In this situation, we might refer to the set of their incomes as the \"income distribution.\"\n",
    "\n",
    "The terminology is confusing because this set is not a probability distribution\n",
    "--- it's just a collection of numbers.\n",
    "\n",
    "However, as we will see, there are connections between observed distributions (i.e., sets of\n",
    "numbers like the income distribution above) and probability distributions.\n",
    "\n",
    "Below we explore some observed distributions.\n",
    "\n",
    "\n",
    "### Summary statistics\n",
    "\n",
    "Suppose we have an observed distribution with values $\\{x_1, \\ldots, x_n\\}$\n",
    "\n",
    "The **sample mean** of this distribution is defined as\n",
    "\n",
    "$$\n",
    "    \\bar x = \\frac{1}{n} \\sum_{i=1}^n x_i\n",
    "$$\n",
    "\n",
    "The **sample variance** is defined as \n",
    "\n",
    "$$\n",
    "    \\frac{1}{n} \\sum_{i=1}^n (x_i - \\bar x)^2\n",
    "$$\n",
    "\n",
    "For the income distribution given above, we can calculate these numbers via"
   ]
  },
  {
   "cell_type": "code",
   "execution_count": null,
   "id": "4d2c4edc",
   "metadata": {},
   "outputs": [],
   "source": [
    "x = np.asarray(df['income'])"
   ]
  },
  {
   "cell_type": "code",
   "execution_count": null,
   "id": "80ef5651",
   "metadata": {},
   "outputs": [],
   "source": [
    "x.mean(), x.var()"
   ]
  },
  {
   "cell_type": "markdown",
   "id": "17d3be99",
   "metadata": {},
   "source": [
    "```{exercise}\n",
    ":label: prob_ex4\n",
    "\n",
    "Check that the formulas given above produce the same numbers.\n",
    "```\n",
    "\n",
    "### Visualization\n",
    "\n",
    "Let's look at different ways that we can visualize one or more observed distributions.\n",
    "\n",
    "We will cover\n",
    "\n",
    "- histograms\n",
    "- kernel density estimates and\n",
    "- violin plots"
   ]
  },
  {
   "cell_type": "markdown",
   "id": "6e188bd6",
   "metadata": {
    "user_expressions": []
   },
   "source": [
    "#### Histograms"
   ]
  },
  {
   "cell_type": "markdown",
   "id": "2d4f890e",
   "metadata": {
    "user_expressions": []
   },
   "source": [
    "We can histogram the income distribution we just constructed as follows"
   ]
  },
  {
   "cell_type": "code",
   "execution_count": null,
   "id": "bbb7d326",
   "metadata": {},
   "outputs": [],
   "source": [
    "x = df['income']\n",
    "fig, ax = plt.subplots()\n",
    "ax.hist(x, bins=5, density=True, histtype='bar')\n",
    "plt.show()"
   ]
  },
  {
   "cell_type": "markdown",
   "id": "64f18a32",
   "metadata": {
    "user_expressions": []
   },
   "source": [
    "Let's look at a distribution from real data.\n",
    "\n",
    "In particular, we will look at the monthly return on Amazon shares between 2000/1/1 and 2023/1/1.\n",
    "\n",
    "The monthly return is calculated as the percent change in the share price over each month.\n",
    "\n",
    "So we will have one observation for each month."
   ]
  },
  {
   "cell_type": "code",
   "execution_count": null,
   "id": "091e5a10",
   "metadata": {
    "tags": [
     "hide-output"
    ]
   },
   "outputs": [],
   "source": [
    "df = yf.download('AMZN', '2000-1-1', '2023-1-1', interval='1mo' )\n",
    "prices = df['Adj Close']\n",
    "data = prices.pct_change()[1:] * 100\n",
    "data.head()"
   ]
  },
  {
   "cell_type": "markdown",
   "id": "b551bd5d",
   "metadata": {
    "user_expressions": []
   },
   "source": [
    "The first observation is the monthly return (percent change) over January 2000, which was"
   ]
  },
  {
   "cell_type": "code",
   "execution_count": null,
   "id": "88dcde04",
   "metadata": {},
   "outputs": [],
   "source": [
    "data[0] "
   ]
  },
  {
   "cell_type": "markdown",
   "id": "a7518045",
   "metadata": {
    "user_expressions": []
   },
   "source": [
    "Let's turn the return observations into an array and histogram it."
   ]
  },
  {
   "cell_type": "code",
   "execution_count": null,
   "id": "d875c85a",
   "metadata": {},
   "outputs": [],
   "source": [
    "x_amazon = np.asarray(data)"
   ]
  },
  {
   "cell_type": "code",
   "execution_count": null,
   "id": "5aac30aa",
   "metadata": {},
   "outputs": [],
   "source": [
    "fig, ax = plt.subplots()\n",
    "ax.hist(x_amazon, bins=20)\n",
    "plt.show()"
   ]
  },
  {
   "cell_type": "markdown",
   "id": "b10fe716",
   "metadata": {
    "user_expressions": []
   },
   "source": [
    "#### Kernel density estimates\n",
    "\n",
    "Kernel density estimate (KDE) is a non-parametric way to estimate and visualize the PDF of a distribution.\n",
    "\n",
    "KDE will generate a smooth curve that approximates the PDF."
   ]
  },
  {
   "cell_type": "code",
   "execution_count": null,
   "id": "d50d3fb0",
   "metadata": {},
   "outputs": [],
   "source": [
    "fig, ax = plt.subplots()\n",
    "sns.kdeplot(x_amazon, ax=ax)\n",
    "plt.show()"
   ]
  },
  {
   "cell_type": "markdown",
   "id": "1f65021f",
   "metadata": {},
   "source": [
    "The smoothness of the KDE is dependent on how we choose the bandwidth."
   ]
  },
  {
   "cell_type": "code",
   "execution_count": null,
   "id": "349c1969",
   "metadata": {},
   "outputs": [],
   "source": [
    "fig, ax = plt.subplots()\n",
    "sns.kdeplot(x_amazon, ax=ax, bw_adjust=0.1, alpha=0.5, label=\"bw=0.1\")\n",
    "sns.kdeplot(x_amazon, ax=ax, bw_adjust=0.5, alpha=0.5, label=\"bw=0.5\")\n",
    "sns.kdeplot(x_amazon, ax=ax, bw_adjust=1, alpha=0.5, label=\"bw=1\")\n",
    "plt.legend()\n",
    "plt.show()"
   ]
  },
  {
   "cell_type": "markdown",
   "id": "96ac887c",
   "metadata": {},
   "source": [
    "When we use a larger bandwidth, the KDE is smoother.\n",
    "\n",
    "A suitable bandwidth is not too smooth (underfitting) or too wiggly (overfitting).\n",
    "\n",
    "\n",
    "#### Violin plots"
   ]
  },
  {
   "cell_type": "markdown",
   "id": "c448342f",
   "metadata": {
    "user_expressions": []
   },
   "source": [
    "Yet another way to display an observed distribution is via a violin plot."
   ]
  },
  {
   "cell_type": "code",
   "execution_count": null,
   "id": "cd411d8f",
   "metadata": {},
   "outputs": [],
   "source": [
    "fig, ax = plt.subplots()\n",
    "ax.violinplot(x_amazon)\n",
    "plt.show()"
   ]
  },
  {
   "cell_type": "markdown",
   "id": "508ae8f1",
   "metadata": {
    "user_expressions": []
   },
   "source": [
    "Violin plots are particularly useful when we want to compare different distributions.\n",
    "\n",
    "For example, let's compare the monthly returns on Amazon shares with the monthly return on Apple shares."
   ]
  },
  {
   "cell_type": "code",
   "execution_count": null,
   "id": "e912c12b",
   "metadata": {
    "tags": [
     "hide-output"
    ]
   },
   "outputs": [],
   "source": [
    "df = yf.download('AAPL', '2000-1-1', '2023-1-1', interval='1mo' )\n",
    "prices = df['Adj Close']\n",
    "data = prices.pct_change()[1:] * 100\n",
    "x_apple = np.asarray(data)"
   ]
  },
  {
   "cell_type": "code",
   "execution_count": null,
   "id": "be5e14e8",
   "metadata": {},
   "outputs": [],
   "source": [
    "fig, ax = plt.subplots()\n",
    "ax.violinplot([x_amazon, x_apple])\n",
    "plt.show()"
   ]
  },
  {
   "cell_type": "markdown",
   "id": "08173f4d",
   "metadata": {
    "user_expressions": []
   },
   "source": [
    "### Connection to probability distributions"
   ]
  },
  {
   "cell_type": "markdown",
   "id": "55eba6bc",
   "metadata": {
    "user_expressions": []
   },
   "source": [
    "Let's discuss the connection between observed distributions and probability distributions.\n",
    "\n",
    "Sometimes it's helpful to imagine that an observed distribution is generated by a particular probability distribution.\n",
    "\n",
    "For example, we might look at the returns from Amazon above and imagine that they were generated by a normal distribution.\n",
    "\n",
    "Even though this is not true, it might be a helpful way to think about the data.\n",
    "\n",
    "Here we match a normal distribution to the Amazon monthly returns by setting the sample mean to the mean of the normal distribution and the sample variance equal to the variance.\n",
    "\n",
    "Then we plot the density and the histogram."
   ]
  },
  {
   "cell_type": "code",
   "execution_count": null,
   "id": "194713a9",
   "metadata": {},
   "outputs": [],
   "source": [
    "μ = x_amazon.mean()\n",
    "σ_squared = x_amazon.var()\n",
    "σ = np.sqrt(σ_squared)\n",
    "u = scipy.stats.norm(μ, σ)"
   ]
  },
  {
   "cell_type": "code",
   "execution_count": null,
   "id": "1dc0c4f5",
   "metadata": {},
   "outputs": [],
   "source": [
    "x_grid = np.linspace(-50, 65, 200)\n",
    "fig, ax = plt.subplots()\n",
    "ax.plot(x_grid, u.pdf(x_grid))\n",
    "ax.hist(x_amazon, density=True, bins=40)\n",
    "plt.show()"
   ]
  },
  {
   "cell_type": "markdown",
   "id": "efc097df",
   "metadata": {
    "user_expressions": []
   },
   "source": [
    "The match between the histogram and the density is not very bad but also not very good.\n",
    "\n",
    "One reason is that the normal distribution is not really a good fit for this observed data --- we will discuss this point again when we talk about {ref}`heavy tailed distributions<heavy_tail>`."
   ]
  },
  {
   "cell_type": "markdown",
   "id": "3ecc91af",
   "metadata": {
    "user_expressions": []
   },
   "source": [
    "Of course, if the data really *is* generated by the normal distribution, then the fit will be better.\n",
    "\n",
    "Let's see this in action\n",
    "\n",
    "- first we generate random draws from the normal distribution\n",
    "- then we histogram them and compare with the density."
   ]
  },
  {
   "cell_type": "code",
   "execution_count": null,
   "id": "9575f380",
   "metadata": {},
   "outputs": [],
   "source": [
    "μ, σ = 0, 1\n",
    "u = scipy.stats.norm(μ, σ)\n",
    "N = 2000  # Number of observations\n",
    "x_draws = u.rvs(N)\n",
    "x_grid = np.linspace(-4, 4, 200)\n",
    "fig, ax = plt.subplots()\n",
    "ax.plot(x_grid, u.pdf(x_grid))\n",
    "ax.hist(x_draws, density=True, bins=40)\n",
    "plt.show()"
   ]
  },
  {
   "cell_type": "markdown",
   "id": "363c886d",
   "metadata": {
    "user_expressions": []
   },
   "source": [
    "Note that if you keep increasing $N$, which is the number of observations, the fit will get better and better.\n",
    "\n",
    "This convergence is a version of the \"law of large numbers\", which we will discuss {ref}`later<lln_mr>`."
   ]
  }
 ],
 "metadata": {
  "jupytext": {
   "text_representation": {
    "extension": ".md",
    "format_name": "myst",
    "format_version": 0.13,
    "jupytext_version": "1.14.5"
   }
  },
  "kernelspec": {
   "display_name": "Python 3 (ipykernel)",
   "language": "python",
   "name": "python3"
  },
  "source_map": [
   12,
   24,
   29,
   36,
   93,
   96,
   101,
   103,
   110,
   114,
   116,
   121,
   128,
   133,
   140,
   172,
   175,
   180,
   182,
   189,
   192,
   211,
   217,
   219,
   225,
   229,
   236,
   241,
   248,
   263,
   271,
   289,
   294,
   296,
   302,
   307,
   311,
   318,
   367,
   372,
   374,
   378,
   392,
   397,
   407,
   429,
   434,
   438,
   454,
   466,
   484,
   489,
   493,
   507,
   517,
   540,
   545,
   549,
   564,
   574,
   597,
   602,
   606,
   621,
   631,
   640,
   654,
   686,
   690,
   692,
   711,
   715,
   719,
   726,
   736,
   744,
   748,
   752,
   756,
   760,
   766,
   774,
   778,
   782,
   789,
   798,
   802,
   808,
   814,
   822,
   828,
   832,
   846,
   853,
   861,
   867,
   876,
   888
  ]
 },
 "nbformat": 4,
 "nbformat_minor": 5
}