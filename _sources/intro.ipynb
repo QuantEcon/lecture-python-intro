{
 "cells": [
  {
   "cell_type": "markdown",
   "id": "6e3dae2a",
   "metadata": {},
   "source": [
    "# Computational Economics and Finance for Undergraduates\n",
    "\n",
    "```{admonition} Writing in progress\n",
    ":class: warning\n",
    "This lecture series is currently **in-work**\n",
    "```\n",
    "\n",
    "This website presents a set of lectures for undergraduates focusing on computational economics and finance, designed and written by [Thomas J. Sargent](http://www.tomsargent.com/) and [John Stachurski](http://johnstachurski.net/).\n",
    "\n",
    "For an overview of the series, see [this page](https://quantecon.org/python-lectures/)\n",
    "\n",
    "```{tableofcontents}\n",
    "```"
   ]
  }
 ],
 "metadata": {
  "jupytext": {
   "text_representation": {
    "extension": ".md",
    "format_name": "myst"
   }
  },
  "kernelspec": {
   "display_name": "Python 3",
   "language": "python",
   "name": "python3"
  },
  "source_map": [
   10
  ]
 },
 "nbformat": 4,
 "nbformat_minor": 5
}