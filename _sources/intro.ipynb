{
 "cells": [
  {
   "cell_type": "markdown",
   "id": "4dd7440c",
   "metadata": {},
   "source": [
    "# A First Course in Quantitative Economics with Python\n",
    "\n",
    "This lecture series provides an introduction to quantitative economics using Python. \n",
    "\n",
    "It was designed and written by [Thomas J. Sargent](http://www.tomsargent.com/), [John Stachurski](http://johnstachurski.net/), and the rest of the QuantEcon team. \n",
    "```{tableofcontents}\n",
    "```"
   ]
  }
 ],
 "metadata": {
  "jupytext": {
   "text_representation": {
    "extension": ".md",
    "format_name": "myst"
   }
  },
  "kernelspec": {
   "display_name": "Python 3",
   "language": "python",
   "name": "python3"
  },
  "source_map": [
   10
  ]
 },
 "nbformat": 4,
 "nbformat_minor": 5
}