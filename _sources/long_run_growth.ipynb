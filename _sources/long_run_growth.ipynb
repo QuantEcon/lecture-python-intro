{
 "cells": [
  {
   "cell_type": "markdown",
   "id": "afe661ba",
   "metadata": {},
   "source": [
    "# Long Run Growth\n",
    "\n",
    "```{admonition} Lecture IN-WORK\n",
    ":class: warning\n",
    "\n",
    "This lecture is still **under construction**\n",
    "```\n",
    "\n",
    "```{contents} Contents\n",
    ":depth: 2\n",
    "```\n",
    "\n",
    "## Overview\n",
    "\n",
    "This lecture looks at different growth trajectories across countries over the long term. \n",
    "\n",
    "While some countries have experienced long term rapid growth across that has last a hundred years, others have not. \n",
    "\n",
    "First let us import the packages needed to explore what the data says about long run growth."
   ]
  },
  {
   "cell_type": "code",
   "execution_count": null,
   "id": "5ab803fe",
   "metadata": {},
   "outputs": [],
   "source": [
    "import pandas as pd\n",
    "import os\n",
    "import matplotlib as mpl\n",
    "import matplotlib.pyplot as plt\n",
    "import numpy as np\n",
    "from matplotlib.lines import Line2D"
   ]
  },
  {
   "cell_type": "markdown",
   "id": "c9a2f5a6",
   "metadata": {
    "user_expressions": []
   },
   "source": [
    "A project initiated by [Angus Maddison](https://en.wikipedia.org/wiki/Angus_Maddison) has collected many historical time series that study economic growth. \n",
    "\n",
    "We can use the [Maddison Historical Statistics](https://www.rug.nl/ggdc/historicaldevelopment/maddison/) to look at many different countries, including some countries dating back to the first century. \n",
    "\n",
    "```{tip}\n",
    "The data can be downloaded from [this webpage](https://www.rug.nl/ggdc/historicaldevelopment/maddison/) and clicking on the `Latest Maddison Project Release`. In this lecture we use the [Maddison Project Database 2020](https://www.rug.nl/ggdc/historicaldevelopment/maddison/releases/maddison-project-database-2020) using the `Excel` Format. The code we use here assumes you have downloaded that file and will teach you how to use [pandas](https://pandas.pydata.org) to import that data into a DataFrame.\n",
    "```\n",
    "\n",
    "**TODO:** This is using locally imported data, should we fetch this file as part of the lecture?"
   ]
  },
  {
   "cell_type": "code",
   "execution_count": null,
   "id": "300226d3",
   "metadata": {},
   "outputs": [],
   "source": [
    "data = pd.read_excel(\"datasets/mpd2020.xlsx\", sheet_name='Full data')\n",
    "data"
   ]
  },
  {
   "cell_type": "markdown",
   "id": "ada55d79",
   "metadata": {
    "user_expressions": []
   },
   "source": [
    "We can see that this dataset contains GDP per capita (gdppc) and population (pop) for many countries and years.\n",
    "\n",
    "Let's look at how many and which countries are available in this dataset"
   ]
  },
  {
   "cell_type": "code",
   "execution_count": null,
   "id": "eb3cc0b2",
   "metadata": {},
   "outputs": [],
   "source": [
    "data.country.unique()"
   ]
  },
  {
   "cell_type": "code",
   "execution_count": null,
   "id": "0e408ef0",
   "metadata": {},
   "outputs": [],
   "source": [
    "len(data.country.unique())"
   ]
  },
  {
   "cell_type": "markdown",
   "id": "71b547c2",
   "metadata": {
    "user_expressions": []
   },
   "source": [
    "We can now explore some of the 169 countries that are available. \n",
    "\n",
    "Let's now loop over each country to understand which years are available for each country"
   ]
  },
  {
   "cell_type": "code",
   "execution_count": null,
   "id": "a80c1ea8",
   "metadata": {},
   "outputs": [],
   "source": [
    "cntry_years = []\n",
    "for cntry in data.country.unique():\n",
    "    cy_data = data[data.country == cntry]['year']\n",
    "    ymin, ymax = cy_data.min(), cy_data.max()\n",
    "    cntry_years.append((cntry, ymin, ymax))\n",
    "cntry_years = pd.DataFrame(cntry_years, columns=['country', 'Min Year', 'Max Year']).set_index('country')\n",
    "cntry_years"
   ]
  },
  {
   "cell_type": "code",
   "execution_count": null,
   "id": "b8d1078f",
   "metadata": {},
   "outputs": [],
   "source": [
    "cntry_years.loc['Australia']"
   ]
  },
  {
   "cell_type": "markdown",
   "id": "64955f6d",
   "metadata": {
    "user_expressions": []
   },
   "source": [
    "Let us now reshape the original data into some convenient variables to enable quicker access to countries time series data.\n",
    "\n",
    "We can build a useful mapping between country code's and country names in this dataset"
   ]
  },
  {
   "cell_type": "code",
   "execution_count": null,
   "id": "07d685de",
   "metadata": {},
   "outputs": [],
   "source": [
    "code_to_name = data[['countrycode','country']].drop_duplicates().reset_index(drop=True).set_index(['countrycode'])"
   ]
  },
  {
   "cell_type": "markdown",
   "id": "d5e4b087",
   "metadata": {
    "user_expressions": []
   },
   "source": [
    "Then we can quickly focus on GDP per capita (gdp)"
   ]
  },
  {
   "cell_type": "code",
   "execution_count": null,
   "id": "8e4cc8f1",
   "metadata": {},
   "outputs": [],
   "source": [
    "data"
   ]
  },
  {
   "cell_type": "code",
   "execution_count": null,
   "id": "a7a4ea52",
   "metadata": {},
   "outputs": [],
   "source": [
    "gdppc = data.set_index(['countrycode','year'])['gdppc']\n",
    "gdppc = gdppc.unstack('countrycode')"
   ]
  },
  {
   "cell_type": "code",
   "execution_count": null,
   "id": "5661a9ba",
   "metadata": {},
   "outputs": [],
   "source": [
    "gdppc"
   ]
  },
  {
   "cell_type": "markdown",
   "id": "a4c38822",
   "metadata": {
    "user_expressions": []
   },
   "source": [
    "Looking at the United Kingdom we can first confirm we are using the correct country code"
   ]
  },
  {
   "cell_type": "code",
   "execution_count": null,
   "id": "15f77d1b",
   "metadata": {},
   "outputs": [],
   "source": [
    "code_to_name.loc['GBR']"
   ]
  },
  {
   "cell_type": "markdown",
   "id": "b39a1a6a",
   "metadata": {
    "user_expressions": []
   },
   "source": [
    "and then using that code to access and plot the data"
   ]
  },
  {
   "cell_type": "code",
   "execution_count": null,
   "id": "c8351592",
   "metadata": {},
   "outputs": [],
   "source": [
    "fig = plt.figure(dpi=110)\n",
    "gdppc['GBR'].plot(ax = fig.gca())"
   ]
  },
  {
   "cell_type": "markdown",
   "id": "2ca1e941",
   "metadata": {},
   "source": [
    "We can see that the data is non-continuous for longer periods in early part of this milenium so we could choose to interpolate to get a continuous line plot."
   ]
  },
  {
   "cell_type": "code",
   "execution_count": null,
   "id": "0945bfae",
   "metadata": {},
   "outputs": [],
   "source": [
    "fig = plt.figure(dpi=110)\n",
    "cntry = 'GBR'\n",
    "gdppc[cntry].interpolate().plot(\n",
    "    ax = fig.gca(),\n",
    "    title = f'GDP per Capita ({cntry})',\n",
    "    ylabel = 'International $\\'s',\n",
    "    xlabel = 'Year'\n",
    ");"
   ]
  },
  {
   "cell_type": "markdown",
   "id": "adb62a56",
   "metadata": {
    "user_expressions": []
   },
   "source": [
    ":::{note}\n",
    "[International Dollars](https://en.wikipedia.org/wiki/International_dollar) are a hypothetical unit of currency that has the same purchasing power parity that the U.S. Dollar has in the United States and any given time. They are also known as Geary–Khamis dollar (GK Dollars).\n",
    ":::\n",
    "\n",
    "As you can see from this chart economic growth started in earnest in the 18th Century and continued for the next two hundred years. \n",
    "\n",
    "How does this compare with other countries growth trajectories? Let's look at the United States (USA), United Kingdom (GBR), and China (CHN)"
   ]
  },
  {
   "cell_type": "code",
   "execution_count": null,
   "id": "a8c5a07d",
   "metadata": {},
   "outputs": [],
   "source": [
    "fig = plt.figure(dpi=110)\n",
    "ax = fig.gca()\n",
    "cntry = ['USA', 'GBR', 'CHN']\n",
    "gdppc[cntry].plot(\n",
    "    ax = ax,\n",
    "    title = f'GDP per Capita',\n",
    "    ylabel = 'International $\\'s',\n",
    "    xlabel = 'Year'\n",
    ")\n",
    "\n",
    "# Build Custom Legend\n",
    "legend_elements = [Line2D([0], [0], color='blue', lw=4, label=code_to_name.loc['USA']['country']),\n",
    "                   Line2D([0], [0], color='orange', lw=4, label=code_to_name.loc['GBR']['country']),\n",
    "                   Line2D([0], [0], color='green', lw=4, label=code_to_name.loc['CHN']['country'])]\n",
    "ax.legend(handles=legend_elements, loc='center right', bbox_to_anchor=(1.4,0.5));\n",
    "\n",
    "#TODO: Define Styles for Countries to match colors and line styles (@mmcky)"
   ]
  },
  {
   "cell_type": "markdown",
   "id": "75dcc285",
   "metadata": {
    "user_expressions": []
   },
   "source": [
    "This dataset has been carefully curated to enable cross-country comparisons.\n",
    "\n",
    "Let's compare the growth trajectories of Australia (AUS) and Argentina (ARG)"
   ]
  },
  {
   "cell_type": "code",
   "execution_count": null,
   "id": "34f547fd",
   "metadata": {},
   "outputs": [],
   "source": [
    "fig = plt.figure(dpi=110)\n",
    "gdppc[['AUS', 'ARG']].plot(ax = fig.gca())"
   ]
  },
  {
   "cell_type": "markdown",
   "id": "6217bb4e",
   "metadata": {
    "user_expressions": []
   },
   "source": [
    "As you can see the countries had similar GDP per capita levels with divergence starting around 1940. Australia's growth experience is both more continuous and less volatile post 1940."
   ]
  },
  {
   "cell_type": "markdown",
   "id": "006fefba",
   "metadata": {
    "user_expressions": []
   },
   "source": [
    "## The Industrialized World\n",
    "\n",
    "Now we can look at total Gross Domestic Product (GDP) rather than focusing on GDP per capita (as a proxy for living standards)."
   ]
  },
  {
   "cell_type": "code",
   "execution_count": null,
   "id": "5eea8dc8",
   "metadata": {},
   "outputs": [],
   "source": [
    "data = pd.read_excel(\"datasets/mpd2020.xlsx\", sheet_name='Full data')\n",
    "data.set_index(['countrycode', 'year'], inplace=True)\n",
    "data['gdp'] = data['gdppc'] * data['pop']\n",
    "gdp = data['gdp'].unstack('countrycode')"
   ]
  },
  {
   "cell_type": "markdown",
   "id": "eb250f89",
   "metadata": {
    "user_expressions": []
   },
   "source": [
    "### Early Industralization (1820 to 1940)"
   ]
  },
  {
   "cell_type": "markdown",
   "id": "d152aa76",
   "metadata": {
    "user_expressions": []
   },
   "source": [
    "Gross Domestic Product"
   ]
  },
  {
   "cell_type": "code",
   "execution_count": null,
   "id": "88a4f9c2",
   "metadata": {},
   "outputs": [],
   "source": [
    "cntry = ['DEU', 'SUN', 'USA', 'GBR', 'FRA', 'JPN', 'CHN']\n",
    "start_year, end_year = (1820,1940)\n",
    "fig = plt.figure(dpi=110)\n",
    "gdp[cntry].loc[start_year:end_year].interpolate().plot(\n",
    "    ax=fig.gca(),\n",
    ");"
   ]
  },
  {
   "cell_type": "markdown",
   "id": "4f7d3136",
   "metadata": {
    "user_expressions": []
   },
   "source": [
    "GDP per Capita"
   ]
  },
  {
   "cell_type": "code",
   "execution_count": null,
   "id": "852a1aa7",
   "metadata": {},
   "outputs": [],
   "source": [
    "cntry = ['DEU', 'SUN', 'USA', 'GBR', 'FRA', 'JPN', 'CHN']\n",
    "start_year, end_year = (1820,1940)\n",
    "fig = plt.figure(dpi=110)\n",
    "gdppc[cntry].loc[start_year:end_year].interpolate().plot(\n",
    "    ax=fig.gca()\n",
    ");"
   ]
  },
  {
   "cell_type": "markdown",
   "id": "9198ddc1",
   "metadata": {
    "user_expressions": []
   },
   "source": [
    "## The Modern Era (1970 to 2018)"
   ]
  },
  {
   "cell_type": "markdown",
   "id": "e866ca1c",
   "metadata": {
    "user_expressions": []
   },
   "source": [
    "Gross Domestic Product (GDP)"
   ]
  },
  {
   "cell_type": "code",
   "execution_count": null,
   "id": "95e7b662",
   "metadata": {},
   "outputs": [],
   "source": [
    "cntry = ['DEU', 'SUN', 'USA', 'GBR', 'FRA', 'JPN', 'CHN']\n",
    "start_year, end_year = (1970, 2018)\n",
    "fig = plt.figure(dpi=110)\n",
    "gdp[cntry].loc[start_year:end_year].interpolate().plot(ax=fig.gca())\n",
    "plt.savefig(f\"plot-for-tom-gdp-{start_year}-to-{end_year}.png\", dpi=200)"
   ]
  },
  {
   "cell_type": "markdown",
   "id": "eeffd007",
   "metadata": {
    "user_expressions": []
   },
   "source": [
    "GDP per Capita"
   ]
  },
  {
   "cell_type": "code",
   "execution_count": null,
   "id": "846da8a0",
   "metadata": {},
   "outputs": [],
   "source": [
    "cntry = ['DEU', 'SUN', 'USA', 'GBR', 'FRA', 'JPN', 'CHN']\n",
    "start_year, end_year = (1970, 2018)\n",
    "fig = plt.figure(dpi=110)\n",
    "gdppc[cntry].loc[start_year:end_year].interpolate().plot(\n",
    "    ax=fig.gca()\n",
    ");"
   ]
  },
  {
   "cell_type": "markdown",
   "id": "138fb458",
   "metadata": {
    "user_expressions": []
   },
   "source": [
    "---\n",
    "\n",
    "## Other Interesting Plots\n",
    "\n",
    "Here are a collection of interesting plots that could be linked to interesting stories\n",
    "\n",
    "Looking at China GDP per capita levels from 1500 through to the 1970's showed a long period of declining GDP per capital levels from 1700's to early 20th century. (Closed Border / Inward Looking Domestic Focused Policies?)"
   ]
  },
  {
   "cell_type": "code",
   "execution_count": null,
   "id": "88e190f0",
   "metadata": {},
   "outputs": [],
   "source": [
    "fig = plt.figure(dpi=110)\n",
    "gdppc['CHN'].loc[1500:1980].interpolate().plot(ax=fig.gca());"
   ]
  },
  {
   "cell_type": "markdown",
   "id": "f2dbc0a8",
   "metadata": {
    "user_expressions": []
   },
   "source": [
    "China (CHN) then followed a very similar growth story from the 1980s through to current day China."
   ]
  },
  {
   "cell_type": "code",
   "execution_count": null,
   "id": "3dfb9dc7",
   "metadata": {},
   "outputs": [],
   "source": [
    "fig = plt.figure(dpi=110)\n",
    "gdppc[['CHN', 'GBR']].interpolate().plot(ax = fig.gca())"
   ]
  },
  {
   "cell_type": "code",
   "execution_count": null,
   "id": "06ba817a",
   "metadata": {},
   "outputs": [],
   "source": []
  },
  {
   "cell_type": "markdown",
   "id": "360f055e",
   "metadata": {
    "user_expressions": []
   },
   "source": [
    "## Regional Analysis"
   ]
  },
  {
   "cell_type": "code",
   "execution_count": null,
   "id": "60b61370",
   "metadata": {},
   "outputs": [],
   "source": [
    "data = pd.read_excel(\"datasets/mpd2020.xlsx\", sheet_name='Regional data', header=(0,1,2), index_col=0)\n",
    "data.columns = data.columns.droplevel(level=2)"
   ]
  },
  {
   "cell_type": "code",
   "execution_count": null,
   "id": "92be41fc",
   "metadata": {},
   "outputs": [],
   "source": [
    "regionalgdppc = data['gdppc_2011'].copy()\n",
    "regionalgdppc.index = pd.to_datetime(regionalgdppc.index, format='%Y')"
   ]
  },
  {
   "cell_type": "code",
   "execution_count": null,
   "id": "65f2dd05",
   "metadata": {},
   "outputs": [],
   "source": [
    "regionalgdppc.interpolate(method='time', inplace=True)"
   ]
  },
  {
   "cell_type": "code",
   "execution_count": null,
   "id": "36664b4d",
   "metadata": {},
   "outputs": [],
   "source": [
    "worldgdppc = regionalgdppc['World GDP pc']"
   ]
  },
  {
   "cell_type": "code",
   "execution_count": null,
   "id": "d843d39b",
   "metadata": {},
   "outputs": [],
   "source": [
    "fig = plt.figure(dpi=110)\n",
    "ax = worldgdppc.plot(\n",
    "    ax = fig.gca(),\n",
    "    title='World GDP per capita',\n",
    "    xlabel='Year',\n",
    "    ylabel='2011 US$',\n",
    ")"
   ]
  },
  {
   "cell_type": "code",
   "execution_count": null,
   "id": "dff34c14",
   "metadata": {},
   "outputs": [],
   "source": [
    "fig = plt.figure(dpi=110)\n",
    "regionalgdppc[['Western Offshoots', 'Sub-Sahara Africa']].plot(ax = fig.gca())"
   ]
  },
  {
   "cell_type": "code",
   "execution_count": null,
   "id": "120a1797",
   "metadata": {},
   "outputs": [],
   "source": [
    "fig = plt.figure(dpi=200)\n",
    "line_styles = ['-', '--', ':', '-.', '.', 'o']  # TODO: Improve this\n",
    "ax = regionalgdppc.plot(ax = fig.gca(), style=line_styles)\n",
    "plt.legend(loc='center left', bbox_to_anchor=(1.0, 0.5))"
   ]
  },
  {
   "cell_type": "code",
   "execution_count": null,
   "id": "12cc541e",
   "metadata": {},
   "outputs": [],
   "source": []
  },
  {
   "cell_type": "code",
   "execution_count": null,
   "id": "a4073206",
   "metadata": {},
   "outputs": [],
   "source": []
  },
  {
   "cell_type": "code",
   "execution_count": null,
   "id": "b6ced1a7",
   "metadata": {},
   "outputs": [],
   "source": []
  },
  {
   "cell_type": "code",
   "execution_count": null,
   "id": "160db0af",
   "metadata": {},
   "outputs": [],
   "source": []
  },
  {
   "cell_type": "code",
   "execution_count": null,
   "id": "99e179f1",
   "metadata": {},
   "outputs": [],
   "source": []
  },
  {
   "cell_type": "code",
   "execution_count": null,
   "id": "f1dc77a7",
   "metadata": {},
   "outputs": [],
   "source": []
  },
  {
   "cell_type": "code",
   "execution_count": null,
   "id": "d60ef0d9",
   "metadata": {},
   "outputs": [],
   "source": []
  },
  {
   "cell_type": "markdown",
   "id": "b77d9ffe",
   "metadata": {
    "user_expressions": []
   },
   "source": [
    "## Prior Work using World Bank Data"
   ]
  },
  {
   "cell_type": "markdown",
   "id": "10941083",
   "metadata": {},
   "source": [
    "The following code reads in the data into a pandas data frame."
   ]
  },
  {
   "cell_type": "code",
   "execution_count": null,
   "id": "71a6dc58",
   "metadata": {},
   "outputs": [],
   "source": [
    "wbi = pd.read_csv(\"datasets/GDP_per_capita_world_bank.csv\")"
   ]
  },
  {
   "cell_type": "markdown",
   "id": "0f8c4570",
   "metadata": {
    "user_expressions": []
   },
   "source": [
    "### Comparison of GDP between different Income Groups\n",
    "\n",
    "A few countries from different Income Groups where chosen to compare the GDP at a more targeted level. GDP of countries from all income groups were compared. \n",
    "\n",
    "```{list-table}\n",
    ":header-rows: 1\n",
    "\n",
    "* - High Income\n",
    "  - Upper middle income\n",
    "  - Lower middle income\n",
    "  - Low income\n",
    "* - USA\n",
    "  - China\n",
    "  - India\n",
    "  - Congo\n",
    "* - Canada\n",
    "  - Brazil\n",
    "  - Pakistan\n",
    "  - Uganda\n",
    "* - Australia\n",
    "  - Fiji\n",
    "  - Bangladesh\n",
    "  - Yemen\n",
    "* - Japan\n",
    "  - Jamaica\n",
    "  - Vietnam\n",
    "  - Afghanistan\n",
    "```\n",
    "\n",
    "#### Plot for all countries\n",
    "\n",
    "We compare time series graphs of all the countries in the list. The clear separation between high income countries and other groups are clearly seen. It seems at first glance that other income groups probably have similar economies. Let's look at that further in the following sections."
   ]
  },
  {
   "cell_type": "code",
   "execution_count": null,
   "id": "d7ffdaf6",
   "metadata": {},
   "outputs": [],
   "source": [
    "# USA, Canada, Australia, Japan, China, Brazil, Fiji, Jamaica, India, Pakistan, Bangladesh, Vietnam, Congo, Uganda, Yemen, Afghanistan\n",
    "country_list = ['USA', 'CAN', 'AUS', 'JPN', 'CHN', 'BRA', 'FJI', 'JAM', 'IND', 'PAK', 'BGD', 'VNM', 'COD', 'UGA', 'YEM', 'AFG']"
   ]
  },
  {
   "cell_type": "code",
   "execution_count": null,
   "id": "4151f592",
   "metadata": {},
   "outputs": [],
   "source": [
    "def filter_country_list_data(dataframe, country_list):\n",
    "    wbi_cl = dataframe.loc[dataframe['Country Code'].isin(country_list)]\n",
    "    wbi_cl = wbi_cl.drop(['Country Name' , 'Indicator Name', 'Indicator Code'], axis=1)\n",
    "    wbi_cl = wbi_cl.transpose()\n",
    "    wbi_cl = wbi_cl.rename(columns=wbi_cl.iloc[0])\n",
    "    wbi_cl = wbi_cl.drop(wbi_cl.index[0])\n",
    "    return wbi_cl"
   ]
  },
  {
   "cell_type": "code",
   "execution_count": null,
   "id": "0182ab1d",
   "metadata": {},
   "outputs": [],
   "source": [
    "wbi_country_filtered = filter_country_list_data(wbi, country_list)\n",
    "ax = wbi_country_filtered.plot()\n",
    "ax.set_xlabel(\"year\")\n",
    "ax.set_ylabel(\"GDP per capita (current US$) \")"
   ]
  },
  {
   "cell_type": "markdown",
   "id": "730fdb70",
   "metadata": {
    "user_expressions": []
   },
   "source": [
    "#### Plot for Upper middle and lower middle income groups\n",
    "\n",
    "Now, we compare the time-series graphs of GDP per capita for  upper middle and lower middle income group countries, taking one country from each group. China and Pakistan was chosen as they are from the same region. \n",
    "On analysing the graph, the difference is quite striking from 90s onwards. But also expected, as during that time China opened up for trade and labour. \n",
    "It can be concluded that, further inspection reveals the economies are vastly different in the present time, unlike what the previous graph was suggesting."
   ]
  },
  {
   "cell_type": "code",
   "execution_count": null,
   "id": "7568f7f3",
   "metadata": {},
   "outputs": [],
   "source": [
    "# China, Pakistan (Upper middle income and lower middle income)\n",
    "country_list_umi_lmi = ['CHN', 'PAK']\n",
    "wbi_filtered_umi_lmi = filter_country_list_data(wbi, country_list_umi_lmi)\n",
    "ax = wbi_filtered_umi_lmi.plot()\n",
    "ax.set_xlabel(\"year\")\n",
    "ax.set_ylabel(\"GDP per capita (current US$) \")"
   ]
  },
  {
   "cell_type": "markdown",
   "id": "6d11be88",
   "metadata": {},
   "source": [
    "#### Plot for lower middle income\n",
    "\n",
    "Here, we compare the time-series graphs of GDP per capita for two lower middle income group countries. Keeping Pakistan fixed in our set, we chose Vietnam as the second country. Apart from its turbulent past, its comeback from it and a steady growing economy qualifies it to be in this set. \n",
    "From the graph, we can see that Vietnam has done quite well from around 1990 onwards, and has quite surpassed Pakistan. We can also conclude that countries in the same income groups can be also be quite different."
   ]
  },
  {
   "cell_type": "code",
   "execution_count": null,
   "id": "ba4cfed3",
   "metadata": {},
   "outputs": [],
   "source": [
    "# Vietnam, Pakistan (Lower middle income)\n",
    "country_list_lmi = ['VNM', 'PAK']\n",
    "wbi_filtered_lmi = filter_country_list_data(wbi, country_list_lmi)\n",
    "ax = wbi_filtered_lmi.plot()\n",
    "ax.set_xlabel(\"year\")\n",
    "ax.set_ylabel(\"GDP per capita (current US$) \")"
   ]
  },
  {
   "cell_type": "markdown",
   "id": "64298622",
   "metadata": {},
   "source": [
    "#### Plot for lower middle income and low income\n",
    "\n",
    "Finally, we compare time-series graphs of GDP per capita between a lower middle income country and a low income country. Again, keeping Pakistan fixed in our set as a lower middle income country, we choose Democratic Republic of Congo as our second country from a low income group. Congo is chosen for no particular reason apart from its unstable political atmosphere and a dwindling economy. \n",
    "On comparing we see quite a bit of difference between these countries. With Pakistan's GDP per capita being almost four times as much. Further strengthening our assumption that countries from different income groups can be quite different."
   ]
  },
  {
   "cell_type": "code",
   "execution_count": null,
   "id": "773e6f4e",
   "metadata": {},
   "outputs": [],
   "source": [
    "# Pakistan, Congo (Lower middle income, low income)\n",
    "country_list_lmi_li = ['PAK', 'COD']\n",
    "wbi_filtered_lmi = filter_country_list_data(wbi, country_list_lmi_li)\n",
    "ax = wbi_filtered_lmi.plot()\n",
    "ax.set_xlabel(\"year\")\n",
    "ax.set_ylabel(\"GDP per capita (current US$) \")"
   ]
  },
  {
   "cell_type": "markdown",
   "id": "4c0511b2",
   "metadata": {
    "user_expressions": []
   },
   "source": [
    "### Histogram comparison between 1960, 1990, 2020\n",
    "\n",
    "We compare histograms of the **log** of GDP per capita for the years 1960, 1990 and 2020 for around 170 countries. The years have been chosen to give sufficient time gap between the histograms. We see that the overall plot is shifting towards right, denoting the upward trend in GDP per capita worldwide. And also, the overall distribution is becoming more Gaussian. Which indicates that the economies have gotten more uniform over the years. Economic disparities are getting lesser possibly because of globalisation, technological advancements, better use of resources etc."
   ]
  },
  {
   "cell_type": "code",
   "execution_count": null,
   "id": "0e884137",
   "metadata": {},
   "outputs": [],
   "source": [
    "def get_log_hist(data, years):\n",
    "    filtered_data = data.filter(items=['Country Code', years[0], years[1], years[2]])\n",
    "    log_gdp = filtered_data.iloc[:,1:].transform(lambda x: np.log(x))\n",
    "    max_log_gdp = log_gdp.max(numeric_only=True).max()\n",
    "    min_log_gdp = log_gdp.min(numeric_only=True).min()\n",
    "    log_gdp.hist(bins=16, range=[min_log_gdp, max_log_gdp])"
   ]
  },
  {
   "cell_type": "code",
   "execution_count": null,
   "id": "96aed835",
   "metadata": {},
   "outputs": [],
   "source": [
    "## All countries\n",
    "wbiall = wbi.drop(['Country Name' , 'Indicator Name', 'Indicator Code'], axis=1)\n",
    "get_log_hist(wbiall, ['1960', '1990', '2020'])"
   ]
  },
  {
   "cell_type": "code",
   "execution_count": null,
   "id": "eeffc4e8",
   "metadata": {},
   "outputs": [],
   "source": []
  }
 ],
 "metadata": {
  "jupytext": {
   "text_representation": {
    "extension": ".md",
    "format_name": "myst",
    "format_version": 0.13,
    "jupytext_version": "1.14.1"
   }
  },
  "kernelspec": {
   "display_name": "Python 3 (ipykernel)",
   "language": "python",
   "name": "python3"
  },
  "source_map": [
   12,
   34,
   43,
   55,
   60,
   66,
   70,
   74,
   80,
   90,
   94,
   100,
   104,
   108,
   112,
   117,
   121,
   125,
   129,
   133,
   136,
   140,
   151,
   161,
   181,
   187,
   192,
   196,
   202,
   209,
   213,
   217,
   226,
   230,
   239,
   243,
   247,
   255,
   259,
   270,
   281,
   286,
   290,
   295,
   299,
   303,
   308,
   313,
   317,
   321,
   331,
   336,
   343,
   347,
   351,
   355,
   359,
   363,
   367,
   371,
   376,
   380,
   384,
   419,
   424,
   434,
   441,
   449,
   456,
   463,
   470,
   477,
   486,
   492,
   501,
   507
  ]
 },
 "nbformat": 4,
 "nbformat_minor": 5
}