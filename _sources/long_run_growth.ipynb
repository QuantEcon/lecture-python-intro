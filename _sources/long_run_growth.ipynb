{
 "cells": [
  {
   "cell_type": "markdown",
   "id": "4459fbf1",
   "metadata": {},
   "source": [
    "# Long Run Growth\n",
    "\n",
    "```{admonition} Lecture IN-WORK\n",
    ":class: warning\n",
    "\n",
    "This lecture is still **under construction**\n",
    "```\n",
    "\n",
    "```{contents} Contents\n",
    ":depth: 2\n",
    "```\n",
    "\n",
    "## Overview\n",
    "\n",
    "This lecture looks at different growth trajectories across countries over the long term. \n",
    "\n",
    "While some countries have experienced long term rapid growth across that has last a hundred years, others have not. \n",
    "\n",
    "First let us import the packages needed to explore what the data says about long run growth."
   ]
  },
  {
   "cell_type": "code",
   "execution_count": null,
   "id": "5a8d4790",
   "metadata": {},
   "outputs": [],
   "source": [
    "import pandas as pd\n",
    "import os\n",
    "import matplotlib as mpl\n",
    "import matplotlib.pyplot as plt\n",
    "import numpy as np\n",
    "from matplotlib.lines import Line2D"
   ]
  },
  {
   "cell_type": "markdown",
   "id": "71fcfb52",
   "metadata": {},
   "source": [
    "A project initiated by [Angus Maddison](https://en.wikipedia.org/wiki/Angus_Maddison) has collected many historical time series that study economic growth. \n",
    "\n",
    "We can use the [Maddison Historical Statistics](https://www.rug.nl/ggdc/historicaldevelopment/maddison/) to look at many different countries, including some countries dating back to the first century. \n",
    "\n",
    "```{tip}\n",
    "The data can be downloaded from [this webpage](https://www.rug.nl/ggdc/historicaldevelopment/maddison/) and clicking on the `Latest Maddison Project Release`. In this lecture we use the [Maddison Project Database 2020](https://www.rug.nl/ggdc/historicaldevelopment/maddison/releases/maddison-project-database-2020) using the `Excel` Format. The code we use here assumes you have downloaded that file and will teach you how to use [pandas](https://pandas.pydata.org) to import that data into a DataFrame.\n",
    "```\n",
    "\n",
    "If you don't want to fetch the data file from [Maddison Historical Statistics](https://www.rug.nl/ggdc/historicaldevelopment/maddison/) you can download the file directly {download}`datasets/mpd2020.xlsx`."
   ]
  },
  {
   "cell_type": "code",
   "execution_count": null,
   "id": "40a3900e",
   "metadata": {},
   "outputs": [],
   "source": [
    "data = pd.read_excel(\"datasets/mpd2020.xlsx\", sheet_name='Full data')\n",
    "data"
   ]
  },
  {
   "cell_type": "markdown",
   "id": "ab5931c6",
   "metadata": {},
   "source": [
    "We can see that this dataset contains GDP per capita (gdppc) and population (pop) for many countries and years.\n",
    "\n",
    "Let's look at how many and which countries are available in this dataset"
   ]
  },
  {
   "cell_type": "code",
   "execution_count": null,
   "id": "edc4e8dc",
   "metadata": {},
   "outputs": [],
   "source": [
    "data.country.unique()"
   ]
  },
  {
   "cell_type": "code",
   "execution_count": null,
   "id": "9006d0f5",
   "metadata": {},
   "outputs": [],
   "source": [
    "len(data.country.unique())"
   ]
  },
  {
   "cell_type": "markdown",
   "id": "4c8937a0",
   "metadata": {},
   "source": [
    "We can now explore some of the 169 countries that are available. \n",
    "\n",
    "Let's loop over each country to understand which years are available for each country"
   ]
  },
  {
   "cell_type": "code",
   "execution_count": null,
   "id": "53b3f839",
   "metadata": {},
   "outputs": [],
   "source": [
    "cntry_years = []\n",
    "for cntry in data.country.unique():\n",
    "    cy_data = data[data.country == cntry]['year']\n",
    "    ymin, ymax = cy_data.min(), cy_data.max()\n",
    "    cntry_years.append((cntry, ymin, ymax))\n",
    "cntry_years = pd.DataFrame(cntry_years, columns=['country', 'Min Year', 'Max Year']).set_index('country')\n",
    "cntry_years"
   ]
  },
  {
   "cell_type": "markdown",
   "id": "1e91a0a3",
   "metadata": {},
   "source": [
    "You can query this dataframe for each country of interest such as `Australia` by using `.loc`"
   ]
  },
  {
   "cell_type": "code",
   "execution_count": null,
   "id": "1aa8f21c",
   "metadata": {},
   "outputs": [],
   "source": [
    "cntry_years.loc['Australia']"
   ]
  },
  {
   "cell_type": "markdown",
   "id": "dbbd90b3",
   "metadata": {},
   "source": [
    "Let us now reshape the original data into some convenient variables to enable quicker access to countries time series data.\n",
    "\n",
    "We can build a useful mapping between country code's and country names in this dataset"
   ]
  },
  {
   "cell_type": "code",
   "execution_count": null,
   "id": "b73e81c1",
   "metadata": {},
   "outputs": [],
   "source": [
    "code_to_name = data[['countrycode','country']].drop_duplicates().reset_index(drop=True).set_index(['countrycode'])"
   ]
  },
  {
   "cell_type": "markdown",
   "id": "ea4f2c33",
   "metadata": {},
   "source": [
    "Then we can quickly focus on GDP per capita (gdp)"
   ]
  },
  {
   "cell_type": "code",
   "execution_count": null,
   "id": "7be97bb2",
   "metadata": {},
   "outputs": [],
   "source": [
    "data"
   ]
  },
  {
   "cell_type": "code",
   "execution_count": null,
   "id": "18080261",
   "metadata": {},
   "outputs": [],
   "source": [
    "gdppc = data.set_index(['countrycode','year'])['gdppc']\n",
    "gdppc = gdppc.unstack('countrycode')"
   ]
  },
  {
   "cell_type": "code",
   "execution_count": null,
   "id": "534c7bdd",
   "metadata": {},
   "outputs": [],
   "source": [
    "gdppc"
   ]
  },
  {
   "cell_type": "markdown",
   "id": "6a40ae62",
   "metadata": {},
   "source": [
    "Looking at the United Kingdom we can first confirm we are using the correct country code"
   ]
  },
  {
   "cell_type": "code",
   "execution_count": null,
   "id": "6d37453e",
   "metadata": {},
   "outputs": [],
   "source": [
    "code_to_name.loc['GBR']"
   ]
  },
  {
   "cell_type": "markdown",
   "id": "5d102cec",
   "metadata": {},
   "source": [
    "and then using that code to access and plot the data"
   ]
  },
  {
   "cell_type": "code",
   "execution_count": null,
   "id": "b484f8f8",
   "metadata": {
    "mystnb": {
     "figure": {
      "caption": "GDP per Capita (GBR)",
      "name": "gdppc_gbr1"
     }
    }
   },
   "outputs": [],
   "source": [
    "fig = plt.figure()\n",
    "gdppc['GBR'].plot(ax = fig.gca())\n",
    "plt.show()"
   ]
  },
  {
   "cell_type": "markdown",
   "id": "c76cca3e",
   "metadata": {},
   "source": [
    "We can see that the data is non-continuous for longer periods in early part of this milenium so we could choose to interpolate to get a continuous line plot."
   ]
  },
  {
   "cell_type": "code",
   "execution_count": null,
   "id": "235dcbf0",
   "metadata": {
    "mystnb": {
     "figure": {
      "caption": "GDP per Capita (GBR)",
      "name": "gdppc_gbr2"
     }
    }
   },
   "outputs": [],
   "source": [
    "fig = plt.figure(dpi=300)\n",
    "cntry = 'GBR'\n",
    "gdppc[cntry].interpolate().plot(\n",
    "    ax = fig.gca(),\n",
    "    ylabel = 'International $\\'s',\n",
    "    xlabel = 'Year'\n",
    ")\n",
    "plt.show()"
   ]
  },
  {
   "cell_type": "markdown",
   "id": "c701e84c",
   "metadata": {},
   "source": [
    ":::{note}\n",
    "[International Dollars](https://en.wikipedia.org/wiki/International_dollar) are a hypothetical unit of currency that has the same purchasing power parity that the U.S. Dollar has in the United States and any given time. They are also known as Geary–Khamis dollar (GK Dollars).\n",
    ":::\n",
    "\n",
    "As you can see from this chart economic growth started in earnest in the 18th Century and continued for the next two hundred years. \n",
    "\n",
    "How does this compare with other countries growth trajectories? Let's look at the United States (USA), United Kingdom (GBR), and China (CHN)"
   ]
  },
  {
   "cell_type": "code",
   "execution_count": null,
   "id": "01910bb4",
   "metadata": {
    "mystnb": {
     "figure": {
      "caption": "GDP per Capita",
      "name": "gdppc_usa_gbr_chn"
     }
    }
   },
   "outputs": [],
   "source": [
    "fig = plt.figure(dpi=300)\n",
    "ax = fig.gca()\n",
    "cntry = ['USA', 'GBR', 'CHN']\n",
    "line_color = ['blue', 'orange', 'green']\n",
    "gdppc[cntry].plot(\n",
    "    ax = ax,\n",
    "    ylabel = 'International $\\'s',\n",
    "    xlabel = 'Year',\n",
    "    color = line_color\n",
    ")\n",
    "\n",
    "# Build Custom Legend\n",
    "legend_elements = []\n",
    "for i,c in enumerate(cntry):\n",
    "    line = Line2D([0], [0], color=line_color[i], lw=2, label=code_to_name.loc[c]['country'])\n",
    "    legend_elements.append(line)\n",
    "ax.legend(handles=legend_elements, loc='lower center', ncol=3, bbox_to_anchor=[0.5, -0.25])\n",
    "plt.show()"
   ]
  },
  {
   "cell_type": "markdown",
   "id": "86db5a9e",
   "metadata": {},
   "source": [
    "This dataset has been carefully curated to enable cross-country comparisons.\n",
    "\n",
    "Let's compare the growth trajectories of Australia (AUS) and Argentina (ARG)"
   ]
  },
  {
   "cell_type": "code",
   "execution_count": null,
   "id": "9fa5062f",
   "metadata": {
    "mystnb": {
     "figure": {
      "caption": "GDP per capita",
      "name": "gdppc_aus_arg"
     }
    }
   },
   "outputs": [],
   "source": [
    "fig = plt.figure(dpi=300)\n",
    "ax = fig.gca()\n",
    "cntry = ['AUS', 'ARG']\n",
    "line_color = ['blue', 'orange']\n",
    "gdppc[cntry].plot(\n",
    "    ax = ax,\n",
    "    ylabel = 'International $\\'s',\n",
    "    xlabel = 'Year',\n",
    "    color = line_color\n",
    ")\n",
    "\n",
    "# Build Custom Legend\n",
    "legend_elements = []\n",
    "for i,c in enumerate(cntry):\n",
    "    line = Line2D([0], [0], color=line_color[i], lw=2, label=code_to_name.loc[c]['country'])\n",
    "    legend_elements.append(line)\n",
    "ax.legend(handles=legend_elements, loc='lower center', ncol=3, bbox_to_anchor=[0.5, -0.25])\n",
    "plt.show()"
   ]
  },
  {
   "cell_type": "markdown",
   "id": "d72a0519",
   "metadata": {},
   "source": [
    "As you can see the countries had similar GDP per capita levels with divergence starting around 1940. Australia's growth experience is both more continuous and less volatile post 1940.\n",
    "\n",
    "\n",
    "## The Industrialized World\n",
    "\n",
    "Now we can look at total Gross Domestic Product (GDP) rather than focusing on GDP per capita (as a proxy for living standards)."
   ]
  },
  {
   "cell_type": "code",
   "execution_count": null,
   "id": "592f8a70",
   "metadata": {},
   "outputs": [],
   "source": [
    "data = pd.read_excel(\"datasets/mpd2020.xlsx\", sheet_name='Full data')\n",
    "data.set_index(['countrycode', 'year'], inplace=True)\n",
    "data['gdp'] = data['gdppc'] * data['pop']\n",
    "gdp = data['gdp'].unstack('countrycode')"
   ]
  },
  {
   "cell_type": "markdown",
   "id": "22b3e5f9",
   "metadata": {},
   "source": [
    "### Early Industralization (1820 to 1940)\n",
    "\n",
    "\n",
    "Gross Domestic Product"
   ]
  },
  {
   "cell_type": "code",
   "execution_count": null,
   "id": "1fb5f7ca",
   "metadata": {
    "mystnb": {
     "figure": {
      "caption": "GDP",
      "name": "gdp1"
     }
    }
   },
   "outputs": [],
   "source": [
    "fig = plt.figure(dpi=110)\n",
    "ax = fig.gca()\n",
    "cntry = ['DEU', 'SUN', 'USA', 'GBR', 'FRA', 'JPN', 'CHN']\n",
    "start_year, end_year = (1820,1940)\n",
    "line_color = ['blue', 'orange', 'green', 'red', 'yellow', 'purple', 'slategrey']\n",
    "gdp[cntry].loc[start_year:end_year].interpolate().plot(\n",
    "    ax = ax,\n",
    "    ylabel = 'International $\\'s',\n",
    "    xlabel = 'Year',\n",
    "    color = line_color\n",
    ")\n",
    "\n",
    "# Build Custom Legend\n",
    "legend_elements = []\n",
    "for i,c in enumerate(cntry):\n",
    "    line = Line2D([0], [0], color=line_color[i], lw=2, label=code_to_name.loc[c]['country'])\n",
    "    legend_elements.append(line)\n",
    "ax.legend(handles=legend_elements, loc='lower center', ncol=4, bbox_to_anchor=[0.5, -0.26])\n",
    "plt.show()"
   ]
  },
  {
   "cell_type": "markdown",
   "id": "468ae7fd",
   "metadata": {},
   "source": [
    "GDP per Capita"
   ]
  },
  {
   "cell_type": "code",
   "execution_count": null,
   "id": "b3c75fab",
   "metadata": {
    "mystnb": {
     "figure": {
      "caption": "GDP per Capita",
      "name": "gdppc1"
     }
    }
   },
   "outputs": [],
   "source": [
    "fig = plt.figure(dpi=110)\n",
    "ax = fig.gca()\n",
    "cntry = ['DEU', 'SUN', 'USA', 'GBR', 'FRA', 'JPN', 'CHN']\n",
    "start_year, end_year = (1820,1940)\n",
    "line_color = ['blue', 'orange', 'green', 'red', 'yellow', 'purple', 'slategrey']\n",
    "gdppc[cntry].loc[start_year:end_year].interpolate().plot(\n",
    "    ax = ax,\n",
    "    ylabel = 'International $\\'s',\n",
    "    xlabel = 'Year',\n",
    "    color = line_color\n",
    ")\n",
    "\n",
    "# Build Custom Legend\n",
    "legend_elements = []\n",
    "for i,c in enumerate(cntry):\n",
    "    line = Line2D([0], [0], color=line_color[i], lw=2, label=code_to_name.loc[c]['country'])\n",
    "    legend_elements.append(line)\n",
    "ax.legend(handles=legend_elements, loc='lower center', ncol=4, bbox_to_anchor=[0.5, -0.25])\n",
    "plt.show()"
   ]
  },
  {
   "cell_type": "markdown",
   "id": "3fd66446",
   "metadata": {},
   "source": [
    "## The Modern Era (1970 to 2018)\n",
    "\n",
    "Gross Domestic Product (GDP)"
   ]
  },
  {
   "cell_type": "code",
   "execution_count": null,
   "id": "1b70b4f9",
   "metadata": {
    "mystnb": {
     "figure": {
      "caption": "GDP",
      "name": "gdp2"
     }
    }
   },
   "outputs": [],
   "source": [
    "fig = plt.figure(dpi=300)\n",
    "ax = fig.gca()\n",
    "cntry = ['DEU', 'SUN', 'USA', 'GBR', 'FRA', 'JPN', 'CHN']\n",
    "start_year, end_year = (1970, 2018)\n",
    "line_color = ['blue', 'orange', 'green', 'red', 'yellow', 'purple', 'slategrey']\n",
    "gdp[cntry].loc[start_year:end_year].interpolate().plot(\n",
    "    ax = ax,\n",
    "    ylabel = 'International $\\'s',\n",
    "    xlabel = 'Year',\n",
    "    color = line_color\n",
    ")\n",
    "\n",
    "# Build Custom Legend\n",
    "legend_elements = []\n",
    "for i,c in enumerate(cntry):\n",
    "    line = Line2D([0], [0], color=line_color[i], lw=2, label=code_to_name.loc[c]['country'])\n",
    "    legend_elements.append(line)\n",
    "ax.legend(handles=legend_elements, loc='lower center', ncol=4, bbox_to_anchor=[0.5, -0.25])\n",
    "plt.show()"
   ]
  },
  {
   "cell_type": "markdown",
   "id": "bb660931",
   "metadata": {},
   "source": [
    "GDP per Capita"
   ]
  },
  {
   "cell_type": "code",
   "execution_count": null,
   "id": "e24bcb36",
   "metadata": {
    "mystnb": {
     "figure": {
      "caption": "GDP per Capita",
      "name": "gdppc2"
     }
    }
   },
   "outputs": [],
   "source": [
    "fig = plt.figure(dpi=300)\n",
    "ax = fig.gca()\n",
    "cntry = ['DEU', 'SUN', 'USA', 'GBR', 'FRA', 'JPN', 'CHN']\n",
    "start_year, end_year = (1970, 2018)\n",
    "line_color = ['blue', 'orange', 'green', 'red', 'yellow', 'purple', 'slategrey']\n",
    "gdppc[cntry].loc[start_year:end_year].interpolate().plot(\n",
    "    ax = ax,\n",
    "    ylabel = 'International $\\'s',\n",
    "    xlabel = 'Year',\n",
    "    color = line_color\n",
    ")\n",
    "\n",
    "# Build Custom Legend\n",
    "legend_elements = []\n",
    "for i,c in enumerate(cntry):\n",
    "    line = Line2D([0], [0], color=line_color[i], lw=2, label=code_to_name.loc[c]['country'])\n",
    "    legend_elements.append(line)\n",
    "ax.legend(handles=legend_elements, loc='lower center', ncol=3, bbox_to_anchor=[0.5, -0.3])\n",
    "plt.show()"
   ]
  },
  {
   "cell_type": "markdown",
   "id": "a64940b0",
   "metadata": {},
   "source": [
    "## Other Interesting Plots\n",
    "\n",
    "Here are a collection of interesting plots that could be linked to interesting stories\n",
    "\n",
    "Looking at China GDP per capita levels from 1500 through to the 1970's showed a long period of declining GDP per capital levels from 1700's to early 20th century. (Closed Border / Inward Looking Domestic Focused Policies?)"
   ]
  },
  {
   "cell_type": "code",
   "execution_count": null,
   "id": "cf0d6fac",
   "metadata": {},
   "outputs": [],
   "source": [
    "fig = plt.figure(dpi=300)\n",
    "gdppc['CHN'].loc[1500:1980].interpolate().plot(ax=fig.gca())\n",
    "plt.show()"
   ]
  },
  {
   "cell_type": "markdown",
   "id": "c943b401",
   "metadata": {},
   "source": [
    "China (CHN) then followed a very similar growth story from the 1980s through to current day China."
   ]
  },
  {
   "cell_type": "code",
   "execution_count": null,
   "id": "d232d11d",
   "metadata": {},
   "outputs": [],
   "source": [
    "fig = plt.figure(dpi=300)\n",
    "gdppc[['CHN', 'GBR']].interpolate().plot(ax = fig.gca())\n",
    "plt.show()"
   ]
  },
  {
   "cell_type": "markdown",
   "id": "a8604109",
   "metadata": {},
   "source": [
    "## Regional Analysis\n",
    "\n",
    "The [Maddison Historical Statistics](https://www.rug.nl/ggdc/historicaldevelopment/maddison/) dataset also includes regional aggregations"
   ]
  },
  {
   "cell_type": "code",
   "execution_count": null,
   "id": "c31afed5",
   "metadata": {},
   "outputs": [],
   "source": [
    "data = pd.read_excel(\"datasets/mpd2020.xlsx\", sheet_name='Regional data', header=(0,1,2), index_col=0)\n",
    "data.columns = data.columns.droplevel(level=2)"
   ]
  },
  {
   "cell_type": "markdown",
   "id": "82e900bb",
   "metadata": {},
   "source": [
    "We can save the raw data in a more convenient format to build a single table of regional GDP per capita"
   ]
  },
  {
   "cell_type": "code",
   "execution_count": null,
   "id": "6f6c9ff5",
   "metadata": {},
   "outputs": [],
   "source": [
    "regionalgdppc = data['gdppc_2011'].copy()\n",
    "regionalgdppc.index = pd.to_datetime(regionalgdppc.index, format='%Y')"
   ]
  },
  {
   "cell_type": "markdown",
   "id": "83ba85b5",
   "metadata": {},
   "source": [
    "Let us interpolate based on time to fill in any gaps in the dataset for the purpose of plotting"
   ]
  },
  {
   "cell_type": "code",
   "execution_count": null,
   "id": "aadc1a8b",
   "metadata": {},
   "outputs": [],
   "source": [
    "regionalgdppc.interpolate(method='time', inplace=True)"
   ]
  },
  {
   "cell_type": "markdown",
   "id": "7c4df4e5",
   "metadata": {},
   "source": [
    "and record a dataset of world GDP per capita"
   ]
  },
  {
   "cell_type": "code",
   "execution_count": null,
   "id": "770b027f",
   "metadata": {},
   "outputs": [],
   "source": [
    "worldgdppc = regionalgdppc['World GDP pc']"
   ]
  },
  {
   "cell_type": "code",
   "execution_count": null,
   "id": "d2293479",
   "metadata": {},
   "outputs": [],
   "source": [
    "fig = plt.figure(dpi=300)\n",
    "ax = fig.gca()\n",
    "ax = worldgdppc.plot(\n",
    "    ax = ax,\n",
    "    title='World GDP per capita',\n",
    "    xlabel='Year',\n",
    "    ylabel='2011 US$',\n",
    ")"
   ]
  },
  {
   "cell_type": "markdown",
   "id": "bceae1f3",
   "metadata": {},
   "source": [
    "Looking more closely, let us compare the time series for `Western Offshoots` and `Sub-Saharan Africa`"
   ]
  },
  {
   "cell_type": "code",
   "execution_count": null,
   "id": "3bd42bc4",
   "metadata": {},
   "outputs": [],
   "source": [
    "fig = plt.figure(dpi=300)\n",
    "ax = fig.gca()\n",
    "regionalgdppc[['Western Offshoots', 'Sub-Sahara Africa']].plot(ax = ax)\n",
    "ax.legend(loc='lower center', ncol=2, bbox_to_anchor=[0.5, -0.26])\n",
    "plt.show()"
   ]
  },
  {
   "cell_type": "markdown",
   "id": "01f62b50",
   "metadata": {},
   "source": [
    "and more broadly at a number of different regions around the world"
   ]
  },
  {
   "cell_type": "code",
   "execution_count": null,
   "id": "d398bc72",
   "metadata": {},
   "outputs": [],
   "source": [
    "fig = plt.figure(dpi=300)\n",
    "ax = fig.gca()\n",
    "line_styles = ['-', '--', ':', '-.', '.', 'o', '-', '--', '-']\n",
    "ax = regionalgdppc.plot(ax = ax, style=line_styles)\n",
    "plt.legend(loc='lower center', ncol=3, bbox_to_anchor=[0.5, -0.4])\n",
    "plt.show()"
   ]
  }
 ],
 "metadata": {
  "jupytext": {
   "text_representation": {
    "extension": ".md",
    "format_name": "myst",
    "format_version": 0.13,
    "jupytext_version": "1.14.5"
   }
  },
  "kernelspec": {
   "display_name": "Python 3 (ipykernel)",
   "language": "python",
   "name": "python3"
  },
  "source_map": [
   12,
   34,
   41,
   54,
   57,
   63,
   67,
   69,
   75,
   83,
   87,
   89,
   95,
   97,
   101,
   105,
   110,
   112,
   116,
   118,
   122,
   132,
   136,
   151,
   161,
   186,
   192,
   217,
   226,
   231,
   239,
   265,
   269,
   295,
   301,
   327,
   331,
   357,
   366,
   370,
   375,
   379,
   386,
   389,
   394,
   397,
   402,
   404,
   409,
   413,
   422,
   427,
   433,
   438
  ]
 },
 "nbformat": 4,
 "nbformat_minor": 5
}