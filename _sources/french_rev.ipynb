{
 "cells": [
  {
   "cell_type": "markdown",
   "id": "c2cd6fd3",
   "metadata": {},
   "source": [
    "# Inflation During French Revolution \n",
    "\n",
    "\n",
    "## Overview \n",
    "\n",
    "This lecture describes some  of the monetary and fiscal  features of the French Revolution (1789-1799) described by {cite}`sargent_velde1995`.\n",
    "\n",
    "To finance public expenditures and service its debts, \n",
    "the French government embarked on   policy experiments.\n",
    "\n",
    "The authors of these experiments  had in mind theories about how government  monetary and fiscal policies affected economic outcomes.\n",
    "\n",
    "Some of those theories about monetary and fiscal policies still interest us today.\n",
    "\n",
    "* a **tax-smoothing** model like Robert Barro's {cite}`Barro1979`\n",
    "\n",
    "   * this normative (i.e., prescriptive model) advises a government to finance temporary war-time surges in expenditures mostly by issuing government debt, raising taxes by just enough to service the additional debt issued during the wary; then,   after the war,  to roll over whatever debt the government had accumulated during the war;  and  to increase taxes after the war permanently by just enough to finance interest payments on that post-war government  debt\n",
    "\n",
    "*  **unpleasant monetarist arithmetic** like that described in this quanteon lecture  {doc}`unpleasant`\n",
    "   \n",
    "    * mathematics involving compound interest  governed French government debt dynamics in the decades preceding 1789; according to leading historians, that arithmetic set the stage for the French Revolution \n",
    "\n",
    "* a *real bills* theory of the effects of government open market operations in which the government *backs* new  issues of paper money with government holdings of valuable real property or financial assets that holders of money can purchase from the government in exchange for their money.\n",
    "\n",
    "    * The Revolutionaries learned about this theory from Adam Smith's 1776 book The Wealth of Nations\n",
    "     {cite}`smith2010wealth` and other contemporary sources\n",
    "\n",
    "    * It shaped how the Revolutionaries issued a paper money called **assignats** from 1789 to 1791 \n",
    "\n",
    "* a classical **gold**  or **silver standard**\n",
    "  \n",
    "    * Napoleon Bonaparte became head of the French government in 1799. He  used this theory to guide his monetary and fiscal policies\n",
    "\n",
    "* a classical **inflation-tax** theory of inflation in which Philip Cagan's ({cite}`Cagan`) demand for money studied in this lecture  {doc}`cagan_ree` is a key component\n",
    "\n",
    "   * This theory helps  explain French price level and money supply data from 1794 to 1797  \n",
    "\n",
    "* a **legal restrictions**  or **financial repression** theory of the demand for real balances \n",
    " \n",
    "    * The Twelve Members comprising the Committee of Public Safety who adminstered the Terror from June 1793 to July 1794 used this theory to shape their monetary policy \n",
    "\n",
    "We use matplotlib to replicate several of the graphs with which  {cite}`sargent_velde1995` portrayed outcomes of these experiments \n",
    "\n",
    "## Data Sources\n",
    "\n",
    "This lecture uses data from three spreadsheets assembled by {cite}`sargent_velde1995`:\n",
    "  * [datasets/fig_3.xlsx](https://github.com/QuantEcon/lecture-python-intro/blob/main/lectures/datasets/fig_3.xlsx)\n",
    "  * [datasets/dette.xlsx](https://github.com/QuantEcon/lecture-python-intro/blob/main/lectures/datasets/dette.xlsx)\n",
    "  * [datasets/assignat.xlsx](https://github.com/QuantEcon/lecture-python-intro/blob/main/lectures/datasets/assignat.xlsx)"
   ]
  },
  {
   "cell_type": "code",
   "execution_count": null,
   "id": "ca5e9c9f",
   "metadata": {},
   "outputs": [],
   "source": [
    "import numpy as np\n",
    "import pandas as pd\n",
    "import matplotlib.pyplot as plt\n",
    "plt.rcParams.update({'font.size': 12})\n",
    "\n",
    "base_url = 'https://github.com/QuantEcon/lecture-python-intro/raw/'\\\n",
    "           + 'main/lectures/datasets/'\n",
    "\n",
    "fig_3_url = f'{base_url}fig_3.xlsx'\n",
    "dette_url = f'{base_url}dette.xlsx'\n",
    "assignat_url = f'{base_url}assignat.xlsx'"
   ]
  },
  {
   "cell_type": "markdown",
   "id": "b0555315",
   "metadata": {},
   "source": [
    "## Government Expenditures and Taxes Collected\n",
    "\n",
    "\n",
    "\n",
    "We'll start by using `matplotlib` to construct several  graphs that will provide important historical context.\n",
    "\n",
    "These graphs are versions of ones that appear in {cite}`sargent_velde1995`.\n",
    "\n",
    "These graphs show that during the 18th century\n",
    "\n",
    " * government expenditures in France and Great Britain both surged during four big wars, and by comparable amounts\n",
    " * In Britain, tax revenues were approximately equal to government expenditures during peace times,\n",
    "  but were substantially less than government expenditures during wars\n",
    " * In France, even in peace time, tax revenues were substantially less than government expenditures"
   ]
  },
  {
   "cell_type": "code",
   "execution_count": null,
   "id": "77287051",
   "metadata": {
    "mystnb": {
     "figure": {
      "caption": "Military Spending in Britain and France",
      "name": "fr_fig4"
     }
    }
   },
   "outputs": [],
   "source": [
    "# Read the data from Excel file\n",
    "data2 = pd.read_excel(dette_url, \n",
    "        sheet_name='Militspe', usecols='M:X', \n",
    "        skiprows=7, nrows=102, header=None)\n",
    "\n",
    "# French military spending, 1685-1789, in 1726 livres\n",
    "data4 = pd.read_excel(dette_url, \n",
    "        sheet_name='Militspe', usecols='D', \n",
    "        skiprows=3, nrows=105, header=None).squeeze()\n",
    "        \n",
    "years = range(1685, 1790)\n",
    "\n",
    "plt.figure()\n",
    "plt.plot(years, data4, '*-', linewidth=0.8)\n",
    "\n",
    "plt.plot(range(1689, 1791), data2.iloc[:, 4], linewidth=0.8)\n",
    "\n",
    "plt.gca().spines['top'].set_visible(False)\n",
    "plt.gca().spines['right'].set_visible(False)\n",
    "plt.gca().tick_params(labelsize=12)\n",
    "plt.xlim([1689, 1790])\n",
    "plt.xlabel('*: France')\n",
    "plt.ylabel('Millions of livres')\n",
    "plt.ylim([0, 475])\n",
    "\n",
    "plt.tight_layout()\n",
    "plt.show()"
   ]
  },
  {
   "cell_type": "markdown",
   "id": "8c5372a7",
   "metadata": {},
   "source": [
    "During the 18th century, Britain and France fought four large wars.\n",
    "\n",
    "Britain won the first three wars and lost the fourth.\n",
    "\n",
    "Each  of those wars  produced surges in both countries' government expenditures that each country somehow had to finance.\n",
    "\n",
    "Figure {numref}`fr_fig4` shows surges in military expenditures in France (in blue) and Great Britain.\n",
    "during those four wars.  \n",
    "\n",
    "A remarkable aspect of figure {numref}`fr_fig4` is that despite having a population less than half of France's, Britain was able to finance military expenses of about the same amounts as France's.\n",
    "\n",
    "This testifies to Britain's  having created state institutions that could sustain high  tax collections, government spending , and government borrowing. See  {cite}`north1989`."
   ]
  },
  {
   "cell_type": "code",
   "execution_count": null,
   "id": "ddebdcb2",
   "metadata": {
    "mystnb": {
     "figure": {
      "caption": "Government Expenditures and Tax Revenues in Britain",
      "name": "fr_fig2"
     }
    }
   },
   "outputs": [],
   "source": [
    "# Read the data from Excel file\n",
    "data2 = pd.read_excel(dette_url, sheet_name='Militspe', usecols='M:X', \n",
    "                      skiprows=7, nrows=102, header=None)\n",
    "\n",
    "# Plot the data\n",
    "plt.figure()\n",
    "plt.plot(range(1689, 1791), data2.iloc[:, 5], linewidth=0.8)\n",
    "plt.plot(range(1689, 1791), data2.iloc[:, 11], linewidth=0.8, color='red')\n",
    "plt.plot(range(1689, 1791), data2.iloc[:, 9], linewidth=0.8, color='orange')\n",
    "plt.plot(range(1689, 1791), data2.iloc[:, 8], 'o-', \n",
    "         markerfacecolor='none', linewidth=0.8, color='purple')\n",
    "\n",
    "# Customize the plot\n",
    "plt.gca().spines['top'].set_visible(False)\n",
    "plt.gca().spines['right'].set_visible(False)\n",
    "plt.gca().tick_params(labelsize=12)\n",
    "plt.xlim([1689, 1790])\n",
    "plt.ylabel('millions of pounds', fontsize=12)\n",
    "\n",
    "# Add text annotations\n",
    "plt.text(1765, 1.5, 'civil', fontsize=10)\n",
    "plt.text(1760, 4.2, 'civil plus debt service', fontsize=10)\n",
    "plt.text(1708, 15.5, 'total govt spending', fontsize=10)\n",
    "plt.text(1759, 7.3, 'revenues', fontsize=10)\n",
    "\n",
    "plt.tight_layout()\n",
    "plt.show()"
   ]
  },
  {
   "cell_type": "markdown",
   "id": "ce3d229a",
   "metadata": {},
   "source": [
    "Figures  {numref}`fr_fig2` and  {numref}`fr_fig3` summarize British and French government   fiscal policies  during the century before the start of the French Revolution in 1789.\n",
    "\n",
    "\n",
    "Before 1789, progressive forces in France  admired how  Britain had financed its government expenditures and wanted to redesign French fiscal arrangements to make them more like Britain's.\n",
    "\n",
    "Figure  {numref}`fr_fig2` shows government expenditures and how it was distributed among expenditures for \n",
    "\n",
    "   * civil (non-military) activities\n",
    "   * debt service, i.e., interest payments \n",
    "   * military expenditures (the yellow line minus the red line) \n",
    "\n",
    "Figure  {numref}`fr_fig2` also plots total government revenues from tax collections (the purple circled line)\n",
    "\n",
    "Notice the surges in total government expenditures associated with surges in military expenditures\n",
    "in these four wars\n",
    "\n",
    "   * Wars against France's King Louis XIV early in the 18th century\n",
    "   * The War of the Austrian Succession in the 1740s\n",
    "   * The French and Indian War in the 1750's and 1760s\n",
    "   * The American War for Independence from 1775 to 1783\n",
    "\n",
    "Figure {numref}`fr_fig2` indicates that\n",
    "\n",
    "   * during times of peace, government expenditures approximately equal taxes and debt service payments neither grow nor decline over time\n",
    "   * during times of wars, government expenditures exceed tax revenues\n",
    "      * the government finances the deficit of revenues relative to expenditures by issuing debt\n",
    "   * after a war is over, the government's tax revenues exceed its non-interest expenditures by just enough to service the debt that the government issued to finance earlier deficits\n",
    "      * thus, after a war, the government does *not* raise taxes by enough to pay off its debt\n",
    "      * instead, it just rolls over whatever debt it inherits, raising taxes by just enough to service the interest payments on that debt\n",
    "\n",
    "Eighteenth-century British fiscal policy portrayed Figure {numref}`fr_fig2` thus looks very much like a text-book example of a *tax-smoothing* model like Robert Barro's {cite}`Barro1979`.  \n",
    "\n",
    "A striking feature of the graph is what we'll label a *law of gravity* between tax collections and government expenditures. \n",
    "\n",
    "   * levels of government expenditures at taxes attract each other\n",
    "   * while they can temporarily differ -- as they do during wars -- they come back together when peace returns\n",
    "\n",
    "\n",
    "\n",
    "Next we'll plot data on debt service costs as fractions of government revenues in Great Britain and France during the 18th century."
   ]
  },
  {
   "cell_type": "code",
   "execution_count": null,
   "id": "e7cf52fc",
   "metadata": {
    "mystnb": {
     "figure": {
      "caption": "Ratio of debt service to taxes, Britain and France",
      "name": "fr_fig1"
     }
    }
   },
   "outputs": [],
   "source": [
    "# Read the data from the Excel file\n",
    "data1 = pd.read_excel(dette_url, sheet_name='Debt', \n",
    "            usecols='R:S', skiprows=5, nrows=99, header=None)\n",
    "data1a = pd.read_excel(dette_url, sheet_name='Debt', \n",
    "            usecols='P', skiprows=89, nrows=15, header=None)\n",
    "\n",
    "# Plot the data\n",
    "plt.figure()\n",
    "plt.plot(range(1690, 1789), 100 * data1.iloc[:, 1], linewidth=0.8)\n",
    "\n",
    "date = np.arange(1690, 1789)\n",
    "index = (date < 1774) & (data1.iloc[:, 0] > 0)\n",
    "plt.plot(date[index], 100 * data1[index].iloc[:, 0], \n",
    "         '*:', color='r', linewidth=0.8)\n",
    "\n",
    "# Plot the additional data\n",
    "plt.plot(range(1774, 1789), 100 * data1a, '*:', color='orange')\n",
    "\n",
    "# Note about the data\n",
    "# The French data before 1720 don't match up with the published version\n",
    "# Set the plot properties\n",
    "plt.gca().spines['top'].set_visible(False)\n",
    "plt.gca().spines['right'].set_visible(False)\n",
    "plt.gca().set_facecolor('white')\n",
    "plt.gca().set_xlim([1688, 1788])\n",
    "plt.ylabel('% of Taxes')\n",
    "\n",
    "plt.tight_layout()\n",
    "plt.show()"
   ]
  },
  {
   "cell_type": "markdown",
   "id": "dee78b0d",
   "metadata": {},
   "source": [
    "Figure  {numref}`fr_fig1` shows that interest payments on government debt (i.e., so-called ''debt service'') were high fractions of government tax revenues in both Great Britain and France. \n",
    "\n",
    "{numref}`fr_fig2` showed us that in peace times Britain managed to balance its budget despite those large interest costs. \n",
    "\n",
    "But as  we'll see in our next graph, on the eve of the French Revolution in 1788, the  fiscal  *law of gravity* that worked so well in Britain did not  working very well in  France."
   ]
  },
  {
   "cell_type": "code",
   "execution_count": null,
   "id": "bd08af23",
   "metadata": {},
   "outputs": [],
   "source": [
    "# Read the data from the Excel file\n",
    "data1 = pd.read_excel(fig_3_url, sheet_name='Sheet1', \n",
    "          usecols='C:F', skiprows=5, nrows=30, header=None)\n",
    "\n",
    "data1.replace(0, np.nan, inplace=True)"
   ]
  },
  {
   "cell_type": "code",
   "execution_count": null,
   "id": "d2219270",
   "metadata": {
    "mystnb": {
     "figure": {
      "caption": "Government Spending and Tax Revenues in France",
      "name": "fr_fig3"
     }
    }
   },
   "outputs": [],
   "source": [
    "# Plot the data\n",
    "plt.figure()\n",
    "\n",
    "plt.plot(range(1759, 1789, 1), data1.iloc[:, 0], '-x', linewidth=0.8)\n",
    "plt.plot(range(1759, 1789, 1), data1.iloc[:, 1], '--*', linewidth=0.8)\n",
    "plt.plot(range(1759, 1789, 1), data1.iloc[:, 2], \n",
    "         '-o', linewidth=0.8, markerfacecolor='none')\n",
    "plt.plot(range(1759, 1789, 1), data1.iloc[:, 3], '-*', linewidth=0.8)\n",
    "\n",
    "plt.text(1775, 610, 'total spending', fontsize=10)\n",
    "plt.text(1773, 325, 'military', fontsize=10)\n",
    "plt.text(1773, 220, 'civil plus debt service', fontsize=10)\n",
    "plt.text(1773, 80, 'debt service', fontsize=10)\n",
    "plt.text(1785, 500, 'revenues', fontsize=10)\n",
    "\n",
    "plt.gca().spines['top'].set_visible(False)\n",
    "plt.gca().spines['right'].set_visible(False)\n",
    "plt.ylim([0, 700])\n",
    "plt.ylabel('millions of livres')\n",
    "\n",
    "plt.tight_layout()\n",
    "plt.show()"
   ]
  },
  {
   "cell_type": "markdown",
   "id": "7f6967ce",
   "metadata": {},
   "source": [
    "{numref}`fr_fig3` shows that on the eve of the French Revolution in 1788, government expenditures exceeded tax revenues.   \n",
    "\n",
    "\n",
    "Especially during and after France's expenditures to help the Americans in their War of Independence from Great Britain,   growing government debt service (i.e., interest payments) \n",
    "contributed to this situation. \n",
    "\n",
    "This was partly a consequence of the unfolding of the debt dynamics that underlies the Unpleasant Arithmetic discussed in this quantecon lecture  {doc}`unpleasant`.  \n",
    "\n",
    "\n",
    "{cite}`sargent_velde1995` describe how the Ancient Regime that until 1788 had  governed France  had stable institutional features that made it difficult for the government to balance its budget.\n",
    "\n",
    "Powerful contending interests had prevented from the government from closing the gap between its\n",
    "total expenditures and its tax revenues by either\n",
    "\n",
    " * raising taxes, or\n",
    " * lowering government's non-debt service (i.e., non-interest)   expenditures, or \n",
    " * lowering debt service (i.e., interest) costs by rescheduling, i.e., defaulting on some  debts\n",
    "\n",
    "Precedents and prevailing French arrangements had empowered three constituencies to block adjustments to components of the government budget constraint that they cared especially about\n",
    "\n",
    "* tax payers\n",
    "* beneficiaries of government expenditures\n",
    "* government creditors (i.e., owners of government bonds)\n",
    "\n",
    "When the French government had confronted a similar situation around 1720 after King  Louis XIV's\n",
    "Wars had left it with a debt crisis, it had sacrificed the interests of  \n",
    "government creditors, i.e., by defaulting enough of its debt to bring  reduce interest payments down enough to balance the budget.\n",
    "\n",
    "Somehow, in 1789, creditors of the French government were more powerful than they had been in 1720.\n",
    "\n",
    "Therefore, King Louis XVI convened the Estates General together to ask them to redesign the French constitution in a way that would lower government expenditures or increase taxes, thereby\n",
    "allowing him to balance the budget while also honoring his promises to creditors of the French government.  \n",
    "\n",
    "The King called the Estates General together in an effort to promote the reforms that would\n",
    "would bring sustained budget balance.  \n",
    "\n",
    "{cite}`sargent_velde1995` describe how the French Revolutionaries set out to accomplish that.\n",
    "\n",
    "## Nationalization, Privatization, Debt Reduction \n",
    "\n",
    "In 1789, the Revolutionaries quickly reorganized the Estates General  into a National Assembly.\n",
    "\n",
    "A first piece of business was to address the fiscal crisis, the situation that had motivated the King to convene the Estates General.\n",
    "\n",
    "The Revolutionaries were not socialists or communists.\n",
    "\n",
    "To the contrary, they respected  private property and knew state-of-the-art economics.  \n",
    "\n",
    "They knew that to honor government debts, they would have to raise new revenues or reduce expenditures.\n",
    "\n",
    "A coincidence was that the Catholic Church owned vast income-producing properties.  \n",
    "\n",
    "Indeed, the capitalized value of those income streams put estimates of the value of church lands at \n",
    "about the same amount as the entire French government debt. \n",
    "\n",
    "This coincidence fostered a three step plan for servicing the French government debt\n",
    "\n",
    " * nationalize the church lands -- i.e., sequester or confiscate it without paying for it\n",
    " * sell the church lands \n",
    " * use the proceeds from those sales to service or even retire French government debt\n",
    "\n",
    "The monetary theory underlying this plan had been set out by Adam Smith in his analysis of what he called *real bills*  in his  1776 book\n",
    "**The Wealth of Nations**   {cite}`smith2010wealth`, which many of the revolutionaries had read.\n",
    "\n",
    "Adam Smith defined a *real bill* as a paper money note that is backed by a claims on a real asset like productive capital or inventories. \n",
    "\n",
    "The National Assembly put together an ingenious institutional  arrangement to implement this plan.\n",
    "\n",
    "In response to a motion by Catholic Bishop Talleyrand (an atheist),\n",
    "the National Assembly confiscated and nationalized  Church lands. \n",
    "\n",
    "The National Assembly intended to use earnings from  Church lands to service its national debt.\n",
    "\n",
    "To do this, it  began to implement a ''privatization plan'' that would let it service its debt while\n",
    "not raising taxes.\n",
    "\n",
    "Their plan involved issuing paper notes called ''assignats'' that entitled bearers to use them to purchase state lands.  \n",
    "\n",
    "These paper notes would be ''as good as silver coins'' in the sense that both were acceptable means of payment in exchange for those (formerly) church lands.  \n",
    "\n",
    "Finance Minister Necker and the Constituents of the National Assembly thus  planned\n",
    "to solve the privatization problem *and* the debt problem simultaneously\n",
    "by creating a new currency. \n",
    "\n",
    "They devised a scheme to raise revenues by auctioning\n",
    "the confiscated lands, thereby withdrawing paper notes issued on the security of\n",
    "the lands sold by the government.\n",
    "\n",
    " This ''tax-backed money'' scheme propelled the National Assembly  into the domains of then modern monetary theories.\n",
    " \n",
    "Records of  debates show\n",
    "how members of the Assembly marshaled theory and evidence to assess the likely\n",
    "effects of their innovation. \n",
    "\n",
    "  * Members of the National Assembly quoted David Hume and Adam Smith\n",
    "  * They  cited John Law's System of 1720 and the American experiences with paper money fifteen years\n",
    "earlier as examples of how paper money schemes can go awry\n",
    "  * Knowing pitfalls, they set out to avoid them\n",
    "\n",
    "They succeeded for two or three years.\n",
    "\n",
    "But after that, France entered a big War that disrupted the plan in ways that completely altered the character of France's paper money. {cite}`sargent_velde1995` describe what happened.\n",
    "\n",
    "## Remaking the tax code and tax administration\n",
    "\n",
    "In 1789 the French Revolutionaries formed a National Assembly and set out to remake French\n",
    "fiscal policy.\n",
    "\n",
    "They wanted to honor government debts -- interests of French government creditors were well represented in the National Assembly.\n",
    "\n",
    "But they set out to remake  the French tax code and the administrative machinery for collecting taxes.\n",
    "\n",
    "  * they abolished many taxes\n",
    "  * they abolished the Ancient Regimes scheme for *tax farming*\n",
    "      * tax farming meant that the government had privatized tax collection by hiring private citizens -- so-called  tax farmers to collect taxes, while retaining a fraction of them as payment for their services\n",
    "      * the great chemist Lavoisier was also a tax farmer, one of the reasons that the Committee for Public Safety sent him to the guillotine in 1794\n",
    "\n",
    "As a consequence of these tax reforms, government tax revenues declined\n",
    "\n",
    "The next figure shows this"
   ]
  },
  {
   "cell_type": "code",
   "execution_count": null,
   "id": "2403b0c8",
   "metadata": {
    "mystnb": {
     "figure": {
      "caption": "Index of real per capital revenues, France",
      "name": "fr_fig5"
     }
    }
   },
   "outputs": [],
   "source": [
    "# Read data from Excel file\n",
    "data5 = pd.read_excel(dette_url, sheet_name='Debt', usecols='K', \n",
    "                    skiprows=41, nrows=120, header=None)\n",
    "\n",
    "# Plot the data\n",
    "plt.figure()\n",
    "plt.plot(range(1726, 1846), data5.iloc[:, 0], linewidth=0.8)\n",
    "\n",
    "plt.gca().spines['top'].set_visible(False)\n",
    "plt.gca().spines['right'].set_visible(False)\n",
    "plt.gca().set_facecolor('white')\n",
    "plt.gca().tick_params(labelsize=12)\n",
    "plt.xlim([1726, 1845])\n",
    "plt.ylabel('1726 = 1', fontsize=12)\n",
    "\n",
    "plt.tight_layout()\n",
    "plt.show()"
   ]
  },
  {
   "cell_type": "markdown",
   "id": "6c80e292",
   "metadata": {},
   "source": [
    "According to {numref}`fr_fig5`, tax revenues per capita did not rise to their pre 1789 levels\n",
    "until after 1815, when Napoleon Bonaparte was exiled to St Helena and King Louis XVIII was restored to the French Crown.\n",
    "\n",
    "  * from 1799 to 1814, Napoleon Bonaparte had other sources of revenues -- booty and reparations from provinces and nations that he defeated in war\n",
    "\n",
    "  * from 1789 to 1799, the French Revolutionaries turned to another source to raise resources to pay for government purchases of goods and services and to service French government debt. \n",
    "\n",
    "And as the next figure shows, government expenditures exceeded tax revenues by substantial\n",
    "amounts during the period form 1789 to 1799."
   ]
  },
  {
   "cell_type": "code",
   "execution_count": null,
   "id": "672a97b7",
   "metadata": {
    "mystnb": {
     "figure": {
      "caption": "Spending (blue) and Revenues (orange), (real values)",
      "name": "fr_fig11"
     }
    }
   },
   "outputs": [],
   "source": [
    "# Read data from Excel file\n",
    "data11 = pd.read_excel(assignat_url, sheet_name='Budgets',\n",
    "        usecols='J:K', skiprows=22, nrows=52, header=None)\n",
    "\n",
    "# Prepare the x-axis data\n",
    "x_data = np.concatenate([\n",
    "    np.arange(1791, 1794 + 8/12, 1/12),\n",
    "    np.arange(1794 + 9/12, 1795 + 3/12, 1/12)\n",
    "])\n",
    "\n",
    "# Remove NaN values from the data\n",
    "data11_clean = data11.dropna()\n",
    "\n",
    "# Plot the data\n",
    "plt.figure()\n",
    "h = plt.plot(x_data, data11_clean.values[:, 0], linewidth=0.8)\n",
    "h = plt.plot(x_data, data11_clean.values[:, 1], '--', linewidth=0.8)\n",
    "\n",
    "# Set plot properties\n",
    "plt.gca().spines['top'].set_visible(False)\n",
    "plt.gca().spines['right'].set_visible(False)\n",
    "plt.gca().set_facecolor('white')\n",
    "plt.gca().tick_params(axis='both', which='major', labelsize=12)\n",
    "plt.xlim([1791, 1795 + 3/12])\n",
    "plt.xticks(np.arange(1791, 1796))\n",
    "plt.yticks(np.arange(0, 201, 20))\n",
    "\n",
    "# Set the y-axis label\n",
    "plt.ylabel('millions of livres', fontsize=12)\n",
    "\n",
    "plt.tight_layout()\n",
    "plt.show()"
   ]
  },
  {
   "cell_type": "markdown",
   "id": "cd83eaf2",
   "metadata": {},
   "source": [
    "To cover the discrepancies between government expenditures and tax revenues revealed in {numref}`fr_fig11`, the French revolutionaries  printed paper money and spent it.  \n",
    "\n",
    "The next figure shows that by printing money, they were able to finance substantial purchases \n",
    "of goods and services, including military goods and soldiers' pay."
   ]
  },
  {
   "cell_type": "code",
   "execution_count": null,
   "id": "a2d28e87",
   "metadata": {
    "mystnb": {
     "figure": {
      "caption": "Revenues raised by printing paper money notes",
      "name": "fr_fig24"
     }
    }
   },
   "outputs": [],
   "source": [
    "# Read data from Excel file\n",
    "data12 = pd.read_excel(assignat_url, sheet_name='seignor', \n",
    "         usecols='F', skiprows=6, nrows=75, header=None).squeeze()\n",
    "\n",
    "# Create a figure and plot the data\n",
    "plt.figure()\n",
    "plt.plot(pd.date_range(start='1790', periods=len(data12), freq='ME'),\n",
    "         data12, linewidth=0.8)\n",
    "\n",
    "plt.gca().spines['top'].set_visible(False)\n",
    "plt.gca().spines['right'].set_visible(False)\n",
    "\n",
    "plt.axhline(y=472.42/12, color='r', linestyle=':')\n",
    "plt.xticks(ticks=pd.date_range(start='1790', \n",
    "           end='1796', freq='YS'), labels=range(1790, 1797))\n",
    "plt.xlim(pd.Timestamp('1791'),\n",
    "         pd.Timestamp('1796-02') + pd.DateOffset(months=2))\n",
    "plt.ylabel('millions of livres', fontsize=12)\n",
    "plt.text(pd.Timestamp('1793-11'), 39.5, 'revenues in 1788', \n",
    "         verticalalignment='top', fontsize=12)\n",
    "\n",
    "plt.tight_layout()\n",
    "plt.show()"
   ]
  },
  {
   "cell_type": "markdown",
   "id": "a5d1b326",
   "metadata": {},
   "source": [
    "{numref}`fr_fig24` compares the revenues raised by printing money from 1789 to 1796 with tax revenues that the Ancient Regime had raised in 1788.\n",
    "\n",
    "Measured in goods, revenues raised at time $t$ by printing new money equal\n",
    "\n",
    "$$\n",
    "\\frac{M_{t+1} - M_t}{p_t}\n",
    "$$\n",
    "\n",
    "where \n",
    "\n",
    "* $M_t$ is the stock of paper money at time $t$ measured in livres\n",
    "* $p_t$ is the price level at time $t$ measured in units of goods per livre at time $t$\n",
    "* $M_{t+1} - M_t$ is the amount of new money printed at time $t$\n",
    "\n",
    "Notice the 1793-1794  surge in revenues raised by printing money. \n",
    "\n",
    "* This reflects extraordinary measures that the Committee for Public Safety adopted to force citizens to accept paper money, or else.\n",
    "\n",
    "Also note the abrupt fall off in revenues raised by 1797 and the absence of further observations after 1797. \n",
    "\n",
    "* This reflects the end of using the printing press to raise revenues.\n",
    "\n",
    "What French paper money  entitled its holders to changed over time in interesting ways.\n",
    "\n",
    "These  led to outcomes  that vary over time and that illustrate the playing out in practice of  theories that guided the Revolutionaries' monetary policy decisions.\n",
    "\n",
    "\n",
    "The next figure shows the price level in France  during the time that the Revolutionaries used paper money to finance parts of their expenditures.\n",
    "\n",
    "Note that we use a log scale because the price level rose so much."
   ]
  },
  {
   "cell_type": "code",
   "execution_count": null,
   "id": "40660c54",
   "metadata": {
    "mystnb": {
     "figure": {
      "caption": "Price Level and Price of Gold (log scale)",
      "name": "fr_fig9"
     }
    }
   },
   "outputs": [],
   "source": [
    "# Read the data from Excel file\n",
    "data7 = pd.read_excel(assignat_url, sheet_name='Data', \n",
    "          usecols='P:Q', skiprows=4, nrows=80, header=None)\n",
    "data7a = pd.read_excel(assignat_url, sheet_name='Data', \n",
    "          usecols='L', skiprows=4, nrows=80, header=None)\n",
    "# Create the figure and plot\n",
    "plt.figure()\n",
    "x = np.arange(1789 + 10/12, 1796 + 5/12, 1/12)\n",
    "h, = plt.plot(x, 1. / data7.iloc[:, 0], linestyle='--')\n",
    "h, = plt.plot(x, 1. / data7.iloc[:, 1], color='r')\n",
    "\n",
    "# Set properties of the plot\n",
    "plt.gca().tick_params(labelsize=12)\n",
    "plt.yscale('log')\n",
    "plt.xlim([1789 + 10/12, 1796 + 5/12])\n",
    "plt.gca().spines['top'].set_visible(False)\n",
    "plt.gca().spines['right'].set_visible(False)\n",
    "\n",
    "# Add vertical lines\n",
    "plt.axvline(x=1793 + 6.5/12, linestyle='-', linewidth=0.8, color='orange')\n",
    "plt.axvline(x=1794 + 6.5/12, linestyle='-', linewidth=0.8, color='purple')\n",
    "\n",
    "# Add text\n",
    "plt.text(1793.75, 120, 'Terror', fontsize=12)\n",
    "plt.text(1795, 2.8, 'price level', fontsize=12)\n",
    "plt.text(1794.9, 40, 'gold', fontsize=12)\n",
    "\n",
    "\n",
    "plt.tight_layout()\n",
    "plt.show()"
   ]
  },
  {
   "cell_type": "markdown",
   "id": "d018eb41",
   "metadata": {},
   "source": [
    "We have partioned  {numref}`fr_fig9` that shows the log of the price level and   {numref}`fr_fig8`\n",
    "below  that plots real balances $\\frac{M_t}{p_t}$ into three periods that correspond to  different monetary  experiments or *regimes*. \n",
    "\n",
    "The first period ends in the late summer of 1793, and is characterized\n",
    "by growing real balances and moderate inflation. \n",
    "\n",
    "The second period begins and ends\n",
    "with the Terror. It is marked by high real balances, around 2,500 million, and\n",
    "roughly stable prices. The fall of Robespierre in late July 1794 begins the third\n",
    "of our episodes, in which real balances decline and prices rise rapidly.\n",
    "\n",
    "We interpret\n",
    "these three episodes in terms of distinct  theories\n",
    "\n",
    "*  a *backing* or *real bills* theory (the classic text for this theory is  Adam Smith  {cite}`smith2010wealth`)\n",
    "* a legal restrictions theory ( {cite}`keynes1940pay`, {cite}`bryant1984price` )\n",
    "* a classical hyperinflation theory ({cite}`Cagan`)\n",
    "* \n",
    "```{note}\n",
    "According to the empirical  definition of hyperinflation adopted by {cite}`Cagan`,\n",
    "beginning in the month that inflation exceeds 50 percent\n",
    "per month and ending in the month before inflation drops below 50 percent per month\n",
    "for at least a year, the *assignat*  experienced a hyperinflation from May to December\n",
    "1795.\n",
    "```\n",
    "We view these\n",
    "theories not as competitors but as alternative collections of ''if-then''\n",
    "statements about government note issues, each of which finds its conditions more\n",
    "nearly met in one of these episodes than in the other two."
   ]
  },
  {
   "cell_type": "code",
   "execution_count": null,
   "id": "d6435f1f",
   "metadata": {
    "mystnb": {
     "figure": {
      "caption": "Real balances of assignats (in gold and goods)",
      "name": "fr_fig8"
     }
    }
   },
   "outputs": [],
   "source": [
    "# Read the data from Excel file\n",
    "data7 = pd.read_excel(assignat_url, sheet_name='Data', \n",
    "        usecols='P:Q', skiprows=4, nrows=80, header=None)\n",
    "data7a = pd.read_excel(assignat_url, sheet_name='Data', \n",
    "        usecols='L', skiprows=4, nrows=80, header=None)\n",
    "\n",
    "# Create the figure and plot\n",
    "plt.figure()\n",
    "h = plt.plot(pd.date_range(start='1789-11-01', periods=len(data7), freq='ME'), \n",
    "            (data7a.values * [1, 1]) * data7.values, linewidth=1.)\n",
    "plt.setp(h[1], linestyle='--', color='red')\n",
    "\n",
    "plt.vlines([pd.Timestamp('1793-07-15'), pd.Timestamp('1793-07-15')], \n",
    "           0, 3000, linewidth=0.8, color='orange')\n",
    "plt.vlines([pd.Timestamp('1794-07-15'), pd.Timestamp('1794-07-15')], \n",
    "           0, 3000, linewidth=0.8, color='purple')\n",
    "\n",
    "plt.ylim([0, 3000])\n",
    "\n",
    "# Set properties of the plot\n",
    "plt.gca().spines['top'].set_visible(False)\n",
    "plt.gca().spines['right'].set_visible(False)\n",
    "plt.gca().set_facecolor('white')\n",
    "plt.gca().tick_params(labelsize=12)\n",
    "plt.xlim(pd.Timestamp('1789-11-01'), pd.Timestamp('1796-06-01'))\n",
    "plt.ylabel('millions of livres', fontsize=12)\n",
    "\n",
    "# Add text annotations\n",
    "plt.text(pd.Timestamp('1793-09-01'), 200, 'Terror', fontsize=12)\n",
    "plt.text(pd.Timestamp('1791-05-01'), 750, 'gold value', fontsize=12)\n",
    "plt.text(pd.Timestamp('1794-10-01'), 2500, 'real value', fontsize=12)\n",
    "\n",
    "\n",
    "plt.tight_layout()\n",
    "plt.show()"
   ]
  },
  {
   "cell_type": "markdown",
   "id": "e15e06aa",
   "metadata": {},
   "source": [
    "The three clouds of points in Figure\n",
    "{numref}`fr_fig104`\n",
    " depict different real balance-inflation relationships. \n",
    " \n",
    "Only the cloud for the\n",
    "third period has the inverse relationship familiar to us now from twentieth-century\n",
    "hyperinflations.\n",
    "\n",
    "\n",
    "\n",
    "\n",
    "* subperiod 1: (\"*real bills* period): January 1791 to July 1793\n",
    "\n",
    "* subperiod 2: (\"terror\"):  August 1793 - July 1794\n",
    "\n",
    "* subperiod 3: (\"classic Cagan hyperinflation\"): August 1794 - March 1796"
   ]
  },
  {
   "cell_type": "code",
   "execution_count": null,
   "id": "7da6b3b7",
   "metadata": {},
   "outputs": [],
   "source": [
    "def fit(x, y):\n",
    "\n",
    "    b = np.cov(x, y)[0, 1] / np.var(x)\n",
    "    a = y.mean() - b * x.mean()\n",
    "\n",
    "    return a, b"
   ]
  },
  {
   "cell_type": "code",
   "execution_count": null,
   "id": "8cac12cf",
   "metadata": {},
   "outputs": [],
   "source": [
    "# Load data\n",
    "caron = np.load('datasets/caron.npy')\n",
    "nom_balances = np.load('datasets/nom_balances.npy')\n",
    "\n",
    "infl = np.concatenate(([np.nan], \n",
    "      -np.log(caron[1:63, 1] / caron[0:62, 1])))\n",
    "bal = nom_balances[14:77, 1] * caron[:, 1] / 1000"
   ]
  },
  {
   "cell_type": "code",
   "execution_count": null,
   "id": "99bde1b9",
   "metadata": {},
   "outputs": [],
   "source": [
    "# Regress y on x for three periods\n",
    "a1, b1 = fit(bal[1:31], infl[1:31])\n",
    "a2, b2 = fit(bal[31:44], infl[31:44])\n",
    "a3, b3 = fit(bal[44:63], infl[44:63])\n",
    "\n",
    "# Regress x on y for three periods\n",
    "a1_rev, b1_rev = fit(infl[1:31], bal[1:31])\n",
    "a2_rev, b2_rev = fit(infl[31:44], bal[31:44])\n",
    "a3_rev, b3_rev = fit(infl[44:63], bal[44:63])"
   ]
  },
  {
   "cell_type": "code",
   "execution_count": null,
   "id": "188e3e74",
   "metadata": {
    "mystnb": {
     "figure": {
      "caption": "Inflation and Real Balances",
      "name": "fr_fig104"
     }
    }
   },
   "outputs": [],
   "source": [
    "plt.figure()\n",
    "plt.gca().spines['top'].set_visible(False)\n",
    "plt.gca().spines['right'].set_visible(False)\n",
    "\n",
    "# First subsample\n",
    "plt.plot(bal[1:31], infl[1:31], 'o', markerfacecolor='none', \n",
    "         color='blue', label='real bills period')\n",
    "\n",
    "# Second subsample\n",
    "plt.plot(bal[31:44], infl[31:44], '+', color='red', label='terror')\n",
    "\n",
    "# Third subsample\n",
    "plt.plot(bal[44:63], infl[44:63], '*', \n",
    "        color='orange', label='classic Cagan hyperinflation')\n",
    "\n",
    "plt.xlabel('real balances')\n",
    "plt.ylabel('inflation')\n",
    "plt.legend()\n",
    "\n",
    "plt.tight_layout()\n",
    "plt.show()"
   ]
  },
  {
   "cell_type": "markdown",
   "id": "f3d47c41",
   "metadata": {},
   "source": [
    "The three clouds of points in {numref}`fr_fig104` evidently \n",
    " depict different real balance-inflation relationships. \n",
    "\n",
    "Only the cloud for the\n",
    "third period has the inverse relationship familiar to us now from twentieth-century\n",
    "hyperinflations.\n",
    "\n",
    " To bring this out, we'll use linear regressions to draw straight lines that compress the \n",
    " inflation-real balance relationship for our three sub-periods. \n",
    "\n",
    " Before we do that, we'll drop some of the early observations during the terror period \n",
    " to obtain the following graph."
   ]
  },
  {
   "cell_type": "code",
   "execution_count": null,
   "id": "b70dbb60",
   "metadata": {},
   "outputs": [],
   "source": [
    "# Regress y on x for three periods\n",
    "a1, b1 = fit(bal[1:31], infl[1:31])\n",
    "a2, b2 = fit(bal[31:44], infl[31:44])\n",
    "a3, b3 = fit(bal[44:63], infl[44:63])\n",
    "\n",
    "# Regress x on y for three periods\n",
    "a1_rev, b1_rev = fit(infl[1:31], bal[1:31])\n",
    "a2_rev, b2_rev = fit(infl[31:44], bal[31:44])\n",
    "a3_rev, b3_rev = fit(infl[44:63], bal[44:63])"
   ]
  },
  {
   "cell_type": "code",
   "execution_count": null,
   "id": "d3d7da6f",
   "metadata": {
    "mystnb": {
     "figure": {
      "caption": "Inflation and Real Balances",
      "name": "fr_fig104b"
     }
    }
   },
   "outputs": [],
   "source": [
    "plt.figure()\n",
    "plt.gca().spines['top'].set_visible(False)\n",
    "plt.gca().spines['right'].set_visible(False)\n",
    "\n",
    "# First subsample\n",
    "plt.plot(bal[1:31], infl[1:31], 'o', markerfacecolor='none', color='blue', label='real bills period')\n",
    "\n",
    "# Second subsample\n",
    "plt.plot(bal[34:44], infl[34:44], '+', color='red', label='terror')\n",
    "\n",
    "# Third subsample\n",
    "plt.plot(bal[44:63], infl[44:63], '*', color='orange', label='classic Cagan hyperinflation')\n",
    "\n",
    "plt.xlabel('real balances')\n",
    "plt.ylabel('inflation')\n",
    "plt.legend()\n",
    "\n",
    "plt.tight_layout()\n",
    "plt.show()"
   ]
  },
  {
   "cell_type": "markdown",
   "id": "ae70af46",
   "metadata": {},
   "source": [
    "Now let's regress inflation on real balances during the *real bills* period and plot the regression\n",
    "line."
   ]
  },
  {
   "cell_type": "code",
   "execution_count": null,
   "id": "255b02eb",
   "metadata": {
    "mystnb": {
     "figure": {
      "caption": "Inflation and Real Balances",
      "name": "fr_fig104c"
     }
    }
   },
   "outputs": [],
   "source": [
    "plt.figure()\n",
    "plt.gca().spines['top'].set_visible(False)\n",
    "plt.gca().spines['right'].set_visible(False)\n",
    "\n",
    "# First subsample\n",
    "plt.plot(bal[1:31], infl[1:31], 'o', markerfacecolor='none', \n",
    "        color='blue', label='real bills period')\n",
    "plt.plot(bal[1:31], a1 + bal[1:31] * b1, color='blue')\n",
    "\n",
    "# Second subsample\n",
    "plt.plot(bal[31:44], infl[31:44], '+', color='red', label='terror')\n",
    "\n",
    "# Third subsample\n",
    "plt.plot(bal[44:63], infl[44:63], '*', \n",
    "        color='orange', label='classic Cagan hyperinflation')\n",
    "\n",
    "plt.xlabel('real balances')\n",
    "plt.ylabel('inflation')\n",
    "plt.legend()\n",
    "\n",
    "plt.tight_layout()\n",
    "plt.show()"
   ]
  },
  {
   "cell_type": "markdown",
   "id": "33542a5a",
   "metadata": {},
   "source": [
    "The regression line in {numref}`fr_fig104c` shows that large increases in real balances of\n",
    "assignats (paper money) were accompanied by only modest rises in the price level, an outcome in line\n",
    "with the *real bills* theory. \n",
    "\n",
    "During this period, assignats were claims on church lands. \n",
    "\n",
    "But towards the end of this period, the price level started to rise and real balances to fall\n",
    "as the government continued to print money but stopped selling church land. \n",
    "\n",
    "To get people to hold that paper money, the government forced people to hold it by using legal restrictions.\n",
    "\n",
    "Now let's regress real balances on inflation  during the terror  and plot the regression\n",
    "line."
   ]
  },
  {
   "cell_type": "code",
   "execution_count": null,
   "id": "7a084349",
   "metadata": {
    "mystnb": {
     "figure": {
      "caption": "Inflation and Real Balances",
      "name": "fr_fig104d"
     }
    }
   },
   "outputs": [],
   "source": [
    "plt.figure()\n",
    "plt.gca().spines['top'].set_visible(False)\n",
    "plt.gca().spines['right'].set_visible(False)\n",
    "\n",
    "# First subsample\n",
    "plt.plot(bal[1:31], infl[1:31], 'o', markerfacecolor='none', \n",
    "        color='blue', label='real bills period')\n",
    "\n",
    "# Second subsample\n",
    "plt.plot(bal[31:44], infl[31:44], '+', color='red', label='terror')\n",
    "plt.plot(a2_rev + b2_rev * infl[31:44], infl[31:44], color='red')\n",
    "\n",
    "# Third subsample\n",
    "plt.plot(bal[44:63], infl[44:63], '*', \n",
    "        color='orange', label='classic Cagan hyperinflation')\n",
    "\n",
    "plt.xlabel('real balances')\n",
    "plt.ylabel('inflation')\n",
    "plt.legend()\n",
    "\n",
    "plt.tight_layout()\n",
    "plt.show()"
   ]
  },
  {
   "cell_type": "markdown",
   "id": "b3cdee34",
   "metadata": {},
   "source": [
    "The regression line in {numref}`fr_fig104d` shows that large increases in real balances of\n",
    "assignats (paper money) were accompanied by little upward price  level pressure, even some declines in prices.  \n",
    "\n",
    "This reflects how well legal restrictions -- financial repression -- was working during the period of the Terror. \n",
    "\n",
    "But the Terror ended in July 1794.  That unleashed a big inflation as people tried to find other ways to transact and store values. \n",
    "\n",
    "The following two graphs are for the classical hyperinflation period.\n",
    "\n",
    "One regresses inflation on real balances, the other regresses real balances on inflation.\n",
    "\n",
    "Both show a prounced inverse relationship that is the hallmark of the hyperinflations studied by \n",
    "Cagan {cite}`Cagan`."
   ]
  },
  {
   "cell_type": "code",
   "execution_count": null,
   "id": "2be89fc7",
   "metadata": {
    "mystnb": {
     "figure": {
      "caption": "Inflation and Real Balances",
      "name": "fr_fig104e"
     }
    }
   },
   "outputs": [],
   "source": [
    "plt.figure()\n",
    "plt.gca().spines['top'].set_visible(False)\n",
    "plt.gca().spines['right'].set_visible(False)\n",
    "\n",
    "# First subsample\n",
    "plt.plot(bal[1:31], infl[1:31], 'o', markerfacecolor='none', \n",
    "        color='blue', label='real bills period')\n",
    "\n",
    "# Second subsample\n",
    "plt.plot(bal[31:44], infl[31:44], '+', color='red', label='terror')\n",
    "\n",
    "# Third subsample\n",
    "plt.plot(bal[44:63], infl[44:63], '*', \n",
    "    color='orange', label='classic Cagan hyperinflation')\n",
    "plt.plot(bal[44:63], a3 + bal[44:63] * b3, color='orange')\n",
    "\n",
    "plt.xlabel('real balances')\n",
    "plt.ylabel('inflation')\n",
    "plt.legend()\n",
    "\n",
    "plt.tight_layout()\n",
    "plt.show()"
   ]
  },
  {
   "cell_type": "markdown",
   "id": "fa307312",
   "metadata": {},
   "source": [
    "{numref}`fr_fig104e` shows the results of regressing inflation on real balances during the\n",
    "period of the hyperinflation."
   ]
  },
  {
   "cell_type": "code",
   "execution_count": null,
   "id": "b5359939",
   "metadata": {
    "mystnb": {
     "figure": {
      "caption": "Inflation and Real Balances",
      "name": "fr_fig104f"
     }
    }
   },
   "outputs": [],
   "source": [
    "plt.figure()\n",
    "plt.gca().spines['top'].set_visible(False)\n",
    "plt.gca().spines['right'].set_visible(False)\n",
    "\n",
    "# First subsample\n",
    "plt.plot(bal[1:31], infl[1:31], 'o', \n",
    "    markerfacecolor='none', color='blue', label='real bills period')\n",
    "\n",
    "# Second subsample\n",
    "plt.plot(bal[31:44], infl[31:44], '+', color='red', label='terror')\n",
    "\n",
    "# Third subsample\n",
    "plt.plot(bal[44:63], infl[44:63], '*', \n",
    "        color='orange', label='classic Cagan hyperinflation')\n",
    "plt.plot(a3_rev + b3_rev * infl[44:63], infl[44:63], color='orange')\n",
    "\n",
    "plt.xlabel('real balances')\n",
    "plt.ylabel('inflation')\n",
    "plt.legend()\n",
    "\n",
    "plt.tight_layout()\n",
    "plt.show()"
   ]
  },
  {
   "cell_type": "markdown",
   "id": "0790d2ca",
   "metadata": {},
   "source": [
    "{numref}`fr_fig104e` shows the results of regressing  real money balances on inflation during the\n",
    "period of the hyperinflation.\n",
    "\n",
    "## Hyperinflation Ends\n",
    "\n",
    "{cite}`sargent_velde1995` tell how in 1797 the Revolutionary government abruptly ended the inflation by \n",
    "\n",
    "  * repudiating 2/3 of the national debt, and thereby\n",
    "  * eliminating the net-of-interest government defict\n",
    "  * no longer printing money, but instead\n",
    "  * using gold and silver coins as money\n",
    "\n",
    "In 1799, Napoleon Bonaparte became first consul and for the next 15 years used resources confiscated from conquered territories to help pay for French government expenditures.\n",
    "\n",
    "## Underlying Theories\n",
    "\n",
    "This lecture  sets the stage for studying  theories of inflation and the  government monetary and fiscal policies that bring it about.\n",
    "\n",
    "A  *monetarist theory of the price level* is described in this quantecon lecture {doc}`cagan_ree`.\n",
    "\n",
    "That lecture sets the stage for these quantecon lectures {doc}`money_inflation` and {doc}`unpleasant`."
   ]
  }
 ],
 "metadata": {
  "jupytext": {
   "text_representation": {
    "extension": ".md",
    "format_name": "myst",
    "format_version": 0.13,
    "jupytext_version": "1.16.7"
   }
  },
  "kernelspec": {
   "display_name": "Python 3 (ipykernel)",
   "language": "python",
   "name": "python3"
  },
  "source_map": [
   12,
   64,
   76,
   93,
   127,
   142,
   176,
   219,
   255,
   263,
   271,
   300,
   423,
   447,
   459,
   498,
   505,
   535,
   568,
   605,
   637,
   679,
   698,
   707,
   717,
   729,
   757,
   772,
   784,
   810,
   815,
   844,
   860,
   889,
   905,
   934,
   939,
   968
  ]
 },
 "nbformat": 4,
 "nbformat_minor": 5
}