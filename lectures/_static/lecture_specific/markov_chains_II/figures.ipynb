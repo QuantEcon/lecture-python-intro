{
 "cells": [
  {
   "cell_type": "markdown",
   "id": "b5a640be-e2e4-4841-bcda-95f6660fd9fe",
   "metadata": {},
   "source": [
    "# Figures for Markov Chain II"
   ]
  },
  {
   "cell_type": "code",
   "execution_count": 1,
   "id": "f8a64d7b-2ffd-4974-a1dd-ec14d8e44102",
   "metadata": {},
   "outputs": [
    {
     "name": "stdout",
     "output_type": "stream",
     "text": [
      "Collecting graphviz\n",
      "  Using cached graphviz-0.20.3-py3-none-any.whl.metadata (12 kB)\n",
      "Using cached graphviz-0.20.3-py3-none-any.whl (47 kB)\n",
      "Installing collected packages: graphviz\n",
      "Successfully installed graphviz-0.20.3\n"
     ]
    }
   ],
   "source": [
    "!pip install graphviz"
   ]
  },
  {
   "cell_type": "code",
   "execution_count": 2,
   "id": "43d55bea-fd00-4583-8d89-830151b6c36c",
   "metadata": {},
   "outputs": [],
   "source": [
    "from graphviz import Digraph"
   ]
  },
  {
   "cell_type": "markdown",
   "id": "4185ae75-3a1c-4f89-ad74-1950d344ba56",
   "metadata": {},
   "source": [
    "## Irreducibility"
   ]
  },
  {
   "cell_type": "code",
   "execution_count": 3,
   "id": "53a8bb26-a6e8-421c-abcc-535031d5a69b",
   "metadata": {},
   "outputs": [
    {
     "data": {
      "text/plain": [
       "'Irre_1.png'"
      ]
     },
     "execution_count": 3,
     "metadata": {},
     "output_type": "execute_result"
    }
   ],
   "source": [
    "dot = Digraph(format='png')\n",
    "dot.attr(rankdir='LR')\n",
    "dot.node(\"poor\")\n",
    "dot.node(\"middle class\")\n",
    "dot.node(\"rich\")\n",
    "\n",
    "dot.edge(\"poor\", \"poor\", label=\"0.9\")\n",
    "dot.edge(\"poor\", \"middle class\", label=\"0.1\")\n",
    "dot.edge(\"middle class\", \"poor\", label=\"0.4\")\n",
    "dot.edge(\"middle class\", \"middle class\", label=\"0.4\")\n",
    "dot.edge(\"middle class\", \"rich\", label=\"0.2\")\n",
    "dot.edge(\"rich\", \"poor\", label=\"0.1\")\n",
    "dot.edge(\"rich\", \"middle class\", label=\"0.1\")\n",
    "dot.edge(\"rich\", \"rich\", label=\"0.8\")\n",
    "\n",
    "dot\n",
    "dot.render(filename='Irre_1')"
   ]
  },
  {
   "cell_type": "code",
   "execution_count": 4,
   "id": "4e96fd64-a1ab-4a6e-a5d6-a64767f6181e",
   "metadata": {},
   "outputs": [
    {
     "data": {
      "text/plain": [
       "'Irre_2.png'"
      ]
     },
     "execution_count": 4,
     "metadata": {},
     "output_type": "execute_result"
    }
   ],
   "source": [
    "dot = Digraph(format='png')\n",
    "dot.attr(rankdir='LR')\n",
    "dot.node(\"poor\")\n",
    "dot.node(\"middle class\")\n",
    "dot.node(\"rich\")\n",
    "\n",
    "dot.edge(\"poor\", \"poor\", label=\"1.0\")\n",
    "dot.edge(\"middle class\", \"poor\", label=\"0.1\")\n",
    "dot.edge(\"middle class\", \"middle class\", label=\"0.8\")\n",
    "dot.edge(\"middle class\", \"rich\", label=\"0.1\")\n",
    "dot.edge(\"rich\", \"middle class\", label=\"0.2\")\n",
    "dot.edge(\"rich\", \"rich\", label=\"0.8\")\n",
    "\n",
    "dot\n",
    "dot.render(filename='Irre_2')"
   ]
  },
  {
   "cell_type": "markdown",
   "id": "1d7441a9-7753-4922-8276-3d26a26798cf",
   "metadata": {},
   "source": [
    "## Example 4"
   ]
  },
  {
   "cell_type": "code",
   "execution_count": 5,
   "id": "850376db-6922-4440-af89-c50b0e6b5050",
   "metadata": {},
   "outputs": [
    {
     "data": {
      "text/plain": [
       "'example4.png'"
      ]
     },
     "execution_count": 5,
     "metadata": {},
     "output_type": "execute_result"
    }
   ],
   "source": [
    "dot = Digraph(format='png')\n",
    "dot.attr(rankdir='LR')\n",
    "dot.node(\"0\")\n",
    "dot.node(\"1\")\n",
    "\n",
    "dot.edge(\"0\", \"1\", label=\"1.0\")\n",
    "dot.edge(\"1\", \"0\", label=\"1.0\")\n",
    "\n",
    "dot\n",
    "dot.render(filename='example4')"
   ]
  },
  {
   "cell_type": "code",
   "execution_count": null,
   "id": "5f9c4db0-812a-4131-803f-024ae5b61772",
   "metadata": {},
   "outputs": [],
   "source": []
  }
 ],
 "metadata": {
  "kernelspec": {
   "display_name": "Python 3 (ipykernel)",
   "language": "python",
   "name": "python3"
  },
  "language_info": {
   "codemirror_mode": {
    "name": "ipython",
    "version": 3
   },
   "file_extension": ".py",
   "mimetype": "text/x-python",
   "name": "python",
   "nbconvert_exporter": "python",
   "pygments_lexer": "ipython3",
   "version": "3.11.7"
  }
 },
 "nbformat": 4,
 "nbformat_minor": 5
}
