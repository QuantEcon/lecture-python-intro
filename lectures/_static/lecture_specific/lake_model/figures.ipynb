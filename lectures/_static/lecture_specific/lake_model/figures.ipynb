{
 "cells": [
  {
   "cell_type": "markdown",
   "id": "3c1ab515-e765-48f5-bfaf-35d4f95581fd",
   "metadata": {},
   "source": [
    "# Figures for Lake Model Lecture"
   ]
  },
  {
   "cell_type": "code",
   "execution_count": 1,
   "id": "45727b3e-f531-4a31-b838-840ccf9d3c02",
   "metadata": {},
   "outputs": [
    {
     "name": "stdout",
     "output_type": "stream",
     "text": [
      "Requirement already satisfied: graphviz in /Users/mmcky/anaconda3/envs/quantecon/lib/python3.11/site-packages (0.20.3)\n"
     ]
    }
   ],
   "source": [
    "!pip install graphviz"
   ]
  },
  {
   "cell_type": "code",
   "execution_count": 2,
   "id": "68e95ec8-877e-416a-a8ff-665715dfe222",
   "metadata": {},
   "outputs": [],
   "source": [
    "from graphviz import Digraph"
   ]
  },
  {
   "cell_type": "code",
   "execution_count": 5,
   "id": "92a57207-4d79-4d7b-98c2-aea1a1e35f57",
   "metadata": {},
   "outputs": [
    {
     "data": {
      "text/plain": [
       "'lake_model_worker.png'"
      ]
     },
     "execution_count": 5,
     "metadata": {},
     "output_type": "execute_result"
    }
   ],
   "source": [
    "# Create Digraph object\n",
    "G = Digraph(format='png')\n",
    "G.attr(rankdir='LR')\n",
    "\n",
    "# Add nodes\n",
    "G.attr('node', shape='circle')\n",
    "G.node('1', 'New entrants', color='blue')\n",
    "G.node('2', 'Unemployed')\n",
    "G.node('3', 'Employed')\n",
    "\n",
    "# Add edges\n",
    "G.edge('1', '2', label='b')\n",
    "G.edge('2', '3', label='λ(1-d)')\n",
    "G.edge('3', '2', label='α(1-d)')\n",
    "G.edge('2', '2', label='(1-λ)(1-d)')\n",
    "G.edge('3', '3', label='(1-α)(1-d)')\n",
    "\n",
    "# Save Plot\n",
    "G.render(filename='lake_model_worker')"
   ]
  },
  {
   "cell_type": "code",
   "execution_count": null,
   "id": "f6c2af58-4d38-44c3-adb0-d1a92a344e51",
   "metadata": {},
   "outputs": [],
   "source": []
  }
 ],
 "metadata": {
  "kernelspec": {
   "display_name": "Python 3 (ipykernel)",
   "language": "python",
   "name": "python3"
  },
  "language_info": {
   "codemirror_mode": {
    "name": "ipython",
    "version": 3
   },
   "file_extension": ".py",
   "mimetype": "text/x-python",
   "name": "python",
   "nbconvert_exporter": "python",
   "pygments_lexer": "ipython3",
   "version": "3.11.7"
  }
 },
 "nbformat": 4,
 "nbformat_minor": 5
}
