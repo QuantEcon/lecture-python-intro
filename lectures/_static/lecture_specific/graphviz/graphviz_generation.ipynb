{
 "cells": [
  {
   "cell_type": "markdown",
   "id": "ccd1c797-db85-4293-8436-0cd442d1d9ae",
   "metadata": {},
   "source": [
    "# Code for Graphviz Plots "
   ]
  },
  {
   "cell_type": "code",
   "execution_count": 1,
   "id": "6f6a377d-1fc8-4f2a-8e92-b550a7c92828",
   "metadata": {},
   "outputs": [
    {
     "name": "stdout",
     "output_type": "stream",
     "text": [
      "Requirement already satisfied: graphviz in /Users/humphreyyang/anaconda3/envs/quantecon/lib/python3.9/site-packages (0.20.1)\n"
     ]
    }
   ],
   "source": [
    "!pip install graphviz"
   ]
  },
  {
   "cell_type": "markdown",
   "id": "ad403a5a-868c-45ed-a360-a81aee9cfd38",
   "metadata": {},
   "source": [
    "```{admonition} graphviz\n",
    ":class: warning\n",
    "If you are running this lecture locally it requires [graphviz](https://www.graphviz.org)\n",
    "to be installed on your computer. Installation instructions for graphviz can be found\n",
    "[here](https://www.graphviz.org/download/) \n",
    "```"
   ]
  },
  {
   "cell_type": "code",
   "execution_count": 2,
   "id": "428161a2-e0d5-402e-bf16-1d1e460a30e7",
   "metadata": {},
   "outputs": [],
   "source": [
    "from graphviz import Digraph\n"
   ]
  },
  {
   "cell_type": "markdown",
   "id": "75d07327-0fcc-41f1-8d36-b8b8d4eb1060",
   "metadata": {},
   "source": [
    "## Lake Model"
   ]
  },
  {
   "cell_type": "code",
   "execution_count": 3,
   "id": "16e9379d-bf94-4c79-9a34-4dbc2cc41b0e",
   "metadata": {},
   "outputs": [
    {
     "data": {
      "text/plain": [
       "'../lake_model/lake_model_worker.png'"
      ]
     },
     "execution_count": 3,
     "metadata": {},
     "output_type": "execute_result"
    }
   ],
   "source": [
    "# Create Digraph object\n",
    "G = Digraph(format='png')\n",
    "G.attr(rankdir='LR')\n",
    "\n",
    "# Add nodes\n",
    "G.attr('node', shape='circle')\n",
    "G.node('1', 'New entrants', color='blue')\n",
    "G.node('2', 'Unemployed')\n",
    "G.node('3', 'Employed')\n",
    "\n",
    "# Add edges\n",
    "G.edge('1', '2', label='b')\n",
    "G.edge('2', '3', label='λ(1-d)')\n",
    "G.edge('3', '2', label='α(1-d)')\n",
    "G.edge('2', '2', label='(1-λ)(1-d)')\n",
    "G.edge('3', '3', label='(1-α)(1-d)')\n",
    "\n",
    "# Save Plot\n",
    "G.render(filename='../lake_model/lake_model_worker')"
   ]
  },
  {
   "cell_type": "markdown",
   "id": "194ca10b-dd02-4210-adbc-c2bb8b699d45",
   "metadata": {},
   "source": [
    "## Markov Chains I\n",
    "\n",
    "### Example 1\n",
    "\n",
    "Hamilton on US unemployment data"
   ]
  },
  {
   "cell_type": "code",
   "execution_count": 4,
   "id": "75e86ad6-d11c-4c36-920d-cbab0e3d97d2",
   "metadata": {},
   "outputs": [
    {
     "data": {
      "text/plain": [
       "'../markov_chains_I/Hamilton.png'"
      ]
     },
     "execution_count": 4,
     "metadata": {},
     "output_type": "execute_result"
    }
   ],
   "source": [
    "dot = Digraph(format='png')\n",
    "dot.attr(rankdir='LR')\n",
    "dot.node(\"ng\")\n",
    "dot.node(\"mr\")\n",
    "dot.node(\"sr\")\n",
    "\n",
    "dot.edge(\"ng\", \"ng\", label=\"0.971\")\n",
    "dot.edge(\"ng\", \"mr\", label=\"0.029\")\n",
    "dot.edge(\"mr\", \"ng\", label=\"0.145\")\n",
    "\n",
    "dot.edge(\"mr\", \"mr\", label=\"0.778\")\n",
    "dot.edge(\"mr\", \"sr\", label=\"0.077\")\n",
    "dot.edge(\"sr\", \"mr\", label=\"0.508\")\n",
    "\n",
    "dot.edge(\"sr\", \"sr\", label=\"0.492\")\n",
    "dot\n",
    "\n",
    "dot.render(filename='../markov_chains_I/Hamilton')"
   ]
  },
  {
   "cell_type": "markdown",
   "id": "1b7b4b45-f6a4-495d-9115-638aafe9acd8",
   "metadata": {},
   "source": [
    "### Exercise 1\n",
    "\n",
    "Solution 2:"
   ]
  },
  {
   "cell_type": "code",
   "execution_count": 5,
   "id": "46c4612f-3f8b-4c83-b02a-81fe67545e8f",
   "metadata": {},
   "outputs": [
    {
     "data": {
      "text/plain": [
       "'../markov_chains_I/Temple.png'"
      ]
     },
     "execution_count": 5,
     "metadata": {},
     "output_type": "execute_result"
    }
   ],
   "source": [
    "dot = Digraph(format='png')\n",
    "dot.attr(rankdir='LR')\n",
    "dot.node(\"Growth\")\n",
    "dot.node(\"Stagnation\")\n",
    "dot.node(\"Collapse\")\n",
    "\n",
    "dot.edge(\"Growth\", \"Growth\", label=\"0.68\")\n",
    "dot.edge(\"Growth\", \"Stagnation\", label=\"0.12\")\n",
    "dot.edge(\"Growth\", \"Collapse\", label=\"0.20\")\n",
    "\n",
    "dot.edge(\"Stagnation\", \"Stagnation\", label=\"0.24\")\n",
    "dot.edge(\"Stagnation\", \"Growth\", label=\"0.50\")\n",
    "dot.edge(\"Stagnation\", \"Collapse\", label=\"0.26\")\n",
    "\n",
    "dot.edge(\"Collapse\", \"Collapse\", label=\"0.46\")\n",
    "dot.edge(\"Collapse\", \"Stagnation\", label=\"0.18\")\n",
    "dot.edge(\"Collapse\", \"Growth\", label=\"0.36\")\n",
    "\n",
    "dot\n",
    "\n",
    "dot.render(filename='../markov_chains_I/Temple')"
   ]
  },
  {
   "cell_type": "markdown",
   "id": "360e6241-2bdc-425e-903a-dab3c5ef0485",
   "metadata": {},
   "source": [
    "## Markov Chains II\n",
    "\n",
    "### Irreducibility"
   ]
  },
  {
   "cell_type": "code",
   "execution_count": 6,
   "id": "b2fc20fe-9031-4212-a911-6dad6f49ccd3",
   "metadata": {},
   "outputs": [
    {
     "data": {
      "text/plain": [
       "'../markov_chains_II/Irre_1.png'"
      ]
     },
     "execution_count": 6,
     "metadata": {},
     "output_type": "execute_result"
    }
   ],
   "source": [
    "dot = Digraph(format='png')\n",
    "dot.attr(rankdir='LR')\n",
    "dot.node(\"poor\")\n",
    "dot.node(\"middle class\")\n",
    "dot.node(\"rich\")\n",
    "\n",
    "dot.edge(\"poor\", \"poor\", label=\"0.9\")\n",
    "dot.edge(\"poor\", \"middle class\", label=\"0.1\")\n",
    "dot.edge(\"middle class\", \"poor\", label=\"0.4\")\n",
    "dot.edge(\"middle class\", \"middle class\", label=\"0.4\")\n",
    "dot.edge(\"middle class\", \"rich\", label=\"0.2\")\n",
    "dot.edge(\"rich\", \"poor\", label=\"0.1\")\n",
    "dot.edge(\"rich\", \"middle class\", label=\"0.1\")\n",
    "dot.edge(\"rich\", \"rich\", label=\"0.8\")\n",
    "\n",
    "dot\n",
    "dot.render(filename='../markov_chains_II/Irre_1')"
   ]
  },
  {
   "cell_type": "code",
   "execution_count": 7,
   "id": "6d7a66a3-840b-4920-b7d0-eac8c95ab518",
   "metadata": {},
   "outputs": [
    {
     "data": {
      "text/plain": [
       "'../markov_chains_II/Irre_2.png'"
      ]
     },
     "execution_count": 7,
     "metadata": {},
     "output_type": "execute_result"
    }
   ],
   "source": [
    "dot = Digraph(format='png')\n",
    "dot.attr(rankdir='LR')\n",
    "dot.node(\"poor\")\n",
    "dot.node(\"middle class\")\n",
    "dot.node(\"rich\")\n",
    "\n",
    "dot.edge(\"poor\", \"poor\", label=\"1.0\")\n",
    "dot.edge(\"middle class\", \"poor\", label=\"0.1\")\n",
    "dot.edge(\"middle class\", \"middle class\", label=\"0.8\")\n",
    "dot.edge(\"middle class\", \"rich\", label=\"0.1\")\n",
    "dot.edge(\"rich\", \"middle class\", label=\"0.2\")\n",
    "dot.edge(\"rich\", \"rich\", label=\"0.8\")\n",
    "\n",
    "dot\n",
    "dot.render(filename='../markov_chains_II/Irre_2')"
   ]
  },
  {
   "cell_type": "markdown",
   "id": "a1d1ef38-f6ee-4c45-b922-d6c72ae0acc2",
   "metadata": {},
   "source": [
    "### Example 4"
   ]
  },
  {
   "cell_type": "code",
   "execution_count": 8,
   "id": "2d1becb5-6593-49e2-990f-e6a8799b7c2c",
   "metadata": {},
   "outputs": [
    {
     "data": {
      "text/plain": [
       "'../markov_chains_II/example4.png'"
      ]
     },
     "execution_count": 8,
     "metadata": {},
     "output_type": "execute_result"
    }
   ],
   "source": [
    "dot = Digraph(format='png')\n",
    "dot.attr(rankdir='LR')\n",
    "dot.node(\"0\")\n",
    "dot.node(\"1\")\n",
    "\n",
    "dot.edge(\"0\", \"1\", label=\"1.0\", color='red')\n",
    "dot.edge(\"1\", \"0\", label=\"1.0\", color='red')\n",
    "\n",
    "dot\n",
    "dot.render(filename='../markov_chains_II/example4')"
   ]
  },
  {
   "cell_type": "markdown",
   "id": "a9664ecd-eb62-44e3-89fa-f83555c51b74",
   "metadata": {},
   "source": [
    "## Networks"
   ]
  },
  {
   "cell_type": "markdown",
   "id": "5df3cbb7-f540-4375-8448-c2aaa5526d56",
   "metadata": {},
   "source": [
    "### Markov Chains"
   ]
  },
  {
   "cell_type": "code",
   "execution_count": 9,
   "id": "f5f64c3a-c7f4-4f7f-86f5-d47d0d3a0d5c",
   "metadata": {},
   "outputs": [
    {
     "data": {
      "text/plain": [
       "'../networks/mc.png'"
      ]
     },
     "execution_count": 9,
     "metadata": {},
     "output_type": "execute_result"
    }
   ],
   "source": [
    "dot = Digraph(format='png')\n",
    "dot.attr(rankdir='LR')\n",
    "\n",
    "dot.node(\"ng\")\n",
    "dot.node(\"mr\")\n",
    "dot.node(\"sr\")\n",
    "\n",
    "dot.edge(\"ng\", \"ng\", label=\"0.971\")\n",
    "dot.edge(\"ng\", \"mr\", label=\"0.029\")\n",
    "dot.edge(\"mr\", \"ng\", label=\"0.145\")\n",
    "dot.edge(\"mr\", \"mr\", label=\"0.778\")\n",
    "dot.edge(\"mr\", \"sr\", label=\"0.077\")\n",
    "dot.edge(\"sr\", \"mr\", label=\"0.508\")\n",
    "dot.edge(\"sr\", \"sr\", label=\"0.492\")\n",
    "\n",
    "dot\n",
    "dot.render(filename='../networks/mc')"
   ]
  },
  {
   "cell_type": "markdown",
   "id": "395fa1f8-6e8d-4ac5-bc71-f34b0b9c1e9c",
   "metadata": {},
   "source": [
    "### Poverty Trap"
   ]
  },
  {
   "cell_type": "code",
   "execution_count": 10,
   "id": "4f4434d5-f434-41eb-ac4b-f0642d3c48c4",
   "metadata": {},
   "outputs": [
    {
     "data": {
      "text/plain": [
       "'../networks/poverty_trap_1.png'"
      ]
     },
     "execution_count": 10,
     "metadata": {},
     "output_type": "execute_result"
    }
   ],
   "source": [
    "dot = Digraph(format='png',engine = \"neato\")\n",
    "dot.attr(rankdir='LR')\n",
    "dot.node(\"poor\", pos='0,0!')\n",
    "dot.node(\"middle class\", pos='2,1!')\n",
    "dot.node(\"rich\", pos='4,0!')\n",
    "\n",
    "dot.edge(\"poor\", \"poor\")\n",
    "dot.edge(\"poor\", \"middle class\")\n",
    "dot.edge(\"middle class\", \"poor\")\n",
    "dot.edge(\"middle class\", \"middle class\")\n",
    "dot.edge(\"middle class\", \"rich\")\n",
    "dot.edge(\"rich\", \"poor\")\n",
    "dot.edge(\"rich\", \"middle class\")\n",
    "dot.edge(\"rich\", \"rich\")\n",
    "\n",
    "dot\n",
    "dot.render(filename='../networks/poverty_trap_1')"
   ]
  },
  {
   "cell_type": "code",
   "execution_count": 11,
   "id": "ed47732a-9e2b-4d0d-a08a-5303bf8107c2",
   "metadata": {},
   "outputs": [
    {
     "data": {
      "text/plain": [
       "'../networks/poverty_trap_2.png'"
      ]
     },
     "execution_count": 11,
     "metadata": {},
     "output_type": "execute_result"
    }
   ],
   "source": [
    "dot = Digraph(format='png',engine=\"neato\")\n",
    "dot.attr(rankdir='LR')\n",
    "dot.node(\"poor\", pos='0,0!')\n",
    "dot.node(\"middle class\", pos='2,1!')\n",
    "dot.node(\"rich\", pos='4,0!')\n",
    "\n",
    "dot.edge(\"poor\", \"poor\")\n",
    "dot.edge(\"middle class\", \"poor\")\n",
    "dot.edge(\"middle class\", \"middle class\")\n",
    "dot.edge(\"middle class\", \"rich\")\n",
    "dot.edge(\"rich\", \"poor\")\n",
    "dot.edge(\"rich\", \"middle class\")\n",
    "dot.edge(\"rich\", \"rich\")\n",
    "\n",
    "dot\n",
    "dot.render(filename='../networks/poverty_trap_2')"
   ]
  },
  {
   "cell_type": "markdown",
   "id": "b43e5057-94eb-45e4-80e5-9f85a3c8be52",
   "metadata": {},
   "source": [
    "### Weighted Directed Graph"
   ]
  },
  {
   "cell_type": "code",
   "execution_count": 12,
   "id": "818c342c-87a4-4f30-9c78-79577f257698",
   "metadata": {},
   "outputs": [
    {
     "data": {
      "text/plain": [
       "'../networks/weighted.png'"
      ]
     },
     "execution_count": 12,
     "metadata": {},
     "output_type": "execute_result"
    }
   ],
   "source": [
    "dot = Digraph(format='png')\n",
    "\n",
    "dot.attr(rankdir='LR')\n",
    "dot.node(\"poor\")\n",
    "dot.node(\"middle class\")\n",
    "dot.node(\"rich\")\n",
    "\n",
    "dot.edge(\"poor\", \"poor\", label='0.9')\n",
    "dot.edge(\"poor\", \"middle class\", label='0.1')\n",
    "dot.edge(\"middle class\", \"poor\", label='0.4')\n",
    "dot.edge(\"middle class\", \"middle class\", label='0.4')\n",
    "dot.edge(\"middle class\", \"rich\", label='0.2')\n",
    "dot.edge(\"rich\", \"poor\", label='0.1')\n",
    "dot.edge(\"rich\", \"middle class\", label='0.1')\n",
    "dot.edge(\"rich\", \"rich\", label='0.8')\n",
    "\n",
    "dot\n",
    "dot.render(filename='../networks/weighted')"
   ]
  },
  {
   "cell_type": "markdown",
   "id": "074ccf20-618b-456c-9257-36ac2e2b6cfa",
   "metadata": {},
   "source": [
    "### Properties"
   ]
  },
  {
   "cell_type": "code",
   "execution_count": 13,
   "id": "778d9e00-3224-4ab7-ba72-c87b96fb654b",
   "metadata": {},
   "outputs": [
    {
     "data": {
      "text/plain": [
       "'../networks/properties.png'"
      ]
     },
     "execution_count": 13,
     "metadata": {},
     "output_type": "execute_result"
    }
   ],
   "source": [
    "dot = Digraph(format='png')\n",
    "\n",
    "dot.attr(rankdir='LR')\n",
    "dot.node('1')\n",
    "dot.node('2')\n",
    "dot.node('3')\n",
    "\n",
    "dot.edge('1', '2', label='0.7')\n",
    "dot.edge('1', '3', label='0.3')\n",
    "dot.edge('2', '1', label='1')\n",
    "dot.edge('3', '1', label='0.4')\n",
    "dot.edge('3', '2', label='0.6')\n",
    "\n",
    "dot\n",
    "dot.render(filename='../networks/properties')"
   ]
  }
 ],
 "metadata": {
  "kernelspec": {
   "display_name": "Python 3 (ipykernel)",
   "language": "python",
   "name": "python3"
  },
  "language_info": {
   "codemirror_mode": {
    "name": "ipython",
    "version": 3
   },
   "file_extension": ".py",
   "mimetype": "text/x-python",
   "name": "python",
   "nbconvert_exporter": "python",
   "pygments_lexer": "ipython3",
   "version": "3.9.16"
  }
 },
 "nbformat": 4,
 "nbformat_minor": 5
}
