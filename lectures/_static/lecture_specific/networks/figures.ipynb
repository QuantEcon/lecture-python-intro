{
 "cells": [
  {
   "cell_type": "markdown",
   "id": "4f255add-dde2-4452-a242-a2894610a0e8",
   "metadata": {},
   "source": [
    "# Figures for Networks"
   ]
  },
  {
   "cell_type": "code",
   "execution_count": 1,
   "id": "59d90e63-793c-41b0-8e52-3fce04b007e9",
   "metadata": {},
   "outputs": [
    {
     "name": "stdout",
     "output_type": "stream",
     "text": [
      "Requirement already satisfied: graphviz in /Users/mmcky/anaconda3/envs/quantecon/lib/python3.11/site-packages (0.20.3)\n"
     ]
    }
   ],
   "source": [
    "!pip install graphviz"
   ]
  },
  {
   "cell_type": "code",
   "execution_count": 2,
   "id": "56974a99-d93c-4e03-b9b4-99a6259dfd9b",
   "metadata": {},
   "outputs": [],
   "source": [
    "from graphviz import Digraph"
   ]
  },
  {
   "cell_type": "markdown",
   "id": "79c35279-6a32-43cf-b7ee-ef955a962080",
   "metadata": {},
   "source": [
    "## Markov chains"
   ]
  },
  {
   "cell_type": "code",
   "execution_count": 3,
   "id": "a6cd7b6c-55a6-4e7f-a464-76d3514ad6cc",
   "metadata": {},
   "outputs": [
    {
     "data": {
      "text/plain": [
       "'mc.png'"
      ]
     },
     "execution_count": 3,
     "metadata": {},
     "output_type": "execute_result"
    }
   ],
   "source": [
    "dot = Digraph(format='png')\n",
    "dot.attr(rankdir='LR')\n",
    "\n",
    "dot.node(\"ng\")\n",
    "dot.node(\"mr\")\n",
    "dot.node(\"sr\")\n",
    "\n",
    "dot.edge(\"ng\", \"ng\", label=\"0.971\")\n",
    "dot.edge(\"ng\", \"mr\", label=\"0.029\")\n",
    "dot.edge(\"mr\", \"ng\", label=\"0.145\")\n",
    "dot.edge(\"mr\", \"mr\", label=\"0.778\")\n",
    "dot.edge(\"mr\", \"sr\", label=\"0.077\")\n",
    "dot.edge(\"sr\", \"mr\", label=\"0.508\")\n",
    "dot.edge(\"sr\", \"sr\", label=\"0.492\")\n",
    "\n",
    "dot\n",
    "dot.render(filename='mc')"
   ]
  },
  {
   "cell_type": "markdown",
   "id": "53ffff16-f367-45f1-9e8f-0964cde5c8e9",
   "metadata": {},
   "source": [
    "## Poverty trap"
   ]
  },
  {
   "cell_type": "code",
   "execution_count": 4,
   "id": "306687a2-a76d-43ce-afb2-83380cccf258",
   "metadata": {},
   "outputs": [
    {
     "data": {
      "text/plain": [
       "'poverty_trap_1.png'"
      ]
     },
     "execution_count": 4,
     "metadata": {},
     "output_type": "execute_result"
    }
   ],
   "source": [
    "dot = Digraph(format='png',engine = \"neato\")\n",
    "dot.attr(rankdir='LR')\n",
    "dot.node(\"poor\", pos='0,0!')\n",
    "dot.node(\"middle class\", pos='2,1!')\n",
    "dot.node(\"rich\", pos='4,0!')\n",
    "\n",
    "dot.edge(\"poor\", \"poor\")\n",
    "dot.edge(\"poor\", \"middle class\")\n",
    "dot.edge(\"middle class\", \"poor\")\n",
    "dot.edge(\"middle class\", \"middle class\")\n",
    "dot.edge(\"middle class\", \"rich\")\n",
    "dot.edge(\"rich\", \"poor\")\n",
    "dot.edge(\"rich\", \"middle class\")\n",
    "dot.edge(\"rich\", \"rich\")\n",
    "\n",
    "dot\n",
    "dot.render(filename='poverty_trap_1')"
   ]
  },
  {
   "cell_type": "code",
   "execution_count": 5,
   "id": "599034ae-48c3-4fdb-bcbb-e13b054e7ff0",
   "metadata": {},
   "outputs": [
    {
     "data": {
      "text/plain": [
       "'poverty_trap_2.png'"
      ]
     },
     "execution_count": 5,
     "metadata": {},
     "output_type": "execute_result"
    }
   ],
   "source": [
    "dot = Digraph(format='png',engine=\"neato\")\n",
    "dot.attr(rankdir='LR')\n",
    "dot.node(\"poor\", pos='0,0!')\n",
    "dot.node(\"middle class\", pos='2,1!')\n",
    "dot.node(\"rich\", pos='4,0!')\n",
    "\n",
    "dot.edge(\"poor\", \"poor\")\n",
    "dot.edge(\"middle class\", \"poor\")\n",
    "dot.edge(\"middle class\", \"middle class\")\n",
    "dot.edge(\"middle class\", \"rich\")\n",
    "dot.edge(\"rich\", \"poor\")\n",
    "dot.edge(\"rich\", \"middle class\")\n",
    "dot.edge(\"rich\", \"rich\")\n",
    "\n",
    "dot\n",
    "dot.render(filename='poverty_trap_2')"
   ]
  },
  {
   "cell_type": "markdown",
   "id": "78888c53-c5f2-4766-9943-321cc91cb9af",
   "metadata": {},
   "source": [
    "## Weighted directed graph"
   ]
  },
  {
   "cell_type": "code",
   "execution_count": 6,
   "id": "3aa21b51-3b55-4d31-ad0c-880e896b7a48",
   "metadata": {},
   "outputs": [
    {
     "data": {
      "text/plain": [
       "'weighted.png'"
      ]
     },
     "execution_count": 6,
     "metadata": {},
     "output_type": "execute_result"
    }
   ],
   "source": [
    "dot = Digraph(format='png')\n",
    "\n",
    "dot.attr(rankdir='LR')\n",
    "dot.node(\"poor\")\n",
    "dot.node(\"middle class\")\n",
    "dot.node(\"rich\")\n",
    "\n",
    "dot.edge(\"poor\", \"poor\", label='0.9')\n",
    "dot.edge(\"poor\", \"middle class\", label='0.1')\n",
    "dot.edge(\"middle class\", \"poor\", label='0.4')\n",
    "dot.edge(\"middle class\", \"middle class\", label='0.4')\n",
    "dot.edge(\"middle class\", \"rich\", label='0.2')\n",
    "dot.edge(\"rich\", \"poor\", label='0.1')\n",
    "dot.edge(\"rich\", \"middle class\", label='0.1')\n",
    "dot.edge(\"rich\", \"rich\", label='0.8')\n",
    "\n",
    "dot\n",
    "dot.render(filename='weighted')"
   ]
  },
  {
   "cell_type": "markdown",
   "id": "e51acec4-a10b-4b9b-a757-835acff0d965",
   "metadata": {},
   "source": [
    "## Properties"
   ]
  },
  {
   "cell_type": "code",
   "execution_count": 7,
   "id": "a88964ae-0fed-4e07-b075-1db97fbfb5f3",
   "metadata": {},
   "outputs": [
    {
     "data": {
      "text/plain": [
       "'properties.png'"
      ]
     },
     "execution_count": 7,
     "metadata": {},
     "output_type": "execute_result"
    }
   ],
   "source": [
    "dot = Digraph(format='png')\n",
    "\n",
    "dot.attr(rankdir='LR')\n",
    "dot.node('1')\n",
    "dot.node('2')\n",
    "dot.node('3')\n",
    "\n",
    "dot.edge('1', '2', label='0.7')\n",
    "dot.edge('1', '3', label='0.3')\n",
    "dot.edge('2', '1', label='1')\n",
    "dot.edge('3', '1', label='0.4')\n",
    "dot.edge('3', '2', label='0.6')\n",
    "\n",
    "dot\n",
    "dot.render(filename='properties')"
   ]
  },
  {
   "cell_type": "code",
   "execution_count": null,
   "id": "8e6703ea-321a-47d8-b4c8-9f4013e699df",
   "metadata": {},
   "outputs": [],
   "source": []
  }
 ],
 "metadata": {
  "kernelspec": {
   "display_name": "Python 3 (ipykernel)",
   "language": "python",
   "name": "python3"
  },
  "language_info": {
   "codemirror_mode": {
    "name": "ipython",
    "version": 3
   },
   "file_extension": ".py",
   "mimetype": "text/x-python",
   "name": "python",
   "nbconvert_exporter": "python",
   "pygments_lexer": "ipython3",
   "version": "3.11.7"
  }
 },
 "nbformat": 4,
 "nbformat_minor": 5
}
