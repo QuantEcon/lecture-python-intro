{
 "cells": [
  {
   "cell_type": "code",
   "execution_count": 4,
   "id": "6e52acd7-31fd-45f2-bfa3-ae0b84c4095e",
   "metadata": {},
   "outputs": [
    {
     "name": "stderr",
     "output_type": "stream",
     "text": [
      "[*********************100%***********************]  1 of 1 completed\n",
      "[*********************100%***********************]  1 of 1 completed\n"
     ]
    }
   ],
   "source": [
    "# Might need to run `pip install --upgrade yfinance` first\n",
    "import yfinance as yf\n",
    "\n",
    "# Download the data for AMZN\n",
    "Amazon_data = yf.download('AMZN', start='2015-01-01', end='2022-07-01')\n",
    "Bitcoin_data = yf.download('BTC-USD', '2015-1-1', '2022-7-1')\n",
    "\n",
    "Amazon_data.to_csv('lectures/datasets/Amazon_data.csv')\n",
    "Bitcoin_data.to_csv('lectures/datasets/Bitcoin_data.csv')"
   ]
  }
 ],
 "metadata": {
  "kernelspec": {
   "display_name": "Python 3 (ipykernel)",
   "language": "python",
   "name": "python3"
  },
  "language_info": {
   "codemirror_mode": {
    "name": "ipython",
    "version": 3
   },
   "file_extension": ".py",
   "mimetype": "text/x-python",
   "name": "python",
   "nbconvert_exporter": "python",
   "pygments_lexer": "ipython3",
   "version": "3.11.7"
  }
 },
 "nbformat": 4,
 "nbformat_minor": 5
}
